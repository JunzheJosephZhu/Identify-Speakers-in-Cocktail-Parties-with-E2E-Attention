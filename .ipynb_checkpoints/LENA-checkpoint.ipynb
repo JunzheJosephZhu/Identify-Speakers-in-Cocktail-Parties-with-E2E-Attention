{
 "cells": [
  {
   "cell_type": "code",
   "execution_count": 46,
   "metadata": {},
   "outputs": [],
   "source": [
    "from bs4 import BeautifulSoup\n",
    "import glob\n",
    "from tqdm.notebook import tqdm\n",
    "import matplotlib.pyplot as plt"
   ]
  },
  {
   "cell_type": "code",
   "execution_count": 71,
   "metadata": {},
   "outputs": [
    {
     "data": {
      "text/plain": [
       "'55 files'"
      ]
     },
     "execution_count": 71,
     "metadata": {},
     "output_type": "execute_result"
    }
   ],
   "source": [
    "trsfiles = glob.glob('**/*.trs', recursive = True)\n",
    "str(len(trsfiles))+' files'"
   ]
  },
  {
   "cell_type": "code",
   "execution_count": 40,
   "metadata": {},
   "outputs": [
    {
     "name": "stderr",
     "output_type": "stream",
     "text": [
      "Widget Javascript not detected.  It may not be installed or enabled properly.\n"
     ]
    },
    {
     "data": {
      "application/vnd.jupyter.widget-view+json": {
       "model_id": "2bc0b98dadd142a786012eaad6c08441"
      }
     },
     "metadata": {},
     "output_type": "display_data"
    },
    {
     "name": "stdout",
     "output_type": "stream",
     "text": [
      "\n"
     ]
    }
   ],
   "source": [
    "name2time = {}\n",
    "for trsfile in tqdm(trsfiles):\n",
    "    with open(trsfile) as file:\n",
    "        soup = BeautifulSoup(file, 'html.parser')\n",
    "    id2name = {}\n",
    "    for line in soup.find_all('speaker'):\n",
    "        id2name[line['id']] = line['name']\n",
    "        if line['name'] not in name2time:\n",
    "            name2time[line['name']] = 0\n",
    "    segs = soup.find_all('turn')\n",
    "    for seg in segs:\n",
    "        name = id2name[seg['speaker']]\n",
    "        name2time[name]+=float(seg['endtime'])-float(seg['starttime'])"
   ]
  },
  {
   "cell_type": "code",
   "execution_count": 68,
   "metadata": {},
   "outputs": [
    {
     "name": "stdout",
     "output_type": "stream",
     "text": [
      "number of hours for each speaker in the TDP, IDP combined\n"
     ]
    },
    {
     "data": {
      "text/plain": [
       "{'TVF': 22.511008333333915,\n",
       " 'FAN': 58.80108611111486,\n",
       " 'OLN': 96.46414722217402,\n",
       " 'SIL': 152.73686944440007,\n",
       " 'CXF': 6.582441666666549,\n",
       " 'NOF': 183.44851944448646,\n",
       " 'OLF': 47.531761111101595,\n",
       " 'CHF': 3.019255555555501,\n",
       " 'MAF': 17.648294444444662,\n",
       " 'NON': 54.4219805555471,\n",
       " 'TVN': 36.96501388888923,\n",
       " 'CXN': 37.31935555556113,\n",
       " 'CHN': 53.02574722224921,\n",
       " 'MAN': 26.232994444444703,\n",
       " 'FAF': 14.802772222222622}"
      ]
     },
     "execution_count": 68,
     "metadata": {},
     "output_type": "execute_result"
    }
   ],
   "source": [
    "name2hrs = {}\n",
    "for name in name2time:\n",
    "    name2hrs[name] = name2time[name]/3600\n",
    "print('number of hours for each speaker in the TDP, IDP combined')\n",
    "name2hrs"
   ]
  },
  {
   "cell_type": "code",
   "execution_count": 69,
   "metadata": {},
   "outputs": [
    {
     "data": {
      "text/plain": [
       "Text(0.5, 1.0, 'the above data plotted out')"
      ]
     },
     "execution_count": 69,
     "metadata": {},
     "output_type": "execute_result"
    },
    {
     "data": {
      "image/png": "[encoded data removed]",
      "text/plain": [
       "<Figure size 432x288 with 1 Axes>"
      ]
     },
     "metadata": {
      "needs_background": "light"
     },
     "output_type": "display_data"
    }
   ],
   "source": [
    "plt.barh(list(name2time.keys()), list(name2hrs.values()))\n",
    "plt.title('the above data plotted out')"
   ]
  },
  {
   "cell_type": "code",
   "execution_count": null,
   "metadata": {},
   "outputs": [],
   "source": []
  }
 ],
 "metadata": {
  "kernelspec": {
   "display_name": "Python 3",
   "language": "python",
   "name": "python3"
  },
  "language_info": {
   "codemirror_mode": {
    "name": "ipython",
    "version": 3
   },
   "file_extension": ".py",
   "mimetype": "text/x-python",
   "name": "python",
   "nbconvert_exporter": "python",
   "pygments_lexer": "ipython3",
   "version": "3.6.9"
  }
 },
 "nbformat": 4,
 "nbformat_minor": 4
}
