{
 "cells": [
  {
   "cell_type": "code",
   "execution_count": 1,
   "metadata": {},
   "outputs": [],
   "source": [
    "import IPython.display as ipd\n",
    "import matplotlib.pyplot as plt\n",
    "import numpy as np\n",
    "import torch\n",
    "import torch.nn as nn\n",
    "import time\n",
    "import glob\n",
    "from lxml.html import parse\n",
    "from sphfile import SPHFile\n",
    "import pydub\n",
    "import audiosegment\n",
    "import pandas as pd\n",
    "from collections import Counter\n",
    "from bs4 import BeautifulSoup\n",
    "import sys"
   ]
  },
  {
   "cell_type": "code",
   "execution_count": 2,
   "metadata": {},
   "outputs": [],
   "source": [
    "start_df = pd.read_csv('trainfiles/start.csv')\n",
    "end_df = pd.read_csv('trainfiles/end.csv')"
   ]
  },
  {
   "cell_type": "code",
   "execution_count": 3,
   "metadata": {},
   "outputs": [],
   "source": [
    "segments_df = start_df.append(end_df)\n",
    "speakers = Counter(segments_df['speaker'])\n",
    "common_speakers = speakers.most_common(20)\n",
    "segments_by_speakers = {speaker:segments_df[segments_df['speaker']==speaker] for speaker, count in common_speakers}\n",
    "segments_by_speakers\n",
    "common_speakers = [common_speaker[0] for common_speaker in common_speakers]"
   ]
  },
  {
   "cell_type": "code",
   "execution_count": 4,
   "metadata": {},
   "outputs": [],
   "source": [
    "overlay = []\n",
    "for first_speaker in common_speakers:\n",
    "    second_speakers = [speaker for speaker in common_speakers if speaker!=first_speaker ]\n",
    "    first_segments = segments_by_speakers[first_speaker]\n",
    "    for second_speaker in second_speakers:\n",
    "        second_segments = segments_by_speakers[second_speaker]\n",
    "        first_idx = np.arange(290)\n",
    "        second_idx = np.arange(290)\n",
    "        np.random.shuffle(first_idx)\n",
    "        np.random.shuffle(second_idx)\n",
    "        for i in range(290):\n",
    "            first_segment = first_segments.iloc[first_idx[i]]\n",
    "            second_segment = second_segments.iloc[second_idx[i]]\n",
    "            row = {'first_speaker': first_speaker, 'second_speaker': second_speaker,\n",
    "                  'first_file': first_segment['segfile'], 'second_file': second_segment['segfile']}\n",
    "            overlay.append(row)\n",
    "overlay = pd.DataFrame(overlay)"
   ]
  },
  {
   "cell_type": "code",
   "execution_count": 6,
   "metadata": {},
   "outputs": [],
   "source": [
    "overlay_shuffled = overlay.sample(frac=1)\n",
    "tenth = int(len(overlay)*0.9)\n",
    "overlay_shuffled[:8*tenth].to_csv('overlay-train.csv')\n",
    "overlay_shuffled[8:tenth:9*tenth].to_csv('overlay-val.csv')\n",
    "overlay_shuffled[9*tenth:].to_csv('overlay-test.csv')"
   ]
  },
  {
   "cell_type": "code",
   "execution_count": null,
   "metadata": {},
   "outputs": [],
   "source": []
  }
 ],
 "metadata": {
  "kernelspec": {
   "display_name": "Python 3",
   "language": "python",
   "name": "python3"
  },
  "language_info": {
   "codemirror_mode": {
    "name": "ipython",
    "version": 3
   },
   "file_extension": ".py",
   "mimetype": "text/x-python",
   "name": "python",
   "nbconvert_exporter": "python",
   "pygments_lexer": "ipython3",
   "version": "3.7.6"
  }
 },
 "nbformat": 4,
 "nbformat_minor": 4
}
