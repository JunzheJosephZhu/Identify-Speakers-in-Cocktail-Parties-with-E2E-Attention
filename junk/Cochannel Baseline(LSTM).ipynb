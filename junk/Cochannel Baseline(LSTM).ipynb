{
 "cells": [
  {
   "cell_type": "code",
   "execution_count": 2,
   "metadata": {},
   "outputs": [],
   "source": [
    "import librosa\n",
    "import IPython.display as ipd\n",
    "import matplotlib.pyplot as plt\n",
    "import numpy as np\n",
    "import torch\n",
    "import torch.nn as nn\n",
    "import time\n",
    "import glob\n",
    "from lxml.html import parse\n",
    "from sphfile import SPHFile\n",
    "import pydub\n",
    "import audiosegment\n",
    "import pandas as pd\n",
    "from collections import Counter\n",
    "from bs4 import BeautifulSoup\n",
    "import sys\n",
    "import os\n",
    "from tqdm.notebook import tqdm\n",
    "class Lambda(nn.Module):\n",
    "    def __init__(self, func):\n",
    "        super().__init__()\n",
    "        self.func = func\n",
    "\n",
    "    def forward(self, x):\n",
    "        return self.func(x)\n",
    "sr = 16000\n",
    "dropout = 0.3\n",
    "half = False"
   ]
  },
  {
   "cell_type": "code",
   "execution_count": 3,
   "metadata": {},
   "outputs": [],
   "source": [
    "device = 3\n",
    "torch.cuda.set_device(device)\n"
   ]
  },
  {
   "cell_type": "code",
   "execution_count": 4,
   "metadata": {},
   "outputs": [
    {
     "name": "stdout",
     "output_type": "stream",
     "text": [
      "['andrea_arsenault', 'brian_lamb', 'csp_waj_susan', 'david_brancaccio', 'eddie_mair', 'joie_chen', 'kathleen_kennedy', 'leon_harris', 'linda_wertheimer', 'linden_soles', 'lisa_mullins', 'lou_waters', 'lynn_vaughan', 'mark_mullen', 'natalie_allen', 'noah_adams', 'peter_jennings', 'robert_siegel', 'ted_koppel', 'thalia_assuras']\n"
     ]
    },
    {
     "data": {
      "text/plain": [
       "<Figure size 1440x432 with 0 Axes>"
      ]
     },
     "metadata": {},
     "output_type": "display_data"
    }
   ],
   "source": [
    "class OverlayDataSet(torch.utils.data.Dataset):\n",
    "    def __init__(self, csv, compute_original = False):\n",
    "        super().__init__()\n",
    "        self.overlays = pd.read_csv(csv)\n",
    "        self.speakers = list(set(self.overlays['first_speaker']).union(set(self.overlays['second_speaker'])))\n",
    "        self.speakers.sort()\n",
    "        self.spkr2idx = {spkr:i for i, spkr in enumerate(self.speakers)}\n",
    "        self.compute_original = compute_original\n",
    "    def __len__(self):\n",
    "        return len(self.overlays)\n",
    "    def __getitem__(self, idx):\n",
    "        overlay = self.overlays.iloc[idx]\n",
    "        first_segment = np.load(overlay['first_file'])/(2**15)\n",
    "        second_segment = np.load(overlay['second_file'])/(2**15)\n",
    "        #padding to compensate rounding errors\n",
    "        if len(first_segment)>len(second_segment):\n",
    "            padding = np.zeros(len(first_segment)-len(second_segment))\n",
    "            second_segment = np.concatenate((second_segment, padding))\n",
    "        \n",
    "        if len(first_segment)<len(second_segment):\n",
    "            padding = np.zeros(len(second_segment)-len(first_segment))\n",
    "            first_segment = np.concatenate((first_segment, padding))\n",
    "        \n",
    "        \n",
    "        first_idx  = self.spkr2idx[overlay['first_speaker']]\n",
    "        second_idx = self.spkr2idx[overlay['second_speaker']]\n",
    "        target = np.zeros(len(self.speakers))\n",
    "        target[first_idx] = 1.0\n",
    "        target[second_idx] = 1.0\n",
    "        if self.compute_original:\n",
    "            return self.make_spectrogram(first_segment), self.make_spectrogram(second_segment),\\\n",
    "                self.make_spectrogram(first_segment+second_segment), target\n",
    "        else:\n",
    "            return self.make_spectrogram(first_segment+second_segment), target\n",
    "    def make_spectrogram(self, segment):\n",
    "        segment = segment[50:-50] # make size 200\n",
    "        S = librosa.feature.mfcc(segment, sr=16000, n_mfcc=20, dct_type=2, n_fft = 1024, hop_length = 160)[1:14].T\n",
    "        # 200*13\n",
    "        S1 = np.diff(S)\n",
    "        S2 = np.diff(S1)\n",
    "        S = np.concatenate((S, S1, S2), axis = -1)\n",
    "        return S\n",
    "    \n",
    "trainset = OverlayDataSet('overlay-train.csv', False)\n",
    "valset = OverlayDataSet('overlay-val.csv', False)\n",
    "testset = OverlayDataSet('overlay-test.csv', False)\n",
    "print(trainset.speakers)\n",
    "spec3, target = trainset[0]\n",
    "plt.figure(figsize = (20, 6))\n",
    "if trainset.compute_original:\n",
    "    plt.subplot(131)\n",
    "    plt.imshow(spec1[0].T)\n",
    "    plt.subplot(132)\n",
    "    plt.imshow(spec2[0].T)\n",
    "    plt.subplot(133)\n",
    "    plt.imshow(spec3[0].T)"
   ]
  },
  {
   "cell_type": "markdown",
   "metadata": {},
   "source": [
    "## Maybe try drastically increasing channel number in residual attention stage to see if it overfits"
   ]
  },
  {
   "cell_type": "code",
   "execution_count": 5,
   "metadata": {},
   "outputs": [
    {
     "name": "stdout",
     "output_type": "stream",
     "text": [
      "initializing new model\n"
     ]
    },
    {
     "data": {
      "text/plain": [
       "('bestacc:', 0.0)"
      ]
     },
     "execution_count": 5,
     "metadata": {},
     "output_type": "execute_result"
    }
   ],
   "source": [
    "num_heads_2 = 4 # MHA heads\n",
    "\n",
    "\n",
    "class Baseline(nn.Module):\n",
    "    def __init__(self):\n",
    "        super().__init__()\n",
    "        self.bn = nn.LayerNorm(36)\n",
    "        self.reshape =  Lambda(lambda x: x.permute((1, 0, 2))) # L * batch_size * (num_heads*128)\n",
    "        self.lstm = nn.LSTM(36, 32, 2, batch_first = False, bidirectional = True, dropout = dropout) # L * batch_size * 200 * n_hidden\n",
    "        self.fc1 = nn.Linear(64, 32)\n",
    "        self.average = Lambda(lambda x: x.mean(dim = 0)) # batch * n_hidden\n",
    "        self.tanh = nn.Tanh()\n",
    "        #self.norm = Lambda(lambda x: torch.nn.functional.normalize(x, p = 2, dim = 1)) # L2 normalize across n_hidden\n",
    "        self.fc2 = nn.Linear(32, 20)\n",
    "        self.sigmoid = nn.Sigmoid()\n",
    "    def forward(self, X):\n",
    "        X = self.bn(X)\n",
    "        X = self.reshape(X)\n",
    "        X, _ = self.lstm(X)\n",
    "        X = self.fc1(X)\n",
    "        X = self.average(X)\n",
    "        X = self.tanh(X)\n",
    "        X = self.fc2(X)\n",
    "        X = self.sigmoid(X)\n",
    "        return X\n",
    "    \n",
    "    \n",
    "overnet = Baseline().cuda(device)\n",
    "    \n",
    "# tune hidden layers smaller if overfit\n",
    "optimizer = torch.optim.Adam(overnet.parameters(), 0.001)\n",
    "\n",
    "if os.path.exists('models/lstm.pth'):\n",
    "    print('load model')\n",
    "    checkpoint = torch.load('models/lstm.pth')\n",
    "    overnet.load_state_dict(checkpoint['model_state_dict'])\n",
    "    try:\n",
    "        optimizer.load_state_dict(checkpoint['optimizer_state_dict'])\n",
    "    except:\n",
    "        print('cannot load optimizer')\n",
    "    loss = checkpoint['loss']\n",
    "    if 'bestacc' in checkpoint:\n",
    "        bestacc = checkpoint['bestacc']\n",
    "    else:\n",
    "        bestacc = 0.0\n",
    "else:\n",
    "    print('initializing new model')\n",
    "    bestacc = 0.0\n",
    "    \n",
    "if half:\n",
    "    overnet.half()  # convert to half precision\n",
    "    for layer in overnet.modules():\n",
    "        if isinstance(layer, nn.BatchNorm2d):\n",
    "            layer.float()\n",
    "            \n",
    "overnet.train()\n",
    "'bestacc:', bestacc"
   ]
  },
  {
   "cell_type": "markdown",
   "metadata": {},
   "source": [
    "## Also Do metrics on hitting a single person right"
   ]
  },
  {
   "cell_type": "code",
   "execution_count": 6,
   "metadata": {
    "scrolled": true
   },
   "outputs": [
    {
     "data": {
      "application/vnd.jupyter.widget-view+json": {
       "model_id": "684233d49cc140819d95c347fbed5057",
       "version_major": 2,
       "version_minor": 0
      },
      "text/plain": [
       "HBox(children=(FloatProgress(value=0.0, max=2755.0), HTML(value='')))"
      ]
     },
     "metadata": {},
     "output_type": "display_data"
    },
    {
     "name": "stdout",
     "output_type": "stream",
     "text": [
      "[1,   200] loss: 0.369 accuracy: 0.007\n",
      "[1,   400] loss: 0.325 accuracy: 0.005\n",
      "[1,   600] loss: 0.324 accuracy: 0.007\n",
      "[1,   800] loss: 0.314 accuracy: 0.010\n",
      "[1,  1000] loss: 0.307 accuracy: 0.013\n",
      "[1,  1200] loss: 0.302 accuracy: 0.021\n",
      "[1,  1400] loss: 0.287 accuracy: 0.039\n",
      "[1,  1600] loss: 0.265 accuracy: 0.071\n",
      "[1,  1800] loss: 0.248 accuracy: 0.102\n",
      "[1,  2000] loss: 0.240 accuracy: 0.121\n",
      "[1,  2200] loss: 0.233 accuracy: 0.134\n",
      "[1,  2400] loss: 0.224 accuracy: 0.159\n",
      "[1,  2600] loss: 0.217 accuracy: 0.181\n",
      "\n"
     ]
    },
    {
     "data": {
      "application/vnd.jupyter.widget-view+json": {
       "model_id": "00d7795f898f48d0a7101a48cedf4235",
       "version_major": 2,
       "version_minor": 0
      },
      "text/plain": [
       "HBox(children=(FloatProgress(value=0.0, max=173.0), HTML(value='')))"
      ]
     },
     "metadata": {},
     "output_type": "display_data"
    },
    {
     "name": "stdout",
     "output_type": "stream",
     "text": [
      "\n",
      "val acc: 0.2013611615245009\n"
     ]
    },
    {
     "data": {
      "application/vnd.jupyter.widget-view+json": {
       "model_id": "152f181438b941dfb087cb7e3b869435",
       "version_major": 2,
       "version_minor": 0
      },
      "text/plain": [
       "HBox(children=(FloatProgress(value=0.0, max=2755.0), HTML(value='')))"
      ]
     },
     "metadata": {},
     "output_type": "display_data"
    },
    {
     "name": "stdout",
     "output_type": "stream",
     "text": [
      "[2,   200] loss: 0.208 accuracy: 0.211\n",
      "[2,   400] loss: 0.202 accuracy: 0.221\n",
      "[2,   600] loss: 0.197 accuracy: 0.243\n",
      "[2,   800] loss: 0.194 accuracy: 0.246\n",
      "[2,  1000] loss: 0.190 accuracy: 0.271\n",
      "[2,  1200] loss: 0.187 accuracy: 0.275\n",
      "[2,  1400] loss: 0.185 accuracy: 0.292\n",
      "[2,  1600] loss: 0.180 accuracy: 0.300\n",
      "[2,  1800] loss: 0.177 accuracy: 0.327\n",
      "[2,  2000] loss: 0.174 accuracy: 0.333\n",
      "[2,  2200] loss: 0.173 accuracy: 0.329\n",
      "[2,  2400] loss: 0.169 accuracy: 0.356\n",
      "[2,  2600] loss: 0.167 accuracy: 0.368\n",
      "\n"
     ]
    },
    {
     "data": {
      "application/vnd.jupyter.widget-view+json": {
       "model_id": "9aa8e82dca4147ebb89e0ed1798bf558",
       "version_major": 2,
       "version_minor": 0
      },
      "text/plain": [
       "HBox(children=(FloatProgress(value=0.0, max=173.0), HTML(value='')))"
      ]
     },
     "metadata": {},
     "output_type": "display_data"
    },
    {
     "name": "stdout",
     "output_type": "stream",
     "text": [
      "\n",
      "val acc: 0.37250453720508164\n"
     ]
    },
    {
     "data": {
      "application/vnd.jupyter.widget-view+json": {
       "model_id": "191aa4225c82454087d3c4627ff27350",
       "version_major": 2,
       "version_minor": 0
      },
      "text/plain": [
       "HBox(children=(FloatProgress(value=0.0, max=2755.0), HTML(value='')))"
      ]
     },
     "metadata": {},
     "output_type": "display_data"
    },
    {
     "name": "stdout",
     "output_type": "stream",
     "text": [
      "[3,   200] loss: 0.161 accuracy: 0.376\n",
      "[3,   400] loss: 0.160 accuracy: 0.382\n",
      "[3,   600] loss: 0.159 accuracy: 0.390\n",
      "[3,   800] loss: 0.156 accuracy: 0.399\n",
      "[3,  1000] loss: 0.154 accuracy: 0.404\n",
      "[3,  1200] loss: 0.151 accuracy: 0.425\n",
      "[3,  1400] loss: 0.149 accuracy: 0.432\n",
      "[3,  1600] loss: 0.149 accuracy: 0.430\n",
      "[3,  1800] loss: 0.148 accuracy: 0.430\n",
      "[3,  2000] loss: 0.145 accuracy: 0.453\n",
      "[3,  2200] loss: 0.144 accuracy: 0.453\n",
      "[3,  2400] loss: 0.142 accuracy: 0.469\n",
      "[3,  2600] loss: 0.141 accuracy: 0.470\n",
      "\n"
     ]
    },
    {
     "data": {
      "application/vnd.jupyter.widget-view+json": {
       "model_id": "8078c68e3f0745bc83a0663d5b371465",
       "version_major": 2,
       "version_minor": 0
      },
      "text/plain": [
       "HBox(children=(FloatProgress(value=0.0, max=173.0), HTML(value='')))"
      ]
     },
     "metadata": {},
     "output_type": "display_data"
    },
    {
     "name": "stdout",
     "output_type": "stream",
     "text": [
      "\n",
      "val acc: 0.46805807622504536\n"
     ]
    },
    {
     "data": {
      "application/vnd.jupyter.widget-view+json": {
       "model_id": "5bb1d8e4252d4e649db21abc1fb165da",
       "version_major": 2,
       "version_minor": 0
      },
      "text/plain": [
       "HBox(children=(FloatProgress(value=0.0, max=2755.0), HTML(value='')))"
      ]
     },
     "metadata": {},
     "output_type": "display_data"
    },
    {
     "name": "stdout",
     "output_type": "stream",
     "text": [
      "[4,   200] loss: 0.138 accuracy: 0.477\n",
      "[4,   400] loss: 0.136 accuracy: 0.487\n",
      "[4,   600] loss: 0.134 accuracy: 0.496\n",
      "[4,   800] loss: 0.135 accuracy: 0.494\n",
      "[4,  1000] loss: 0.132 accuracy: 0.514\n",
      "[4,  1200] loss: 0.132 accuracy: 0.506\n",
      "[4,  1400] loss: 0.130 accuracy: 0.517\n",
      "[4,  1600] loss: 0.129 accuracy: 0.521\n",
      "[4,  1800] loss: 0.130 accuracy: 0.512\n",
      "[4,  2000] loss: 0.129 accuracy: 0.524\n",
      "[4,  2200] loss: 0.127 accuracy: 0.532\n",
      "[4,  2400] loss: 0.126 accuracy: 0.537\n",
      "[4,  2600] loss: 0.123 accuracy: 0.551\n",
      "\n"
     ]
    },
    {
     "data": {
      "application/vnd.jupyter.widget-view+json": {
       "model_id": "c1c8aed4e4b4455e93daf34a337bc236",
       "version_major": 2,
       "version_minor": 0
      },
      "text/plain": [
       "HBox(children=(FloatProgress(value=0.0, max=173.0), HTML(value='')))"
      ]
     },
     "metadata": {},
     "output_type": "display_data"
    },
    {
     "name": "stdout",
     "output_type": "stream",
     "text": [
      "\n",
      "val acc: 0.5484573502722323\n"
     ]
    },
    {
     "data": {
      "application/vnd.jupyter.widget-view+json": {
       "model_id": "70ab7000a0f143e38c134fd7628fd93e",
       "version_major": 2,
       "version_minor": 0
      },
      "text/plain": [
       "HBox(children=(FloatProgress(value=0.0, max=2755.0), HTML(value='')))"
      ]
     },
     "metadata": {},
     "output_type": "display_data"
    },
    {
     "name": "stdout",
     "output_type": "stream",
     "text": [
      "[5,   200] loss: 0.123 accuracy: 0.549\n",
      "[5,   400] loss: 0.120 accuracy: 0.562\n",
      "[5,   600] loss: 0.121 accuracy: 0.560\n",
      "[5,   800] loss: 0.120 accuracy: 0.555\n",
      "[5,  1000] loss: 0.119 accuracy: 0.568\n",
      "[5,  1200] loss: 0.118 accuracy: 0.572\n",
      "[5,  1400] loss: 0.116 accuracy: 0.583\n",
      "[5,  1600] loss: 0.116 accuracy: 0.576\n",
      "[5,  1800] loss: 0.117 accuracy: 0.575\n",
      "[5,  2000] loss: 0.116 accuracy: 0.581\n",
      "[5,  2200] loss: 0.114 accuracy: 0.592\n",
      "[5,  2400] loss: 0.113 accuracy: 0.592\n",
      "[5,  2600] loss: 0.113 accuracy: 0.594\n",
      "\n"
     ]
    },
    {
     "data": {
      "application/vnd.jupyter.widget-view+json": {
       "model_id": "18f9ab52ae8d42caa3e66a932ae5a7fd",
       "version_major": 2,
       "version_minor": 0
      },
      "text/plain": [
       "HBox(children=(FloatProgress(value=0.0, max=173.0), HTML(value='')))"
      ]
     },
     "metadata": {},
     "output_type": "display_data"
    },
    {
     "name": "stdout",
     "output_type": "stream",
     "text": [
      "\n",
      "val acc: 0.5956442831215971\n"
     ]
    },
    {
     "data": {
      "application/vnd.jupyter.widget-view+json": {
       "model_id": "04a6804788af40daa04dd11c9a0b7f01",
       "version_major": 2,
       "version_minor": 0
      },
      "text/plain": [
       "HBox(children=(FloatProgress(value=0.0, max=2755.0), HTML(value='')))"
      ]
     },
     "metadata": {},
     "output_type": "display_data"
    },
    {
     "name": "stdout",
     "output_type": "stream",
     "text": [
      "[6,   200] loss: 0.110 accuracy: 0.604\n",
      "[6,   400] loss: 0.111 accuracy: 0.600\n",
      "[6,   600] loss: 0.108 accuracy: 0.615\n",
      "[6,   800] loss: 0.108 accuracy: 0.615\n",
      "[6,  1000] loss: 0.110 accuracy: 0.602\n",
      "[6,  1200] loss: 0.107 accuracy: 0.622\n",
      "[6,  1400] loss: 0.108 accuracy: 0.606\n",
      "[6,  1600] loss: 0.107 accuracy: 0.618\n",
      "[6,  1800] loss: 0.106 accuracy: 0.622\n",
      "[6,  2000] loss: 0.106 accuracy: 0.618\n",
      "[6,  2200] loss: 0.108 accuracy: 0.610\n",
      "[6,  2400] loss: 0.108 accuracy: 0.611\n",
      "[6,  2600] loss: 0.104 accuracy: 0.624\n",
      "\n"
     ]
    },
    {
     "data": {
      "application/vnd.jupyter.widget-view+json": {
       "model_id": "de95677898d6442694fc06abc78c878b",
       "version_major": 2,
       "version_minor": 0
      },
      "text/plain": [
       "HBox(children=(FloatProgress(value=0.0, max=173.0), HTML(value='')))"
      ]
     },
     "metadata": {},
     "output_type": "display_data"
    },
    {
     "name": "stdout",
     "output_type": "stream",
     "text": [
      "\n",
      "val acc: 0.6263157894736842\n"
     ]
    },
    {
     "data": {
      "application/vnd.jupyter.widget-view+json": {
       "model_id": "1ab8556777d248baabf4d8d2ccb0a36b",
       "version_major": 2,
       "version_minor": 0
      },
      "text/plain": [
       "HBox(children=(FloatProgress(value=0.0, max=2755.0), HTML(value='')))"
      ]
     },
     "metadata": {},
     "output_type": "display_data"
    },
    {
     "name": "stdout",
     "output_type": "stream",
     "text": [
      "[7,   200] loss: 0.100 accuracy: 0.648\n",
      "[7,   400] loss: 0.102 accuracy: 0.639\n",
      "[7,   600] loss: 0.102 accuracy: 0.639\n",
      "[7,   800] loss: 0.104 accuracy: 0.632\n",
      "[7,  1000] loss: 0.102 accuracy: 0.630\n",
      "[7,  1200] loss: 0.101 accuracy: 0.638\n",
      "[7,  1400] loss: 0.101 accuracy: 0.636\n",
      "[7,  1600] loss: 0.104 accuracy: 0.622\n",
      "[7,  1800] loss: 0.100 accuracy: 0.643\n",
      "[7,  2000] loss: 0.099 accuracy: 0.653\n",
      "[7,  2200] loss: 0.101 accuracy: 0.633\n",
      "[7,  2400] loss: 0.101 accuracy: 0.632\n",
      "[7,  2600] loss: 0.099 accuracy: 0.656\n",
      "\n"
     ]
    },
    {
     "data": {
      "application/vnd.jupyter.widget-view+json": {
       "model_id": "21a75a18fc47443a8fbd6f2c9d9358a0",
       "version_major": 2,
       "version_minor": 0
      },
      "text/plain": [
       "HBox(children=(FloatProgress(value=0.0, max=173.0), HTML(value='')))"
      ]
     },
     "metadata": {},
     "output_type": "display_data"
    },
    {
     "name": "stdout",
     "output_type": "stream",
     "text": [
      "\n",
      "val acc: 0.6332123411978221\n"
     ]
    },
    {
     "data": {
      "application/vnd.jupyter.widget-view+json": {
       "model_id": "20f4fcbb34754575bd90740c46f95e59",
       "version_major": 2,
       "version_minor": 0
      },
      "text/plain": [
       "HBox(children=(FloatProgress(value=0.0, max=2755.0), HTML(value='')))"
      ]
     },
     "metadata": {},
     "output_type": "display_data"
    },
    {
     "name": "stdout",
     "output_type": "stream",
     "text": [
      "[8,   200] loss: 0.098 accuracy: 0.656\n",
      "[8,   400] loss: 0.097 accuracy: 0.662\n",
      "[8,   600] loss: 0.095 accuracy: 0.652\n",
      "[8,   800] loss: 0.096 accuracy: 0.654\n",
      "[8,  1000] loss: 0.096 accuracy: 0.666\n",
      "[8,  1200] loss: 0.095 accuracy: 0.661\n",
      "[8,  1400] loss: 0.095 accuracy: 0.667\n",
      "[8,  1600] loss: 0.098 accuracy: 0.657\n",
      "[8,  1800] loss: 0.097 accuracy: 0.658\n",
      "[8,  2000] loss: 0.095 accuracy: 0.668\n",
      "[8,  2200] loss: 0.097 accuracy: 0.658\n",
      "[8,  2400] loss: 0.097 accuracy: 0.660\n",
      "[8,  2600] loss: 0.095 accuracy: 0.664\n",
      "\n"
     ]
    },
    {
     "data": {
      "application/vnd.jupyter.widget-view+json": {
       "model_id": "5ac9f9d48b184a7b86a0c534ea5bd0cd",
       "version_major": 2,
       "version_minor": 0
      },
      "text/plain": [
       "HBox(children=(FloatProgress(value=0.0, max=173.0), HTML(value='')))"
      ]
     },
     "metadata": {},
     "output_type": "display_data"
    },
    {
     "name": "stdout",
     "output_type": "stream",
     "text": [
      "\n",
      "val acc: 0.6561705989110708\n"
     ]
    },
    {
     "data": {
      "application/vnd.jupyter.widget-view+json": {
       "model_id": "cf85878eeab6425e905af335bf0c2268",
       "version_major": 2,
       "version_minor": 0
      },
      "text/plain": [
       "HBox(children=(FloatProgress(value=0.0, max=2755.0), HTML(value='')))"
      ]
     },
     "metadata": {},
     "output_type": "display_data"
    },
    {
     "name": "stdout",
     "output_type": "stream",
     "text": [
      "[9,   200] loss: 0.093 accuracy: 0.670\n",
      "[9,   400] loss: 0.091 accuracy: 0.675\n",
      "[9,   600] loss: 0.092 accuracy: 0.676\n",
      "[9,   800] loss: 0.093 accuracy: 0.677\n",
      "[9,  1000] loss: 0.092 accuracy: 0.672\n",
      "[9,  1200] loss: 0.090 accuracy: 0.678\n",
      "[9,  1400] loss: 0.093 accuracy: 0.673\n",
      "[9,  1600] loss: 0.092 accuracy: 0.677\n",
      "[9,  1800] loss: 0.090 accuracy: 0.685\n",
      "[9,  2000] loss: 0.092 accuracy: 0.675\n",
      "[9,  2200] loss: 0.093 accuracy: 0.674\n",
      "[9,  2400] loss: 0.090 accuracy: 0.678\n",
      "[9,  2600] loss: 0.092 accuracy: 0.674\n",
      "\n"
     ]
    },
    {
     "data": {
      "application/vnd.jupyter.widget-view+json": {
       "model_id": "1090f7740dc145669c9cc60532069322",
       "version_major": 2,
       "version_minor": 0
      },
      "text/plain": [
       "HBox(children=(FloatProgress(value=0.0, max=173.0), HTML(value='')))"
      ]
     },
     "metadata": {},
     "output_type": "display_data"
    },
    {
     "name": "stdout",
     "output_type": "stream",
     "text": [
      "\n",
      "val acc: 0.6742286751361162\n"
     ]
    },
    {
     "data": {
      "application/vnd.jupyter.widget-view+json": {
       "model_id": "237415a1b9d54e8481d67c9f71ea6e60",
       "version_major": 2,
       "version_minor": 0
      },
      "text/plain": [
       "HBox(children=(FloatProgress(value=0.0, max=2755.0), HTML(value='')))"
      ]
     },
     "metadata": {},
     "output_type": "display_data"
    },
    {
     "name": "stdout",
     "output_type": "stream",
     "text": [
      "[10,   200] loss: 0.089 accuracy: 0.683\n",
      "[10,   400] loss: 0.089 accuracy: 0.683\n",
      "[10,   600] loss: 0.092 accuracy: 0.685\n",
      "[10,   800] loss: 0.090 accuracy: 0.680\n",
      "[10,  1000] loss: 0.089 accuracy: 0.683\n",
      "[10,  1200] loss: 0.088 accuracy: 0.693\n",
      "[10,  1400] loss: 0.088 accuracy: 0.696\n",
      "[10,  1600] loss: 0.088 accuracy: 0.688\n",
      "[10,  1800] loss: 0.089 accuracy: 0.688\n",
      "[10,  2000] loss: 0.089 accuracy: 0.688\n",
      "[10,  2200] loss: 0.087 accuracy: 0.696\n",
      "[10,  2400] loss: 0.089 accuracy: 0.688\n",
      "[10,  2600] loss: 0.088 accuracy: 0.690\n",
      "\n"
     ]
    },
    {
     "data": {
      "application/vnd.jupyter.widget-view+json": {
       "model_id": "2f4fbbbe2ce3463a9c2bbad1eb1fa7ef",
       "version_major": 2,
       "version_minor": 0
      },
      "text/plain": [
       "HBox(children=(FloatProgress(value=0.0, max=173.0), HTML(value='')))"
      ]
     },
     "metadata": {},
     "output_type": "display_data"
    },
    {
     "name": "stdout",
     "output_type": "stream",
     "text": [
      "\n",
      "val acc: 0.6764065335753177\n"
     ]
    },
    {
     "data": {
      "application/vnd.jupyter.widget-view+json": {
       "model_id": "e5d5c5c735ed44ebb5ea3e5b42c06842",
       "version_major": 2,
       "version_minor": 0
      },
      "text/plain": [
       "HBox(children=(FloatProgress(value=0.0, max=2755.0), HTML(value='')))"
      ]
     },
     "metadata": {},
     "output_type": "display_data"
    },
    {
     "name": "stdout",
     "output_type": "stream",
     "text": [
      "[11,   200] loss: 0.085 accuracy: 0.707\n",
      "[11,   400] loss: 0.087 accuracy: 0.700\n",
      "[11,   600] loss: 0.086 accuracy: 0.699\n",
      "[11,   800] loss: 0.087 accuracy: 0.702\n",
      "[11,  1000] loss: 0.086 accuracy: 0.701\n",
      "[11,  1200] loss: 0.086 accuracy: 0.700\n",
      "[11,  1400] loss: 0.086 accuracy: 0.704\n",
      "[11,  1600] loss: 0.086 accuracy: 0.693\n",
      "[11,  1800] loss: 0.086 accuracy: 0.697\n",
      "[11,  2000] loss: 0.086 accuracy: 0.700\n",
      "[11,  2200] loss: 0.086 accuracy: 0.701\n",
      "[11,  2400] loss: 0.087 accuracy: 0.699\n",
      "[11,  2600] loss: 0.086 accuracy: 0.701\n",
      "\n"
     ]
    },
    {
     "data": {
      "application/vnd.jupyter.widget-view+json": {
       "model_id": "4134836fe2a74f38b238fb1a9c7dcc5c",
       "version_major": 2,
       "version_minor": 0
      },
      "text/plain": [
       "HBox(children=(FloatProgress(value=0.0, max=173.0), HTML(value='')))"
      ]
     },
     "metadata": {},
     "output_type": "display_data"
    },
    {
     "name": "stdout",
     "output_type": "stream",
     "text": [
      "\n",
      "val acc: 0.678584392014519\n"
     ]
    },
    {
     "data": {
      "application/vnd.jupyter.widget-view+json": {
       "model_id": "38ed5322838740d195b51f33b39b5974",
       "version_major": 2,
       "version_minor": 0
      },
      "text/plain": [
       "HBox(children=(FloatProgress(value=0.0, max=2755.0), HTML(value='')))"
      ]
     },
     "metadata": {},
     "output_type": "display_data"
    },
    {
     "name": "stdout",
     "output_type": "stream",
     "text": [
      "[12,   200] loss: 0.082 accuracy: 0.723\n",
      "[12,   400] loss: 0.083 accuracy: 0.714\n",
      "[12,   600] loss: 0.084 accuracy: 0.713\n",
      "[12,   800] loss: 0.085 accuracy: 0.705\n",
      "[12,  1000] loss: 0.084 accuracy: 0.711\n",
      "[12,  1200] loss: 0.086 accuracy: 0.695\n",
      "[12,  1400] loss: 0.085 accuracy: 0.704\n",
      "[12,  1600] loss: 0.084 accuracy: 0.705\n",
      "[12,  1800] loss: 0.083 accuracy: 0.702\n",
      "[12,  2000] loss: 0.083 accuracy: 0.711\n",
      "[12,  2200] loss: 0.084 accuracy: 0.710\n",
      "[12,  2400] loss: 0.083 accuracy: 0.718\n",
      "[12,  2600] loss: 0.083 accuracy: 0.715\n",
      "\n"
     ]
    },
    {
     "data": {
      "application/vnd.jupyter.widget-view+json": {
       "model_id": "94e9ae5a276743fd977326cbb98fed94",
       "version_major": 2,
       "version_minor": 0
      },
      "text/plain": [
       "HBox(children=(FloatProgress(value=0.0, max=173.0), HTML(value='')))"
      ]
     },
     "metadata": {},
     "output_type": "display_data"
    },
    {
     "name": "stdout",
     "output_type": "stream",
     "text": [
      "\n",
      "val acc: 0.6936479128856624\n"
     ]
    },
    {
     "data": {
      "application/vnd.jupyter.widget-view+json": {
       "model_id": "61ed5a5faed347e3873d242ee08bea59",
       "version_major": 2,
       "version_minor": 0
      },
      "text/plain": [
       "HBox(children=(FloatProgress(value=0.0, max=2755.0), HTML(value='')))"
      ]
     },
     "metadata": {},
     "output_type": "display_data"
    },
    {
     "name": "stdout",
     "output_type": "stream",
     "text": [
      "[13,   200] loss: 0.082 accuracy: 0.722\n",
      "[13,   400] loss: 0.082 accuracy: 0.717\n",
      "[13,   600] loss: 0.082 accuracy: 0.716\n",
      "[13,   800] loss: 0.083 accuracy: 0.715\n",
      "[13,  1000] loss: 0.082 accuracy: 0.713\n",
      "[13,  1200] loss: 0.080 accuracy: 0.719\n",
      "[13,  1400] loss: 0.084 accuracy: 0.704\n",
      "[13,  1600] loss: 0.080 accuracy: 0.728\n",
      "[13,  1800] loss: 0.082 accuracy: 0.720\n",
      "[13,  2000] loss: 0.080 accuracy: 0.723\n",
      "[13,  2200] loss: 0.082 accuracy: 0.720\n",
      "[13,  2400] loss: 0.082 accuracy: 0.713\n",
      "[13,  2600] loss: 0.081 accuracy: 0.720\n",
      "\n"
     ]
    },
    {
     "data": {
      "application/vnd.jupyter.widget-view+json": {
       "model_id": "0c56a21c1a8b40a09fbda3740c78077f",
       "version_major": 2,
       "version_minor": 0
      },
      "text/plain": [
       "HBox(children=(FloatProgress(value=0.0, max=173.0), HTML(value='')))"
      ]
     },
     "metadata": {},
     "output_type": "display_data"
    },
    {
     "name": "stdout",
     "output_type": "stream",
     "text": [
      "\n",
      "val acc: 0.6906533575317604\n"
     ]
    },
    {
     "data": {
      "application/vnd.jupyter.widget-view+json": {
       "model_id": "ffa34dab7be046aca675d95c9b5547c3",
       "version_major": 2,
       "version_minor": 0
      },
      "text/plain": [
       "HBox(children=(FloatProgress(value=0.0, max=2755.0), HTML(value='')))"
      ]
     },
     "metadata": {},
     "output_type": "display_data"
    },
    {
     "name": "stdout",
     "output_type": "stream",
     "text": [
      "[14,   200] loss: 0.079 accuracy: 0.732\n",
      "[14,   400] loss: 0.080 accuracy: 0.725\n",
      "[14,   600] loss: 0.079 accuracy: 0.731\n",
      "[14,   800] loss: 0.079 accuracy: 0.731\n",
      "[14,  1000] loss: 0.080 accuracy: 0.717\n",
      "[14,  1200] loss: 0.080 accuracy: 0.725\n",
      "[14,  1400] loss: 0.081 accuracy: 0.719\n",
      "[14,  1600] loss: 0.081 accuracy: 0.719\n",
      "[14,  1800] loss: 0.080 accuracy: 0.726\n",
      "[14,  2000] loss: 0.080 accuracy: 0.720\n",
      "[14,  2200] loss: 0.080 accuracy: 0.718\n",
      "[14,  2400] loss: 0.080 accuracy: 0.726\n",
      "[14,  2600] loss: 0.080 accuracy: 0.722\n",
      "\n"
     ]
    },
    {
     "data": {
      "application/vnd.jupyter.widget-view+json": {
       "model_id": "e16f700937044cf3b03d894e0eb31ebc",
       "version_major": 2,
       "version_minor": 0
      },
      "text/plain": [
       "HBox(children=(FloatProgress(value=0.0, max=173.0), HTML(value='')))"
      ]
     },
     "metadata": {},
     "output_type": "display_data"
    },
    {
     "name": "stdout",
     "output_type": "stream",
     "text": [
      "\n",
      "val acc: 0.7030852994555354\n"
     ]
    },
    {
     "data": {
      "application/vnd.jupyter.widget-view+json": {
       "model_id": "b056fe6d87b24c2383ed704982d6c7da",
       "version_major": 2,
       "version_minor": 0
      },
      "text/plain": [
       "HBox(children=(FloatProgress(value=0.0, max=2755.0), HTML(value='')))"
      ]
     },
     "metadata": {},
     "output_type": "display_data"
    },
    {
     "name": "stdout",
     "output_type": "stream",
     "text": [
      "[15,   200] loss: 0.079 accuracy: 0.733\n",
      "[15,   400] loss: 0.081 accuracy: 0.729\n",
      "[15,   600] loss: 0.079 accuracy: 0.731\n",
      "[15,   800] loss: 0.077 accuracy: 0.738\n",
      "[15,  1000] loss: 0.079 accuracy: 0.733\n",
      "[15,  1200] loss: 0.078 accuracy: 0.727\n",
      "[15,  1400] loss: 0.079 accuracy: 0.726\n",
      "[15,  1600] loss: 0.080 accuracy: 0.722\n",
      "[15,  1800] loss: 0.078 accuracy: 0.734\n",
      "[15,  2000] loss: 0.076 accuracy: 0.741\n",
      "[15,  2200] loss: 0.077 accuracy: 0.739\n",
      "[15,  2400] loss: 0.079 accuracy: 0.719\n",
      "[15,  2600] loss: 0.079 accuracy: 0.730\n",
      "\n"
     ]
    },
    {
     "data": {
      "application/vnd.jupyter.widget-view+json": {
       "model_id": "4bf2a15106fc47e78a3d5e6a6e78eb8f",
       "version_major": 2,
       "version_minor": 0
      },
      "text/plain": [
       "HBox(children=(FloatProgress(value=0.0, max=173.0), HTML(value='')))"
      ]
     },
     "metadata": {},
     "output_type": "display_data"
    },
    {
     "name": "stdout",
     "output_type": "stream",
     "text": [
      "\n",
      "val acc: 0.709437386569873\n"
     ]
    },
    {
     "data": {
      "application/vnd.jupyter.widget-view+json": {
       "model_id": "df9eb2203e354fe68ad4d06a0117302d",
       "version_major": 2,
       "version_minor": 0
      },
      "text/plain": [
       "HBox(children=(FloatProgress(value=0.0, max=2755.0), HTML(value='')))"
      ]
     },
     "metadata": {},
     "output_type": "display_data"
    },
    {
     "name": "stdout",
     "output_type": "stream",
     "text": [
      "[16,   200] loss: 0.075 accuracy: 0.740\n",
      "[16,   400] loss: 0.077 accuracy: 0.733\n",
      "[16,   600] loss: 0.076 accuracy: 0.735\n",
      "[16,   800] loss: 0.077 accuracy: 0.730\n",
      "[16,  1000] loss: 0.077 accuracy: 0.737\n",
      "[16,  1200] loss: 0.075 accuracy: 0.740\n",
      "[16,  1400] loss: 0.077 accuracy: 0.739\n",
      "[16,  1600] loss: 0.078 accuracy: 0.740\n",
      "[16,  1800] loss: 0.077 accuracy: 0.738\n",
      "[16,  2000] loss: 0.080 accuracy: 0.720\n",
      "[16,  2200] loss: 0.077 accuracy: 0.733\n",
      "[16,  2400] loss: 0.079 accuracy: 0.725\n",
      "[16,  2600] loss: 0.077 accuracy: 0.734\n",
      "\n"
     ]
    },
    {
     "data": {
      "application/vnd.jupyter.widget-view+json": {
       "model_id": "59fdfa7a186d413eb14b7284933aa263",
       "version_major": 2,
       "version_minor": 0
      },
      "text/plain": [
       "HBox(children=(FloatProgress(value=0.0, max=173.0), HTML(value='')))"
      ]
     },
     "metadata": {},
     "output_type": "display_data"
    },
    {
     "name": "stdout",
     "output_type": "stream",
     "text": [
      "\n",
      "val acc: 0.7081669691470055\n"
     ]
    },
    {
     "data": {
      "application/vnd.jupyter.widget-view+json": {
       "model_id": "d22106e19b364d77b77b9babd153d70a",
       "version_major": 2,
       "version_minor": 0
      },
      "text/plain": [
       "HBox(children=(FloatProgress(value=0.0, max=2755.0), HTML(value='')))"
      ]
     },
     "metadata": {},
     "output_type": "display_data"
    },
    {
     "name": "stdout",
     "output_type": "stream",
     "text": [
      "[17,   200] loss: 0.075 accuracy: 0.742\n",
      "[17,   400] loss: 0.076 accuracy: 0.741\n",
      "[17,   600] loss: 0.076 accuracy: 0.744\n",
      "[17,   800] loss: 0.078 accuracy: 0.727\n",
      "[17,  1000] loss: 0.074 accuracy: 0.748\n",
      "[17,  1200] loss: 0.075 accuracy: 0.738\n",
      "[17,  1400] loss: 0.075 accuracy: 0.743\n",
      "[17,  1600] loss: 0.075 accuracy: 0.749\n",
      "[17,  1800] loss: 0.075 accuracy: 0.745\n",
      "[17,  2000] loss: 0.076 accuracy: 0.748\n",
      "[17,  2200] loss: 0.076 accuracy: 0.741\n",
      "[17,  2400] loss: 0.077 accuracy: 0.732\n",
      "[17,  2600] loss: 0.077 accuracy: 0.738\n",
      "\n"
     ]
    },
    {
     "data": {
      "application/vnd.jupyter.widget-view+json": {
       "model_id": "4a30bb7203e24ebc8fd1b86b4ea83e3e",
       "version_major": 2,
       "version_minor": 0
      },
      "text/plain": [
       "HBox(children=(FloatProgress(value=0.0, max=173.0), HTML(value='')))"
      ]
     },
     "metadata": {},
     "output_type": "display_data"
    },
    {
     "name": "stdout",
     "output_type": "stream",
     "text": [
      "\n",
      "val acc: 0.7137931034482758\n"
     ]
    },
    {
     "data": {
      "application/vnd.jupyter.widget-view+json": {
       "model_id": "c33697adb7104491a00bae913b35244d",
       "version_major": 2,
       "version_minor": 0
      },
      "text/plain": [
       "HBox(children=(FloatProgress(value=0.0, max=2755.0), HTML(value='')))"
      ]
     },
     "metadata": {},
     "output_type": "display_data"
    },
    {
     "name": "stdout",
     "output_type": "stream",
     "text": [
      "[18,   200] loss: 0.072 accuracy: 0.759\n",
      "[18,   400] loss: 0.073 accuracy: 0.750\n",
      "[18,   600] loss: 0.073 accuracy: 0.758\n",
      "[18,   800] loss: 0.076 accuracy: 0.741\n",
      "[18,  1000] loss: 0.073 accuracy: 0.754\n",
      "[18,  1200] loss: 0.075 accuracy: 0.743\n",
      "[18,  1400] loss: 0.075 accuracy: 0.744\n",
      "[18,  1600] loss: 0.076 accuracy: 0.741\n",
      "[18,  1800] loss: 0.074 accuracy: 0.750\n",
      "[18,  2000] loss: 0.074 accuracy: 0.748\n",
      "[18,  2200] loss: 0.074 accuracy: 0.749\n",
      "[18,  2400] loss: 0.076 accuracy: 0.740\n",
      "[18,  2600] loss: 0.078 accuracy: 0.728\n",
      "\n"
     ]
    },
    {
     "data": {
      "application/vnd.jupyter.widget-view+json": {
       "model_id": "62f1d399cdbe4e109b957775363ad4c7",
       "version_major": 2,
       "version_minor": 0
      },
      "text/plain": [
       "HBox(children=(FloatProgress(value=0.0, max=173.0), HTML(value='')))"
      ]
     },
     "metadata": {},
     "output_type": "display_data"
    },
    {
     "name": "stdout",
     "output_type": "stream",
     "text": [
      "\n",
      "val acc: 0.7264065335753176\n"
     ]
    },
    {
     "data": {
      "application/vnd.jupyter.widget-view+json": {
       "model_id": "a15ab43e99ca4d5fab904428ad87a53d",
       "version_major": 2,
       "version_minor": 0
      },
      "text/plain": [
       "HBox(children=(FloatProgress(value=0.0, max=2755.0), HTML(value='')))"
      ]
     },
     "metadata": {},
     "output_type": "display_data"
    },
    {
     "name": "stdout",
     "output_type": "stream",
     "text": [
      "[19,   200] loss: 0.071 accuracy: 0.757\n",
      "[19,   400] loss: 0.072 accuracy: 0.752\n",
      "[19,   600] loss: 0.072 accuracy: 0.753\n",
      "[19,   800] loss: 0.075 accuracy: 0.746\n",
      "[19,  1000] loss: 0.073 accuracy: 0.744\n",
      "[19,  1200] loss: 0.074 accuracy: 0.750\n",
      "[19,  1400] loss: 0.074 accuracy: 0.753\n",
      "[19,  1600] loss: 0.074 accuracy: 0.745\n",
      "[19,  1800] loss: 0.074 accuracy: 0.748\n",
      "[19,  2000] loss: 0.074 accuracy: 0.751\n",
      "[19,  2200] loss: 0.075 accuracy: 0.743\n",
      "[19,  2400] loss: 0.074 accuracy: 0.751\n",
      "[19,  2600] loss: 0.074 accuracy: 0.750\n",
      "\n"
     ]
    },
    {
     "data": {
      "application/vnd.jupyter.widget-view+json": {
       "model_id": "fdbba77cac2742f39ce87f130cafec34",
       "version_major": 2,
       "version_minor": 0
      },
      "text/plain": [
       "HBox(children=(FloatProgress(value=0.0, max=173.0), HTML(value='')))"
      ]
     },
     "metadata": {},
     "output_type": "display_data"
    },
    {
     "name": "stdout",
     "output_type": "stream",
     "text": [
      "\n",
      "val acc: 0.720508166969147\n"
     ]
    },
    {
     "data": {
      "application/vnd.jupyter.widget-view+json": {
       "model_id": "0a7428edde864111aa6b3cb5781bcc92",
       "version_major": 2,
       "version_minor": 0
      },
      "text/plain": [
       "HBox(children=(FloatProgress(value=0.0, max=2755.0), HTML(value='')))"
      ]
     },
     "metadata": {},
     "output_type": "display_data"
    },
    {
     "name": "stdout",
     "output_type": "stream",
     "text": [
      "[20,   200] loss: 0.071 accuracy: 0.765\n",
      "[20,   400] loss: 0.073 accuracy: 0.750\n",
      "[20,   600] loss: 0.071 accuracy: 0.764\n",
      "[20,   800] loss: 0.070 accuracy: 0.760\n",
      "[20,  1000] loss: 0.073 accuracy: 0.753\n",
      "[20,  1200] loss: 0.072 accuracy: 0.758\n",
      "[20,  1400] loss: 0.074 accuracy: 0.748\n",
      "[20,  1600] loss: 0.074 accuracy: 0.754\n",
      "[20,  1800] loss: 0.074 accuracy: 0.750\n",
      "[20,  2000] loss: 0.073 accuracy: 0.755\n",
      "[20,  2200] loss: 0.073 accuracy: 0.742\n",
      "[20,  2400] loss: 0.073 accuracy: 0.746\n",
      "[20,  2600] loss: 0.074 accuracy: 0.746\n",
      "\n"
     ]
    },
    {
     "data": {
      "application/vnd.jupyter.widget-view+json": {
       "model_id": "dc1d4de074ee402ea73df4a57b8251da",
       "version_major": 2,
       "version_minor": 0
      },
      "text/plain": [
       "HBox(children=(FloatProgress(value=0.0, max=173.0), HTML(value='')))"
      ]
     },
     "metadata": {},
     "output_type": "display_data"
    },
    {
     "name": "stdout",
     "output_type": "stream",
     "text": [
      "\n",
      "val acc: 0.7274047186932849\n"
     ]
    },
    {
     "data": {
      "application/vnd.jupyter.widget-view+json": {
       "model_id": "f6666f82be1240349f08883e3afbc4f7",
       "version_major": 2,
       "version_minor": 0
      },
      "text/plain": [
       "HBox(children=(FloatProgress(value=0.0, max=2755.0), HTML(value='')))"
      ]
     },
     "metadata": {},
     "output_type": "display_data"
    },
    {
     "name": "stdout",
     "output_type": "stream",
     "text": [
      "[21,   200] loss: 0.072 accuracy: 0.754\n",
      "[21,   400] loss: 0.071 accuracy: 0.765\n",
      "[21,   600] loss: 0.071 accuracy: 0.757\n",
      "[21,   800] loss: 0.072 accuracy: 0.750\n",
      "[21,  1000] loss: 0.071 accuracy: 0.761\n",
      "[21,  1200] loss: 0.072 accuracy: 0.756\n",
      "[21,  1400] loss: 0.072 accuracy: 0.757\n",
      "[21,  1600] loss: 0.074 accuracy: 0.746\n",
      "[21,  1800] loss: 0.071 accuracy: 0.753\n",
      "[21,  2000] loss: 0.071 accuracy: 0.757\n",
      "[21,  2200] loss: 0.072 accuracy: 0.755\n",
      "[21,  2400] loss: 0.074 accuracy: 0.746\n",
      "[21,  2600] loss: 0.073 accuracy: 0.748\n",
      "\n"
     ]
    },
    {
     "data": {
      "application/vnd.jupyter.widget-view+json": {
       "model_id": "ca7f7cc9466847039570c1249b62e30d",
       "version_major": 2,
       "version_minor": 0
      },
      "text/plain": [
       "HBox(children=(FloatProgress(value=0.0, max=173.0), HTML(value='')))"
      ]
     },
     "metadata": {},
     "output_type": "display_data"
    },
    {
     "name": "stdout",
     "output_type": "stream",
     "text": [
      "\n",
      "val acc: 0.7243194192377496\n"
     ]
    },
    {
     "data": {
      "application/vnd.jupyter.widget-view+json": {
       "model_id": "2b209f42e1e6401b926dbf726ad6586e",
       "version_major": 2,
       "version_minor": 0
      },
      "text/plain": [
       "HBox(children=(FloatProgress(value=0.0, max=2755.0), HTML(value='')))"
      ]
     },
     "metadata": {},
     "output_type": "display_data"
    },
    {
     "name": "stdout",
     "output_type": "stream",
     "text": [
      "[22,   200] loss: 0.070 accuracy: 0.767\n",
      "[22,   400] loss: 0.071 accuracy: 0.758\n",
      "[22,   600] loss: 0.072 accuracy: 0.759\n",
      "[22,   800] loss: 0.070 accuracy: 0.761\n",
      "[22,  1000] loss: 0.070 accuracy: 0.765\n",
      "[22,  1200] loss: 0.070 accuracy: 0.766\n",
      "[22,  1400] loss: 0.073 accuracy: 0.748\n",
      "[22,  1600] loss: 0.070 accuracy: 0.768\n",
      "[22,  1800] loss: 0.070 accuracy: 0.757\n",
      "[22,  2000] loss: 0.071 accuracy: 0.757\n",
      "[22,  2200] loss: 0.070 accuracy: 0.765\n",
      "[22,  2400] loss: 0.072 accuracy: 0.757\n",
      "[22,  2600] loss: 0.072 accuracy: 0.759\n",
      "\n"
     ]
    },
    {
     "data": {
      "application/vnd.jupyter.widget-view+json": {
       "model_id": "1b90cb2bdbe7413493c25a1ea9f96f2a",
       "version_major": 2,
       "version_minor": 0
      },
      "text/plain": [
       "HBox(children=(FloatProgress(value=0.0, max=173.0), HTML(value='')))"
      ]
     },
     "metadata": {},
     "output_type": "display_data"
    },
    {
     "name": "stdout",
     "output_type": "stream",
     "text": [
      "\n",
      "val acc: 0.726497277676951\n"
     ]
    },
    {
     "data": {
      "application/vnd.jupyter.widget-view+json": {
       "model_id": "952fc5d52ba94964a044efbd2c194825",
       "version_major": 2,
       "version_minor": 0
      },
      "text/plain": [
       "HBox(children=(FloatProgress(value=0.0, max=2755.0), HTML(value='')))"
      ]
     },
     "metadata": {},
     "output_type": "display_data"
    },
    {
     "name": "stdout",
     "output_type": "stream",
     "text": [
      "[23,   200] loss: 0.067 accuracy: 0.776\n",
      "[23,   400] loss: 0.070 accuracy: 0.763\n",
      "[23,   600] loss: 0.071 accuracy: 0.763\n",
      "[23,   800] loss: 0.071 accuracy: 0.760\n",
      "[23,  1000] loss: 0.070 accuracy: 0.758\n",
      "[23,  1200] loss: 0.068 accuracy: 0.767\n",
      "[23,  1400] loss: 0.069 accuracy: 0.771\n",
      "[23,  1600] loss: 0.071 accuracy: 0.759\n",
      "[23,  1800] loss: 0.069 accuracy: 0.769\n",
      "[23,  2000] loss: 0.071 accuracy: 0.759\n",
      "[23,  2200] loss: 0.071 accuracy: 0.765\n",
      "[23,  2400] loss: 0.069 accuracy: 0.765\n",
      "[23,  2600] loss: 0.072 accuracy: 0.756\n",
      "\n"
     ]
    },
    {
     "data": {
      "application/vnd.jupyter.widget-view+json": {
       "model_id": "37a10a7ea3064f4f8108c2f3a7882988",
       "version_major": 2,
       "version_minor": 0
      },
      "text/plain": [
       "HBox(children=(FloatProgress(value=0.0, max=173.0), HTML(value='')))"
      ]
     },
     "metadata": {},
     "output_type": "display_data"
    },
    {
     "name": "stdout",
     "output_type": "stream",
     "text": [
      "\n",
      "val acc: 0.7288566243194192\n"
     ]
    },
    {
     "data": {
      "application/vnd.jupyter.widget-view+json": {
       "model_id": "b81608a4c51c4d6dbafeb6ce0e805328",
       "version_major": 2,
       "version_minor": 0
      },
      "text/plain": [
       "HBox(children=(FloatProgress(value=0.0, max=2755.0), HTML(value='')))"
      ]
     },
     "metadata": {},
     "output_type": "display_data"
    },
    {
     "name": "stdout",
     "output_type": "stream",
     "text": [
      "[24,   200] loss: 0.068 accuracy: 0.769\n",
      "[24,   400] loss: 0.070 accuracy: 0.765\n",
      "[24,   600] loss: 0.069 accuracy: 0.767\n",
      "[24,   800] loss: 0.068 accuracy: 0.770\n",
      "[24,  1000] loss: 0.069 accuracy: 0.767\n",
      "[24,  1200] loss: 0.069 accuracy: 0.768\n",
      "[24,  1400] loss: 0.069 accuracy: 0.767\n",
      "[24,  1600] loss: 0.070 accuracy: 0.767\n",
      "[24,  1800] loss: 0.070 accuracy: 0.763\n",
      "[24,  2000] loss: 0.070 accuracy: 0.767\n",
      "[24,  2200] loss: 0.069 accuracy: 0.768\n",
      "[24,  2400] loss: 0.070 accuracy: 0.765\n",
      "[24,  2600] loss: 0.070 accuracy: 0.761\n",
      "\n"
     ]
    },
    {
     "data": {
      "application/vnd.jupyter.widget-view+json": {
       "model_id": "8de94f8e950b4c73815e45734c52b4c3",
       "version_major": 2,
       "version_minor": 0
      },
      "text/plain": [
       "HBox(children=(FloatProgress(value=0.0, max=173.0), HTML(value='')))"
      ]
     },
     "metadata": {},
     "output_type": "display_data"
    },
    {
     "name": "stdout",
     "output_type": "stream",
     "text": [
      "\n",
      "val acc: 0.7274047186932849\n"
     ]
    },
    {
     "data": {
      "application/vnd.jupyter.widget-view+json": {
       "model_id": "5b7a3f9cf2a842669fa577db7536fe1e",
       "version_major": 2,
       "version_minor": 0
      },
      "text/plain": [
       "HBox(children=(FloatProgress(value=0.0, max=2755.0), HTML(value='')))"
      ]
     },
     "metadata": {},
     "output_type": "display_data"
    },
    {
     "name": "stdout",
     "output_type": "stream",
     "text": [
      "[25,   200] loss: 0.067 accuracy: 0.772\n",
      "[25,   400] loss: 0.067 accuracy: 0.773\n",
      "[25,   600] loss: 0.067 accuracy: 0.771\n",
      "[25,   800] loss: 0.067 accuracy: 0.774\n",
      "[25,  1000] loss: 0.068 accuracy: 0.770\n",
      "[25,  1200] loss: 0.070 accuracy: 0.768\n",
      "[25,  1400] loss: 0.068 accuracy: 0.776\n",
      "[25,  1600] loss: 0.070 accuracy: 0.763\n",
      "[25,  1800] loss: 0.070 accuracy: 0.762\n",
      "[25,  2000] loss: 0.068 accuracy: 0.767\n",
      "[25,  2200] loss: 0.069 accuracy: 0.767\n",
      "[25,  2400] loss: 0.070 accuracy: 0.766\n",
      "[25,  2600] loss: 0.070 accuracy: 0.767\n",
      "\n"
     ]
    },
    {
     "data": {
      "application/vnd.jupyter.widget-view+json": {
       "model_id": "6f82b537fa48488fb74f0b2af684b93c",
       "version_major": 2,
       "version_minor": 0
      },
      "text/plain": [
       "HBox(children=(FloatProgress(value=0.0, max=173.0), HTML(value='')))"
      ]
     },
     "metadata": {},
     "output_type": "display_data"
    },
    {
     "name": "stdout",
     "output_type": "stream",
     "text": [
      "\n",
      "val acc: 0.7242286751361161\n"
     ]
    },
    {
     "data": {
      "application/vnd.jupyter.widget-view+json": {
       "model_id": "5c801757ab474515b6e318705e41260d",
       "version_major": 2,
       "version_minor": 0
      },
      "text/plain": [
       "HBox(children=(FloatProgress(value=0.0, max=2755.0), HTML(value='')))"
      ]
     },
     "metadata": {},
     "output_type": "display_data"
    },
    {
     "name": "stdout",
     "output_type": "stream",
     "text": [
      "[26,   200] loss: 0.067 accuracy: 0.776\n",
      "[26,   400] loss: 0.066 accuracy: 0.776\n",
      "[26,   600] loss: 0.068 accuracy: 0.768\n",
      "[26,   800] loss: 0.067 accuracy: 0.778\n",
      "[26,  1000] loss: 0.067 accuracy: 0.774\n",
      "[26,  1200] loss: 0.067 accuracy: 0.773\n",
      "[26,  1400] loss: 0.068 accuracy: 0.775\n",
      "[26,  1600] loss: 0.071 accuracy: 0.755\n",
      "[26,  1800] loss: 0.068 accuracy: 0.765\n",
      "[26,  2000] loss: 0.068 accuracy: 0.766\n",
      "[26,  2200] loss: 0.070 accuracy: 0.764\n",
      "[26,  2400] loss: 0.068 accuracy: 0.773\n",
      "[26,  2600] loss: 0.069 accuracy: 0.764\n",
      "\n"
     ]
    },
    {
     "data": {
      "application/vnd.jupyter.widget-view+json": {
       "model_id": "24a97efb4c5445eb86aad647cead9a52",
       "version_major": 2,
       "version_minor": 0
      },
      "text/plain": [
       "HBox(children=(FloatProgress(value=0.0, max=173.0), HTML(value='')))"
      ]
     },
     "metadata": {},
     "output_type": "display_data"
    },
    {
     "name": "stdout",
     "output_type": "stream",
     "text": [
      "\n",
      "val acc: 0.7274047186932849\n"
     ]
    },
    {
     "data": {
      "application/vnd.jupyter.widget-view+json": {
       "model_id": "23a6649681894975af7f39e620608f59",
       "version_major": 2,
       "version_minor": 0
      },
      "text/plain": [
       "HBox(children=(FloatProgress(value=0.0, max=2755.0), HTML(value='')))"
      ]
     },
     "metadata": {},
     "output_type": "display_data"
    },
    {
     "name": "stdout",
     "output_type": "stream",
     "text": [
      "[27,   200] loss: 0.066 accuracy: 0.779\n",
      "[27,   400] loss: 0.066 accuracy: 0.783\n",
      "[27,   600] loss: 0.067 accuracy: 0.773\n",
      "[27,   800] loss: 0.067 accuracy: 0.773\n",
      "[27,  1000] loss: 0.068 accuracy: 0.779\n",
      "[27,  1200] loss: 0.067 accuracy: 0.780\n",
      "[27,  1400] loss: 0.067 accuracy: 0.772\n",
      "[27,  1600] loss: 0.067 accuracy: 0.775\n",
      "[27,  1800] loss: 0.068 accuracy: 0.771\n",
      "[27,  2000] loss: 0.068 accuracy: 0.772\n",
      "[27,  2200] loss: 0.068 accuracy: 0.765\n",
      "[27,  2400] loss: 0.070 accuracy: 0.763\n",
      "[27,  2600] loss: 0.068 accuracy: 0.773\n",
      "\n"
     ]
    },
    {
     "data": {
      "application/vnd.jupyter.widget-view+json": {
       "model_id": "f55e2f737b5b4f93a79459dde0d0e8a5",
       "version_major": 2,
       "version_minor": 0
      },
      "text/plain": [
       "HBox(children=(FloatProgress(value=0.0, max=173.0), HTML(value='')))"
      ]
     },
     "metadata": {},
     "output_type": "display_data"
    },
    {
     "name": "stdout",
     "output_type": "stream",
     "text": [
      "\n",
      "val acc: 0.732486388384755\n"
     ]
    },
    {
     "data": {
      "application/vnd.jupyter.widget-view+json": {
       "model_id": "90d294878fff4e42ae5b994af0993b68",
       "version_major": 2,
       "version_minor": 0
      },
      "text/plain": [
       "HBox(children=(FloatProgress(value=0.0, max=2755.0), HTML(value='')))"
      ]
     },
     "metadata": {},
     "output_type": "display_data"
    },
    {
     "name": "stdout",
     "output_type": "stream",
     "text": [
      "[28,   200] loss: 0.066 accuracy: 0.775\n",
      "[28,   400] loss: 0.065 accuracy: 0.783\n",
      "[28,   600] loss: 0.067 accuracy: 0.780\n",
      "[28,   800] loss: 0.066 accuracy: 0.777\n",
      "[28,  1000] loss: 0.066 accuracy: 0.780\n",
      "[28,  1200] loss: 0.068 accuracy: 0.771\n",
      "[28,  1400] loss: 0.067 accuracy: 0.771\n",
      "[28,  1600] loss: 0.066 accuracy: 0.779\n",
      "[28,  1800] loss: 0.066 accuracy: 0.779\n",
      "[28,  2000] loss: 0.067 accuracy: 0.778\n",
      "[28,  2200] loss: 0.070 accuracy: 0.761\n",
      "[28,  2400] loss: 0.067 accuracy: 0.770\n",
      "[28,  2600] loss: 0.066 accuracy: 0.776\n",
      "\n"
     ]
    },
    {
     "data": {
      "application/vnd.jupyter.widget-view+json": {
       "model_id": "ebcae150d9af4d9daaeff413bcc98662",
       "version_major": 2,
       "version_minor": 0
      },
      "text/plain": [
       "HBox(children=(FloatProgress(value=0.0, max=173.0), HTML(value='')))"
      ]
     },
     "metadata": {},
     "output_type": "display_data"
    },
    {
     "name": "stdout",
     "output_type": "stream",
     "text": [
      "\n",
      "val acc: 0.7295825771324864\n"
     ]
    },
    {
     "data": {
      "application/vnd.jupyter.widget-view+json": {
       "model_id": "24f313a40507472a9f49a7d23d5495aa",
       "version_major": 2,
       "version_minor": 0
      },
      "text/plain": [
       "HBox(children=(FloatProgress(value=0.0, max=2755.0), HTML(value='')))"
      ]
     },
     "metadata": {},
     "output_type": "display_data"
    },
    {
     "name": "stdout",
     "output_type": "stream",
     "text": [
      "[29,   200] loss: 0.066 accuracy: 0.784\n",
      "[29,   400] loss: 0.064 accuracy: 0.787\n",
      "[29,   600] loss: 0.064 accuracy: 0.786\n",
      "[29,   800] loss: 0.066 accuracy: 0.775\n",
      "[29,  1000] loss: 0.067 accuracy: 0.770\n",
      "[29,  1200] loss: 0.066 accuracy: 0.775\n",
      "[29,  1400] loss: 0.067 accuracy: 0.775\n",
      "[29,  1600] loss: 0.066 accuracy: 0.778\n",
      "[29,  1800] loss: 0.065 accuracy: 0.787\n",
      "[29,  2000] loss: 0.067 accuracy: 0.773\n",
      "[29,  2200] loss: 0.068 accuracy: 0.768\n",
      "[29,  2400] loss: 0.067 accuracy: 0.773\n",
      "[29,  2600] loss: 0.069 accuracy: 0.764\n",
      "\n"
     ]
    },
    {
     "data": {
      "application/vnd.jupyter.widget-view+json": {
       "model_id": "545e6b85402e45e88ff90dbc5859300a",
       "version_major": 2,
       "version_minor": 0
      },
      "text/plain": [
       "HBox(children=(FloatProgress(value=0.0, max=173.0), HTML(value='')))"
      ]
     },
     "metadata": {},
     "output_type": "display_data"
    },
    {
     "name": "stdout",
     "output_type": "stream",
     "text": [
      "\n",
      "val acc: 0.7305807622504538\n"
     ]
    },
    {
     "data": {
      "application/vnd.jupyter.widget-view+json": {
       "model_id": "c72cbe239f08490ea3cb6c4ae74707fe",
       "version_major": 2,
       "version_minor": 0
      },
      "text/plain": [
       "HBox(children=(FloatProgress(value=0.0, max=2755.0), HTML(value='')))"
      ]
     },
     "metadata": {},
     "output_type": "display_data"
    },
    {
     "name": "stdout",
     "output_type": "stream",
     "text": [
      "[30,   200] loss: 0.063 accuracy: 0.789\n",
      "[30,   400] loss: 0.065 accuracy: 0.782\n",
      "[30,   600] loss: 0.065 accuracy: 0.787\n",
      "[30,   800] loss: 0.067 accuracy: 0.770\n",
      "[30,  1000] loss: 0.067 accuracy: 0.777\n",
      "[30,  1200] loss: 0.066 accuracy: 0.789\n",
      "[30,  1400] loss: 0.066 accuracy: 0.775\n",
      "[30,  1600] loss: 0.065 accuracy: 0.781\n",
      "[30,  1800] loss: 0.065 accuracy: 0.781\n",
      "[30,  2000] loss: 0.068 accuracy: 0.764\n",
      "[30,  2200] loss: 0.065 accuracy: 0.781\n",
      "[30,  2400] loss: 0.066 accuracy: 0.776\n",
      "[30,  2600] loss: 0.067 accuracy: 0.771\n",
      "\n"
     ]
    },
    {
     "data": {
      "application/vnd.jupyter.widget-view+json": {
       "model_id": "bb44f7da3367491abdfec5bb7b64061c",
       "version_major": 2,
       "version_minor": 0
      },
      "text/plain": [
       "HBox(children=(FloatProgress(value=0.0, max=173.0), HTML(value='')))"
      ]
     },
     "metadata": {},
     "output_type": "display_data"
    },
    {
     "name": "stdout",
     "output_type": "stream",
     "text": [
      "\n",
      "val acc: 0.7356624319419238\n"
     ]
    },
    {
     "data": {
      "application/vnd.jupyter.widget-view+json": {
       "model_id": "d593160eba64405ea72ba59956324417",
       "version_major": 2,
       "version_minor": 0
      },
      "text/plain": [
       "HBox(children=(FloatProgress(value=0.0, max=2755.0), HTML(value='')))"
      ]
     },
     "metadata": {},
     "output_type": "display_data"
    },
    {
     "name": "stdout",
     "output_type": "stream",
     "text": [
      "[31,   200] loss: 0.063 accuracy: 0.785\n",
      "[31,   400] loss: 0.065 accuracy: 0.782\n",
      "[31,   600] loss: 0.063 accuracy: 0.793\n",
      "[31,   800] loss: 0.066 accuracy: 0.776\n",
      "[31,  1000] loss: 0.065 accuracy: 0.782\n",
      "[31,  1200] loss: 0.067 accuracy: 0.775\n",
      "[31,  1400] loss: 0.065 accuracy: 0.786\n",
      "[31,  1600] loss: 0.068 accuracy: 0.772\n",
      "[31,  1800] loss: 0.066 accuracy: 0.784\n",
      "[31,  2000] loss: 0.065 accuracy: 0.778\n",
      "[31,  2200] loss: 0.065 accuracy: 0.776\n",
      "[31,  2400] loss: 0.065 accuracy: 0.783\n",
      "[31,  2600] loss: 0.065 accuracy: 0.786\n",
      "\n"
     ]
    },
    {
     "data": {
      "application/vnd.jupyter.widget-view+json": {
       "model_id": "0f8056d3d720406dad5531abe0e67ba0",
       "version_major": 2,
       "version_minor": 0
      },
      "text/plain": [
       "HBox(children=(FloatProgress(value=0.0, max=173.0), HTML(value='')))"
      ]
     },
     "metadata": {},
     "output_type": "display_data"
    },
    {
     "name": "stdout",
     "output_type": "stream",
     "text": [
      "\n",
      "val acc: 0.7340290381125227\n"
     ]
    },
    {
     "data": {
      "application/vnd.jupyter.widget-view+json": {
       "model_id": "4aae36e1a8a743ebb64eb1d577100f68",
       "version_major": 2,
       "version_minor": 0
      },
      "text/plain": [
       "HBox(children=(FloatProgress(value=0.0, max=2755.0), HTML(value='')))"
      ]
     },
     "metadata": {},
     "output_type": "display_data"
    },
    {
     "name": "stdout",
     "output_type": "stream",
     "text": [
      "[32,   200] loss: 0.063 accuracy: 0.790\n",
      "[32,   400] loss: 0.063 accuracy: 0.790\n",
      "[32,   600] loss: 0.064 accuracy: 0.794\n",
      "[32,   800] loss: 0.066 accuracy: 0.777\n",
      "[32,  1000] loss: 0.065 accuracy: 0.782\n",
      "[32,  1200] loss: 0.066 accuracy: 0.780\n",
      "[32,  1400] loss: 0.064 accuracy: 0.788\n",
      "[32,  1600] loss: 0.067 accuracy: 0.775\n",
      "[32,  1800] loss: 0.064 accuracy: 0.782\n",
      "[32,  2000] loss: 0.064 accuracy: 0.787\n",
      "[32,  2200] loss: 0.065 accuracy: 0.786\n",
      "[32,  2400] loss: 0.067 accuracy: 0.775\n",
      "[32,  2600] loss: 0.065 accuracy: 0.775\n",
      "\n"
     ]
    },
    {
     "data": {
      "application/vnd.jupyter.widget-view+json": {
       "model_id": "84d071b73cd147b489a3ef849d8ad861",
       "version_major": 2,
       "version_minor": 0
      },
      "text/plain": [
       "HBox(children=(FloatProgress(value=0.0, max=173.0), HTML(value='')))"
      ]
     },
     "metadata": {},
     "output_type": "display_data"
    },
    {
     "name": "stdout",
     "output_type": "stream",
     "text": [
      "\n",
      "val acc: 0.7398366606170599\n"
     ]
    },
    {
     "data": {
      "application/vnd.jupyter.widget-view+json": {
       "model_id": "db65a68c49be4c73aee4a6a7ef5a308f",
       "version_major": 2,
       "version_minor": 0
      },
      "text/plain": [
       "HBox(children=(FloatProgress(value=0.0, max=2755.0), HTML(value='')))"
      ]
     },
     "metadata": {},
     "output_type": "display_data"
    },
    {
     "name": "stdout",
     "output_type": "stream",
     "text": [
      "[33,   200] loss: 0.062 accuracy: 0.798\n",
      "[33,   400] loss: 0.065 accuracy: 0.771\n",
      "[33,   600] loss: 0.062 accuracy: 0.801\n",
      "[33,   800] loss: 0.063 accuracy: 0.791\n",
      "[33,  1000] loss: 0.063 accuracy: 0.791\n",
      "[33,  1200] loss: 0.065 accuracy: 0.777\n",
      "[33,  1400] loss: 0.064 accuracy: 0.789\n",
      "[33,  1600] loss: 0.066 accuracy: 0.775\n",
      "[33,  1800] loss: 0.065 accuracy: 0.788\n",
      "[33,  2000] loss: 0.065 accuracy: 0.776\n",
      "[33,  2200] loss: 0.064 accuracy: 0.788\n",
      "[33,  2400] loss: 0.068 accuracy: 0.767\n",
      "[33,  2600] loss: 0.065 accuracy: 0.779\n",
      "\n"
     ]
    },
    {
     "data": {
      "application/vnd.jupyter.widget-view+json": {
       "model_id": "e67c327c137b44d892b6b0614a3444d8",
       "version_major": 2,
       "version_minor": 0
      },
      "text/plain": [
       "HBox(children=(FloatProgress(value=0.0, max=173.0), HTML(value='')))"
      ]
     },
     "metadata": {},
     "output_type": "display_data"
    },
    {
     "name": "stdout",
     "output_type": "stream",
     "text": [
      "\n",
      "val acc: 0.7443738656987295\n"
     ]
    },
    {
     "data": {
      "application/vnd.jupyter.widget-view+json": {
       "model_id": "37fbcd3e5c9f490dae484bd15fef0b23",
       "version_major": 2,
       "version_minor": 0
      },
      "text/plain": [
       "HBox(children=(FloatProgress(value=0.0, max=2755.0), HTML(value='')))"
      ]
     },
     "metadata": {},
     "output_type": "display_data"
    },
    {
     "name": "stdout",
     "output_type": "stream",
     "text": [
      "[34,   200] loss: 0.061 accuracy: 0.800\n",
      "[34,   400] loss: 0.063 accuracy: 0.788\n",
      "[34,   600] loss: 0.063 accuracy: 0.790\n",
      "[34,   800] loss: 0.063 accuracy: 0.782\n",
      "[34,  1000] loss: 0.063 accuracy: 0.784\n",
      "[34,  1200] loss: 0.065 accuracy: 0.782\n",
      "[34,  1400] loss: 0.062 accuracy: 0.797\n",
      "[34,  1600] loss: 0.065 accuracy: 0.781\n",
      "[34,  1800] loss: 0.065 accuracy: 0.781\n",
      "[34,  2000] loss: 0.063 accuracy: 0.786\n",
      "[34,  2200] loss: 0.065 accuracy: 0.780\n",
      "[34,  2400] loss: 0.065 accuracy: 0.781\n",
      "[34,  2600] loss: 0.065 accuracy: 0.775\n",
      "\n"
     ]
    },
    {
     "data": {
      "application/vnd.jupyter.widget-view+json": {
       "model_id": "1f6e072d89db4979bc31a58f1b4f7d20",
       "version_major": 2,
       "version_minor": 0
      },
      "text/plain": [
       "HBox(children=(FloatProgress(value=0.0, max=173.0), HTML(value='')))"
      ]
     },
     "metadata": {},
     "output_type": "display_data"
    },
    {
     "name": "stdout",
     "output_type": "stream",
     "text": [
      "\n",
      "val acc: 0.7393829401088929\n"
     ]
    },
    {
     "data": {
      "application/vnd.jupyter.widget-view+json": {
       "model_id": "1c39eeb62a3743379650171e079d418d",
       "version_major": 2,
       "version_minor": 0
      },
      "text/plain": [
       "HBox(children=(FloatProgress(value=0.0, max=2755.0), HTML(value='')))"
      ]
     },
     "metadata": {},
     "output_type": "display_data"
    },
    {
     "name": "stdout",
     "output_type": "stream",
     "text": [
      "[35,   200] loss: 0.061 accuracy: 0.794\n",
      "[35,   400] loss: 0.065 accuracy: 0.786\n",
      "[35,   600] loss: 0.061 accuracy: 0.796\n",
      "[35,   800] loss: 0.064 accuracy: 0.785\n",
      "[35,  1000] loss: 0.062 accuracy: 0.794\n",
      "[35,  1200] loss: 0.064 accuracy: 0.792\n",
      "[35,  1400] loss: 0.063 accuracy: 0.785\n",
      "[35,  1600] loss: 0.062 accuracy: 0.792\n",
      "[35,  1800] loss: 0.064 accuracy: 0.785\n",
      "[35,  2000] loss: 0.063 accuracy: 0.797\n",
      "[35,  2200] loss: 0.064 accuracy: 0.785\n",
      "[35,  2400] loss: 0.063 accuracy: 0.789\n",
      "[35,  2600] loss: 0.066 accuracy: 0.776\n",
      "\n"
     ]
    },
    {
     "data": {
      "application/vnd.jupyter.widget-view+json": {
       "model_id": "3200b65663a84776908613b0f72708c0",
       "version_major": 2,
       "version_minor": 0
      },
      "text/plain": [
       "HBox(children=(FloatProgress(value=0.0, max=173.0), HTML(value='')))"
      ]
     },
     "metadata": {},
     "output_type": "display_data"
    },
    {
     "name": "stdout",
     "output_type": "stream",
     "text": [
      "\n",
      "val acc: 0.7406533575317604\n"
     ]
    },
    {
     "data": {
      "application/vnd.jupyter.widget-view+json": {
       "model_id": "831ad1980ff246f7bf23ceabc7a21277",
       "version_major": 2,
       "version_minor": 0
      },
      "text/plain": [
       "HBox(children=(FloatProgress(value=0.0, max=2755.0), HTML(value='')))"
      ]
     },
     "metadata": {},
     "output_type": "display_data"
    },
    {
     "ename": "KeyboardInterrupt",
     "evalue": "",
     "output_type": "error",
     "traceback": [
      "\u001b[0;31m---------------------------------------------------------------------------\u001b[0m",
      "\u001b[0;31mKeyboardInterrupt\u001b[0m                         Traceback (most recent call last)",
      "\u001b[0;32m<ipython-input-6-5f0afeababca>\u001b[0m in \u001b[0;36m<module>\u001b[0;34m\u001b[0m\n\u001b[1;32m     23\u001b[0m     \u001b[0mrunning_loss\u001b[0m \u001b[0;34m=\u001b[0m \u001b[0;36m0.0\u001b[0m\u001b[0;34m\u001b[0m\u001b[0;34m\u001b[0m\u001b[0m\n\u001b[1;32m     24\u001b[0m     \u001b[0mrunning_accuracy\u001b[0m \u001b[0;34m=\u001b[0m \u001b[0;36m0.0\u001b[0m\u001b[0;34m\u001b[0m\u001b[0;34m\u001b[0m\u001b[0m\n\u001b[0;32m---> 25\u001b[0;31m     \u001b[0;32mfor\u001b[0m \u001b[0mbatch_idx\u001b[0m\u001b[0;34m,\u001b[0m \u001b[0;34m(\u001b[0m\u001b[0mspec\u001b[0m\u001b[0;34m,\u001b[0m \u001b[0mtarget\u001b[0m\u001b[0;34m)\u001b[0m \u001b[0;32min\u001b[0m \u001b[0menumerate\u001b[0m\u001b[0;34m(\u001b[0m\u001b[0mtqdm\u001b[0m\u001b[0;34m(\u001b[0m\u001b[0mtrainloader\u001b[0m\u001b[0;34m)\u001b[0m\u001b[0;34m)\u001b[0m\u001b[0;34m:\u001b[0m\u001b[0;34m\u001b[0m\u001b[0;34m\u001b[0m\u001b[0m\n\u001b[0m\u001b[1;32m     26\u001b[0m         \u001b[0moptimizer\u001b[0m\u001b[0;34m.\u001b[0m\u001b[0mzero_grad\u001b[0m\u001b[0;34m(\u001b[0m\u001b[0;34m)\u001b[0m\u001b[0;34m\u001b[0m\u001b[0;34m\u001b[0m\u001b[0m\n\u001b[1;32m     27\u001b[0m         \u001b[0mspec\u001b[0m\u001b[0;34m,\u001b[0m \u001b[0mtarget\u001b[0m \u001b[0;34m=\u001b[0m \u001b[0mspec\u001b[0m\u001b[0;34m.\u001b[0m\u001b[0mfloat\u001b[0m\u001b[0;34m(\u001b[0m\u001b[0;34m)\u001b[0m\u001b[0;34m,\u001b[0m \u001b[0mtarget\u001b[0m\u001b[0;34m.\u001b[0m\u001b[0mfloat\u001b[0m\u001b[0;34m(\u001b[0m\u001b[0;34m)\u001b[0m\u001b[0;34m\u001b[0m\u001b[0;34m\u001b[0m\u001b[0m\n",
      "\u001b[0;32m~/anaconda3/lib/python3.7/site-packages/tqdm/notebook.py\u001b[0m in \u001b[0;36m__iter__\u001b[0;34m(self, *args, **kwargs)\u001b[0m\n\u001b[1;32m    215\u001b[0m     \u001b[0;32mdef\u001b[0m \u001b[0m__iter__\u001b[0m\u001b[0;34m(\u001b[0m\u001b[0mself\u001b[0m\u001b[0;34m,\u001b[0m \u001b[0;34m*\u001b[0m\u001b[0margs\u001b[0m\u001b[0;34m,\u001b[0m \u001b[0;34m**\u001b[0m\u001b[0mkwargs\u001b[0m\u001b[0;34m)\u001b[0m\u001b[0;34m:\u001b[0m\u001b[0;34m\u001b[0m\u001b[0;34m\u001b[0m\u001b[0m\n\u001b[1;32m    216\u001b[0m         \u001b[0;32mtry\u001b[0m\u001b[0;34m:\u001b[0m\u001b[0;34m\u001b[0m\u001b[0;34m\u001b[0m\u001b[0m\n\u001b[0;32m--> 217\u001b[0;31m             \u001b[0;32mfor\u001b[0m \u001b[0mobj\u001b[0m \u001b[0;32min\u001b[0m \u001b[0msuper\u001b[0m\u001b[0;34m(\u001b[0m\u001b[0mtqdm_notebook\u001b[0m\u001b[0;34m,\u001b[0m \u001b[0mself\u001b[0m\u001b[0;34m)\u001b[0m\u001b[0;34m.\u001b[0m\u001b[0m__iter__\u001b[0m\u001b[0;34m(\u001b[0m\u001b[0;34m*\u001b[0m\u001b[0margs\u001b[0m\u001b[0;34m,\u001b[0m \u001b[0;34m**\u001b[0m\u001b[0mkwargs\u001b[0m\u001b[0;34m)\u001b[0m\u001b[0;34m:\u001b[0m\u001b[0;34m\u001b[0m\u001b[0;34m\u001b[0m\u001b[0m\n\u001b[0m\u001b[1;32m    218\u001b[0m                 \u001b[0;31m# return super(tqdm...) will not catch exception\u001b[0m\u001b[0;34m\u001b[0m\u001b[0;34m\u001b[0m\u001b[0;34m\u001b[0m\u001b[0m\n\u001b[1;32m    219\u001b[0m                 \u001b[0;32myield\u001b[0m \u001b[0mobj\u001b[0m\u001b[0;34m\u001b[0m\u001b[0;34m\u001b[0m\u001b[0m\n",
      "\u001b[0;32m~/anaconda3/lib/python3.7/site-packages/tqdm/std.py\u001b[0m in \u001b[0;36m__iter__\u001b[0;34m(self)\u001b[0m\n\u001b[1;32m   1124\u001b[0m \u001b[0;34m\u001b[0m\u001b[0m\n\u001b[1;32m   1125\u001b[0m                     \u001b[0mself\u001b[0m\u001b[0;34m.\u001b[0m\u001b[0mn\u001b[0m \u001b[0;34m=\u001b[0m \u001b[0mn\u001b[0m\u001b[0;34m\u001b[0m\u001b[0;34m\u001b[0m\u001b[0m\n\u001b[0;32m-> 1126\u001b[0;31m                     \u001b[0mself\u001b[0m\u001b[0;34m.\u001b[0m\u001b[0mrefresh\u001b[0m\u001b[0;34m(\u001b[0m\u001b[0mlock_args\u001b[0m\u001b[0;34m=\u001b[0m\u001b[0mself\u001b[0m\u001b[0;34m.\u001b[0m\u001b[0mlock_args\u001b[0m\u001b[0;34m)\u001b[0m\u001b[0;34m\u001b[0m\u001b[0;34m\u001b[0m\u001b[0m\n\u001b[0m\u001b[1;32m   1127\u001b[0m \u001b[0;34m\u001b[0m\u001b[0m\n\u001b[1;32m   1128\u001b[0m                     \u001b[0;31m# If no `miniters` was specified, adjust automatically\u001b[0m\u001b[0;34m\u001b[0m\u001b[0;34m\u001b[0m\u001b[0;34m\u001b[0m\u001b[0m\n",
      "\u001b[0;32m~/anaconda3/lib/python3.7/site-packages/tqdm/std.py\u001b[0m in \u001b[0;36mrefresh\u001b[0;34m(self, nolock, lock_args)\u001b[0m\n\u001b[1;32m   1312\u001b[0m             \u001b[0;32melse\u001b[0m\u001b[0;34m:\u001b[0m\u001b[0;34m\u001b[0m\u001b[0;34m\u001b[0m\u001b[0m\n\u001b[1;32m   1313\u001b[0m                 \u001b[0mself\u001b[0m\u001b[0;34m.\u001b[0m\u001b[0m_lock\u001b[0m\u001b[0;34m.\u001b[0m\u001b[0macquire\u001b[0m\u001b[0;34m(\u001b[0m\u001b[0;34m)\u001b[0m\u001b[0;34m\u001b[0m\u001b[0;34m\u001b[0m\u001b[0m\n\u001b[0;32m-> 1314\u001b[0;31m         \u001b[0mself\u001b[0m\u001b[0;34m.\u001b[0m\u001b[0mdisplay\u001b[0m\u001b[0;34m(\u001b[0m\u001b[0;34m)\u001b[0m\u001b[0;34m\u001b[0m\u001b[0;34m\u001b[0m\u001b[0m\n\u001b[0m\u001b[1;32m   1315\u001b[0m         \u001b[0;32mif\u001b[0m \u001b[0;32mnot\u001b[0m \u001b[0mnolock\u001b[0m\u001b[0;34m:\u001b[0m\u001b[0;34m\u001b[0m\u001b[0;34m\u001b[0m\u001b[0m\n\u001b[1;32m   1316\u001b[0m             \u001b[0mself\u001b[0m\u001b[0;34m.\u001b[0m\u001b[0m_lock\u001b[0m\u001b[0;34m.\u001b[0m\u001b[0mrelease\u001b[0m\u001b[0;34m(\u001b[0m\u001b[0;34m)\u001b[0m\u001b[0;34m\u001b[0m\u001b[0;34m\u001b[0m\u001b[0m\n",
      "\u001b[0;32m~/anaconda3/lib/python3.7/site-packages/tqdm/notebook.py\u001b[0m in \u001b[0;36mdisplay\u001b[0;34m(self, msg, pos, close, bar_style)\u001b[0m\n\u001b[1;32m    167\u001b[0m             \u001b[0;31m# never clear the bar (signal: msg='')\u001b[0m\u001b[0;34m\u001b[0m\u001b[0;34m\u001b[0m\u001b[0;34m\u001b[0m\u001b[0m\n\u001b[1;32m    168\u001b[0m             \u001b[0;32mif\u001b[0m \u001b[0mright\u001b[0m\u001b[0;34m:\u001b[0m\u001b[0;34m\u001b[0m\u001b[0;34m\u001b[0m\u001b[0m\n\u001b[0;32m--> 169\u001b[0;31m                 \u001b[0mptext\u001b[0m\u001b[0;34m.\u001b[0m\u001b[0mvalue\u001b[0m \u001b[0;34m=\u001b[0m \u001b[0mright\u001b[0m\u001b[0;34m\u001b[0m\u001b[0;34m\u001b[0m\u001b[0m\n\u001b[0m\u001b[1;32m    170\u001b[0m \u001b[0;34m\u001b[0m\u001b[0m\n\u001b[1;32m    171\u001b[0m         \u001b[0;31m# Change bar style\u001b[0m\u001b[0;34m\u001b[0m\u001b[0;34m\u001b[0m\u001b[0;34m\u001b[0m\u001b[0m\n",
      "\u001b[0;32m~/anaconda3/lib/python3.7/site-packages/traitlets/traitlets.py\u001b[0m in \u001b[0;36m__set__\u001b[0;34m(self, obj, value)\u001b[0m\n\u001b[1;32m    583\u001b[0m             \u001b[0;32mraise\u001b[0m \u001b[0mTraitError\u001b[0m\u001b[0;34m(\u001b[0m\u001b[0;34m'The \"%s\" trait is read-only.'\u001b[0m \u001b[0;34m%\u001b[0m \u001b[0mself\u001b[0m\u001b[0;34m.\u001b[0m\u001b[0mname\u001b[0m\u001b[0;34m)\u001b[0m\u001b[0;34m\u001b[0m\u001b[0;34m\u001b[0m\u001b[0m\n\u001b[1;32m    584\u001b[0m         \u001b[0;32melse\u001b[0m\u001b[0;34m:\u001b[0m\u001b[0;34m\u001b[0m\u001b[0;34m\u001b[0m\u001b[0m\n\u001b[0;32m--> 585\u001b[0;31m             \u001b[0mself\u001b[0m\u001b[0;34m.\u001b[0m\u001b[0mset\u001b[0m\u001b[0;34m(\u001b[0m\u001b[0mobj\u001b[0m\u001b[0;34m,\u001b[0m \u001b[0mvalue\u001b[0m\u001b[0;34m)\u001b[0m\u001b[0;34m\u001b[0m\u001b[0;34m\u001b[0m\u001b[0m\n\u001b[0m\u001b[1;32m    586\u001b[0m \u001b[0;34m\u001b[0m\u001b[0m\n\u001b[1;32m    587\u001b[0m     \u001b[0;32mdef\u001b[0m \u001b[0m_validate\u001b[0m\u001b[0;34m(\u001b[0m\u001b[0mself\u001b[0m\u001b[0;34m,\u001b[0m \u001b[0mobj\u001b[0m\u001b[0;34m,\u001b[0m \u001b[0mvalue\u001b[0m\u001b[0;34m)\u001b[0m\u001b[0;34m:\u001b[0m\u001b[0;34m\u001b[0m\u001b[0;34m\u001b[0m\u001b[0m\n",
      "\u001b[0;32m~/anaconda3/lib/python3.7/site-packages/traitlets/traitlets.py\u001b[0m in \u001b[0;36mset\u001b[0;34m(self, obj, value)\u001b[0m\n\u001b[1;32m    572\u001b[0m             \u001b[0;31m# we explicitly compare silent to True just in case the equality\u001b[0m\u001b[0;34m\u001b[0m\u001b[0;34m\u001b[0m\u001b[0;34m\u001b[0m\u001b[0m\n\u001b[1;32m    573\u001b[0m             \u001b[0;31m# comparison above returns something other than True/False\u001b[0m\u001b[0;34m\u001b[0m\u001b[0;34m\u001b[0m\u001b[0;34m\u001b[0m\u001b[0m\n\u001b[0;32m--> 574\u001b[0;31m             \u001b[0mobj\u001b[0m\u001b[0;34m.\u001b[0m\u001b[0m_notify_trait\u001b[0m\u001b[0;34m(\u001b[0m\u001b[0mself\u001b[0m\u001b[0;34m.\u001b[0m\u001b[0mname\u001b[0m\u001b[0;34m,\u001b[0m \u001b[0mold_value\u001b[0m\u001b[0;34m,\u001b[0m \u001b[0mnew_value\u001b[0m\u001b[0;34m)\u001b[0m\u001b[0;34m\u001b[0m\u001b[0;34m\u001b[0m\u001b[0m\n\u001b[0m\u001b[1;32m    575\u001b[0m \u001b[0;34m\u001b[0m\u001b[0m\n\u001b[1;32m    576\u001b[0m     \u001b[0;32mdef\u001b[0m \u001b[0m__set__\u001b[0m\u001b[0;34m(\u001b[0m\u001b[0mself\u001b[0m\u001b[0;34m,\u001b[0m \u001b[0mobj\u001b[0m\u001b[0;34m,\u001b[0m \u001b[0mvalue\u001b[0m\u001b[0;34m)\u001b[0m\u001b[0;34m:\u001b[0m\u001b[0;34m\u001b[0m\u001b[0;34m\u001b[0m\u001b[0m\n",
      "\u001b[0;32m~/anaconda3/lib/python3.7/site-packages/traitlets/traitlets.py\u001b[0m in \u001b[0;36m_notify_trait\u001b[0;34m(self, name, old_value, new_value)\u001b[0m\n\u001b[1;32m   1137\u001b[0m             \u001b[0mnew\u001b[0m\u001b[0;34m=\u001b[0m\u001b[0mnew_value\u001b[0m\u001b[0;34m,\u001b[0m\u001b[0;34m\u001b[0m\u001b[0;34m\u001b[0m\u001b[0m\n\u001b[1;32m   1138\u001b[0m             \u001b[0mowner\u001b[0m\u001b[0;34m=\u001b[0m\u001b[0mself\u001b[0m\u001b[0;34m,\u001b[0m\u001b[0;34m\u001b[0m\u001b[0;34m\u001b[0m\u001b[0m\n\u001b[0;32m-> 1139\u001b[0;31m             \u001b[0mtype\u001b[0m\u001b[0;34m=\u001b[0m\u001b[0;34m'change'\u001b[0m\u001b[0;34m,\u001b[0m\u001b[0;34m\u001b[0m\u001b[0;34m\u001b[0m\u001b[0m\n\u001b[0m\u001b[1;32m   1140\u001b[0m         ))\n\u001b[1;32m   1141\u001b[0m \u001b[0;34m\u001b[0m\u001b[0m\n",
      "\u001b[0;32m~/anaconda3/lib/python3.7/site-packages/ipywidgets/widgets/widget.py\u001b[0m in \u001b[0;36mnotify_change\u001b[0;34m(self, change)\u001b[0m\n\u001b[1;32m    603\u001b[0m             \u001b[0;32mif\u001b[0m \u001b[0mname\u001b[0m \u001b[0;32min\u001b[0m \u001b[0mself\u001b[0m\u001b[0;34m.\u001b[0m\u001b[0mkeys\u001b[0m \u001b[0;32mand\u001b[0m \u001b[0mself\u001b[0m\u001b[0;34m.\u001b[0m\u001b[0m_should_send_property\u001b[0m\u001b[0;34m(\u001b[0m\u001b[0mname\u001b[0m\u001b[0;34m,\u001b[0m \u001b[0mgetattr\u001b[0m\u001b[0;34m(\u001b[0m\u001b[0mself\u001b[0m\u001b[0;34m,\u001b[0m \u001b[0mname\u001b[0m\u001b[0;34m)\u001b[0m\u001b[0;34m)\u001b[0m\u001b[0;34m:\u001b[0m\u001b[0;34m\u001b[0m\u001b[0;34m\u001b[0m\u001b[0m\n\u001b[1;32m    604\u001b[0m                 \u001b[0;31m# Send new state to front-end\u001b[0m\u001b[0;34m\u001b[0m\u001b[0;34m\u001b[0m\u001b[0;34m\u001b[0m\u001b[0m\n\u001b[0;32m--> 605\u001b[0;31m                 \u001b[0mself\u001b[0m\u001b[0;34m.\u001b[0m\u001b[0msend_state\u001b[0m\u001b[0;34m(\u001b[0m\u001b[0mkey\u001b[0m\u001b[0;34m=\u001b[0m\u001b[0mname\u001b[0m\u001b[0;34m)\u001b[0m\u001b[0;34m\u001b[0m\u001b[0;34m\u001b[0m\u001b[0m\n\u001b[0m\u001b[1;32m    606\u001b[0m         \u001b[0msuper\u001b[0m\u001b[0;34m(\u001b[0m\u001b[0mWidget\u001b[0m\u001b[0;34m,\u001b[0m \u001b[0mself\u001b[0m\u001b[0;34m)\u001b[0m\u001b[0;34m.\u001b[0m\u001b[0mnotify_change\u001b[0m\u001b[0;34m(\u001b[0m\u001b[0mchange\u001b[0m\u001b[0;34m)\u001b[0m\u001b[0;34m\u001b[0m\u001b[0;34m\u001b[0m\u001b[0m\n\u001b[1;32m    607\u001b[0m \u001b[0;34m\u001b[0m\u001b[0m\n",
      "\u001b[0;32m~/anaconda3/lib/python3.7/site-packages/ipywidgets/widgets/widget.py\u001b[0m in \u001b[0;36msend_state\u001b[0;34m(self, key)\u001b[0m\n\u001b[1;32m    487\u001b[0m             \u001b[0mstate\u001b[0m\u001b[0;34m,\u001b[0m \u001b[0mbuffer_paths\u001b[0m\u001b[0;34m,\u001b[0m \u001b[0mbuffers\u001b[0m \u001b[0;34m=\u001b[0m \u001b[0m_remove_buffers\u001b[0m\u001b[0;34m(\u001b[0m\u001b[0mstate\u001b[0m\u001b[0;34m)\u001b[0m\u001b[0;34m\u001b[0m\u001b[0;34m\u001b[0m\u001b[0m\n\u001b[1;32m    488\u001b[0m             \u001b[0mmsg\u001b[0m \u001b[0;34m=\u001b[0m \u001b[0;34m{\u001b[0m\u001b[0;34m'method'\u001b[0m\u001b[0;34m:\u001b[0m \u001b[0;34m'update'\u001b[0m\u001b[0;34m,\u001b[0m \u001b[0;34m'state'\u001b[0m\u001b[0;34m:\u001b[0m \u001b[0mstate\u001b[0m\u001b[0;34m,\u001b[0m \u001b[0;34m'buffer_paths'\u001b[0m\u001b[0;34m:\u001b[0m \u001b[0mbuffer_paths\u001b[0m\u001b[0;34m}\u001b[0m\u001b[0;34m\u001b[0m\u001b[0;34m\u001b[0m\u001b[0m\n\u001b[0;32m--> 489\u001b[0;31m             \u001b[0mself\u001b[0m\u001b[0;34m.\u001b[0m\u001b[0m_send\u001b[0m\u001b[0;34m(\u001b[0m\u001b[0mmsg\u001b[0m\u001b[0;34m,\u001b[0m \u001b[0mbuffers\u001b[0m\u001b[0;34m=\u001b[0m\u001b[0mbuffers\u001b[0m\u001b[0;34m)\u001b[0m\u001b[0;34m\u001b[0m\u001b[0;34m\u001b[0m\u001b[0m\n\u001b[0m\u001b[1;32m    490\u001b[0m \u001b[0;34m\u001b[0m\u001b[0m\n\u001b[1;32m    491\u001b[0m \u001b[0;34m\u001b[0m\u001b[0m\n",
      "\u001b[0;32m~/anaconda3/lib/python3.7/site-packages/ipywidgets/widgets/widget.py\u001b[0m in \u001b[0;36m_send\u001b[0;34m(self, msg, buffers)\u001b[0m\n\u001b[1;32m    735\u001b[0m         \u001b[0;34m\"\"\"Sends a message to the model in the front-end.\"\"\"\u001b[0m\u001b[0;34m\u001b[0m\u001b[0;34m\u001b[0m\u001b[0m\n\u001b[1;32m    736\u001b[0m         \u001b[0;32mif\u001b[0m \u001b[0mself\u001b[0m\u001b[0;34m.\u001b[0m\u001b[0mcomm\u001b[0m \u001b[0;32mis\u001b[0m \u001b[0;32mnot\u001b[0m \u001b[0;32mNone\u001b[0m \u001b[0;32mand\u001b[0m \u001b[0mself\u001b[0m\u001b[0;34m.\u001b[0m\u001b[0mcomm\u001b[0m\u001b[0;34m.\u001b[0m\u001b[0mkernel\u001b[0m \u001b[0;32mis\u001b[0m \u001b[0;32mnot\u001b[0m \u001b[0;32mNone\u001b[0m\u001b[0;34m:\u001b[0m\u001b[0;34m\u001b[0m\u001b[0;34m\u001b[0m\u001b[0m\n\u001b[0;32m--> 737\u001b[0;31m             \u001b[0mself\u001b[0m\u001b[0;34m.\u001b[0m\u001b[0mcomm\u001b[0m\u001b[0;34m.\u001b[0m\u001b[0msend\u001b[0m\u001b[0;34m(\u001b[0m\u001b[0mdata\u001b[0m\u001b[0;34m=\u001b[0m\u001b[0mmsg\u001b[0m\u001b[0;34m,\u001b[0m \u001b[0mbuffers\u001b[0m\u001b[0;34m=\u001b[0m\u001b[0mbuffers\u001b[0m\u001b[0;34m)\u001b[0m\u001b[0;34m\u001b[0m\u001b[0;34m\u001b[0m\u001b[0m\n\u001b[0m\u001b[1;32m    738\u001b[0m \u001b[0;34m\u001b[0m\u001b[0m\n\u001b[1;32m    739\u001b[0m     \u001b[0;32mdef\u001b[0m \u001b[0m_repr_keys\u001b[0m\u001b[0;34m(\u001b[0m\u001b[0mself\u001b[0m\u001b[0;34m)\u001b[0m\u001b[0;34m:\u001b[0m\u001b[0;34m\u001b[0m\u001b[0;34m\u001b[0m\u001b[0m\n",
      "\u001b[0;32m~/anaconda3/lib/python3.7/site-packages/ipykernel/comm/comm.py\u001b[0m in \u001b[0;36msend\u001b[0;34m(self, data, metadata, buffers)\u001b[0m\n\u001b[1;32m    121\u001b[0m         \u001b[0;34m\"\"\"Send a message to the frontend-side version of this comm\"\"\"\u001b[0m\u001b[0;34m\u001b[0m\u001b[0;34m\u001b[0m\u001b[0m\n\u001b[1;32m    122\u001b[0m         self._publish_msg('comm_msg',\n\u001b[0;32m--> 123\u001b[0;31m             \u001b[0mdata\u001b[0m\u001b[0;34m=\u001b[0m\u001b[0mdata\u001b[0m\u001b[0;34m,\u001b[0m \u001b[0mmetadata\u001b[0m\u001b[0;34m=\u001b[0m\u001b[0mmetadata\u001b[0m\u001b[0;34m,\u001b[0m \u001b[0mbuffers\u001b[0m\u001b[0;34m=\u001b[0m\u001b[0mbuffers\u001b[0m\u001b[0;34m,\u001b[0m\u001b[0;34m\u001b[0m\u001b[0;34m\u001b[0m\u001b[0m\n\u001b[0m\u001b[1;32m    124\u001b[0m         )\n\u001b[1;32m    125\u001b[0m \u001b[0;34m\u001b[0m\u001b[0m\n",
      "\u001b[0;32m~/anaconda3/lib/python3.7/site-packages/ipykernel/comm/comm.py\u001b[0m in \u001b[0;36m_publish_msg\u001b[0;34m(self, msg_type, data, metadata, buffers, **keys)\u001b[0m\n\u001b[1;32m     69\u001b[0m             \u001b[0mparent\u001b[0m\u001b[0;34m=\u001b[0m\u001b[0mself\u001b[0m\u001b[0;34m.\u001b[0m\u001b[0mkernel\u001b[0m\u001b[0;34m.\u001b[0m\u001b[0m_parent_header\u001b[0m\u001b[0;34m,\u001b[0m\u001b[0;34m\u001b[0m\u001b[0;34m\u001b[0m\u001b[0m\n\u001b[1;32m     70\u001b[0m             \u001b[0mident\u001b[0m\u001b[0;34m=\u001b[0m\u001b[0mself\u001b[0m\u001b[0;34m.\u001b[0m\u001b[0mtopic\u001b[0m\u001b[0;34m,\u001b[0m\u001b[0;34m\u001b[0m\u001b[0;34m\u001b[0m\u001b[0m\n\u001b[0;32m---> 71\u001b[0;31m             \u001b[0mbuffers\u001b[0m\u001b[0;34m=\u001b[0m\u001b[0mbuffers\u001b[0m\u001b[0;34m,\u001b[0m\u001b[0;34m\u001b[0m\u001b[0;34m\u001b[0m\u001b[0m\n\u001b[0m\u001b[1;32m     72\u001b[0m         )\n\u001b[1;32m     73\u001b[0m \u001b[0;34m\u001b[0m\u001b[0m\n",
      "\u001b[0;32m~/anaconda3/lib/python3.7/site-packages/jupyter_client/session.py\u001b[0m in \u001b[0;36msend\u001b[0;34m(self, stream, msg_or_type, content, parent, ident, buffers, track, header, metadata)\u001b[0m\n\u001b[1;32m    737\u001b[0m         \u001b[0mto_send\u001b[0m \u001b[0;34m=\u001b[0m \u001b[0mself\u001b[0m\u001b[0;34m.\u001b[0m\u001b[0mserialize\u001b[0m\u001b[0;34m(\u001b[0m\u001b[0mmsg\u001b[0m\u001b[0;34m,\u001b[0m \u001b[0mident\u001b[0m\u001b[0;34m)\u001b[0m\u001b[0;34m\u001b[0m\u001b[0;34m\u001b[0m\u001b[0m\n\u001b[1;32m    738\u001b[0m         \u001b[0mto_send\u001b[0m\u001b[0;34m.\u001b[0m\u001b[0mextend\u001b[0m\u001b[0;34m(\u001b[0m\u001b[0mbuffers\u001b[0m\u001b[0;34m)\u001b[0m\u001b[0;34m\u001b[0m\u001b[0;34m\u001b[0m\u001b[0m\n\u001b[0;32m--> 739\u001b[0;31m         \u001b[0mlongest\u001b[0m \u001b[0;34m=\u001b[0m \u001b[0mmax\u001b[0m\u001b[0;34m(\u001b[0m\u001b[0;34m[\u001b[0m \u001b[0mlen\u001b[0m\u001b[0;34m(\u001b[0m\u001b[0ms\u001b[0m\u001b[0;34m)\u001b[0m \u001b[0;32mfor\u001b[0m \u001b[0ms\u001b[0m \u001b[0;32min\u001b[0m \u001b[0mto_send\u001b[0m \u001b[0;34m]\u001b[0m\u001b[0;34m)\u001b[0m\u001b[0;34m\u001b[0m\u001b[0;34m\u001b[0m\u001b[0m\n\u001b[0m\u001b[1;32m    740\u001b[0m         \u001b[0mcopy\u001b[0m \u001b[0;34m=\u001b[0m \u001b[0;34m(\u001b[0m\u001b[0mlongest\u001b[0m \u001b[0;34m<\u001b[0m \u001b[0mself\u001b[0m\u001b[0;34m.\u001b[0m\u001b[0mcopy_threshold\u001b[0m\u001b[0;34m)\u001b[0m\u001b[0;34m\u001b[0m\u001b[0;34m\u001b[0m\u001b[0m\n\u001b[1;32m    741\u001b[0m \u001b[0;34m\u001b[0m\u001b[0m\n",
      "\u001b[0;31mKeyboardInterrupt\u001b[0m: "
     ]
    }
   ],
   "source": [
    "def find_max2(tensor):\n",
    "    array = tensor.cpu().detach().numpy()\n",
    "    max2 = []\n",
    "    for row in array:\n",
    "        max2.append(np.argsort(row)[::-1][:2])\n",
    "    return np.array(max2)\n",
    "\n",
    "def compute_corrects(tensor1, tensor2):\n",
    "    max_1, max_2 = find_max2(tensor1), find_max2(tensor2)\n",
    "    batch_size = max_1.shape[0]\n",
    "    batch_corrects = 0\n",
    "    for i in range(batch_size):\n",
    "        if Counter(max_1[i])==Counter(max_2[i]):\n",
    "            batch_corrects+=1\n",
    "    return batch_corrects\n",
    "\n",
    "batch_size = 32\n",
    "trainloader = torch.utils.data.DataLoader(trainset, batch_size=batch_size, shuffle=True, pin_memory = True, num_workers = 16)\n",
    "valloader = torch.utils.data.DataLoader(valset, batch_size=64, shuffle=True, pin_memory = True, num_workers = 16)\n",
    "criterion = torch.nn.BCELoss()\n",
    "\n",
    "for epoch in range(64):\n",
    "    running_loss = 0.0\n",
    "    running_accuracy = 0.0\n",
    "    for batch_idx, (spec, target) in enumerate(tqdm(trainloader)):\n",
    "        optimizer.zero_grad()\n",
    "        spec, target = spec.float(), target.float()\n",
    "        if half:\n",
    "            spec, target = spec.half(),target.half()\n",
    "        spec = spec.cuda(device)\n",
    "        target = target.cuda(device)\n",
    "\n",
    "        out = overnet(spec)\n",
    "        loss = criterion(out, target)\n",
    "        loss.backward()\n",
    "        torch.nn.utils.clip_grad_norm_(overnet.parameters(), 0.5)\n",
    "        optimizer.step()\n",
    "                \n",
    "        running_loss += loss.item()\n",
    "        running_accuracy += compute_corrects(out, target)/batch_size\n",
    "        if batch_idx % 200 == 199:    # print every 2000 mini-batches\n",
    "            print('[%d, %5d] loss: %.3f accuracy: %.3f' % \n",
    "                  (epoch + 1, batch_idx + 1, running_loss / 200, running_accuracy / 200))\n",
    "            running_loss = 0.0\n",
    "            running_accuracy = 0.0\n",
    "            torch.save({\n",
    "            'model_state_dict': overnet.state_dict(),\n",
    "            'optimizer_state_dict': optimizer.state_dict(),\n",
    "            'loss': loss\n",
    "            }, 'models/lstm.pth')\n",
    "\n",
    "        \n",
    "        \n",
    "    corrects = 0\n",
    "    for batch_idx, (spec, target) in enumerate(tqdm(valloader)):\n",
    "        spec, target = spec.float(), target.float()\n",
    "        if half:\n",
    "            spec, target = spec.half(), target.half()\n",
    "        spec = spec.cuda(device)\n",
    "        target = target.cuda(device)\n",
    "        overnet.eval()\n",
    "        out = overnet(spec) \n",
    "        corrects += compute_corrects(out, target)\n",
    "    print('val acc:', corrects/len(valset))\n",
    "    if corrects/len(valset) > bestacc:\n",
    "        bestacc = corrects/len(valset)\n",
    "        torch.save({\n",
    "        'model_state_dict': overnet.state_dict(),\n",
    "        'optimizer_state_dict': optimizer.state_dict(),\n",
    "        'loss': loss,\n",
    "        'bestacc': bestacc\n",
    "        }, 'models/best-lstm.pth')\n",
    "    overnet.train()\n",
    "    pass"
   ]
  },
  {
   "cell_type": "code",
   "execution_count": 8,
   "metadata": {},
   "outputs": [
    {
     "data": {
      "application/vnd.jupyter.widget-view+json": {
       "model_id": "a633a85497fc4bca9495c6a98fea166f",
       "version_major": 2,
       "version_minor": 0
      },
      "text/plain": [
       "HBox(children=(FloatProgress(value=0.0, max=173.0), HTML(value='')))"
      ]
     },
     "metadata": {},
     "output_type": "display_data"
    },
    {
     "name": "stdout",
     "output_type": "stream",
     "text": [
      "\n",
      "test acc: 0.7449183303085299\n"
     ]
    }
   ],
   "source": [
    "checkpoint = torch.load('models/best-lstm.pth')\n",
    "overnet.load_state_dict(checkpoint['model_state_dict'])\n",
    "\n",
    "testloader = torch.utils.data.DataLoader(testset, batch_size=64, shuffle=True, pin_memory = True, num_workers = 16)\n",
    "        \n",
    "corrects = 0\n",
    "for batch_idx, (spec, target) in enumerate(tqdm(testloader)):\n",
    "    spec, target = spec.float(), target.float()\n",
    "    if half:\n",
    "        spec, target = spec.half(), target.half()\n",
    "    spec = spec.cuda(device)\n",
    "    target = target.cuda(device)\n",
    "    overnet.eval()\n",
    "    out = overnet(spec) \n",
    "    corrects += compute_corrects(out, target)\n",
    "print('test acc:', corrects/len(testset))\n",
    "overnet.train()\n",
    "pass"
   ]
  },
  {
   "cell_type": "code",
   "execution_count": null,
   "metadata": {},
   "outputs": [],
   "source": []
  }
 ],
 "metadata": {
  "kernelspec": {
   "display_name": "Python 3",
   "language": "python",
   "name": "python3"
  },
  "language_info": {
   "codemirror_mode": {
    "name": "ipython",
    "version": 3
   },
   "file_extension": ".py",
   "mimetype": "text/x-python",
   "name": "python",
   "nbconvert_exporter": "python",
   "pygments_lexer": "ipython3",
   "version": "3.7.6"
  }
 },
 "nbformat": 4,
 "nbformat_minor": 4
}
