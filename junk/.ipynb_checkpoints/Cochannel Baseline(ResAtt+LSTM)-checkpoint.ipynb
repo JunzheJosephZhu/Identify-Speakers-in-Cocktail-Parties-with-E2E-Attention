{
 "cells": [
  {
   "cell_type": "code",
   "execution_count": 1,
   "metadata": {},
   "outputs": [],
   "source": [
    "import librosa\n",
    "import IPython.display as ipd\n",
    "import matplotlib.pyplot as plt\n",
    "import numpy as np\n",
    "import torch\n",
    "import torch.nn as nn\n",
    "import time\n",
    "import glob\n",
    "from lxml.html import parse\n",
    "from sphfile import SPHFile\n",
    "import pydub\n",
    "import audiosegment\n",
    "import pandas as pd\n",
    "from collections import Counter\n",
    "from bs4 import BeautifulSoup\n",
    "import sys\n",
    "import os\n",
    "from tqdm.notebook import tqdm\n",
    "class Lambda(nn.Module):\n",
    "    def __init__(self, func):\n",
    "        super().__init__()\n",
    "        self.func = func\n",
    "\n",
    "    def forward(self, x):\n",
    "        return self.func(x)\n",
    "sr = 16000\n",
    "dropout = 0.3\n",
    "half = False"
   ]
  },
  {
   "cell_type": "code",
   "execution_count": 2,
   "metadata": {},
   "outputs": [],
   "source": [
    "device = 3\n",
    "torch.cuda.set_device(device)"
   ]
  },
  {
   "cell_type": "code",
   "execution_count": 3,
   "metadata": {},
   "outputs": [
    {
     "name": "stdout",
     "output_type": "stream",
     "text": [
      "27.971525 -52.028473 (1, 200, 256)\n",
      "['andrea_arsenault', 'brian_lamb', 'csp_waj_susan', 'david_brancaccio', 'eddie_mair', 'joie_chen', 'kathleen_kennedy', 'leon_harris', 'linda_wertheimer', 'linden_soles', 'lisa_mullins', 'lou_waters', 'lynn_vaughan', 'mark_mullen', 'natalie_allen', 'noah_adams', 'peter_jennings', 'robert_siegel', 'ted_koppel', 'thalia_assuras']\n"
     ]
    },
    {
     "data": {
      "text/plain": [
       "<Figure size 1440x432 with 0 Axes>"
      ]
     },
     "metadata": {},
     "output_type": "display_data"
    }
   ],
   "source": [
    "class OverlayDataSet(torch.utils.data.Dataset):\n",
    "    def __init__(self, csv, compute_original = False):\n",
    "        super().__init__()\n",
    "        self.overlays = pd.read_csv(csv)\n",
    "        self.speakers = list(set(self.overlays['first_speaker']).union(set(self.overlays['second_speaker'])))\n",
    "        self.speakers.sort()\n",
    "        self.spkr2idx = {spkr:i for i, spkr in enumerate(self.speakers)}\n",
    "        self.compute_original = compute_original\n",
    "    def __len__(self):\n",
    "        return len(self.overlays)\n",
    "    def __getitem__(self, idx):\n",
    "        overlay = self.overlays.iloc[idx]\n",
    "        first_segment = np.load(overlay['first_file'])/(2**15)\n",
    "        second_segment = np.load(overlay['second_file'])/(2**15)\n",
    "        #padding to compensate rounding errors\n",
    "        if len(first_segment)>len(second_segment):\n",
    "            padding = np.zeros(len(first_segment)-len(second_segment))\n",
    "            second_segment = np.concatenate((second_segment, padding))\n",
    "        \n",
    "        if len(first_segment)<len(second_segment):\n",
    "            padding = np.zeros(len(second_segment)-len(first_segment))\n",
    "            first_segment = np.concatenate((first_segment, padding))\n",
    "        \n",
    "        \n",
    "        first_idx  = self.spkr2idx[overlay['first_speaker']]\n",
    "        second_idx = self.spkr2idx[overlay['second_speaker']]\n",
    "        target = np.zeros(len(self.speakers))\n",
    "        target[first_idx] = 1.0\n",
    "        target[second_idx] = 1.0\n",
    "        if self.compute_original:\n",
    "            return self.make_spectrogram(first_segment), self.make_spectrogram(second_segment),\\\n",
    "                self.make_spectrogram(first_segment+second_segment), target\n",
    "        else:\n",
    "            return self.make_spectrogram(first_segment+second_segment), target\n",
    "    def make_spectrogram(self, segment):\n",
    "        segment = segment[50:-50] # make size 200\n",
    "        S = librosa.feature.melspectrogram(segment, n_mels = 256, n_fft = 1024, hop_length = 160) # 32 ms window, 10 ms hop\n",
    "        S_dB = librosa.power_to_db(S).T[None, :, :] # add channel dimension\n",
    "        return S_dB\n",
    "\n",
    "trainset = OverlayDataSet('overlay-train.csv', False)\n",
    "valset = OverlayDataSet('overlay-val.csv', False)\n",
    "testset = OverlayDataSet('overlay-test.csv', False)\n",
    "spec3, target = trainset[0]\n",
    "plt.figure(figsize = (20, 6))\n",
    "if trainset.compute_original:\n",
    "    plt.subplot(131)\n",
    "    plt.imshow(spec1[0].T)\n",
    "    plt.subplot(132)\n",
    "    plt.imshow(spec2[0].T)\n",
    "    plt.subplot(133)\n",
    "    plt.imshow(spec3[0].T)\n",
    "print(spec3.max(), spec3.min(), spec3.shape)\n",
    "print(trainset.speakers)"
   ]
  },
  {
   "cell_type": "markdown",
   "metadata": {},
   "source": [
    "## Maybe try drastically increasing channel number in residual attention stage to see if it overfits"
   ]
  },
  {
   "cell_type": "code",
   "execution_count": 4,
   "metadata": {},
   "outputs": [
    {
     "name": "stdout",
     "output_type": "stream",
     "text": [
      "initializing new model\n"
     ]
    },
    {
     "data": {
      "text/plain": [
       "('bestacc:', 0.0)"
      ]
     },
     "execution_count": 4,
     "metadata": {},
     "output_type": "execute_result"
    }
   ],
   "source": [
    "# import torch\n",
    "import torch.nn as nn\n",
    "from torch.nn import init\n",
    "import functools\n",
    "from torch.autograd import Variable\n",
    "import numpy as np\n",
    "\n",
    "class ResidualBlock(nn.Module):\n",
    "    def __init__(self, input_channels, output_channels, stride=1):\n",
    "        super(ResidualBlock, self).__init__()\n",
    "        self.input_channels = input_channels\n",
    "        self.output_channels = output_channels\n",
    "        self.stride = stride\n",
    "        self.bn1 = nn.BatchNorm2d(input_channels)\n",
    "        self.relu = nn.ReLU(inplace=True)\n",
    "        self.conv1 = nn.Conv2d(input_channels, output_channels, 1, 1, bias = False)\n",
    "        self.bn2 = nn.BatchNorm2d(output_channels)\n",
    "        self.relu = nn.ReLU(inplace=True)\n",
    "        self.conv2 = nn.Conv2d(output_channels, output_channels, 3, stride, padding = 1, bias = False)\n",
    "        self.bn3 = nn.BatchNorm2d(output_channels)\n",
    "        self.relu = nn.ReLU(inplace=True)\n",
    "        self.conv3 = nn.Conv2d(output_channels, output_channels, 1, 1, bias = False)\n",
    "        self.conv4 = nn.Conv2d(input_channels, output_channels , 1, stride, bias = False)\n",
    "        \n",
    "    def forward(self, x):\n",
    "        residual = x\n",
    "        out = self.bn1(x)\n",
    "        out1 = self.relu(out)\n",
    "        out = self.conv1(out1)\n",
    "        out = self.bn2(out)\n",
    "        out = self.relu(out)\n",
    "        out = self.conv2(out)\n",
    "        out = self.bn3(out)\n",
    "        out = self.relu(out)\n",
    "        out = self.conv3(out)\n",
    "        if (self.input_channels != self.output_channels) or (self.stride !=1 ):\n",
    "            residual = self.conv4(out1)\n",
    "        out += residual\n",
    "        return out\n",
    "\n",
    "class AttentionModule_stage1(nn.Module):\n",
    "    # input size is 56*56\n",
    "    def __init__(self, in_channels, out_channels, size1=(200, 128), size2=(100, 64), size3=(50, 32)):\n",
    "        super(AttentionModule_stage1, self).__init__()\n",
    "        self.first_residual_blocks = ResidualBlock(in_channels, out_channels)\n",
    "\n",
    "        self.trunk_branches = nn.Sequential(\n",
    "            ResidualBlock(in_channels, out_channels),\n",
    "            ResidualBlock(in_channels, out_channels)\n",
    "         )\n",
    "\n",
    "        self.mpool1 = nn.MaxPool2d(kernel_size=3, stride=2, padding=1)\n",
    "\n",
    "        self.softmax1_blocks = ResidualBlock(in_channels, out_channels)\n",
    "\n",
    "        self.skip1_connection_residual_block = ResidualBlock(in_channels, out_channels)\n",
    "\n",
    "        self.mpool2 = nn.MaxPool2d(kernel_size=3, stride=2, padding=1)\n",
    "\n",
    "        self.softmax2_blocks = ResidualBlock(in_channels, out_channels)\n",
    "\n",
    "        self.skip2_connection_residual_block = ResidualBlock(in_channels, out_channels)\n",
    "\n",
    "        self.mpool3 = nn.MaxPool2d(kernel_size=3, stride=2, padding=1)\n",
    "\n",
    "        self.softmax3_blocks = nn.Sequential(\n",
    "            ResidualBlock(in_channels, out_channels),\n",
    "            ResidualBlock(in_channels, out_channels)\n",
    "        )\n",
    "\n",
    "        self.interpolation3 = nn.UpsamplingBilinear2d(size=size3)\n",
    "\n",
    "        self.softmax4_blocks = ResidualBlock(in_channels, out_channels)\n",
    "\n",
    "        self.interpolation2 = nn.UpsamplingBilinear2d(size=size2)\n",
    "\n",
    "        self.softmax5_blocks = ResidualBlock(in_channels, out_channels)\n",
    "\n",
    "        self.interpolation1 = nn.UpsamplingBilinear2d(size=size1)\n",
    "\n",
    "        self.softmax6_blocks = nn.Sequential(\n",
    "            nn.BatchNorm2d(out_channels),\n",
    "            nn.ReLU(inplace=True),\n",
    "            nn.Conv2d(out_channels, out_channels , kernel_size = 1, stride = 1, bias = False),\n",
    "            nn.BatchNorm2d(out_channels),\n",
    "            nn.ReLU(inplace=True),\n",
    "            nn.Conv2d(out_channels, out_channels , kernel_size = 1, stride = 1, bias = False),\n",
    "            nn.Sigmoid()\n",
    "        )\n",
    "\n",
    "        self.last_blocks = ResidualBlock(in_channels, out_channels)\n",
    "\n",
    "    def forward(self, x):\n",
    "        #batch_size, nheads, length, n_mels = x.shape\n",
    "        x = self.first_residual_blocks(x)\n",
    "        out_trunk = self.trunk_branches(x)\n",
    "        out_mpool1 = self.mpool1(x) # 100x64\n",
    "        out_softmax1 = self.softmax1_blocks(out_mpool1)\n",
    "        out_skip1_connection = self.skip1_connection_residual_block(out_softmax1)\n",
    "        out_mpool2 = self.mpool2(out_softmax1) # 50x32\n",
    "        out_softmax2 = self.softmax2_blocks(out_mpool2)\n",
    "        out_skip2_connection = self.skip2_connection_residual_block(out_softmax2)\n",
    "        out_mpool3 = self.mpool3(out_softmax2) # 25x16\n",
    "        out_softmax3 = self.softmax3_blocks(out_mpool3) \n",
    "        out_interp3 = self.interpolation3(out_softmax3) + out_softmax2\n",
    "        out = out_interp3 + out_skip2_connection\n",
    "        out_softmax4 = self.softmax4_blocks(out)\n",
    "        out_interp2 = self.interpolation2(out_softmax4) + out_softmax1\n",
    "        out = out_interp2 + out_skip1_connection\n",
    "        out_softmax5 = self.softmax5_blocks(out)\n",
    "        out_interp1 = self.interpolation1(out_softmax5) + out_trunk\n",
    "        out_softmax6 = self.softmax6_blocks(out_interp1)\n",
    "        out = (1 + out_softmax6) * out_trunk\n",
    "        out_last = self.last_blocks(out)\n",
    "        return out_last\n",
    "\n",
    "num_heads = 8 # Residual Attention Channels\n",
    "num_heads_2 = 4 # MHA heads\n",
    "\n",
    "\n",
    "class OverlayNet(nn.Module):\n",
    "    def __init__(self):\n",
    "        super().__init__()\n",
    "        self.ln = nn.LayerNorm(256)\n",
    "        self.downsample1 = ResidualBlock(1, num_heads, (1, 2))\n",
    "        self.res_att = AttentionModule_stage1(num_heads, num_heads)  # batch_size * num_heads * L *128\n",
    "        self.downsample2 = nn.Sequential(ResidualBlock(num_heads, num_heads//2),\n",
    "                                        ResidualBlock(num_heads//2, 2),\n",
    "                                        ResidualBlock(2, 2, (1, 2)))\n",
    "        self.reshape =  Lambda(lambda x: x.permute((1, 2, 0, 3))) # L * batch_size * (num_heads*128)\n",
    "        self.lstm = nn.LSTM(64, 32, 2, batch_first = False, bidirectional = True, dropout = dropout) # L * batch_size * 200 * n_hidden\n",
    "        self.fc1 = nn.Linear(64, 32)\n",
    "        self.average = Lambda(lambda x: x.mean(dim = 0)) # batch * n_hidden\n",
    "        self.tanh = nn.Tanh()\n",
    "        #self.norm = Lambda(lambda x: torch.nn.functional.normalize(x, p = 2, dim = 1)) # L2 normalize across n_hidden\n",
    "        self.fc2 = nn.Linear(32, 20)\n",
    "        self.softmax = nn.Softmax(1)\n",
    "    def forward(self, X):\n",
    "        X = self.ln(X)\n",
    "        X = self.downsample1(X)\n",
    "        #print('first downsample ', X.shape)\n",
    "        X = self.res_att(X)\n",
    "        #print('residual attention ', X.shape)\n",
    "        X = self.downsample2(X)\n",
    "        #print('second downsample ', X.shape)\n",
    "        X = self.reshape(X)\n",
    "        X1, X2 = X[0], X[1]\n",
    "        X1,_ = self.lstm(X1)\n",
    "        X2,_ = self.lstm(X1)\n",
    "        #print('lstm ', X.shape)\n",
    "        X1 = self.fc1(X1)\n",
    "        X2 = self.fc1(X2)\n",
    "        #print('dense ', X.shape)\n",
    "        X1 = self.average(X1)\n",
    "        X2 = self.average(X2)\n",
    "        #print('mean ', X.shape)\n",
    "        X1 = self.tanh(X1)\n",
    "        X2 = self.tanh(X2)\n",
    "        X1 = self.fc2(X1)\n",
    "        X2 = self.fc2(X2)\n",
    "        X1 = self.softmax(X1)\n",
    "        X2 = self.softmax(X2)\n",
    "        X = torch.stack([X1,X2], dim=0)\n",
    "        X,_ = torch.max(X, dim=0)\n",
    "        return X\n",
    "    \n",
    "    \n",
    "overnet = OverlayNet().cuda(device)\n",
    "    \n",
    "# tune hidden layers smaller if overfit\n",
    "optimizer = torch.optim.Adam(overnet.parameters(), 0.001)\n",
    "\n",
    "if os.path.exists('models/resatt.pth'):\n",
    "    print('load model')\n",
    "    checkpoint = torch.load('models/resatt.pth')\n",
    "    overnet.load_state_dict(checkpoint['model_state_dict'])\n",
    "    try:\n",
    "        optimizer.load_state_dict(checkpoint['optimizer_state_dict'])\n",
    "    except:\n",
    "        print('cannot load optimizer')\n",
    "    loss = checkpoint['loss']\n",
    "    if 'bestacc' in checkpoint:\n",
    "        bestacc = checkpoint['bestacc']\n",
    "    else:\n",
    "        bestacc = 0.0\n",
    "else:\n",
    "    print('initializing new model')\n",
    "    bestacc = 0.0\n",
    "    \n",
    "if half:\n",
    "    overnet.half()  # convert to half precision\n",
    "    for layer in overnet.modules():\n",
    "        if isinstance(layer, nn.BatchNorm2d):\n",
    "            layer.float()\n",
    "            \n",
    "overnet.train()\n",
    "'bestacc:', bestacc"
   ]
  },
  {
   "cell_type": "markdown",
   "metadata": {},
   "source": [
    "## Also Do metrics on hitting a single person right\n",
    "## Theoretical justification that when reducing number of channels, neural network could learn to pair similar spectrum representations with each other: only pitch lines that are greater than a certain threshold will pass relu and become postivie. Batchnorm makes this effect stronger. Therefore, when two channels represent spectrums of different people, when they are added the output will be nothing if it doesn't pass the relu threshold"
   ]
  },
  {
   "cell_type": "code",
   "execution_count": 5,
   "metadata": {
    "scrolled": true
   },
   "outputs": [
    {
     "data": {
      "application/vnd.jupyter.widget-view+json": {
       "model_id": "76d8e65d879349b0b3526bf7bb70e2bb",
       "version_major": 2,
       "version_minor": 0
      },
      "text/plain": [
       "HBox(children=(FloatProgress(value=0.0, max=2755.0), HTML(value='')))"
      ]
     },
     "metadata": {},
     "output_type": "display_data"
    },
    {
     "name": "stdout",
     "output_type": "stream",
     "text": [
      "[1,   200] loss: 0.318 accuracy: 0.015\n",
      "[1,   400] loss: 0.279 accuracy: 0.037\n",
      "[1,   600] loss: 0.250 accuracy: 0.086\n",
      "[1,   800] loss: 0.232 accuracy: 0.119\n",
      "[1,  1000] loss: 0.219 accuracy: 0.154\n",
      "[1,  1200] loss: 0.208 accuracy: 0.183\n",
      "[1,  1400] loss: 0.199 accuracy: 0.204\n",
      "[1,  1600] loss: 0.191 accuracy: 0.231\n",
      "[1,  1800] loss: 0.186 accuracy: 0.253\n",
      "[1,  2000] loss: 0.183 accuracy: 0.261\n",
      "[1,  2200] loss: 0.176 accuracy: 0.291\n",
      "[1,  2400] loss: 0.173 accuracy: 0.302\n",
      "[1,  2600] loss: 0.167 accuracy: 0.329\n",
      "\n"
     ]
    },
    {
     "data": {
      "application/vnd.jupyter.widget-view+json": {
       "model_id": "dabb0024e7d147a68ae41c6226b22996",
       "version_major": 2,
       "version_minor": 0
      },
      "text/plain": [
       "HBox(children=(FloatProgress(value=0.0, max=173.0), HTML(value='')))"
      ]
     },
     "metadata": {},
     "output_type": "display_data"
    },
    {
     "name": "stdout",
     "output_type": "stream",
     "text": [
      "\n",
      "val acc: 0.3547186932849365\n"
     ]
    },
    {
     "data": {
      "application/vnd.jupyter.widget-view+json": {
       "model_id": "834f62aee7754c0fbddc132f18a08dea",
       "version_major": 2,
       "version_minor": 0
      },
      "text/plain": [
       "HBox(children=(FloatProgress(value=0.0, max=2755.0), HTML(value='')))"
      ]
     },
     "metadata": {},
     "output_type": "display_data"
    },
    {
     "name": "stdout",
     "output_type": "stream",
     "text": [
      "[2,   200] loss: 0.159 accuracy: 0.358\n",
      "[2,   400] loss: 0.153 accuracy: 0.386\n",
      "[2,   600] loss: 0.148 accuracy: 0.407\n",
      "[2,   800] loss: 0.146 accuracy: 0.415\n",
      "[2,  1000] loss: 0.140 accuracy: 0.454\n",
      "[2,  1200] loss: 0.136 accuracy: 0.467\n",
      "[2,  1400] loss: 0.133 accuracy: 0.473\n",
      "[2,  1600] loss: 0.129 accuracy: 0.495\n",
      "[2,  1800] loss: 0.128 accuracy: 0.498\n",
      "[2,  2000] loss: 0.123 accuracy: 0.518\n",
      "[2,  2200] loss: 0.120 accuracy: 0.535\n",
      "[2,  2400] loss: 0.117 accuracy: 0.548\n",
      "[2,  2600] loss: 0.114 accuracy: 0.551\n",
      "\n"
     ]
    },
    {
     "data": {
      "application/vnd.jupyter.widget-view+json": {
       "model_id": "6f2c38a428974a4b92422d6a5a47cd7a",
       "version_major": 2,
       "version_minor": 0
      },
      "text/plain": [
       "HBox(children=(FloatProgress(value=0.0, max=173.0), HTML(value='')))"
      ]
     },
     "metadata": {},
     "output_type": "display_data"
    },
    {
     "name": "stdout",
     "output_type": "stream",
     "text": [
      "\n",
      "val acc: 0.5586206896551724\n"
     ]
    },
    {
     "data": {
      "application/vnd.jupyter.widget-view+json": {
       "model_id": "50c3d6e0e32e47dcae9aa2c1894fa81c",
       "version_major": 2,
       "version_minor": 0
      },
      "text/plain": [
       "HBox(children=(FloatProgress(value=0.0, max=2755.0), HTML(value='')))"
      ]
     },
     "metadata": {},
     "output_type": "display_data"
    },
    {
     "name": "stdout",
     "output_type": "stream",
     "text": [
      "[3,   200] loss: 0.109 accuracy: 0.577\n",
      "[3,   400] loss: 0.106 accuracy: 0.602\n",
      "[3,   600] loss: 0.105 accuracy: 0.599\n",
      "[3,   800] loss: 0.106 accuracy: 0.602\n",
      "[3,  1000] loss: 0.102 accuracy: 0.612\n",
      "[3,  1200] loss: 0.100 accuracy: 0.624\n",
      "[3,  1400] loss: 0.099 accuracy: 0.625\n",
      "[3,  1600] loss: 0.096 accuracy: 0.638\n",
      "[3,  1800] loss: 0.097 accuracy: 0.638\n",
      "[3,  2000] loss: 0.094 accuracy: 0.653\n",
      "[3,  2200] loss: 0.090 accuracy: 0.661\n",
      "[3,  2400] loss: 0.093 accuracy: 0.652\n",
      "[3,  2600] loss: 0.092 accuracy: 0.650\n",
      "\n"
     ]
    },
    {
     "data": {
      "application/vnd.jupyter.widget-view+json": {
       "model_id": "484b20a8964643f1bb5478bfb88965ab",
       "version_major": 2,
       "version_minor": 0
      },
      "text/plain": [
       "HBox(children=(FloatProgress(value=0.0, max=173.0), HTML(value='')))"
      ]
     },
     "metadata": {},
     "output_type": "display_data"
    },
    {
     "name": "stdout",
     "output_type": "stream",
     "text": [
      "\n",
      "val acc: 0.6295825771324864\n"
     ]
    },
    {
     "data": {
      "application/vnd.jupyter.widget-view+json": {
       "model_id": "e5dc306659404d148462d7df989beffd",
       "version_major": 2,
       "version_minor": 0
      },
      "text/plain": [
       "HBox(children=(FloatProgress(value=0.0, max=2755.0), HTML(value='')))"
      ]
     },
     "metadata": {},
     "output_type": "display_data"
    },
    {
     "name": "stdout",
     "output_type": "stream",
     "text": [
      "[4,   200] loss: 0.085 accuracy: 0.683\n",
      "[4,   400] loss: 0.084 accuracy: 0.688\n",
      "[4,   600] loss: 0.083 accuracy: 0.690\n",
      "[4,   800] loss: 0.083 accuracy: 0.689\n",
      "[4,  1000] loss: 0.081 accuracy: 0.699\n",
      "[4,  1200] loss: 0.082 accuracy: 0.692\n",
      "[4,  1400] loss: 0.082 accuracy: 0.693\n",
      "[4,  1600] loss: 0.079 accuracy: 0.700\n",
      "[4,  1800] loss: 0.077 accuracy: 0.721\n",
      "[4,  2000] loss: 0.078 accuracy: 0.709\n",
      "[4,  2200] loss: 0.077 accuracy: 0.718\n",
      "[4,  2400] loss: 0.076 accuracy: 0.725\n",
      "[4,  2600] loss: 0.077 accuracy: 0.719\n",
      "\n"
     ]
    },
    {
     "data": {
      "application/vnd.jupyter.widget-view+json": {
       "model_id": "8b87496f25bc4f06a7c3e5cb38fd4de8",
       "version_major": 2,
       "version_minor": 0
      },
      "text/plain": [
       "HBox(children=(FloatProgress(value=0.0, max=173.0), HTML(value='')))"
      ]
     },
     "metadata": {},
     "output_type": "display_data"
    },
    {
     "name": "stdout",
     "output_type": "stream",
     "text": [
      "\n",
      "val acc: 0.7349364791288566\n"
     ]
    },
    {
     "data": {
      "application/vnd.jupyter.widget-view+json": {
       "model_id": "b1f393d577a845c8a50379cce86118b3",
       "version_major": 2,
       "version_minor": 0
      },
      "text/plain": [
       "HBox(children=(FloatProgress(value=0.0, max=2755.0), HTML(value='')))"
      ]
     },
     "metadata": {},
     "output_type": "display_data"
    },
    {
     "name": "stdout",
     "output_type": "stream",
     "text": [
      "[5,   200] loss: 0.070 accuracy: 0.746\n",
      "[5,   400] loss: 0.069 accuracy: 0.747\n",
      "[5,   600] loss: 0.071 accuracy: 0.738\n",
      "[5,   800] loss: 0.070 accuracy: 0.741\n",
      "[5,  1000] loss: 0.070 accuracy: 0.743\n",
      "[5,  1200] loss: 0.068 accuracy: 0.755\n",
      "[5,  1400] loss: 0.067 accuracy: 0.761\n",
      "[5,  1600] loss: 0.069 accuracy: 0.750\n",
      "[5,  1800] loss: 0.067 accuracy: 0.763\n",
      "[5,  2000] loss: 0.070 accuracy: 0.740\n",
      "[5,  2200] loss: 0.067 accuracy: 0.757\n",
      "[5,  2400] loss: 0.068 accuracy: 0.752\n",
      "[5,  2600] loss: 0.066 accuracy: 0.757\n",
      "\n"
     ]
    },
    {
     "data": {
      "application/vnd.jupyter.widget-view+json": {
       "model_id": "a2e3e4a581934f99a8105b1635df739e",
       "version_major": 2,
       "version_minor": 0
      },
      "text/plain": [
       "HBox(children=(FloatProgress(value=0.0, max=173.0), HTML(value='')))"
      ]
     },
     "metadata": {},
     "output_type": "display_data"
    },
    {
     "name": "stdout",
     "output_type": "stream",
     "text": [
      "\n",
      "val acc: 0.7561705989110707\n"
     ]
    },
    {
     "data": {
      "application/vnd.jupyter.widget-view+json": {
       "model_id": "3daf3eccaf8d4280b0bea9207d0a435e",
       "version_major": 2,
       "version_minor": 0
      },
      "text/plain": [
       "HBox(children=(FloatProgress(value=0.0, max=2755.0), HTML(value='')))"
      ]
     },
     "metadata": {},
     "output_type": "display_data"
    },
    {
     "name": "stdout",
     "output_type": "stream",
     "text": [
      "[6,   200] loss: 0.061 accuracy: 0.782\n",
      "[6,   400] loss: 0.061 accuracy: 0.781\n",
      "[6,   600] loss: 0.061 accuracy: 0.777\n",
      "[6,   800] loss: 0.062 accuracy: 0.773\n",
      "[6,  1000] loss: 0.061 accuracy: 0.778\n",
      "[6,  1200] loss: 0.060 accuracy: 0.789\n",
      "[6,  1400] loss: 0.060 accuracy: 0.789\n",
      "[6,  1600] loss: 0.058 accuracy: 0.784\n",
      "[6,  1800] loss: 0.060 accuracy: 0.781\n",
      "[6,  2000] loss: 0.058 accuracy: 0.787\n",
      "[6,  2200] loss: 0.057 accuracy: 0.793\n",
      "[6,  2400] loss: 0.058 accuracy: 0.788\n",
      "[6,  2600] loss: 0.059 accuracy: 0.789\n",
      "\n"
     ]
    },
    {
     "data": {
      "application/vnd.jupyter.widget-view+json": {
       "model_id": "923263c6e28441a0a618c586fdce1314",
       "version_major": 2,
       "version_minor": 0
      },
      "text/plain": [
       "HBox(children=(FloatProgress(value=0.0, max=173.0), HTML(value='')))"
      ]
     },
     "metadata": {},
     "output_type": "display_data"
    },
    {
     "name": "stdout",
     "output_type": "stream",
     "text": [
      "\n",
      "val acc: 0.7927404718693285\n"
     ]
    },
    {
     "data": {
      "application/vnd.jupyter.widget-view+json": {
       "model_id": "a975108c85a34518a9f636bec98eb52a",
       "version_major": 2,
       "version_minor": 0
      },
      "text/plain": [
       "HBox(children=(FloatProgress(value=0.0, max=2755.0), HTML(value='')))"
      ]
     },
     "metadata": {},
     "output_type": "display_data"
    },
    {
     "name": "stdout",
     "output_type": "stream",
     "text": [
      "[7,   200] loss: 0.055 accuracy: 0.796\n",
      "[7,   400] loss: 0.051 accuracy: 0.817\n",
      "[7,   600] loss: 0.053 accuracy: 0.807\n",
      "[7,   800] loss: 0.055 accuracy: 0.803\n",
      "[7,  1000] loss: 0.055 accuracy: 0.793\n",
      "[7,  1200] loss: 0.052 accuracy: 0.811\n",
      "[7,  1400] loss: 0.053 accuracy: 0.807\n",
      "[7,  1600] loss: 0.055 accuracy: 0.802\n",
      "[7,  1800] loss: 0.053 accuracy: 0.806\n",
      "[7,  2000] loss: 0.053 accuracy: 0.812\n",
      "[7,  2200] loss: 0.053 accuracy: 0.810\n",
      "[7,  2400] loss: 0.050 accuracy: 0.818\n",
      "[7,  2600] loss: 0.053 accuracy: 0.813\n",
      "\n"
     ]
    },
    {
     "data": {
      "application/vnd.jupyter.widget-view+json": {
       "model_id": "a79b3c2d5fa8414893762b68daf95fdb",
       "version_major": 2,
       "version_minor": 0
      },
      "text/plain": [
       "HBox(children=(FloatProgress(value=0.0, max=173.0), HTML(value='')))"
      ]
     },
     "metadata": {},
     "output_type": "display_data"
    },
    {
     "name": "stdout",
     "output_type": "stream",
     "text": [
      "\n",
      "val acc: 0.7843920145190563\n"
     ]
    },
    {
     "data": {
      "application/vnd.jupyter.widget-view+json": {
       "model_id": "92c108e5b81749479f0d2d0aabdb0666",
       "version_major": 2,
       "version_minor": 0
      },
      "text/plain": [
       "HBox(children=(FloatProgress(value=0.0, max=2755.0), HTML(value='')))"
      ]
     },
     "metadata": {},
     "output_type": "display_data"
    },
    {
     "name": "stdout",
     "output_type": "stream",
     "text": [
      "[8,   200] loss: 0.049 accuracy: 0.821\n",
      "[8,   400] loss: 0.047 accuracy: 0.830\n",
      "[8,   600] loss: 0.048 accuracy: 0.823\n",
      "[8,   800] loss: 0.047 accuracy: 0.835\n",
      "[8,  1000] loss: 0.049 accuracy: 0.823\n",
      "[8,  1200] loss: 0.049 accuracy: 0.826\n",
      "[8,  1400] loss: 0.047 accuracy: 0.830\n",
      "[8,  1600] loss: 0.047 accuracy: 0.828\n",
      "[8,  1800] loss: 0.048 accuracy: 0.825\n",
      "[8,  2000] loss: 0.048 accuracy: 0.834\n",
      "[8,  2200] loss: 0.048 accuracy: 0.829\n",
      "[8,  2400] loss: 0.047 accuracy: 0.831\n",
      "[8,  2600] loss: 0.049 accuracy: 0.822\n",
      "\n"
     ]
    },
    {
     "data": {
      "application/vnd.jupyter.widget-view+json": {
       "model_id": "941d9758cc7646318c2513b32ea1ff83",
       "version_major": 2,
       "version_minor": 0
      },
      "text/plain": [
       "HBox(children=(FloatProgress(value=0.0, max=173.0), HTML(value='')))"
      ]
     },
     "metadata": {},
     "output_type": "display_data"
    },
    {
     "name": "stdout",
     "output_type": "stream",
     "text": [
      "\n",
      "val acc: 0.8225045372050817\n"
     ]
    },
    {
     "data": {
      "application/vnd.jupyter.widget-view+json": {
       "model_id": "16dfe5464e7347ac8b102e922e70bf32",
       "version_major": 2,
       "version_minor": 0
      },
      "text/plain": [
       "HBox(children=(FloatProgress(value=0.0, max=2755.0), HTML(value='')))"
      ]
     },
     "metadata": {},
     "output_type": "display_data"
    },
    {
     "name": "stdout",
     "output_type": "stream",
     "text": [
      "[9,   200] loss: 0.044 accuracy: 0.845\n",
      "[9,   400] loss: 0.044 accuracy: 0.843\n",
      "[9,   600] loss: 0.046 accuracy: 0.835\n",
      "[9,   800] loss: 0.046 accuracy: 0.837\n",
      "[9,  1000] loss: 0.042 accuracy: 0.850\n",
      "[9,  1200] loss: 0.044 accuracy: 0.846\n",
      "[9,  1400] loss: 0.045 accuracy: 0.838\n",
      "[9,  1600] loss: 0.044 accuracy: 0.840\n",
      "[9,  1800] loss: 0.044 accuracy: 0.842\n",
      "[9,  2000] loss: 0.043 accuracy: 0.848\n",
      "[9,  2200] loss: 0.046 accuracy: 0.841\n",
      "[9,  2400] loss: 0.043 accuracy: 0.849\n",
      "[9,  2600] loss: 0.042 accuracy: 0.853\n",
      "\n"
     ]
    },
    {
     "data": {
      "application/vnd.jupyter.widget-view+json": {
       "model_id": "ff28d055ca3b49048ead159295c4e7db",
       "version_major": 2,
       "version_minor": 0
      },
      "text/plain": [
       "HBox(children=(FloatProgress(value=0.0, max=173.0), HTML(value='')))"
      ]
     },
     "metadata": {},
     "output_type": "display_data"
    },
    {
     "name": "stdout",
     "output_type": "stream",
     "text": [
      "\n",
      "val acc: 0.8078947368421052\n"
     ]
    },
    {
     "data": {
      "application/vnd.jupyter.widget-view+json": {
       "model_id": "dc2818f6bb8047f0a3cafdd7a8eb07ca",
       "version_major": 2,
       "version_minor": 0
      },
      "text/plain": [
       "HBox(children=(FloatProgress(value=0.0, max=2755.0), HTML(value='')))"
      ]
     },
     "metadata": {},
     "output_type": "display_data"
    },
    {
     "name": "stdout",
     "output_type": "stream",
     "text": [
      "[10,   200] loss: 0.040 accuracy: 0.862\n",
      "[10,   400] loss: 0.040 accuracy: 0.858\n",
      "[10,   600] loss: 0.041 accuracy: 0.857\n",
      "[10,   800] loss: 0.041 accuracy: 0.851\n",
      "[10,  1000] loss: 0.041 accuracy: 0.851\n",
      "[10,  1200] loss: 0.041 accuracy: 0.851\n",
      "[10,  1400] loss: 0.040 accuracy: 0.855\n",
      "[10,  1600] loss: 0.041 accuracy: 0.852\n",
      "[10,  1800] loss: 0.042 accuracy: 0.848\n",
      "[10,  2000] loss: 0.040 accuracy: 0.855\n",
      "[10,  2200] loss: 0.040 accuracy: 0.860\n",
      "[10,  2400] loss: 0.042 accuracy: 0.849\n",
      "[10,  2600] loss: 0.041 accuracy: 0.851\n",
      "\n"
     ]
    },
    {
     "data": {
      "application/vnd.jupyter.widget-view+json": {
       "model_id": "a7ebc6ecaf2744a397a054e5d49e829a",
       "version_major": 2,
       "version_minor": 0
      },
      "text/plain": [
       "HBox(children=(FloatProgress(value=0.0, max=173.0), HTML(value='')))"
      ]
     },
     "metadata": {},
     "output_type": "display_data"
    },
    {
     "name": "stdout",
     "output_type": "stream",
     "text": [
      "\n",
      "val acc: 0.8359346642468239\n"
     ]
    },
    {
     "data": {
      "application/vnd.jupyter.widget-view+json": {
       "model_id": "e345c7152ffd4aafacd6a66d0f3d4795",
       "version_major": 2,
       "version_minor": 0
      },
      "text/plain": [
       "HBox(children=(FloatProgress(value=0.0, max=2755.0), HTML(value='')))"
      ]
     },
     "metadata": {},
     "output_type": "display_data"
    },
    {
     "name": "stdout",
     "output_type": "stream",
     "text": [
      "[11,   200] loss: 0.036 accuracy: 0.873\n",
      "[11,   400] loss: 0.037 accuracy: 0.870\n",
      "[11,   600] loss: 0.037 accuracy: 0.866\n",
      "[11,   800] loss: 0.038 accuracy: 0.864\n",
      "[11,  1000] loss: 0.036 accuracy: 0.869\n",
      "[11,  1200] loss: 0.039 accuracy: 0.860\n",
      "[11,  1400] loss: 0.038 accuracy: 0.863\n",
      "[11,  1600] loss: 0.037 accuracy: 0.870\n",
      "[11,  1800] loss: 0.038 accuracy: 0.868\n",
      "[11,  2000] loss: 0.038 accuracy: 0.864\n",
      "[11,  2200] loss: 0.037 accuracy: 0.864\n",
      "[11,  2400] loss: 0.037 accuracy: 0.871\n",
      "[11,  2600] loss: 0.038 accuracy: 0.866\n",
      "\n"
     ]
    },
    {
     "data": {
      "application/vnd.jupyter.widget-view+json": {
       "model_id": "d2cae99355a0490bb7ed79bff4dc21b1",
       "version_major": 2,
       "version_minor": 0
      },
      "text/plain": [
       "HBox(children=(FloatProgress(value=0.0, max=173.0), HTML(value='')))"
      ]
     },
     "metadata": {},
     "output_type": "display_data"
    },
    {
     "name": "stdout",
     "output_type": "stream",
     "text": [
      "\n",
      "val acc: 0.8459165154264973\n"
     ]
    },
    {
     "data": {
      "application/vnd.jupyter.widget-view+json": {
       "model_id": "7f1a81a004d8417f8005d80cdce7c49c",
       "version_major": 2,
       "version_minor": 0
      },
      "text/plain": [
       "HBox(children=(FloatProgress(value=0.0, max=2755.0), HTML(value='')))"
      ]
     },
     "metadata": {},
     "output_type": "display_data"
    },
    {
     "name": "stdout",
     "output_type": "stream",
     "text": [
      "[12,   200] loss: 0.033 accuracy: 0.887\n",
      "[12,   400] loss: 0.034 accuracy: 0.877\n",
      "[12,   600] loss: 0.033 accuracy: 0.883\n",
      "[12,   800] loss: 0.035 accuracy: 0.874\n",
      "[12,  1000] loss: 0.036 accuracy: 0.873\n",
      "[12,  1200] loss: 0.037 accuracy: 0.870\n",
      "[12,  1400] loss: 0.035 accuracy: 0.877\n",
      "[12,  1600] loss: 0.033 accuracy: 0.881\n",
      "[12,  1800] loss: 0.036 accuracy: 0.868\n",
      "[12,  2000] loss: 0.036 accuracy: 0.875\n",
      "[12,  2200] loss: 0.035 accuracy: 0.878\n",
      "[12,  2400] loss: 0.036 accuracy: 0.873\n",
      "[12,  2600] loss: 0.035 accuracy: 0.873\n",
      "\n"
     ]
    },
    {
     "data": {
      "application/vnd.jupyter.widget-view+json": {
       "model_id": "e5377d95300745abbb63fd9d06e4646b",
       "version_major": 2,
       "version_minor": 0
      },
      "text/plain": [
       "HBox(children=(FloatProgress(value=0.0, max=173.0), HTML(value='')))"
      ]
     },
     "metadata": {},
     "output_type": "display_data"
    },
    {
     "name": "stdout",
     "output_type": "stream",
     "text": [
      "\n",
      "val acc: 0.8575317604355717\n"
     ]
    },
    {
     "data": {
      "application/vnd.jupyter.widget-view+json": {
       "model_id": "c8b80222251e4460bb21cdef8497038b",
       "version_major": 2,
       "version_minor": 0
      },
      "text/plain": [
       "HBox(children=(FloatProgress(value=0.0, max=2755.0), HTML(value='')))"
      ]
     },
     "metadata": {},
     "output_type": "display_data"
    },
    {
     "name": "stdout",
     "output_type": "stream",
     "text": [
      "[13,   200] loss: 0.032 accuracy: 0.889\n",
      "[13,   400] loss: 0.032 accuracy: 0.890\n",
      "[13,   600] loss: 0.033 accuracy: 0.884\n",
      "[13,   800] loss: 0.032 accuracy: 0.889\n",
      "[13,  1000] loss: 0.034 accuracy: 0.879\n",
      "[13,  1200] loss: 0.034 accuracy: 0.880\n",
      "[13,  1400] loss: 0.033 accuracy: 0.881\n",
      "[13,  1600] loss: 0.032 accuracy: 0.883\n",
      "[13,  1800] loss: 0.034 accuracy: 0.880\n",
      "[13,  2000] loss: 0.033 accuracy: 0.882\n",
      "[13,  2200] loss: 0.032 accuracy: 0.884\n",
      "[13,  2400] loss: 0.033 accuracy: 0.880\n",
      "[13,  2600] loss: 0.032 accuracy: 0.885\n",
      "\n"
     ]
    },
    {
     "data": {
      "application/vnd.jupyter.widget-view+json": {
       "model_id": "37a6df4608354f7591e29771a73fde46",
       "version_major": 2,
       "version_minor": 0
      },
      "text/plain": [
       "HBox(children=(FloatProgress(value=0.0, max=173.0), HTML(value='')))"
      ]
     },
     "metadata": {},
     "output_type": "display_data"
    },
    {
     "name": "stdout",
     "output_type": "stream",
     "text": [
      "\n",
      "val acc: 0.8596188747731397\n"
     ]
    },
    {
     "data": {
      "application/vnd.jupyter.widget-view+json": {
       "model_id": "a71204f3888e490ba77e8bb76f7192aa",
       "version_major": 2,
       "version_minor": 0
      },
      "text/plain": [
       "HBox(children=(FloatProgress(value=0.0, max=2755.0), HTML(value='')))"
      ]
     },
     "metadata": {},
     "output_type": "display_data"
    },
    {
     "name": "stdout",
     "output_type": "stream",
     "text": [
      "[14,   200] loss: 0.030 accuracy: 0.897\n",
      "[14,   400] loss: 0.029 accuracy: 0.899\n",
      "[14,   600] loss: 0.031 accuracy: 0.893\n",
      "[14,   800] loss: 0.029 accuracy: 0.900\n",
      "[14,  1000] loss: 0.032 accuracy: 0.885\n",
      "[14,  1200] loss: 0.030 accuracy: 0.891\n",
      "[14,  1400] loss: 0.031 accuracy: 0.886\n",
      "[14,  1600] loss: 0.030 accuracy: 0.890\n",
      "[14,  1800] loss: 0.033 accuracy: 0.883\n",
      "[14,  2000] loss: 0.031 accuracy: 0.888\n",
      "[14,  2200] loss: 0.030 accuracy: 0.895\n",
      "[14,  2400] loss: 0.030 accuracy: 0.891\n",
      "[14,  2600] loss: 0.033 accuracy: 0.882\n",
      "\n"
     ]
    },
    {
     "data": {
      "application/vnd.jupyter.widget-view+json": {
       "model_id": "c21cb9b1c38d4ed4bb909e8a403706b8",
       "version_major": 2,
       "version_minor": 0
      },
      "text/plain": [
       "HBox(children=(FloatProgress(value=0.0, max=173.0), HTML(value='')))"
      ]
     },
     "metadata": {},
     "output_type": "display_data"
    },
    {
     "name": "stdout",
     "output_type": "stream",
     "text": [
      "\n",
      "val acc: 0.8642468239564428\n"
     ]
    },
    {
     "data": {
      "application/vnd.jupyter.widget-view+json": {
       "model_id": "d98ff779a34b46a5bde60f721183bbcc",
       "version_major": 2,
       "version_minor": 0
      },
      "text/plain": [
       "HBox(children=(FloatProgress(value=0.0, max=2755.0), HTML(value='')))"
      ]
     },
     "metadata": {},
     "output_type": "display_data"
    },
    {
     "name": "stdout",
     "output_type": "stream",
     "text": [
      "[15,   200] loss: 0.028 accuracy: 0.901\n",
      "[15,   400] loss: 0.028 accuracy: 0.901\n",
      "[15,   600] loss: 0.029 accuracy: 0.897\n",
      "[15,   800] loss: 0.029 accuracy: 0.897\n",
      "[15,  1000] loss: 0.029 accuracy: 0.900\n",
      "[15,  1200] loss: 0.029 accuracy: 0.892\n",
      "[15,  1400] loss: 0.030 accuracy: 0.897\n",
      "[15,  1600] loss: 0.029 accuracy: 0.898\n",
      "[15,  1800] loss: 0.030 accuracy: 0.897\n",
      "[15,  2000] loss: 0.030 accuracy: 0.892\n",
      "[15,  2200] loss: 0.030 accuracy: 0.890\n",
      "[15,  2400] loss: 0.030 accuracy: 0.898\n",
      "[15,  2600] loss: 0.030 accuracy: 0.893\n",
      "\n"
     ]
    },
    {
     "data": {
      "application/vnd.jupyter.widget-view+json": {
       "model_id": "6ff5f0a515c84116a4a6b3e70b8d70de",
       "version_major": 2,
       "version_minor": 0
      },
      "text/plain": [
       "HBox(children=(FloatProgress(value=0.0, max=173.0), HTML(value='')))"
      ]
     },
     "metadata": {},
     "output_type": "display_data"
    },
    {
     "name": "stdout",
     "output_type": "stream",
     "text": [
      "\n",
      "val acc: 0.867513611615245\n"
     ]
    },
    {
     "data": {
      "application/vnd.jupyter.widget-view+json": {
       "model_id": "72d5f242332246b782d027038a327ce1",
       "version_major": 2,
       "version_minor": 0
      },
      "text/plain": [
       "HBox(children=(FloatProgress(value=0.0, max=2755.0), HTML(value='')))"
      ]
     },
     "metadata": {},
     "output_type": "display_data"
    },
    {
     "name": "stdout",
     "output_type": "stream",
     "text": [
      "[16,   200] loss: 0.026 accuracy: 0.906\n",
      "[16,   400] loss: 0.027 accuracy: 0.903\n",
      "[16,   600] loss: 0.027 accuracy: 0.906\n",
      "[16,   800] loss: 0.026 accuracy: 0.907\n",
      "[16,  1000] loss: 0.026 accuracy: 0.910\n",
      "[16,  1200] loss: 0.028 accuracy: 0.898\n",
      "[16,  1400] loss: 0.027 accuracy: 0.903\n",
      "[16,  1600] loss: 0.031 accuracy: 0.890\n",
      "[16,  1800] loss: 0.028 accuracy: 0.903\n",
      "[16,  2000] loss: 0.028 accuracy: 0.903\n",
      "[16,  2200] loss: 0.027 accuracy: 0.902\n",
      "[16,  2400] loss: 0.030 accuracy: 0.895\n",
      "[16,  2600] loss: 0.027 accuracy: 0.902\n",
      "\n"
     ]
    },
    {
     "data": {
      "application/vnd.jupyter.widget-view+json": {
       "model_id": "3db2631cfb454e308de7e1fe0ae62228",
       "version_major": 2,
       "version_minor": 0
      },
      "text/plain": [
       "HBox(children=(FloatProgress(value=0.0, max=173.0), HTML(value='')))"
      ]
     },
     "metadata": {},
     "output_type": "display_data"
    },
    {
     "name": "stdout",
     "output_type": "stream",
     "text": [
      "\n",
      "val acc: 0.8717785843920145\n"
     ]
    },
    {
     "data": {
      "application/vnd.jupyter.widget-view+json": {
       "model_id": "829902f5191f44c6b5928ab4b7f73fe1",
       "version_major": 2,
       "version_minor": 0
      },
      "text/plain": [
       "HBox(children=(FloatProgress(value=0.0, max=2755.0), HTML(value='')))"
      ]
     },
     "metadata": {},
     "output_type": "display_data"
    },
    {
     "name": "stdout",
     "output_type": "stream",
     "text": [
      "[17,   200] loss: 0.026 accuracy: 0.905\n",
      "[17,   400] loss: 0.027 accuracy: 0.906\n",
      "[17,   600] loss: 0.026 accuracy: 0.910\n",
      "[17,   800] loss: 0.026 accuracy: 0.904\n",
      "[17,  1000] loss: 0.026 accuracy: 0.913\n",
      "[17,  1200] loss: 0.026 accuracy: 0.905\n",
      "[17,  1400] loss: 0.027 accuracy: 0.906\n",
      "[17,  1600] loss: 0.027 accuracy: 0.905\n",
      "[17,  1800] loss: 0.027 accuracy: 0.902\n",
      "[17,  2000] loss: 0.027 accuracy: 0.910\n",
      "[17,  2200] loss: 0.026 accuracy: 0.909\n",
      "[17,  2400] loss: 0.026 accuracy: 0.909\n",
      "[17,  2600] loss: 0.026 accuracy: 0.910\n",
      "\n"
     ]
    },
    {
     "data": {
      "application/vnd.jupyter.widget-view+json": {
       "model_id": "1a4c7162317b4c65942ef0c1e46038a2",
       "version_major": 2,
       "version_minor": 0
      },
      "text/plain": [
       "HBox(children=(FloatProgress(value=0.0, max=173.0), HTML(value='')))"
      ]
     },
     "metadata": {},
     "output_type": "display_data"
    },
    {
     "name": "stdout",
     "output_type": "stream",
     "text": [
      "\n",
      "val acc: 0.8696914700544465\n"
     ]
    },
    {
     "data": {
      "application/vnd.jupyter.widget-view+json": {
       "model_id": "7bfcbd2e0063453cb7b5547b024bdf61",
       "version_major": 2,
       "version_minor": 0
      },
      "text/plain": [
       "HBox(children=(FloatProgress(value=0.0, max=2755.0), HTML(value='')))"
      ]
     },
     "metadata": {},
     "output_type": "display_data"
    },
    {
     "name": "stdout",
     "output_type": "stream",
     "text": [
      "[18,   200] loss: 0.024 accuracy: 0.916\n",
      "[18,   400] loss: 0.023 accuracy: 0.918\n",
      "[18,   600] loss: 0.024 accuracy: 0.918\n",
      "[18,   800] loss: 0.026 accuracy: 0.906\n",
      "[18,  1000] loss: 0.026 accuracy: 0.906\n",
      "[18,  1200] loss: 0.026 accuracy: 0.906\n",
      "[18,  1400] loss: 0.024 accuracy: 0.910\n",
      "[18,  1600] loss: 0.025 accuracy: 0.907\n",
      "[18,  1800] loss: 0.025 accuracy: 0.910\n",
      "[18,  2000] loss: 0.026 accuracy: 0.910\n",
      "[18,  2200] loss: 0.027 accuracy: 0.906\n",
      "[18,  2400] loss: 0.025 accuracy: 0.909\n",
      "[18,  2600] loss: 0.026 accuracy: 0.905\n",
      "\n"
     ]
    },
    {
     "data": {
      "application/vnd.jupyter.widget-view+json": {
       "model_id": "41573b3cf3ec4452841eb9afc8a1a759",
       "version_major": 2,
       "version_minor": 0
      },
      "text/plain": [
       "HBox(children=(FloatProgress(value=0.0, max=173.0), HTML(value='')))"
      ]
     },
     "metadata": {},
     "output_type": "display_data"
    },
    {
     "name": "stdout",
     "output_type": "stream",
     "text": [
      "\n",
      "val acc: 0.880399274047187\n"
     ]
    },
    {
     "data": {
      "application/vnd.jupyter.widget-view+json": {
       "model_id": "9682876480c84f279ff5b2772a1d1750",
       "version_major": 2,
       "version_minor": 0
      },
      "text/plain": [
       "HBox(children=(FloatProgress(value=0.0, max=2755.0), HTML(value='')))"
      ]
     },
     "metadata": {},
     "output_type": "display_data"
    },
    {
     "name": "stdout",
     "output_type": "stream",
     "text": [
      "[19,   200] loss: 0.023 accuracy: 0.921\n",
      "[19,   400] loss: 0.024 accuracy: 0.916\n",
      "[19,   600] loss: 0.024 accuracy: 0.914\n",
      "[19,   800] loss: 0.023 accuracy: 0.922\n",
      "[19,  1000] loss: 0.024 accuracy: 0.914\n",
      "[19,  1200] loss: 0.024 accuracy: 0.917\n",
      "[19,  1400] loss: 0.026 accuracy: 0.907\n",
      "[19,  1600] loss: 0.024 accuracy: 0.913\n",
      "[19,  1800] loss: 0.025 accuracy: 0.910\n",
      "[19,  2000] loss: 0.026 accuracy: 0.908\n",
      "[19,  2200] loss: 0.024 accuracy: 0.915\n",
      "[19,  2400] loss: 0.025 accuracy: 0.914\n",
      "[19,  2600] loss: 0.026 accuracy: 0.908\n",
      "\n"
     ]
    },
    {
     "data": {
      "application/vnd.jupyter.widget-view+json": {
       "model_id": "fa9442bd73f3420a93781063e0e4fddf",
       "version_major": 2,
       "version_minor": 0
      },
      "text/plain": [
       "HBox(children=(FloatProgress(value=0.0, max=173.0), HTML(value='')))"
      ]
     },
     "metadata": {},
     "output_type": "display_data"
    },
    {
     "name": "stdout",
     "output_type": "stream",
     "text": [
      "\n",
      "val acc: 0.8737749546279492\n"
     ]
    },
    {
     "data": {
      "application/vnd.jupyter.widget-view+json": {
       "model_id": "4d3ebb490004411c84faaf75dba4e34c",
       "version_major": 2,
       "version_minor": 0
      },
      "text/plain": [
       "HBox(children=(FloatProgress(value=0.0, max=2755.0), HTML(value='')))"
      ]
     },
     "metadata": {},
     "output_type": "display_data"
    },
    {
     "name": "stdout",
     "output_type": "stream",
     "text": [
      "[20,   200] loss: 0.022 accuracy: 0.924\n",
      "[20,   400] loss: 0.021 accuracy: 0.924\n",
      "[20,   600] loss: 0.023 accuracy: 0.916\n",
      "[20,   800] loss: 0.023 accuracy: 0.920\n",
      "[20,  1000] loss: 0.023 accuracy: 0.915\n",
      "[20,  1200] loss: 0.023 accuracy: 0.920\n",
      "[20,  1400] loss: 0.023 accuracy: 0.913\n",
      "[20,  1600] loss: 0.025 accuracy: 0.906\n",
      "[20,  1800] loss: 0.024 accuracy: 0.915\n",
      "[20,  2000] loss: 0.023 accuracy: 0.916\n",
      "[20,  2200] loss: 0.025 accuracy: 0.914\n",
      "[20,  2400] loss: 0.023 accuracy: 0.920\n",
      "[20,  2600] loss: 0.024 accuracy: 0.916\n",
      "\n"
     ]
    },
    {
     "data": {
      "application/vnd.jupyter.widget-view+json": {
       "model_id": "a0f2541fe3c84cef88d27fd95a676433",
       "version_major": 2,
       "version_minor": 0
      },
      "text/plain": [
       "HBox(children=(FloatProgress(value=0.0, max=173.0), HTML(value='')))"
      ]
     },
     "metadata": {},
     "output_type": "display_data"
    },
    {
     "name": "stdout",
     "output_type": "stream",
     "text": [
      "\n",
      "val acc: 0.8733212341197822\n"
     ]
    },
    {
     "data": {
      "application/vnd.jupyter.widget-view+json": {
       "model_id": "f08a0184943e450b8931414b78884bb3",
       "version_major": 2,
       "version_minor": 0
      },
      "text/plain": [
       "HBox(children=(FloatProgress(value=0.0, max=2755.0), HTML(value='')))"
      ]
     },
     "metadata": {},
     "output_type": "display_data"
    },
    {
     "name": "stdout",
     "output_type": "stream",
     "text": [
      "[21,   200] loss: 0.021 accuracy: 0.930\n",
      "[21,   400] loss: 0.020 accuracy: 0.927\n",
      "[21,   600] loss: 0.024 accuracy: 0.915\n",
      "[21,   800] loss: 0.021 accuracy: 0.928\n",
      "[21,  1000] loss: 0.022 accuracy: 0.919\n",
      "[21,  1200] loss: 0.023 accuracy: 0.917\n",
      "[21,  1400] loss: 0.022 accuracy: 0.920\n",
      "[21,  1600] loss: 0.022 accuracy: 0.922\n",
      "[21,  1800] loss: 0.021 accuracy: 0.926\n",
      "[21,  2000] loss: 0.025 accuracy: 0.914\n",
      "[21,  2200] loss: 0.023 accuracy: 0.918\n",
      "[21,  2400] loss: 0.023 accuracy: 0.915\n",
      "[21,  2600] loss: 0.023 accuracy: 0.922\n",
      "\n"
     ]
    },
    {
     "data": {
      "application/vnd.jupyter.widget-view+json": {
       "model_id": "99ad464055664a24be07fededf160a35",
       "version_major": 2,
       "version_minor": 0
      },
      "text/plain": [
       "HBox(children=(FloatProgress(value=0.0, max=173.0), HTML(value='')))"
      ]
     },
     "metadata": {},
     "output_type": "display_data"
    },
    {
     "name": "stdout",
     "output_type": "stream",
     "text": [
      "\n",
      "val acc: 0.8828493647912886\n"
     ]
    },
    {
     "data": {
      "application/vnd.jupyter.widget-view+json": {
       "model_id": "df9965694bcc43d2949b398554089a77",
       "version_major": 2,
       "version_minor": 0
      },
      "text/plain": [
       "HBox(children=(FloatProgress(value=0.0, max=2755.0), HTML(value='')))"
      ]
     },
     "metadata": {},
     "output_type": "display_data"
    },
    {
     "name": "stdout",
     "output_type": "stream",
     "text": [
      "[22,   200] loss: 0.021 accuracy: 0.927\n",
      "[22,   400] loss: 0.020 accuracy: 0.930\n",
      "[22,   600] loss: 0.020 accuracy: 0.929\n",
      "[22,   800] loss: 0.022 accuracy: 0.925\n",
      "[22,  1000] loss: 0.022 accuracy: 0.921\n",
      "[22,  1200] loss: 0.023 accuracy: 0.918\n",
      "[22,  1400] loss: 0.022 accuracy: 0.924\n",
      "[22,  1600] loss: 0.021 accuracy: 0.928\n",
      "[22,  1800] loss: 0.021 accuracy: 0.923\n",
      "[22,  2000] loss: 0.022 accuracy: 0.918\n",
      "[22,  2200] loss: 0.022 accuracy: 0.921\n",
      "[22,  2400] loss: 0.022 accuracy: 0.920\n",
      "[22,  2600] loss: 0.022 accuracy: 0.922\n",
      "\n"
     ]
    },
    {
     "data": {
      "application/vnd.jupyter.widget-view+json": {
       "model_id": "bd4b093ba4df4fe7a0c4f86435589419",
       "version_major": 2,
       "version_minor": 0
      },
      "text/plain": [
       "HBox(children=(FloatProgress(value=0.0, max=173.0), HTML(value='')))"
      ]
     },
     "metadata": {},
     "output_type": "display_data"
    },
    {
     "name": "stdout",
     "output_type": "stream",
     "text": [
      "\n",
      "val acc: 0.888021778584392\n"
     ]
    },
    {
     "data": {
      "application/vnd.jupyter.widget-view+json": {
       "model_id": "fb291f8d09e44604990e84cf463932a1",
       "version_major": 2,
       "version_minor": 0
      },
      "text/plain": [
       "HBox(children=(FloatProgress(value=0.0, max=2755.0), HTML(value='')))"
      ]
     },
     "metadata": {},
     "output_type": "display_data"
    },
    {
     "name": "stdout",
     "output_type": "stream",
     "text": [
      "[23,   200] loss: 0.019 accuracy: 0.938\n",
      "[23,   400] loss: 0.020 accuracy: 0.930\n",
      "[23,   600] loss: 0.021 accuracy: 0.926\n",
      "[23,   800] loss: 0.020 accuracy: 0.925\n",
      "[23,  1000] loss: 0.021 accuracy: 0.925\n",
      "[23,  1200] loss: 0.021 accuracy: 0.926\n",
      "[23,  1400] loss: 0.021 accuracy: 0.923\n",
      "[23,  1600] loss: 0.021 accuracy: 0.924\n",
      "[23,  1800] loss: 0.022 accuracy: 0.921\n",
      "[23,  2000] loss: 0.022 accuracy: 0.920\n",
      "[23,  2200] loss: 0.022 accuracy: 0.923\n",
      "[23,  2400] loss: 0.021 accuracy: 0.927\n",
      "[23,  2600] loss: 0.024 accuracy: 0.918\n",
      "\n"
     ]
    },
    {
     "data": {
      "application/vnd.jupyter.widget-view+json": {
       "model_id": "0587430a1b604da08a60b791b6e8242b",
       "version_major": 2,
       "version_minor": 0
      },
      "text/plain": [
       "HBox(children=(FloatProgress(value=0.0, max=173.0), HTML(value='')))"
      ]
     },
     "metadata": {},
     "output_type": "display_data"
    },
    {
     "name": "stdout",
     "output_type": "stream",
     "text": [
      "\n",
      "val acc: 0.8876588021778584\n"
     ]
    },
    {
     "data": {
      "application/vnd.jupyter.widget-view+json": {
       "model_id": "fc06443a51644664999d1328c504c0f4",
       "version_major": 2,
       "version_minor": 0
      },
      "text/plain": [
       "HBox(children=(FloatProgress(value=0.0, max=2755.0), HTML(value='')))"
      ]
     },
     "metadata": {},
     "output_type": "display_data"
    },
    {
     "name": "stdout",
     "output_type": "stream",
     "text": [
      "[24,   200] loss: 0.018 accuracy: 0.937\n",
      "[24,   400] loss: 0.019 accuracy: 0.932\n",
      "[24,   600] loss: 0.019 accuracy: 0.934\n",
      "[24,   800] loss: 0.019 accuracy: 0.933\n",
      "[24,  1000] loss: 0.022 accuracy: 0.925\n",
      "[24,  1200] loss: 0.021 accuracy: 0.927\n",
      "[24,  1400] loss: 0.021 accuracy: 0.926\n",
      "[24,  1600] loss: 0.021 accuracy: 0.926\n",
      "[24,  1800] loss: 0.020 accuracy: 0.928\n",
      "[24,  2000] loss: 0.021 accuracy: 0.926\n",
      "[24,  2200] loss: 0.020 accuracy: 0.926\n",
      "[24,  2400] loss: 0.022 accuracy: 0.926\n",
      "[24,  2600] loss: 0.021 accuracy: 0.927\n",
      "\n"
     ]
    },
    {
     "data": {
      "application/vnd.jupyter.widget-view+json": {
       "model_id": "810ef9a0a11f4063b38cd0f9780672b6",
       "version_major": 2,
       "version_minor": 0
      },
      "text/plain": [
       "HBox(children=(FloatProgress(value=0.0, max=173.0), HTML(value='')))"
      ]
     },
     "metadata": {},
     "output_type": "display_data"
    },
    {
     "name": "stdout",
     "output_type": "stream",
     "text": [
      "\n",
      "val acc: 0.8882032667876588\n"
     ]
    },
    {
     "data": {
      "application/vnd.jupyter.widget-view+json": {
       "model_id": "98d644fb5d774ced9f9ad1ab471f4c40",
       "version_major": 2,
       "version_minor": 0
      },
      "text/plain": [
       "HBox(children=(FloatProgress(value=0.0, max=2755.0), HTML(value='')))"
      ]
     },
     "metadata": {},
     "output_type": "display_data"
    },
    {
     "name": "stdout",
     "output_type": "stream",
     "text": [
      "[25,   200] loss: 0.017 accuracy: 0.942\n",
      "[25,   400] loss: 0.018 accuracy: 0.940\n",
      "[25,   600] loss: 0.020 accuracy: 0.928\n",
      "[25,   800] loss: 0.021 accuracy: 0.925\n",
      "[25,  1000] loss: 0.019 accuracy: 0.934\n",
      "[25,  1200] loss: 0.020 accuracy: 0.931\n",
      "[25,  1400] loss: 0.019 accuracy: 0.931\n",
      "[25,  1600] loss: 0.019 accuracy: 0.935\n",
      "[25,  1800] loss: 0.021 accuracy: 0.926\n",
      "[25,  2000] loss: 0.020 accuracy: 0.927\n",
      "[25,  2200] loss: 0.020 accuracy: 0.932\n",
      "[25,  2400] loss: 0.020 accuracy: 0.928\n",
      "[25,  2600] loss: 0.020 accuracy: 0.929\n",
      "\n"
     ]
    },
    {
     "data": {
      "application/vnd.jupyter.widget-view+json": {
       "model_id": "5bb4602b1c0b4639a32e218c1ba36dcd",
       "version_major": 2,
       "version_minor": 0
      },
      "text/plain": [
       "HBox(children=(FloatProgress(value=0.0, max=173.0), HTML(value='')))"
      ]
     },
     "metadata": {},
     "output_type": "display_data"
    },
    {
     "name": "stdout",
     "output_type": "stream",
     "text": [
      "\n",
      "val acc: 0.8874773139745916\n"
     ]
    },
    {
     "data": {
      "application/vnd.jupyter.widget-view+json": {
       "model_id": "fd0bf439c8c54e02a833f131f83fd680",
       "version_major": 2,
       "version_minor": 0
      },
      "text/plain": [
       "HBox(children=(FloatProgress(value=0.0, max=2755.0), HTML(value='')))"
      ]
     },
     "metadata": {},
     "output_type": "display_data"
    },
    {
     "name": "stdout",
     "output_type": "stream",
     "text": [
      "[26,   200] loss: 0.017 accuracy: 0.943\n",
      "[26,   400] loss: 0.017 accuracy: 0.940\n",
      "[26,   600] loss: 0.018 accuracy: 0.936\n",
      "[26,   800] loss: 0.020 accuracy: 0.927\n",
      "[26,  1000] loss: 0.019 accuracy: 0.930\n",
      "[26,  1200] loss: 0.019 accuracy: 0.931\n",
      "[26,  1400] loss: 0.019 accuracy: 0.934\n",
      "[26,  1600] loss: 0.020 accuracy: 0.930\n",
      "[26,  1800] loss: 0.019 accuracy: 0.936\n",
      "[26,  2000] loss: 0.020 accuracy: 0.927\n",
      "[26,  2200] loss: 0.020 accuracy: 0.931\n",
      "[26,  2400] loss: 0.019 accuracy: 0.934\n",
      "[26,  2600] loss: 0.021 accuracy: 0.924\n",
      "\n"
     ]
    },
    {
     "data": {
      "application/vnd.jupyter.widget-view+json": {
       "model_id": "029dd51ae0fc4f3d88d64d880456f18e",
       "version_major": 2,
       "version_minor": 0
      },
      "text/plain": [
       "HBox(children=(FloatProgress(value=0.0, max=173.0), HTML(value='')))"
      ]
     },
     "metadata": {},
     "output_type": "display_data"
    },
    {
     "name": "stdout",
     "output_type": "stream",
     "text": [
      "\n",
      "val acc: 0.8873865698729583\n"
     ]
    },
    {
     "data": {
      "application/vnd.jupyter.widget-view+json": {
       "model_id": "5531eb4fec174a24ade105e34dd7feaa",
       "version_major": 2,
       "version_minor": 0
      },
      "text/plain": [
       "HBox(children=(FloatProgress(value=0.0, max=2755.0), HTML(value='')))"
      ]
     },
     "metadata": {},
     "output_type": "display_data"
    },
    {
     "name": "stdout",
     "output_type": "stream",
     "text": [
      "[27,   200] loss: 0.018 accuracy: 0.941\n",
      "[27,   400] loss: 0.018 accuracy: 0.937\n",
      "[27,   600] loss: 0.018 accuracy: 0.939\n",
      "[27,   800] loss: 0.017 accuracy: 0.943\n",
      "[27,  1000] loss: 0.017 accuracy: 0.940\n",
      "[27,  1200] loss: 0.020 accuracy: 0.935\n",
      "[27,  1400] loss: 0.019 accuracy: 0.933\n",
      "[27,  1600] loss: 0.018 accuracy: 0.935\n",
      "[27,  1800] loss: 0.019 accuracy: 0.934\n",
      "[27,  2000] loss: 0.021 accuracy: 0.926\n",
      "[27,  2200] loss: 0.020 accuracy: 0.931\n",
      "[27,  2400] loss: 0.018 accuracy: 0.936\n",
      "[27,  2600] loss: 0.019 accuracy: 0.931\n",
      "\n"
     ]
    },
    {
     "data": {
      "application/vnd.jupyter.widget-view+json": {
       "model_id": "e94cece310044ff89f1d8d7c909ad57d",
       "version_major": 2,
       "version_minor": 0
      },
      "text/plain": [
       "HBox(children=(FloatProgress(value=0.0, max=173.0), HTML(value='')))"
      ]
     },
     "metadata": {},
     "output_type": "display_data"
    },
    {
     "name": "stdout",
     "output_type": "stream",
     "text": [
      "\n",
      "val acc: 0.8753176043557169\n"
     ]
    },
    {
     "data": {
      "application/vnd.jupyter.widget-view+json": {
       "model_id": "38a55223fd4240baa21a2ac8f1f210fd",
       "version_major": 2,
       "version_minor": 0
      },
      "text/plain": [
       "HBox(children=(FloatProgress(value=0.0, max=2755.0), HTML(value='')))"
      ]
     },
     "metadata": {},
     "output_type": "display_data"
    },
    {
     "name": "stdout",
     "output_type": "stream",
     "text": [
      "[28,   200] loss: 0.016 accuracy: 0.943\n",
      "[28,   400] loss: 0.017 accuracy: 0.940\n",
      "[28,   600] loss: 0.018 accuracy: 0.936\n",
      "[28,   800] loss: 0.017 accuracy: 0.937\n",
      "[28,  1000] loss: 0.017 accuracy: 0.940\n",
      "[28,  1200] loss: 0.018 accuracy: 0.931\n",
      "[28,  1400] loss: 0.019 accuracy: 0.933\n",
      "[28,  1600] loss: 0.020 accuracy: 0.929\n",
      "[28,  1800] loss: 0.019 accuracy: 0.934\n",
      "[28,  2000] loss: 0.018 accuracy: 0.935\n",
      "[28,  2200] loss: 0.018 accuracy: 0.937\n",
      "[28,  2400] loss: 0.018 accuracy: 0.936\n",
      "[28,  2600] loss: 0.018 accuracy: 0.936\n",
      "\n"
     ]
    },
    {
     "data": {
      "application/vnd.jupyter.widget-view+json": {
       "model_id": "45274087cc8a49b9b0e1f89f80c8fde2",
       "version_major": 2,
       "version_minor": 0
      },
      "text/plain": [
       "HBox(children=(FloatProgress(value=0.0, max=173.0), HTML(value='')))"
      ]
     },
     "metadata": {},
     "output_type": "display_data"
    },
    {
     "name": "stdout",
     "output_type": "stream",
     "text": [
      "\n",
      "val acc: 0.8903811252268603\n"
     ]
    },
    {
     "data": {
      "application/vnd.jupyter.widget-view+json": {
       "model_id": "36a1876ae6de4de5b5e07269c4174e6b",
       "version_major": 2,
       "version_minor": 0
      },
      "text/plain": [
       "HBox(children=(FloatProgress(value=0.0, max=2755.0), HTML(value='')))"
      ]
     },
     "metadata": {},
     "output_type": "display_data"
    },
    {
     "name": "stdout",
     "output_type": "stream",
     "text": [
      "[29,   200] loss: 0.016 accuracy: 0.946\n",
      "[29,   400] loss: 0.016 accuracy: 0.947\n",
      "[29,   600] loss: 0.017 accuracy: 0.938\n",
      "[29,   800] loss: 0.017 accuracy: 0.938\n",
      "[29,  1000] loss: 0.017 accuracy: 0.940\n",
      "[29,  1200] loss: 0.019 accuracy: 0.933\n",
      "[29,  1400] loss: 0.017 accuracy: 0.939\n",
      "[29,  1600] loss: 0.016 accuracy: 0.941\n",
      "[29,  1800] loss: 0.018 accuracy: 0.935\n",
      "[29,  2000] loss: 0.019 accuracy: 0.935\n",
      "[29,  2200] loss: 0.019 accuracy: 0.933\n",
      "[29,  2400] loss: 0.018 accuracy: 0.935\n",
      "[29,  2600] loss: 0.018 accuracy: 0.939\n",
      "\n"
     ]
    },
    {
     "data": {
      "application/vnd.jupyter.widget-view+json": {
       "model_id": "008c9fde0267408db72501888ff3e670",
       "version_major": 2,
       "version_minor": 0
      },
      "text/plain": [
       "HBox(children=(FloatProgress(value=0.0, max=173.0), HTML(value='')))"
      ]
     },
     "metadata": {},
     "output_type": "display_data"
    },
    {
     "name": "stdout",
     "output_type": "stream",
     "text": [
      "\n",
      "val acc: 0.8836660617059892\n"
     ]
    },
    {
     "data": {
      "application/vnd.jupyter.widget-view+json": {
       "model_id": "999a25faad00496faae0a1852c671661",
       "version_major": 2,
       "version_minor": 0
      },
      "text/plain": [
       "HBox(children=(FloatProgress(value=0.0, max=2755.0), HTML(value='')))"
      ]
     },
     "metadata": {},
     "output_type": "display_data"
    },
    {
     "name": "stdout",
     "output_type": "stream",
     "text": [
      "[30,   200] loss: 0.015 accuracy: 0.950\n",
      "[30,   400] loss: 0.015 accuracy: 0.951\n",
      "[30,   600] loss: 0.016 accuracy: 0.945\n",
      "[30,   800] loss: 0.017 accuracy: 0.943\n",
      "[30,  1000] loss: 0.017 accuracy: 0.938\n",
      "[30,  1200] loss: 0.018 accuracy: 0.935\n",
      "[30,  1400] loss: 0.018 accuracy: 0.938\n",
      "[30,  1600] loss: 0.018 accuracy: 0.936\n",
      "[30,  1800] loss: 0.017 accuracy: 0.936\n",
      "[30,  2000] loss: 0.018 accuracy: 0.935\n",
      "[30,  2200] loss: 0.018 accuracy: 0.942\n",
      "[30,  2400] loss: 0.018 accuracy: 0.936\n",
      "[30,  2600] loss: 0.019 accuracy: 0.937\n",
      "\n"
     ]
    },
    {
     "data": {
      "application/vnd.jupyter.widget-view+json": {
       "model_id": "a1158678048a4d59b1721ed1c98a81a3",
       "version_major": 2,
       "version_minor": 0
      },
      "text/plain": [
       "HBox(children=(FloatProgress(value=0.0, max=173.0), HTML(value='')))"
      ]
     },
     "metadata": {},
     "output_type": "display_data"
    },
    {
     "name": "stdout",
     "output_type": "stream",
     "text": [
      "\n",
      "val acc: 0.8929219600725953\n"
     ]
    },
    {
     "data": {
      "application/vnd.jupyter.widget-view+json": {
       "model_id": "4711069eea8c43a59568b543dfebc206",
       "version_major": 2,
       "version_minor": 0
      },
      "text/plain": [
       "HBox(children=(FloatProgress(value=0.0, max=2755.0), HTML(value='')))"
      ]
     },
     "metadata": {},
     "output_type": "display_data"
    },
    {
     "name": "stdout",
     "output_type": "stream",
     "text": [
      "[31,   200] loss: 0.014 accuracy: 0.952\n",
      "[31,   400] loss: 0.016 accuracy: 0.943\n",
      "[31,   600] loss: 0.017 accuracy: 0.943\n",
      "[31,   800] loss: 0.017 accuracy: 0.940\n",
      "[31,  1000] loss: 0.015 accuracy: 0.947\n",
      "[31,  1200] loss: 0.016 accuracy: 0.946\n",
      "[31,  1400] loss: 0.018 accuracy: 0.934\n",
      "[31,  1600] loss: 0.018 accuracy: 0.937\n",
      "[31,  1800] loss: 0.018 accuracy: 0.936\n",
      "[31,  2000] loss: 0.017 accuracy: 0.938\n",
      "[31,  2200] loss: 0.019 accuracy: 0.933\n",
      "[31,  2400] loss: 0.017 accuracy: 0.940\n",
      "[31,  2600] loss: 0.018 accuracy: 0.936\n",
      "\n"
     ]
    },
    {
     "data": {
      "application/vnd.jupyter.widget-view+json": {
       "model_id": "12afe0bf2eeb454f9d9703fa8c507a59",
       "version_major": 2,
       "version_minor": 0
      },
      "text/plain": [
       "HBox(children=(FloatProgress(value=0.0, max=173.0), HTML(value='')))"
      ]
     },
     "metadata": {},
     "output_type": "display_data"
    },
    {
     "name": "stdout",
     "output_type": "stream",
     "text": [
      "\n",
      "val acc: 0.8996370235934664\n"
     ]
    },
    {
     "data": {
      "application/vnd.jupyter.widget-view+json": {
       "model_id": "b5ae3831d9ca4eef9d0408b7791025c2",
       "version_major": 2,
       "version_minor": 0
      },
      "text/plain": [
       "HBox(children=(FloatProgress(value=0.0, max=2755.0), HTML(value='')))"
      ]
     },
     "metadata": {},
     "output_type": "display_data"
    },
    {
     "name": "stdout",
     "output_type": "stream",
     "text": [
      "[32,   200] loss: 0.015 accuracy: 0.949\n",
      "[32,   400] loss: 0.016 accuracy: 0.946\n",
      "[32,   600] loss: 0.016 accuracy: 0.943\n",
      "[32,   800] loss: 0.015 accuracy: 0.944\n",
      "[32,  1000] loss: 0.015 accuracy: 0.947\n",
      "[32,  1200] loss: 0.016 accuracy: 0.940\n",
      "[32,  1400] loss: 0.016 accuracy: 0.944\n",
      "[32,  1600] loss: 0.017 accuracy: 0.940\n",
      "[32,  1800] loss: 0.018 accuracy: 0.934\n",
      "[32,  2000] loss: 0.017 accuracy: 0.942\n",
      "[32,  2200] loss: 0.016 accuracy: 0.944\n",
      "[32,  2400] loss: 0.017 accuracy: 0.938\n",
      "[32,  2600] loss: 0.017 accuracy: 0.940\n",
      "\n"
     ]
    },
    {
     "data": {
      "application/vnd.jupyter.widget-view+json": {
       "model_id": "b163e9c02db84855babc3c190a32867d",
       "version_major": 2,
       "version_minor": 0
      },
      "text/plain": [
       "HBox(children=(FloatProgress(value=0.0, max=173.0), HTML(value='')))"
      ]
     },
     "metadata": {},
     "output_type": "display_data"
    },
    {
     "name": "stdout",
     "output_type": "stream",
     "text": [
      "\n",
      "val acc: 0.8985480943738657\n"
     ]
    },
    {
     "data": {
      "application/vnd.jupyter.widget-view+json": {
       "model_id": "79ab9d67878747ca8ffcade1a67b3c2b",
       "version_major": 2,
       "version_minor": 0
      },
      "text/plain": [
       "HBox(children=(FloatProgress(value=0.0, max=2755.0), HTML(value='')))"
      ]
     },
     "metadata": {},
     "output_type": "display_data"
    },
    {
     "name": "stdout",
     "output_type": "stream",
     "text": [
      "[33,   200] loss: 0.015 accuracy: 0.950\n",
      "[33,   400] loss: 0.016 accuracy: 0.945\n",
      "[33,   600] loss: 0.015 accuracy: 0.946\n",
      "[33,   800] loss: 0.015 accuracy: 0.946\n",
      "[33,  1000] loss: 0.015 accuracy: 0.947\n",
      "[33,  1200] loss: 0.016 accuracy: 0.941\n",
      "[33,  1400] loss: 0.016 accuracy: 0.943\n",
      "[33,  1600] loss: 0.016 accuracy: 0.944\n",
      "[33,  1800] loss: 0.017 accuracy: 0.943\n",
      "[33,  2000] loss: 0.017 accuracy: 0.939\n",
      "[33,  2200] loss: 0.017 accuracy: 0.941\n",
      "[33,  2400] loss: 0.018 accuracy: 0.935\n",
      "[33,  2600] loss: 0.016 accuracy: 0.941\n",
      "\n"
     ]
    },
    {
     "data": {
      "application/vnd.jupyter.widget-view+json": {
       "model_id": "954f2987485e4f4cb1f3eeda1c77942f",
       "version_major": 2,
       "version_minor": 0
      },
      "text/plain": [
       "HBox(children=(FloatProgress(value=0.0, max=173.0), HTML(value='')))"
      ]
     },
     "metadata": {},
     "output_type": "display_data"
    },
    {
     "name": "stdout",
     "output_type": "stream",
     "text": [
      "\n",
      "val acc: 0.8891107078039927\n"
     ]
    },
    {
     "data": {
      "application/vnd.jupyter.widget-view+json": {
       "model_id": "dceb009ab91e4f15afaf3b3641fc77a2",
       "version_major": 2,
       "version_minor": 0
      },
      "text/plain": [
       "HBox(children=(FloatProgress(value=0.0, max=2755.0), HTML(value='')))"
      ]
     },
     "metadata": {},
     "output_type": "display_data"
    },
    {
     "name": "stdout",
     "output_type": "stream",
     "text": [
      "[34,   200] loss: 0.014 accuracy: 0.953\n",
      "[34,   400] loss: 0.014 accuracy: 0.950\n",
      "[34,   600] loss: 0.015 accuracy: 0.945\n",
      "[34,   800] loss: 0.016 accuracy: 0.939\n",
      "[34,  1000] loss: 0.014 accuracy: 0.949\n",
      "[34,  1200] loss: 0.014 accuracy: 0.950\n",
      "[34,  1400] loss: 0.016 accuracy: 0.945\n",
      "[34,  1600] loss: 0.016 accuracy: 0.941\n",
      "[34,  1800] loss: 0.016 accuracy: 0.943\n",
      "[34,  2000] loss: 0.017 accuracy: 0.938\n",
      "[34,  2200] loss: 0.016 accuracy: 0.944\n",
      "[34,  2400] loss: 0.015 accuracy: 0.948\n",
      "[34,  2600] loss: 0.017 accuracy: 0.940\n",
      "\n"
     ]
    },
    {
     "data": {
      "application/vnd.jupyter.widget-view+json": {
       "model_id": "520d573accc048d8be150ca87ab4bf02",
       "version_major": 2,
       "version_minor": 0
      },
      "text/plain": [
       "HBox(children=(FloatProgress(value=0.0, max=173.0), HTML(value='')))"
      ]
     },
     "metadata": {},
     "output_type": "display_data"
    },
    {
     "name": "stdout",
     "output_type": "stream",
     "text": [
      "\n",
      "val acc: 0.8950998185117968\n"
     ]
    },
    {
     "data": {
      "application/vnd.jupyter.widget-view+json": {
       "model_id": "130411b45cb242238d9ecf36f3e748d5",
       "version_major": 2,
       "version_minor": 0
      },
      "text/plain": [
       "HBox(children=(FloatProgress(value=0.0, max=2755.0), HTML(value='')))"
      ]
     },
     "metadata": {},
     "output_type": "display_data"
    },
    {
     "name": "stdout",
     "output_type": "stream",
     "text": [
      "[35,   200] loss: 0.014 accuracy: 0.954\n",
      "[35,   400] loss: 0.016 accuracy: 0.944\n",
      "[35,   600] loss: 0.014 accuracy: 0.953\n",
      "[35,   800] loss: 0.015 accuracy: 0.945\n",
      "[35,  1000] loss: 0.015 accuracy: 0.949\n",
      "[35,  1200] loss: 0.015 accuracy: 0.948\n",
      "[35,  1400] loss: 0.016 accuracy: 0.946\n",
      "[35,  1600] loss: 0.014 accuracy: 0.951\n",
      "[35,  1800] loss: 0.016 accuracy: 0.947\n",
      "[35,  2000] loss: 0.015 accuracy: 0.948\n",
      "[35,  2200] loss: 0.015 accuracy: 0.949\n",
      "[35,  2400] loss: 0.015 accuracy: 0.945\n",
      "[35,  2600] loss: 0.016 accuracy: 0.945\n",
      "\n"
     ]
    },
    {
     "data": {
      "application/vnd.jupyter.widget-view+json": {
       "model_id": "e0ed29a4d3e64e4e96d0f70ad5f1bd98",
       "version_major": 2,
       "version_minor": 0
      },
      "text/plain": [
       "HBox(children=(FloatProgress(value=0.0, max=173.0), HTML(value='')))"
      ]
     },
     "metadata": {},
     "output_type": "display_data"
    },
    {
     "name": "stdout",
     "output_type": "stream",
     "text": [
      "\n",
      "val acc: 0.9023593466424682\n"
     ]
    },
    {
     "data": {
      "application/vnd.jupyter.widget-view+json": {
       "model_id": "e12ea1123ba743a08607d800f79194e3",
       "version_major": 2,
       "version_minor": 0
      },
      "text/plain": [
       "HBox(children=(FloatProgress(value=0.0, max=2755.0), HTML(value='')))"
      ]
     },
     "metadata": {},
     "output_type": "display_data"
    },
    {
     "name": "stdout",
     "output_type": "stream",
     "text": [
      "[36,   200] loss: 0.012 accuracy: 0.960\n",
      "[36,   400] loss: 0.013 accuracy: 0.955\n",
      "[36,   600] loss: 0.015 accuracy: 0.949\n",
      "[36,   800] loss: 0.013 accuracy: 0.956\n",
      "[36,  1000] loss: 0.015 accuracy: 0.949\n",
      "[36,  1200] loss: 0.014 accuracy: 0.952\n",
      "[36,  1400] loss: 0.014 accuracy: 0.954\n",
      "[36,  1600] loss: 0.016 accuracy: 0.944\n",
      "[36,  1800] loss: 0.015 accuracy: 0.951\n",
      "[36,  2000] loss: 0.016 accuracy: 0.943\n",
      "[36,  2200] loss: 0.015 accuracy: 0.951\n",
      "[36,  2400] loss: 0.016 accuracy: 0.945\n",
      "[36,  2600] loss: 0.014 accuracy: 0.949\n",
      "\n"
     ]
    },
    {
     "data": {
      "application/vnd.jupyter.widget-view+json": {
       "model_id": "aaf3f0c574be40449f674349be13100f",
       "version_major": 2,
       "version_minor": 0
      },
      "text/plain": [
       "HBox(children=(FloatProgress(value=0.0, max=173.0), HTML(value='')))"
      ]
     },
     "metadata": {},
     "output_type": "display_data"
    },
    {
     "name": "stdout",
     "output_type": "stream",
     "text": [
      "\n",
      "val acc: 0.8960980036297641\n"
     ]
    },
    {
     "data": {
      "application/vnd.jupyter.widget-view+json": {
       "model_id": "1391f4c707144452bf8e3f7549bbbe81",
       "version_major": 2,
       "version_minor": 0
      },
      "text/plain": [
       "HBox(children=(FloatProgress(value=0.0, max=2755.0), HTML(value='')))"
      ]
     },
     "metadata": {},
     "output_type": "display_data"
    },
    {
     "name": "stdout",
     "output_type": "stream",
     "text": [
      "[37,   200] loss: 0.012 accuracy: 0.958\n",
      "[37,   400] loss: 0.013 accuracy: 0.956\n",
      "[37,   600] loss: 0.013 accuracy: 0.956\n",
      "[37,   800] loss: 0.016 accuracy: 0.949\n",
      "[37,  1000] loss: 0.015 accuracy: 0.947\n",
      "[37,  1200] loss: 0.014 accuracy: 0.952\n",
      "[37,  1400] loss: 0.014 accuracy: 0.951\n",
      "[37,  1600] loss: 0.015 accuracy: 0.947\n",
      "[37,  1800] loss: 0.014 accuracy: 0.951\n",
      "[37,  2000] loss: 0.015 accuracy: 0.949\n",
      "[37,  2200] loss: 0.016 accuracy: 0.947\n",
      "[37,  2400] loss: 0.015 accuracy: 0.948\n",
      "[37,  2600] loss: 0.015 accuracy: 0.946\n",
      "\n"
     ]
    },
    {
     "data": {
      "application/vnd.jupyter.widget-view+json": {
       "model_id": "f86dcba472ec4abca5a2e33d3e88e0a6",
       "version_major": 2,
       "version_minor": 0
      },
      "text/plain": [
       "HBox(children=(FloatProgress(value=0.0, max=173.0), HTML(value='')))"
      ]
     },
     "metadata": {},
     "output_type": "display_data"
    },
    {
     "name": "stdout",
     "output_type": "stream",
     "text": [
      "\n",
      "val acc: 0.8997277676950998\n"
     ]
    },
    {
     "data": {
      "application/vnd.jupyter.widget-view+json": {
       "model_id": "f963f5a58ad84228a9f0962babb61096",
       "version_major": 2,
       "version_minor": 0
      },
      "text/plain": [
       "HBox(children=(FloatProgress(value=0.0, max=2755.0), HTML(value='')))"
      ]
     },
     "metadata": {},
     "output_type": "display_data"
    },
    {
     "name": "stdout",
     "output_type": "stream",
     "text": [
      "[38,   200] loss: 0.012 accuracy: 0.959\n",
      "[38,   400] loss: 0.013 accuracy: 0.956\n",
      "[38,   600] loss: 0.014 accuracy: 0.953\n",
      "[38,   800] loss: 0.013 accuracy: 0.956\n",
      "[38,  1000] loss: 0.013 accuracy: 0.955\n",
      "[38,  1200] loss: 0.013 accuracy: 0.956\n",
      "[38,  1400] loss: 0.013 accuracy: 0.952\n",
      "[38,  1600] loss: 0.014 accuracy: 0.955\n",
      "[38,  1800] loss: 0.014 accuracy: 0.949\n",
      "[38,  2000] loss: 0.015 accuracy: 0.949\n",
      "[38,  2200] loss: 0.015 accuracy: 0.945\n",
      "[38,  2400] loss: 0.015 accuracy: 0.950\n",
      "[38,  2600] loss: 0.014 accuracy: 0.948\n",
      "\n"
     ]
    },
    {
     "data": {
      "application/vnd.jupyter.widget-view+json": {
       "model_id": "ea28322e21fc4cd2af165371d7e42c39",
       "version_major": 2,
       "version_minor": 0
      },
      "text/plain": [
       "HBox(children=(FloatProgress(value=0.0, max=173.0), HTML(value='')))"
      ]
     },
     "metadata": {},
     "output_type": "display_data"
    },
    {
     "name": "stdout",
     "output_type": "stream",
     "text": [
      "\n",
      "val acc: 0.9019056261343013\n"
     ]
    },
    {
     "data": {
      "application/vnd.jupyter.widget-view+json": {
       "model_id": "33beaaecaefe4488b30062f5f5118d3b",
       "version_major": 2,
       "version_minor": 0
      },
      "text/plain": [
       "HBox(children=(FloatProgress(value=0.0, max=2755.0), HTML(value='')))"
      ]
     },
     "metadata": {},
     "output_type": "display_data"
    },
    {
     "name": "stdout",
     "output_type": "stream",
     "text": [
      "[39,   200] loss: 0.012 accuracy: 0.961\n",
      "[39,   400] loss: 0.012 accuracy: 0.953\n",
      "[39,   600] loss: 0.012 accuracy: 0.960\n",
      "[39,   800] loss: 0.013 accuracy: 0.952\n",
      "[39,  1000] loss: 0.012 accuracy: 0.958\n",
      "[39,  1200] loss: 0.013 accuracy: 0.952\n",
      "[39,  1400] loss: 0.014 accuracy: 0.950\n",
      "[39,  1600] loss: 0.014 accuracy: 0.950\n",
      "[39,  1800] loss: 0.013 accuracy: 0.956\n",
      "[39,  2000] loss: 0.014 accuracy: 0.949\n",
      "[39,  2200] loss: 0.014 accuracy: 0.949\n",
      "[39,  2400] loss: 0.014 accuracy: 0.950\n",
      "[39,  2600] loss: 0.013 accuracy: 0.955\n",
      "\n"
     ]
    },
    {
     "data": {
      "application/vnd.jupyter.widget-view+json": {
       "model_id": "dbe5e11454144c1691cd57cf8b237e39",
       "version_major": 2,
       "version_minor": 0
      },
      "text/plain": [
       "HBox(children=(FloatProgress(value=0.0, max=173.0), HTML(value='')))"
      ]
     },
     "metadata": {},
     "output_type": "display_data"
    },
    {
     "name": "stdout",
     "output_type": "stream",
     "text": [
      "\n",
      "val acc: 0.8941016333938294\n"
     ]
    },
    {
     "data": {
      "application/vnd.jupyter.widget-view+json": {
       "model_id": "3da1e1dc4af848fd8106410b6059d58f",
       "version_major": 2,
       "version_minor": 0
      },
      "text/plain": [
       "HBox(children=(FloatProgress(value=0.0, max=2755.0), HTML(value='')))"
      ]
     },
     "metadata": {},
     "output_type": "display_data"
    },
    {
     "name": "stdout",
     "output_type": "stream",
     "text": [
      "[40,   200] loss: 0.011 accuracy: 0.964\n",
      "[40,   400] loss: 0.013 accuracy: 0.957\n",
      "[40,   600] loss: 0.013 accuracy: 0.957\n",
      "[40,   800] loss: 0.013 accuracy: 0.954\n"
     ]
    },
    {
     "ename": "KeyboardInterrupt",
     "evalue": "",
     "output_type": "error",
     "traceback": [
      "\u001b[0;31m---------------------------------------------------------------------------\u001b[0m",
      "\u001b[0;31mKeyboardInterrupt\u001b[0m                         Traceback (most recent call last)",
      "\u001b[0;32m<ipython-input-5-d1644daca2d7>\u001b[0m in \u001b[0;36m<module>\u001b[0;34m\u001b[0m\n\u001b[1;32m     34\u001b[0m         \u001b[0mout\u001b[0m \u001b[0;34m=\u001b[0m \u001b[0movernet\u001b[0m\u001b[0;34m(\u001b[0m\u001b[0mspec\u001b[0m\u001b[0;34m)\u001b[0m\u001b[0;34m\u001b[0m\u001b[0;34m\u001b[0m\u001b[0m\n\u001b[1;32m     35\u001b[0m         \u001b[0mloss\u001b[0m \u001b[0;34m=\u001b[0m \u001b[0mcriterion\u001b[0m\u001b[0;34m(\u001b[0m\u001b[0mout\u001b[0m\u001b[0;34m,\u001b[0m \u001b[0mtarget\u001b[0m\u001b[0;34m)\u001b[0m\u001b[0;34m\u001b[0m\u001b[0;34m\u001b[0m\u001b[0m\n\u001b[0;32m---> 36\u001b[0;31m         \u001b[0mloss\u001b[0m\u001b[0;34m.\u001b[0m\u001b[0mbackward\u001b[0m\u001b[0;34m(\u001b[0m\u001b[0;34m)\u001b[0m\u001b[0;34m\u001b[0m\u001b[0;34m\u001b[0m\u001b[0m\n\u001b[0m\u001b[1;32m     37\u001b[0m         \u001b[0mtorch\u001b[0m\u001b[0;34m.\u001b[0m\u001b[0mnn\u001b[0m\u001b[0;34m.\u001b[0m\u001b[0mutils\u001b[0m\u001b[0;34m.\u001b[0m\u001b[0mclip_grad_norm_\u001b[0m\u001b[0;34m(\u001b[0m\u001b[0movernet\u001b[0m\u001b[0;34m.\u001b[0m\u001b[0mparameters\u001b[0m\u001b[0;34m(\u001b[0m\u001b[0;34m)\u001b[0m\u001b[0;34m,\u001b[0m \u001b[0;36m0.5\u001b[0m\u001b[0;34m)\u001b[0m\u001b[0;34m\u001b[0m\u001b[0;34m\u001b[0m\u001b[0m\n\u001b[1;32m     38\u001b[0m         \u001b[0moptimizer\u001b[0m\u001b[0;34m.\u001b[0m\u001b[0mstep\u001b[0m\u001b[0;34m(\u001b[0m\u001b[0;34m)\u001b[0m\u001b[0;34m\u001b[0m\u001b[0;34m\u001b[0m\u001b[0m\n",
      "\u001b[0;32m~/anaconda3/lib/python3.7/site-packages/torch/tensor.py\u001b[0m in \u001b[0;36mbackward\u001b[0;34m(self, gradient, retain_graph, create_graph)\u001b[0m\n\u001b[1;32m    193\u001b[0m                 \u001b[0mproducts\u001b[0m\u001b[0;34m.\u001b[0m \u001b[0mDefaults\u001b[0m \u001b[0mto\u001b[0m\u001b[0;31m \u001b[0m\u001b[0;31m`\u001b[0m\u001b[0;31m`\u001b[0m\u001b[0;32mFalse\u001b[0m\u001b[0;31m`\u001b[0m\u001b[0;31m`\u001b[0m\u001b[0;34m.\u001b[0m\u001b[0;34m\u001b[0m\u001b[0;34m\u001b[0m\u001b[0m\n\u001b[1;32m    194\u001b[0m         \"\"\"\n\u001b[0;32m--> 195\u001b[0;31m         \u001b[0mtorch\u001b[0m\u001b[0;34m.\u001b[0m\u001b[0mautograd\u001b[0m\u001b[0;34m.\u001b[0m\u001b[0mbackward\u001b[0m\u001b[0;34m(\u001b[0m\u001b[0mself\u001b[0m\u001b[0;34m,\u001b[0m \u001b[0mgradient\u001b[0m\u001b[0;34m,\u001b[0m \u001b[0mretain_graph\u001b[0m\u001b[0;34m,\u001b[0m \u001b[0mcreate_graph\u001b[0m\u001b[0;34m)\u001b[0m\u001b[0;34m\u001b[0m\u001b[0;34m\u001b[0m\u001b[0m\n\u001b[0m\u001b[1;32m    196\u001b[0m \u001b[0;34m\u001b[0m\u001b[0m\n\u001b[1;32m    197\u001b[0m     \u001b[0;32mdef\u001b[0m \u001b[0mregister_hook\u001b[0m\u001b[0;34m(\u001b[0m\u001b[0mself\u001b[0m\u001b[0;34m,\u001b[0m \u001b[0mhook\u001b[0m\u001b[0;34m)\u001b[0m\u001b[0;34m:\u001b[0m\u001b[0;34m\u001b[0m\u001b[0;34m\u001b[0m\u001b[0m\n",
      "\u001b[0;32m~/anaconda3/lib/python3.7/site-packages/torch/autograd/__init__.py\u001b[0m in \u001b[0;36mbackward\u001b[0;34m(tensors, grad_tensors, retain_graph, create_graph, grad_variables)\u001b[0m\n\u001b[1;32m     97\u001b[0m     Variable._execution_engine.run_backward(\n\u001b[1;32m     98\u001b[0m         \u001b[0mtensors\u001b[0m\u001b[0;34m,\u001b[0m \u001b[0mgrad_tensors\u001b[0m\u001b[0;34m,\u001b[0m \u001b[0mretain_graph\u001b[0m\u001b[0;34m,\u001b[0m \u001b[0mcreate_graph\u001b[0m\u001b[0;34m,\u001b[0m\u001b[0;34m\u001b[0m\u001b[0;34m\u001b[0m\u001b[0m\n\u001b[0;32m---> 99\u001b[0;31m         allow_unreachable=True)  # allow_unreachable flag\n\u001b[0m\u001b[1;32m    100\u001b[0m \u001b[0;34m\u001b[0m\u001b[0m\n\u001b[1;32m    101\u001b[0m \u001b[0;34m\u001b[0m\u001b[0m\n",
      "\u001b[0;31mKeyboardInterrupt\u001b[0m: "
     ]
    }
   ],
   "source": [
    "batch_size = 32\n",
    "def find_max2(tensor):\n",
    "    array = tensor.cpu().detach().numpy()\n",
    "    max2 = []\n",
    "    for row in array:\n",
    "        max2.append(np.argsort(row)[::-1][:2])\n",
    "    return np.array(max2)\n",
    "\n",
    "def compute_corrects(tensor1, tensor2):\n",
    "    max_1, max_2 = find_max2(tensor1), find_max2(tensor2)\n",
    "    batch_size = max_1.shape[0]\n",
    "    batch_corrects = 0\n",
    "    for i in range(batch_size):\n",
    "        if Counter(max_1[i])==Counter(max_2[i]):\n",
    "            batch_corrects+=1\n",
    "    return batch_corrects\n",
    "\n",
    "\n",
    "trainloader = torch.utils.data.DataLoader(trainset, batch_size=batch_size, shuffle=True, pin_memory = True, num_workers = 16)\n",
    "valloader = torch.utils.data.DataLoader(valset, batch_size=64, shuffle=True, pin_memory = True, num_workers = 16)\n",
    "criterion = torch.nn.BCELoss()\n",
    "\n",
    "for epoch in range(64):\n",
    "    running_loss = 0.0\n",
    "    running_accuracy = 0.0\n",
    "    for batch_idx, (spec, target) in enumerate(tqdm(trainloader)):\n",
    "        optimizer.zero_grad()\n",
    "        spec, target = spec.float(), target.float()\n",
    "        if half:\n",
    "            spec, target = spec.half(),target.half()\n",
    "        spec = spec.cuda(device)\n",
    "        target = target.cuda(device)\n",
    "\n",
    "        out = overnet(spec)\n",
    "        loss = criterion(out, target)\n",
    "        loss.backward()\n",
    "        torch.nn.utils.clip_grad_norm_(overnet.parameters(), 0.5)\n",
    "        optimizer.step()\n",
    "                \n",
    "        running_loss += loss.item()\n",
    "        running_accuracy += compute_corrects(out, target)/batch_size\n",
    "        if batch_idx % 200 == 199:    # print every 2000 mini-batches\n",
    "            print('[%d, %5d] loss: %.3f accuracy: %.3f' % \n",
    "                  (epoch + 1, batch_idx + 1, running_loss / 200, running_accuracy / 200))\n",
    "            running_loss = 0.0\n",
    "            running_accuracy = 0.0\n",
    "            torch.save({\n",
    "            'model_state_dict': overnet.state_dict(),\n",
    "            'optimizer_state_dict': optimizer.state_dict(),\n",
    "            'loss': loss\n",
    "            }, 'models/resatt.pth')\n",
    "\n",
    "        \n",
    "        \n",
    "    corrects = 0\n",
    "    for batch_idx, (spec, target) in enumerate(tqdm(valloader)):\n",
    "        spec, target = spec.float(), target.float()\n",
    "        if half:\n",
    "            spec, target = spec.half(), target.half()\n",
    "        spec = spec.cuda(device)\n",
    "        target = target.cuda(device)\n",
    "        overnet.eval()\n",
    "        out = overnet(spec) \n",
    "        corrects += compute_corrects(out, target)\n",
    "    print('val acc:', corrects/len(valset))\n",
    "    if corrects/len(valset) > bestacc:\n",
    "        bestacc = corrects/len(valset)\n",
    "        torch.save({\n",
    "        'model_state_dict': overnet.state_dict(),\n",
    "        'optimizer_state_dict': optimizer.state_dict(),\n",
    "        'loss': loss,\n",
    "        'bestacc': bestacc\n",
    "        }, 'models/best-resatt.pth')\n",
    "    overnet.train()\n",
    "    pass"
   ]
  },
  {
   "cell_type": "code",
   "execution_count": 6,
   "metadata": {},
   "outputs": [
    {
     "data": {
      "application/vnd.jupyter.widget-view+json": {
       "model_id": "5ffdc4f963504918bb4904d58ec4d6b9",
       "version_major": 2,
       "version_minor": 0
      },
      "text/plain": [
       "HBox(children=(FloatProgress(value=0.0, max=173.0), HTML(value='')))"
      ]
     },
     "metadata": {},
     "output_type": "display_data"
    },
    {
     "name": "stdout",
     "output_type": "stream",
     "text": [
      "\n",
      "test acc: 0.9022686025408349\n"
     ]
    }
   ],
   "source": [
    "checkpoint = torch.load('models/best-resatt.pth')\n",
    "overnet.load_state_dict(checkpoint['model_state_dict'])\n",
    "\n",
    "testloader = torch.utils.data.DataLoader(testset, batch_size=64, shuffle=True, pin_memory = True, num_workers = 16)\n",
    "        \n",
    "corrects = 0\n",
    "for batch_idx, (spec, target) in enumerate(tqdm(testloader)):\n",
    "    spec, target = spec.float(), target.float()\n",
    "    if half:\n",
    "        spec, target = spec.half(), target.half()\n",
    "    spec = spec.cuda(device)\n",
    "    target = target.cuda(device)\n",
    "    overnet.eval()\n",
    "    out = overnet(spec) \n",
    "    corrects += compute_corrects(out, target)\n",
    "print('test acc:', corrects/len(testset))\n",
    "overnet.train()\n",
    "pass"
   ]
  },
  {
   "cell_type": "code",
   "execution_count": null,
   "metadata": {},
   "outputs": [],
   "source": []
  }
 ],
 "metadata": {
  "kernelspec": {
   "display_name": "Python 3",
   "language": "python",
   "name": "python3"
  },
  "language_info": {
   "codemirror_mode": {
    "name": "ipython",
    "version": 3
   },
   "file_extension": ".py",
   "mimetype": "text/x-python",
   "name": "python",
   "nbconvert_exporter": "python",
   "pygments_lexer": "ipython3",
   "version": "3.7.6"
  }
 },
 "nbformat": 4,
 "nbformat_minor": 4
}
