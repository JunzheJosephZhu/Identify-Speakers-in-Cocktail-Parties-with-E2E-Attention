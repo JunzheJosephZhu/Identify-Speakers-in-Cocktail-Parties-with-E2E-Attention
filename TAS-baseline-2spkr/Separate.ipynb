{
 "cells": [
  {
   "cell_type": "code",
   "execution_count": 10,
   "metadata": {},
   "outputs": [],
   "source": [
    "import sys\n",
    "from librosa.core import resample\n",
    "import pandas as pd\n",
    "import numpy as np\n",
    "from IPython.display import Audio\n",
    "import torch\n",
    "import pathlib\n",
    "def create_dir(filename):\n",
    "    pathlib.Path('/'.join(filename.split('/')[:-1])).mkdir(parents=True, exist_ok=True)\n",
    "from tqdm.notebook import tqdm\n",
    "sys.path.append('Conv-TasNet/src/')\n",
    "sys.path.append('SincNet/')\n",
    "from conv_tasnet import *\n",
    "from pit_criterion import cal_loss\n",
    "from dnn_models import *\n",
    "from data_io import ReadList,read_conf_inp,str_to_bool\n",
    "from collections import Counter\n",
    "import os\n",
    "device = 0\n",
    "device_ids = [0, 1, 2]\n",
    "root = '../'\n",
    "sr = 8000"
   ]
  },
  {
   "cell_type": "code",
   "execution_count": 3,
   "metadata": {},
   "outputs": [],
   "source": [
    "## this is obsolete, if want to retrain just use OverlayDataset\n",
    "class SourceSet(torch.utils.data.Dataset):\n",
    "    def __init__(self, csv):\n",
    "        super().__init__()\n",
    "        self.csv = pd.read_csv(csv)\n",
    "    def __len__(self):\n",
    "        return len(self.csv)\n",
    "    def __getitem__(self, idx):\n",
    "        row = self.csv.iloc[idx]\n",
    "        sig1, sig2 = np.load(root+row['first_file']), np.load(root+row['second_file'])\n",
    "        return sig1, sig2\n",
    "sourceset_train = SourceSet('overlay-train.csv')"
   ]
  },
  {
   "cell_type": "code",
   "execution_count": 93,
   "metadata": {},
   "outputs": [
    {
     "name": "stdout",
     "output_type": "stream",
     "text": [
      "load model\n"
     ]
    }
   ],
   "source": [
    "tasnet = ConvTasNet.load_model('final.pth.tar').cuda(device)\n",
    "optimizer = torch.optim.Adam(tasnet.parameters(), lr = 0.001)\n",
    "if os.path.exists('models/tasnet.pth'):\n",
    "    print('load model')\n",
    "    checkpoint = torch.load('models/tasnet.pth')\n",
    "    tasnet.load_state_dict(checkpoint['model_state_dict'])\n",
    "    optimizer.load_state_dict(checkpoint['optimizer_state_dict'])\n",
    "    loss = checkpoint['loss']\n",
    "loss\n",
    "tasnet = nn.DataParallel(tasnet, device_ids = device_ids)"
   ]
  },
  {
   "cell_type": "code",
   "execution_count": 4,
   "metadata": {},
   "outputs": [
    {
     "data": {
      "application/vnd.jupyter.widget-view+json": {
       "model_id": "d4e5033917ba4c19a704ed210e4fdd57",
       "version_major": 2,
       "version_minor": 0
      },
      "text/plain": [
       "HBox(children=(FloatProgress(value=0.0, max=9500.0), HTML(value='')))"
      ]
     },
     "metadata": {},
     "output_type": "display_data"
    },
    {
     "name": "stderr",
     "output_type": "stream",
     "text": [
      "Conv-TasNet/src/utils.py:40: UserWarning: To copy construct from a tensor, it is recommended to use sourceTensor.clone().detach() or sourceTensor.clone().detach().requires_grad_(True), rather than tensor.new_tensor(sourceTensor).\n",
      "  frame = signal.new_tensor(frame).long()  # signal may in GPU or CPU\n"
     ]
    },
    {
     "name": "stdout",
     "output_type": "stream",
     "text": [
      "[1,   200] loss: -5.167 \n",
      "[1,   400] loss: -6.867 \n",
      "[1,   600] loss: -7.426 \n",
      "[1,   800] loss: -7.843 \n",
      "[1,  1000] loss: -8.265 \n",
      "[1,  1200] loss: -8.652 \n",
      "[1,  1400] loss: -8.868 \n",
      "[1,  1600] loss: -9.058 \n",
      "[1,  1800] loss: -9.171 \n",
      "[1,  2000] loss: -9.386 \n",
      "[1,  2200] loss: -9.449 \n",
      "[1,  2400] loss: -9.769 \n",
      "[1,  2600] loss: -9.942 \n",
      "[1,  2800] loss: -9.882 \n",
      "[1,  3000] loss: -9.975 \n",
      "[1,  3200] loss: -10.000 \n",
      "[1,  3400] loss: -10.031 \n",
      "[1,  3600] loss: -10.213 \n",
      "[1,  3800] loss: -10.247 \n",
      "[1,  4000] loss: -10.360 \n",
      "[1,  4200] loss: -10.266 \n",
      "[1,  4400] loss: -10.541 \n",
      "[1,  4600] loss: -10.666 \n",
      "[1,  4800] loss: -10.592 \n",
      "[1,  5000] loss: -10.697 \n",
      "[1,  5200] loss: -10.730 \n",
      "[1,  5400] loss: -10.705 \n",
      "[1,  5600] loss: -10.744 \n",
      "[1,  5800] loss: -10.895 \n",
      "[1,  6000] loss: -11.050 \n",
      "[1,  6200] loss: -10.962 \n",
      "[1,  6400] loss: -11.099 \n",
      "[1,  6600] loss: -11.007 \n",
      "[1,  6800] loss: -11.065 \n",
      "[1,  7000] loss: -11.032 \n",
      "[1,  7200] loss: -11.152 \n",
      "[1,  7400] loss: -11.268 \n",
      "[1,  7600] loss: -11.165 \n",
      "[1,  7800] loss: -11.271 \n",
      "[1,  8000] loss: -11.244 \n",
      "[1,  8200] loss: -11.172 \n",
      "[1,  8400] loss: -11.210 \n",
      "[1,  8600] loss: -11.423 \n",
      "[1,  8800] loss: -11.505 \n",
      "[1,  9000] loss: -11.467 \n",
      "[1,  9200] loss: -11.457 \n",
      "[1,  9400] loss: -11.521 \n",
      "\n"
     ]
    },
    {
     "data": {
      "application/vnd.jupyter.widget-view+json": {
       "model_id": "2fa5beb9573046e19ad80acc5ce02ebc",
       "version_major": 2,
       "version_minor": 0
      },
      "text/plain": [
       "HBox(children=(FloatProgress(value=0.0, max=9500.0), HTML(value='')))"
      ]
     },
     "metadata": {},
     "output_type": "display_data"
    },
    {
     "name": "stdout",
     "output_type": "stream",
     "text": [
      "[2,   200] loss: -11.438 \n",
      "[2,   400] loss: -11.493 \n",
      "[2,   600] loss: -11.572 \n",
      "[2,   800] loss: -11.673 \n",
      "[2,  1000] loss: -11.650 \n",
      "[2,  1200] loss: -11.520 \n",
      "[2,  1400] loss: -11.775 \n",
      "[2,  1600] loss: -11.709 \n",
      "[2,  1800] loss: -11.776 \n",
      "[2,  2000] loss: -11.600 \n",
      "[2,  2200] loss: -11.804 \n",
      "[2,  2400] loss: -11.794 \n",
      "[2,  2600] loss: -11.769 \n",
      "[2,  2800] loss: -11.780 \n",
      "[2,  3000] loss: -11.720 \n",
      "[2,  3200] loss: -11.950 \n",
      "[2,  3400] loss: -11.748 \n",
      "[2,  3600] loss: -11.908 \n",
      "[2,  3800] loss: -11.997 \n",
      "[2,  4000] loss: -11.885 \n",
      "[2,  4200] loss: -11.854 \n",
      "[2,  4400] loss: -11.910 \n",
      "[2,  4600] loss: -11.927 \n",
      "[2,  4800] loss: -11.831 \n",
      "[2,  5000] loss: -11.940 \n",
      "[2,  5200] loss: -11.819 \n",
      "[2,  5400] loss: -11.880 \n",
      "[2,  5600] loss: -11.876 \n",
      "[2,  5800] loss: -12.022 \n",
      "[2,  6000] loss: -11.914 \n",
      "[2,  6200] loss: -11.783 \n",
      "[2,  6400] loss: -11.979 \n",
      "[2,  6600] loss: -11.900 \n",
      "[2,  6800] loss: -12.005 \n",
      "[2,  7000] loss: -11.891 \n",
      "[2,  7200] loss: -12.066 \n",
      "[2,  7400] loss: -11.958 \n",
      "[2,  7600] loss: -12.135 \n",
      "[2,  7800] loss: -11.909 \n",
      "[2,  8000] loss: -12.191 \n",
      "[2,  8200] loss: -12.220 \n",
      "[2,  8400] loss: -11.970 \n",
      "[2,  8600] loss: -12.114 \n",
      "[2,  8800] loss: -12.052 \n",
      "[2,  9000] loss: -12.224 \n",
      "[2,  9200] loss: -12.191 \n",
      "[2,  9400] loss: -12.267 \n",
      "\n"
     ]
    },
    {
     "data": {
      "application/vnd.jupyter.widget-view+json": {
       "model_id": "6eda33f26ea04ce1b6b18e1c990665c5",
       "version_major": 2,
       "version_minor": 0
      },
      "text/plain": [
       "HBox(children=(FloatProgress(value=0.0, max=9500.0), HTML(value='')))"
      ]
     },
     "metadata": {},
     "output_type": "display_data"
    },
    {
     "name": "stdout",
     "output_type": "stream",
     "text": [
      "[3,   200] loss: -12.362 \n",
      "[3,   400] loss: -12.326 \n",
      "[3,   600] loss: -12.300 \n",
      "[3,   800] loss: -12.266 \n",
      "[3,  1000] loss: -12.254 \n",
      "[3,  1200] loss: -12.245 \n",
      "[3,  1400] loss: -12.312 \n",
      "[3,  1600] loss: -12.201 \n",
      "[3,  1800] loss: -12.231 \n",
      "[3,  2000] loss: -12.165 \n",
      "[3,  2200] loss: -12.342 \n",
      "[3,  2400] loss: -12.292 \n",
      "[3,  2600] loss: -12.323 \n",
      "[3,  2800] loss: -12.338 \n",
      "[3,  3000] loss: -12.404 \n",
      "[3,  3200] loss: -12.299 \n",
      "[3,  3400] loss: -12.360 \n",
      "[3,  3600] loss: -12.338 \n",
      "[3,  3800] loss: -12.484 \n",
      "[3,  4000] loss: -12.401 \n",
      "[3,  4200] loss: -12.341 \n",
      "[3,  4400] loss: -12.334 \n",
      "[3,  4600] loss: -12.428 \n",
      "[3,  4800] loss: -12.428 \n",
      "[3,  5000] loss: -12.421 \n",
      "[3,  5200] loss: -12.227 \n",
      "[3,  5400] loss: -12.475 \n",
      "[3,  5600] loss: -12.448 \n",
      "[3,  5800] loss: -12.440 \n",
      "[3,  6000] loss: -12.479 \n",
      "[3,  6200] loss: -12.346 \n",
      "[3,  6400] loss: -12.504 \n",
      "[3,  6600] loss: -12.483 \n",
      "[3,  6800] loss: -12.545 \n",
      "[3,  7000] loss: -12.575 \n",
      "[3,  7200] loss: -12.474 \n",
      "[3,  7400] loss: -12.446 \n",
      "[3,  7600] loss: -12.532 \n",
      "[3,  7800] loss: -12.415 \n",
      "[3,  8000] loss: -12.511 \n",
      "[3,  8200] loss: -12.560 \n",
      "[3,  8400] loss: -12.390 \n",
      "[3,  8600] loss: -12.506 \n",
      "[3,  8800] loss: -12.559 \n",
      "[3,  9000] loss: -12.551 \n",
      "[3,  9200] loss: -12.665 \n",
      "[3,  9400] loss: -12.577 \n",
      "\n"
     ]
    },
    {
     "data": {
      "application/vnd.jupyter.widget-view+json": {
       "model_id": "c58a15c0989343f2b50c7c0c3bf9c924",
       "version_major": 2,
       "version_minor": 0
      },
      "text/plain": [
       "HBox(children=(FloatProgress(value=0.0, max=9500.0), HTML(value='')))"
      ]
     },
     "metadata": {},
     "output_type": "display_data"
    },
    {
     "name": "stdout",
     "output_type": "stream",
     "text": [
      "[4,   200] loss: -12.710 \n",
      "[4,   400] loss: -12.694 \n",
      "[4,   600] loss: -12.805 \n",
      "[4,   800] loss: -12.686 \n",
      "[4,  1000] loss: -12.725 \n",
      "[4,  1200] loss: -12.733 \n",
      "[4,  1400] loss: -12.705 \n",
      "[4,  1600] loss: -12.629 \n",
      "[4,  1800] loss: -12.598 \n",
      "[4,  2000] loss: -12.731 \n",
      "[4,  2200] loss: -12.713 \n",
      "[4,  2400] loss: -12.666 \n",
      "[4,  2600] loss: -12.855 \n",
      "[4,  2800] loss: -12.729 \n",
      "[4,  3000] loss: -12.706 \n",
      "[4,  3200] loss: -12.695 \n",
      "[4,  3400] loss: -12.747 \n",
      "[4,  3600] loss: -12.697 \n",
      "[4,  3800] loss: -12.754 \n",
      "[4,  4000] loss: -12.845 \n",
      "[4,  4200] loss: -12.683 \n",
      "[4,  4400] loss: -12.720 \n",
      "[4,  4600] loss: -12.787 \n",
      "[4,  4800] loss: -12.553 \n",
      "[4,  5000] loss: -12.757 \n",
      "[4,  5200] loss: -12.802 \n",
      "[4,  5400] loss: -12.701 \n",
      "[4,  5600] loss: -12.611 \n",
      "[4,  5800] loss: -12.782 \n",
      "[4,  6000] loss: -12.795 \n",
      "[4,  6200] loss: -12.680 \n",
      "[4,  6400] loss: -12.808 \n",
      "[4,  6600] loss: -12.663 \n",
      "[4,  6800] loss: -12.889 \n"
     ]
    },
    {
     "ename": "KeyboardInterrupt",
     "evalue": "",
     "output_type": "error",
     "traceback": [
      "\u001b[0;31m---------------------------------------------------------------------------\u001b[0m",
      "\u001b[0;31mKeyboardInterrupt\u001b[0m                         Traceback (most recent call last)",
      "\u001b[0;32m<ipython-input-4-7282e3a7bafc>\u001b[0m in \u001b[0;36m<module>\u001b[0;34m\u001b[0m\n\u001b[1;32m     12\u001b[0m         \u001b[0mloss\u001b[0m\u001b[0;34m,\u001b[0m \u001b[0mmax_snr\u001b[0m\u001b[0;34m,\u001b[0m \u001b[0mestimate_source\u001b[0m\u001b[0;34m,\u001b[0m \u001b[0mreorder_estimate_source\u001b[0m \u001b[0;34m=\u001b[0m\u001b[0;31m \u001b[0m\u001b[0;31m\\\u001b[0m\u001b[0;34m\u001b[0m\u001b[0;34m\u001b[0m\u001b[0m\n\u001b[1;32m     13\u001b[0m             \u001b[0mcal_loss\u001b[0m\u001b[0;34m(\u001b[0m\u001b[0msource\u001b[0m\u001b[0;34m,\u001b[0m \u001b[0mout\u001b[0m\u001b[0;34m,\u001b[0m \u001b[0mtorch\u001b[0m\u001b[0;34m.\u001b[0m\u001b[0mones\u001b[0m\u001b[0;34m(\u001b[0m\u001b[0mbatch_size\u001b[0m\u001b[0;34m,\u001b[0m \u001b[0mdtype\u001b[0m \u001b[0;34m=\u001b[0m \u001b[0mtorch\u001b[0m\u001b[0;34m.\u001b[0m\u001b[0mint32\u001b[0m\u001b[0;34m)\u001b[0m\u001b[0;34m.\u001b[0m\u001b[0mcuda\u001b[0m\u001b[0;34m(\u001b[0m\u001b[0mdevice\u001b[0m\u001b[0;34m)\u001b[0m\u001b[0;34m*\u001b[0m\u001b[0;36m2\u001b[0m\u001b[0;34m*\u001b[0m\u001b[0mnew_sr\u001b[0m\u001b[0;34m)\u001b[0m\u001b[0;34m\u001b[0m\u001b[0;34m\u001b[0m\u001b[0m\n\u001b[0;32m---> 14\u001b[0;31m         \u001b[0mloss\u001b[0m\u001b[0;34m.\u001b[0m\u001b[0mbackward\u001b[0m\u001b[0;34m(\u001b[0m\u001b[0;34m)\u001b[0m\u001b[0;34m\u001b[0m\u001b[0;34m\u001b[0m\u001b[0m\n\u001b[0m\u001b[1;32m     15\u001b[0m         \u001b[0mtorch\u001b[0m\u001b[0;34m.\u001b[0m\u001b[0mnn\u001b[0m\u001b[0;34m.\u001b[0m\u001b[0mutils\u001b[0m\u001b[0;34m.\u001b[0m\u001b[0mclip_grad_norm_\u001b[0m\u001b[0;34m(\u001b[0m\u001b[0mtasnet\u001b[0m\u001b[0;34m.\u001b[0m\u001b[0mparameters\u001b[0m\u001b[0;34m(\u001b[0m\u001b[0;34m)\u001b[0m\u001b[0;34m,\u001b[0m \u001b[0;36m0.5\u001b[0m\u001b[0;34m)\u001b[0m\u001b[0;34m\u001b[0m\u001b[0;34m\u001b[0m\u001b[0m\n\u001b[1;32m     16\u001b[0m         \u001b[0moptimizer\u001b[0m\u001b[0;34m.\u001b[0m\u001b[0mstep\u001b[0m\u001b[0;34m(\u001b[0m\u001b[0;34m)\u001b[0m\u001b[0;34m\u001b[0m\u001b[0;34m\u001b[0m\u001b[0m\n",
      "\u001b[0;32m~/anaconda3/lib/python3.7/site-packages/torch/tensor.py\u001b[0m in \u001b[0;36mbackward\u001b[0;34m(self, gradient, retain_graph, create_graph)\u001b[0m\n\u001b[1;32m    193\u001b[0m                 \u001b[0mproducts\u001b[0m\u001b[0;34m.\u001b[0m \u001b[0mDefaults\u001b[0m \u001b[0mto\u001b[0m\u001b[0;31m \u001b[0m\u001b[0;31m`\u001b[0m\u001b[0;31m`\u001b[0m\u001b[0;32mFalse\u001b[0m\u001b[0;31m`\u001b[0m\u001b[0;31m`\u001b[0m\u001b[0;34m.\u001b[0m\u001b[0;34m\u001b[0m\u001b[0;34m\u001b[0m\u001b[0m\n\u001b[1;32m    194\u001b[0m         \"\"\"\n\u001b[0;32m--> 195\u001b[0;31m         \u001b[0mtorch\u001b[0m\u001b[0;34m.\u001b[0m\u001b[0mautograd\u001b[0m\u001b[0;34m.\u001b[0m\u001b[0mbackward\u001b[0m\u001b[0;34m(\u001b[0m\u001b[0mself\u001b[0m\u001b[0;34m,\u001b[0m \u001b[0mgradient\u001b[0m\u001b[0;34m,\u001b[0m \u001b[0mretain_graph\u001b[0m\u001b[0;34m,\u001b[0m \u001b[0mcreate_graph\u001b[0m\u001b[0;34m)\u001b[0m\u001b[0;34m\u001b[0m\u001b[0;34m\u001b[0m\u001b[0m\n\u001b[0m\u001b[1;32m    196\u001b[0m \u001b[0;34m\u001b[0m\u001b[0m\n\u001b[1;32m    197\u001b[0m     \u001b[0;32mdef\u001b[0m \u001b[0mregister_hook\u001b[0m\u001b[0;34m(\u001b[0m\u001b[0mself\u001b[0m\u001b[0;34m,\u001b[0m \u001b[0mhook\u001b[0m\u001b[0;34m)\u001b[0m\u001b[0;34m:\u001b[0m\u001b[0;34m\u001b[0m\u001b[0;34m\u001b[0m\u001b[0m\n",
      "\u001b[0;32m~/anaconda3/lib/python3.7/site-packages/torch/autograd/__init__.py\u001b[0m in \u001b[0;36mbackward\u001b[0;34m(tensors, grad_tensors, retain_graph, create_graph, grad_variables)\u001b[0m\n\u001b[1;32m     97\u001b[0m     Variable._execution_engine.run_backward(\n\u001b[1;32m     98\u001b[0m         \u001b[0mtensors\u001b[0m\u001b[0;34m,\u001b[0m \u001b[0mgrad_tensors\u001b[0m\u001b[0;34m,\u001b[0m \u001b[0mretain_graph\u001b[0m\u001b[0;34m,\u001b[0m \u001b[0mcreate_graph\u001b[0m\u001b[0;34m,\u001b[0m\u001b[0;34m\u001b[0m\u001b[0;34m\u001b[0m\u001b[0m\n\u001b[0;32m---> 99\u001b[0;31m         allow_unreachable=True)  # allow_unreachable flag\n\u001b[0m\u001b[1;32m    100\u001b[0m \u001b[0;34m\u001b[0m\u001b[0m\n\u001b[1;32m    101\u001b[0m \u001b[0;34m\u001b[0m\u001b[0m\n",
      "\u001b[0;31mKeyboardInterrupt\u001b[0m: "
     ]
    }
   ],
   "source": [
    "batch_size = 8\n",
    "sourceloader_train  = torch.utils.data.DataLoader(sourceset_train, batch_size=batch_size, shuffle=True, pin_memory = True, num_workers = 16)\n",
    "tasnet.train()\n",
    "\n",
    "for epoch in range(64):\n",
    "    running_loss = 0.0\n",
    "    for batch_idx, (sig1, sig2) in enumerate(tqdm(sourceloader_train)):\n",
    "        optimizer.zero_grad()\n",
    "        sig1, sig2 = sig1.float().cuda(device), sig2.float().cuda(device)\n",
    "        out = tasnet(sig1+sig2)\n",
    "        source = torch.stack([sig1, sig2], dim = 1).detach()\n",
    "        loss, max_snr, estimate_source, reorder_estimate_source = \\\n",
    "            cal_loss(source, out, torch.ones(batch_size, dtype = torch.int32).cuda(device)*2*new_sr)\n",
    "        loss.backward()\n",
    "        torch.nn.utils.clip_grad_norm_(tasnet.parameters(), 0.5)\n",
    "        optimizer.step()\n",
    "\n",
    "        running_loss += loss.item()\n",
    "        if batch_idx % 200 == 199:    # print every 2000 mini-batches\n",
    "            print('[%d, %5d] loss: %.3f ' % \n",
    "                  (epoch + 1, batch_idx + 1, running_loss / 200))\n",
    "            running_loss = 0.0\n",
    "            torch.save({\n",
    "            'model_state_dict': tasnet.module.state_dict(),\n",
    "            'optimizer_state_dict': optimizer.state_dict(),\n",
    "            'loss': loss\n",
    "            }, 'models/tasnet.pth')"
   ]
  },
  {
   "cell_type": "code",
   "execution_count": 101,
   "metadata": {},
   "outputs": [
    {
     "name": "stdout",
     "output_type": "stream",
     "text": [
      "['andrea_arsenault', 'brian_lamb', 'csp_waj_susan', 'david_brancaccio', 'eddie_mair', 'joie_chen', 'kathleen_kennedy', 'leon_harris', 'linda_wertheimer', 'linden_soles', 'lisa_mullins', 'lou_waters', 'lynn_vaughan', 'mark_mullen', 'natalie_allen', 'noah_adams', 'peter_jennings', 'robert_siegel', 'ted_koppel', 'thalia_assuras']\n",
      "['andrea_arsenault', 'brian_lamb', 'csp_waj_susan', 'david_brancaccio', 'eddie_mair', 'joie_chen', 'kathleen_kennedy', 'leon_harris', 'linda_wertheimer', 'linden_soles', 'lisa_mullins', 'lou_waters', 'lynn_vaughan', 'mark_mullen', 'natalie_allen', 'noah_adams', 'peter_jennings', 'robert_siegel', 'ted_koppel', 'thalia_assuras']\n",
      "['andrea_arsenault', 'brian_lamb', 'csp_waj_susan', 'david_brancaccio', 'eddie_mair', 'joie_chen', 'kathleen_kennedy', 'leon_harris', 'linda_wertheimer', 'linden_soles', 'lisa_mullins', 'lou_waters', 'lynn_vaughan', 'mark_mullen', 'natalie_allen', 'noah_adams', 'peter_jennings', 'robert_siegel', 'ted_koppel', 'thalia_assuras']\n"
     ]
    },
    {
     "data": {
      "text/html": [
       "\n",
       "                <audio  controls=\"controls\" >\n",
       "                    <source src=\"data:audio/wav;base64,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\" type=\"audio/wav\" />\n",
       "                    Your browser does not support the audio element.\n",
       "                </audio>\n",
       "              "
      ],
      "text/plain": [
       "<IPython.lib.display.Audio object>"
      ]
     },
     "execution_count": 101,
     "metadata": {},
     "output_type": "execute_result"
    }
   ],
   "source": [
    "class OverlayDataSet(torch.utils.data.Dataset):\n",
    "    def __init__(self, csv):\n",
    "        super().__init__()\n",
    "        self.segments = pd.read_csv(root+csv)\n",
    "        self.speakers = list(set(self.segments['speaker']))\n",
    "        self.speakers.sort()\n",
    "        self.spkr2idx = {spkr:i for i, spkr in enumerate(self.speakers)}\n",
    "\n",
    "    def __len__(self):\n",
    "        return len(self.segments)\n",
    "    def __getitem__(self, idx):\n",
    "        seg1 = self.segments.iloc[idx]\n",
    "        seg2 = self.segments.iloc[np.random.randint(len(self.segments))]\n",
    "        while(seg1['speaker']==seg2['speaker']):\n",
    "            seg2 = self.segments.iloc[np.random.randint(len(self.segments))]\n",
    "\n",
    "        sig1 = np.load(root+seg1['segfile'])\n",
    "        sig2 = np.load(root+seg2['segfile'])\n",
    "\n",
    "\n",
    "        \n",
    "        out_vec1 = np.zeros(len(self.speakers)) # maybe try PIT training too\n",
    "        out_vec2 = np.zeros(len(self.speakers)) # maybe try PIT training too\n",
    "        out_vec1[self.spkr2idx[seg1['speaker']]] = 1\n",
    "        out_vec2[self.spkr2idx[seg2['speaker']]] = 1\n",
    "\n",
    "        return sig1, sig2, out_vec1, out_vec2\n",
    "\n",
    "\n",
    "#mean, std = compute_mean_std('overlay-train.csv')\n",
    "\n",
    "\n",
    "trainset = OverlayDataSet('train-segments.csv')\n",
    "valset = OverlayDataSet('val-segments.csv')\n",
    "testset = OverlayDataSet('test-segments.csv')\n",
    "idx = np.random.randint(len(testset))\n",
    "\n",
    "sig1, sig2, target1, target2 = testset[idx]\n",
    "\n",
    "mixture = torch.Tensor(sig1+sig2).cuda(device)\n",
    "mixture = mixture[None, ...]\n",
    "out = tasnet(mixture)\n",
    "new_sig1, new_sig2 = out[0].cpu().detach().numpy()\n",
    "Audio(new_sig1, rate = sr)"
   ]
  },
  {
   "cell_type": "code",
   "execution_count": 88,
   "metadata": {},
   "outputs": [
    {
     "data": {
      "text/html": [
       "\n",
       "                <audio  controls=\"controls\" >\n",
       "                    <source src=\"data:audio/wav;base64,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\" type=\"audio/wav\" />\n",
       "                    Your browser does not support the audio element.\n",
       "                </audio>\n",
       "              "
      ],
      "text/plain": [
       "<IPython.lib.display.Audio object>"
      ]
     },
     "execution_count": 88,
     "metadata": {},
     "output_type": "execute_result"
    }
   ],
   "source": [
    "Audio(new_sig2, rate = sr)"
   ]
  },
  {
   "cell_type": "code",
   "execution_count": 89,
   "metadata": {},
   "outputs": [],
   "source": [
    "def find_max2(tensor):\n",
    "    array = tensor.cpu().detach().numpy()\n",
    "    max2 = []\n",
    "    for row in array:\n",
    "        max2.append(np.argsort(row)[::-1][:2])\n",
    "    return np.array(max2)\n",
    "\n",
    "def compute_corrects(tensor1, tensor2):\n",
    "    max_1, max_2 = find_max2(tensor1), find_max2(tensor2)\n",
    "    batch_size = max_1.shape[0]\n",
    "    batch_corrects = 0\n",
    "    for i in range(batch_size):\n",
    "        if Counter(max_1[i])==Counter(max_2[i]):\n",
    "            batch_corrects+=1\n",
    "    return batch_corrects"
   ]
  },
  {
   "cell_type": "code",
   "execution_count": 116,
   "metadata": {},
   "outputs": [],
   "source": [
    "fs=new_sr\n",
    "cw_len=200\n",
    "cw_shift=10\n",
    "\n",
    "wlen=int(fs*cw_len/1000.00)\n",
    "wshift=int(fs*cw_shift/1000.00)\n",
    "\n",
    "\n",
    "\n",
    "\n",
    "class Classifier(nn.Module):\n",
    "    def __init__(self):\n",
    "        super().__init__()\n",
    "        cnn_arch = {\n",
    "                'input_dim':wlen,\n",
    "                'fs':fs,\n",
    "                'cnn_N_filt':[80,60,60],\n",
    "                'cnn_len_filt':[251,5,5],\n",
    "                'cnn_max_pool_len':[3,3,3],\n",
    "                'cnn_use_laynorm_inp':True,\n",
    "                'cnn_use_batchnorm_inp':False,\n",
    "                'cnn_use_laynorm':[True,True,True],\n",
    "                'cnn_use_batchnorm':[False,False,False],\n",
    "                'cnn_act':['leaky_relu','leaky_relu','leaky_relu'],\n",
    "                'cnn_drop':[0.0,0.0,0.0]\n",
    "                }\n",
    "        self.cnn_net = SincNet(cnn_arch)\n",
    "\n",
    "        dnn1_arch = {'input_dim': self.cnn_net.out_dim,\n",
    "                  'fc_lay': [2048,2048,2048],\n",
    "                  'fc_drop': [0.0,0.0,0.0], \n",
    "                  'fc_use_batchnorm': [True,True,True],\n",
    "                  'fc_use_laynorm': [False,False,False],\n",
    "                  'fc_use_laynorm_inp': False,\n",
    "                  'fc_use_batchnorm_inp': False,\n",
    "                  'fc_act': ['leaky_relu','leaky_relu','leaky_relu']\n",
    "                  }\n",
    "        self.dnn1 = MLP(dnn1_arch)\n",
    "\n",
    "\n",
    "        dnn2_arch = {'input_dim':2048 ,\n",
    "                  'fc_lay': [20],\n",
    "                  'fc_drop': [0.0], \n",
    "                  'fc_use_batchnorm': [False],\n",
    "                  'fc_use_laynorm': [False],\n",
    "                  'fc_use_laynorm_inp': False,\n",
    "                  'fc_use_batchnorm_inp': False,\n",
    "                  'fc_act': ['linear'] # leakyrelu(1) is just identity mapping\n",
    "                  }\n",
    "        self.dnn2 = MLP(dnn2_arch)\n",
    "        \n",
    "        self.softmax = nn.Softmax(dim = 1)\n",
    "        self.use_all_chunks = self.training\n",
    "        \n",
    "    def chop_chunk(self, signal):\n",
    "        batch_size, signal_len = signal.shape\n",
    "        N_fr=(signal_len-wlen)//wshift\n",
    "        chunks = []\n",
    "        for i in range(N_fr):\n",
    "            chunks.append(signal[..., i*wshift:i*wshift+wlen]) # list of N_fr elements, each (batch_size*wlen)\n",
    "        return chunks\n",
    "    \n",
    "    def estimate(self, chunks):\n",
    "        out_vecs = []\n",
    "        if not self.use_all_chunks: # ~200 chunk, each shift by 10ms, length 200 ms\n",
    "            chunks = chunks[::20]\n",
    "        for chunk in chunks:\n",
    "            out_vecs.append(self.softmax(self.dnn2(self.dnn1(self.cnn_net(chunk)))).clamp(min=1e-8)) # list of N_fr elements, each (batch_size*N_spkr), softmaxed\n",
    "        out_tensor = torch.stack(out_vecs, dim = 1) # batch_size*N_fr*N_spkr\n",
    "        out_tensor = out_tensor.mean(dim = 1) # batch_size*N_spkr\n",
    "        return out_tensor \n",
    "    \n",
    "    def forward(self, signal):\n",
    "        X = self.chop_chunk(signal)\n",
    "        out = self.estimate(X)\n",
    "        return out"
   ]
  },
  {
   "cell_type": "code",
   "execution_count": 117,
   "metadata": {},
   "outputs": [],
   "source": [
    "load_model = True\n",
    "\n",
    "cls = Classifier().cuda(device)\n",
    "optimizer = torch.optim.Adam(cls.parameters(), 0.0001)\n",
    "\n",
    "checkpoint = torch.load('models/sincnet.pth')\n",
    "cls.load_state_dict(checkpoint['model_state_dict'])\n",
    "optimizer.load_state_dict(checkpoint['optimizer_state_dict'])\n",
    "if 'bestacc' in checkpoint:\n",
    "        bestacc = checkpoint['bestacc']"
   ]
  },
  {
   "cell_type": "code",
   "execution_count": 120,
   "metadata": {
    "scrolled": false
   },
   "outputs": [
    {
     "data": {
      "application/vnd.jupyter.widget-view+json": {
       "model_id": "34add8caf4984988a78b0eb8e310e02a",
       "version_major": 2,
       "version_minor": 0
      },
      "text/plain": [
       "HBox(children=(FloatProgress(value=0.0, max=1201.0), HTML(value='')))"
      ]
     },
     "metadata": {},
     "output_type": "display_data"
    },
    {
     "name": "stdout",
     "output_type": "stream",
     "text": [
      "[1,   200]  loss: 0.902 accuracy: 0.885\n",
      "[1,   400]  loss: 0.934 accuracy: 0.876\n",
      "[1,   600]  loss: 0.913 accuracy: 0.879\n",
      "[1,   800]  loss: 0.938 accuracy: 0.878\n",
      "[1,  1000]  loss: 0.905 accuracy: 0.884\n",
      "[1,  1200]  loss: 0.898 accuracy: 0.887\n",
      "\n"
     ]
    },
    {
     "data": {
      "application/vnd.jupyter.widget-view+json": {
       "model_id": "0bbe17c5a7924213bd7d00f93c7acd33",
       "version_major": 2,
       "version_minor": 0
      },
      "text/plain": [
       "HBox(children=(FloatProgress(value=0.0, max=1201.0), HTML(value='')))"
      ]
     },
     "metadata": {},
     "output_type": "display_data"
    },
    {
     "ename": "KeyboardInterrupt",
     "evalue": "",
     "output_type": "error",
     "traceback": [
      "\u001b[0;31m---------------------------------------------------------------------------\u001b[0m",
      "\u001b[0;31mKeyboardInterrupt\u001b[0m                         Traceback (most recent call last)",
      "\u001b[0;32m<ipython-input-120-4f61da0fddec>\u001b[0m in \u001b[0;36m<module>\u001b[0;34m\u001b[0m\n\u001b[1;32m     25\u001b[0m         \u001b[0mtarget2\u001b[0m \u001b[0;34m=\u001b[0m \u001b[0mtarget2\u001b[0m\u001b[0;34m.\u001b[0m\u001b[0mfloat\u001b[0m\u001b[0;34m(\u001b[0m\u001b[0;34m)\u001b[0m\u001b[0;34m.\u001b[0m\u001b[0mcuda\u001b[0m\u001b[0;34m(\u001b[0m\u001b[0mdevice\u001b[0m\u001b[0;34m)\u001b[0m\u001b[0;34m\u001b[0m\u001b[0;34m\u001b[0m\u001b[0m\n\u001b[1;32m     26\u001b[0m         \u001b[0;32mwith\u001b[0m \u001b[0mtorch\u001b[0m\u001b[0;34m.\u001b[0m\u001b[0mno_grad\u001b[0m\u001b[0;34m(\u001b[0m\u001b[0;34m)\u001b[0m\u001b[0;34m:\u001b[0m\u001b[0;34m\u001b[0m\u001b[0;34m\u001b[0m\u001b[0m\n\u001b[0;32m---> 27\u001b[0;31m             \u001b[0mestimate_source\u001b[0m \u001b[0;34m=\u001b[0m \u001b[0mtasnet\u001b[0m\u001b[0;34m(\u001b[0m\u001b[0mmixture\u001b[0m\u001b[0;34m)\u001b[0m\u001b[0;34m.\u001b[0m\u001b[0mdetach\u001b[0m\u001b[0;34m(\u001b[0m\u001b[0;34m)\u001b[0m\u001b[0;34m\u001b[0m\u001b[0;34m\u001b[0m\u001b[0m\n\u001b[0m\u001b[1;32m     28\u001b[0m             \u001b[0mloss\u001b[0m\u001b[0;34m,\u001b[0m \u001b[0mmax_snr\u001b[0m\u001b[0;34m,\u001b[0m \u001b[0mestimate_source\u001b[0m\u001b[0;34m,\u001b[0m \u001b[0mreorder_estimate_source\u001b[0m \u001b[0;34m=\u001b[0m\u001b[0;31m \u001b[0m\u001b[0;31m\\\u001b[0m\u001b[0;34m\u001b[0m\u001b[0;34m\u001b[0m\u001b[0m\n\u001b[1;32m     29\u001b[0m                 \u001b[0mcal_loss\u001b[0m\u001b[0;34m(\u001b[0m\u001b[0mtorch\u001b[0m\u001b[0;34m.\u001b[0m\u001b[0mstack\u001b[0m\u001b[0;34m(\u001b[0m\u001b[0;34m[\u001b[0m\u001b[0msig1\u001b[0m\u001b[0;34m,\u001b[0m \u001b[0msig2\u001b[0m\u001b[0;34m]\u001b[0m\u001b[0;34m,\u001b[0m \u001b[0mdim\u001b[0m \u001b[0;34m=\u001b[0m \u001b[0;36m1\u001b[0m\u001b[0;34m)\u001b[0m\u001b[0;34m,\u001b[0m \u001b[0mestimate_source\u001b[0m\u001b[0;34m,\u001b[0m \u001b[0mtorch\u001b[0m\u001b[0;34m.\u001b[0m\u001b[0mones\u001b[0m\u001b[0;34m(\u001b[0m\u001b[0msig1\u001b[0m\u001b[0;34m.\u001b[0m\u001b[0mshape\u001b[0m\u001b[0;34m[\u001b[0m\u001b[0;36m0\u001b[0m\u001b[0;34m]\u001b[0m\u001b[0;34m,\u001b[0m \u001b[0mdtype\u001b[0m \u001b[0;34m=\u001b[0m \u001b[0mtorch\u001b[0m\u001b[0;34m.\u001b[0m\u001b[0mint32\u001b[0m\u001b[0;34m)\u001b[0m\u001b[0;34m.\u001b[0m\u001b[0mcuda\u001b[0m\u001b[0;34m(\u001b[0m\u001b[0mdevice\u001b[0m\u001b[0;34m)\u001b[0m\u001b[0;34m*\u001b[0m\u001b[0;36m2\u001b[0m\u001b[0;34m*\u001b[0m\u001b[0mnew_sr\u001b[0m\u001b[0;34m)\u001b[0m\u001b[0;34m\u001b[0m\u001b[0;34m\u001b[0m\u001b[0m\n",
      "\u001b[0;32m~/anaconda3/lib/python3.7/site-packages/torch/nn/modules/module.py\u001b[0m in \u001b[0;36m__call__\u001b[0;34m(self, *input, **kwargs)\u001b[0m\n\u001b[1;32m    530\u001b[0m             \u001b[0mresult\u001b[0m \u001b[0;34m=\u001b[0m \u001b[0mself\u001b[0m\u001b[0;34m.\u001b[0m\u001b[0m_slow_forward\u001b[0m\u001b[0;34m(\u001b[0m\u001b[0;34m*\u001b[0m\u001b[0minput\u001b[0m\u001b[0;34m,\u001b[0m \u001b[0;34m**\u001b[0m\u001b[0mkwargs\u001b[0m\u001b[0;34m)\u001b[0m\u001b[0;34m\u001b[0m\u001b[0;34m\u001b[0m\u001b[0m\n\u001b[1;32m    531\u001b[0m         \u001b[0;32melse\u001b[0m\u001b[0;34m:\u001b[0m\u001b[0;34m\u001b[0m\u001b[0;34m\u001b[0m\u001b[0m\n\u001b[0;32m--> 532\u001b[0;31m             \u001b[0mresult\u001b[0m \u001b[0;34m=\u001b[0m \u001b[0mself\u001b[0m\u001b[0;34m.\u001b[0m\u001b[0mforward\u001b[0m\u001b[0;34m(\u001b[0m\u001b[0;34m*\u001b[0m\u001b[0minput\u001b[0m\u001b[0;34m,\u001b[0m \u001b[0;34m**\u001b[0m\u001b[0mkwargs\u001b[0m\u001b[0;34m)\u001b[0m\u001b[0;34m\u001b[0m\u001b[0;34m\u001b[0m\u001b[0m\n\u001b[0m\u001b[1;32m    533\u001b[0m         \u001b[0;32mfor\u001b[0m \u001b[0mhook\u001b[0m \u001b[0;32min\u001b[0m \u001b[0mself\u001b[0m\u001b[0;34m.\u001b[0m\u001b[0m_forward_hooks\u001b[0m\u001b[0;34m.\u001b[0m\u001b[0mvalues\u001b[0m\u001b[0;34m(\u001b[0m\u001b[0;34m)\u001b[0m\u001b[0;34m:\u001b[0m\u001b[0;34m\u001b[0m\u001b[0;34m\u001b[0m\u001b[0m\n\u001b[1;32m    534\u001b[0m             \u001b[0mhook_result\u001b[0m \u001b[0;34m=\u001b[0m \u001b[0mhook\u001b[0m\u001b[0;34m(\u001b[0m\u001b[0mself\u001b[0m\u001b[0;34m,\u001b[0m \u001b[0minput\u001b[0m\u001b[0;34m,\u001b[0m \u001b[0mresult\u001b[0m\u001b[0;34m)\u001b[0m\u001b[0;34m\u001b[0m\u001b[0;34m\u001b[0m\u001b[0m\n",
      "\u001b[0;32m~/anaconda3/lib/python3.7/site-packages/torch/nn/parallel/data_parallel.py\u001b[0m in \u001b[0;36mforward\u001b[0;34m(self, *inputs, **kwargs)\u001b[0m\n\u001b[1;32m    150\u001b[0m             \u001b[0;32mreturn\u001b[0m \u001b[0mself\u001b[0m\u001b[0;34m.\u001b[0m\u001b[0mmodule\u001b[0m\u001b[0;34m(\u001b[0m\u001b[0;34m*\u001b[0m\u001b[0minputs\u001b[0m\u001b[0;34m[\u001b[0m\u001b[0;36m0\u001b[0m\u001b[0;34m]\u001b[0m\u001b[0;34m,\u001b[0m \u001b[0;34m**\u001b[0m\u001b[0mkwargs\u001b[0m\u001b[0;34m[\u001b[0m\u001b[0;36m0\u001b[0m\u001b[0;34m]\u001b[0m\u001b[0;34m)\u001b[0m\u001b[0;34m\u001b[0m\u001b[0;34m\u001b[0m\u001b[0m\n\u001b[1;32m    151\u001b[0m         \u001b[0mreplicas\u001b[0m \u001b[0;34m=\u001b[0m \u001b[0mself\u001b[0m\u001b[0;34m.\u001b[0m\u001b[0mreplicate\u001b[0m\u001b[0;34m(\u001b[0m\u001b[0mself\u001b[0m\u001b[0;34m.\u001b[0m\u001b[0mmodule\u001b[0m\u001b[0;34m,\u001b[0m \u001b[0mself\u001b[0m\u001b[0;34m.\u001b[0m\u001b[0mdevice_ids\u001b[0m\u001b[0;34m[\u001b[0m\u001b[0;34m:\u001b[0m\u001b[0mlen\u001b[0m\u001b[0;34m(\u001b[0m\u001b[0minputs\u001b[0m\u001b[0;34m)\u001b[0m\u001b[0;34m]\u001b[0m\u001b[0;34m)\u001b[0m\u001b[0;34m\u001b[0m\u001b[0;34m\u001b[0m\u001b[0m\n\u001b[0;32m--> 152\u001b[0;31m         \u001b[0moutputs\u001b[0m \u001b[0;34m=\u001b[0m \u001b[0mself\u001b[0m\u001b[0;34m.\u001b[0m\u001b[0mparallel_apply\u001b[0m\u001b[0;34m(\u001b[0m\u001b[0mreplicas\u001b[0m\u001b[0;34m,\u001b[0m \u001b[0minputs\u001b[0m\u001b[0;34m,\u001b[0m \u001b[0mkwargs\u001b[0m\u001b[0;34m)\u001b[0m\u001b[0;34m\u001b[0m\u001b[0;34m\u001b[0m\u001b[0m\n\u001b[0m\u001b[1;32m    153\u001b[0m         \u001b[0;32mreturn\u001b[0m \u001b[0mself\u001b[0m\u001b[0;34m.\u001b[0m\u001b[0mgather\u001b[0m\u001b[0;34m(\u001b[0m\u001b[0moutputs\u001b[0m\u001b[0;34m,\u001b[0m \u001b[0mself\u001b[0m\u001b[0;34m.\u001b[0m\u001b[0moutput_device\u001b[0m\u001b[0;34m)\u001b[0m\u001b[0;34m\u001b[0m\u001b[0;34m\u001b[0m\u001b[0m\n\u001b[1;32m    154\u001b[0m \u001b[0;34m\u001b[0m\u001b[0m\n",
      "\u001b[0;32m~/anaconda3/lib/python3.7/site-packages/torch/nn/parallel/data_parallel.py\u001b[0m in \u001b[0;36mparallel_apply\u001b[0;34m(self, replicas, inputs, kwargs)\u001b[0m\n\u001b[1;32m    160\u001b[0m \u001b[0;34m\u001b[0m\u001b[0m\n\u001b[1;32m    161\u001b[0m     \u001b[0;32mdef\u001b[0m \u001b[0mparallel_apply\u001b[0m\u001b[0;34m(\u001b[0m\u001b[0mself\u001b[0m\u001b[0;34m,\u001b[0m \u001b[0mreplicas\u001b[0m\u001b[0;34m,\u001b[0m \u001b[0minputs\u001b[0m\u001b[0;34m,\u001b[0m \u001b[0mkwargs\u001b[0m\u001b[0;34m)\u001b[0m\u001b[0;34m:\u001b[0m\u001b[0;34m\u001b[0m\u001b[0;34m\u001b[0m\u001b[0m\n\u001b[0;32m--> 162\u001b[0;31m         \u001b[0;32mreturn\u001b[0m \u001b[0mparallel_apply\u001b[0m\u001b[0;34m(\u001b[0m\u001b[0mreplicas\u001b[0m\u001b[0;34m,\u001b[0m \u001b[0minputs\u001b[0m\u001b[0;34m,\u001b[0m \u001b[0mkwargs\u001b[0m\u001b[0;34m,\u001b[0m \u001b[0mself\u001b[0m\u001b[0;34m.\u001b[0m\u001b[0mdevice_ids\u001b[0m\u001b[0;34m[\u001b[0m\u001b[0;34m:\u001b[0m\u001b[0mlen\u001b[0m\u001b[0;34m(\u001b[0m\u001b[0mreplicas\u001b[0m\u001b[0;34m)\u001b[0m\u001b[0;34m]\u001b[0m\u001b[0;34m)\u001b[0m\u001b[0;34m\u001b[0m\u001b[0;34m\u001b[0m\u001b[0m\n\u001b[0m\u001b[1;32m    163\u001b[0m \u001b[0;34m\u001b[0m\u001b[0m\n\u001b[1;32m    164\u001b[0m     \u001b[0;32mdef\u001b[0m \u001b[0mgather\u001b[0m\u001b[0;34m(\u001b[0m\u001b[0mself\u001b[0m\u001b[0;34m,\u001b[0m \u001b[0moutputs\u001b[0m\u001b[0;34m,\u001b[0m \u001b[0moutput_device\u001b[0m\u001b[0;34m)\u001b[0m\u001b[0;34m:\u001b[0m\u001b[0;34m\u001b[0m\u001b[0;34m\u001b[0m\u001b[0m\n",
      "\u001b[0;32m~/anaconda3/lib/python3.7/site-packages/torch/nn/parallel/parallel_apply.py\u001b[0m in \u001b[0;36mparallel_apply\u001b[0;34m(modules, inputs, kwargs_tup, devices)\u001b[0m\n\u001b[1;32m     75\u001b[0m             \u001b[0mthread\u001b[0m\u001b[0;34m.\u001b[0m\u001b[0mstart\u001b[0m\u001b[0;34m(\u001b[0m\u001b[0;34m)\u001b[0m\u001b[0;34m\u001b[0m\u001b[0;34m\u001b[0m\u001b[0m\n\u001b[1;32m     76\u001b[0m         \u001b[0;32mfor\u001b[0m \u001b[0mthread\u001b[0m \u001b[0;32min\u001b[0m \u001b[0mthreads\u001b[0m\u001b[0;34m:\u001b[0m\u001b[0;34m\u001b[0m\u001b[0;34m\u001b[0m\u001b[0m\n\u001b[0;32m---> 77\u001b[0;31m             \u001b[0mthread\u001b[0m\u001b[0;34m.\u001b[0m\u001b[0mjoin\u001b[0m\u001b[0;34m(\u001b[0m\u001b[0;34m)\u001b[0m\u001b[0;34m\u001b[0m\u001b[0;34m\u001b[0m\u001b[0m\n\u001b[0m\u001b[1;32m     78\u001b[0m     \u001b[0;32melse\u001b[0m\u001b[0;34m:\u001b[0m\u001b[0;34m\u001b[0m\u001b[0;34m\u001b[0m\u001b[0m\n\u001b[1;32m     79\u001b[0m         \u001b[0m_worker\u001b[0m\u001b[0;34m(\u001b[0m\u001b[0;36m0\u001b[0m\u001b[0;34m,\u001b[0m \u001b[0mmodules\u001b[0m\u001b[0;34m[\u001b[0m\u001b[0;36m0\u001b[0m\u001b[0;34m]\u001b[0m\u001b[0;34m,\u001b[0m \u001b[0minputs\u001b[0m\u001b[0;34m[\u001b[0m\u001b[0;36m0\u001b[0m\u001b[0;34m]\u001b[0m\u001b[0;34m,\u001b[0m \u001b[0mkwargs_tup\u001b[0m\u001b[0;34m[\u001b[0m\u001b[0;36m0\u001b[0m\u001b[0;34m]\u001b[0m\u001b[0;34m,\u001b[0m \u001b[0mdevices\u001b[0m\u001b[0;34m[\u001b[0m\u001b[0;36m0\u001b[0m\u001b[0;34m]\u001b[0m\u001b[0;34m)\u001b[0m\u001b[0;34m\u001b[0m\u001b[0;34m\u001b[0m\u001b[0m\n",
      "\u001b[0;32m~/anaconda3/lib/python3.7/threading.py\u001b[0m in \u001b[0;36mjoin\u001b[0;34m(self, timeout)\u001b[0m\n\u001b[1;32m   1042\u001b[0m \u001b[0;34m\u001b[0m\u001b[0m\n\u001b[1;32m   1043\u001b[0m         \u001b[0;32mif\u001b[0m \u001b[0mtimeout\u001b[0m \u001b[0;32mis\u001b[0m \u001b[0;32mNone\u001b[0m\u001b[0;34m:\u001b[0m\u001b[0;34m\u001b[0m\u001b[0;34m\u001b[0m\u001b[0m\n\u001b[0;32m-> 1044\u001b[0;31m             \u001b[0mself\u001b[0m\u001b[0;34m.\u001b[0m\u001b[0m_wait_for_tstate_lock\u001b[0m\u001b[0;34m(\u001b[0m\u001b[0;34m)\u001b[0m\u001b[0;34m\u001b[0m\u001b[0;34m\u001b[0m\u001b[0m\n\u001b[0m\u001b[1;32m   1045\u001b[0m         \u001b[0;32melse\u001b[0m\u001b[0;34m:\u001b[0m\u001b[0;34m\u001b[0m\u001b[0;34m\u001b[0m\u001b[0m\n\u001b[1;32m   1046\u001b[0m             \u001b[0;31m# the behavior of a negative timeout isn't documented, but\u001b[0m\u001b[0;34m\u001b[0m\u001b[0;34m\u001b[0m\u001b[0;34m\u001b[0m\u001b[0m\n",
      "\u001b[0;32m~/anaconda3/lib/python3.7/threading.py\u001b[0m in \u001b[0;36m_wait_for_tstate_lock\u001b[0;34m(self, block, timeout)\u001b[0m\n\u001b[1;32m   1058\u001b[0m         \u001b[0;32mif\u001b[0m \u001b[0mlock\u001b[0m \u001b[0;32mis\u001b[0m \u001b[0;32mNone\u001b[0m\u001b[0;34m:\u001b[0m  \u001b[0;31m# already determined that the C code is done\u001b[0m\u001b[0;34m\u001b[0m\u001b[0;34m\u001b[0m\u001b[0m\n\u001b[1;32m   1059\u001b[0m             \u001b[0;32massert\u001b[0m \u001b[0mself\u001b[0m\u001b[0;34m.\u001b[0m\u001b[0m_is_stopped\u001b[0m\u001b[0;34m\u001b[0m\u001b[0;34m\u001b[0m\u001b[0m\n\u001b[0;32m-> 1060\u001b[0;31m         \u001b[0;32melif\u001b[0m \u001b[0mlock\u001b[0m\u001b[0;34m.\u001b[0m\u001b[0macquire\u001b[0m\u001b[0;34m(\u001b[0m\u001b[0mblock\u001b[0m\u001b[0;34m,\u001b[0m \u001b[0mtimeout\u001b[0m\u001b[0;34m)\u001b[0m\u001b[0;34m:\u001b[0m\u001b[0;34m\u001b[0m\u001b[0;34m\u001b[0m\u001b[0m\n\u001b[0m\u001b[1;32m   1061\u001b[0m             \u001b[0mlock\u001b[0m\u001b[0;34m.\u001b[0m\u001b[0mrelease\u001b[0m\u001b[0;34m(\u001b[0m\u001b[0;34m)\u001b[0m\u001b[0;34m\u001b[0m\u001b[0;34m\u001b[0m\u001b[0m\n\u001b[1;32m   1062\u001b[0m             \u001b[0mself\u001b[0m\u001b[0;34m.\u001b[0m\u001b[0m_stop\u001b[0m\u001b[0;34m(\u001b[0m\u001b[0;34m)\u001b[0m\u001b[0;34m\u001b[0m\u001b[0;34m\u001b[0m\u001b[0m\n",
      "\u001b[0;31mKeyboardInterrupt\u001b[0m: "
     ]
    }
   ],
   "source": [
    "def cross_entropy(input, target, size_average=True):\n",
    "    if size_average:\n",
    "        return torch.mean(torch.sum(-target * torch.log(input), dim=1))\n",
    "    else:\n",
    "        return torch.sum(torch.sum(-target * torch.log(input), dim=1))\n",
    "\n",
    "batch_size = 32\n",
    "trainloader = torch.utils.data.DataLoader(trainset, batch_size=batch_size, shuffle=True, pin_memory = True, num_workers = 16)\n",
    "#valloader = torch.utils.data.DataLoader(valset, batch_size=batch_size, shuffle=True, pin_memory = True, num_workers = 16)\n",
    "\n",
    "criterion = cross_entropy\n",
    "\n",
    "for epoch in range(64):\n",
    "    tasnet.eval()\n",
    "    cls.train()\n",
    "    cls.use_all_chunks = False\n",
    "    running_loss = 0.0\n",
    "    running_accuracy = 0.0\n",
    "    for batch_idx, (sig1, sig2, target1, target2) in enumerate(tqdm(trainloader)):\n",
    "        optimizer.zero_grad()\n",
    "        sig1 = sig1.float().cuda(device)\n",
    "        sig2 = sig2.float().cuda(device)\n",
    "        mixture = sig1+sig2\n",
    "        target1 = target1.float().cuda(device)\n",
    "        target2 = target2.float().cuda(device)\n",
    "        with torch.no_grad():\n",
    "            estimate_source = tasnet(mixture).detach()\n",
    "            loss, max_snr, estimate_source, reorder_estimate_source = \\\n",
    "                cal_loss(torch.stack([sig1, sig2], dim = 1), estimate_source, torch.ones(sig1.shape[0], dtype = torch.int32).cuda(device)*2*new_sr)\n",
    "        pred1, pred2 = cls(reorder_estimate_source[:, 0]), cls(reorder_estimate_source[:, 1])\n",
    "        loss = cross_entropy(pred1, target1)+cross_entropy(pred2, target2)\n",
    "        loss.backward()\n",
    "        optimizer.step()\n",
    "        \n",
    "        \n",
    "        pred = torch.stack([pred1, pred2], dim = 0)\n",
    "        pred, _ = torch.max(pred, dim = 0)\n",
    "        running_loss += loss.item()\n",
    "        running_accuracy += compute_corrects(pred, target1+target2)/batch_size\n",
    "\n",
    "        if batch_idx % 200 == 199:    # print every 2000 mini-batches\n",
    "            print('[%d, %5d]  loss: %.3f accuracy: %.3f' % \n",
    "                  (epoch + 1, batch_idx + 1, running_loss / 200, running_accuracy / 200))\n",
    "            torch.save({\n",
    "            'model_state_dict': cls.state_dict(),\n",
    "            'optimizer_state_dict': optimizer.state_dict(),\n",
    "            'acc': running_accuracy,\n",
    "            }, 'models/sincnet.pth')\n",
    "            running_loss = 0.0\n",
    "            running_accuracy = 0.0"
   ]
  },
  {
   "cell_type": "code",
   "execution_count": null,
   "metadata": {},
   "outputs": [
    {
     "data": {
      "application/vnd.jupyter.widget-view+json": {
       "model_id": "ce69e085fd714c9f9b82f058f7aa4a5f",
       "version_major": 2,
       "version_minor": 0
      },
      "text/plain": [
       "HBox(children=(FloatProgress(value=0.0, max=153.0), HTML(value='')))"
      ]
     },
     "metadata": {},
     "output_type": "display_data"
    }
   ],
   "source": [
    "testloader = torch.utils.data.DataLoader(testset, batch_size=batch_size, shuffle=True, pin_memory = True, num_workers = 16)\n",
    "with torch.no_grad():\n",
    "    corrects = 0\n",
    "    tasnet.eval()\n",
    "    cls.eval()\n",
    "    cls.use_all_chunks = True   \n",
    "    for batch_idx, (sig1, sig2, target1, target2) in enumerate(tqdm(testloader)):\n",
    "        sig1 = sig1.float().cuda(device)\n",
    "        sig2 = sig2.float().cuda(device)\n",
    "        mixture = sig1+sig2\n",
    "        target1 = target1.float().cuda(device)\n",
    "        target2 = target2.float().cuda(device)\n",
    "        \n",
    "        estimate_source = tasnet(mixture).detach()\n",
    "        loss, max_snr, estimate_source, reorder_estimate_source = \\\n",
    "            cal_loss(torch.stack([sig1, sig2], dim = 1), estimate_source, torch.ones(sig1.shape[0], dtype = torch.int32).cuda(device)*2*new_sr)\n",
    "        pred1, pred2 = cls(reorder_estimate_source[:, 0]), cls(reorder_estimate_source[:, 1])\n",
    "\n",
    "        pred = torch.stack([pred1, pred2], dim = 0)\n",
    "        pred, _ = torch.max(pred, dim = 0)\n",
    "        corrects += compute_corrects(pred, target1+target2)\n",
    "\n",
    "    print('test accuracy: %.3f' % (corrects/len(testset)))"
   ]
  },
  {
   "cell_type": "code",
   "execution_count": null,
   "metadata": {},
   "outputs": [],
   "source": []
  }
 ],
 "metadata": {
  "kernelspec": {
   "display_name": "Python 3",
   "language": "python",
   "name": "python3"
  },
  "language_info": {
   "codemirror_mode": {
    "name": "ipython",
    "version": 3
   },
   "file_extension": ".py",
   "mimetype": "text/x-python",
   "name": "python",
   "nbconvert_exporter": "python",
   "pygments_lexer": "ipython3",
   "version": "3.7.6"
  }
 },
 "nbformat": 4,
 "nbformat_minor": 4
}
