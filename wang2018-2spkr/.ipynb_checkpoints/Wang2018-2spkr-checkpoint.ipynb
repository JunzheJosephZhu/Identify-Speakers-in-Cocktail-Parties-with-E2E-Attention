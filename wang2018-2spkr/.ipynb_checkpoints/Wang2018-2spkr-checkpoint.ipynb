{
 "cells": [
  {
   "cell_type": "code",
   "execution_count": 1,
   "metadata": {},
   "outputs": [],
   "source": [
    "import librosa\n",
    "import IPython.display as ipd\n",
    "import matplotlib.pyplot as plt\n",
    "import numpy as np\n",
    "import torch\n",
    "import torch.nn as nn\n",
    "import torch.nn.functional as F\n",
    "import time\n",
    "import pandas as pd\n",
    "from collections import Counter\n",
    "import sys\n",
    "import os\n",
    "from tqdm.notebook import tqdm\n",
    "from librosa.core import resample\n",
    "EPS = 1e-8\n",
    "\n",
    "class Lambda(nn.Module):\n",
    "    def __init__(self, func):\n",
    "        super().__init__()\n",
    "        self.func = func\n",
    "\n",
    "    def forward(self, x):\n",
    "        return self.func(x)\n",
    "old_sr = 8000\n",
    "new_sr = 8000\n",
    "half = False\n",
    "root = '../'\n",
    "load = True\n",
    "\n",
    "device = 0\n",
    "device_ids = [0, 1, 2, 3]\n",
    "torch.cuda.set_device(device)"
   ]
  },
  {
   "cell_type": "code",
   "execution_count": 2,
   "metadata": {},
   "outputs": [
    {
     "data": {
      "text/plain": [
       "<matplotlib.image.AxesImage at 0x7f7356019f90>"
      ]
     },
     "execution_count": 2,
     "metadata": {},
     "output_type": "execute_result"
    },
    {
     "data": {
      "image/png": "[encoded data removed]",
      "text/plain": [
       "<Figure size 432x288 with 1 Axes>"
      ]
     },
     "metadata": {
      "needs_background": "light"
     },
     "output_type": "display_data"
    }
   ],
   "source": [
    "def make_features(segment):\n",
    "    S = librosa.feature.melspectrogram(y=segment, n_fft=512, hop_length=256, n_mels = 40)\n",
    "    #S = librosa.power_to_db(S)\n",
    "    S -= S.mean(axis = 1, keepdims = True)\n",
    "    return S\n",
    "\n",
    "def compute_energy(segment):\n",
    "    E = librosa.feature.rms(segment, frame_length=512, hop_length=256)\n",
    "    return E[0]\n",
    "\n",
    "class OverlayDataSet(torch.utils.data.Dataset):\n",
    "    def __init__(self, csv):\n",
    "        super().__init__()\n",
    "        self.segments = pd.read_csv(root+csv)\n",
    "        self.speakers = list(set(self.segments['speaker']))\n",
    "        self.speakers.sort()\n",
    "        self.spkr2idx = {spkr:i for i, spkr in enumerate(self.speakers)}\n",
    "\n",
    "    def __len__(self):\n",
    "        return len(self.segments)\n",
    "    def __getitem__(self, idx):\n",
    "        seg1 = self.segments.iloc[idx]\n",
    "        seg2 = self.segments.iloc[torch.randint(len(self.segments), [1])[0].item()]\n",
    "        while(seg1['speaker']==seg2['speaker']):\n",
    "            seg2 = self.segments.iloc[torch.randint(len(self.segments), [1])[0].item()]\n",
    "\n",
    "        sig1 = np.load(root+seg1['segfile'])\n",
    "        sig2 = np.load(root+seg2['segfile'])\n",
    "        E1 = compute_energy(sig1) # [n_frames]\n",
    "        E2 = compute_energy(sig2)\n",
    "        out_vec = np.zeros((len(self.speakers), len(E1))) # [#spkrs, n_frames]\n",
    "        out_vec[self.spkr2idx[seg1['speaker']]] = E1/(E1+E2)\n",
    "        out_vec[self.spkr2idx[seg2['speaker']]] = E2/(E1+E2)\n",
    "\n",
    "        S = make_features(sig1+sig2)\n",
    "\n",
    "        return S, out_vec\n",
    "\n",
    "\n",
    "#mean, std = compute_mean_std('overlay-train.csv')\n",
    "\n",
    "\n",
    "trainset = OverlayDataSet('train-segments.csv')\n",
    "valset = OverlayDataSet('val-segments.csv')\n",
    "testset = OverlayDataSet('test-segments.csv')\n",
    "features, vec = trainset[5]\n",
    "\n",
    "plt.imshow(features)"
   ]
  },
  {
   "cell_type": "code",
   "execution_count": 3,
   "metadata": {},
   "outputs": [
    {
     "name": "stdout",
     "output_type": "stream",
     "text": [
      "load\n"
     ]
    }
   ],
   "source": [
    "class Wang2018(nn.Module):\n",
    "    def __init__(self):\n",
    "        super().__init__()\n",
    "        self.conv1 = nn.Conv2d(in_channels = 1, out_channels = 2, kernel_size = 5, padding=2, dilation=1)\n",
    "        self.bn1 = nn.BatchNorm2d(2)\n",
    "        self.conv2 = nn.Conv2d(in_channels = 2, out_channels = 4, kernel_size = 3, padding=1, dilation=1)\n",
    "        self.bn2 = nn.BatchNorm2d(4)\n",
    "        self.conv3 = nn.Conv2d(in_channels = 4, out_channels = 6, kernel_size = 3, padding=2, dilation=2)\n",
    "        self.bn3 = nn.BatchNorm2d(6)\n",
    "        # [batch_size, 6, 40, 128]\n",
    "        # reshape to : [batch_size, 6*40, 128]\n",
    "        self.relu = nn.ReLU()\n",
    "        self.fc = nn.Conv1d(6*40, 512, 11, padding = 5)\n",
    "        self.out = nn.Conv1d(512, 20, 1)\n",
    "        self.softmax = nn.Softmax(dim = 1)\n",
    "        #self.softmax = nn.Sigmoid()\n",
    "    def forward(self, X):\n",
    "        X = X.unsqueeze(dim = 1)\n",
    "        X = self.relu(self.bn1(self.conv1(X)))\n",
    "        X = self.relu(self.bn2(self.conv2(X)))\n",
    "        X = self.relu(self.bn3(self.conv3(X))) # [B, 6, H, W]\n",
    "        X = X.view(X.shape[0], -1, X.shape[-1]) # [B, 6*H, W]\n",
    "        X = self.fc(X) # [B, 512, W]\n",
    "        X = self.relu(X)\n",
    "        X = self.out(X)\n",
    "        X = self.softmax(X)\n",
    "        X = X.clamp(min = 1e-8)\n",
    "        return X\n",
    "    \n",
    "model = Wang2018().cuda(device)\n",
    "optimizer = torch.optim.Adam(model.parameters(), lr = 0.0001)\n",
    "\n",
    "if load:\n",
    "    checkpoint = torch.load('models/Wang2018.pth')\n",
    "    model.load_state_dict(checkpoint['model_state_dict'])\n",
    "    print('load')"
   ]
  },
  {
   "cell_type": "code",
   "execution_count": 4,
   "metadata": {},
   "outputs": [],
   "source": [
    "def find_max2(tensor):\n",
    "    array = tensor.cpu().detach().numpy()\n",
    "    max2 = []\n",
    "    for row in array:\n",
    "        max2.append(np.argsort(row)[::-1][:2])\n",
    "    return np.array(max2)\n",
    "\n",
    "def post_filter(pred):\n",
    "    # pred: [batch_size, 20, n_frames]\n",
    "    maxprob, _ = torch.max(pred, dim = 1, keepdim = True) # [batch_size, 1, n_frames]\n",
    "    beta = 2\n",
    "    frameweight = maxprob**beta # [batch_size, 1, n_frames]\n",
    "    pred *= frameweight # [batch_size, 20, n_frames]\n",
    "    pred = pred.mean(dim = 2) # [batch_size, 20]\n",
    "    return pred\n",
    "    \n",
    "def compute_corrects(tensor1, tensor2): # tensor 1 is pred[B, 20], tensor 2 is truth[B, 20, n_frmaes]\n",
    "    tensor2 = tensor2.mean(dim=2)\n",
    "    preds, truth = find_max2(tensor1), (tensor2>0).float().cpu().detach().numpy()\n",
    "    batch_size = preds.shape[0]\n",
    "    half_corrects = 0\n",
    "    corrects = 0\n",
    "    for i in range(batch_size):\n",
    "        if sum(truth[i][preds[i]]) >= 1:\n",
    "            half_corrects+=1\n",
    "        if sum(truth[i][preds[i]]) == 2:\n",
    "            corrects+=1\n",
    "    return half_corrects, corrects\n",
    "\n",
    "\n",
    "\n",
    "bce = torch.nn.BCELoss()\n",
    "def focalKLD(pred, target, size_average=True): # hasn't been debugged\n",
    "    # input : [batch_size, 20, n_frames]\n",
    "    # target: [batch_size, 20, n_frames]\n",
    "    alpha = 0.5\n",
    "    lamb = 2\n",
    "    CE = -target * torch.log(pred)# - (1-target) * torch.log(1-pred) # [batch_size, 20, n_frames]\n",
    "    decay = torch.sum(input = ((target>0).float()*pred)**lamb, dim = 1, keepdim = True) # [batch_size, 1, n_frames]\n",
    "    w = 1 + alpha - decay # [batch_size, 1, n_frames]\n",
    "    KLD = torch.mean(CE*w)\n",
    "    return KLD\n",
    "\n"
   ]
  },
  {
   "cell_type": "code",
   "execution_count": 5,
   "metadata": {
    "scrolled": true
   },
   "outputs": [
    {
     "data": {
      "application/vnd.jupyter.widget-view+json": {
       "model_id": "4cdb3e87dc9a408e83e635e3279e55d1",
       "version_major": 2,
       "version_minor": 0
      },
      "text/plain": [
       "HBox(children=(FloatProgress(value=0.0, max=1201.0), HTML(value='')))"
      ]
     },
     "metadata": {},
     "output_type": "display_data"
    },
    {
     "name": "stdout",
     "output_type": "stream",
     "text": [
      "[1,   200]  loss: 0.090 half accuracy: 0.950937 accuracy: 0.354\n",
      "[1,   400]  loss: 0.089 half accuracy: 0.954219 accuracy: 0.364\n",
      "[1,   600]  loss: 0.089 half accuracy: 0.950781 accuracy: 0.373\n",
      "[1,   800]  loss: 0.089 half accuracy: 0.949531 accuracy: 0.354\n",
      "[1,  1000]  loss: 0.089 half accuracy: 0.952969 accuracy: 0.362\n",
      "[1,  1200]  loss: 0.089 half accuracy: 0.952500 accuracy: 0.375\n",
      "\n"
     ]
    },
    {
     "data": {
      "application/vnd.jupyter.widget-view+json": {
       "model_id": "6c676d4ced1242e98a15b61690bd2114",
       "version_major": 2,
       "version_minor": 0
      },
      "text/plain": [
       "HBox(children=(FloatProgress(value=0.0, max=151.0), HTML(value='')))"
      ]
     },
     "metadata": {},
     "output_type": "display_data"
    },
    {
     "name": "stdout",
     "output_type": "stream",
     "text": [
      "\n",
      "val 1/2: 0.9450343535290443 val 2/2: 0.3579013116801999\n"
     ]
    },
    {
     "data": {
      "application/vnd.jupyter.widget-view+json": {
       "model_id": "88c8a4002af5486fb5003eefac78f2a3",
       "version_major": 2,
       "version_minor": 0
      },
      "text/plain": [
       "HBox(children=(FloatProgress(value=0.0, max=1201.0), HTML(value='')))"
      ]
     },
     "metadata": {},
     "output_type": "display_data"
    },
    {
     "name": "stdout",
     "output_type": "stream",
     "text": [
      "[2,   200]  loss: 0.087 half accuracy: 0.958750 accuracy: 0.372\n",
      "[2,   400]  loss: 0.090 half accuracy: 0.953594 accuracy: 0.359\n",
      "[2,   600]  loss: 0.088 half accuracy: 0.956250 accuracy: 0.365\n",
      "[2,   800]  loss: 0.089 half accuracy: 0.951562 accuracy: 0.365\n",
      "[2,  1000]  loss: 0.090 half accuracy: 0.949531 accuracy: 0.364\n",
      "[2,  1200]  loss: 0.089 half accuracy: 0.954688 accuracy: 0.357\n",
      "\n"
     ]
    },
    {
     "data": {
      "application/vnd.jupyter.widget-view+json": {
       "model_id": "3e47a805286a40588d036c36c8d93ab5",
       "version_major": 2,
       "version_minor": 0
      },
      "text/plain": [
       "HBox(children=(FloatProgress(value=0.0, max=151.0), HTML(value='')))"
      ]
     },
     "metadata": {},
     "output_type": "display_data"
    },
    {
     "name": "stdout",
     "output_type": "stream",
     "text": [
      "\n",
      "val 1/2: 0.9485738080366438 val 2/2: 0.35540287320424735\n"
     ]
    },
    {
     "data": {
      "application/vnd.jupyter.widget-view+json": {
       "model_id": "8604a128060842f78ad16ed71bd78632",
       "version_major": 2,
       "version_minor": 0
      },
      "text/plain": [
       "HBox(children=(FloatProgress(value=0.0, max=1201.0), HTML(value='')))"
      ]
     },
     "metadata": {},
     "output_type": "display_data"
    },
    {
     "name": "stdout",
     "output_type": "stream",
     "text": [
      "[3,   200]  loss: 0.089 half accuracy: 0.953125 accuracy: 0.366\n",
      "[3,   400]  loss: 0.087 half accuracy: 0.958594 accuracy: 0.369\n",
      "[3,   600]  loss: 0.089 half accuracy: 0.953438 accuracy: 0.357\n",
      "[3,   800]  loss: 0.091 half accuracy: 0.955000 accuracy: 0.352\n",
      "[3,  1000]  loss: 0.089 half accuracy: 0.950937 accuracy: 0.363\n",
      "[3,  1200]  loss: 0.089 half accuracy: 0.955781 accuracy: 0.351\n",
      "\n"
     ]
    },
    {
     "data": {
      "application/vnd.jupyter.widget-view+json": {
       "model_id": "21181ba4374e43debbd4dd6ac7a61999",
       "version_major": 2,
       "version_minor": 0
      },
      "text/plain": [
       "HBox(children=(FloatProgress(value=0.0, max=151.0), HTML(value='')))"
      ]
     },
     "metadata": {},
     "output_type": "display_data"
    },
    {
     "name": "stdout",
     "output_type": "stream",
     "text": [
      "\n",
      "val 1/2: 0.9466999791796794 val 2/2: 0.35269623152196544\n"
     ]
    },
    {
     "data": {
      "application/vnd.jupyter.widget-view+json": {
       "model_id": "ebbcfd6ca1764b81976f6406dc1778b0",
       "version_major": 2,
       "version_minor": 0
      },
      "text/plain": [
       "HBox(children=(FloatProgress(value=0.0, max=1201.0), HTML(value='')))"
      ]
     },
     "metadata": {},
     "output_type": "display_data"
    },
    {
     "name": "stdout",
     "output_type": "stream",
     "text": [
      "[4,   200]  loss: 0.087 half accuracy: 0.957344 accuracy: 0.359\n",
      "[4,   400]  loss: 0.087 half accuracy: 0.964219 accuracy: 0.372\n",
      "[4,   600]  loss: 0.088 half accuracy: 0.953594 accuracy: 0.372\n",
      "[4,   800]  loss: 0.089 half accuracy: 0.952031 accuracy: 0.363\n",
      "[4,  1000]  loss: 0.088 half accuracy: 0.956250 accuracy: 0.374\n",
      "[4,  1200]  loss: 0.087 half accuracy: 0.956562 accuracy: 0.369\n",
      "\n"
     ]
    },
    {
     "data": {
      "application/vnd.jupyter.widget-view+json": {
       "model_id": "7bb9de54a81645c6a53fa5a44ff445b1",
       "version_major": 2,
       "version_minor": 0
      },
      "text/plain": [
       "HBox(children=(FloatProgress(value=0.0, max=151.0), HTML(value='')))"
      ]
     },
     "metadata": {},
     "output_type": "display_data"
    },
    {
     "name": "stdout",
     "output_type": "stream",
     "text": [
      "\n",
      "val 1/2: 0.9516968561315844 val 2/2: 0.3658130335207162\n"
     ]
    },
    {
     "data": {
      "application/vnd.jupyter.widget-view+json": {
       "model_id": "95058ccd68c04f2e8d6a1c8ffbc1fa9f",
       "version_major": 2,
       "version_minor": 0
      },
      "text/plain": [
       "HBox(children=(FloatProgress(value=0.0, max=1201.0), HTML(value='')))"
      ]
     },
     "metadata": {},
     "output_type": "display_data"
    },
    {
     "name": "stdout",
     "output_type": "stream",
     "text": [
      "[5,   200]  loss: 0.089 half accuracy: 0.947812 accuracy: 0.366\n",
      "[5,   400]  loss: 0.087 half accuracy: 0.956250 accuracy: 0.357\n",
      "[5,   600]  loss: 0.088 half accuracy: 0.955469 accuracy: 0.363\n",
      "[5,   800]  loss: 0.089 half accuracy: 0.956094 accuracy: 0.356\n",
      "[5,  1000]  loss: 0.088 half accuracy: 0.957656 accuracy: 0.356\n",
      "[5,  1200]  loss: 0.087 half accuracy: 0.956406 accuracy: 0.370\n",
      "\n"
     ]
    },
    {
     "data": {
      "application/vnd.jupyter.widget-view+json": {
       "model_id": "4a584f282b884cd5af208776c672457c",
       "version_major": 2,
       "version_minor": 0
      },
      "text/plain": [
       "HBox(children=(FloatProgress(value=0.0, max=151.0), HTML(value='')))"
      ]
     },
     "metadata": {},
     "output_type": "display_data"
    },
    {
     "name": "stdout",
     "output_type": "stream",
     "text": [
      "\n",
      "val 1/2: 0.9458671663543619 val 2/2: 0.37663960024984383\n"
     ]
    },
    {
     "data": {
      "application/vnd.jupyter.widget-view+json": {
       "model_id": "990b963c80d44cdf8c4389c0ee1a5e95",
       "version_major": 2,
       "version_minor": 0
      },
      "text/plain": [
       "HBox(children=(FloatProgress(value=0.0, max=1201.0), HTML(value='')))"
      ]
     },
     "metadata": {},
     "output_type": "display_data"
    },
    {
     "name": "stdout",
     "output_type": "stream",
     "text": [
      "[6,   200]  loss: 0.089 half accuracy: 0.952344 accuracy: 0.362\n",
      "[6,   400]  loss: 0.088 half accuracy: 0.957500 accuracy: 0.371\n",
      "[6,   600]  loss: 0.088 half accuracy: 0.954375 accuracy: 0.359\n",
      "[6,   800]  loss: 0.087 half accuracy: 0.955313 accuracy: 0.365\n",
      "[6,  1000]  loss: 0.087 half accuracy: 0.953750 accuracy: 0.372\n",
      "[6,  1200]  loss: 0.087 half accuracy: 0.954531 accuracy: 0.363\n",
      "\n"
     ]
    },
    {
     "data": {
      "application/vnd.jupyter.widget-view+json": {
       "model_id": "e92ec4c66a57452f8418ae3ac222b4c5",
       "version_major": 2,
       "version_minor": 0
      },
      "text/plain": [
       "HBox(children=(FloatProgress(value=0.0, max=151.0), HTML(value='')))"
      ]
     },
     "metadata": {},
     "output_type": "display_data"
    },
    {
     "name": "stdout",
     "output_type": "stream",
     "text": [
      "\n",
      "val 1/2: 0.9477409952113263 val 2/2: 0.35810951488652926\n"
     ]
    },
    {
     "data": {
      "application/vnd.jupyter.widget-view+json": {
       "model_id": "0de5319dd29a47d2b73fdc6711713081",
       "version_major": 2,
       "version_minor": 0
      },
      "text/plain": [
       "HBox(children=(FloatProgress(value=0.0, max=1201.0), HTML(value='')))"
      ]
     },
     "metadata": {},
     "output_type": "display_data"
    },
    {
     "name": "stdout",
     "output_type": "stream",
     "text": [
      "[7,   200]  loss: 0.089 half accuracy: 0.953125 accuracy: 0.361\n",
      "[7,   400]  loss: 0.087 half accuracy: 0.959063 accuracy: 0.378\n",
      "[7,   600]  loss: 0.087 half accuracy: 0.956406 accuracy: 0.378\n",
      "[7,   800]  loss: 0.087 half accuracy: 0.959375 accuracy: 0.373\n",
      "[7,  1000]  loss: 0.087 half accuracy: 0.959375 accuracy: 0.370\n",
      "[7,  1200]  loss: 0.087 half accuracy: 0.956875 accuracy: 0.368\n",
      "\n"
     ]
    },
    {
     "data": {
      "application/vnd.jupyter.widget-view+json": {
       "model_id": "f236295f9f434caf9b0a83f39652c3f5",
       "version_major": 2,
       "version_minor": 0
      },
      "text/plain": [
       "HBox(children=(FloatProgress(value=0.0, max=151.0), HTML(value='')))"
      ]
     },
     "metadata": {},
     "output_type": "display_data"
    },
    {
     "name": "stdout",
     "output_type": "stream",
     "text": [
      "\n",
      "val 1/2: 0.9483656048303144 val 2/2: 0.3541536539662711\n"
     ]
    },
    {
     "data": {
      "application/vnd.jupyter.widget-view+json": {
       "model_id": "f759c0c76b0248f892a259533c13da5f",
       "version_major": 2,
       "version_minor": 0
      },
      "text/plain": [
       "HBox(children=(FloatProgress(value=0.0, max=1201.0), HTML(value='')))"
      ]
     },
     "metadata": {},
     "output_type": "display_data"
    },
    {
     "name": "stdout",
     "output_type": "stream",
     "text": [
      "[8,   200]  loss: 0.088 half accuracy: 0.956562 accuracy: 0.367\n",
      "[8,   400]  loss: 0.088 half accuracy: 0.955937 accuracy: 0.364\n",
      "[8,   600]  loss: 0.088 half accuracy: 0.955000 accuracy: 0.370\n"
     ]
    },
    {
     "ename": "KeyboardInterrupt",
     "evalue": "",
     "output_type": "error",
     "traceback": [
      "\u001b[0;31m---------------------------------------------------------------------------\u001b[0m",
      "\u001b[0;31mKeyboardInterrupt\u001b[0m                         Traceback (most recent call last)",
      "\u001b[0;32m<ipython-input-5-78be1fc3de84>\u001b[0m in \u001b[0;36m<module>\u001b[0;34m\u001b[0m\n\u001b[1;32m     20\u001b[0m \u001b[0;34m\u001b[0m\u001b[0m\n\u001b[1;32m     21\u001b[0m         \u001b[0mpred\u001b[0m \u001b[0;34m=\u001b[0m \u001b[0mpost_filter\u001b[0m\u001b[0;34m(\u001b[0m\u001b[0mpred\u001b[0m\u001b[0;34m)\u001b[0m\u001b[0;34m\u001b[0m\u001b[0;34m\u001b[0m\u001b[0m\n\u001b[0;32m---> 22\u001b[0;31m         \u001b[0mrunning_loss\u001b[0m \u001b[0;34m+=\u001b[0m \u001b[0mloss\u001b[0m\u001b[0;34m.\u001b[0m\u001b[0mitem\u001b[0m\u001b[0;34m(\u001b[0m\u001b[0;34m)\u001b[0m\u001b[0;34m\u001b[0m\u001b[0;34m\u001b[0m\u001b[0m\n\u001b[0m\u001b[1;32m     23\u001b[0m         \u001b[0mhalf_accuracy\u001b[0m\u001b[0;34m+=\u001b[0m \u001b[0mcompute_corrects\u001b[0m\u001b[0;34m(\u001b[0m\u001b[0mpred\u001b[0m\u001b[0;34m,\u001b[0m \u001b[0mtarget\u001b[0m\u001b[0;34m)\u001b[0m\u001b[0;34m[\u001b[0m\u001b[0;36m0\u001b[0m\u001b[0;34m]\u001b[0m\u001b[0;34m/\u001b[0m\u001b[0mbatch_size\u001b[0m\u001b[0;34m\u001b[0m\u001b[0;34m\u001b[0m\u001b[0m\n\u001b[1;32m     24\u001b[0m         \u001b[0mrunning_accuracy\u001b[0m \u001b[0;34m+=\u001b[0m \u001b[0mcompute_corrects\u001b[0m\u001b[0;34m(\u001b[0m\u001b[0mpred\u001b[0m\u001b[0;34m,\u001b[0m \u001b[0mtarget\u001b[0m\u001b[0;34m)\u001b[0m\u001b[0;34m[\u001b[0m\u001b[0;36m1\u001b[0m\u001b[0;34m]\u001b[0m\u001b[0;34m/\u001b[0m\u001b[0mbatch_size\u001b[0m\u001b[0;34m\u001b[0m\u001b[0;34m\u001b[0m\u001b[0m\n",
      "\u001b[0;31mKeyboardInterrupt\u001b[0m: "
     ]
    }
   ],
   "source": [
    "batch_size = 32\n",
    "trainloader = torch.utils.data.DataLoader(trainset, batch_size=batch_size, shuffle=True, pin_memory = True, num_workers = 16)\n",
    "valloader = torch.utils.data.DataLoader(valset, batch_size=batch_size, shuffle=True, pin_memory = True, num_workers = 16)\n",
    "\n",
    "criterion = focalKLD\n",
    "\n",
    "for epoch in range(64):\n",
    "    model.train()\n",
    "    running_loss = 0.0\n",
    "    half_accuracy = 0.0\n",
    "    running_accuracy = 0.0\n",
    "    for batch_idx, (features, target) in enumerate(tqdm(trainloader)):\n",
    "        optimizer.zero_grad()\n",
    "        features, target = features.float().cuda(device), target.float().cuda(device)\n",
    "        pred = model(features)\n",
    "        loss = criterion(pred, target)\n",
    "        loss.backward()\n",
    "        torch.nn.utils.clip_grad_norm_(model.parameters(), 0.5)\n",
    "        optimizer.step()\n",
    "        \n",
    "        pred = post_filter(pred)\n",
    "        running_loss += loss.item()\n",
    "        half_accuracy+= compute_corrects(pred, target)[0]/batch_size\n",
    "        running_accuracy += compute_corrects(pred, target)[1]/batch_size\n",
    "\n",
    "        \n",
    "        if batch_idx % 200 == 199:    # print every 2000 mini-batches\n",
    "            print('[%d, %5d]  loss: %.3f half accuracy: %3f accuracy: %.3f' % \n",
    "                  (epoch + 1, batch_idx + 1, running_loss / 200, half_accuracy/200, running_accuracy / 200))\n",
    "            torch.save({\n",
    "            'model_state_dict': model.state_dict(),\n",
    "            'optimizer_state_dict': optimizer.state_dict(),\n",
    "            'loss': running_loss,\n",
    "            }, 'models/Wang2018.pth')\n",
    "            running_loss = 0.0\n",
    "            half_accuracy = 0.0\n",
    "            running_accuracy = 0.0\n",
    "    \n",
    "    model.eval()\n",
    "    running_loss = 0.0\n",
    "    half_accuracy = 0.0\n",
    "    running_accuracy = 0.0\n",
    "    with torch.no_grad():\n",
    "        for batch_idx, (features, target) in enumerate(tqdm(valloader)):\n",
    "            features, target = features.float().cuda(device), target.float().cuda(device)\n",
    "            pred = model(features)\n",
    "            loss = criterion(pred, target)\n",
    "            \n",
    "            pred = post_filter(pred)\n",
    "            running_loss += loss.item()\n",
    "            half_accuracy+= compute_corrects(pred, target)[0]\n",
    "            running_accuracy += compute_corrects(pred, target)[1]\n",
    "\n",
    "        print('val 1/2:', half_accuracy/len(valset), 'val 2/2:', running_accuracy/len(valset))"
   ]
  },
  {
   "cell_type": "code",
   "execution_count": 8,
   "metadata": {},
   "outputs": [
    {
     "data": {
      "application/vnd.jupyter.widget-view+json": {
       "model_id": "d9274de0f6344a1f9ca1878f8d26e90f",
       "version_major": 2,
       "version_minor": 0
      },
      "text/plain": [
       "HBox(children=(FloatProgress(value=0.0, max=153.0), HTML(value='')))"
      ]
     },
     "metadata": {},
     "output_type": "display_data"
    },
    {
     "name": "stdout",
     "output_type": "stream",
     "text": [
      "\n",
      "test 1/2: 0.9533360622185837 val 2/2: 0.36451084731887023\n"
     ]
    },
    {
     "data": {
      "application/vnd.jupyter.widget-view+json": {
       "model_id": "0cf363bcbbe04f73b62382da34f3cf36",
       "version_major": 2,
       "version_minor": 0
      },
      "text/plain": [
       "HBox(children=(FloatProgress(value=0.0, max=153.0), HTML(value='')))"
      ]
     },
     "metadata": {},
     "output_type": "display_data"
    },
    {
     "name": "stdout",
     "output_type": "stream",
     "text": [
      "\n",
      "test 1/2: 0.9535407286123618 val 2/2: 0.3698321735571019\n"
     ]
    },
    {
     "data": {
      "application/vnd.jupyter.widget-view+json": {
       "model_id": "b4e039e0b5cf4fd393a4fe76afd2c640",
       "version_major": 2,
       "version_minor": 0
      },
      "text/plain": [
       "HBox(children=(FloatProgress(value=0.0, max=153.0), HTML(value='')))"
      ]
     },
     "metadata": {},
     "output_type": "display_data"
    },
    {
     "name": "stdout",
     "output_type": "stream",
     "text": [
      "\n",
      "test 1/2: 0.9506753990994679 val 2/2: 0.358370855505526\n"
     ]
    },
    {
     "data": {
      "application/vnd.jupyter.widget-view+json": {
       "model_id": "ac50910a67864eb8a0a5b611fbf1df8c",
       "version_major": 2,
       "version_minor": 0
      },
      "text/plain": [
       "HBox(children=(FloatProgress(value=0.0, max=153.0), HTML(value='')))"
      ]
     },
     "metadata": {},
     "output_type": "display_data"
    },
    {
     "name": "stdout",
     "output_type": "stream",
     "text": [
      "\n",
      "test 1/2: 0.955178059762587 val 2/2: 0.36164551780597626\n"
     ]
    },
    {
     "data": {
      "application/vnd.jupyter.widget-view+json": {
       "model_id": "3b398c8905fd48f3980536bcb2e347bf",
       "version_major": 2,
       "version_minor": 0
      },
      "text/plain": [
       "HBox(children=(FloatProgress(value=0.0, max=153.0), HTML(value='')))"
      ]
     },
     "metadata": {},
     "output_type": "display_data"
    },
    {
     "name": "stdout",
     "output_type": "stream",
     "text": [
      "\n",
      "test 1/2: 0.9471960704052395 val 2/2: 0.35816618911174786\n",
      "0.3625051166598444\n",
      "0.9519852640196481\n"
     ]
    }
   ],
   "source": [
    "testloader = torch.utils.data.DataLoader(testset, batch_size=batch_size, shuffle=True, pin_memory = True, num_workers = 16)\n",
    "acc = []\n",
    "halfacc = []\n",
    "torch.manual_seed(0)\n",
    "for i in range(5):\n",
    "    with torch.no_grad():\n",
    "        model.eval()\n",
    "        running_loss = 0.0\n",
    "        half_accuracy = 0.0\n",
    "        running_accuracy = 0.0\n",
    "        for batch_idx, (features, target) in enumerate(tqdm(testloader)):\n",
    "            features, target = features.float().cuda(device), target.float().cuda(device)\n",
    "            pred = model(features)\n",
    "            loss = criterion(pred, target)\n",
    "            \n",
    "            pred = post_filter(pred)\n",
    "            running_loss += loss.item()\n",
    "            half_accuracy+= compute_corrects(pred, target)[0]\n",
    "            running_accuracy += compute_corrects(pred, target)[1]\n",
    "\n",
    "        print('test 1/2:', half_accuracy/len(testset), 'val 2/2:', running_accuracy/len(testset))\n",
    "        halfacc.append(half_accuracy/len(testset))\n",
    "        acc.append(running_accuracy/len(testset))\n",
    "print(np.mean(acc))\n",
    "print(np.mean(halfacc))"
   ]
  },
  {
   "cell_type": "code",
   "execution_count": 12,
   "metadata": {},
   "outputs": [
    {
     "name": "stdout",
     "output_type": "stream",
     "text": [
      "[INFO] Register count_convNd() for <class 'torch.nn.modules.conv.Conv2d'>.\n",
      "[INFO] Register count_bn() for <class 'torch.nn.modules.batchnorm.BatchNorm2d'>.\n",
      "[INFO] Register zero_ops() for <class 'torch.nn.modules.activation.ReLU'>.\n",
      "[INFO] Register count_convNd() for <class 'torch.nn.modules.conv.Conv1d'>.\n",
      "\u001b[91m[WARN] Cannot find rule for <class 'torch.nn.modules.activation.Softmax'>. Treat it as zero Macs and zero Params.\u001b[00m\n",
      "\u001b[91m[WARN] Cannot find rule for <class '__main__.Wang2018'>. Treat it as zero Macs and zero Params.\u001b[00m\n",
      "0.146304872 1.362826\n"
     ]
    }
   ],
   "source": [
    "model.eval()\n",
    "from thop import profile\n",
    "model.cpu()\n",
    "feature, _ = trainset[0]\n",
    "feature = torch.Tensor(feature[None, ...])\n",
    "macs, params = profile(model, inputs=(feature, ))\n",
    "print(macs/10**9, params/10**6)"
   ]
  },
  {
   "cell_type": "code",
   "execution_count": null,
   "metadata": {},
   "outputs": [],
   "source": []
  }
 ],
 "metadata": {
  "kernelspec": {
   "display_name": "Python 3",
   "language": "python",
   "name": "python3"
  },
  "language_info": {
   "codemirror_mode": {
    "name": "ipython",
    "version": 3
   },
   "file_extension": ".py",
   "mimetype": "text/x-python",
   "name": "python",
   "nbconvert_exporter": "python",
   "pygments_lexer": "ipython3",
   "version": "3.7.6"
  }
 },
 "nbformat": 4,
 "nbformat_minor": 4
}
