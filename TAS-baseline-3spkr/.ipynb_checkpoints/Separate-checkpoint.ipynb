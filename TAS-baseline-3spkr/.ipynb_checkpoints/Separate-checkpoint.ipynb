{
 "cells": [
  {
   "cell_type": "code",
   "execution_count": 1,
   "metadata": {},
   "outputs": [],
   "source": [
    "import sys\n",
    "from librosa.core import resample\n",
    "import pandas as pd\n",
    "import numpy as np\n",
    "from IPython.display import Audio\n",
    "import torch\n",
    "import pathlib\n",
    "def create_dir(filename):\n",
    "    pathlib.Path('/'.join(filename.split('/')[:-1])).mkdir(parents=True, exist_ok=True)\n",
    "from tqdm.notebook import tqdm\n",
    "sys.path.append('Conv-TasNet/src/')\n",
    "sys.path.append('SincNet/')\n",
    "from conv_tasnet import *\n",
    "from pit_criterion import cal_loss\n",
    "from dnn_models import *\n",
    "from data_io import ReadList,read_conf_inp,str_to_bool\n",
    "from collections import Counter\n",
    "import os\n",
    "device = 1\n",
    "device_ids = [1,2,3]\n",
    "root_csv = '../'\n",
    "root_file = '../' # relative path of file to csvs\n",
    "old_sr = 16000\n",
    "new_sr = 8000"
   ]
  },
  {
   "cell_type": "code",
   "execution_count": 2,
   "metadata": {},
   "outputs": [],
   "source": [
    "def load8hz(filename):\n",
    "    samples = np.load(filename)/(2**15)\n",
    "    samples = resample(samples, old_sr, new_sr)\n",
    "    # pad the samples\n",
    "    if len(samples)>2*new_sr:\n",
    "        samples = samples[:2*new_sr]\n",
    "    if len(samples)<2*new_sr:\n",
    "        padding = np.zeros(2*new_sr-len(samples))\n",
    "        samples = np.concatenate([samples, padding])\n",
    "    \n",
    "    return samples\n",
    "\n",
    "class SourceSet(torch.utils.data.Dataset):\n",
    "    def __init__(self, root_csv, root_file, csv):\n",
    "        super().__init__()\n",
    "        self.root_csv = root_csv\n",
    "        self.root_file = root_file\n",
    "        self.csv = pd.read_csv(root_csv+csv)\n",
    "    def __len__(self):\n",
    "        return len(self.csv)\n",
    "    def __getitem__(self, idx):\n",
    "        row = self.csv.iloc[idx]\n",
    "        sig1, sig2, sig3 = load8hz(self.root_file+self.root_csv+row['first_file']),\\\n",
    "            load8hz(self.root_file+self.root_csv+row['second_file']), load8hz(self.root_file+root_csv+row['third_file'])\n",
    "        return sig1, sig2, sig3\n",
    "sourceset_train = SourceSet(root_csv, root_file, 'overlay-train.csv')\n"
   ]
  },
  {
   "cell_type": "code",
   "execution_count": 3,
   "metadata": {},
   "outputs": [
    {
     "name": "stdout",
     "output_type": "stream",
     "text": [
      "load model\n"
     ]
    }
   ],
   "source": [
    "#tasnet = ConvTasNet.load_model('final.pth.tar').cuda(device)\n",
    "tasnet = ConvTasNet(N = 256, L = 20, B = 256, H = 512, P = 3, X = 8, R = 4, C = 3, norm_type=\"gLN\", causal=0,\n",
    "             mask_nonlinear='relu').cuda(device)\n",
    "optimizer = torch.optim.Adam(tasnet.parameters(), lr = 0.001)\n",
    "\n",
    "if os.path.exists('models/tasnet.pth'):\n",
    "    print('load model')\n",
    "    checkpoint = torch.load('models/tasnet.pth')\n",
    "    tasnet.load_state_dict(checkpoint['model_state_dict'])\n",
    "    optimizer.load_state_dict(checkpoint['optimizer_state_dict'])\n",
    "    loss = checkpoint['loss']\n",
    "    \n",
    "tasnet = nn.DataParallel(tasnet, device_ids = device_ids)\n",
    "tasnet.train()\n",
    "pass"
   ]
  },
  {
   "cell_type": "code",
   "execution_count": 4,
   "metadata": {},
   "outputs": [
    {
     "data": {
      "application/vnd.jupyter.widget-view+json": {
       "model_id": "64a04e8b0c4e4879a01147d9d664b13b",
       "version_major": 2,
       "version_minor": 0
      },
      "text/plain": [
       "HBox(children=(FloatProgress(value=0.0, max=66120.0), HTML(value='')))"
      ]
     },
     "metadata": {},
     "output_type": "display_data"
    },
    {
     "name": "stderr",
     "output_type": "stream",
     "text": [
      "Conv-TasNet/src/utils.py:40: UserWarning: To copy construct from a tensor, it is recommended to use sourceTensor.clone().detach() or sourceTensor.clone().detach().requires_grad_(True), rather than tensor.new_tensor(sourceTensor).\n",
      "  frame = signal.new_tensor(frame).long()  # signal may in GPU or CPU\n"
     ]
    },
    {
     "name": "stdout",
     "output_type": "stream",
     "text": [
      "[1,   200] loss: -8.095 \n",
      "[1,   400] loss: -7.974 \n",
      "[1,   600] loss: -8.179 \n",
      "[1,   800] loss: -8.155 \n",
      "[1,  1000] loss: -8.144 \n",
      "[1,  1200] loss: -8.097 \n",
      "[1,  1400] loss: -8.080 \n",
      "[1,  1600] loss: -8.159 \n",
      "[1,  1800] loss: -8.158 \n",
      "[1,  2000] loss: -8.111 \n",
      "[1,  2200] loss: -8.156 \n",
      "[1,  2400] loss: -8.054 \n",
      "[1,  2600] loss: -8.070 \n",
      "[1,  2800] loss: -8.076 \n",
      "[1,  3000] loss: -8.147 \n",
      "[1,  3200] loss: -8.172 \n",
      "[1,  3400] loss: -8.222 \n",
      "[1,  3600] loss: -8.201 \n",
      "[1,  3800] loss: -8.296 \n",
      "[1,  4000] loss: -8.240 \n",
      "[1,  4200] loss: -8.349 \n",
      "[1,  4400] loss: -8.168 \n",
      "[1,  4600] loss: -8.135 \n",
      "[1,  4800] loss: -8.283 \n",
      "[1,  5000] loss: -8.273 \n",
      "[1,  5200] loss: -8.289 \n",
      "[1,  5400] loss: -8.290 \n",
      "[1,  5600] loss: -8.249 \n",
      "[1,  5800] loss: -8.317 \n",
      "[1,  6000] loss: -8.231 \n",
      "[1,  6200] loss: -8.227 \n",
      "[1,  6400] loss: -8.168 \n",
      "[1,  6600] loss: -8.178 \n",
      "[1,  6800] loss: -8.233 \n",
      "[1,  7000] loss: -8.340 \n",
      "[1,  7200] loss: -8.348 \n",
      "[1,  7400] loss: -8.293 \n",
      "[1,  7600] loss: -8.326 \n",
      "[1,  7800] loss: -8.355 \n",
      "[1,  8000] loss: -8.374 \n",
      "[1,  8200] loss: -8.241 \n",
      "[1,  8400] loss: -8.202 \n",
      "[1,  8600] loss: -8.242 \n",
      "[1,  8800] loss: -8.185 \n",
      "[1,  9000] loss: -8.160 \n",
      "[1,  9200] loss: -8.387 \n",
      "[1,  9400] loss: -8.306 \n",
      "[1,  9600] loss: -8.303 \n",
      "[1,  9800] loss: -8.393 \n",
      "[1, 10000] loss: -8.392 \n",
      "[1, 10200] loss: -8.297 \n"
     ]
    },
    {
     "ename": "KeyboardInterrupt",
     "evalue": "",
     "output_type": "error",
     "traceback": [
      "\u001b[0;31m---------------------------------------------------------------------------\u001b[0m",
      "\u001b[0;31mKeyboardInterrupt\u001b[0m                         Traceback (most recent call last)",
      "\u001b[0;32m<ipython-input-4-eca29ac9a220>\u001b[0m in \u001b[0;36m<module>\u001b[0;34m\u001b[0m\n\u001b[1;32m      7\u001b[0m         \u001b[0moptimizer\u001b[0m\u001b[0;34m.\u001b[0m\u001b[0mzero_grad\u001b[0m\u001b[0;34m(\u001b[0m\u001b[0;34m)\u001b[0m\u001b[0;34m\u001b[0m\u001b[0;34m\u001b[0m\u001b[0m\n\u001b[1;32m      8\u001b[0m         \u001b[0msig1\u001b[0m\u001b[0;34m,\u001b[0m \u001b[0msig2\u001b[0m\u001b[0;34m,\u001b[0m \u001b[0msig3\u001b[0m \u001b[0;34m=\u001b[0m \u001b[0msig1\u001b[0m\u001b[0;34m.\u001b[0m\u001b[0mfloat\u001b[0m\u001b[0;34m(\u001b[0m\u001b[0;34m)\u001b[0m\u001b[0;34m.\u001b[0m\u001b[0mcuda\u001b[0m\u001b[0;34m(\u001b[0m\u001b[0mdevice\u001b[0m\u001b[0;34m)\u001b[0m\u001b[0;34m,\u001b[0m \u001b[0msig2\u001b[0m\u001b[0;34m.\u001b[0m\u001b[0mfloat\u001b[0m\u001b[0;34m(\u001b[0m\u001b[0;34m)\u001b[0m\u001b[0;34m.\u001b[0m\u001b[0mcuda\u001b[0m\u001b[0;34m(\u001b[0m\u001b[0mdevice\u001b[0m\u001b[0;34m)\u001b[0m\u001b[0;34m,\u001b[0m \u001b[0msig3\u001b[0m\u001b[0;34m.\u001b[0m\u001b[0mfloat\u001b[0m\u001b[0;34m(\u001b[0m\u001b[0;34m)\u001b[0m\u001b[0;34m.\u001b[0m\u001b[0mcuda\u001b[0m\u001b[0;34m(\u001b[0m\u001b[0mdevice\u001b[0m\u001b[0;34m)\u001b[0m\u001b[0;34m\u001b[0m\u001b[0;34m\u001b[0m\u001b[0m\n\u001b[0;32m----> 9\u001b[0;31m         \u001b[0mout\u001b[0m \u001b[0;34m=\u001b[0m \u001b[0mtasnet\u001b[0m\u001b[0;34m(\u001b[0m\u001b[0msig1\u001b[0m\u001b[0;34m+\u001b[0m\u001b[0msig2\u001b[0m\u001b[0;34m+\u001b[0m\u001b[0msig3\u001b[0m\u001b[0;34m)\u001b[0m\u001b[0;34m\u001b[0m\u001b[0;34m\u001b[0m\u001b[0m\n\u001b[0m\u001b[1;32m     10\u001b[0m         \u001b[0msource\u001b[0m \u001b[0;34m=\u001b[0m \u001b[0mtorch\u001b[0m\u001b[0;34m.\u001b[0m\u001b[0mstack\u001b[0m\u001b[0;34m(\u001b[0m\u001b[0;34m[\u001b[0m\u001b[0msig1\u001b[0m\u001b[0;34m,\u001b[0m \u001b[0msig2\u001b[0m\u001b[0;34m,\u001b[0m \u001b[0msig3\u001b[0m\u001b[0;34m]\u001b[0m\u001b[0;34m,\u001b[0m \u001b[0mdim\u001b[0m \u001b[0;34m=\u001b[0m \u001b[0;36m1\u001b[0m\u001b[0;34m)\u001b[0m\u001b[0;34m.\u001b[0m\u001b[0mdetach\u001b[0m\u001b[0;34m(\u001b[0m\u001b[0;34m)\u001b[0m\u001b[0;34m\u001b[0m\u001b[0;34m\u001b[0m\u001b[0m\n\u001b[1;32m     11\u001b[0m         \u001b[0mloss\u001b[0m\u001b[0;34m,\u001b[0m \u001b[0mmax_snr\u001b[0m\u001b[0;34m,\u001b[0m \u001b[0mestimate_source\u001b[0m\u001b[0;34m,\u001b[0m \u001b[0mreorder_estimate_source\u001b[0m \u001b[0;34m=\u001b[0m\u001b[0;31m \u001b[0m\u001b[0;31m\\\u001b[0m\u001b[0;34m\u001b[0m\u001b[0;34m\u001b[0m\u001b[0m\n",
      "\u001b[0;32m~/anaconda3/lib/python3.7/site-packages/torch/nn/modules/module.py\u001b[0m in \u001b[0;36m__call__\u001b[0;34m(self, *input, **kwargs)\u001b[0m\n\u001b[1;32m    530\u001b[0m             \u001b[0mresult\u001b[0m \u001b[0;34m=\u001b[0m \u001b[0mself\u001b[0m\u001b[0;34m.\u001b[0m\u001b[0m_slow_forward\u001b[0m\u001b[0;34m(\u001b[0m\u001b[0;34m*\u001b[0m\u001b[0minput\u001b[0m\u001b[0;34m,\u001b[0m \u001b[0;34m**\u001b[0m\u001b[0mkwargs\u001b[0m\u001b[0;34m)\u001b[0m\u001b[0;34m\u001b[0m\u001b[0;34m\u001b[0m\u001b[0m\n\u001b[1;32m    531\u001b[0m         \u001b[0;32melse\u001b[0m\u001b[0;34m:\u001b[0m\u001b[0;34m\u001b[0m\u001b[0;34m\u001b[0m\u001b[0m\n\u001b[0;32m--> 532\u001b[0;31m             \u001b[0mresult\u001b[0m \u001b[0;34m=\u001b[0m \u001b[0mself\u001b[0m\u001b[0;34m.\u001b[0m\u001b[0mforward\u001b[0m\u001b[0;34m(\u001b[0m\u001b[0;34m*\u001b[0m\u001b[0minput\u001b[0m\u001b[0;34m,\u001b[0m \u001b[0;34m**\u001b[0m\u001b[0mkwargs\u001b[0m\u001b[0;34m)\u001b[0m\u001b[0;34m\u001b[0m\u001b[0;34m\u001b[0m\u001b[0m\n\u001b[0m\u001b[1;32m    533\u001b[0m         \u001b[0;32mfor\u001b[0m \u001b[0mhook\u001b[0m \u001b[0;32min\u001b[0m \u001b[0mself\u001b[0m\u001b[0;34m.\u001b[0m\u001b[0m_forward_hooks\u001b[0m\u001b[0;34m.\u001b[0m\u001b[0mvalues\u001b[0m\u001b[0;34m(\u001b[0m\u001b[0;34m)\u001b[0m\u001b[0;34m:\u001b[0m\u001b[0;34m\u001b[0m\u001b[0;34m\u001b[0m\u001b[0m\n\u001b[1;32m    534\u001b[0m             \u001b[0mhook_result\u001b[0m \u001b[0;34m=\u001b[0m \u001b[0mhook\u001b[0m\u001b[0;34m(\u001b[0m\u001b[0mself\u001b[0m\u001b[0;34m,\u001b[0m \u001b[0minput\u001b[0m\u001b[0;34m,\u001b[0m \u001b[0mresult\u001b[0m\u001b[0;34m)\u001b[0m\u001b[0;34m\u001b[0m\u001b[0;34m\u001b[0m\u001b[0m\n",
      "\u001b[0;32m~/anaconda3/lib/python3.7/site-packages/torch/nn/parallel/data_parallel.py\u001b[0m in \u001b[0;36mforward\u001b[0;34m(self, *inputs, **kwargs)\u001b[0m\n\u001b[1;32m    149\u001b[0m         \u001b[0;32mif\u001b[0m \u001b[0mlen\u001b[0m\u001b[0;34m(\u001b[0m\u001b[0mself\u001b[0m\u001b[0;34m.\u001b[0m\u001b[0mdevice_ids\u001b[0m\u001b[0;34m)\u001b[0m \u001b[0;34m==\u001b[0m \u001b[0;36m1\u001b[0m\u001b[0;34m:\u001b[0m\u001b[0;34m\u001b[0m\u001b[0;34m\u001b[0m\u001b[0m\n\u001b[1;32m    150\u001b[0m             \u001b[0;32mreturn\u001b[0m \u001b[0mself\u001b[0m\u001b[0;34m.\u001b[0m\u001b[0mmodule\u001b[0m\u001b[0;34m(\u001b[0m\u001b[0;34m*\u001b[0m\u001b[0minputs\u001b[0m\u001b[0;34m[\u001b[0m\u001b[0;36m0\u001b[0m\u001b[0;34m]\u001b[0m\u001b[0;34m,\u001b[0m \u001b[0;34m**\u001b[0m\u001b[0mkwargs\u001b[0m\u001b[0;34m[\u001b[0m\u001b[0;36m0\u001b[0m\u001b[0;34m]\u001b[0m\u001b[0;34m)\u001b[0m\u001b[0;34m\u001b[0m\u001b[0;34m\u001b[0m\u001b[0m\n\u001b[0;32m--> 151\u001b[0;31m         \u001b[0mreplicas\u001b[0m \u001b[0;34m=\u001b[0m \u001b[0mself\u001b[0m\u001b[0;34m.\u001b[0m\u001b[0mreplicate\u001b[0m\u001b[0;34m(\u001b[0m\u001b[0mself\u001b[0m\u001b[0;34m.\u001b[0m\u001b[0mmodule\u001b[0m\u001b[0;34m,\u001b[0m \u001b[0mself\u001b[0m\u001b[0;34m.\u001b[0m\u001b[0mdevice_ids\u001b[0m\u001b[0;34m[\u001b[0m\u001b[0;34m:\u001b[0m\u001b[0mlen\u001b[0m\u001b[0;34m(\u001b[0m\u001b[0minputs\u001b[0m\u001b[0;34m)\u001b[0m\u001b[0;34m]\u001b[0m\u001b[0;34m)\u001b[0m\u001b[0;34m\u001b[0m\u001b[0;34m\u001b[0m\u001b[0m\n\u001b[0m\u001b[1;32m    152\u001b[0m         \u001b[0moutputs\u001b[0m \u001b[0;34m=\u001b[0m \u001b[0mself\u001b[0m\u001b[0;34m.\u001b[0m\u001b[0mparallel_apply\u001b[0m\u001b[0;34m(\u001b[0m\u001b[0mreplicas\u001b[0m\u001b[0;34m,\u001b[0m \u001b[0minputs\u001b[0m\u001b[0;34m,\u001b[0m \u001b[0mkwargs\u001b[0m\u001b[0;34m)\u001b[0m\u001b[0;34m\u001b[0m\u001b[0;34m\u001b[0m\u001b[0m\n\u001b[1;32m    153\u001b[0m         \u001b[0;32mreturn\u001b[0m \u001b[0mself\u001b[0m\u001b[0;34m.\u001b[0m\u001b[0mgather\u001b[0m\u001b[0;34m(\u001b[0m\u001b[0moutputs\u001b[0m\u001b[0;34m,\u001b[0m \u001b[0mself\u001b[0m\u001b[0;34m.\u001b[0m\u001b[0moutput_device\u001b[0m\u001b[0;34m)\u001b[0m\u001b[0;34m\u001b[0m\u001b[0;34m\u001b[0m\u001b[0m\n",
      "\u001b[0;32m~/anaconda3/lib/python3.7/site-packages/torch/nn/parallel/data_parallel.py\u001b[0m in \u001b[0;36mreplicate\u001b[0;34m(self, module, device_ids)\u001b[0m\n\u001b[1;32m    154\u001b[0m \u001b[0;34m\u001b[0m\u001b[0m\n\u001b[1;32m    155\u001b[0m     \u001b[0;32mdef\u001b[0m \u001b[0mreplicate\u001b[0m\u001b[0;34m(\u001b[0m\u001b[0mself\u001b[0m\u001b[0;34m,\u001b[0m \u001b[0mmodule\u001b[0m\u001b[0;34m,\u001b[0m \u001b[0mdevice_ids\u001b[0m\u001b[0;34m)\u001b[0m\u001b[0;34m:\u001b[0m\u001b[0;34m\u001b[0m\u001b[0;34m\u001b[0m\u001b[0m\n\u001b[0;32m--> 156\u001b[0;31m         \u001b[0;32mreturn\u001b[0m \u001b[0mreplicate\u001b[0m\u001b[0;34m(\u001b[0m\u001b[0mmodule\u001b[0m\u001b[0;34m,\u001b[0m \u001b[0mdevice_ids\u001b[0m\u001b[0;34m,\u001b[0m \u001b[0;32mnot\u001b[0m \u001b[0mtorch\u001b[0m\u001b[0;34m.\u001b[0m\u001b[0mis_grad_enabled\u001b[0m\u001b[0;34m(\u001b[0m\u001b[0;34m)\u001b[0m\u001b[0;34m)\u001b[0m\u001b[0;34m\u001b[0m\u001b[0;34m\u001b[0m\u001b[0m\n\u001b[0m\u001b[1;32m    157\u001b[0m \u001b[0;34m\u001b[0m\u001b[0m\n\u001b[1;32m    158\u001b[0m     \u001b[0;32mdef\u001b[0m \u001b[0mscatter\u001b[0m\u001b[0;34m(\u001b[0m\u001b[0mself\u001b[0m\u001b[0;34m,\u001b[0m \u001b[0minputs\u001b[0m\u001b[0;34m,\u001b[0m \u001b[0mkwargs\u001b[0m\u001b[0;34m,\u001b[0m \u001b[0mdevice_ids\u001b[0m\u001b[0;34m)\u001b[0m\u001b[0;34m:\u001b[0m\u001b[0;34m\u001b[0m\u001b[0;34m\u001b[0m\u001b[0m\n",
      "\u001b[0;32m~/anaconda3/lib/python3.7/site-packages/torch/nn/parallel/replicate.py\u001b[0m in \u001b[0;36mreplicate\u001b[0;34m(network, devices, detach)\u001b[0m\n\u001b[1;32m     86\u001b[0m     \u001b[0mparams\u001b[0m \u001b[0;34m=\u001b[0m \u001b[0mlist\u001b[0m\u001b[0;34m(\u001b[0m\u001b[0mnetwork\u001b[0m\u001b[0;34m.\u001b[0m\u001b[0mparameters\u001b[0m\u001b[0;34m(\u001b[0m\u001b[0;34m)\u001b[0m\u001b[0;34m)\u001b[0m\u001b[0;34m\u001b[0m\u001b[0;34m\u001b[0m\u001b[0m\n\u001b[1;32m     87\u001b[0m     \u001b[0mparam_indices\u001b[0m \u001b[0;34m=\u001b[0m \u001b[0;34m{\u001b[0m\u001b[0mparam\u001b[0m\u001b[0;34m:\u001b[0m \u001b[0midx\u001b[0m \u001b[0;32mfor\u001b[0m \u001b[0midx\u001b[0m\u001b[0;34m,\u001b[0m \u001b[0mparam\u001b[0m \u001b[0;32min\u001b[0m \u001b[0menumerate\u001b[0m\u001b[0;34m(\u001b[0m\u001b[0mparams\u001b[0m\u001b[0;34m)\u001b[0m\u001b[0;34m}\u001b[0m\u001b[0;34m\u001b[0m\u001b[0;34m\u001b[0m\u001b[0m\n\u001b[0;32m---> 88\u001b[0;31m     \u001b[0mparam_copies\u001b[0m \u001b[0;34m=\u001b[0m \u001b[0m_broadcast_coalesced_reshape\u001b[0m\u001b[0;34m(\u001b[0m\u001b[0mparams\u001b[0m\u001b[0;34m,\u001b[0m \u001b[0mdevices\u001b[0m\u001b[0;34m,\u001b[0m \u001b[0mdetach\u001b[0m\u001b[0;34m)\u001b[0m\u001b[0;34m\u001b[0m\u001b[0;34m\u001b[0m\u001b[0m\n\u001b[0m\u001b[1;32m     89\u001b[0m \u001b[0;34m\u001b[0m\u001b[0m\n\u001b[1;32m     90\u001b[0m     \u001b[0mbuffers\u001b[0m \u001b[0;34m=\u001b[0m \u001b[0mlist\u001b[0m\u001b[0;34m(\u001b[0m\u001b[0mnetwork\u001b[0m\u001b[0;34m.\u001b[0m\u001b[0mbuffers\u001b[0m\u001b[0;34m(\u001b[0m\u001b[0;34m)\u001b[0m\u001b[0;34m)\u001b[0m\u001b[0;34m\u001b[0m\u001b[0;34m\u001b[0m\u001b[0m\n",
      "\u001b[0;32m~/anaconda3/lib/python3.7/site-packages/torch/nn/parallel/replicate.py\u001b[0m in \u001b[0;36m_broadcast_coalesced_reshape\u001b[0;34m(tensors, devices, detach)\u001b[0m\n\u001b[1;32m     69\u001b[0m         \u001b[0;31m# Use the autograd function to broadcast if not detach\u001b[0m\u001b[0;34m\u001b[0m\u001b[0;34m\u001b[0m\u001b[0;34m\u001b[0m\u001b[0m\n\u001b[1;32m     70\u001b[0m         \u001b[0;32mif\u001b[0m \u001b[0mlen\u001b[0m\u001b[0;34m(\u001b[0m\u001b[0mtensors\u001b[0m\u001b[0;34m)\u001b[0m \u001b[0;34m>\u001b[0m \u001b[0;36m0\u001b[0m\u001b[0;34m:\u001b[0m\u001b[0;34m\u001b[0m\u001b[0;34m\u001b[0m\u001b[0m\n\u001b[0;32m---> 71\u001b[0;31m             \u001b[0mtensor_copies\u001b[0m \u001b[0;34m=\u001b[0m \u001b[0mBroadcast\u001b[0m\u001b[0;34m.\u001b[0m\u001b[0mapply\u001b[0m\u001b[0;34m(\u001b[0m\u001b[0mdevices\u001b[0m\u001b[0;34m,\u001b[0m \u001b[0;34m*\u001b[0m\u001b[0mtensors\u001b[0m\u001b[0;34m)\u001b[0m\u001b[0;34m\u001b[0m\u001b[0;34m\u001b[0m\u001b[0m\n\u001b[0m\u001b[1;32m     72\u001b[0m             return [tensor_copies[i:i + len(tensors)]\n\u001b[1;32m     73\u001b[0m                     for i in range(0, len(tensor_copies), len(tensors))]\n",
      "\u001b[0;31mKeyboardInterrupt\u001b[0m: "
     ]
    }
   ],
   "source": [
    "batch_size = 24\n",
    "sourceloader_train  = torch.utils.data.DataLoader(sourceset_train, batch_size=batch_size, shuffle=True, pin_memory = True, num_workers = 32)\n",
    "\n",
    "for epoch in range(64):\n",
    "    running_loss = 0.0\n",
    "    for batch_idx, (sig1, sig2, sig3) in enumerate(tqdm(sourceloader_train)):\n",
    "        optimizer.zero_grad()\n",
    "        sig1, sig2, sig3 = sig1.float().cuda(device), sig2.float().cuda(device), sig3.float().cuda(device)\n",
    "        out = tasnet(sig1+sig2+sig3)\n",
    "        source = torch.stack([sig1, sig2, sig3], dim = 1).detach()\n",
    "        loss, max_snr, estimate_source, reorder_estimate_source = \\\n",
    "            cal_loss(source, out, torch.ones(batch_size, dtype = torch.int32).cuda(device)*16000)\n",
    "        loss.backward()\n",
    "        torch.nn.utils.clip_grad_norm_(tasnet.parameters(), 0.5)\n",
    "        optimizer.step()\n",
    "\n",
    "        running_loss += loss.item()\n",
    "        if batch_idx % 200 == 199:    # print every 2000 mini-batches\n",
    "            print('[%d, %5d] loss: %.3f ' % \n",
    "                  (epoch + 1, batch_idx + 1, running_loss / 200))\n",
    "            running_loss = 0.0\n",
    "            torch.save({\n",
    "            'model_state_dict': tasnet.module.state_dict(),\n",
    "            'optimizer_state_dict': optimizer.state_dict(),\n",
    "            'loss': loss\n",
    "            }, 'models/tasnet.pth')"
   ]
  },
  {
   "cell_type": "code",
   "execution_count": 5,
   "metadata": {},
   "outputs": [],
   "source": [
    "def reformat(prefix, i, filename):\n",
    "    filename = filename.split('.')[-2]\n",
    "    return filename + '_' + prefix + '_' + str(i) + '.npy'"
   ]
  },
  {
   "cell_type": "code",
   "execution_count": 8,
   "metadata": {},
   "outputs": [
    {
     "data": {
      "application/vnd.jupyter.widget-view+json": {
       "model_id": "7d35012f39184cd4a77cbfe572bf7b75",
       "version_major": 2,
       "version_minor": 0
      },
      "text/plain": [
       "HBox(children=(FloatProgress(value=0.0, max=198360.0), HTML(value='')))"
      ]
     },
     "metadata": {},
     "output_type": "display_data"
    },
    {
     "name": "stderr",
     "output_type": "stream",
     "text": [
      "Conv-TasNet/src/utils.py:40: UserWarning: To copy construct from a tensor, it is recommended to use sourceTensor.clone().detach() or sourceTensor.clone().detach().requires_grad_(True), rather than tensor.new_tensor(sourceTensor).\n",
      "  frame = signal.new_tensor(frame).long()  # signal may in GPU or CPU\n"
     ]
    },
    {
     "ename": "KeyboardInterrupt",
     "evalue": "",
     "output_type": "error",
     "traceback": [
      "\u001b[0;31m---------------------------------------------------------------------------\u001b[0m",
      "\u001b[0;31mKeyboardInterrupt\u001b[0m                         Traceback (most recent call last)",
      "\u001b[0;32m<ipython-input-8-a66b412f8176>\u001b[0m in \u001b[0;36m<module>\u001b[0;34m\u001b[0m\n\u001b[1;32m      7\u001b[0m     \u001b[0;32mfor\u001b[0m \u001b[0mi\u001b[0m \u001b[0;32min\u001b[0m \u001b[0mtqdm\u001b[0m\u001b[0;34m(\u001b[0m\u001b[0mrange\u001b[0m\u001b[0;34m(\u001b[0m\u001b[0mlen\u001b[0m\u001b[0;34m(\u001b[0m\u001b[0mcsv\u001b[0m\u001b[0;34m)\u001b[0m\u001b[0;34m)\u001b[0m\u001b[0;34m)\u001b[0m\u001b[0;34m:\u001b[0m\u001b[0;34m\u001b[0m\u001b[0;34m\u001b[0m\u001b[0m\n\u001b[1;32m      8\u001b[0m         \u001b[0mrow\u001b[0m \u001b[0;34m=\u001b[0m \u001b[0mcsv\u001b[0m\u001b[0;34m.\u001b[0m\u001b[0miloc\u001b[0m\u001b[0;34m[\u001b[0m\u001b[0mi\u001b[0m\u001b[0;34m]\u001b[0m\u001b[0;34m\u001b[0m\u001b[0;34m\u001b[0m\u001b[0m\n\u001b[0;32m----> 9\u001b[0;31m         \u001b[0mseg1\u001b[0m \u001b[0;34m=\u001b[0m \u001b[0mload8hz\u001b[0m\u001b[0;34m(\u001b[0m\u001b[0mroot_file\u001b[0m\u001b[0;34m+\u001b[0m\u001b[0mroot_csv\u001b[0m\u001b[0;34m+\u001b[0m\u001b[0mrow\u001b[0m\u001b[0;34m[\u001b[0m\u001b[0;34m'first_file'\u001b[0m\u001b[0;34m]\u001b[0m\u001b[0;34m)\u001b[0m\u001b[0;34m\u001b[0m\u001b[0;34m\u001b[0m\u001b[0m\n\u001b[0m\u001b[1;32m     10\u001b[0m         \u001b[0mseg2\u001b[0m \u001b[0;34m=\u001b[0m \u001b[0mload8hz\u001b[0m\u001b[0;34m(\u001b[0m\u001b[0mroot_file\u001b[0m\u001b[0;34m+\u001b[0m\u001b[0mroot_csv\u001b[0m\u001b[0;34m+\u001b[0m\u001b[0mrow\u001b[0m\u001b[0;34m[\u001b[0m\u001b[0;34m'second_file'\u001b[0m\u001b[0;34m]\u001b[0m\u001b[0;34m)\u001b[0m\u001b[0;34m\u001b[0m\u001b[0;34m\u001b[0m\u001b[0m\n\u001b[1;32m     11\u001b[0m         \u001b[0mseg3\u001b[0m \u001b[0;34m=\u001b[0m \u001b[0mload8hz\u001b[0m\u001b[0;34m(\u001b[0m\u001b[0mroot_file\u001b[0m\u001b[0;34m+\u001b[0m\u001b[0mroot_csv\u001b[0m\u001b[0;34m+\u001b[0m\u001b[0mrow\u001b[0m\u001b[0;34m[\u001b[0m\u001b[0;34m'third_file'\u001b[0m\u001b[0;34m]\u001b[0m\u001b[0;34m)\u001b[0m\u001b[0;34m\u001b[0m\u001b[0;34m\u001b[0m\u001b[0m\n",
      "\u001b[0;32m<ipython-input-2-24e1e73dd613>\u001b[0m in \u001b[0;36mload8hz\u001b[0;34m(filename)\u001b[0m\n\u001b[1;32m      1\u001b[0m \u001b[0;32mdef\u001b[0m \u001b[0mload8hz\u001b[0m\u001b[0;34m(\u001b[0m\u001b[0mfilename\u001b[0m\u001b[0;34m)\u001b[0m\u001b[0;34m:\u001b[0m\u001b[0;34m\u001b[0m\u001b[0;34m\u001b[0m\u001b[0m\n\u001b[1;32m      2\u001b[0m     \u001b[0msamples\u001b[0m \u001b[0;34m=\u001b[0m \u001b[0mnp\u001b[0m\u001b[0;34m.\u001b[0m\u001b[0mload\u001b[0m\u001b[0;34m(\u001b[0m\u001b[0mfilename\u001b[0m\u001b[0;34m)\u001b[0m\u001b[0;34m/\u001b[0m\u001b[0;34m(\u001b[0m\u001b[0;36m2\u001b[0m\u001b[0;34m**\u001b[0m\u001b[0;36m15\u001b[0m\u001b[0;34m)\u001b[0m\u001b[0;34m\u001b[0m\u001b[0;34m\u001b[0m\u001b[0m\n\u001b[0;32m----> 3\u001b[0;31m     \u001b[0msamples\u001b[0m \u001b[0;34m=\u001b[0m \u001b[0mresample\u001b[0m\u001b[0;34m(\u001b[0m\u001b[0msamples\u001b[0m\u001b[0;34m,\u001b[0m \u001b[0mold_sr\u001b[0m\u001b[0;34m,\u001b[0m \u001b[0mnew_sr\u001b[0m\u001b[0;34m)\u001b[0m\u001b[0;34m\u001b[0m\u001b[0;34m\u001b[0m\u001b[0m\n\u001b[0m\u001b[1;32m      4\u001b[0m     \u001b[0;31m# pad the samples\u001b[0m\u001b[0;34m\u001b[0m\u001b[0;34m\u001b[0m\u001b[0;34m\u001b[0m\u001b[0m\n\u001b[1;32m      5\u001b[0m     \u001b[0;32mif\u001b[0m \u001b[0mlen\u001b[0m\u001b[0;34m(\u001b[0m\u001b[0msamples\u001b[0m\u001b[0;34m)\u001b[0m\u001b[0;34m>\u001b[0m\u001b[0;36m2\u001b[0m\u001b[0;34m*\u001b[0m\u001b[0mnew_sr\u001b[0m\u001b[0;34m:\u001b[0m\u001b[0;34m\u001b[0m\u001b[0;34m\u001b[0m\u001b[0m\n",
      "\u001b[0;32m~/anaconda3/lib/python3.7/site-packages/librosa/core/audio.py\u001b[0m in \u001b[0;36mresample\u001b[0;34m(y, orig_sr, target_sr, res_type, fix, scale, **kwargs)\u001b[0m\n\u001b[1;32m    545\u001b[0m         \u001b[0my_hat\u001b[0m \u001b[0;34m=\u001b[0m \u001b[0mscipy\u001b[0m\u001b[0;34m.\u001b[0m\u001b[0msignal\u001b[0m\u001b[0;34m.\u001b[0m\u001b[0mresample_poly\u001b[0m\u001b[0;34m(\u001b[0m\u001b[0my\u001b[0m\u001b[0;34m,\u001b[0m \u001b[0mtarget_sr\u001b[0m \u001b[0;34m//\u001b[0m \u001b[0mgcd\u001b[0m\u001b[0;34m,\u001b[0m \u001b[0morig_sr\u001b[0m \u001b[0;34m//\u001b[0m \u001b[0mgcd\u001b[0m\u001b[0;34m,\u001b[0m \u001b[0maxis\u001b[0m\u001b[0;34m=\u001b[0m\u001b[0;34m-\u001b[0m\u001b[0;36m1\u001b[0m\u001b[0;34m)\u001b[0m\u001b[0;34m\u001b[0m\u001b[0;34m\u001b[0m\u001b[0m\n\u001b[1;32m    546\u001b[0m     \u001b[0;32melse\u001b[0m\u001b[0;34m:\u001b[0m\u001b[0;34m\u001b[0m\u001b[0;34m\u001b[0m\u001b[0m\n\u001b[0;32m--> 547\u001b[0;31m         \u001b[0my_hat\u001b[0m \u001b[0;34m=\u001b[0m \u001b[0mresampy\u001b[0m\u001b[0;34m.\u001b[0m\u001b[0mresample\u001b[0m\u001b[0;34m(\u001b[0m\u001b[0my\u001b[0m\u001b[0;34m,\u001b[0m \u001b[0morig_sr\u001b[0m\u001b[0;34m,\u001b[0m \u001b[0mtarget_sr\u001b[0m\u001b[0;34m,\u001b[0m \u001b[0mfilter\u001b[0m\u001b[0;34m=\u001b[0m\u001b[0mres_type\u001b[0m\u001b[0;34m,\u001b[0m \u001b[0maxis\u001b[0m\u001b[0;34m=\u001b[0m\u001b[0;34m-\u001b[0m\u001b[0;36m1\u001b[0m\u001b[0;34m)\u001b[0m\u001b[0;34m\u001b[0m\u001b[0;34m\u001b[0m\u001b[0m\n\u001b[0m\u001b[1;32m    548\u001b[0m \u001b[0;34m\u001b[0m\u001b[0m\n\u001b[1;32m    549\u001b[0m     \u001b[0;32mif\u001b[0m \u001b[0mfix\u001b[0m\u001b[0;34m:\u001b[0m\u001b[0;34m\u001b[0m\u001b[0;34m\u001b[0m\u001b[0m\n",
      "\u001b[0;32m~/anaconda3/lib/python3.7/site-packages/resampy/core.py\u001b[0m in \u001b[0;36mresample\u001b[0;34m(x, sr_orig, sr_new, axis, filter, **kwargs)\u001b[0m\n\u001b[1;32m    118\u001b[0m     \u001b[0mx_2d\u001b[0m \u001b[0;34m=\u001b[0m \u001b[0mx\u001b[0m\u001b[0;34m.\u001b[0m\u001b[0mswapaxes\u001b[0m\u001b[0;34m(\u001b[0m\u001b[0;36m0\u001b[0m\u001b[0;34m,\u001b[0m \u001b[0maxis\u001b[0m\u001b[0;34m)\u001b[0m\u001b[0;34m.\u001b[0m\u001b[0mreshape\u001b[0m\u001b[0;34m(\u001b[0m\u001b[0;34m(\u001b[0m\u001b[0mx\u001b[0m\u001b[0;34m.\u001b[0m\u001b[0mshape\u001b[0m\u001b[0;34m[\u001b[0m\u001b[0maxis\u001b[0m\u001b[0;34m]\u001b[0m\u001b[0;34m,\u001b[0m \u001b[0;34m-\u001b[0m\u001b[0;36m1\u001b[0m\u001b[0;34m)\u001b[0m\u001b[0;34m)\u001b[0m\u001b[0;34m\u001b[0m\u001b[0;34m\u001b[0m\u001b[0m\n\u001b[1;32m    119\u001b[0m     \u001b[0my_2d\u001b[0m \u001b[0;34m=\u001b[0m \u001b[0my\u001b[0m\u001b[0;34m.\u001b[0m\u001b[0mswapaxes\u001b[0m\u001b[0;34m(\u001b[0m\u001b[0;36m0\u001b[0m\u001b[0;34m,\u001b[0m \u001b[0maxis\u001b[0m\u001b[0;34m)\u001b[0m\u001b[0;34m.\u001b[0m\u001b[0mreshape\u001b[0m\u001b[0;34m(\u001b[0m\u001b[0;34m(\u001b[0m\u001b[0my\u001b[0m\u001b[0;34m.\u001b[0m\u001b[0mshape\u001b[0m\u001b[0;34m[\u001b[0m\u001b[0maxis\u001b[0m\u001b[0;34m]\u001b[0m\u001b[0;34m,\u001b[0m \u001b[0;34m-\u001b[0m\u001b[0;36m1\u001b[0m\u001b[0;34m)\u001b[0m\u001b[0;34m)\u001b[0m\u001b[0;34m\u001b[0m\u001b[0;34m\u001b[0m\u001b[0m\n\u001b[0;32m--> 120\u001b[0;31m     \u001b[0mresample_f\u001b[0m\u001b[0;34m(\u001b[0m\u001b[0mx_2d\u001b[0m\u001b[0;34m,\u001b[0m \u001b[0my_2d\u001b[0m\u001b[0;34m,\u001b[0m \u001b[0msample_ratio\u001b[0m\u001b[0;34m,\u001b[0m \u001b[0minterp_win\u001b[0m\u001b[0;34m,\u001b[0m \u001b[0minterp_delta\u001b[0m\u001b[0;34m,\u001b[0m \u001b[0mprecision\u001b[0m\u001b[0;34m)\u001b[0m\u001b[0;34m\u001b[0m\u001b[0;34m\u001b[0m\u001b[0m\n\u001b[0m\u001b[1;32m    121\u001b[0m \u001b[0;34m\u001b[0m\u001b[0m\n\u001b[1;32m    122\u001b[0m     \u001b[0;32mreturn\u001b[0m \u001b[0my\u001b[0m\u001b[0;34m\u001b[0m\u001b[0;34m\u001b[0m\u001b[0m\n",
      "\u001b[0;31mKeyboardInterrupt\u001b[0m: "
     ]
    }
   ],
   "source": [
    "# create a new copy of training data in pwd, with same filename, but replace audio data with de-mixed audio data\n",
    "mode = 'test'\n",
    "csv_name = 'overlay-'+mode+'.csv'\n",
    "csv = pd.read_csv(root_csv+csv_name)\n",
    "\n",
    "with torch.no_grad():\n",
    "    for i in tqdm(range(len(csv))): \n",
    "        row = csv.iloc[i]\n",
    "        seg1 = load8hz(root_file+root_csv+row['first_file'])\n",
    "        seg2 = load8hz(root_file+root_csv+row['second_file'])\n",
    "        seg3 = load8hz(root_file+root_csv+row['third_file'])\n",
    "        create_dir(row['first_file'])\n",
    "        create_dir(row['second_file'])\n",
    "#         shorter = min(len(seg1), len(seg2))\n",
    "#         if len(seg1)>shorter:\n",
    "#             seg1 = seg1[:shorter]\n",
    "#         if len(seg2)>shorter:\n",
    "#             seg2 = seg2[:shorter]\n",
    "        mixture = torch.Tensor(seg1+seg2+seg3).cuda(device)\n",
    "        mixture = mixture[None, ...]\n",
    "        out = tasnet(mixture)\n",
    "        new_seg1, new_seg2, new_seg3 = out[0].cpu().detach().numpy()\n",
    "        newfile1, newfile2, newfile3 = reformat(mode, i, row['first_file']), reformat(mode, i, row['second_file']), reformat(mode, i, row['third_file'])\n",
    "        csv.at[i, 'first_file'] = newfile1\n",
    "        csv.at[i, 'second_file'] = newfile2\n",
    "        csv.at[i, 'third_file'] = newfile3\n",
    "#         np.save(newfile1, new_seg1)\n",
    "#         np.save(newfile2, new_seg2)\n",
    "#         np.save(newfile3, new_seg3)\n",
    "    csv.to_csv(csv_name, index = False)"
   ]
  },
  {
   "cell_type": "code",
   "execution_count": 9,
   "metadata": {},
   "outputs": [
    {
     "data": {
      "text/html": [
       "\n",
       "                <audio  controls=\"controls\" >\n",
       "                    <source src=\"data:audio/wav;base64,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\" type=\"audio/wav\" />\n",
       "                    Your browser does not support the audio element.\n",
       "                </audio>\n",
       "              "
      ],
      "text/plain": [
       "<IPython.lib.display.Audio object>"
      ]
     },
     "execution_count": 9,
     "metadata": {},
     "output_type": "execute_result"
    }
   ],
   "source": [
    "Audio(seg1, rate = new_sr)"
   ]
  },
  {
   "cell_type": "code",
   "execution_count": 10,
   "metadata": {},
   "outputs": [
    {
     "data": {
      "text/html": [
       "\n",
       "                <audio  controls=\"controls\" >\n",
       "                    <source src=\"data:audio/wav;base64,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\" type=\"audio/wav\" />\n",
       "                    Your browser does not support the audio element.\n",
       "                </audio>\n",
       "              "
      ],
      "text/plain": [
       "<IPython.lib.display.Audio object>"
      ]
     },
     "execution_count": 10,
     "metadata": {},
     "output_type": "execute_result"
    }
   ],
   "source": [
    "Audio(seg2, rate = new_sr)"
   ]
  },
  {
   "cell_type": "code",
   "execution_count": 14,
   "metadata": {},
   "outputs": [
    {
     "data": {
      "text/html": [
       "\n",
       "                <audio  controls=\"controls\" >\n",
       "                    <source src=\"data:audio/wav;base64,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\" type=\"audio/wav\" />\n",
       "                    Your browser does not support the audio element.\n",
       "                </audio>\n",
       "              "
      ],
      "text/plain": [
       "<IPython.lib.display.Audio object>"
      ]
     },
     "execution_count": 14,
     "metadata": {},
     "output_type": "execute_result"
    }
   ],
   "source": [
    "Audio(seg3, rate = new_sr)"
   ]
  },
  {
   "cell_type": "code",
   "execution_count": 11,
   "metadata": {},
   "outputs": [
    {
     "data": {
      "text/html": [
       "\n",
       "                <audio  controls=\"controls\" >\n",
       "                    <source src=\"data:audio/wav;base64,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\" type=\"audio/wav\" />\n",
       "                    Your browser does not support the audio element.\n",
       "                </audio>\n",
       "              "
      ],
      "text/plain": [
       "<IPython.lib.display.Audio object>"
      ]
     },
     "execution_count": 11,
     "metadata": {},
     "output_type": "execute_result"
    }
   ],
   "source": [
    "Audio(new_seg1, rate = new_sr)"
   ]
  },
  {
   "cell_type": "code",
   "execution_count": 12,
   "metadata": {},
   "outputs": [
    {
     "data": {
      "text/html": [
       "\n",
       "                <audio  controls=\"controls\" >\n",
       "                    <source src=\"data:audio/wav;base64,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\" type=\"audio/wav\" />\n",
       "                    Your browser does not support the audio element.\n",
       "                </audio>\n",
       "              "
      ],
      "text/plain": [
       "<IPython.lib.display.Audio object>"
      ]
     },
     "execution_count": 12,
     "metadata": {},
     "output_type": "execute_result"
    }
   ],
   "source": [
    "Audio(new_seg2, rate = new_sr)"
   ]
  },
  {
   "cell_type": "code",
   "execution_count": 13,
   "metadata": {},
   "outputs": [
    {
     "data": {
      "text/html": [
       "\n",
       "                <audio  controls=\"controls\" >\n",
       "                    <source src=\"data:audio/wav;base64,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\" type=\"audio/wav\" />\n",
       "                    Your browser does not support the audio element.\n",
       "                </audio>\n",
       "              "
      ],
      "text/plain": [
       "<IPython.lib.display.Audio object>"
      ]
     },
     "execution_count": 13,
     "metadata": {},
     "output_type": "execute_result"
    }
   ],
   "source": [
    "Audio(new_seg3, rate = new_sr)"
   ]
  },
  {
   "cell_type": "code",
   "execution_count": 3,
   "metadata": {},
   "outputs": [],
   "source": [
    "def chop_chunk(signal):\n",
    "    signal_len = signal.shape[-1]\n",
    "    if signal_len < 16000:\n",
    "        padding = np.zeros(16000-len(signal))\n",
    "        signal = np.cat((signal, padding))\n",
    "    N_fr=signal_len//wlen\n",
    "    chunks = []\n",
    "    for i in range(N_fr):\n",
    "        chunks.append(signal[i*wlen:(i+1)*wlen])\n",
    "    return chunks\n",
    "\n",
    "class ChunkSet(torch.utils.data.Dataset):\n",
    "    def __init__(self, csv, mode='train'):\n",
    "        super().__init__()\n",
    "        self.csv = pd.read_csv(csv)\n",
    "        self.speakers = list(set(self.csv['first_speaker']))\n",
    "        self.speakers.sort()\n",
    "        self.spkr2idx = {spkr:i for i, spkr in enumerate(self.speakers)}\n",
    "        self.mode = mode\n",
    "    def __len__(self):\n",
    "        return len(self.csv)\n",
    "    def __getitem__(self, idx):\n",
    "        row = self.csv.iloc[idx]\n",
    "        spkr1, spkr2 = row['first_speaker'], row['second_speaker']\n",
    "        sig1, sig2 = np.load(row['first_file']), np.load(row['second_file'])\n",
    "        chunk1, chunk2 = chop_chunk(sig1), chop_chunk(sig2)\n",
    "        target_vec = np.zeros(len(self.speakers))\n",
    "        target_vec[self.spkr2idx[spkr1]] = 1\n",
    "        target_vec[self.spkr2idx[spkr2]] = 1\n",
    "        if self.mode == 'val':\n",
    "            return np.array(chunk1), np.array(chunk2), target_vec\n",
    "        if self.mode == 'train':\n",
    "            return chunk1[np.random.randint(len(chunk1))], chunk2[np.random.randint(len(chunk2))], target_vec\n",
    "\n",
    "chunkset_train = ChunkSet('overlay-train.csv', mode = 'train')\n",
    "chunkset_val = ChunkSet('overlay-val.csv', mode = 'val')\n",
    "chunkset_test = ChunkSet('overlay-test.csv', mode = 'val')"
   ]
  },
  {
   "cell_type": "code",
   "execution_count": 4,
   "metadata": {},
   "outputs": [],
   "source": [
    "def find_max2(tensor):\n",
    "    array = tensor.cpu().detach().numpy()\n",
    "    max2 = []\n",
    "    for row in array:\n",
    "        max2.append(np.argsort(row)[::-1][:2])\n",
    "    return np.array(max2)\n",
    "\n",
    "def compute_corrects(tensor1, tensor2):\n",
    "    max_1, max_2 = find_max2(tensor1), find_max2(tensor2)\n",
    "    batch_size = max_1.shape[0]\n",
    "    batch_corrects = 0\n",
    "    for i in range(batch_size):\n",
    "        if Counter(max_1[i])==Counter(max_2[i]):\n",
    "            batch_corrects+=1\n",
    "    return batch_corrects"
   ]
  },
  {
   "cell_type": "code",
   "execution_count": 5,
   "metadata": {},
   "outputs": [
    {
     "name": "stdout",
     "output_type": "stream",
     "text": [
      "load model\n"
     ]
    }
   ],
   "source": [
    "fs=new_sr\n",
    "cw_len=200\n",
    "cw_shift=10\n",
    "\n",
    "wlen=int(fs*cw_len/1000.00)\n",
    "#wshift=int(fs*cw_shift/1000.00)\n",
    "\n",
    "\n",
    "\n",
    "\n",
    "class MixedClassifier(nn.Module):\n",
    "    def __init__(self):\n",
    "        super().__init__()\n",
    "        cnn_arch = {\n",
    "                'input_dim':wlen,\n",
    "                'fs':fs,\n",
    "                'cnn_N_filt':[80,60,60],\n",
    "                'cnn_len_filt':[251,5,5],\n",
    "                'cnn_max_pool_len':[3,3,3],\n",
    "                'cnn_use_laynorm_inp':True,\n",
    "                'cnn_use_batchnorm_inp':False,\n",
    "                'cnn_use_laynorm':[True,True,True],\n",
    "                'cnn_use_batchnorm':[False,False,False],\n",
    "                'cnn_act':['leaky_relu','leaky_relu','leaky_relu'],\n",
    "                'cnn_drop':[0.0,0.0,0.0]\n",
    "                }\n",
    "        self.cnn_net = SincNet(cnn_arch)\n",
    "\n",
    "        dnn1_arch = {'input_dim': self.cnn_net.out_dim,\n",
    "                  'fc_lay': [2048,2048,2048],\n",
    "                  'fc_drop': [0.0,0.0,0.0], \n",
    "                  'fc_use_batchnorm': [True,True,True],\n",
    "                  'fc_use_laynorm': [False,False,False],\n",
    "                  'fc_use_laynorm_inp': False,\n",
    "                  'fc_use_batchnorm_inp': False,\n",
    "                  'fc_act': ['leaky_relu','leaky_relu','leaky_relu']\n",
    "                  }\n",
    "        self.dnn1 = MLP(dnn1_arch)\n",
    "\n",
    "\n",
    "        dnn2_arch = {'input_dim':2048 ,\n",
    "                  'fc_lay': [20],\n",
    "                  'fc_drop': [0.0], \n",
    "                  'fc_use_batchnorm': [False],\n",
    "                  'fc_use_laynorm': [False],\n",
    "                  'fc_use_laynorm_inp': False,\n",
    "                  'fc_use_batchnorm_inp': False,\n",
    "                  'fc_act': ['linear'] # leakyrelu(1) is just identity mapping\n",
    "                  }\n",
    "        self.dnn2 = MLP(dnn2_arch)\n",
    "        \n",
    "        self.softmax = nn.Softmax(dim = 1)\n",
    "    def forward(self, X):\n",
    "        out = self.cnn_net(X)\n",
    "        out = self.dnn1(out)\n",
    "        out = self.dnn2(out)\n",
    "        out = self.softmax(out)\n",
    "        return out\n",
    "\n",
    "cls = MixedClassifier().cuda(device)\n",
    "cls.train()\n",
    "optimizer = torch.optim.Adam(cls.parameters(), 0.001)\n",
    "\n",
    "\n",
    "if os.path.exists('models/sincnet.pth'):\n",
    "    print('load model')\n",
    "    checkpoint = torch.load('models/sincnet.pth')\n",
    "    cls.load_state_dict(checkpoint['model_state_dict'])\n",
    "    optimizer.load_state_dict(checkpoint['optimizer_state_dict'])\n",
    "    loss = checkpoint['loss']\n",
    "    if 'bestacc' in checkpoint:\n",
    "        bestacc = checkpoint['bestacc']\n",
    "    else:\n",
    "        bestacc = 0.0\n",
    "else:\n",
    "    print('initializing new model')\n",
    "    bestacc = 0.0"
   ]
  },
  {
   "cell_type": "code",
   "execution_count": 7,
   "metadata": {},
   "outputs": [
    {
     "data": {
      "application/vnd.jupyter.widget-view+json": {
       "model_id": "2230c349343145ad9aa66071df8b11b8",
       "version_major": 2,
       "version_minor": 0
      },
      "text/plain": [
       "HBox(children=(FloatProgress(value=0.0, max=1378.0), HTML(value='')))"
      ]
     },
     "metadata": {},
     "output_type": "display_data"
    },
    {
     "name": "stdout",
     "output_type": "stream",
     "text": [
      "[1,   200] loss: 0.034 accuracy: 0.880\n",
      "[1,   400] loss: 0.033 accuracy: 0.879\n",
      "[1,   600] loss: 0.032 accuracy: 0.882\n",
      "[1,   800] loss: 0.032 accuracy: 0.886\n",
      "[1,  1000] loss: 0.031 accuracy: 0.884\n",
      "[1,  1200] loss: 0.032 accuracy: 0.884\n",
      "\n"
     ]
    },
    {
     "data": {
      "application/vnd.jupyter.widget-view+json": {
       "model_id": "3b90033e31e04b9d804cdb52a6eb23d2",
       "version_major": 2,
       "version_minor": 0
      },
      "text/plain": [
       "HBox(children=(FloatProgress(value=0.0, max=1378.0), HTML(value='')))"
      ]
     },
     "metadata": {},
     "output_type": "display_data"
    },
    {
     "name": "stdout",
     "output_type": "stream",
     "text": [
      "[2,   200] loss: 0.031 accuracy: 0.887\n",
      "[2,   400] loss: 0.032 accuracy: 0.887\n",
      "[2,   600] loss: 0.032 accuracy: 0.885\n",
      "[2,   800] loss: 0.031 accuracy: 0.888\n",
      "[2,  1000] loss: 0.033 accuracy: 0.882\n",
      "[2,  1200] loss: 0.032 accuracy: 0.887\n",
      "\n"
     ]
    },
    {
     "data": {
      "application/vnd.jupyter.widget-view+json": {
       "model_id": "3ba8691d9c14499da34143ef065df08c",
       "version_major": 2,
       "version_minor": 0
      },
      "text/plain": [
       "HBox(children=(FloatProgress(value=0.0, max=1378.0), HTML(value='')))"
      ]
     },
     "metadata": {},
     "output_type": "display_data"
    },
    {
     "name": "stdout",
     "output_type": "stream",
     "text": [
      "[3,   200] loss: 0.030 accuracy: 0.890\n",
      "[3,   400] loss: 0.031 accuracy: 0.890\n",
      "[3,   600] loss: 0.031 accuracy: 0.887\n",
      "[3,   800] loss: 0.032 accuracy: 0.884\n",
      "[3,  1000] loss: 0.032 accuracy: 0.885\n",
      "[3,  1200] loss: 0.033 accuracy: 0.882\n",
      "\n"
     ]
    },
    {
     "data": {
      "application/vnd.jupyter.widget-view+json": {
       "model_id": "8e2a23254cf94f358076a7dbbdd65d71",
       "version_major": 2,
       "version_minor": 0
      },
      "text/plain": [
       "HBox(children=(FloatProgress(value=0.0, max=1378.0), HTML(value='')))"
      ]
     },
     "metadata": {},
     "output_type": "display_data"
    },
    {
     "name": "stdout",
     "output_type": "stream",
     "text": [
      "[4,   200] loss: 0.030 accuracy: 0.894\n",
      "[4,   400] loss: 0.031 accuracy: 0.890\n",
      "[4,   600] loss: 0.031 accuracy: 0.890\n",
      "[4,   800] loss: 0.031 accuracy: 0.889\n",
      "[4,  1000] loss: 0.031 accuracy: 0.884\n",
      "[4,  1200] loss: 0.032 accuracy: 0.882\n",
      "\n"
     ]
    },
    {
     "data": {
      "application/vnd.jupyter.widget-view+json": {
       "model_id": "40e48f7f209549349ab952be0493023d",
       "version_major": 2,
       "version_minor": 0
      },
      "text/plain": [
       "HBox(children=(FloatProgress(value=0.0, max=1378.0), HTML(value='')))"
      ]
     },
     "metadata": {},
     "output_type": "display_data"
    },
    {
     "name": "stdout",
     "output_type": "stream",
     "text": [
      "[5,   200] loss: 0.031 accuracy: 0.891\n",
      "[5,   400] loss: 0.030 accuracy: 0.892\n",
      "[5,   600] loss: 0.030 accuracy: 0.892\n",
      "[5,   800] loss: 0.030 accuracy: 0.895\n",
      "[5,  1000] loss: 0.031 accuracy: 0.889\n",
      "[5,  1200] loss: 0.032 accuracy: 0.885\n",
      "\n"
     ]
    },
    {
     "data": {
      "application/vnd.jupyter.widget-view+json": {
       "model_id": "0e2f64842f9d43b6940f25401700b12e",
       "version_major": 2,
       "version_minor": 0
      },
      "text/plain": [
       "HBox(children=(FloatProgress(value=0.0, max=1378.0), HTML(value='')))"
      ]
     },
     "metadata": {},
     "output_type": "display_data"
    },
    {
     "name": "stdout",
     "output_type": "stream",
     "text": [
      "[6,   200] loss: 0.030 accuracy: 0.892\n",
      "[6,   400] loss: 0.029 accuracy: 0.896\n",
      "[6,   600] loss: 0.030 accuracy: 0.895\n",
      "[6,   800] loss: 0.030 accuracy: 0.896\n",
      "[6,  1000] loss: 0.030 accuracy: 0.891\n",
      "[6,  1200] loss: 0.032 accuracy: 0.889\n",
      "\n"
     ]
    },
    {
     "data": {
      "application/vnd.jupyter.widget-view+json": {
       "model_id": "f150b3b8d4e04d199b997e07f3101ff4",
       "version_major": 2,
       "version_minor": 0
      },
      "text/plain": [
       "HBox(children=(FloatProgress(value=0.0, max=1378.0), HTML(value='')))"
      ]
     },
     "metadata": {},
     "output_type": "display_data"
    },
    {
     "name": "stdout",
     "output_type": "stream",
     "text": [
      "[7,   200] loss: 0.029 accuracy: 0.896\n",
      "[7,   400] loss: 0.029 accuracy: 0.898\n",
      "[7,   600] loss: 0.031 accuracy: 0.890\n",
      "[7,   800] loss: 0.030 accuracy: 0.893\n",
      "[7,  1000] loss: 0.029 accuracy: 0.894\n",
      "[7,  1200] loss: 0.031 accuracy: 0.891\n",
      "\n"
     ]
    },
    {
     "data": {
      "application/vnd.jupyter.widget-view+json": {
       "model_id": "3f74c785a2fb4e7da5a9c2b8b07d5665",
       "version_major": 2,
       "version_minor": 0
      },
      "text/plain": [
       "HBox(children=(FloatProgress(value=0.0, max=1378.0), HTML(value='')))"
      ]
     },
     "metadata": {},
     "output_type": "display_data"
    },
    {
     "name": "stdout",
     "output_type": "stream",
     "text": [
      "[8,   200] loss: 0.028 accuracy: 0.902\n",
      "[8,   400] loss: 0.030 accuracy: 0.892\n",
      "[8,   600] loss: 0.029 accuracy: 0.895\n",
      "[8,   800] loss: 0.029 accuracy: 0.897\n",
      "[8,  1000] loss: 0.030 accuracy: 0.893\n",
      "[8,  1200] loss: 0.030 accuracy: 0.896\n",
      "\n"
     ]
    },
    {
     "data": {
      "application/vnd.jupyter.widget-view+json": {
       "model_id": "328214128f7948a39d352f7adb6c8e31",
       "version_major": 2,
       "version_minor": 0
      },
      "text/plain": [
       "HBox(children=(FloatProgress(value=0.0, max=1378.0), HTML(value='')))"
      ]
     },
     "metadata": {},
     "output_type": "display_data"
    },
    {
     "name": "stdout",
     "output_type": "stream",
     "text": [
      "[9,   200] loss: 0.027 accuracy: 0.899\n",
      "[9,   400] loss: 0.028 accuracy: 0.902\n",
      "[9,   600] loss: 0.029 accuracy: 0.895\n",
      "[9,   800] loss: 0.029 accuracy: 0.895\n",
      "[9,  1000] loss: 0.029 accuracy: 0.898\n",
      "[9,  1200] loss: 0.028 accuracy: 0.898\n",
      "\n"
     ]
    },
    {
     "data": {
      "application/vnd.jupyter.widget-view+json": {
       "model_id": "8abd68a136444b519dd186069dc32e1a",
       "version_major": 2,
       "version_minor": 0
      },
      "text/plain": [
       "HBox(children=(FloatProgress(value=0.0, max=1378.0), HTML(value='')))"
      ]
     },
     "metadata": {},
     "output_type": "display_data"
    },
    {
     "name": "stdout",
     "output_type": "stream",
     "text": [
      "[10,   200] loss: 0.028 accuracy: 0.900\n",
      "[10,   400] loss: 0.028 accuracy: 0.900\n",
      "[10,   600] loss: 0.028 accuracy: 0.899\n",
      "[10,   800] loss: 0.028 accuracy: 0.898\n",
      "[10,  1000] loss: 0.029 accuracy: 0.895\n",
      "[10,  1200] loss: 0.028 accuracy: 0.896\n",
      "\n"
     ]
    },
    {
     "data": {
      "application/vnd.jupyter.widget-view+json": {
       "model_id": "23c1ee78be8149ecb8e0e2da4f22a8e5",
       "version_major": 2,
       "version_minor": 0
      },
      "text/plain": [
       "HBox(children=(FloatProgress(value=0.0, max=1378.0), HTML(value='')))"
      ]
     },
     "metadata": {},
     "output_type": "display_data"
    },
    {
     "name": "stdout",
     "output_type": "stream",
     "text": [
      "[11,   200] loss: 0.028 accuracy: 0.898\n",
      "[11,   400] loss: 0.027 accuracy: 0.905\n",
      "[11,   600] loss: 0.028 accuracy: 0.901\n",
      "[11,   800] loss: 0.029 accuracy: 0.899\n",
      "[11,  1000] loss: 0.027 accuracy: 0.904\n",
      "[11,  1200] loss: 0.027 accuracy: 0.900\n",
      "\n"
     ]
    },
    {
     "data": {
      "application/vnd.jupyter.widget-view+json": {
       "model_id": "4cd6514cfad748ab8c406a7fe9f03083",
       "version_major": 2,
       "version_minor": 0
      },
      "text/plain": [
       "HBox(children=(FloatProgress(value=0.0, max=1378.0), HTML(value='')))"
      ]
     },
     "metadata": {},
     "output_type": "display_data"
    },
    {
     "name": "stdout",
     "output_type": "stream",
     "text": [
      "[12,   200] loss: 0.026 accuracy: 0.906\n",
      "[12,   400] loss: 0.028 accuracy: 0.897\n",
      "[12,   600] loss: 0.027 accuracy: 0.903\n",
      "[12,   800] loss: 0.027 accuracy: 0.902\n",
      "[12,  1000] loss: 0.027 accuracy: 0.903\n",
      "[12,  1200] loss: 0.028 accuracy: 0.901\n",
      "\n"
     ]
    },
    {
     "data": {
      "application/vnd.jupyter.widget-view+json": {
       "model_id": "b1630aa5c35c46479b83cc1cf79cefc1",
       "version_major": 2,
       "version_minor": 0
      },
      "text/plain": [
       "HBox(children=(FloatProgress(value=0.0, max=1378.0), HTML(value='')))"
      ]
     },
     "metadata": {},
     "output_type": "display_data"
    },
    {
     "name": "stdout",
     "output_type": "stream",
     "text": [
      "[13,   200] loss: 0.026 accuracy: 0.905\n",
      "[13,   400] loss: 0.028 accuracy: 0.903\n",
      "[13,   600] loss: 0.026 accuracy: 0.906\n",
      "[13,   800] loss: 0.027 accuracy: 0.903\n",
      "[13,  1000] loss: 0.027 accuracy: 0.904\n",
      "[13,  1200] loss: 0.027 accuracy: 0.905\n",
      "\n"
     ]
    },
    {
     "data": {
      "application/vnd.jupyter.widget-view+json": {
       "model_id": "df1d9064d6e04e4c8ceb3b03fc800b11",
       "version_major": 2,
       "version_minor": 0
      },
      "text/plain": [
       "HBox(children=(FloatProgress(value=0.0, max=1378.0), HTML(value='')))"
      ]
     },
     "metadata": {},
     "output_type": "display_data"
    },
    {
     "name": "stdout",
     "output_type": "stream",
     "text": [
      "[14,   200] loss: 0.027 accuracy: 0.905\n",
      "[14,   400] loss: 0.026 accuracy: 0.911\n",
      "[14,   600] loss: 0.027 accuracy: 0.904\n",
      "[14,   800] loss: 0.028 accuracy: 0.902\n",
      "[14,  1000] loss: 0.026 accuracy: 0.908\n",
      "[14,  1200] loss: 0.027 accuracy: 0.905\n",
      "\n"
     ]
    },
    {
     "data": {
      "application/vnd.jupyter.widget-view+json": {
       "model_id": "6f43254be2a245bfa94e065b70da28c5",
       "version_major": 2,
       "version_minor": 0
      },
      "text/plain": [
       "HBox(children=(FloatProgress(value=0.0, max=1378.0), HTML(value='')))"
      ]
     },
     "metadata": {},
     "output_type": "display_data"
    },
    {
     "name": "stdout",
     "output_type": "stream",
     "text": [
      "[15,   200] loss: 0.026 accuracy: 0.910\n",
      "[15,   400] loss: 0.025 accuracy: 0.913\n",
      "[15,   600] loss: 0.025 accuracy: 0.911\n",
      "[15,   800] loss: 0.026 accuracy: 0.907\n",
      "[15,  1000] loss: 0.027 accuracy: 0.904\n",
      "[15,  1200] loss: 0.028 accuracy: 0.902\n",
      "\n"
     ]
    },
    {
     "data": {
      "application/vnd.jupyter.widget-view+json": {
       "model_id": "84d76a2f294d4f2bb738867461a77344",
       "version_major": 2,
       "version_minor": 0
      },
      "text/plain": [
       "HBox(children=(FloatProgress(value=0.0, max=1378.0), HTML(value='')))"
      ]
     },
     "metadata": {},
     "output_type": "display_data"
    },
    {
     "name": "stdout",
     "output_type": "stream",
     "text": [
      "[16,   200] loss: 0.026 accuracy: 0.908\n",
      "[16,   400] loss: 0.026 accuracy: 0.908\n",
      "[16,   600] loss: 0.026 accuracy: 0.907\n",
      "[16,   800] loss: 0.027 accuracy: 0.905\n",
      "[16,  1000] loss: 0.027 accuracy: 0.902\n",
      "[16,  1200] loss: 0.026 accuracy: 0.907\n",
      "\n"
     ]
    },
    {
     "data": {
      "application/vnd.jupyter.widget-view+json": {
       "model_id": "91054f1d2cb346b2b61ab853645fe7d9",
       "version_major": 2,
       "version_minor": 0
      },
      "text/plain": [
       "HBox(children=(FloatProgress(value=0.0, max=1378.0), HTML(value='')))"
      ]
     },
     "metadata": {},
     "output_type": "display_data"
    },
    {
     "name": "stdout",
     "output_type": "stream",
     "text": [
      "[17,   200] loss: 0.024 accuracy: 0.915\n",
      "[17,   400] loss: 0.025 accuracy: 0.911\n",
      "[17,   600] loss: 0.025 accuracy: 0.911\n",
      "[17,   800] loss: 0.026 accuracy: 0.909\n",
      "[17,  1000] loss: 0.026 accuracy: 0.908\n",
      "[17,  1200] loss: 0.025 accuracy: 0.909\n",
      "\n"
     ]
    },
    {
     "data": {
      "application/vnd.jupyter.widget-view+json": {
       "model_id": "6222d29d95414477938db6e23cc558ec",
       "version_major": 2,
       "version_minor": 0
      },
      "text/plain": [
       "HBox(children=(FloatProgress(value=0.0, max=1378.0), HTML(value='')))"
      ]
     },
     "metadata": {},
     "output_type": "display_data"
    },
    {
     "name": "stdout",
     "output_type": "stream",
     "text": [
      "[18,   200] loss: 0.026 accuracy: 0.911\n",
      "[18,   400] loss: 0.025 accuracy: 0.908\n",
      "[18,   600] loss: 0.025 accuracy: 0.911\n",
      "[18,   800] loss: 0.025 accuracy: 0.912\n",
      "[18,  1000] loss: 0.025 accuracy: 0.912\n",
      "[18,  1200] loss: 0.025 accuracy: 0.914\n",
      "\n"
     ]
    },
    {
     "data": {
      "application/vnd.jupyter.widget-view+json": {
       "model_id": "8a552a89597b4632bba6fce521b6539c",
       "version_major": 2,
       "version_minor": 0
      },
      "text/plain": [
       "HBox(children=(FloatProgress(value=0.0, max=1378.0), HTML(value='')))"
      ]
     },
     "metadata": {},
     "output_type": "display_data"
    },
    {
     "name": "stdout",
     "output_type": "stream",
     "text": [
      "[19,   200] loss: 0.024 accuracy: 0.913\n",
      "[19,   400] loss: 0.025 accuracy: 0.911\n",
      "[19,   600] loss: 0.026 accuracy: 0.905\n",
      "[19,   800] loss: 0.025 accuracy: 0.914\n",
      "[19,  1000] loss: 0.025 accuracy: 0.912\n",
      "[19,  1200] loss: 0.024 accuracy: 0.916\n",
      "\n"
     ]
    },
    {
     "data": {
      "application/vnd.jupyter.widget-view+json": {
       "model_id": "561bb213d23a4f0ebe77e345ee7c3fa0",
       "version_major": 2,
       "version_minor": 0
      },
      "text/plain": [
       "HBox(children=(FloatProgress(value=0.0, max=1378.0), HTML(value='')))"
      ]
     },
     "metadata": {},
     "output_type": "display_data"
    },
    {
     "name": "stdout",
     "output_type": "stream",
     "text": [
      "[20,   200] loss: 0.024 accuracy: 0.916\n",
      "[20,   400] loss: 0.025 accuracy: 0.911\n",
      "[20,   600] loss: 0.024 accuracy: 0.917\n",
      "[20,   800] loss: 0.025 accuracy: 0.914\n",
      "[20,  1000] loss: 0.023 accuracy: 0.915\n",
      "[20,  1200] loss: 0.024 accuracy: 0.912\n",
      "\n"
     ]
    },
    {
     "data": {
      "application/vnd.jupyter.widget-view+json": {
       "model_id": "aa0efaca43204f4fb1dac80530c708ee",
       "version_major": 2,
       "version_minor": 0
      },
      "text/plain": [
       "HBox(children=(FloatProgress(value=0.0, max=1378.0), HTML(value='')))"
      ]
     },
     "metadata": {},
     "output_type": "display_data"
    },
    {
     "name": "stdout",
     "output_type": "stream",
     "text": [
      "[21,   200] loss: 0.023 accuracy: 0.918\n",
      "[21,   400] loss: 0.022 accuracy: 0.922\n",
      "[21,   600] loss: 0.025 accuracy: 0.912\n",
      "[21,   800] loss: 0.024 accuracy: 0.917\n",
      "[21,  1000] loss: 0.025 accuracy: 0.910\n",
      "[21,  1200] loss: 0.026 accuracy: 0.908\n",
      "\n"
     ]
    },
    {
     "data": {
      "application/vnd.jupyter.widget-view+json": {
       "model_id": "5da4dc6e8c3f47a49e52dda355682e9d",
       "version_major": 2,
       "version_minor": 0
      },
      "text/plain": [
       "HBox(children=(FloatProgress(value=0.0, max=1378.0), HTML(value='')))"
      ]
     },
     "metadata": {},
     "output_type": "display_data"
    },
    {
     "name": "stdout",
     "output_type": "stream",
     "text": [
      "[22,   200] loss: 0.024 accuracy: 0.917\n",
      "[22,   400] loss: 0.023 accuracy: 0.922\n",
      "[22,   600] loss: 0.023 accuracy: 0.919\n",
      "[22,   800] loss: 0.023 accuracy: 0.921\n",
      "[22,  1000] loss: 0.025 accuracy: 0.916\n",
      "[22,  1200] loss: 0.024 accuracy: 0.912\n",
      "\n"
     ]
    },
    {
     "data": {
      "application/vnd.jupyter.widget-view+json": {
       "model_id": "183525c591de469f9deec743240423b1",
       "version_major": 2,
       "version_minor": 0
      },
      "text/plain": [
       "HBox(children=(FloatProgress(value=0.0, max=1378.0), HTML(value='')))"
      ]
     },
     "metadata": {},
     "output_type": "display_data"
    },
    {
     "name": "stdout",
     "output_type": "stream",
     "text": [
      "[23,   200] loss: 0.023 accuracy: 0.917\n",
      "[23,   400] loss: 0.022 accuracy: 0.922\n",
      "[23,   600] loss: 0.023 accuracy: 0.918\n",
      "[23,   800] loss: 0.024 accuracy: 0.914\n",
      "[23,  1000] loss: 0.024 accuracy: 0.915\n",
      "[23,  1200] loss: 0.024 accuracy: 0.915\n",
      "\n"
     ]
    },
    {
     "data": {
      "application/vnd.jupyter.widget-view+json": {
       "model_id": "89d1d55cbe1d43368766a39189497c86",
       "version_major": 2,
       "version_minor": 0
      },
      "text/plain": [
       "HBox(children=(FloatProgress(value=0.0, max=1378.0), HTML(value='')))"
      ]
     },
     "metadata": {},
     "output_type": "display_data"
    },
    {
     "name": "stdout",
     "output_type": "stream",
     "text": [
      "[24,   200] loss: 0.022 accuracy: 0.924\n",
      "[24,   400] loss: 0.022 accuracy: 0.922\n",
      "[24,   600] loss: 0.024 accuracy: 0.916\n",
      "[24,   800] loss: 0.023 accuracy: 0.918\n",
      "[24,  1000] loss: 0.022 accuracy: 0.922\n",
      "[24,  1200] loss: 0.024 accuracy: 0.917\n",
      "\n"
     ]
    },
    {
     "data": {
      "application/vnd.jupyter.widget-view+json": {
       "model_id": "8a669cce053e480e98563601339d7de6",
       "version_major": 2,
       "version_minor": 0
      },
      "text/plain": [
       "HBox(children=(FloatProgress(value=0.0, max=1378.0), HTML(value='')))"
      ]
     },
     "metadata": {},
     "output_type": "display_data"
    },
    {
     "name": "stdout",
     "output_type": "stream",
     "text": [
      "[25,   200] loss: 0.022 accuracy: 0.923\n",
      "[25,   400] loss: 0.022 accuracy: 0.922\n",
      "[25,   600] loss: 0.023 accuracy: 0.921\n",
      "[25,   800] loss: 0.023 accuracy: 0.919\n",
      "[25,  1000] loss: 0.024 accuracy: 0.918\n",
      "[25,  1200] loss: 0.023 accuracy: 0.916\n",
      "\n"
     ]
    },
    {
     "data": {
      "application/vnd.jupyter.widget-view+json": {
       "model_id": "8760c230b6f94e5b8ab89e440960b515",
       "version_major": 2,
       "version_minor": 0
      },
      "text/plain": [
       "HBox(children=(FloatProgress(value=0.0, max=1378.0), HTML(value='')))"
      ]
     },
     "metadata": {},
     "output_type": "display_data"
    },
    {
     "name": "stdout",
     "output_type": "stream",
     "text": [
      "[26,   200] loss: 0.022 accuracy: 0.921\n",
      "[26,   400] loss: 0.023 accuracy: 0.920\n",
      "[26,   600] loss: 0.022 accuracy: 0.923\n",
      "[26,   800] loss: 0.024 accuracy: 0.917\n",
      "[26,  1000] loss: 0.022 accuracy: 0.923\n",
      "[26,  1200] loss: 0.024 accuracy: 0.919\n",
      "\n"
     ]
    },
    {
     "data": {
      "application/vnd.jupyter.widget-view+json": {
       "model_id": "9385714073c04737bbdbb832229f7c69",
       "version_major": 2,
       "version_minor": 0
      },
      "text/plain": [
       "HBox(children=(FloatProgress(value=0.0, max=1378.0), HTML(value='')))"
      ]
     },
     "metadata": {},
     "output_type": "display_data"
    },
    {
     "name": "stdout",
     "output_type": "stream",
     "text": [
      "[27,   200] loss: 0.022 accuracy: 0.925\n",
      "[27,   400] loss: 0.023 accuracy: 0.920\n",
      "[27,   600] loss: 0.023 accuracy: 0.917\n",
      "[27,   800] loss: 0.023 accuracy: 0.919\n",
      "[27,  1000] loss: 0.022 accuracy: 0.923\n",
      "[27,  1200] loss: 0.022 accuracy: 0.921\n",
      "\n"
     ]
    },
    {
     "data": {
      "application/vnd.jupyter.widget-view+json": {
       "model_id": "1db2fe1c0c4b4c2c949605f861f2de9b",
       "version_major": 2,
       "version_minor": 0
      },
      "text/plain": [
       "HBox(children=(FloatProgress(value=0.0, max=1378.0), HTML(value='')))"
      ]
     },
     "metadata": {},
     "output_type": "display_data"
    },
    {
     "name": "stdout",
     "output_type": "stream",
     "text": [
      "[28,   200] loss: 0.022 accuracy: 0.923\n",
      "[28,   400] loss: 0.021 accuracy: 0.926\n",
      "[28,   600] loss: 0.023 accuracy: 0.918\n",
      "[28,   800] loss: 0.023 accuracy: 0.920\n",
      "[28,  1000] loss: 0.022 accuracy: 0.923\n",
      "[28,  1200] loss: 0.023 accuracy: 0.922\n",
      "\n"
     ]
    },
    {
     "data": {
      "application/vnd.jupyter.widget-view+json": {
       "model_id": "ff16eac5e148430bae0820ca09f084db",
       "version_major": 2,
       "version_minor": 0
      },
      "text/plain": [
       "HBox(children=(FloatProgress(value=0.0, max=1378.0), HTML(value='')))"
      ]
     },
     "metadata": {},
     "output_type": "display_data"
    },
    {
     "name": "stdout",
     "output_type": "stream",
     "text": [
      "[29,   200] loss: 0.022 accuracy: 0.927\n",
      "[29,   400] loss: 0.020 accuracy: 0.928\n",
      "[29,   600] loss: 0.022 accuracy: 0.921\n",
      "[29,   800] loss: 0.022 accuracy: 0.923\n",
      "[29,  1000] loss: 0.022 accuracy: 0.926\n",
      "[29,  1200] loss: 0.021 accuracy: 0.928\n",
      "\n"
     ]
    },
    {
     "data": {
      "application/vnd.jupyter.widget-view+json": {
       "model_id": "d9e83696025146f3b5afe70b3f5fbac5",
       "version_major": 2,
       "version_minor": 0
      },
      "text/plain": [
       "HBox(children=(FloatProgress(value=0.0, max=1378.0), HTML(value='')))"
      ]
     },
     "metadata": {},
     "output_type": "display_data"
    },
    {
     "name": "stdout",
     "output_type": "stream",
     "text": [
      "[30,   200] loss: 0.021 accuracy: 0.925\n",
      "[30,   400] loss: 0.021 accuracy: 0.925\n",
      "[30,   600] loss: 0.021 accuracy: 0.926\n",
      "[30,   800] loss: 0.022 accuracy: 0.921\n",
      "[30,  1000] loss: 0.022 accuracy: 0.921\n",
      "[30,  1200] loss: 0.022 accuracy: 0.922\n",
      "\n"
     ]
    },
    {
     "data": {
      "application/vnd.jupyter.widget-view+json": {
       "model_id": "621ef3e48f064fdb84481cb2c193960d",
       "version_major": 2,
       "version_minor": 0
      },
      "text/plain": [
       "HBox(children=(FloatProgress(value=0.0, max=1378.0), HTML(value='')))"
      ]
     },
     "metadata": {},
     "output_type": "display_data"
    },
    {
     "name": "stdout",
     "output_type": "stream",
     "text": [
      "[31,   200] loss: 0.021 accuracy: 0.928\n",
      "[31,   400] loss: 0.021 accuracy: 0.928\n",
      "[31,   600] loss: 0.022 accuracy: 0.922\n",
      "[31,   800] loss: 0.022 accuracy: 0.923\n",
      "[31,  1000] loss: 0.022 accuracy: 0.922\n",
      "[31,  1200] loss: 0.022 accuracy: 0.925\n",
      "\n"
     ]
    },
    {
     "data": {
      "application/vnd.jupyter.widget-view+json": {
       "model_id": "390afe92d8b54e7d9742eb0d5fbfbbff",
       "version_major": 2,
       "version_minor": 0
      },
      "text/plain": [
       "HBox(children=(FloatProgress(value=0.0, max=1378.0), HTML(value='')))"
      ]
     },
     "metadata": {},
     "output_type": "display_data"
    },
    {
     "name": "stdout",
     "output_type": "stream",
     "text": [
      "[32,   200] loss: 0.021 accuracy: 0.929\n",
      "[32,   400] loss: 0.021 accuracy: 0.926\n",
      "[32,   600] loss: 0.021 accuracy: 0.927\n",
      "[32,   800] loss: 0.022 accuracy: 0.923\n",
      "[32,  1000] loss: 0.022 accuracy: 0.924\n",
      "[32,  1200] loss: 0.021 accuracy: 0.925\n",
      "\n"
     ]
    },
    {
     "data": {
      "application/vnd.jupyter.widget-view+json": {
       "model_id": "8c5f392980a04c9abfb60e4caabb2528",
       "version_major": 2,
       "version_minor": 0
      },
      "text/plain": [
       "HBox(children=(FloatProgress(value=0.0, max=1378.0), HTML(value='')))"
      ]
     },
     "metadata": {},
     "output_type": "display_data"
    },
    {
     "name": "stdout",
     "output_type": "stream",
     "text": [
      "[33,   200] loss: 0.020 accuracy: 0.931\n",
      "[33,   400] loss: 0.020 accuracy: 0.930\n",
      "[33,   600] loss: 0.021 accuracy: 0.928\n",
      "[33,   800] loss: 0.021 accuracy: 0.925\n",
      "[33,  1000] loss: 0.022 accuracy: 0.924\n",
      "[33,  1200] loss: 0.021 accuracy: 0.926\n",
      "\n"
     ]
    },
    {
     "data": {
      "application/vnd.jupyter.widget-view+json": {
       "model_id": "bdf38effd9d442a5ade6d3909078c3de",
       "version_major": 2,
       "version_minor": 0
      },
      "text/plain": [
       "HBox(children=(FloatProgress(value=0.0, max=1378.0), HTML(value='')))"
      ]
     },
     "metadata": {},
     "output_type": "display_data"
    },
    {
     "name": "stdout",
     "output_type": "stream",
     "text": [
      "[34,   200] loss: 0.020 accuracy: 0.930\n"
     ]
    },
    {
     "ename": "KeyboardInterrupt",
     "evalue": "",
     "output_type": "error",
     "traceback": [
      "\u001b[0;31m---------------------------------------------------------------------------\u001b[0m",
      "\u001b[0;31mKeyboardInterrupt\u001b[0m                         Traceback (most recent call last)",
      "\u001b[0;32m<ipython-input-7-f84c9c0e4157>\u001b[0m in \u001b[0;36m<module>\u001b[0;34m\u001b[0m\n\u001b[1;32m     16\u001b[0m         \u001b[0mout\u001b[0m\u001b[0;34m,\u001b[0m \u001b[0m_\u001b[0m \u001b[0;34m=\u001b[0m \u001b[0mtorch\u001b[0m\u001b[0;34m.\u001b[0m\u001b[0mmax\u001b[0m\u001b[0;34m(\u001b[0m\u001b[0mout\u001b[0m\u001b[0;34m,\u001b[0m \u001b[0mdim\u001b[0m \u001b[0;34m=\u001b[0m \u001b[0;36m0\u001b[0m\u001b[0;34m)\u001b[0m\u001b[0;34m\u001b[0m\u001b[0;34m\u001b[0m\u001b[0m\n\u001b[1;32m     17\u001b[0m         \u001b[0mloss\u001b[0m \u001b[0;34m=\u001b[0m \u001b[0mcriterion\u001b[0m\u001b[0;34m(\u001b[0m\u001b[0mout\u001b[0m\u001b[0;34m,\u001b[0m \u001b[0mtarget\u001b[0m\u001b[0;34m)\u001b[0m\u001b[0;34m\u001b[0m\u001b[0;34m\u001b[0m\u001b[0m\n\u001b[0;32m---> 18\u001b[0;31m         \u001b[0mloss\u001b[0m\u001b[0;34m.\u001b[0m\u001b[0mbackward\u001b[0m\u001b[0;34m(\u001b[0m\u001b[0;34m)\u001b[0m\u001b[0;34m\u001b[0m\u001b[0;34m\u001b[0m\u001b[0m\n\u001b[0m\u001b[1;32m     19\u001b[0m         \u001b[0mtorch\u001b[0m\u001b[0;34m.\u001b[0m\u001b[0mnn\u001b[0m\u001b[0;34m.\u001b[0m\u001b[0mutils\u001b[0m\u001b[0;34m.\u001b[0m\u001b[0mclip_grad_norm_\u001b[0m\u001b[0;34m(\u001b[0m\u001b[0mcls\u001b[0m\u001b[0;34m.\u001b[0m\u001b[0mparameters\u001b[0m\u001b[0;34m(\u001b[0m\u001b[0;34m)\u001b[0m\u001b[0;34m,\u001b[0m \u001b[0;36m0.5\u001b[0m\u001b[0;34m)\u001b[0m\u001b[0;34m\u001b[0m\u001b[0;34m\u001b[0m\u001b[0m\n\u001b[1;32m     20\u001b[0m         \u001b[0moptimizer\u001b[0m\u001b[0;34m.\u001b[0m\u001b[0mstep\u001b[0m\u001b[0;34m(\u001b[0m\u001b[0;34m)\u001b[0m\u001b[0;34m\u001b[0m\u001b[0;34m\u001b[0m\u001b[0m\n",
      "\u001b[0;32m~/anaconda3/lib/python3.7/site-packages/torch/tensor.py\u001b[0m in \u001b[0;36mbackward\u001b[0;34m(self, gradient, retain_graph, create_graph)\u001b[0m\n\u001b[1;32m    193\u001b[0m                 \u001b[0mproducts\u001b[0m\u001b[0;34m.\u001b[0m \u001b[0mDefaults\u001b[0m \u001b[0mto\u001b[0m\u001b[0;31m \u001b[0m\u001b[0;31m`\u001b[0m\u001b[0;31m`\u001b[0m\u001b[0;32mFalse\u001b[0m\u001b[0;31m`\u001b[0m\u001b[0;31m`\u001b[0m\u001b[0;34m.\u001b[0m\u001b[0;34m\u001b[0m\u001b[0;34m\u001b[0m\u001b[0m\n\u001b[1;32m    194\u001b[0m         \"\"\"\n\u001b[0;32m--> 195\u001b[0;31m         \u001b[0mtorch\u001b[0m\u001b[0;34m.\u001b[0m\u001b[0mautograd\u001b[0m\u001b[0;34m.\u001b[0m\u001b[0mbackward\u001b[0m\u001b[0;34m(\u001b[0m\u001b[0mself\u001b[0m\u001b[0;34m,\u001b[0m \u001b[0mgradient\u001b[0m\u001b[0;34m,\u001b[0m \u001b[0mretain_graph\u001b[0m\u001b[0;34m,\u001b[0m \u001b[0mcreate_graph\u001b[0m\u001b[0;34m)\u001b[0m\u001b[0;34m\u001b[0m\u001b[0;34m\u001b[0m\u001b[0m\n\u001b[0m\u001b[1;32m    196\u001b[0m \u001b[0;34m\u001b[0m\u001b[0m\n\u001b[1;32m    197\u001b[0m     \u001b[0;32mdef\u001b[0m \u001b[0mregister_hook\u001b[0m\u001b[0;34m(\u001b[0m\u001b[0mself\u001b[0m\u001b[0;34m,\u001b[0m \u001b[0mhook\u001b[0m\u001b[0;34m)\u001b[0m\u001b[0;34m:\u001b[0m\u001b[0;34m\u001b[0m\u001b[0;34m\u001b[0m\u001b[0m\n",
      "\u001b[0;32m~/anaconda3/lib/python3.7/site-packages/torch/autograd/__init__.py\u001b[0m in \u001b[0;36mbackward\u001b[0;34m(tensors, grad_tensors, retain_graph, create_graph, grad_variables)\u001b[0m\n\u001b[1;32m     97\u001b[0m     Variable._execution_engine.run_backward(\n\u001b[1;32m     98\u001b[0m         \u001b[0mtensors\u001b[0m\u001b[0;34m,\u001b[0m \u001b[0mgrad_tensors\u001b[0m\u001b[0;34m,\u001b[0m \u001b[0mretain_graph\u001b[0m\u001b[0;34m,\u001b[0m \u001b[0mcreate_graph\u001b[0m\u001b[0;34m,\u001b[0m\u001b[0;34m\u001b[0m\u001b[0;34m\u001b[0m\u001b[0m\n\u001b[0;32m---> 99\u001b[0;31m         allow_unreachable=True)  # allow_unreachable flag\n\u001b[0m\u001b[1;32m    100\u001b[0m \u001b[0;34m\u001b[0m\u001b[0m\n\u001b[1;32m    101\u001b[0m \u001b[0;34m\u001b[0m\u001b[0m\n",
      "\u001b[0;31mKeyboardInterrupt\u001b[0m: "
     ]
    }
   ],
   "source": [
    "batch_size = 64\n",
    "chunkloader_train = torch.utils.data.DataLoader(chunkset_train, batch_size=batch_size, shuffle=True, pin_memory = True, num_workers = 16)\n",
    "criterion = torch.nn.BCELoss()\n",
    "\n",
    "\n",
    "\n",
    "for epoch in range(64):\n",
    "    running_loss = 0.0\n",
    "    running_accuracy = 0.0\n",
    "    for batch_idx, (X1, X2, target) in enumerate(tqdm(chunkloader_train)):\n",
    "        optimizer.zero_grad()\n",
    "        X1, X2, target = X1.float().cuda(device), X2.float().cuda(device), target.float().cuda(device)\n",
    "\n",
    "        out1, out2 = cls(X1), cls(X2)\n",
    "        out = torch.stack([out1, out2], dim = 0)\n",
    "        out, _ = torch.max(out, dim = 0)\n",
    "        loss = criterion(out, target)\n",
    "        loss.backward()\n",
    "        torch.nn.utils.clip_grad_norm_(cls.parameters(), 0.5)\n",
    "        optimizer.step()\n",
    "\n",
    "        running_loss += loss.item()\n",
    "        running_accuracy += compute_corrects(out, target)/batch_size\n",
    "        if batch_idx % 200 == 199:    # print every 2000 mini-batches\n",
    "            print('[%d, %5d] loss: %.3f accuracy: %.3f' % \n",
    "                  (epoch + 1, batch_idx + 1, running_loss / 200, running_accuracy / 200))\n",
    "            running_loss = 0.0\n",
    "            running_accuracy = 0.0\n",
    "            torch.save({\n",
    "            'model_state_dict': cls.state_dict(),\n",
    "            'optimizer_state_dict': optimizer.state_dict(),\n",
    "            'loss': loss\n",
    "            }, 'models/sincnet.pth')\n"
   ]
  },
  {
   "cell_type": "code",
   "execution_count": null,
   "metadata": {},
   "outputs": [],
   "source": [
    "chunkloader_val = torch.utils.data.DataLoader(chunkset_train, batch_size=batch_size, shuffle=True, pin_memory = True, num_workers = 16)\n"
   ]
  },
  {
   "cell_type": "code",
   "execution_count": null,
   "metadata": {},
   "outputs": [],
   "source": []
  },
  {
   "cell_type": "code",
   "execution_count": 52,
   "metadata": {},
   "outputs": [],
   "source": [
    "def create_batches_rnd(batch_size,data_folder,wav_lst,N_snt,wlen,lab_dict,fact_amp):\n",
    "    \n",
    " # Initialization of the minibatch (batch_size,[0=>x_t,1=>x_t+N,1=>random_samp])\n",
    " sig_batch=np.zeros([batch_size,wlen])\n",
    " lab_batch=np.zeros(batch_size)\n",
    "  \n",
    " snt_id_arr=np.random.randint(N_snt, size=batch_size)\n",
    " \n",
    " rand_amp_arr = np.random.uniform(1.0-fact_amp,1+fact_amp,batch_size)\n",
    "\n",
    " for i in range(batch_size):\n",
    "     \n",
    "  # select a random sentence from the list  (joint distribution)\n",
    "  [fs,signal]=scipy.io.wavfile.read(data_folder+wav_lst[snt_id_arr[i]])\n",
    "  signal=signal.astype(float)/32768\n",
    "\n",
    "  # accesing to a random chunk\n",
    "  snt_len=signal.shape[0]\n",
    "  snt_beg=np.random.randint(snt_len-wlen-1) #randint(0, snt_len-2*wlen-1)\n",
    "  snt_end=snt_beg+wlen\n",
    "  \n",
    "  sig_batch[i,:]=signal[snt_beg:snt_end]*rand_amp_arr[i]\n",
    "  lab_batch[i]=lab_dict[wav_lst[snt_id_arr[i]]]\n",
    "  \n",
    " inp=torch.from_numpy(sig_batch).float().cuda().contiguous()  # Current Frame\n",
    " lab=torch.from_numpy(lab_batch).float().cuda().contiguous()\n",
    "  \n",
    " return inp,lab  "
   ]
  },
  {
   "cell_type": "code",
   "execution_count": null,
   "metadata": {},
   "outputs": [],
   "source": [
    "# Full Validation  new  \n",
    "  if epoch%N_eval_epoch==0:\n",
    "      \n",
    "   CNN_net.eval()\n",
    "   DNN1_net.eval()\n",
    "   DNN2_net.eval()\n",
    "   test_flag=1 \n",
    "   loss_sum=0\n",
    "   err_sum=0\n",
    "   err_sum_snt=0\n",
    "   \n",
    "   with torch.no_grad():  \n",
    "    for i in range(snt_te):\n",
    "       \n",
    "     #[fs,signal]=scipy.io.wavfile.read(data_folder+wav_lst_te[i])\n",
    "     #signal=signal.astype(float)/32768\n",
    "\n",
    "     [signal, fs] = sf.read(data_folder+wav_lst_te[i])\n",
    "\n",
    "     signal=torch.from_numpy(signal).float().cuda().contiguous()\n",
    "     lab_batch=lab_dict[wav_lst_te[i]]\n",
    "    \n",
    "     # split signals into chunks\n",
    "     beg_samp=0\n",
    "     end_samp=wlen\n",
    "     \n",
    "     N_fr=int((signal.shape[0]-wlen)/(wshift))\n",
    "     \n",
    "\n",
    "     sig_arr=torch.zeros([Batch_dev,wlen]).float().cuda().contiguous()\n",
    "     lab= Variable((torch.zeros(N_fr+1)+lab_batch).cuda().contiguous().long())\n",
    "     pout=Variable(torch.zeros(N_fr+1,class_lay[-1]).float().cuda().contiguous())\n",
    "     count_fr=0\n",
    "     count_fr_tot=0\n",
    "     while end_samp<signal.shape[0]:\n",
    "         sig_arr[count_fr,:]=signal[beg_samp:end_samp]\n",
    "         beg_samp=beg_samp+wshift\n",
    "         end_samp=beg_samp+wlen\n",
    "         count_fr=count_fr+1\n",
    "         count_fr_tot=count_fr_tot+1\n",
    "         if count_fr==Batch_dev:\n",
    "             inp=Variable(sig_arr)\n",
    "             pout[count_fr_tot-Batch_dev:count_fr_tot,:]=DNN2_net(DNN1_net(CNN_net(inp)))\n",
    "             count_fr=0\n",
    "             sig_arr=torch.zeros([Batch_dev,wlen]).float().cuda().contiguous()\n",
    "   \n",
    "     if count_fr>0:\n",
    "      inp=Variable(sig_arr[0:count_fr])\n",
    "      pout[count_fr_tot-count_fr:count_fr_tot,:]=DNN2_net(DNN1_net(CNN_net(inp)))\n",
    "\n",
    "    \n",
    "     pred=torch.max(pout,dim=1)[1]\n",
    "     loss = cost(pout, lab.long())\n",
    "     err = torch.mean((pred!=lab.long()).float())\n",
    "    \n",
    "     [val,best_class]=torch.max(torch.sum(pout,dim=0),0)\n",
    "     err_sum_snt=err_sum_snt+(best_class!=lab[0]).float()\n",
    "    \n",
    "    \n",
    "     loss_sum=loss_sum+loss.detach()\n",
    "     err_sum=err_sum+err.detach()\n",
    "    \n",
    "    err_tot_dev_snt=err_sum_snt/snt_te\n",
    "    loss_tot_dev=loss_sum/snt_te\n",
    "    err_tot_dev=err_sum/snt_te\n",
    "\n",
    "  \n",
    "   print(\"epoch %i, loss_tr=%f err_tr=%f loss_te=%f err_te=%f err_te_snt=%f\" % (epoch, loss_tot,err_tot,loss_tot_dev,err_tot_dev,err_tot_dev_snt))\n",
    "  \n",
    "   with open(output_folder+\"/res.res\", \"a\") as res_file:\n",
    "    res_file.write(\"epoch %i, loss_tr=%f err_tr=%f loss_te=%f err_te=%f err_te_snt=%f\\n\" % (epoch, loss_tot,err_tot,loss_tot_dev,err_tot_dev,err_tot_dev_snt))   \n",
    "\n",
    "   checkpoint={'CNN_model_par': CNN_net.state_dict(),\n",
    "               'DNN1_model_par': DNN1_net.state_dict(),\n",
    "               'DNN2_model_par': DNN2_net.state_dict(),\n",
    "               }\n",
    "   torch.save(checkpoint,output_folder+'/model_raw.pkl')\n",
    "  \n",
    "  else:\n",
    "   print(\"epoch %i, loss_tr=%f err_tr=%f\" % (epoch, loss_tot,err_tot))"
   ]
  }
 ],
 "metadata": {
  "kernelspec": {
   "display_name": "Python 3",
   "language": "python",
   "name": "python3"
  },
  "language_info": {
   "codemirror_mode": {
    "name": "ipython",
    "version": 3
   },
   "file_extension": ".py",
   "mimetype": "text/x-python",
   "name": "python",
   "nbconvert_exporter": "python",
   "pygments_lexer": "ipython3",
   "version": "3.7.6"
  }
 },
 "nbformat": 4,
 "nbformat_minor": 4
}
