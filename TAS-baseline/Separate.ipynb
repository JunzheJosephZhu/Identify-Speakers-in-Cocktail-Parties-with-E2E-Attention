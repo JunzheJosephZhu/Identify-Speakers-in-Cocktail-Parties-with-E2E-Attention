{
 "cells": [
  {
   "cell_type": "code",
   "execution_count": 1,
   "metadata": {},
   "outputs": [],
   "source": [
    "import sys\n",
    "from librosa.core import resample\n",
    "import pandas as pd\n",
    "import numpy as np\n",
    "from IPython.display import Audio\n",
    "import torch\n",
    "import pathlib\n",
    "def create_dir(filename):\n",
    "    pathlib.Path('/'.join(filename.split('/')[:-1])).mkdir(parents=True, exist_ok=True)\n",
    "from tqdm.notebook import tqdm\n",
    "sys.path.append('Conv-TasNet/src/')\n",
    "sys.path.append('SincNet/')\n",
    "from conv_tasnet import *\n",
    "from pit_criterion import cal_loss\n",
    "from dnn_models import *\n",
    "from data_io import ReadList,read_conf_inp,str_to_bool\n",
    "from collections import Counter\n",
    "import os\n",
    "device = 1\n",
    "root = '../'\n",
    "old_sr = 16000\n",
    "new_sr = 8000"
   ]
  },
  {
   "cell_type": "code",
   "execution_count": 2,
   "metadata": {},
   "outputs": [],
   "source": [
    "def load8hz(filename):\n",
    "    samples = np.load(filename)/(2**15)\n",
    "    samples = resample(samples, old_sr, new_sr)\n",
    "    # pad the samples\n",
    "    if len(samples)>16000:\n",
    "        samples = samples[:16000]\n",
    "    if len(samples)<16000:\n",
    "        padding = np.zeros(16000-len(samples))\n",
    "        samples = np.concatenate([samples, padding])\n",
    "    \n",
    "    return samples\n",
    "\n",
    "class SourceSet(torch.utils.data.Dataset):\n",
    "    def __init__(self, root, csv):\n",
    "        super().__init__()\n",
    "        self.root = root\n",
    "        self.csv = pd.read_csv(root+csv)\n",
    "    def __len__(self):\n",
    "        return len(self.csv)\n",
    "    def __getitem__(self, idx):\n",
    "        row = self.csv.iloc[idx]\n",
    "        sig1, sig2 = load8hz(root+row['first_file']), load8hz(root+row['second_file'])\n",
    "        return sig1, sig2\n",
    "sourceset_train = SourceSet(root, 'overlay-train.csv')\n"
   ]
  },
  {
   "cell_type": "code",
   "execution_count": 3,
   "metadata": {},
   "outputs": [
    {
     "name": "stdout",
     "output_type": "stream",
     "text": [
      "load model\n"
     ]
    }
   ],
   "source": [
    "tasnet = ConvTasNet.load_model('final.pth.tar').cuda(device)\n",
    "tasnet.train()\n",
    "optimizer = torch.optim.Adam(tasnet.parameters(), lr = 0.001)\n",
    "if os.path.exists('models/tasnet.pth'):\n",
    "    print('load model')\n",
    "    checkpoint = torch.load('models/tasnet.pth')\n",
    "    tasnet.load_state_dict(checkpoint['model_state_dict'])\n",
    "    optimizer.load_state_dict(checkpoint['optimizer_state_dict'])\n",
    "    loss = checkpoint['loss']\n"
   ]
  },
  {
   "cell_type": "code",
   "execution_count": 8,
   "metadata": {},
   "outputs": [
    {
     "data": {
      "application/vnd.jupyter.widget-view+json": {
       "model_id": "a1a51299e20f466fa5075df39bab5746",
       "version_major": 2,
       "version_minor": 0
      },
      "text/plain": [
       "HBox(children=(FloatProgress(value=0.0, max=11020.0), HTML(value='')))"
      ]
     },
     "metadata": {},
     "output_type": "display_data"
    },
    {
     "name": "stdout",
     "output_type": "stream",
     "text": [
      "[1,   200] loss: -5.306 \n",
      "[1,   400] loss: -7.088 \n",
      "[1,   600] loss: -7.693 \n",
      "[1,   800] loss: -8.213 \n",
      "[1,  1000] loss: -8.359 \n",
      "[1,  1200] loss: -9.046 \n",
      "[1,  1400] loss: -9.422 \n",
      "[1,  1600] loss: -9.418 \n",
      "[1,  1800] loss: -9.483 \n",
      "[1,  2000] loss: -9.617 \n",
      "[1,  2400] loss: -9.916 \n",
      "[1,  2600] loss: -10.315 \n",
      "[1,  2800] loss: -10.095 \n",
      "[1,  3000] loss: -10.409 \n",
      "[1,  3400] loss: -10.462 \n",
      "[1,  3600] loss: -10.715 \n",
      "[1,  3800] loss: -10.751 \n",
      "[1,  4000] loss: -10.686 \n",
      "[1,  4200] loss: -10.880 \n",
      "[1,  4400] loss: -10.897 \n",
      "[1,  4600] loss: -10.904 \n",
      "[1,  4800] loss: -10.872 \n",
      "[1,  5000] loss: -11.027 \n",
      "[1,  5200] loss: -11.191 \n",
      "[1,  5400] loss: -10.955 \n",
      "[1,  5600] loss: -11.128 \n",
      "[1,  5800] loss: -11.260 \n",
      "[1,  6000] loss: -11.420 \n",
      "[1,  6200] loss: -11.372 \n",
      "[1,  6400] loss: -11.294 \n",
      "[1,  6600] loss: -11.246 \n",
      "[1,  6800] loss: -11.170 \n",
      "[1,  7000] loss: -11.439 \n",
      "[1,  7200] loss: -11.343 \n",
      "[1,  7400] loss: -11.506 \n",
      "[1,  7600] loss: -11.371 \n",
      "[1,  7800] loss: -11.489 \n",
      "[1,  8000] loss: -11.501 \n",
      "[1,  8200] loss: -11.555 \n",
      "[1,  8400] loss: -11.570 \n",
      "[1,  8600] loss: -11.578 \n",
      "[1,  8800] loss: -11.711 \n",
      "[1,  9000] loss: -11.609 \n",
      "[1,  9200] loss: -11.763 \n",
      "[1,  9400] loss: -11.697 \n",
      "[1,  9600] loss: -11.719 \n",
      "[1,  9800] loss: -11.748 \n",
      "[1, 10000] loss: -11.673 \n",
      "[1, 10200] loss: -11.691 \n",
      "[1, 10400] loss: -11.804 \n",
      "[1, 10600] loss: -11.695 \n",
      "[1, 10800] loss: -11.877 \n",
      "[1, 11000] loss: -11.747 \n",
      "\n"
     ]
    },
    {
     "data": {
      "application/vnd.jupyter.widget-view+json": {
       "model_id": "97a8a58d6e7c4c39aafcd97198396185",
       "version_major": 2,
       "version_minor": 0
      },
      "text/plain": [
       "HBox(children=(FloatProgress(value=0.0, max=11020.0), HTML(value='')))"
      ]
     },
     "metadata": {},
     "output_type": "display_data"
    },
    {
     "name": "stdout",
     "output_type": "stream",
     "text": [
      "[2,   200] loss: -11.751 \n",
      "[2,   400] loss: -12.042 \n",
      "[2,   600] loss: -11.917 \n",
      "[2,   800] loss: -11.934 \n",
      "[2,  1000] loss: -11.870 \n",
      "[2,  1200] loss: -12.128 \n",
      "[2,  1400] loss: -12.013 \n",
      "[2,  1600] loss: -11.981 \n",
      "[2,  1800] loss: -11.894 \n",
      "[2,  2000] loss: -12.098 \n",
      "[2,  2200] loss: -12.081 \n",
      "[2,  2400] loss: -12.062 \n",
      "[2,  2600] loss: -11.933 \n"
     ]
    },
    {
     "ename": "KeyboardInterrupt",
     "evalue": "",
     "output_type": "error",
     "traceback": [
      "\u001b[0;31m---------------------------------------------------------------------------\u001b[0m",
      "\u001b[0;31mKeyboardInterrupt\u001b[0m                         Traceback (most recent call last)",
      "\u001b[0;32m<ipython-input-8-424ddf6f652a>\u001b[0m in \u001b[0;36m<module>\u001b[0;34m\u001b[0m\n\u001b[1;32m      7\u001b[0m         \u001b[0moptimizer\u001b[0m\u001b[0;34m.\u001b[0m\u001b[0mzero_grad\u001b[0m\u001b[0;34m(\u001b[0m\u001b[0;34m)\u001b[0m\u001b[0;34m\u001b[0m\u001b[0;34m\u001b[0m\u001b[0m\n\u001b[1;32m      8\u001b[0m         \u001b[0msig1\u001b[0m\u001b[0;34m,\u001b[0m \u001b[0msig2\u001b[0m \u001b[0;34m=\u001b[0m \u001b[0msig1\u001b[0m\u001b[0;34m.\u001b[0m\u001b[0mfloat\u001b[0m\u001b[0;34m(\u001b[0m\u001b[0;34m)\u001b[0m\u001b[0;34m.\u001b[0m\u001b[0mcuda\u001b[0m\u001b[0;34m(\u001b[0m\u001b[0mdevice\u001b[0m\u001b[0;34m)\u001b[0m\u001b[0;34m,\u001b[0m \u001b[0msig2\u001b[0m\u001b[0;34m.\u001b[0m\u001b[0mfloat\u001b[0m\u001b[0;34m(\u001b[0m\u001b[0;34m)\u001b[0m\u001b[0;34m.\u001b[0m\u001b[0mcuda\u001b[0m\u001b[0;34m(\u001b[0m\u001b[0mdevice\u001b[0m\u001b[0;34m)\u001b[0m\u001b[0;34m\u001b[0m\u001b[0;34m\u001b[0m\u001b[0m\n\u001b[0;32m----> 9\u001b[0;31m         \u001b[0mout\u001b[0m \u001b[0;34m=\u001b[0m \u001b[0mtasnet\u001b[0m\u001b[0;34m(\u001b[0m\u001b[0msig1\u001b[0m\u001b[0;34m+\u001b[0m\u001b[0msig2\u001b[0m\u001b[0;34m)\u001b[0m\u001b[0;34m\u001b[0m\u001b[0;34m\u001b[0m\u001b[0m\n\u001b[0m\u001b[1;32m     10\u001b[0m         \u001b[0msource\u001b[0m \u001b[0;34m=\u001b[0m \u001b[0mtorch\u001b[0m\u001b[0;34m.\u001b[0m\u001b[0mstack\u001b[0m\u001b[0;34m(\u001b[0m\u001b[0;34m[\u001b[0m\u001b[0msig1\u001b[0m\u001b[0;34m,\u001b[0m \u001b[0msig2\u001b[0m\u001b[0;34m]\u001b[0m\u001b[0;34m,\u001b[0m \u001b[0mdim\u001b[0m \u001b[0;34m=\u001b[0m \u001b[0;36m1\u001b[0m\u001b[0;34m)\u001b[0m\u001b[0;34m.\u001b[0m\u001b[0mdetach\u001b[0m\u001b[0;34m(\u001b[0m\u001b[0;34m)\u001b[0m\u001b[0;34m\u001b[0m\u001b[0;34m\u001b[0m\u001b[0m\n\u001b[1;32m     11\u001b[0m         \u001b[0mloss\u001b[0m\u001b[0;34m,\u001b[0m \u001b[0mmax_snr\u001b[0m\u001b[0;34m,\u001b[0m \u001b[0mestimate_source\u001b[0m\u001b[0;34m,\u001b[0m \u001b[0mreorder_estimate_source\u001b[0m \u001b[0;34m=\u001b[0m\u001b[0;31m \u001b[0m\u001b[0;31m\\\u001b[0m\u001b[0;34m\u001b[0m\u001b[0;34m\u001b[0m\u001b[0m\n",
      "\u001b[0;32m~/anaconda3/lib/python3.7/site-packages/torch/nn/modules/module.py\u001b[0m in \u001b[0;36m__call__\u001b[0;34m(self, *input, **kwargs)\u001b[0m\n\u001b[1;32m    530\u001b[0m             \u001b[0mresult\u001b[0m \u001b[0;34m=\u001b[0m \u001b[0mself\u001b[0m\u001b[0;34m.\u001b[0m\u001b[0m_slow_forward\u001b[0m\u001b[0;34m(\u001b[0m\u001b[0;34m*\u001b[0m\u001b[0minput\u001b[0m\u001b[0;34m,\u001b[0m \u001b[0;34m**\u001b[0m\u001b[0mkwargs\u001b[0m\u001b[0;34m)\u001b[0m\u001b[0;34m\u001b[0m\u001b[0;34m\u001b[0m\u001b[0m\n\u001b[1;32m    531\u001b[0m         \u001b[0;32melse\u001b[0m\u001b[0;34m:\u001b[0m\u001b[0;34m\u001b[0m\u001b[0;34m\u001b[0m\u001b[0m\n\u001b[0;32m--> 532\u001b[0;31m             \u001b[0mresult\u001b[0m \u001b[0;34m=\u001b[0m \u001b[0mself\u001b[0m\u001b[0;34m.\u001b[0m\u001b[0mforward\u001b[0m\u001b[0;34m(\u001b[0m\u001b[0;34m*\u001b[0m\u001b[0minput\u001b[0m\u001b[0;34m,\u001b[0m \u001b[0;34m**\u001b[0m\u001b[0mkwargs\u001b[0m\u001b[0;34m)\u001b[0m\u001b[0;34m\u001b[0m\u001b[0;34m\u001b[0m\u001b[0m\n\u001b[0m\u001b[1;32m    533\u001b[0m         \u001b[0;32mfor\u001b[0m \u001b[0mhook\u001b[0m \u001b[0;32min\u001b[0m \u001b[0mself\u001b[0m\u001b[0;34m.\u001b[0m\u001b[0m_forward_hooks\u001b[0m\u001b[0;34m.\u001b[0m\u001b[0mvalues\u001b[0m\u001b[0;34m(\u001b[0m\u001b[0;34m)\u001b[0m\u001b[0;34m:\u001b[0m\u001b[0;34m\u001b[0m\u001b[0;34m\u001b[0m\u001b[0m\n\u001b[1;32m    534\u001b[0m             \u001b[0mhook_result\u001b[0m \u001b[0;34m=\u001b[0m \u001b[0mhook\u001b[0m\u001b[0;34m(\u001b[0m\u001b[0mself\u001b[0m\u001b[0;34m,\u001b[0m \u001b[0minput\u001b[0m\u001b[0;34m,\u001b[0m \u001b[0mresult\u001b[0m\u001b[0;34m)\u001b[0m\u001b[0;34m\u001b[0m\u001b[0;34m\u001b[0m\u001b[0m\n",
      "\u001b[0;32m~/SpectralAttention/TAS-baseline/Conv-TasNet/src/conv_tasnet.py\u001b[0m in \u001b[0;36mforward\u001b[0;34m(self, mixture)\u001b[0m\n\u001b[1;32m     52\u001b[0m         \u001b[0mmixture_w\u001b[0m \u001b[0;34m=\u001b[0m \u001b[0mself\u001b[0m\u001b[0;34m.\u001b[0m\u001b[0mencoder\u001b[0m\u001b[0;34m(\u001b[0m\u001b[0mmixture\u001b[0m\u001b[0;34m)\u001b[0m\u001b[0;34m\u001b[0m\u001b[0;34m\u001b[0m\u001b[0m\n\u001b[1;32m     53\u001b[0m         \u001b[0mest_mask\u001b[0m \u001b[0;34m=\u001b[0m \u001b[0mself\u001b[0m\u001b[0;34m.\u001b[0m\u001b[0mseparator\u001b[0m\u001b[0;34m(\u001b[0m\u001b[0mmixture_w\u001b[0m\u001b[0;34m)\u001b[0m\u001b[0;34m\u001b[0m\u001b[0;34m\u001b[0m\u001b[0m\n\u001b[0;32m---> 54\u001b[0;31m         \u001b[0mest_source\u001b[0m \u001b[0;34m=\u001b[0m \u001b[0mself\u001b[0m\u001b[0;34m.\u001b[0m\u001b[0mdecoder\u001b[0m\u001b[0;34m(\u001b[0m\u001b[0mmixture_w\u001b[0m\u001b[0;34m,\u001b[0m \u001b[0mest_mask\u001b[0m\u001b[0;34m)\u001b[0m\u001b[0;34m\u001b[0m\u001b[0;34m\u001b[0m\u001b[0m\n\u001b[0m\u001b[1;32m     55\u001b[0m \u001b[0;34m\u001b[0m\u001b[0m\n\u001b[1;32m     56\u001b[0m         \u001b[0;31m# T changed after conv1d in encoder, fix it here\u001b[0m\u001b[0;34m\u001b[0m\u001b[0;34m\u001b[0m\u001b[0;34m\u001b[0m\u001b[0m\n",
      "\u001b[0;32m~/anaconda3/lib/python3.7/site-packages/torch/nn/modules/module.py\u001b[0m in \u001b[0;36m__call__\u001b[0;34m(self, *input, **kwargs)\u001b[0m\n\u001b[1;32m    530\u001b[0m             \u001b[0mresult\u001b[0m \u001b[0;34m=\u001b[0m \u001b[0mself\u001b[0m\u001b[0;34m.\u001b[0m\u001b[0m_slow_forward\u001b[0m\u001b[0;34m(\u001b[0m\u001b[0;34m*\u001b[0m\u001b[0minput\u001b[0m\u001b[0;34m,\u001b[0m \u001b[0;34m**\u001b[0m\u001b[0mkwargs\u001b[0m\u001b[0;34m)\u001b[0m\u001b[0;34m\u001b[0m\u001b[0;34m\u001b[0m\u001b[0m\n\u001b[1;32m    531\u001b[0m         \u001b[0;32melse\u001b[0m\u001b[0;34m:\u001b[0m\u001b[0;34m\u001b[0m\u001b[0;34m\u001b[0m\u001b[0m\n\u001b[0;32m--> 532\u001b[0;31m             \u001b[0mresult\u001b[0m \u001b[0;34m=\u001b[0m \u001b[0mself\u001b[0m\u001b[0;34m.\u001b[0m\u001b[0mforward\u001b[0m\u001b[0;34m(\u001b[0m\u001b[0;34m*\u001b[0m\u001b[0minput\u001b[0m\u001b[0;34m,\u001b[0m \u001b[0;34m**\u001b[0m\u001b[0mkwargs\u001b[0m\u001b[0;34m)\u001b[0m\u001b[0;34m\u001b[0m\u001b[0;34m\u001b[0m\u001b[0m\n\u001b[0m\u001b[1;32m    533\u001b[0m         \u001b[0;32mfor\u001b[0m \u001b[0mhook\u001b[0m \u001b[0;32min\u001b[0m \u001b[0mself\u001b[0m\u001b[0;34m.\u001b[0m\u001b[0m_forward_hooks\u001b[0m\u001b[0;34m.\u001b[0m\u001b[0mvalues\u001b[0m\u001b[0;34m(\u001b[0m\u001b[0;34m)\u001b[0m\u001b[0;34m:\u001b[0m\u001b[0;34m\u001b[0m\u001b[0;34m\u001b[0m\u001b[0m\n\u001b[1;32m    534\u001b[0m             \u001b[0mhook_result\u001b[0m \u001b[0;34m=\u001b[0m \u001b[0mhook\u001b[0m\u001b[0;34m(\u001b[0m\u001b[0mself\u001b[0m\u001b[0;34m,\u001b[0m \u001b[0minput\u001b[0m\u001b[0;34m,\u001b[0m \u001b[0mresult\u001b[0m\u001b[0;34m)\u001b[0m\u001b[0;34m\u001b[0m\u001b[0;34m\u001b[0m\u001b[0m\n",
      "\u001b[0;32m~/SpectralAttention/TAS-baseline/Conv-TasNet/src/conv_tasnet.py\u001b[0m in \u001b[0;36mforward\u001b[0;34m(self, mixture_w, est_mask)\u001b[0m\n\u001b[1;32m    139\u001b[0m         \u001b[0;31m# S = DV\u001b[0m\u001b[0;34m\u001b[0m\u001b[0;34m\u001b[0m\u001b[0;34m\u001b[0m\u001b[0m\n\u001b[1;32m    140\u001b[0m         \u001b[0mest_source\u001b[0m \u001b[0;34m=\u001b[0m \u001b[0mself\u001b[0m\u001b[0;34m.\u001b[0m\u001b[0mbasis_signals\u001b[0m\u001b[0;34m(\u001b[0m\u001b[0msource_w\u001b[0m\u001b[0;34m)\u001b[0m  \u001b[0;31m# [M, C, K, L]\u001b[0m\u001b[0;34m\u001b[0m\u001b[0;34m\u001b[0m\u001b[0m\n\u001b[0;32m--> 141\u001b[0;31m         \u001b[0mest_source\u001b[0m \u001b[0;34m=\u001b[0m \u001b[0moverlap_and_add\u001b[0m\u001b[0;34m(\u001b[0m\u001b[0mest_source\u001b[0m\u001b[0;34m,\u001b[0m \u001b[0mself\u001b[0m\u001b[0;34m.\u001b[0m\u001b[0mL\u001b[0m\u001b[0;34m//\u001b[0m\u001b[0;36m2\u001b[0m\u001b[0;34m)\u001b[0m \u001b[0;31m# M x C x T\u001b[0m\u001b[0;34m\u001b[0m\u001b[0;34m\u001b[0m\u001b[0m\n\u001b[0m\u001b[1;32m    142\u001b[0m         \u001b[0;32mreturn\u001b[0m \u001b[0mest_source\u001b[0m\u001b[0;34m\u001b[0m\u001b[0;34m\u001b[0m\u001b[0m\n\u001b[1;32m    143\u001b[0m \u001b[0;34m\u001b[0m\u001b[0m\n",
      "\u001b[0;32m~/SpectralAttention/TAS-baseline/Conv-TasNet/src/utils.py\u001b[0m in \u001b[0;36moverlap_and_add\u001b[0;34m(signal, frame_step)\u001b[0m\n\u001b[1;32m     38\u001b[0m \u001b[0;34m\u001b[0m\u001b[0m\n\u001b[1;32m     39\u001b[0m     \u001b[0mframe\u001b[0m \u001b[0;34m=\u001b[0m \u001b[0mtorch\u001b[0m\u001b[0;34m.\u001b[0m\u001b[0marange\u001b[0m\u001b[0;34m(\u001b[0m\u001b[0;36m0\u001b[0m\u001b[0;34m,\u001b[0m \u001b[0moutput_subframes\u001b[0m\u001b[0;34m)\u001b[0m\u001b[0;34m.\u001b[0m\u001b[0munfold\u001b[0m\u001b[0;34m(\u001b[0m\u001b[0;36m0\u001b[0m\u001b[0;34m,\u001b[0m \u001b[0msubframes_per_frame\u001b[0m\u001b[0;34m,\u001b[0m \u001b[0msubframe_step\u001b[0m\u001b[0;34m)\u001b[0m\u001b[0;34m\u001b[0m\u001b[0;34m\u001b[0m\u001b[0m\n\u001b[0;32m---> 40\u001b[0;31m     \u001b[0mframe\u001b[0m \u001b[0;34m=\u001b[0m \u001b[0msignal\u001b[0m\u001b[0;34m.\u001b[0m\u001b[0mnew_tensor\u001b[0m\u001b[0;34m(\u001b[0m\u001b[0mframe\u001b[0m\u001b[0;34m)\u001b[0m\u001b[0;34m.\u001b[0m\u001b[0mlong\u001b[0m\u001b[0;34m(\u001b[0m\u001b[0;34m)\u001b[0m  \u001b[0;31m# signal may in GPU or CPU\u001b[0m\u001b[0;34m\u001b[0m\u001b[0;34m\u001b[0m\u001b[0m\n\u001b[0m\u001b[1;32m     41\u001b[0m     \u001b[0mframe\u001b[0m \u001b[0;34m=\u001b[0m \u001b[0mframe\u001b[0m\u001b[0;34m.\u001b[0m\u001b[0mcontiguous\u001b[0m\u001b[0;34m(\u001b[0m\u001b[0;34m)\u001b[0m\u001b[0;34m.\u001b[0m\u001b[0mview\u001b[0m\u001b[0;34m(\u001b[0m\u001b[0;34m-\u001b[0m\u001b[0;36m1\u001b[0m\u001b[0;34m)\u001b[0m\u001b[0;34m\u001b[0m\u001b[0;34m\u001b[0m\u001b[0m\n\u001b[1;32m     42\u001b[0m \u001b[0;34m\u001b[0m\u001b[0m\n",
      "\u001b[0;31mKeyboardInterrupt\u001b[0m: "
     ]
    }
   ],
   "source": [
    "batch_size = 8\n",
    "sourceloader_train  = torch.utils.data.DataLoader(sourceset_train, batch_size=batch_size, shuffle=True, pin_memory = True, num_workers = 16)\n",
    "\n",
    "for epoch in range(64):\n",
    "    running_loss = 0.0\n",
    "    for batch_idx, (sig1, sig2) in enumerate(tqdm(sourceloader_train)):\n",
    "        optimizer.zero_grad()\n",
    "        sig1, sig2 = sig1.float().cuda(device), sig2.float().cuda(device)\n",
    "        out = tasnet(sig1+sig2)\n",
    "        source = torch.stack([sig1, sig2], dim = 1).detach()\n",
    "        loss, max_snr, estimate_source, reorder_estimate_source = \\\n",
    "            cal_loss(source, out, torch.ones(batch_size, dtype = torch.int32).cuda(device)*16000)\n",
    "        loss.backward()\n",
    "        torch.nn.utils.clip_grad_norm_(tasnet.parameters(), 0.5)\n",
    "        optimizer.step()\n",
    "\n",
    "        running_loss += loss.item()\n",
    "        if batch_idx % 200 == 199:    # print every 2000 mini-batches\n",
    "            print('[%d, %5d] loss: %.3f ' % \n",
    "                  (epoch + 1, batch_idx + 1, running_loss / 200))\n",
    "            running_loss = 0.0\n",
    "            torch.save({\n",
    "            'model_state_dict': tasnet.state_dict(),\n",
    "            'optimizer_state_dict': optimizer.state_dict(),\n",
    "            'loss': loss\n",
    "            }, 'models/tasnet.pth')"
   ]
  },
  {
   "cell_type": "code",
   "execution_count": 17,
   "metadata": {},
   "outputs": [],
   "source": [
    "def reformat(prefix, i, filename):\n",
    "    filename = filename.split('.')[-2]\n",
    "    return filename + '_' + prefix + '_' + str(i) + '.npy'"
   ]
  },
  {
   "cell_type": "code",
   "execution_count": 25,
   "metadata": {},
   "outputs": [
    {
     "data": {
      "application/vnd.jupyter.widget-view+json": {
       "model_id": "71ced505d7e540019ed5867d3858d35b",
       "version_major": 2,
       "version_minor": 0
      },
      "text/plain": [
       "HBox(children=(FloatProgress(value=0.0, max=11020.0), HTML(value='')))"
      ]
     },
     "metadata": {},
     "output_type": "display_data"
    },
    {
     "name": "stdout",
     "output_type": "stream",
     "text": [
      "\n"
     ]
    }
   ],
   "source": [
    "# create a new copy of training data in pwd, with same filename, but replace audio data with de-mixed audio data\n",
    "mode = 'test'\n",
    "csv_name = 'overlay-'+mode+'.csv'\n",
    "csv = pd.read_csv(root+csv_name)\n",
    "\n",
    "with torch.no_grad():\n",
    "    for i in tqdm(range(len(csv))): \n",
    "        row = csv.iloc[i]\n",
    "        seg1 = load8hz(root+row['first_file'])\n",
    "        seg2 = load8hz(root+row['second_file'])\n",
    "        create_dir(row['first_file'])\n",
    "        create_dir(row['second_file'])\n",
    "#         shorter = min(len(seg1), len(seg2))\n",
    "#         if len(seg1)>shorter:\n",
    "#             seg1 = seg1[:shorter]\n",
    "#         if len(seg2)>shorter:\n",
    "#             seg2 = seg2[:shorter]\n",
    "        mixture = torch.Tensor(seg1+seg2).cuda(device)\n",
    "        mixture = mixture[None, ...]\n",
    "        out = tasnet(mixture)\n",
    "        new_seg1, new_seg2 = out[0].cpu().detach().numpy()\n",
    "        newfile1, newfile2 = reformat(mode, i, row['first_file']), reformat(mode, i, row['second_file'])\n",
    "        csv.at[i, 'first_file'] = newfile1\n",
    "        csv.at[i, 'second_file'] = newfile2\n",
    "        np.save(newfile1, new_seg1)\n",
    "        np.save(newfile2, new_seg2)\n",
    "    csv.to_csv(csv_name, index = False)"
   ]
  },
  {
   "cell_type": "code",
   "execution_count": 26,
   "metadata": {},
   "outputs": [
    {
     "data": {
      "text/html": [
       "\n",
       "                <audio  controls=\"controls\" >\n",
       "                    <source src=\"data:audio/wav;base64,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\" type=\"audio/wav\" />\n",
       "                    Your browser does not support the audio element.\n",
       "                </audio>\n",
       "              "
      ],
      "text/plain": [
       "<IPython.lib.display.Audio object>"
      ]
     },
     "execution_count": 26,
     "metadata": {},
     "output_type": "execute_result"
    }
   ],
   "source": [
    "Audio(seg1, rate = new_sr)"
   ]
  },
  {
   "cell_type": "code",
   "execution_count": 27,
   "metadata": {},
   "outputs": [
    {
     "data": {
      "text/html": [
       "\n",
       "                <audio  controls=\"controls\" >\n",
       "                    <source src=\"data:audio/wav;base64,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\" type=\"audio/wav\" />\n",
       "                    Your browser does not support the audio element.\n",
       "                </audio>\n",
       "              "
      ],
      "text/plain": [
       "<IPython.lib.display.Audio object>"
      ]
     },
     "execution_count": 27,
     "metadata": {},
     "output_type": "execute_result"
    }
   ],
   "source": [
    "Audio(seg2, rate = new_sr)"
   ]
  },
  {
   "cell_type": "code",
   "execution_count": 28,
   "metadata": {},
   "outputs": [
    {
     "data": {
      "text/html": [
       "\n",
       "                <audio  controls=\"controls\" >\n",
       "                    <source src=\"data:audio/wav;base64,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\" type=\"audio/wav\" />\n",
       "                    Your browser does not support the audio element.\n",
       "                </audio>\n",
       "              "
      ],
      "text/plain": [
       "<IPython.lib.display.Audio object>"
      ]
     },
     "execution_count": 28,
     "metadata": {},
     "output_type": "execute_result"
    }
   ],
   "source": [
    "Audio(new_seg1, rate = new_sr)"
   ]
  },
  {
   "cell_type": "code",
   "execution_count": 29,
   "metadata": {},
   "outputs": [
    {
     "data": {
      "text/html": [
       "\n",
       "                <audio  controls=\"controls\" >\n",
       "                    <source src=\"data:audio/wav;base64,UklGRiR9AABXQVZFZm10IBAAAAABAAEAQB8AAIA+AAACABAAZGF0YQB9AADi//z/AwDq/wEAk/+j/5f/fP9P/7n/i//w/8D/Ev9V/73+f/8F/5H/wAAAADMAhP9K/iz+5P51/xcB2QDNAFkBQ/82/1L+BP0m/c38//tW+sL5zflu+Tn5dPqX+i/73vuD+Rz6j/or+uz5IvrK+sz6FPtU/ML9Tfx7/qz/g/8ZAr0BlQEp//z9P/5g/qf/BgBeAHAAaAKtApkDBAObAqEDXwLZAQEBpQGwATIAMP9LADMDygE/AU8CIf+e/9wAuwCuAdABRgDN/dj8Kv00/Y38Nf4i/+wBwQHoANoBOwClARcAcQDAARcCUAE9AS4A9/+GAlcCWQNtA5MDVwJhAuYCogE+ATICdAPsAlQBFwJoAbUAUwIR/zoAfwDH/7oAfv5p/1UApf9UAH8B8AEFBKwCWgE/ApQD+wKtAj8CUgDTADH/KwCyAPf/VAGzAQoD1wLDAc0BIABfBHsEowNwBEUCDATEAhYEOgXdA4cEIwPrAukCXwGjAVUAWgBSAGX/XwAN/539qP6ZAIT/Fv8P/yP+Bf66/F79Ovzn/CP+gP0K/0b++f6y/wUBxgHNAI4AVf+s/hf+F/8Z/0b90P7i/in+Ef6J/tD/AACNAZYBgwGmAIIAM/8h/wYB1QDLAIP/GABIAJD/Y/4e/hj+of/w/m3+FAAlAJ//ov7v/Z79tv/F/pL9v/16/Ib8Jf3+/JT9NvwT/YX8Hvx//qv9DP5n/ZX8Y/66/Xz+SgAN/qX+0f5o/mL+GP4t/0IAWQAG/5P+Af5I/Sj9nPzl+q78mv6l/Yr+1v5w/87+AP+kAHL/swCOADUAtP81/7r+0/3z/p/+qAD6ANz/lv/3/Rj+cv5J/Nn7ef3I/GX89fxh/XT+kf6I/tkBngOQAkICpgK3AkQD/gHr/xgAHwDEAFgB5gGwAdAC+AMiA08DJwJmAE4AAgBg//r+ev7X/oT+Q/4T/4b/SQBeAHEA5wCYADoBXQFsAWkAlP9g/rn+8P9NABABNAAxAPYABAH/AMkBFQHcAZYB+wCsAGEANQBPAG8AwABsAYkBhQFEATkBsgHMABYBuwHxATABZgLVAtEB0QHeAuwB9gFVAvYBDQKgAWwBQQHNAM8ASgClAFAAdgCaAEYAdgBDAKj/9/+T/4L/1P+//7QAzQB1AbsBgAFHAsEBogHkAZ4AcgBAAH7/1/83/wwAfv/7/xcBLQB4AKEA+AA4AVj/WwCh/8z/qgASACIBNgFzAbACZgNsAzQElATbA84CfwNHAjMBIgB4AEIBuf9rANYAZgAEABQBFgEuAIMAFAF5/4v9BP4U/v/9RP5c/mX+BP+F/hP/rP8ZAMD/xf/g/wn+i/53/db7RP28/Mr8Pf2j/Zv+Rv+L/878kv4e/ov8/f0J/Tn9Dv7u/nz/ev86Ac4AFwL+AfkAhwTlAcICEwNUAKIBjQK6AtUBugMpAxUC8wGNAwcEcAE8AxADHwFoAF4CaALmAZ4CjgCh/8H+zf5m/tn+zv+7AUoDdwNMBAgDcgKVAGMAYf0b/Af9FfoB/Gf7C/sy/Sr9YP72/pz/fQD7/6UAcwE7AUwBAwHyAUkCoAASAR0ArgARARUAJgBp/mv/SP/N/SwBbP4a/zkAA/5N/+X97v1o/a38Dv0t/QL+cf5Y/hH/Rv5Z/lz/wP45/sn/Y//2/4YAjQANAXQAhQEJAroBiQKiAJYC6QBuAQkCpP+XAu3/twDtACgAgwDwABIA/ABDAKUAzQHkAFMDKwGZAyQCywJTA8EBVwPVAG0AsQBP/wf/Vf8v/hr/t/75/rD/D//E/wD/jP5w/3n9pP+q/dL+av8D/SsAQv3L/YP+f/t1/wn8Mf9z/5/9VwGY/dn//gDp/okDYQFK/7sE3vqNA1D/R/4MBKf7nAJF/U3/cAHF/6cC3gAyAlQCBwJ6AgkDBQJ7BKECXgIeAzb/6QIk/ikBOv+A/7AAMv4yAbH+9v+t/5z++v6p/jX+LAG2AAgCGwLUAasCeQF+AdkACv8v/Af6XvoH+rf6svx9/Sr/BwBM/34BtwDfAu8BjgM2A4wFRwTBBbsErQZRCSsIHgsBBrkIiAHpAvj9ZPzS+Zj6gfya/VEAhgBhBIIDdgb/B/gFWAWsB+sCoQMGAmEArvx++Yj2g+7K8bLwGPSJ9cz5Qfy1/VUBugVRB44FNAkDB9wEEgebBZEEyQV1BbECwQMzBKAEuwUJBpcFcAWiAz8CrwBS/gj8qfvs+GP3e/o8+H712/tB9571rv95+sr5df03/wX7hAYVC8cA4AC+/+kAW/vH+rL+nv8k/OICyAnCCAAMyxTTEdQSJRjvFqkQtwcTADD0w+8a6+rk7t7g4rzmPOX86t/2J/fb9ZP+ggN3Az0CjwZjA5D+3APtBEABX/1FBF7/TQGOCDsIDAsoEC0UmxaTFvsRSBDhCrQB///n/Wv1E+/U7v3pueqH8nT2kfjJ+3f+if1t/q/9zvyI+kb5Q/di9p72hfjO+fr9iQCSANUCbQH8/X7/7QD7AWUDzg10Er8aJyElHOcYjBCqBNj1Eej527TSftC20c7XCd9J6PTxLPojBUAGogorC7oM2Q72ED0RIhByE3IKUQyRDVQPqQ1sDukQbA4cDWYP6A9wC8UKMAkFBEIC+QB0/jH+2f6//FL/cQDAAAMEJAU3A/wEVAR4Acr6+Pr5+dr35vtn/i/9Vf0VAZcABQTaCMQBIf8lACwC0gU8CvwKoAmTCt8LEwz6CzYLOQZcAHL8i/IX6r7i59t61uLXHdkp2zDhU+a66Lnto+969Ln7ywQfCPYJJw/4DmMMKg6tDJkHpgaMC4wJ/gfcDngR6QzXDGcV4xHaDlkO6wg+Az8BN/7T+776zvgX97P2x/ea+Mv57/oj+pb4T/ku+fr2j/ek+e72KfWW+Dn4+/Za/Br/ZvU487v05/JK92UBqwO0BbwOwBDTDIEKLgYK/iX2rPP07tvnXedw7F/njecz6y/nreau6WjqzuqH7S3uivNS+QwBUAetCqAPBhL6EawR3g2BDpMM6A1KDy4MMwujDkUMzQiMCWUK3AcwCt0NwQ3yDdoPvg+ODsUMDQqxBTwB7wAO/fz49veo9BPy6euP69jr7eZZ5WfrNOwH6hHxkPa/9gr9ggc1BwMI6wrgCUYGdgS9AzcAjPyB+psCOf4i/WwIsQXj7vXny/nT9xLspfbzAWb+XvpBAPwFAAaXB/4NLQ4aEzoaCxhqDt0GxAJE/Wf7nPrlBCkJuBGVMLU8HhHL2TLNDcmMxkXLZ+uLBfEbAzIzQDI1uSaVINANSvkq+tED7gBXAMX8D/Zu+JAIlQM2/Kb5m/p/EYwh/goD4J/S1uKu5w/wCANCEa0eZCTjIvcLRfuN7qDpqueY8bgS3zFgL+MI0t9exMzM3uwKCvIPJCv8JJAb2ULVRaz4Jq5Gmxart73c35ULISDcL+VMCVf0H9n0y96c1BLNR9a58eEJLiNjODMwQQkG4xDNl8jb1Yb24ACMBLkX5ATlIX1eu07B40CdT6ozxs3dnf92Ijs5Jlq/cZZJ0fz8zu3J/8Zbwe3Lau5EFWo9gk8uMJUAfepS05W3msGM6vUMdBY/KLoR/etcE25XgCcsrAGANKWe17z8EyQaLUsyM1JrYvUvRd6XuvHBsNTM6eUAEw3mHepAV0JyE9fe3ch2zoLZaeim7kjyQwvnLCgsiAgT5uDN3+lHNGxJPPieqvCr0NcH9ksFLxRzHxJAAmqLXrwZdNdBw0XOUOKa9Sv9YASmIGBA6jRi+eDBurG1xv7qXP13+r3vNQC1HT8e+gc38EPp5Nvk57chA0yIKuLn+cbMyhHTMO9DAwEEuhv9S1VgFj9WC5nl9NWs267vY/Mz88kNhjOLObMW4u3Fz5LMr91y6knvWvXPCHQiyiRABrHieNrl7Ij9X/ll82XijO0gNXVvZk/b+PXBgb3nzvzjPfRD9EgNG0sLduteoCXy8nvVlthZ5+7pAual+p4h7TEkIGf9L9qXwwzM0uBC7NTyLAL9EYoRCAqG/9Hu0Oyr8/v8Reln3bMLMVNPaew5Tu+OrQ6iasfJ+IwN2xbVJ/REyV28T1gXxNZGs5zGC/FpD0sfiiLAIvcnuSFi/GLQ27RtuOPYpwHjJCMrfRUuAyLzHO4265LrdujZ76YMVR0uD3j3zutM8sEFCxhOGTsKngV4FRgu3zhsFTLVFK/DsvndVg57LpYwkSMgIC0gmg2+7f7LhbhpxfD2gyhaOAQr7A59+bPnGOA80RnI1tIC7uITridvKiMXVwAS7lznYvEw+Rn+v/6TCBILigu8EvoPdvgh70UgEkN5OGb8CL6HjvOmxfrDOwRNoUCuLqAgGCijGnXdnaRGl2rCfw5FQvxD7RwC+x/tBOF/05HMatHC3koEFitYLacQZ/WK2l7cFPKSBSEInQeDJrJK3kSKDizQc5q8mvnZoyVdTBhQVULZL7QltRJJ9FLL4r7J0Ar8xCrXO4csaBFj9gziy9zY5A3mjepN+R8M2hczDOMBgAj1H6QovQT+yeGaVKUT4p8vqGBPbQRUwTISH/oN6vhG1Dy8ncjs+HYuikXlNf8Ha+FK0i/RXNb/2ijjo+nTA/kd+SLPEfzzGuBR3mDjufdSIlZJYUWYF6rXXbGAs6PV1QU0MEY9c0D/OxI2uiBk9GbLwbPGvCLqoSKnQdZCKR5V/MnlHtrb2BnaGuef8XsALBMmGBgPvApG87Px5vJoA44lASvSGgvs+8qltrzHZwEnKgVVH2KrT+YmlAfF8B3LB7mfvujYkQQQMVZBjiwiDrbqsdNPxVvN6uPJ+dUF1Q2qEeoQ8ApU+wjxJeph+GILGQ5uIiwubh1q+d/Ye8844Ln27zHeQZROPCadB/X9jspwzNuzqcik6igq+F9NUMFGDR3c/tzTg85S0SnLxeGK8/4C4gWpAIzsPc/hxlvM6+idCAob1xRJ/xjwOuqg79z+eA0gGXgWpAw9A+79mvw19bj1HfWD/ScJzRUtEHP+MPnzDp81jya6AbWs65Czj7PVsy1EQDBI6ig1Lu8joir2N3ohnP4F2DvO8ci64PT6KAcHBVT2WvDT4ELnnO4J8zjvxevP888ArxG5C3/9zO1F6z757fT/6+Xn6PwjFvwyiUYlOvMfu+x015rVXu2CBbElzRGY3incYt20CiERWTsFMD8fshT+CCEh3/b+CND6Lv/FDEQauymJEpwMGe315e7Ss8CVtc6/z/tRIadGGUp9JWXyWteQ2OTVNumc+pr5zusy8rj/MQmdGCondid2HG0THgkt+Zbm4d+6srbdyipKMR49tRz4Kc3lk/JE7lmrzLqux2Y7/EeiapNQ5CEwCPjtkvJ7wjbh7eyo6VPhWev79lPqzAc0HHkcKB//KIwfqfkp5CDVgLjiwRXrSQyQE7Qhzi1JJF8ZXgVD+nby0gepGEsVrP0ruezoY/wOA/8KVwkSMQ//2w+k2QDGT8SW50wsgTl3cFZYX02pIH4FwuQZtJuqZKMm0lzscw43EikKoAn9BFsRHBCgDRoOe/k/1Ua2yb7Bzurazv0RI8g8xzuvN1IZdetW2ejfAPDa8/YPAOj/G2JTXidkBWTTpPnj3OkAaf5d3l/l8OTQIpoUAFaGYcZYtDSwATrjQbJOx0u9Fr4tze7yBAd4DWQhpxqFFWEUIgft+8buo+Yb1/zWweFQ6IAKwhrPK1c2rEVfOpQAZtRRuRe7bubHE4Abf1JRMFYMzvgH6zDmRLfx4q3hiBMuL5BNC0v6KU85xhrELUgZ0g4o3Se977MmuPDWVedY9B8Lnz4vTHEuRgx88U3WdNpa5cfhZdgv0JfZIPLgEQgf+SMSLdYvWx9yCfD5P+ke4CjS7+OrN5coByrJF5MObvnd3HHk15uCx9X01FCoYuBO2TZ6Af0U4xdMG+PzhdMYsPKsrNYG8Qb1SQDOHRI39zSPKu4Gx9v9z+LL4dKY0aTcMOsBCW8iixzOG/AdcBSo/0cFOhVp+ZfQkZxq8q4hri0JUrIoBgVDtiPXFcebxAbcAgk6RWNKx1cSMwItySVTE3vpP8ops/2tp8iw7Q/uhO81DE4mqynSJuwtjQW73c+/hrc/tRPIqPDiFTo5ojFLIuEi4x81BBPrw+5m7PjPSr0jIbE1fy8SJx8JuOihvlLuM9nq2VXd3QqOMuc4NUcMOVlBwyrV+zLJU7oYtKy689pQ/DH3ivyaFuAw6y0LLSMuSgau4H2/nb8ox1jdx/LGDYQvizcHMpMpiCXUAwrikddv1mW0TO73VsNMACai5VXfcc2M6/ADNPAD97XwBBljMGZOB0MGJhIbjQvr45XW5tv+1KfS4+IU++0A6g/jGGUtUSm3Hdr8oePw2r7TiNpG5dLsW+fe+dMa3y/NNsU24iK7///isdsZ0crSVDWdQ3clUQZt68nqXdsyBpH/SvKS9FwBFBfqQGZf+kz6FVX9Ze4K2NHbT84u0sjF0dGA8vQPxyi1LlcihBzMCz/zuOQ21zPTIc7U2gXmtO9qCWwdPCXgIugf7BbFAUH4ofbM4aMFKy+BB2QAY+Cy0F3MyeepACj8VwFTGTAu4jedVP9L3TNWC5f6RuCK04nPXtSJ0VvKuNUQ6loJzRnIJG0ioiniEAEJU/9m7rbc9c1Ky2/UauqA/0sUbR0pLBMmdw0CBNYJFQiA7cH0EQUY9nHhIN9K3yza0vfYBjIHXQrfFTcoWjUFPjk53TKEHpcEBPWF7NjZUMqFy+PU+dq/4GnxNwVzFkgZUBRqDHILuQ2BCSb8F/XO67HlGuwk79f4kgQ7DbEKdAmNCaIHFQTlAJwGUAwxFFoNlAZyAP31SvMW8cDts/Ij+d/9OwZ4DfAXURrqG28d/BhbFTIOfQk5A2b8p/YR8hftXuvk6CToxuiF64jvjvTI+ef8pwC0AVcDwQPvBCEFKQMbAS78Dv3MAakA0/95AdUJNw6TDbQQdxG3EMsG8f939mLv/e/a7e/sNPEY/foIQBbpITwpAivhK0InNhsWDlMBRfRy6aLged/G2z7ZlNoG36Ln8fBI+mL/KgboCs0P4A/HDHwK8gcVA3z9APls9XX3yPnt+R0ARQqzECcYLBr9Ez4KC//t72PiW+C84Z/nNvNd//kImBKUHOEgUyUiKYYmcBwqC/v/hPEX5UjYJdDaza3U391/5JPvBvn8A3ANihE9GNUaGRroFZ4OTwVx/T34GfSy9f71dPb990L6AADXCX0W5ByEFz8QHvyF6l/eDdt23pbnNPaFA7sTNx5vJ0QuyywUKNQeNRRgBW74B+yO37HXJdI00trWweBp63P3KgFrCkMSVhXuFIISfQ08B7gDD/4Y+Sz4kviX8+3y8fbv+igDbQr4EEgbax3/Dxr+Le0w5MXi+uTH7Ej6ngtoHNUlMSvpLT8tVSbbGgEO4wCq8bHmsOCA2EzT09Og2HjfdOig9RIDaQsoEKkTtRR8E3oQoAmFAZv/Q/yT9Qz4Q/jp9gb43PoCAuQJWxTDHOEXNxOpBsP3kumA4Knek+XR8IkAFRHAIeEtxjCiM68tSCS+GKcHIfn56J7amNNH0fjP/NKp23jmyvIr/WcGQQ3FEL0SVxEIDmYJPANP/Mz10PHe9LH4ZP36AJQF+gpoEMASFBjTGMYVeguM/rPtZ+Jq3SPZleGk8IQC0BP2JKYvLjRLNosvVCQwGOUH6Pbq68Pd+tJ0zdnMjNI82vrlpPM7AT0KMBI7F8MXFxZPEfAJMQIS/Nj2N/js9C/zkPRS99H7ygCmDcoYgxmPIkIdzRSJCVD3X+vI4Pfb/NsF5rLyRwNJFyAokzSBN3AzoSm/HBcOAgHI7/Hhn9WwzOjIFcmyzzXaE+cy9O7/SApAEMAV+xgKFmkSJAo1ADz6EPWB9XP4ffhe/FT/kwEPA4ALLw+UFEge7x4YG3cPyAHS7K3dqtNs0WbcXuxgBPoXVSvXOVNA+kFoOHktrRu2COT2SuSc1nrKU8BcvVzBkszh2xDu+f7xD+gZ9x5wHoEbQxV+B+H/Evjd8ebuL+4B8IfzfvfD/SUCwgPrC7gQrRX/JI4sYSfeGgoGXerH1t3M6sxi1hrmBvv7EBglYzC6Nhc4yzLaKDMawQgp9InjOdfGzXzELcSKyHnPW9yN7PP7wgtjFpUdLCAUHOcVRw43B/f9lPdT7jPreOlW5oPp0+56+aYGVBPvH0AmuR7gGAwXzwqL/+31dOYz1bnMdclYzmHg1vNaDlsmmjpvSDhMD0iFOQIl6AxJ/LDm7NL0xPu7G720wtXLkdmK7Nf4NQo8G6UnPC+fL8EpqRmiCvz5r/CW6V/kB+Z85mHn2e94+48JPxsxHqEjKST7HikbdxSaBmz6E/FH5bnXotXF12vbSuooA64YnykdPKdIKU0ORyc/DS7/GNv/YOkV1HLDkLaitYG2Qb8lzyHhq/TSBisXNCNdLKctKihnHV4SGAR++GHuiuaA4xHioOgc7xX5cgDvCU0VTh1jHPYi/x6gGAoW2Q3GCNf7BPDB3UnMzsfkyV7WgOx9AiodODVAPwJIDEe6PIwuYBmAAZ3pedWTxB64HbOYsgC5vsMUz0niYfPhA8YRsB3AIhIkKySwHYsTFQvpA1j4AfLX79XrMu4J8f331P9bB/ASdBppHoUfcRvZFoEQ+A6LEMcFW/ux7OrhrtnV2v7ew+ku+aICwxTfIQAt5TPMM3Qu1iRKF80Ikvg/7fbhEtjl0ADMlMpMzYvS2dn14gDsZfZHADgKBhIIGK4ZEhrvFyAQAwzuBnAD+AAdAT4CcgMMBtMGMQWkAwUERQOoBKwLkBHJEMgOrA65BEz4G/Nl5+XdrN+e4jfpV/XK/+oMOxbYHmYjGCV6I80dERTjBhr5G+mO3eXTycyKyIfJ8M3v073cWeXP7Dr2MQFcCmARwhVxGsIZZBmAGQkWExPeD4EMkgmoCIAIXgmsCX4L1gi5Bm8E2wCt/+v9lP8T/2MAYP5CBh0EEf4b/Xv6xfiw9qn5v/pK/4wAggaVC8AQ9xWbGM4ZYRgVFp8PZgrT/5j1MOuX4nPafNVx0vzSptZf3hLkUOoH8eX3x/4rBY0LlhDDFNUUUBZoFgYWEBXaFOAThxJxET0PnA7nCl4IOwQzAkIAUf6v/X77av1a/cT9df13/tv9Pf4S//79rP/i/sQAFgFGBAQG9giPCmAKFwoxB0cFd/45/Bn4UvK+7IXmL+Jf3xfeUt7t3AfgeOLX583sWfN1+sL/vwUKClEKeA2JD8kQBRIuE34TZhP1Ex0UNRHGD58Ncgq+CIoF8QO2AP/+jPzL+Fr52fmN+7n82/8cAX4E2gSSBjYFaQNdBJoCfwImAtIBiQGJAUMBFwGRANj/nv55/f78afu++pb24vR77//rR+to6mTqpOqj6w/sbu5O8I/zqPWW95j5S/vT/Qn/+gKGBhMKJgz7D1MSfhR6FrgXExjLF6wWrhPSEYMO9gtQCwcLxAgYBicG/QSTA+oDHQIHACz+JP35/Pr6WPv8+cj4Tvg59/r3R/mn+eP5LvmD+X75Nffy8kzymPJK8vjxS/HZ8OXw5O+68I3xWvJ79Ij2Jfou+6H8CwDXATsEigisChILAg2IDUsPBhDcELIRaxAXDxIOSwyiCwQJxAbUBCsAm/6i/ZH8hf0l/7D9xPwU+3D5rfnW+M/4LvcY9gr1DPTW9DP0F/V+9XX2I/lw+SD6tPs9++X6RfoV+Rj53vdX92H0yPWo9QH3Nfga+Tf6PPrW+2z8MP+G/+oDswR4B50J9grVDQ8O5w/RD+IPmg3tDKEKgQgwBkgFHQVgBJgDUQKmAfj+S/6t/P368vkv+F341PcD+S74zPiR+j/6I/s8+Qf6fvq4+DP6lPkS+aX5GPkD+FH3yvaJ9rP0z/VN+EX5dfqO/FT9xf4HAR4E/gWABqoI9wiuCaIK/wkkCtkJKgqyB/gIfwiZB3sILwbXBBADHgPJAg8DsAPnA0QEUQToBNIDawS3AnkBtv/f/QT9R/vc+jD6lPsl+wz9wfvu/rL+rP3HAPz9c/8b/9n99/xi/FH7QvyP/Ej6LvtL+iX8kvyJ/PL9+f1c/1QAfgIoA/0DiQRMBV8FowY/CHcHUAfFBF4ETgNsBB0DEAMXAeQBK/86/4AC9P71AVYA4vtg+vD4HPsx/Nj4xvoe+bj3Tfil94D6S/k6+/D6FPx5/NP7Lv7O/PT8MPzV/Nr8a/2c/CT7N/nt+Df4cvgg+TH4P/nd+hf8Vf0iAKj/cAVYCIMHLgcUBRIIrQxeDkcQOw8XDbsKdAhjBycJHQkYCXwIcwXkA9T//Pw+/TL93Pxo/U791vsP+/n4j/ha+bD44PpZ+wP8Tv1r/GL9hP3V/kQAuv/X/oH8p/uM+477APxt+yj7d/3k/VL+Jv13/av9PP/IAUEBWwRoA/YD1wP/AjkF8AQmBR8GFwZ8BPYFEAd+BuQE1gZ9CJUH7Qf/BiYJgwrsCHcIGwkcCekIiwUjAzwDVf9QAV7/hf/oAHf/RwXBAvMCJ/0G/9YCNwKw+qD0Avsn+p3+bvxpAAcERAPkBjsEjgW7AMMALf5l/OP6GfX79af3T/cI71v0afad9q331/bI/Eb+A/8j/0MEGghsCVcIJQufD0QQjA+pD54QIQ+ZDVEKpgb3A70AKQHFAOL/O/rZ/TL+WQG4B38Ak/6G8O/8ov0e9NLtuuu//U74N/5T+tUHVQ+XDAIMrQwlD64EugU9+OLxKeYs4MDeldcT1jXQWNyD4EXmvOt19QcFBglNEOAR2xWrFTwa0RXQDS0JbgesCJMDLgHQ/koBrQHVBYMFlgcjC4MMQP2uDHwenRFG90rl9fuI9cHskdDr5Z/3EPySCSsMfCQXIHQ0/ivxJrEP6we2BGHs9tgFwG7KM79ewHa7TccK16/k5vrnAHMQCBlwKWoq7iN/HC8WmQzV+obxJOn66Q/qu/OU9wkDtwq/FSIaaSWdFv4JJkWmNHgfr+XD7DHpDtXm8yfNStSK3qIajCCdPSFATlR5WUpK1DiFDmYITNIX00Ognae1m1Oo260vv0/qE+uoCEUZty6GPlE//jN5KXETNgkX7inb8s8izV7a/N4B818FWBeALeUtsjjYKo8xJyhkES732s5Y4mu8etS8vWbf//2KGQRCaDsGbHtTM13xP+AowgrM5GvQya5RqSWgA6y1qiLHn+Jb/pEYUjA0RMk96z1+KEMO9fXg48/a9dB61tzdgO5IBXsLuAorKQg6E0t3NYg03Soq7B7s1L431ZTG3sqC2T/N+gquE9xRx0lWVkNQqUqmQ5EZqwCYy1q/manmrKepj7oA0lDvXwsSIKoxxzcWOqopJBAg9jXizsq2vjq/OMz954wBgRlzJ2kvIjTFMK4lRB3p+2cF8vVl9O3Sm8ue3sDYMvxP6XcWiBobTCJNQFMhRwsrTCbBANnvLLuOufmgZrGauqDM6uX5/y0sTTBcO7sr4ydvEjz7CN7cxTK73MAu0MHe+PWRE/MtFT6uPOQxgx2cDf78uunICQD3Eu/yxbTMFOBu6JcCBOydFugjUVD9Sd9FVzbQGrIYnfOf6Ou/3cbiu7LT7+2XAcIQGxT1MN0t1DK/GUkAttzczyzKs84zyVXRHetcBWciZSeTMSEm6SXhFkMFAvFH5U/dlBWKHdIG/9jI02n4YfCPBrfxDwXd/TZAs07vQbQikhNnDTn6//p31ujKNLOP3VrwNwm6EKMcfSODF2ckxQY282DYjdj/18TWI91a6Oz7fA/qHV0kaB1GHDkbQxDkAgH37dwq5uUE0B3v8+DmJ91v0RT8+fqIDWTy+TIzSwJL6jr/FZEHgNx17FrTbtKxwvrY7PL+Cl0kWR+iJuYbexgj/Ibr48vRxYHP9d6L86IAchlxJg0s4gtl/L4AAhpUF20LMekO8KASeADoApvks+yTxLLkdvioAqMPpB1PVqVJY1D0JZkWTuXr3ArXpslFxVrTbfYqAOEXKyOXKeIa3BJN/uLpptUi2ejK3srk3aj/UiAmNAQ+6iWvFLEDJwdu/IX4l9Ye+zogtRyNBw3ePud2v/zs/fPcBWUJ8yrnRMsuMjyhLikbI93Y3W3M680Pzgvs3fih//sdByCIKFEWlxj9+O/hidLM1mvcxNn96moDexoKLg0wsCjODcz6wfF/7EHZr9rHGScmoCbn8l353Nwr1dj+aQNEEO4HZD7OM11E4zRQGGLw5deg2WjOotk63I32XfVyCigdwBdrBbPyheya51HoDeQW3XfofP8kEccfaSjQGrsQPwI6/2zx/fgk5x7xVyhCIVEf2PWp/JjXxdEK7iP1t/9zAsM2FDAkRHM2Qib3/XbruuQ51KXdJd3T5QvmKARWFNAd7RyVDdzw4Oqt7kDhDtzL5tXypwCEGkwioh0kF0UX7wsI9eby3trDAaAUxRsdCLryd/Jy0d72c/QT/q/tAhA7JCoq6j+XLwUXB+mq7HTcwOLW6c/zUv1aBsMacxzlGjIKm/Qf4PndYtqQ2XLl+O9U+qEOayJ3KIUqHyEmFN/3u/c83EzpWwlSB3sJs+ys+XXZxunRAo4RFhJQGqM1Fyo/O4wjkgtt4avbE9BX0gXlou4q9YMBGBpBH+YWRgu884rgceNj4tnl8ulA+d78WRSaJAQnYiI1ED0H+edF5xTgduMUDscb4SWdCgoM/Oky6474NfnRAf79EyWyIE88XjpXMA8PX/P/5+zVs+Gu5EzzTfbHBzcSExHJDO78ie0V5NXi4uK+453xdfvmBw8aByFiI50U/AmA9OHpcuak4fT/3QVdDv/4AO8a5GrlvwosDqsiuhDMIkUZSxp7JMQZ/wzG8l34J+t482ryYfeQ8sXtNfgj9Hz6qfgD+lr4B/Vd8bvp4Oj/6sn5QAOeCaQMawx8DawK4AliD6ANHggcFSoZCw7J9zroEdU60e7jXQFUFnwhNjHFMCsv5TPlKYgTIvrZ6S7Uoc+y2PHlv/GN+iEFUwkwFBAbgx/8Gi8RMgRZ8fHkrt964N7pD/as/QgE5w2JFa0cyxw0GaUGifWrAW0FfQg6+yvwhuXV4in0dgbhG6gmvi/qLuQqcyidI2YYmwZN8rnaz8+yzvrVqeIs8RD+ZQrHEkMb4huhIN4c7RIPBFPz9OZH5Pzm+ehP96j7SgBGCI8S+hnAG4UaXhKFB6UFvwRWAtz+vfbt8JzkoeHl47TrHvfzCCobMiRsLaUtTirVINwWcAkV9IbnaNyv16bX191T5GPsGPNI+Zn+EQNCA+kBjv2S+n33wvhI+Rr4+fn//BQCNAbYDNcOXREJDxYOpgvpAcgAywDXAa0BsAKsAvL/dflE+1P+O/8NABL/X/4i/R4CHAXrCvwNagxADx8Q+RCRD08NzQdjAUz5C/GY6YnnLuZK5snm+emi7cTza/la/vsD0gTPBS8F3AQaA0UDTQSSBh4I3QfYCSMLiAzUDc0PgxMWFzYUeBBDCnME8wAW/0r8D/mF96z3EPpv/ksF8gptD6cS0xP5EVkQoQz/CPAEGv5L+fP08PBM7dfq1Omw6Y7rYu+x8q3z5fUJ9/T5fPta/u7/+AEiBFUGpwhACAoINgdzBY0FNARTBKYEHgR1BtcGlwn4CvkLuQimAwAAy/oR+m356P3O/cL/ZQNLBaIHUAZJBe0FiAP9/zv9ovqB+Bf2+vMC8uXvOu2/7a7uGfHK8qv2OvnR+xL/z/7c/7//eAAxAOoA0QFAASID4wMMBVsI+go/DR8N9A2uDMML6ggOBrICPf4P/jn7Zfyq+zr9kP7V/4QCigLzAWoA7P+i/bT96vzT+/L78vvR+9L79Pt0+yn7hvtO+tv5Ffiu9rv1ofVM9SH13vRj9oL2Zfms+hL9of8VATQCLwM4BUQGbwkwCZ4KJwrQCwwNOg29DXMKyAhQBnwFGgPRAVAAJQMbBBsE9gUtBmQHHQfjBrEFsARrAs4Atv7e/e37fPsJ+mb53fnY+YH6ZPpe+wP7Yfzy+uH75PrX+Yj60fhb+mD7evyM/tb/iwH7AuQDMgUjCF0JdAiFCUII6gekBy0GCgenBccEugMBBbEEngYzB78IZQrLCrALHAoTCcYGxgXGBOQFMQa5BmIIVwjbC1sKZglZBsQDoQCg/eb6GfkY9yn3qPZp93D4Wfno+mr7+f0F/kcBdgDFAgQCJgJxAwICcQM2AhcDsAIXA5QE8wSuBZQGGQaqBTwFRAPbAg0C/gGpAPQA4gCpAagCBgQXBrUGrAkFB0oGMQPXAG79fvop+Fb1v/Op8RvxMfGp8QbyE/Tr9DD2ffcC+Jr5Nfpc+4n7//vL/Mj8Z/6K/v4AOQIxBOwDnwRjBe8EHARzATYB9gD9/5D+b/36/CH9y/xq/CH88PxT/Kz64/on+s77K/yv/gcBXwRGBj8J1gzyDFsMuQqQCKAESAKo/ab7zPjk9kr1pPON8ZDxH/Jd8qz0S/a1+JH6Lv0AAPgCywWpCHQKigzlDZIOJw4MDgQOJg1yDEwMlArkCakIGwf+BWIEbAKuAIf+BP11/Mb6VPvN+9b7C/2c/T3/8wA3Ae8CswPABFMFxwTZBbAFPQaEBsoGqga8BXIEowKF/hv8RPoV+Nv1gfT4863zjfRU+HH92wBBBbcHdgqTDMoNbA7cDi4OBQxkDIELqAoRCW0HggQCAzwBDv/W+1P6CvqN+Hv3DPez9hT38Pfn+QX+DgFIA8UFiQdpCUgK/gqnC2wK4gmABssCZf/B+1X4hvWi82rxdPDx7SHtM+ue6h7sEO0q8MTzefhT/QYDtwdBDOMP1BJSFYQWSBcTFmcWqhWnE+ARYw6FCzgHuQKK/zP6w/c/8y3xwe807+zxtfLY8z745fvh/BIAKgOEBk4Gzw9hDHoOmBUpDB8RQAkiBcUCvfu4+G30pvB56xrt8+qd7B/u4e/V7z31lPdd98D9sgCZA2oD1w9FDqsRPx5bFescNBzTFTsViAsUCLwCrf+I+hz38/Ig8DPu6utq7hPvY/KN9rj6nQD3BeIKjA+PEkET2xF1EPINAgpFBjQBvfwE973yZu4T7Mzph+hK5xjmKebN5iDp9euk8o32Tfv8/1sFZQohDewQJhLNEv0SQBRpEhUTmhAeD7AOkwrxCGgG2QSe/A35A/PX7Ynq7+ah5r/pWu//9tgApQknEj4aMR7+HqgdAxtTFQoHY/0F9Wns3ePt3p/ckdvL3Rjk5eyT8rT2tPrE/DD++//3AIgDwAMYCREOXRBtE78XPBgNGb0aGht3GRsaeBnYFvAUaw+eCDf/Y/vc8yLoz94w3cTjx+jA7kX2EQElDlMWvBt3H84ePRmhEsYKjgEG9cvueueq43/kYeIN5ivmjOu7687ulfMX9QX52fp1/+oCIwXLCRkMKA7jEMQSehOGFGoVkBPUEhkQuwwjDNUQ9AwODHcSGwAM7fDucuMk5XjhEuHE+8PxKv2qDY8ZbiFCIxsjaxcoEtMDKPtK9z3s7ujS4y7kqefS5vPnN+r17Arud/If9vH32v26/7UAeANEBR4FIgfSA1EHqArcDYsQhgwQEJEP1wqfGPYbohjtDfL4CvUC7xjnqd2p1N/cMfUXA/cQmyGUMcg7jTleN7govhNe/krrvNdkxo3DkL8ZyT3Tutk08Kf92QfpG9oeyBeYGekQtAa3/UvtzORE50Hp+e+a95QFrBJ9Hl4s6i3NKKscCRbgFbUPGw66A3/yAfas5p7zSORb1kPgWeU59HIS8i2EKMAqJDQ2QWAz2SR1AAXpB9am0P/IBr0Ttj6+gtR/7Oj61gMaEhQXmSRXH/MSfP9b+HftsOHb4Lnhk98d7Pz9mQ1MHf4e8iaYK2AthyL+FJEAN/dOEMoX/O9g1BvedevO7CDm4d9R5RsCBC0mNSoxzS/LN8E2HSloE+Lpzt691rvSxsvlxlDMztox83AC2gUICIYT7RqrHI8JD/pH8ZTpdeic3CTbmNyM9Y8J3Q9LGRsgmCBhKRYr2R9fDST+i/l26DUR/xdJ9D3iBuKd94/zVPRj55frMwj6IK0sNCZjJFYxZDOzIDQDC+zT4NvYztgg0QvHT9HU62H7cgP2CX0RBxgVHbIWQ/xC8qrpNueY5CLfMtlk3l/yCAQzD6MVZR3fJPcsXSZ4GOoOVAE6ADXspwOMH2D2Ae3u5cb6mPR57OvsMeXDBVAc7iM9JPQnWC/OLncj/wv/7ZPhh9N80SvIt8Jxz2Hljfj//4YJNQ01GYccARtaB7UBlvoF7qjnrOLV5xXla/Vo+BIBUhMaJlYkHCSFL1gmkhgXC1kIqupN/9MdYfjs4YDdmPM870HxoPE57WQJuyJgMTwk6igpO3Y0eCFBDOfv6ORj3h3aPczVxuPT4ehk+OL+8wjgEmIhaR9BFFwGKgAS8jDoQugt4s3hHekh8sL/wQ+KG80fYCPDI7ck8SCcGAgGof1D8B7oQiVpDOHlu+OI8cz1UudD8SnYgu2eDmkhtRsWGvksrzv/M9UifgOL6m7qO95UzE64EcefzfDh1+9k+rsCpxUgI+EX/BaKDtcGvPYr8Jnp6uIq4IrkM+vl9TQEoxMMGp8gaihMKIggARwJDpIFRfgR+RsVhPgD7ZXhHvJ47a3nSPEY4/j6WxKLJ80XxSHLJggrhCnsGez7yu1w7KXhb9Rpx3bNldHu5BntGvZB/C0TuRtbGmQXhRFeCvUFPQPE83fumehx7nHv3PZ4/MUERQ4BFg8gsR8BIKceAxeLDHYJAP148SL+4PuA7cjhIez47b7zMAHJ8Y75+v9FFpkb6RroHWAY8BhnEoINPfrd8XfsQeey46vk+udG5t/rdPXZ+R/72P5SALUCDgLpAFf+E/1+/kIAoAELAj0D0QVFCHUJOgkeCn4JXgecBekE8wMaBKQEVwL/A5sE0AOmA5MDlwGy/4j/ePs89kj19fbN96v4Ovtc/av/NwQUB9EGWwdyB74HnAabBaUEKgODAR8AOv/1/C77Bfpm+V34nve39y/3V/ca97T2Bvdj9z75g/pH/GX+WQC7AysGBwixCYAKoAqCC5IMJA3TDG8MkQoLC6gL6Qu7CkAIMgbOBBMDUgAk/Kj5Ofh291z48ver9QD2CPgj+rH+MP4A/r3+df8yAUoBRgLvAVkCqQGnAVACFQNIAygDYwI/AicCAAK0AloBjP/x/bb8Jfvd+T/4g/cA96z3F/mt+Wn7XfyQ/Wf/AgBJArEDogTPBdkFJwbpBtkGxwb9Bb0FWwVgBLgEbgU7BV4ExAIcAiUBVf/7/qv9oPsZ+Xr4MPgE94X2H/fZ+EL6Uvsv/Lf92ABuA7UEJgVeBeQFFwUqBNsCdwDn/iL9ZvtT+vP5Dvpk+lb6CfuC+vr6hfzT/LH8ff34/fn98/1L/2ABTANxBYwGVgiFCLgJPgmbB80GgQaBBxUIrQgQCVoJ+gloCugJoQfGBDwB8f14+pv3bPWL8yjzQfMe9c72i/ku+5b8W/11/uX+QP60/b79gf3q/Jr9Tv53/xcB4wEtAjkCqAOLAw4DawGxAHP/XP7w/U38Xfs/+5r+zf45AOIAaQMsBSoHSQkgCk4LCgwZDD0LrQp/CQUIjAW8BFwDKQMaAz4DoQMpAzMDoAJsAQoA5P4K/o/+8vxY/Yb9+v0t/rr9WP7a/CH7Rvqx+nb7yf2JAJUClQRXB0cKwwv3DMMNawwwCJ4CMv04+Nz09vCQ7bDr4ux7717zXPlpACsHHwz/C2kMvQwbC2UGEAJvAC//Cv26+6P5EPqu/fkCogU3B8gK0A1oDv4OfQ6aDEgLfAiFBukBYQACAZkAcv+1AR4EdAIhAB38afoL+DrzCPIk9u78CwQ2DNgSaxNEFKoX+BYLEOsGU/929kvvguia4r7fBOGX5E7p6u85933+/wXRC9gOoxCUEFQNdQjcA4//y/vg+Fv3EfjU+2cBdAYQC5kOBRFDErcSFxFjDbwIPwRcALX+Wf/B/Sr7NPqg/aICgQTbB9YDg/eY9dv1wfKK77TuHPZCASEN6RIAGcEc4Bn7FqULTwEA943wBueC3tHcadu439Tjfuus71r28P0eBdMI5wvwDhwOBQsWBQ4AOPxk+nT5MPpv/Q8C9gczEAoWNBg+GSUYVBQtEBILWQVgABP8pvix9on3BvuI/x7//vwOBZEQNA8hA+T3FfIK8VrxJfOT+XsEGw7PE5YazSDfITEbNBImB3v8gvAe5UjePtuw3KDhX+fg7Pb4AAFLBd0FXAm6CiYKUAZpAXn9i/5LAsgCIwI0BEMHfAgSCi8Mvwz9DcwOPQ0MC1wIjwUVBN0Amv4aARgAj/p0/CgAe/jM+L3/iQLd/gj4I/ID8Iburu+K7+b3CgX0DuIUDxl7HPAaARTlCen+fPPK6eTgE9pt2fzdyeFB5xvx9PrKAYMECgmOCs0HUQCq+2b6Dfpt+bv6e/7tA5MIXQxyEKYSkRXAF/kUVBFeDt4McgjXAcr9AwBZAT4DggJZ+yQDAgUsAecCLgmaCsX6vfIE7RHwYPEO7WfyWgPZD5QT/BauHf4cHxfyDS0B4PbX6uPke9pl21bfluWr54vwjfvbAu4GEwolC/4HlwTF/lr7Sfei9//5NP2CABUFbAsgEO4RmRJiFDIUVxC8C/0GpwKIAPsAgQAx/0P97QGZBNgAxgWxAsQEbQ4GC9b4Xe9r8cvpwujT6aXzFANAEi8ZwBgnH8Qg+xnMCU/7UfAk6dHdDddi12nddeVM7aT3qv9bBq8KzQ3aCIoDEwCh+m3zVvI68270PvnoAGQKaxAiFNwUvRSkEpgQNAvHBTMEKQWwAyMDZQTGA50DqAEUA6oGHANl/GAK3Q4aEuH2TOeu9Dfv0+2w7lD4DAYcF9cclhtCICclAhvPDiz8te2H4yvfcdS90LDY+OKr7dr2IADbCF8RYA2AB40BjgB2+FTwP+8z9eb8Hf1gAAoJoRTGFxwXbRbXFQAUYw5FBiMBEABX/vP99/2hA50JygZxBmICZP4U/hcFCBKgBGjnoekQ9UTzTeRF6ngAxRJLHm4hfCYhIY0gZBXO/qDpO+bl3bXTnM1d1ingV+kr8mv+bAVxC48ReQp1AsL6bPeu7jfule2185z8YgTFB0EMfQ9GEecQ1hIhErYSiRKcEFILyQX0Aq4BrP8Z+iX+FgIp/n0B4ASw+WkCcB4dDFXy4uuc8ZTuTOh07VPtGwSYFlceZCO4JPMogyETFVr64u7a513Zns0jymzUROBE79j1PwEkD8oWVRceEJ0FUv7I+gDwUOe/5lfwvvkFApgIQhNxHCAcWhfBEDkMaAkyB3EA2f93BGQIPwbpCJsHeAshCqYH5QLyAyn7IfVeGMoMHfOA3cDxf/BG7I7n5uXfBdQUHBzZE+YjXiMGJZ8SzfcH6OXhWdtDyEPHQ9O34FTqJvgHA3EMKRUlFg4Ji/2s+Ln2Zu5V5dvkie2A+4MDcgs6FsUdgCFAGxwU/w5XCkUCMfzY+m0B8gfiCJAM/g2kEAIRRQyQ/jsF/PsABD0gogeJ7nrjQPRH80vsweKY7h4NrhrWH28cqiFkJ18rcRDF+K3sded83drLGMUA04Xk4O5797wAdQ6PFwAZQBDZBPz/jvwM8ojlDONc7cv2uPpQAWwVASCQIqMeiholE1ULYwSe+836HPw3AbkDawjvCZEQ1gu0CZwD1AZ18cQAsR4UB7vugNzE8AnpYu1a3cvtKAUnHFQlCx7qI1Qo1iuLDXf6Aufm4VLT/8jCv2rFL9hL68j19f94C6cbFyMEGmAHfv4t/2f2hOt+5jftOfOVAT0J2Q/8FG8fXCI7HjIVXww+BwYGHgCz9y72Bf7kBKwHdAROCVEICQ6C/qr1cR0vFRD+s+OZ6lPs3uvk54XcveqgEnUmTBwrJ6Mr1TdPI/kNP/Hh5ArciM8xxj7AtcjN25zwqvW7/vIM8iDRHxQUSAnOBy4BvPR36D/kI+mc+y4DOQTjBkEVjyJPI+Md1BRBFboSLg1pAA36Gf3yAHgAPP2k/3/+ZAzwAEcI+R/AE4AEDOy98pPriPG54C7le/OgBUMYUhn2Ir8jfTLaJpUbj/yZ7mriP9rlyVvDK8h61ObjGO4y958C4xa6HHYb/hPHEhYLZwN79Vvspuee9ND5e/h2/AoHrhKOGyMcEhniG3oeoR4jFaoK6APhA68Abvb29AnxdPr29gMAxBlaEAkHevY6/uzyhvbq5//nKfAv+9EMPQydGTAYLSeNIT0eRAOo+NXpB+Ki1hLI2sO9yDjZh+KP7hH1SAgUEhEcoRl7GmMWZxW8D7oFbfzJ+rf4lPRg8xf3KP9cCAUOlRChFl8bZyBqHTgbbBLvD+EKeQXK+Cryqezh8JLu7+90Bi4GRwUN+YX9V/bR/U70X+3J8Oj42QdhCC4UFw2IGE4acB2KDH0DPfab7IjnVdjUzUDHVdC61QTghuUT8oX7PAqSE2UXIhWpF4AYcBUQD7wK8gFA+eL2MvSW8wL1Cvr9/ggI0g7JFaMYth5kHjke6xtKFG0LEger/FL3MvUd8Yzqlfj6CE4Ezv3y+En9zvizBOj5UPVu9Ij/KQdbCpUShw1XE4IT3xpCCqICEfT/7fLm5N8D1i7RNdkm3jPm6Ori9bv5MwhiEZ4V8xSZGJ4YdhbiGIkSOQodBgsF7ALRAe8AR/6DAlIKMg/EDwgQSxT2FF4VMhGTDboHWwUIBB7+1fuc9mb4UfZ+ADcIUAPY/5H7d/7L93X8IvNe73zxpPdgAen/9gpSCKkOgRDCDxkG6f+s9v/t8eiC4AHew9a/2mba99875QntjPBS+P4BiggLC80NyxVQFSAXvBQfE9EO8Q6sDJ0JZgf6ByQIuAgJCfwIoQhHCv0KyAkZCewHVQa4A6wDcv/g/j7+/P0s+dT5/vhF93L55vr4+Bf3Ifjo99Lzr/aS8yf1lvUj+Pn9Yv6rBWIHFQtOCvIKywZnAnX8tvTJ7Y7mZOOl3z7g5OAK5fnp2fDn9+D/7gZBDZcRqhROF0EXwhduFSoVYhIfDzgP2gxJDrAM0A7NDqEPHRD4Dy8Q2gyHDM8J1geuBYkDBAI9AD3/1v/0/pv9Wv3x+2X8lf04+/D9P/zb/2b8OPzf+pX3ZfkQ9m34uPiW+8P9VAJ+BF0F+AYnBaQFygHk/7D6svcM8m3vde7+7D3tTe5J8if02/hK/xEDWQgXC+QOtBHgE/0V4Rf2GC8ZKhmrF9YWBxg7Fr8SmhLbEQ0PeQ1YCwsIxAPtAMr9lvpO9/f1afOX8bDxYPBt8PfxgPHn8eXyhvN/8jr13PTX9UL1s/Wg9ZvzVvXn87Pz9PE/8/3znPUv95r5BPq8/bj9zgCgAW4BLQNmAqAD/QJyBGUEFQVJBhcGWgd2B94HvQr4CmgNuw64D8sRxxOMFOQUMxQZFDUTQRIWEeQPfQ3iC/UIygigBWoEQQNoAPIAAP5f/5f97v1H/Vv7Ivya+Qn6UvkO9/n3Aveo9t32vPZ79nz2TPY39yn3Wfds9wf46vae+Ar3aPmi+bz46Pxs+b/+Rf5i/wYAUf9U/4n/of/w/qP/pv/f/0wB2wD7AVwBlwG1AcoBYQI5BPMD1wRXBNIEMgXHA/AEiQJbA3MBnQGbAD4AyP+J/xj+i/44/CD94vmU+6L5f/rg+lL6P/0S+sT+//u/+/T8K/zV+nn/aPo+AN397f1+AbL8lAEg/gX/If/r/p7+bf9A/mP/0v7Q/Rr/LP6v/n8ASf/j/4sAOQChAe8ADgMQBKoBXgW0A2kCAwVIATUDgQLgAB4ECAD4A58BkQGHAxsA5ANQ/78DTgG5AsQCbAKjArACPQKmAHYDa/5RAd7/ov7C/9j+P/0HAKD9df9v/Dr+W/z1+5T+JPmYALT3UQFb+t3+tv0m/fX+Ifz9APz79ACU/ToBSf6dAAb/Wf/B/pb/bP5EAOH/R/8tA4/++QO+/6wDSwCxAmoBVwIIAkMBOALk/rABw/7qAAoAgwBQAMYBu/6EAhD/ZQLWAIsBEQPAATsCfgIXAhkCEQM1ATIFBgCUBV4AZwO0APH/GQKj/ZgC3vtyBcT5OAX+/AQB5AFl/YMEEv1ABOD+UgGAAaH/kv+4ACz9WACI/XYAUP81AFkCHv/AA0X9QQKi/jn+YgKX+wsFtP21A8AAbQI2AaMC0wD4Ao4CKgHrBfgAyQWfAr4D/wJDA28C/wI6AeQCTgHBAW8CzwCMAvkAGgJ0AS8BFwKQAMMBqAFxAOcBkQBFAXkAFQA8AHT/Qv9B/kP+qv6i/Qr/zv1c/nr/2f15/ugAVPtTAZH9f/zPAcr5PAFd/On91v/3++r/pP0F/rX+gP6P/J8A//oNAHb9Ofx1APP6rf+W/WL91v9l/Un/n/69/pH+0P4e/mz+Of6j/qz/N/5XAGf+CAAK/+D/BQC//xQB3/+zAfb/OwHgALQAVwFKAMgBsf/wAVj/kwH9/3cAbQFr/ysCif8wAmD/2AEv/+cAp/99/50ANP/SAGT/jP+r/9j/Xv7lABn9vAA3/fD/rP4t/3T/Df+V/9/9DQJZ/LcDU/xZAQf/8f16ApP8SQL+/JEBqP71AD8ADAFbASIBHgIDAIED2P4oBHf/JALrAR0AEQLhAOYATwGBAagAIgNaABgEuQFEAvkD8gAsBB4BtAJLApUBxwAQAmn/5QHT/uMAhwCA/gEBLf8fACf/8v9H/j4Abf3H/6P93v7h/hP+zf8r/q7+1f8y/ZAASv2y/4D+Wf5PANb95QAR/gIBU/6BATf/nAFkAJ4A0QGW/9AA1v91AJoAYwBpAPEAZQD9/1QAOgBMAEYCH/9PApv+lgBnAgr+IgMh/gsDgP/VAvkBKwLeA3EAcgQy//EDpgD/AakB3v+GAFT+//90/m7/QgAd/zEBTf4AAbT/o/6yAVX+MQH2/ToADv/z/94AMQBa/9cAlP/F/xcAVP+KAGP/kgCo/+UAkgBtAb0BLwO3AXUD2wFKA8YBwgHyAGsACQBuAJkAi//aAiL/MwIhAF8BlgAFAJECOQBWBDABjwWiA4AHPARXB5wEjQQeBQoArgTM/dIA2vym/sr8n/35/Pr9tvz2/Wb+Svta/v/9hfwJ/yv8fv1RADf9QgP4/eMAbfw2+rL9APle/R/7bfom/FX6Hf/AAd8GHgjmCZ0FfAWGA88BoPzw+LH61vN3+eb1Jfr1+0n+AQFB/hf+e/vA/oMAVAV4BWQEVwURBlAFdgosDYILTgeIBbEBQAEL/yH/cf+C/csA7f9NA3IEfwh+CuUNzBg7EFMNcQs3DMgD0/ua+Gbruev+5EDxi+9K9735QPaeAF4CmwNFBFoBV/72+Kj5r/dv9oX4NfaZ+bX3Bvzm9DX4cfmy+2j5sPtg/wD8fwWxBQUFwAccCRsKIQomEO4PYA4+D0QPoA+rCNgIjwEjAgv+Jv2h9on/4xRN+n4Mhxj/FrH7HOqq8k7ZV+rw34z47fj9BwARTgpsMZglhi3dECQeWgtc9nbu2teF28vNZM7RyezPGeO56OfyhvtJClsJsQjOGFUXfRySFOURcA0JDWkHcQOjBxAHCAmnBI4J5A8tDxQMMQ/rFKoJ/v6JEbooXQd5E6wVSw+w8z3TRd99x6Piy9Oz60f6kh/tLagjn0y2QvZL/x3bJVAXrPEg4nO9R8QVsiOyyamDuJnXY+NW/dYJTyR+JF8ryS4dKr8uRR2vFoP+efuy8qDlTejV66H4zfvICzwa2SWjKwov9DfOL3MgPgVTHW0gFfZ2BeX2gfjfwQq4IcRVwRLhx9/bChcZ2UcXQe5Axk3eRFUyCQhPAurk89KUtCOn2KsBquS3d7hI19T15wIMF9AjYDbxK7oqzCpHIfkU2wQW+ezjG+IR3crapt7Q7tT3ov9ZFKsifymLKXUlwhRHNc8eevMW44LlNOn3weLQW8rR3L7e//EtE9wemEjCMaU4iDLNMu8WlvFO6VbUJsl3sce177Mwwl7HGs5I7fsBWBNAFxMprDelMgozeCDkFj4GNvXh53LdN+LQ3S7ige0uBPAJJhcOGUklLyOqG5QSVQ2fMeMJKPTi50z5aN4CuinMX9KY+fb1/R0oINhBYFCwQlBBpjNqOG4Gh/LD22fNXrsUqDKo2613vdnLr+Ji/Q4d3yv9NdU6uj7uNSQnchIWAYb0Me0v3LzXC+F/45/s6PcjDc4SXRsSJSQmVSjxJd8Tfw/bKDINnvKu4/Dtl+KduG/N7tBD7h3xjhSiLIg6jFYUU9tHTS0OLicI/engzVzI8LzerXWyKra7y9Xc1/PwBtMYlimAOnY7+zTcKdchDhIN+Tzvg9932ivUx9jX5mf6EwjRGuYmxzDBNpYpISY2GYQKoPe8DmoJ3uhH2Y/gDOoPz7/U5OCc9XAHaB0mLB8qazdSQo46dyBxEDAMM/vb2RrKb8DcuMO7L8cd0lrbVfF8DcsadRxKJugrRiPiFFEMTwIJ9H3xE+dI5Jre1ukM+okDfg1ZFf0eUSjjKUAeSRyFD7EFO/Ak/rgAVe0B4GnXXeuI3ZnkEOOx5tf1/QcZHwEkzCohMO46Pi70HPUIa/pH4THV185jyLfE+cjo4RntQPpACAMXKxx6IVIoyh5uGWUVHhOFBpn6t/YR8bDwde4e9MX2CQCLCswOdhHBExYTExEME3IUDA4uBMcOGwGt/TXy1fIy7jrqT/AP6lbzT/ksB/sO1RqcGgQfyxtLFwMQmwZv+jTnTuhD4hTgQ9tZ4pHnme7c9nABmALRBSIOaAwjEToKdw/CC4gI2gcHBqME5QCdAtMBPASXBHcHawjJCpAMZg2jDwcN9A9WDNwLkQWPDI0G3gC/+/X1UfcR70Xydu4c9A3zQv5LA3cH1Q6aEg8T+RDBER4LUwnx+l33t/NH7p7syOlj6qPp1+yE8JX5GvoT/5UB8APXBq0GTwj0BXoGYwRKAioAY/+N/X/87P23/gIAYQHRBcsEtglFCX8I0QjBBxYIswJWBfUESQKt/VT/7/dP+3X42vgc+sj4PgEuAGIFYwU0CTYIqAelCGUFmwRI/TD8Mvma9p7z7vWE8/P0avaJ+VH/vAGSBAIDGQV8A0QEtwERAc3+lf6A/ez97f6f/8//4wHhAsID+QS2BoEIdQg3CrcHowj7B0gHBwWBAyMEDAGxAnn/fP8i/xQBswC9AHEEtQUiCP0GtAmXCNkHzQiQBJMD+/+n/uT6O/p4+nn3/vgo+Nf6rvla+7T7Zf1E/YAAnf8aAikCAwMJBOYCUwTFAVsEuwKcA3AD/AOMA6cCWwNYAx0EfwM7BQwDEASSA7UDPwFzAhkBXv15/5P/Zf9x/WgBg/78AcD+1wRDAsYDzQR3AmYFsQKfBWsAOAKS/1T/JPyY/Nb8xfoj/T374v1E/Jf/lv45/4IAAwRuAt0EVQTRBUwEZwQPBCoCMQO2ABICzv9CAFP+Ov2H/mz8Mf4h/Iv+Wfz//UD+MP1I//P+pgIj/3oAcwHyAW8BcwGq/2P/ofwW/Dn8MP7n+4L8Xf4OAR4AbwIhBIQEiQPOBNkDkABc/138CP2J+Bf6/fiu9zf5FfkGAHH64P/ZAcUA/QGJ/48Hyf+oBM8BtAKMAof/hQPH/1IETv9WA0QCdwGABrMAdwZ2ACII2QNDBqoG5QRLBdMBTQi9BMsBTP4u/pn8q/mY/TT9SPpK+779qf+3AAsEBARAA3sCswLCAWX/BP8T/5r9W/qq/G382Pvb+0b/ggJy/3oDGgSkBvAEoAj3BZEFEwZFBJkDI/4NA6X8DP9//ej7KP/f+z0EkQDSBlcCpQZtB8wGsAiTBXUApPiFBd4C+AA//cH7V/qD+GD+agQ3/V39GAD/A0IGZgYVCkIEbwGcAXL/z/1e+xX4qfRa8gX1EPiv+e/77fwvAdkAVgL4BQMFjAQYA0gAkPv2/Uj+NfoI+gn78/r5+tH/xf2//iX+agLfAzQFBgV8A7EE6gO9Bo4ElPeU9OUJhQFFAcb7tf1/+/r67AqOBRcBhP/HBL4FtQbQC9AHTf9q/W/+jP0C/EL7h/az8xXzivvN/Sb/DP+fAF4DxATiB7wI3wYhBcEB9/8k/r/+uANa/cT84/0C/8gEEAOnBMcAQAOXB24I4wr/A6kHMAIRCBcK2AgE9gz5Pwu9/yEBRPci9oHwP/c+CGsBTQTRBmMLfg8QEXcQUwgF/hP2EvQq7k3viOgT61znpe7s+MH98wRUB8MKrQtVCngL7glMB7oGFAHE/136Pfsx/Pj6tvtq+03/PgCABJcDowLAA3QEkwffAiIE8/8yAHv+jwCPADr+hv39+q0FPf8OA/sAk/+jAB//NwKd/nn/oP6v/lf+lv+i/wABbQDaAA0BvQB1ACcBbgBFAf4ANQE3ASEB9v8t/3f/Jf/v/QUAoABlAJsCOQJ4B44FBwnXB38IQAc7BxAGTwS+At0B/gHf/iEB4f85AfP/4gH4AasChgSMBAIEFQQ+A7UEzgJeA/oCkAFJ/67+M/+c+rH9MfpO/B/6vvys/70AswUPAAwEhATUB4MJGgN1Auv7Hvxn+Jj2rPTB8af1mfQM99P0Zvr3+Rf87P0T/w8DmANLCNIGQwgxCZEHighXBFUGWwTNA4IBuP4kAkoA1gT6/hQCf/xXALYB6wM0Bfz9WwQx+83+ngCuBzQDBv+i9h320Pk9/JIBh//d/vn+YwFzA4IJtwcwCHcEegYEAF359/eS9kD2b/JZ8xHx0/I6+dD88AGs/7wCggImAk0G0wgZCtYMew0nDBMKnQy/DN0HLwLk/WH+NQFKBB8Ccv+KAT0GIApjBeMCRQEDA48EvQHgACj3ivTr8x0KMhq9BXIBH+6c7KvtLPhEBzL1vfks+6IPDhM3HFEbwQz4CeQEWwxH+M7xA91b2pbWzN5Z5zjhuOuK71EEzA32GuETrQ9VC7gOXhJ4C1MDhPcD84TwPP1r//D8hfZU+zkJbhOAGsYUPw64CysSVhIVCSr9zvfD9/X8Zfyp9VD0o/H++k8iDh8kCGfzreZN9TjuXwBM5q7gyOzrCWwotR3kIB8N0hceFLwZmvW53F3KM9G72gPU3txq1W/rWvkuGMEYYheQDpMYABwcF0kIU/Xr8C7vXf4o9yz3XvRPBU4UaSXmIRsexRcfE24V3AzRBmj7AP0k/pgEWP209DD5Bv6BB1sHtAe9+jIcVCIABiDwwNYm8v/l1fXd5LPqZf55GIgyGiFAJ7McWStWGhMNmOE/0zrIodK30RvIwdAJ2pb+HwZcFkES0CTmI18o8xZKBuLzRfHL9RDwze6e5b35BgY9GkwZAhvXHeYkIyX/G14Q/QjKCsgFmgC+9r/1QvnoAUj/CPtN9zT5rP71/g/+kPj/G/gILfYh4fHnMATZ6azr4tho/U4MDx9WHhUhRiDgHVMmOAmy9vXa4OIn1/TRW8Jmy7rVheh48Yb4TQFoDaAZShZNFcsJVBLfCGsH4Pd8+Jf4+/uI/Ov/dQKSA2QKQQ1RE+MQChVxEw0T/Q2tC4UKeAYV/cP5rPkY9XHxae8S9PzxWfCQ9G74qvwd/WUUQBaACiD8e/dYCQL5ivFA3/n1h/3G/j7/mATGFEoS6hkiDzwRC/2E/xP1Oe4/4RPZg9+23RDijeMo8vr74AJwA6kN9BYXHKEWvxXxFZUTjg73CBoGKQPS/uH6W/4WAi4C+f+wBN4KhwsvDLMOuA5cDs8KbgZ5AhkB2P0z+Hj4Nvog91T3LvrU/FP8Ifg4+Z34Z/lW+e74Qfw7/d/+nQD0/xT/Uf7i+9f8oPhL+GD6VvzX/Bj7YQCPAmUEdQL9AiICiv6v/CP6F/gA9XnzXPJA9lP5Dfo3+gsAkAXqBqMIKgrrC/cLCQ/GD1kQ7A+4EBwSCRKaEb4P4A8xDogNugzBClMHwgTDBCwBD/+z+hr5MviV9034TfdY+dr42/kl+nD5Y/gx+lb8c/zy/J/9AgFFAskDsQItAeUCOQHsACYAaf4c/S78rPs6+nv5Pvd9+r/6aPk8+/r7r/vt/U7/PQBQAksBRAKzAGMDKASxAY4BVwD6AC8ADgH4/+7/QwJ7AzkCswIyA04DSQTOBCEFdgVkBwcH0ga8CiUM9wptCkEKTAuVCS8KJAoKCZUIhQbOBr8FvgQPAm3/Yf5+/Oj7/PhL9kX4Lfmh+/P7Sfxq/ur9QP8+AF/+6f4a/hz+Lf26/Kf+TP4A/0z+sf83/0sBYwC9AdQA7gDAAlwAFwPnABADQQCMAjcArwGmADEBrAFmAwEEcgR8BI4EmgT3A3cDtgLCAeYC4wG2AOL/2v5M/nv9KP2S/D/8lP7y/kb/AQAFAFsA2gCAAOcAHQFeAeEBPQG2AJ4BAABdATcAVwDBAKX/igCLAGD/SwHg/v0AQwBq/isCRf78/tH/Xf7d/vv+Kf4MAC39mv1a/un7a/xZ/Pz7KP0l/HX+JP5C/W8Bbv9dAZgCRgLzA98DZwNNBT8DZwVqB8sErwgWBRoIzwdrBaUGHAXzBGkFOgT0BKcFxQTXCHsE6AjhB0oFIQr/A60E1QMQAAkDy/0n/90ANPsr/vL9Svrw/UD59voe+733KPk49vj5Bfh1+Ir7Tvbh+t748fbH+EX1o/qb92v3oP0O+Zr+if4y+sUFLPpy/5IDF/g/BMb6y//wAhz7Rwna/a8CSgT4+2YFuv81AEEBSAGCBjkByP3lB9r7kAcWABEBqgZ2/FAKoQDnA/YHKwIRBQMDSv2XB2j7AgYJBN8CiQvg/2ULZgTEAbAKdf4MBoUEV//aCaP8cAuVAS4FbwbKADYJTf44BhoE2P+0BOj/UwR5/4QAjwPd/dQBZ/xmAVX8sAAbAhb72wVP/3f/gf/8/Ur/yPdHAZ36Lfx3ATv63ANy++MB6wCP/VkD1vuuAqv8B/7VAcn8pgGB/2f/2gFb/kgBwf5u/ZD/CfxH/3v/J/9eBMP/AAZ3AxkG/AScA+QH3v3TCW37awb1/jEA5QRA+MgMz/VWBWYAVvpjBEn5nQBq+pX6+/419qD+mfsj+kH/9fejABT5evsq/V/5mP+Z9uYArftc/Mr9ZABp/cX7jQUJ+c4C7v/5AMQA/ACLBkn7pAs8/zkF1wW8AycG1f9DCqj9sgEpBnH7FwN9/av+mAAa+vABiPolBTX5vQG+AwX2Yw4H89QN6PmrCVcEzvpAFI/rLBIb880BT/wM+S0GTO8XD770JQUPBRn7XxOE9OkPjAkz/nQUtQW0CN8Phf5VFLn7kQhiCeT3QQ5x9roIhvlZBLf+kPm4CUb0hwfF928DT/vK+SEGDvNmCqb3eQKoBvv5cQpP+WwIX/3l/KMH4vWfCofz7QtT+YH+Cwwg71YZ+upjFTH6NPzFE8/pIhoT8I8F7AkW714SVewAD473tvluEhbkoBqk6qMGJ/9a8AAP7uOFDX7y+fibAsDqpA7U5wUDcQQN8UERuuzdFV7uVQcsC87tjRFb80wPhfCJEWn5DwJ7Bk79lAFpAggCWfgmD1/yywtf/JIIp/gnC9sBAP0fCyT7bQkX+TENW/anBwsC8vqOBJr9JAfS92AEjAjh8XENQ/nF/E4Ii+1HFazppAth/pT4Hwna8mMOZe3DCKD6Bfr+Awf3MQev+g0ACgMe/KEBy/uUAXz8uPmEBCP50f0O/4T83vzf/mr9/vwhB9XygAx8+NQCeAJz/cYH+fbsDdvvMRAr81j/JAZY6/gQpOQfFgzrGACbEjLdaSKU4awVi/GU++cSrOCRIBToHQoaCY/xMRRh9DUN2v1uAFgHPPgwDvDzLAkZA1382wkz/bgKw/tsCYEAVf0LCVz33wWP/zUCU/9AAPgIyPrpBbsCNwKYAu7/fQQY/4gE+f4KAwEDGf9z+9oEMfd8/XP1Xv9W9rXxYgjV6zAOufB/D779RfxxEXvxeBMZ70YKgv+D94ELiPKyDWnwJAlR/WvzvQ2K75QL+vuIAygElf1eDpj3JQ1hAEoFmgORAfQJqf0GCYIBOQy6AZYJFwmmBcQFaAN5CYsBLgMGBoz/a/06AVH99v9i+0QErvywAyIErwEvCmgBNQ7u/2oIZAj++kcM6Pd9CPX3nwCdAqX1lgcg9c0HCvQJALH8W/RC/3HuuwKx7tP/bfc0+4v+u/h6Ahz4aQet8g8GFfti+4T/lvwRBEzzMglg+fD8v/36/ez+9veJAjz/T/ukA50ALgEMAWMExgFfAOUHbP5jBx4CzQUSAX4DrwGZ/VYC+P3dACX/BgXwAogHPgQHCAcFvwPNBCkAIQMb/8cAogDq/sICGPsQBQn6PwKL+Tb+QP+h9agH4/YIBVT92P8fAeb4hwFi+SD7y/tM99T8sfds/kL5e/8NATL90wBzATgBfvmXBPj3Tv4r+wH67v2V+uQBev3NAmwCr/+8BsT9JgXBABkC5ATo/iQIBv/yB7ABGAXoA+MA5ABJ/Cz+rflE+fv7K/mg/Of+zAJ/A6EFfwiPBekHVwXLBNsCU/+qAMT8vv3v/bT7HP4/+c3/v/gv/K/6hvrZ+x/5Mv+9+cv/q/spAJv8F/4B/kL8Y/+3+VIACPl+/gD8e/o//0L6EwEc/DECff/hANUEgAAzBAMDuQPkBKYEGgckBF4GcQT3A8L+iP7M/HT6Cf0u/PT9wf5KBAEC/gX2BgEFdQO6AkkBrP+Z/oz9/v4nAPQBawTsB1EJSQnkCxYKFArTCLEFQgb9AUcCc/4eAMP8Cf6n/ub9ov8w/Bb+//lq/Q382P1eAKgByARgBWEIewbaBn0GmAOoAvsAg/72/EL7c/pi+dH6Jfvi+3L+8P9NAXQCyAJhAk8C3ACg/yUBzv2V/uf8G/0O+fX5fPuR/OH/vwEHBmIIDwpcCv0JaQgDB7gF0QNUAvEAJwGVAWMDHAdcCYQKggqoCcsJXQfUBD0Bif1S8QLqaOYs4vrgMOGI5fPqJ/I8+ScHTg49FAAZ4BtSGiEY+BR0D1kKCARZ/yz7JPvz+NL8M//2AXoGnQc6CisIvwn3A9T9ePrU7dbtOuhl7FfwTvuBBj8O7xt/IOMj+CSBI/AcRxN1A6D4e+wS4EXXhtWv0t3SANhO3M/iU+mX8YT5pwKSCG4O4hOMFlkblBvpFoURmQwvB7EBsAAY/179GgQKA2ECiAMYCvEHvANFBbHz7PYB5NXgy9s93ajs4vFxAxcIMRmTJE0shDA4KA8e5AsG/hDskNsD0eXI0ct6zHrUf91a7Ij4FgSdDaEV5hi1FF8TqQwRBx7/A/i187j0x/Rq+Lz/cwN9C4gSlBYfGm4YwxPODgQKDPne7lzmv+Gf4lTjaOxM+VALWxOnJIQqZS4mL0UpSiCkDgcED+8y4QTTucurygbLy9QX317rqfVkBuUWBRCAHK4gDyLzHgIgnBmlEpcRCgqGCigBvf7i9WX75/yN/90OhwYYCLwHYwJZ+C/3WvL46SrzkvWG/PYJGROaFlYd8iKqHKIdihY0CnYBo/aX4/batdVKy6nMjNBcz3bW3uLx6gT0+/95BwkQ2xTDGb0ciCAjGS8V/BHBCL4ITAJi//b33wJw93/1Mwv3/wX6ZQJL/dP2Qvq69+PwYgAm/cD3KwfLDD4OkxQ6IC8X7xzaGsQO1A5LBBT4gOyH5gzXzNVR2MTMsNh84w/oje0j/XP/UAeKFlsPjBdYHLgUWBANEVoIFQLMBbb9Egg+Bdz4eAesCfz5L/xLCqn0ZPAo+prv3fFq+Xj8egEuETsRcBj1KdggdiDlIn8bqQuQBkH+ZO3r6C/fwNnd1rLV5tQh3X3h8eXI8/n79AD0CgcTLRXiHbMe9RlXGAITaQn0CX0EXP04/S392QYDBFL30wX4BkL2rPVt/QHwquhP+7v+UQfYDKUTrB0EJa4edB61IS0WYw3gCtf87O4P7ZHjDdzP2izcTdt+5/Xmxuqz+aD9Nv5yCQ8SCg9MFYgWaBVgEwoUQQ2vCxAJ+QIn/Jf9zgcq81cA3QNs8TbvX/lU9S7o3flu/f7+igmuD5IZjh1tIBMhFCMeGcMQShCvA/r0x+6o6M/fu9zc2DDZstu84HnlR+6d9mb91gg6DL4T0RihGCAX3BROGPcNqw5SCyAMtQMwAWQX7vqO+VkF7/dK5OfvmPkh4v34Rfv2/BYJ9Q9HEzYe3CG1GaQlVCEMEM8NGwv89CXx9+oL4JneAN8K3N/cpeVi5ibss/ST+hEChwUkCkUPGRCVD6kPthIdCcwKUAbGCRMI/fkhE0b74PXaFNAGWO/s87j+Nub87Tv9X/O+/+kLyA8QGJAf/h3FHi4hVxHXDIMHmfeD9HLrDN8n3Gze7tbj1Kzfj9kG5K3pIvMS+YD/1ggJCWIYFQ50FWoV/xQFDmkMdA/uCQwG/QmREFP1ZQo+CWrvOPvX/ODreurY/Nf0SfifDbcMFxIDHpkezSCbHagalRE+DN7/W/nx8yHkw+T13VLaRdgg3w7eluRt8Pbw6fh0AooDiQbXC8cOKw3yC6IP8AdLCS4HFgMTA6ACtg3d/OMFTQkS/Db9ZQIB9m3yUv8p/bH+Ew2rEAoPTyNmHtkiwCLxH8YUYhAaCFD56fZu5+flMuG73gPfvuVr6OPpnPrX9gT7ZAdK/Pr/xQTZAiUA/gE+BkT9DwON/43+2/z3+60EuPkcAGkFzv0r8uUDLftK7E78HPt69rwBag8xCdAVZxzKGfkb/BsjE9UOrQyEAJn+pvjW9OrvG/Ao7q7uQu8M7hf4KfO+9wT+gP6V/DUDlgYf/LUGXQU2/hQCPwCW+mH5mfYL/IL4I/Qe+rT65vMW9mb6AvEp9EP5XvYo+ocCGAPMBawS8xEkE+oXvhIvD6oOQgryBNIC5f9596f57/WV93L6HfXf+8r9hPhW+6IDAfqW/d0GZwKyAbEFEQfQAsMHS/4aAzAD8//wB7IATQXPAeQAfvvj+7D5uvHD9wD12/WG9/j9mPknAN4ELwGZBz8ICAhdCEQKjgYGBbcFEPtH+3v7TvRR+lL2I/cF+SD6tPkT/KEBsPnA/wMAz/zz/on+zv8P/hkASv/SA/UC7wOuBzsFyQQBBQYDdf76/936f/nc+yz6U/fx/YX9fPkWBf8CHQFRBqkHuQSdBlMI5gN5Bef/Pf5a/yH77P0n+0f8/fqa/P/9hfdV/3n68fxa/hn+UwCN/+0AvgAhAjQEMgIKBX8FgAJOBfMAvQFq/2r9rf2x/Pv79PyQ/d/9D/6yArn/ZQKiBiIFPwZwByoJwgbICDoHSgVqBIsB1/4Y/Q77Qfol+ir5Uvk9+pT4oveZ+oH2A/cU+f/42/hD+Z78KfwP/ZP+5P1ZAJf9GgA6ANb9d/9O/Dj7fftS+uP6j/ob/Qj8lfw9ANT9HQHzAKoArQG/AWsCJwFOAysBjP+8/1f9ov33/Ur8t/2v/db9y/2K/0L9Qf4xAeb+bv+NAF0CR/5GAxgBeALXA6IBjwRXAlgDTQKZArUBDwKOAbkBSwH0AJAAW//f/2r+jP87AN4BdATLBKMF5AacB9sFawRaBXcBCP/H/hT9hfwl/Ef7ZvwA/bD8uv7rAVgATAKWBOAD3wKABvIDkwJsB5MDrwSCBloH7ALABwQD+wN4BaUB+QGRA9IB9/5uArr+ZgDa/2IAQASeBNsFbwVVBg0EPgPSAZP+QPz++K74yPZA97X4+PeP+o761/vK/qX7hP7T/mL+Fv/u/mEB+/1SAt7/dQGTBPAAjwPPA+ABuwFzAhQAHwB0AB0AagCMAkT+R/4D/bX5ffi3+bT9Rf9VA4ADRgarBdIFOwUXAw8EjwD7Ab3/svyS/J331/bg9Ofx7vHs8azz3PXn9rL5kvsy/Dr/g/5ZABT+wv1O/oz+Qv4I/r7/PAALAMYA2AMbAkIE8AO8BQcHTQB8AugB1/of+cj50PmS+L783P5t/9wDrQTzBb0EWAXkAVcA+P2q+hP4e/aA9OTz2PMc83z0D/bM+Mf5h/zn/S//ZwAk/on/1v9uAcUAuQL4BNQCYwnbAysEaQkiBE0FOQnxCk4KNwsnC0cH2wStAuf7yf2A++b4QPy9+mL+zP13BJcHcwmaC2gLBgwyCusGQAR2/3/6Avne9Zv0gPbE9Uz23/g9+NP4Y/ew+Nv18fZX9532UfjH9zP6ZPpF/Kj+vACvAj4FQAdUBiwJMQr4CE0HSAeCA/wB+AEcAOX7oPuk/Fj6Avzi/XMAcgGYBVEHNgZ+Bw8IIgMQAdz9oPp0+MX0jvQY8Xnzf/Lp81H42vo3/JD+SQHZAMsCSQPGAl8CXAICAooGdwVTCLUJ7Ac3CnMJwwggCRAJZAdwBpYH7wRtAu0BZP6K+vX2w/XK9E/17/fN+5n+xgHnBZEGrwf0CVEJQQeRCG8HaQMXA4L9kfoA+6D7kvoa/+sDywNGCBYL3weICBsJIgKC/rD6avW+8K/uvOo76tHrIOwo8BDxJ/Tr+3L75AEgB0ME6QiICaUIEQirBzIHNwbJBocCMQJdANL6HPmc+Hz3GfsQ/mD9xQE3BEwDiATRB0MHIQVUBroG5v8D/23/F/kg+ij5KPWU9Or00/F68mP2avVt9lT6Sfss/JYAYgOIA+YF3gjfCC0MrQ6QD18SpBIAE0gSLBFKD7cMwQisBmcDEACZ/7H9Qf5T/Kb3zPp2+2T5u/vT+578U//+A68E2gaUC+kLMA15DnsLLAnwBioE6gGM/yv+9/mn9y70Z/Eh8ZnusPBU8rPwVPSF9qL3efu1/BX/fgAQBKIEJgZqB/AHQwpqCggO4g5ZDjUOBwxlCWcF3gFL/gD6kfVJ9AXyxPDw8OXxe/M89jz5gPgr/Zr9PfsNAAgDDgWGBk0IWQrjCrUNzg9YDkkP6Q2GCugITwffAs7/zf05/Pv5AvmE+Ov0hfaz95L2F/jK9yP5WfoG+lj9x/0S/mEDlQQ8BygMUw7HDxgUAxRQEzUTnA9YDQcLfwZDAsz/Y/zu95H3hfU79BP2i/ZT+OP6B/2c/Zn+0v+n/2IBHQCr//QAPv91AFQB3wG0AZcCiwOdA/gD0AEvAsn/Kv3d/M36VfrT+Wf4lPeV98L39fjx+rL7Tv76/xMCrARtBfIGTQgMCzMKoAxUDTAMIw4NDQQMTguICmcJtwnyBYwFuQTRAREBDf6p/vb8xvzJ/Tz7yfrl+jT5VPpE+gP6w/sV+vn6lPuh+nD6Dvls+ZT57vof/N/9Rv/p/yQAxALyARACjQK5APn/aP53/ej71/vv95j4Qfex9iv4hvde+Kn20/eX+N/4/Pml/ND+4gCKAUsBpALgBPwEHAfzBo4EywaXBQUF/wVyBAEExwSsAmACFQH8/Qj9XP2E+5X8NPy6+g/7v/j7+fH4wvkJ+t354vkp+vn4/vjj+Qn71/t//Gv+b/5b/4UA6gFWAAkBVACL/hP/tP0Y/Lf8Uvx2/Ab7qPti+hz6KvuA+SD7SPx5/I79LAC8ACIClwTzBq4HVgkCC00L1wzXDXUNiA0vDZ0M4Q15C7UJvAgdCO4FWwQmBHECkgHt//H9iP7d/V37//r0+o37HfwR/h//I/9l/ln/rAB2/2wAYQFNAUYBmgBfAboBHAGfAVIA5v8AADH/7vwW+xX7uvpz+j36+/gF9/L38fgl+IT5efpL+m/8Uf0H/1QBjgJlBNcF8AanB1kJVwkuCwcMSAuzC6wLaApCCawJBQhkB9wFQASGBAsEjALUAKX/5f4C/9n9Vf54/hr+hP/F/kH+tv0F/uz+yv6S/0f+2f3y/tD+oP59/lD+//5//5v/pP8c/+AA7wFdAakB2gCLAHYAZ//C/dj8SPwf+0n6sPlh+YX6lfue+4r7vvxR/dD+YAHoAQICvwHGAv8CIQTOBAsI0wlVCosKSgp/CmULogt3CeEIIwc3BZ8D7QGTALb+8/2o+876Hvog+9n5Z/ck+Ab3GPek9zP3tvcy+Ez5ofpN+ir7+/sx/lP/fv+iADv/OwBbAsACZAOPA7UC7AI5AhIAgP/P/Gb6rvlR+PL2NvWg9W73lfh6+jf8Cv/YAF8DFwYhB9oIEAp6CzwL6AsRDM8K5wvACy8M4Qu7CrYJDwl9CF0GowWJA38ClQCy/nr81/og+Q343vfp9o721PZ79lX2f/dx+EL5l/rT+hL7z/wq/XMAFQLPApcFUgdfCvUKvQqVCXAHIQTmAOH9cvux+a33SPjM+Oz6RPzQ/UL/UABrAU8BWgFeAOj/VgB6AZ4BNgJAAkoDxwPFAywEUAQxBSIF3AS6A2sE1ANYBmYEvQLXAFEBnQphBxAHmPgV7GjoEuwz7GToQux69/0LVBkRIdUm4yi+KNAhDxjgBUzxeN830THKub4TuXu84shh1YbiKfI1/0oMwBo5Ig0fARk6FXwTyg1XBcz6IfEh8Gf0f/d89l365ALYDEEVFhi2G80V1xPRDa8bYyRYCrn0EuU96arfCuM14CLa/+2ZCqEo7C7PN6E9XkOvPIAuXBG99tziFNIMx1Wzu7ACsm3JPdjq6AH7Zg25JUs0fUH3PEQwjR5tEGoDbe+C30TR79GF2mHt+/5YDVAefixnNCw2py0qIZ0SYwzv/wH4mAmY/iDjtdXU2F/Y0dzj7b7nBvrVGJE1lUflQ35JDzsiNzkl+QSg5vLG4cCdu3G9dr5UvynRceayA5QVJyHGJIsktSvXIx0VfACU7j7kNt8B36jaANvF6lMDYRiqKOUxEzThNMctdiPLDrH/E/C55ffe2d0fADYBQPsW89fppvM28+0IyPnt/0YLzhzHNOcx8zRCHRUfJxJQBE/xGtK+wwS/FMuCz+7dLuQA8GMIGhktJ7ceJxcyE+4GBwEr7HrhatF41yfoLOyT+nj9UBOvH24xly/oI0geTA+WDikG0Ppf7jPdeej64BP6XB/U/u3+YOaO69Ph7fMX/HPkdQKGB98maC77PBMs9xlMHcgNDPeu3+HKorOquh/H6NL/3c7wZf5xDhwl4ytXJaIY3A6m+oHsdOj72rbWFNhU49DsBAANEZYXqSWmJkEodx3iFxQIi/+M/aTve+sy6jztkeF9E+4YnRGWCXbrAuM11mv6Kuhm90wAxQUWIO43VEyOM4c1ERnnBpr2ceti0MG5yr4muDrOSuYT/QEHCRfDIqkjxypEKDUVL/3c7O3Y19kG4Rrnt+tm9bgFMBUsLe0zfzATJn8Z6g+ACMsG1PsU8PPrkus85HwOgBmcECcN0Ojn1vXMO++878H/uQw+CU0iFjNdUbtCFT/bHQf5fug81f7MRcCwxMi7Ms3h5dj/GRkdJp4pRSBsG1sUSwga/srv+NuC2LHXV+Jl72r+VQukFP0h2SeoLHYnpR66DtoDI/se9XbyI/J07+nssg2rEJgVAgxy7hLedtAL4GfhTQWWDHwRPiOaKRc7oTfkO3YgOArW7C7RB8v8xCPMFs3/19zfuexXAtEWPCdwLTkmVhcvCIv9X/Ip7YrnCt793hXfo+hn9iMLDRveIwMtHCe/IBAYFg+aB0sAhfNm7ALnZu9qAXQLcxCY93vrgtfG2YLgLvHmC1cPJCQ5IrgrKyiwLKsqQhs0DpnrpNmpxDXF2cNQ0S7e9eOE9XP/ThEDHGkmhCdUIa8UIANP9I3qFOZt6OPqQuyt7/XyhvtEB5EW1R63JTYmqCAkGWENEwUM+tP1h+9B8HD5OPuPBB78wvzr8Z3puu2O7DX6FAGNEgYYoh1TIsYepR68Fv4T7AY9/tHzNOYD3+rV9tU/11DhV+nV8or9jf+dB8YJEQ6CD2MPBhCzCsAIrAEK/bz4TPRL8zn0+/dt/GAEXQuwELQVRBaCFI0PJAv6BKYAMAVlAK8FrQFN+Vf0Mujr56LkNu419SoCFw5JFH0dlxw4IDEfPR0sGJENpQRl85PnjNyC1czT2tTB2NDcdOZY72L5UQOwCB0NPA/TDkMRRhJBESkMeQYa/534AvaO9h78YwKWB9MMlw4EEZwQNRCDECYM2g4iCrUHoAPV9UruFuNl4K7cI+Mb7NX3/Ag0EgccgyBDINweBBxPGRcRLwif/XHuf+Tp2S7YAdm93kTmsOod9Ff7GAePENAXkBy9GwUZqxOCDXkGagBx+4j20fSo8QP1z/cc/ykG6gv+E9gVwRXAE5oOsgobC54DNgWF/f311O0e4XPdcdyB5y/wxAMJFGcd9iHNIhwgxxp3GVcQBwli/WXynuYa20PVmNHR1lzfeekA9ij/fwYeDpAT7hgFHb0c1xgsE6cK1ADk+Mbw7exU7PLvjPeRAAwK1Q8mFkIT4hPlEdsOrQskCeMIUQOQA9j48PN4583di9nb27jotPHRC4YW4iU2K14qNiknIekdKhMtCk39hu4G4jnYp9F8z7jWFN+K6vr25/4VCC0MhhGtEzAUhxQKEywQCgl9ALn24u366hDpeO1h9y4CRQ+nFi8dJB0WGMQL2whl/zX/LwTi+7cGZvWN7Xvd0dTW0uLZo/SYA2MjfyypOEQ3zjMZKlYddBLD+6TqRtXuxq3Am8JVzk/cke4H/TYKlBL3FGAYZRb/FgwT2wm6/VDsP+MC2+reB+qx9Z0CNguCEhUZoiFWI1oh2B5rFCQLnf3Z8aDpAucN/B7+cw2bCC75YfFx3tfmY+Bf9oEDKxm9LIYwHjqwLGUkKRKuBkr5QusT3y7OwsljyDfZXeqe/cwQYhWGGmEWSBVLEykO2AYH+o/tFeGX2qPh3e0vAYgPWxelHGIevB+fHrEbRBW8Co8CBPms9pT2T/ar/V4FzAwQCKQHLf+M7C/kE9I21xHbOeqL/8wVmyvOMMg9xTT6M0En7hcoApfoqtfJxdrCicNc0EbhevBJAQoO6BftGj0d4hszE3IKw/pj7CrhTNd93qHpCPtnCAwT9xglHS0hZCJ2IPcYNQ7sBEf6KvPi72vsNvHZ7mz9vgjUCmcN5v1R9s/hLeW54r7svAA5CHci4iADKosmkSOtHUQSWQom9SrsMtks0jDLactP1evfD/Go/d4K4hRiGbAbNhnOFBEMVQEf90Dvx+xb7unzr/nx/ScDDQVoC9cO/BTyGrYaxBbHD7AHXwMd+zL3YfJy6anyuO0f9Avu0uzR6pXraPle/5ATkBp3JeAoYyiwJ/ogbRpwDPH+ae5S5MXVvMq1x5DKHNUz5O/yngBkCjYQRBNaFeAUMRGbCpv/4vbI7sbrc/Nf9S/8qP2oAfoDuwelD9QSnBv+FHgZgRh3FQYRmwQY/NjxWuh45BHq6Of27Jrqm+2s7zL3nwUHEFgiAyiRMM0zRS5FIgMPHf2D7t7kGtsP153Ozcq4z4jZGeq/+UAG1g8JEm4SVRLOEIwNugZpANH4b/PK76HxTPR9/LUAcgUACoAOARV8GfYbwxrIFMYQQAzHBxABZvv69efxd/DK78rymvOj8p3zNO4e7Bno5ufE76/5TRSsJFUxKDUzMMAjFRSQBGH0BeUR1njMssYlxq3MxNc+5NnwePiNAvMCtAp2ELcTFhZID0sLiANu/yf8kPf0+N35Pf64ASYESwcMCGYKPw0kBH0IEwsoCtcJUQYNA2MCeP8i/Gj2tO9U8L3s1u5B6+7oDum95hrw1PW9AtEQUxpVI2kmYyVgI08d+BWTC4X8j/Gw477daNcW05zWk9ip5W3rQvSk/X8C4QjjDBcO2RK+D5oMZQzrBLkEzP4y/XT8ivet9+zzifOL8kT3DgFcCPkOFhUZFpEXJhTrD8IIewIb/oH68/gc+WH4gvv3/4YF6AXqAy4BKP55+S357Pb/+k7+BAKIBHIGkQ2IEUYUGxbaEY8ObQZ//CfzIug94XHb19d32U7bL+E36Dzwdf2aBJQMThEKFNAVDBRAEukOKwtjBsMDiv+f/zH/TQEwBLcFVAngCekGbAaDBGQDawBi/V37Bfi89nb0gvQF9dDzbfRX9Zf2b/ml+nD7Bftt9qX2o/SQ9VD26/c9+6D7e/5d/wUAHwJGA3YFsAaWB10IwAcGB+0EPgDD+0H3SvNH8PPt9ewA7Rnu3PCA71Ty5/Ta91/7Bv3C/ysBswIqBScI9wkECYMIqAlhB3kIUQY8BrMGTAZjCQgJ6AmDCC0HJQVZA3kABv9F+9r5GfqK+AT6A/nl+sT7yPuD/HX5FPpj+oj60/q++nX7JPzm/KT/VwCCA8EF/QYtCQ0KZAobCpsIMQdlAv3/L//s/AP9LvyA/Mb8hfsR/Pj5Kvr8+fj64/uT/uMAuQQiCLkLDQ1WDl0PzA/RDwwP0g1QDAkLtQk2B5EFhgOoAY4A1v4t/nD8F/u6+v/46vr7+F76zvoJ+i38bflF+835jPpK/WH8eP/t/8MBPgQhBJgGmgZRBnwFUAUqBdYDDwMfAZQAMP/M/d761vnZ+ID31vV79Dr07POk9B711fXz96/4M/sL+1H9DP8TACkCkv8MAlwA9AFFAfoA7wIdArEFfQTQBq8E3gV8BqIFGgakBN4E8wPgA9YDZQQeA9ABsgAGAP/+4f13/LP6rPgv9CvySfFH8Dbw8vAI8uH0wPUI+c385v/HAaoCXwQKBnIGnQa6BBYDhgF3/4T/AP1A/RD82Pua+976I/tj/HL86/w9/YX+NP9s/7//w/9vAJ3+C/5R/sH8Y/xz+4f6mPqk+Yj5+vZh9zj58flJ+0j8ePwp/kX+TP8JACQACQDE//b/bf/EAIoA4QGeAikC4QXDBfEI2wlOCqILjQr7CqUJ2QcjBZcDygErAUkAE/9f/kX9qvxN+Ub51vmE+278V/5F/87/gwC9/5f/e/99/2cAsf+LADEAFQDVAPD+1/1m/fH7Cf0B+5j7J/sB+3/7lfqZ+mb7J/vP/HT8Xv7i/jgAXQFSAhECSwMtBFEF7QVzBn4GCgZ2BX0E4AHjAfkBVALLAowC2gJ7AgsDvQKoA8cCMQNQAnADzgLmAhEDdAFRAy0DbwTUA8cDBgSnA7cDEAQBBCIFqQShBBsEigNUA6wCeALdARMBDwDQ+2r6Efm+91L2s/XM9D/0rPNU84z0EfRD9K/zCfRe9Z/1Jvdh9yH4C/iu+E/6GvuQ/C/+u/8nAvEDEwYeB4MIVgrBC84MNQ5vDuYOVw6tDcsMaAvPCR0INAY0BPgByf+L/XX7ufZG9efz4/NH81f0KvWH9o339/ea+0j8u/3C/ZP+b/8k/6v/4/5G/rP9AP0U/+79Pv5x/S78+Pt3+9b6RPiP9rj1SfVG9L3zpfMh9bn2M/jx+b/7YP3q/j8AlAEsAxME4QTaBQcGlweRCE8J8AkVCwMMiA20Dv8Oxw6iDdYMnQvwCQwI7Aa7BYEE4ALaAtsCiAKHAqwCeQJXA9kDTASABOQDDwMnAw4ESQUlBs8GcweSCBcJ9wfvBvsF8AWaBKkC9v8p/V/7Tvj48pruROr55yPm4OQM5ATk2eVk6Ort3fJv9+L8AQAvAt8DDQUOCU8J/AdfCO0JXA3SDaYNsA3jDtcPqw88DsYNWg3UDGYM0gr2CPIFDQP+/6f9vfpD9/X0RvIF8bXxwPJY9Rv1rPhb+YH6g/zhALD/HAAUANkB4QVhB6AKFAV/BpwFcwWNAhf9Ff0S+tj3PPUG83Pw8u6I7inu8fAr87f1RPM99uX59PwW/tb9Sf5IAJ8CJgXjCIAK+ArjDJwOuw/vD8kPnxE9EY4TgBGiECQQQhAAD9kLVgfFBHkDRgEe/wz76ffN96v20vZs9133ivms98T7KgBSAOn5JPfw+MD7K/52ACwDxAXsCCUKTgufB8wC0fyG91ryje1k6R3kI+Lo4o7lEunw7Z3zYvoMBCwHJAlcCkgMJgx8CsYJLAmWCewLiw0kDXYM0wzJDxUTXhR7FT4VSBNaEjAQCQ2GCkEHigOFAKT9Ivtf+ib5Pvo8/BD5Jfph+Wj0d/el/h8AYPc883vwhPTQ+2D/KAJjCzcQPRUkF0UPAAn7AOb8aPLB6DPhAdwB3irhk+UK6d/tV/XZ/dgEdAnuCeYHNgi9CLwH1wV9BHsFaQnHDTkQvRD7ESMUvBYEF9cUERKDEK4OIAw+DOALBQthCqYHBgSTAI/+HQVjAof7J/pD9nv3fvvX/tH2M/DP8Tjy9/Ou9j36IP6PBeYQPhUPEpUONQquAe35je6a4Y7apdiI2WfdjeEf5e3txvrUAw0I5gk4CjUKnwlXB/EDnQORBYAGRgeDCDYLexC0FNQUjxNMEu0RoBR6EyQOmwj/BXgEvAKfAW8Ayf9d/bj+bgX+//n2LfQo98j7u/yl/CX2MOwT6Nvp5PCd+U0BjAjrEWUaXxskFuENiQGx9lruD+Xh2yHVKtZI2+3k7+2D9DD9JwSqB8kITQUYAmEAgf8B/U381P3YA8EMrhLeF1oZ0Rv6H8UfDhodEnILZwfrBKsAtP4s/Sf/7gSSB+AHGASNAcQEuwTGA2sAOPz69gzuYuPW3Pfj6vFbAGsMURawHlwljCalILQQzv397tXiNtlBzzHOwtMW3j7pI/Op+nT/wwXMCSsHCf9d903ytfCh87j4OP5bBbIOLhi9Hl0gdRwwFhoQ8wtVCF8EZgGi/gH/KQLeBSkIHgtWC+sKOgc5CKYCLfhY/sIE/Aek807c29SG3uTvOvtLDSUXNiIqMlI3gzDiGsUCL++S4IXUfsq7xYnKlts97jr+LQlmDBYLJQdDAE32U+zZ5o7m2esJ9RQB/gs+FTkffCOjH6QYJBLuCWIFKgQSA4cDjAbaCggN5A9HDo0M1wobC8kCXf548Tz0RBHrCPn5kNyKy+LFTufJBksL8hMyGAck3y4QOnEieAK85UXWYNDf08vRdNIm3Q/piP0aDnMS1gev+Uns6OZG6S7nLOFI5+LyqAOJFdAglh9EGFgRzApHBQ==\" type=\"audio/wav\" />\n",
       "                    Your browser does not support the audio element.\n",
       "                </audio>\n",
       "              "
      ],
      "text/plain": [
       "<IPython.lib.display.Audio object>"
      ]
     },
     "execution_count": 29,
     "metadata": {},
     "output_type": "execute_result"
    }
   ],
   "source": [
    "Audio(new_seg2, rate = new_sr)"
   ]
  },
  {
   "cell_type": "code",
   "execution_count": 3,
   "metadata": {},
   "outputs": [],
   "source": [
    "def chop_chunk(signal):\n",
    "    signal_len = signal.shape[-1]\n",
    "    if signal_len < 16000:\n",
    "        padding = np.zeros(16000-len(signal))\n",
    "        signal = np.cat((signal, padding))\n",
    "    N_fr=signal_len//wlen\n",
    "    chunks = []\n",
    "    for i in range(N_fr):\n",
    "        chunks.append(signal[i*wlen:(i+1)*wlen])\n",
    "    return chunks\n",
    "\n",
    "class ChunkSet(torch.utils.data.Dataset):\n",
    "    def __init__(self, csv, mode='train'):\n",
    "        super().__init__()\n",
    "        self.csv = pd.read_csv(csv)\n",
    "        self.speakers = list(set(self.csv['first_speaker']))\n",
    "        self.speakers.sort()\n",
    "        self.spkr2idx = {spkr:i for i, spkr in enumerate(self.speakers)}\n",
    "        self.mode = mode\n",
    "    def __len__(self):\n",
    "        return len(self.csv)\n",
    "    def __getitem__(self, idx):\n",
    "        row = self.csv.iloc[idx]\n",
    "        spkr1, spkr2 = row['first_speaker'], row['second_speaker']\n",
    "        sig1, sig2 = np.load(row['first_file']), np.load(row['second_file'])\n",
    "        chunk1, chunk2 = chop_chunk(sig1), chop_chunk(sig2)\n",
    "        target_vec = np.zeros(len(self.speakers))\n",
    "        target_vec[self.spkr2idx[spkr1]] = 1\n",
    "        target_vec[self.spkr2idx[spkr2]] = 1\n",
    "        if self.mode == 'val':\n",
    "            return np.array(chunk1), np.array(chunk2), target_vec\n",
    "        if self.mode == 'train':\n",
    "            return chunk1[np.random.randint(len(chunk1))], chunk2[np.random.randint(len(chunk2))], target_vec\n",
    "\n",
    "chunkset_train = ChunkSet('overlay-train.csv', mode = 'train')\n",
    "chunkset_val = ChunkSet('overlay-val.csv', mode = 'val')\n",
    "chunkset_test = ChunkSet('overlay-test.csv', mode = 'val')"
   ]
  },
  {
   "cell_type": "code",
   "execution_count": 4,
   "metadata": {},
   "outputs": [],
   "source": [
    "def find_max2(tensor):\n",
    "    array = tensor.cpu().detach().numpy()\n",
    "    max2 = []\n",
    "    for row in array:\n",
    "        max2.append(np.argsort(row)[::-1][:2])\n",
    "    return np.array(max2)\n",
    "\n",
    "def compute_corrects(tensor1, tensor2):\n",
    "    max_1, max_2 = find_max2(tensor1), find_max2(tensor2)\n",
    "    batch_size = max_1.shape[0]\n",
    "    batch_corrects = 0\n",
    "    for i in range(batch_size):\n",
    "        if Counter(max_1[i])==Counter(max_2[i]):\n",
    "            batch_corrects+=1\n",
    "    return batch_corrects"
   ]
  },
  {
   "cell_type": "code",
   "execution_count": 5,
   "metadata": {},
   "outputs": [
    {
     "name": "stdout",
     "output_type": "stream",
     "text": [
      "load model\n"
     ]
    }
   ],
   "source": [
    "fs=new_sr\n",
    "cw_len=200\n",
    "cw_shift=10\n",
    "\n",
    "wlen=int(fs*cw_len/1000.00)\n",
    "#wshift=int(fs*cw_shift/1000.00)\n",
    "\n",
    "\n",
    "\n",
    "\n",
    "class MixedClassifier(nn.Module):\n",
    "    def __init__(self):\n",
    "        super().__init__()\n",
    "        cnn_arch = {\n",
    "                'input_dim':wlen,\n",
    "                'fs':fs,\n",
    "                'cnn_N_filt':[80,60,60],\n",
    "                'cnn_len_filt':[251,5,5],\n",
    "                'cnn_max_pool_len':[3,3,3],\n",
    "                'cnn_use_laynorm_inp':True,\n",
    "                'cnn_use_batchnorm_inp':False,\n",
    "                'cnn_use_laynorm':[True,True,True],\n",
    "                'cnn_use_batchnorm':[False,False,False],\n",
    "                'cnn_act':['leaky_relu','leaky_relu','leaky_relu'],\n",
    "                'cnn_drop':[0.0,0.0,0.0]\n",
    "                }\n",
    "        self.cnn_net = SincNet(cnn_arch)\n",
    "\n",
    "        dnn1_arch = {'input_dim': self.cnn_net.out_dim,\n",
    "                  'fc_lay': [2048,2048,2048],\n",
    "                  'fc_drop': [0.0,0.0,0.0], \n",
    "                  'fc_use_batchnorm': [True,True,True],\n",
    "                  'fc_use_laynorm': [False,False,False],\n",
    "                  'fc_use_laynorm_inp': False,\n",
    "                  'fc_use_batchnorm_inp': False,\n",
    "                  'fc_act': ['leaky_relu','leaky_relu','leaky_relu']\n",
    "                  }\n",
    "        self.dnn1 = MLP(dnn1_arch)\n",
    "\n",
    "\n",
    "        dnn2_arch = {'input_dim':2048 ,\n",
    "                  'fc_lay': [20],\n",
    "                  'fc_drop': [0.0], \n",
    "                  'fc_use_batchnorm': [False],\n",
    "                  'fc_use_laynorm': [False],\n",
    "                  'fc_use_laynorm_inp': False,\n",
    "                  'fc_use_batchnorm_inp': False,\n",
    "                  'fc_act': ['linear'] # leakyrelu(1) is just identity mapping\n",
    "                  }\n",
    "        self.dnn2 = MLP(dnn2_arch)\n",
    "        \n",
    "        self.softmax = nn.Softmax(dim = 1)\n",
    "    def forward(self, X):\n",
    "        out = self.cnn_net(X)\n",
    "        out = self.dnn1(out)\n",
    "        out = self.dnn2(out)\n",
    "        out = self.softmax(out)\n",
    "        return out\n",
    "\n",
    "cls = MixedClassifier().cuda(device)\n",
    "cls.train()\n",
    "optimizer = torch.optim.Adam(cls.parameters(), 0.001)\n",
    "\n",
    "\n",
    "if os.path.exists('models/sincnet.pth'):\n",
    "    print('load model')\n",
    "    checkpoint = torch.load('models/sincnet.pth')\n",
    "    cls.load_state_dict(checkpoint['model_state_dict'])\n",
    "    optimizer.load_state_dict(checkpoint['optimizer_state_dict'])\n",
    "    loss = checkpoint['loss']\n",
    "    if 'bestacc' in checkpoint:\n",
    "        bestacc = checkpoint['bestacc']\n",
    "    else:\n",
    "        bestacc = 0.0\n",
    "else:\n",
    "    print('initializing new model')\n",
    "    bestacc = 0.0"
   ]
  },
  {
   "cell_type": "code",
   "execution_count": 7,
   "metadata": {},
   "outputs": [
    {
     "data": {
      "application/vnd.jupyter.widget-view+json": {
       "model_id": "2230c349343145ad9aa66071df8b11b8",
       "version_major": 2,
       "version_minor": 0
      },
      "text/plain": [
       "HBox(children=(FloatProgress(value=0.0, max=1378.0), HTML(value='')))"
      ]
     },
     "metadata": {},
     "output_type": "display_data"
    },
    {
     "name": "stdout",
     "output_type": "stream",
     "text": [
      "[1,   200] loss: 0.034 accuracy: 0.880\n",
      "[1,   400] loss: 0.033 accuracy: 0.879\n",
      "[1,   600] loss: 0.032 accuracy: 0.882\n",
      "[1,   800] loss: 0.032 accuracy: 0.886\n",
      "[1,  1000] loss: 0.031 accuracy: 0.884\n",
      "[1,  1200] loss: 0.032 accuracy: 0.884\n",
      "\n"
     ]
    },
    {
     "data": {
      "application/vnd.jupyter.widget-view+json": {
       "model_id": "3b90033e31e04b9d804cdb52a6eb23d2",
       "version_major": 2,
       "version_minor": 0
      },
      "text/plain": [
       "HBox(children=(FloatProgress(value=0.0, max=1378.0), HTML(value='')))"
      ]
     },
     "metadata": {},
     "output_type": "display_data"
    },
    {
     "name": "stdout",
     "output_type": "stream",
     "text": [
      "[2,   200] loss: 0.031 accuracy: 0.887\n",
      "[2,   400] loss: 0.032 accuracy: 0.887\n",
      "[2,   600] loss: 0.032 accuracy: 0.885\n",
      "[2,   800] loss: 0.031 accuracy: 0.888\n",
      "[2,  1000] loss: 0.033 accuracy: 0.882\n",
      "[2,  1200] loss: 0.032 accuracy: 0.887\n",
      "\n"
     ]
    },
    {
     "data": {
      "application/vnd.jupyter.widget-view+json": {
       "model_id": "3ba8691d9c14499da34143ef065df08c",
       "version_major": 2,
       "version_minor": 0
      },
      "text/plain": [
       "HBox(children=(FloatProgress(value=0.0, max=1378.0), HTML(value='')))"
      ]
     },
     "metadata": {},
     "output_type": "display_data"
    },
    {
     "name": "stdout",
     "output_type": "stream",
     "text": [
      "[3,   200] loss: 0.030 accuracy: 0.890\n",
      "[3,   400] loss: 0.031 accuracy: 0.890\n",
      "[3,   600] loss: 0.031 accuracy: 0.887\n",
      "[3,   800] loss: 0.032 accuracy: 0.884\n",
      "[3,  1000] loss: 0.032 accuracy: 0.885\n",
      "[3,  1200] loss: 0.033 accuracy: 0.882\n",
      "\n"
     ]
    },
    {
     "data": {
      "application/vnd.jupyter.widget-view+json": {
       "model_id": "8e2a23254cf94f358076a7dbbdd65d71",
       "version_major": 2,
       "version_minor": 0
      },
      "text/plain": [
       "HBox(children=(FloatProgress(value=0.0, max=1378.0), HTML(value='')))"
      ]
     },
     "metadata": {},
     "output_type": "display_data"
    },
    {
     "name": "stdout",
     "output_type": "stream",
     "text": [
      "[4,   200] loss: 0.030 accuracy: 0.894\n",
      "[4,   400] loss: 0.031 accuracy: 0.890\n",
      "[4,   600] loss: 0.031 accuracy: 0.890\n",
      "[4,   800] loss: 0.031 accuracy: 0.889\n",
      "[4,  1000] loss: 0.031 accuracy: 0.884\n",
      "[4,  1200] loss: 0.032 accuracy: 0.882\n",
      "\n"
     ]
    },
    {
     "data": {
      "application/vnd.jupyter.widget-view+json": {
       "model_id": "40e48f7f209549349ab952be0493023d",
       "version_major": 2,
       "version_minor": 0
      },
      "text/plain": [
       "HBox(children=(FloatProgress(value=0.0, max=1378.0), HTML(value='')))"
      ]
     },
     "metadata": {},
     "output_type": "display_data"
    },
    {
     "name": "stdout",
     "output_type": "stream",
     "text": [
      "[5,   200] loss: 0.031 accuracy: 0.891\n",
      "[5,   400] loss: 0.030 accuracy: 0.892\n",
      "[5,   600] loss: 0.030 accuracy: 0.892\n",
      "[5,   800] loss: 0.030 accuracy: 0.895\n",
      "[5,  1000] loss: 0.031 accuracy: 0.889\n",
      "[5,  1200] loss: 0.032 accuracy: 0.885\n",
      "\n"
     ]
    },
    {
     "data": {
      "application/vnd.jupyter.widget-view+json": {
       "model_id": "0e2f64842f9d43b6940f25401700b12e",
       "version_major": 2,
       "version_minor": 0
      },
      "text/plain": [
       "HBox(children=(FloatProgress(value=0.0, max=1378.0), HTML(value='')))"
      ]
     },
     "metadata": {},
     "output_type": "display_data"
    },
    {
     "name": "stdout",
     "output_type": "stream",
     "text": [
      "[6,   200] loss: 0.030 accuracy: 0.892\n",
      "[6,   400] loss: 0.029 accuracy: 0.896\n",
      "[6,   600] loss: 0.030 accuracy: 0.895\n",
      "[6,   800] loss: 0.030 accuracy: 0.896\n",
      "[6,  1000] loss: 0.030 accuracy: 0.891\n",
      "[6,  1200] loss: 0.032 accuracy: 0.889\n",
      "\n"
     ]
    },
    {
     "data": {
      "application/vnd.jupyter.widget-view+json": {
       "model_id": "f150b3b8d4e04d199b997e07f3101ff4",
       "version_major": 2,
       "version_minor": 0
      },
      "text/plain": [
       "HBox(children=(FloatProgress(value=0.0, max=1378.0), HTML(value='')))"
      ]
     },
     "metadata": {},
     "output_type": "display_data"
    },
    {
     "name": "stdout",
     "output_type": "stream",
     "text": [
      "[7,   200] loss: 0.029 accuracy: 0.896\n",
      "[7,   400] loss: 0.029 accuracy: 0.898\n",
      "[7,   600] loss: 0.031 accuracy: 0.890\n",
      "[7,   800] loss: 0.030 accuracy: 0.893\n",
      "[7,  1000] loss: 0.029 accuracy: 0.894\n",
      "[7,  1200] loss: 0.031 accuracy: 0.891\n",
      "\n"
     ]
    },
    {
     "data": {
      "application/vnd.jupyter.widget-view+json": {
       "model_id": "3f74c785a2fb4e7da5a9c2b8b07d5665",
       "version_major": 2,
       "version_minor": 0
      },
      "text/plain": [
       "HBox(children=(FloatProgress(value=0.0, max=1378.0), HTML(value='')))"
      ]
     },
     "metadata": {},
     "output_type": "display_data"
    },
    {
     "name": "stdout",
     "output_type": "stream",
     "text": [
      "[8,   200] loss: 0.028 accuracy: 0.902\n",
      "[8,   400] loss: 0.030 accuracy: 0.892\n",
      "[8,   600] loss: 0.029 accuracy: 0.895\n",
      "[8,   800] loss: 0.029 accuracy: 0.897\n",
      "[8,  1000] loss: 0.030 accuracy: 0.893\n",
      "[8,  1200] loss: 0.030 accuracy: 0.896\n",
      "\n"
     ]
    },
    {
     "data": {
      "application/vnd.jupyter.widget-view+json": {
       "model_id": "328214128f7948a39d352f7adb6c8e31",
       "version_major": 2,
       "version_minor": 0
      },
      "text/plain": [
       "HBox(children=(FloatProgress(value=0.0, max=1378.0), HTML(value='')))"
      ]
     },
     "metadata": {},
     "output_type": "display_data"
    },
    {
     "name": "stdout",
     "output_type": "stream",
     "text": [
      "[9,   200] loss: 0.027 accuracy: 0.899\n",
      "[9,   400] loss: 0.028 accuracy: 0.902\n",
      "[9,   600] loss: 0.029 accuracy: 0.895\n",
      "[9,   800] loss: 0.029 accuracy: 0.895\n",
      "[9,  1000] loss: 0.029 accuracy: 0.898\n",
      "[9,  1200] loss: 0.028 accuracy: 0.898\n",
      "\n"
     ]
    },
    {
     "data": {
      "application/vnd.jupyter.widget-view+json": {
       "model_id": "8abd68a136444b519dd186069dc32e1a",
       "version_major": 2,
       "version_minor": 0
      },
      "text/plain": [
       "HBox(children=(FloatProgress(value=0.0, max=1378.0), HTML(value='')))"
      ]
     },
     "metadata": {},
     "output_type": "display_data"
    },
    {
     "name": "stdout",
     "output_type": "stream",
     "text": [
      "[10,   200] loss: 0.028 accuracy: 0.900\n",
      "[10,   400] loss: 0.028 accuracy: 0.900\n",
      "[10,   600] loss: 0.028 accuracy: 0.899\n",
      "[10,   800] loss: 0.028 accuracy: 0.898\n",
      "[10,  1000] loss: 0.029 accuracy: 0.895\n",
      "[10,  1200] loss: 0.028 accuracy: 0.896\n",
      "\n"
     ]
    },
    {
     "data": {
      "application/vnd.jupyter.widget-view+json": {
       "model_id": "23c1ee78be8149ecb8e0e2da4f22a8e5",
       "version_major": 2,
       "version_minor": 0
      },
      "text/plain": [
       "HBox(children=(FloatProgress(value=0.0, max=1378.0), HTML(value='')))"
      ]
     },
     "metadata": {},
     "output_type": "display_data"
    },
    {
     "name": "stdout",
     "output_type": "stream",
     "text": [
      "[11,   200] loss: 0.028 accuracy: 0.898\n",
      "[11,   400] loss: 0.027 accuracy: 0.905\n",
      "[11,   600] loss: 0.028 accuracy: 0.901\n",
      "[11,   800] loss: 0.029 accuracy: 0.899\n",
      "[11,  1000] loss: 0.027 accuracy: 0.904\n",
      "[11,  1200] loss: 0.027 accuracy: 0.900\n",
      "\n"
     ]
    },
    {
     "data": {
      "application/vnd.jupyter.widget-view+json": {
       "model_id": "4cd6514cfad748ab8c406a7fe9f03083",
       "version_major": 2,
       "version_minor": 0
      },
      "text/plain": [
       "HBox(children=(FloatProgress(value=0.0, max=1378.0), HTML(value='')))"
      ]
     },
     "metadata": {},
     "output_type": "display_data"
    },
    {
     "name": "stdout",
     "output_type": "stream",
     "text": [
      "[12,   200] loss: 0.026 accuracy: 0.906\n",
      "[12,   400] loss: 0.028 accuracy: 0.897\n",
      "[12,   600] loss: 0.027 accuracy: 0.903\n",
      "[12,   800] loss: 0.027 accuracy: 0.902\n",
      "[12,  1000] loss: 0.027 accuracy: 0.903\n",
      "[12,  1200] loss: 0.028 accuracy: 0.901\n",
      "\n"
     ]
    },
    {
     "data": {
      "application/vnd.jupyter.widget-view+json": {
       "model_id": "b1630aa5c35c46479b83cc1cf79cefc1",
       "version_major": 2,
       "version_minor": 0
      },
      "text/plain": [
       "HBox(children=(FloatProgress(value=0.0, max=1378.0), HTML(value='')))"
      ]
     },
     "metadata": {},
     "output_type": "display_data"
    },
    {
     "name": "stdout",
     "output_type": "stream",
     "text": [
      "[13,   200] loss: 0.026 accuracy: 0.905\n",
      "[13,   400] loss: 0.028 accuracy: 0.903\n",
      "[13,   600] loss: 0.026 accuracy: 0.906\n",
      "[13,   800] loss: 0.027 accuracy: 0.903\n",
      "[13,  1000] loss: 0.027 accuracy: 0.904\n",
      "[13,  1200] loss: 0.027 accuracy: 0.905\n",
      "\n"
     ]
    },
    {
     "data": {
      "application/vnd.jupyter.widget-view+json": {
       "model_id": "df1d9064d6e04e4c8ceb3b03fc800b11",
       "version_major": 2,
       "version_minor": 0
      },
      "text/plain": [
       "HBox(children=(FloatProgress(value=0.0, max=1378.0), HTML(value='')))"
      ]
     },
     "metadata": {},
     "output_type": "display_data"
    },
    {
     "name": "stdout",
     "output_type": "stream",
     "text": [
      "[14,   200] loss: 0.027 accuracy: 0.905\n",
      "[14,   400] loss: 0.026 accuracy: 0.911\n",
      "[14,   600] loss: 0.027 accuracy: 0.904\n",
      "[14,   800] loss: 0.028 accuracy: 0.902\n",
      "[14,  1000] loss: 0.026 accuracy: 0.908\n",
      "[14,  1200] loss: 0.027 accuracy: 0.905\n",
      "\n"
     ]
    },
    {
     "data": {
      "application/vnd.jupyter.widget-view+json": {
       "model_id": "6f43254be2a245bfa94e065b70da28c5",
       "version_major": 2,
       "version_minor": 0
      },
      "text/plain": [
       "HBox(children=(FloatProgress(value=0.0, max=1378.0), HTML(value='')))"
      ]
     },
     "metadata": {},
     "output_type": "display_data"
    },
    {
     "name": "stdout",
     "output_type": "stream",
     "text": [
      "[15,   200] loss: 0.026 accuracy: 0.910\n",
      "[15,   400] loss: 0.025 accuracy: 0.913\n",
      "[15,   600] loss: 0.025 accuracy: 0.911\n",
      "[15,   800] loss: 0.026 accuracy: 0.907\n",
      "[15,  1000] loss: 0.027 accuracy: 0.904\n",
      "[15,  1200] loss: 0.028 accuracy: 0.902\n",
      "\n"
     ]
    },
    {
     "data": {
      "application/vnd.jupyter.widget-view+json": {
       "model_id": "84d76a2f294d4f2bb738867461a77344",
       "version_major": 2,
       "version_minor": 0
      },
      "text/plain": [
       "HBox(children=(FloatProgress(value=0.0, max=1378.0), HTML(value='')))"
      ]
     },
     "metadata": {},
     "output_type": "display_data"
    },
    {
     "name": "stdout",
     "output_type": "stream",
     "text": [
      "[16,   200] loss: 0.026 accuracy: 0.908\n",
      "[16,   400] loss: 0.026 accuracy: 0.908\n",
      "[16,   600] loss: 0.026 accuracy: 0.907\n",
      "[16,   800] loss: 0.027 accuracy: 0.905\n",
      "[16,  1000] loss: 0.027 accuracy: 0.902\n",
      "[16,  1200] loss: 0.026 accuracy: 0.907\n",
      "\n"
     ]
    },
    {
     "data": {
      "application/vnd.jupyter.widget-view+json": {
       "model_id": "91054f1d2cb346b2b61ab853645fe7d9",
       "version_major": 2,
       "version_minor": 0
      },
      "text/plain": [
       "HBox(children=(FloatProgress(value=0.0, max=1378.0), HTML(value='')))"
      ]
     },
     "metadata": {},
     "output_type": "display_data"
    },
    {
     "name": "stdout",
     "output_type": "stream",
     "text": [
      "[17,   200] loss: 0.024 accuracy: 0.915\n",
      "[17,   400] loss: 0.025 accuracy: 0.911\n",
      "[17,   600] loss: 0.025 accuracy: 0.911\n",
      "[17,   800] loss: 0.026 accuracy: 0.909\n",
      "[17,  1000] loss: 0.026 accuracy: 0.908\n",
      "[17,  1200] loss: 0.025 accuracy: 0.909\n",
      "\n"
     ]
    },
    {
     "data": {
      "application/vnd.jupyter.widget-view+json": {
       "model_id": "6222d29d95414477938db6e23cc558ec",
       "version_major": 2,
       "version_minor": 0
      },
      "text/plain": [
       "HBox(children=(FloatProgress(value=0.0, max=1378.0), HTML(value='')))"
      ]
     },
     "metadata": {},
     "output_type": "display_data"
    },
    {
     "name": "stdout",
     "output_type": "stream",
     "text": [
      "[18,   200] loss: 0.026 accuracy: 0.911\n",
      "[18,   400] loss: 0.025 accuracy: 0.908\n",
      "[18,   600] loss: 0.025 accuracy: 0.911\n",
      "[18,   800] loss: 0.025 accuracy: 0.912\n",
      "[18,  1000] loss: 0.025 accuracy: 0.912\n",
      "[18,  1200] loss: 0.025 accuracy: 0.914\n",
      "\n"
     ]
    },
    {
     "data": {
      "application/vnd.jupyter.widget-view+json": {
       "model_id": "8a552a89597b4632bba6fce521b6539c",
       "version_major": 2,
       "version_minor": 0
      },
      "text/plain": [
       "HBox(children=(FloatProgress(value=0.0, max=1378.0), HTML(value='')))"
      ]
     },
     "metadata": {},
     "output_type": "display_data"
    },
    {
     "name": "stdout",
     "output_type": "stream",
     "text": [
      "[19,   200] loss: 0.024 accuracy: 0.913\n",
      "[19,   400] loss: 0.025 accuracy: 0.911\n",
      "[19,   600] loss: 0.026 accuracy: 0.905\n",
      "[19,   800] loss: 0.025 accuracy: 0.914\n",
      "[19,  1000] loss: 0.025 accuracy: 0.912\n",
      "[19,  1200] loss: 0.024 accuracy: 0.916\n",
      "\n"
     ]
    },
    {
     "data": {
      "application/vnd.jupyter.widget-view+json": {
       "model_id": "561bb213d23a4f0ebe77e345ee7c3fa0",
       "version_major": 2,
       "version_minor": 0
      },
      "text/plain": [
       "HBox(children=(FloatProgress(value=0.0, max=1378.0), HTML(value='')))"
      ]
     },
     "metadata": {},
     "output_type": "display_data"
    },
    {
     "name": "stdout",
     "output_type": "stream",
     "text": [
      "[20,   200] loss: 0.024 accuracy: 0.916\n",
      "[20,   400] loss: 0.025 accuracy: 0.911\n",
      "[20,   600] loss: 0.024 accuracy: 0.917\n",
      "[20,   800] loss: 0.025 accuracy: 0.914\n",
      "[20,  1000] loss: 0.023 accuracy: 0.915\n",
      "[20,  1200] loss: 0.024 accuracy: 0.912\n",
      "\n"
     ]
    },
    {
     "data": {
      "application/vnd.jupyter.widget-view+json": {
       "model_id": "aa0efaca43204f4fb1dac80530c708ee",
       "version_major": 2,
       "version_minor": 0
      },
      "text/plain": [
       "HBox(children=(FloatProgress(value=0.0, max=1378.0), HTML(value='')))"
      ]
     },
     "metadata": {},
     "output_type": "display_data"
    },
    {
     "name": "stdout",
     "output_type": "stream",
     "text": [
      "[21,   200] loss: 0.023 accuracy: 0.918\n",
      "[21,   400] loss: 0.022 accuracy: 0.922\n",
      "[21,   600] loss: 0.025 accuracy: 0.912\n",
      "[21,   800] loss: 0.024 accuracy: 0.917\n",
      "[21,  1000] loss: 0.025 accuracy: 0.910\n",
      "[21,  1200] loss: 0.026 accuracy: 0.908\n",
      "\n"
     ]
    },
    {
     "data": {
      "application/vnd.jupyter.widget-view+json": {
       "model_id": "5da4dc6e8c3f47a49e52dda355682e9d",
       "version_major": 2,
       "version_minor": 0
      },
      "text/plain": [
       "HBox(children=(FloatProgress(value=0.0, max=1378.0), HTML(value='')))"
      ]
     },
     "metadata": {},
     "output_type": "display_data"
    },
    {
     "name": "stdout",
     "output_type": "stream",
     "text": [
      "[22,   200] loss: 0.024 accuracy: 0.917\n",
      "[22,   400] loss: 0.023 accuracy: 0.922\n",
      "[22,   600] loss: 0.023 accuracy: 0.919\n",
      "[22,   800] loss: 0.023 accuracy: 0.921\n",
      "[22,  1000] loss: 0.025 accuracy: 0.916\n",
      "[22,  1200] loss: 0.024 accuracy: 0.912\n",
      "\n"
     ]
    },
    {
     "data": {
      "application/vnd.jupyter.widget-view+json": {
       "model_id": "183525c591de469f9deec743240423b1",
       "version_major": 2,
       "version_minor": 0
      },
      "text/plain": [
       "HBox(children=(FloatProgress(value=0.0, max=1378.0), HTML(value='')))"
      ]
     },
     "metadata": {},
     "output_type": "display_data"
    },
    {
     "name": "stdout",
     "output_type": "stream",
     "text": [
      "[23,   200] loss: 0.023 accuracy: 0.917\n",
      "[23,   400] loss: 0.022 accuracy: 0.922\n",
      "[23,   600] loss: 0.023 accuracy: 0.918\n",
      "[23,   800] loss: 0.024 accuracy: 0.914\n",
      "[23,  1000] loss: 0.024 accuracy: 0.915\n",
      "[23,  1200] loss: 0.024 accuracy: 0.915\n",
      "\n"
     ]
    },
    {
     "data": {
      "application/vnd.jupyter.widget-view+json": {
       "model_id": "89d1d55cbe1d43368766a39189497c86",
       "version_major": 2,
       "version_minor": 0
      },
      "text/plain": [
       "HBox(children=(FloatProgress(value=0.0, max=1378.0), HTML(value='')))"
      ]
     },
     "metadata": {},
     "output_type": "display_data"
    },
    {
     "name": "stdout",
     "output_type": "stream",
     "text": [
      "[24,   200] loss: 0.022 accuracy: 0.924\n",
      "[24,   400] loss: 0.022 accuracy: 0.922\n",
      "[24,   600] loss: 0.024 accuracy: 0.916\n",
      "[24,   800] loss: 0.023 accuracy: 0.918\n",
      "[24,  1000] loss: 0.022 accuracy: 0.922\n",
      "[24,  1200] loss: 0.024 accuracy: 0.917\n",
      "\n"
     ]
    },
    {
     "data": {
      "application/vnd.jupyter.widget-view+json": {
       "model_id": "8a669cce053e480e98563601339d7de6",
       "version_major": 2,
       "version_minor": 0
      },
      "text/plain": [
       "HBox(children=(FloatProgress(value=0.0, max=1378.0), HTML(value='')))"
      ]
     },
     "metadata": {},
     "output_type": "display_data"
    },
    {
     "name": "stdout",
     "output_type": "stream",
     "text": [
      "[25,   200] loss: 0.022 accuracy: 0.923\n",
      "[25,   400] loss: 0.022 accuracy: 0.922\n",
      "[25,   600] loss: 0.023 accuracy: 0.921\n",
      "[25,   800] loss: 0.023 accuracy: 0.919\n",
      "[25,  1000] loss: 0.024 accuracy: 0.918\n",
      "[25,  1200] loss: 0.023 accuracy: 0.916\n",
      "\n"
     ]
    },
    {
     "data": {
      "application/vnd.jupyter.widget-view+json": {
       "model_id": "8760c230b6f94e5b8ab89e440960b515",
       "version_major": 2,
       "version_minor": 0
      },
      "text/plain": [
       "HBox(children=(FloatProgress(value=0.0, max=1378.0), HTML(value='')))"
      ]
     },
     "metadata": {},
     "output_type": "display_data"
    },
    {
     "name": "stdout",
     "output_type": "stream",
     "text": [
      "[26,   200] loss: 0.022 accuracy: 0.921\n",
      "[26,   400] loss: 0.023 accuracy: 0.920\n",
      "[26,   600] loss: 0.022 accuracy: 0.923\n",
      "[26,   800] loss: 0.024 accuracy: 0.917\n",
      "[26,  1000] loss: 0.022 accuracy: 0.923\n",
      "[26,  1200] loss: 0.024 accuracy: 0.919\n",
      "\n"
     ]
    },
    {
     "data": {
      "application/vnd.jupyter.widget-view+json": {
       "model_id": "9385714073c04737bbdbb832229f7c69",
       "version_major": 2,
       "version_minor": 0
      },
      "text/plain": [
       "HBox(children=(FloatProgress(value=0.0, max=1378.0), HTML(value='')))"
      ]
     },
     "metadata": {},
     "output_type": "display_data"
    },
    {
     "name": "stdout",
     "output_type": "stream",
     "text": [
      "[27,   200] loss: 0.022 accuracy: 0.925\n",
      "[27,   400] loss: 0.023 accuracy: 0.920\n",
      "[27,   600] loss: 0.023 accuracy: 0.917\n",
      "[27,   800] loss: 0.023 accuracy: 0.919\n",
      "[27,  1000] loss: 0.022 accuracy: 0.923\n",
      "[27,  1200] loss: 0.022 accuracy: 0.921\n",
      "\n"
     ]
    },
    {
     "data": {
      "application/vnd.jupyter.widget-view+json": {
       "model_id": "1db2fe1c0c4b4c2c949605f861f2de9b",
       "version_major": 2,
       "version_minor": 0
      },
      "text/plain": [
       "HBox(children=(FloatProgress(value=0.0, max=1378.0), HTML(value='')))"
      ]
     },
     "metadata": {},
     "output_type": "display_data"
    },
    {
     "name": "stdout",
     "output_type": "stream",
     "text": [
      "[28,   200] loss: 0.022 accuracy: 0.923\n",
      "[28,   400] loss: 0.021 accuracy: 0.926\n",
      "[28,   600] loss: 0.023 accuracy: 0.918\n",
      "[28,   800] loss: 0.023 accuracy: 0.920\n",
      "[28,  1000] loss: 0.022 accuracy: 0.923\n",
      "[28,  1200] loss: 0.023 accuracy: 0.922\n",
      "\n"
     ]
    },
    {
     "data": {
      "application/vnd.jupyter.widget-view+json": {
       "model_id": "ff16eac5e148430bae0820ca09f084db",
       "version_major": 2,
       "version_minor": 0
      },
      "text/plain": [
       "HBox(children=(FloatProgress(value=0.0, max=1378.0), HTML(value='')))"
      ]
     },
     "metadata": {},
     "output_type": "display_data"
    },
    {
     "name": "stdout",
     "output_type": "stream",
     "text": [
      "[29,   200] loss: 0.022 accuracy: 0.927\n",
      "[29,   400] loss: 0.020 accuracy: 0.928\n",
      "[29,   600] loss: 0.022 accuracy: 0.921\n",
      "[29,   800] loss: 0.022 accuracy: 0.923\n",
      "[29,  1000] loss: 0.022 accuracy: 0.926\n",
      "[29,  1200] loss: 0.021 accuracy: 0.928\n",
      "\n"
     ]
    },
    {
     "data": {
      "application/vnd.jupyter.widget-view+json": {
       "model_id": "d9e83696025146f3b5afe70b3f5fbac5",
       "version_major": 2,
       "version_minor": 0
      },
      "text/plain": [
       "HBox(children=(FloatProgress(value=0.0, max=1378.0), HTML(value='')))"
      ]
     },
     "metadata": {},
     "output_type": "display_data"
    },
    {
     "name": "stdout",
     "output_type": "stream",
     "text": [
      "[30,   200] loss: 0.021 accuracy: 0.925\n",
      "[30,   400] loss: 0.021 accuracy: 0.925\n",
      "[30,   600] loss: 0.021 accuracy: 0.926\n",
      "[30,   800] loss: 0.022 accuracy: 0.921\n",
      "[30,  1000] loss: 0.022 accuracy: 0.921\n",
      "[30,  1200] loss: 0.022 accuracy: 0.922\n",
      "\n"
     ]
    },
    {
     "data": {
      "application/vnd.jupyter.widget-view+json": {
       "model_id": "621ef3e48f064fdb84481cb2c193960d",
       "version_major": 2,
       "version_minor": 0
      },
      "text/plain": [
       "HBox(children=(FloatProgress(value=0.0, max=1378.0), HTML(value='')))"
      ]
     },
     "metadata": {},
     "output_type": "display_data"
    },
    {
     "name": "stdout",
     "output_type": "stream",
     "text": [
      "[31,   200] loss: 0.021 accuracy: 0.928\n",
      "[31,   400] loss: 0.021 accuracy: 0.928\n",
      "[31,   600] loss: 0.022 accuracy: 0.922\n",
      "[31,   800] loss: 0.022 accuracy: 0.923\n",
      "[31,  1000] loss: 0.022 accuracy: 0.922\n",
      "[31,  1200] loss: 0.022 accuracy: 0.925\n",
      "\n"
     ]
    },
    {
     "data": {
      "application/vnd.jupyter.widget-view+json": {
       "model_id": "390afe92d8b54e7d9742eb0d5fbfbbff",
       "version_major": 2,
       "version_minor": 0
      },
      "text/plain": [
       "HBox(children=(FloatProgress(value=0.0, max=1378.0), HTML(value='')))"
      ]
     },
     "metadata": {},
     "output_type": "display_data"
    },
    {
     "name": "stdout",
     "output_type": "stream",
     "text": [
      "[32,   200] loss: 0.021 accuracy: 0.929\n",
      "[32,   400] loss: 0.021 accuracy: 0.926\n",
      "[32,   600] loss: 0.021 accuracy: 0.927\n",
      "[32,   800] loss: 0.022 accuracy: 0.923\n",
      "[32,  1000] loss: 0.022 accuracy: 0.924\n",
      "[32,  1200] loss: 0.021 accuracy: 0.925\n",
      "\n"
     ]
    },
    {
     "data": {
      "application/vnd.jupyter.widget-view+json": {
       "model_id": "8c5f392980a04c9abfb60e4caabb2528",
       "version_major": 2,
       "version_minor": 0
      },
      "text/plain": [
       "HBox(children=(FloatProgress(value=0.0, max=1378.0), HTML(value='')))"
      ]
     },
     "metadata": {},
     "output_type": "display_data"
    },
    {
     "name": "stdout",
     "output_type": "stream",
     "text": [
      "[33,   200] loss: 0.020 accuracy: 0.931\n",
      "[33,   400] loss: 0.020 accuracy: 0.930\n",
      "[33,   600] loss: 0.021 accuracy: 0.928\n",
      "[33,   800] loss: 0.021 accuracy: 0.925\n",
      "[33,  1000] loss: 0.022 accuracy: 0.924\n",
      "[33,  1200] loss: 0.021 accuracy: 0.926\n",
      "\n"
     ]
    },
    {
     "data": {
      "application/vnd.jupyter.widget-view+json": {
       "model_id": "bdf38effd9d442a5ade6d3909078c3de",
       "version_major": 2,
       "version_minor": 0
      },
      "text/plain": [
       "HBox(children=(FloatProgress(value=0.0, max=1378.0), HTML(value='')))"
      ]
     },
     "metadata": {},
     "output_type": "display_data"
    },
    {
     "name": "stdout",
     "output_type": "stream",
     "text": [
      "[34,   200] loss: 0.020 accuracy: 0.930\n"
     ]
    },
    {
     "ename": "KeyboardInterrupt",
     "evalue": "",
     "output_type": "error",
     "traceback": [
      "\u001b[0;31m---------------------------------------------------------------------------\u001b[0m",
      "\u001b[0;31mKeyboardInterrupt\u001b[0m                         Traceback (most recent call last)",
      "\u001b[0;32m<ipython-input-7-f84c9c0e4157>\u001b[0m in \u001b[0;36m<module>\u001b[0;34m\u001b[0m\n\u001b[1;32m     16\u001b[0m         \u001b[0mout\u001b[0m\u001b[0;34m,\u001b[0m \u001b[0m_\u001b[0m \u001b[0;34m=\u001b[0m \u001b[0mtorch\u001b[0m\u001b[0;34m.\u001b[0m\u001b[0mmax\u001b[0m\u001b[0;34m(\u001b[0m\u001b[0mout\u001b[0m\u001b[0;34m,\u001b[0m \u001b[0mdim\u001b[0m \u001b[0;34m=\u001b[0m \u001b[0;36m0\u001b[0m\u001b[0;34m)\u001b[0m\u001b[0;34m\u001b[0m\u001b[0;34m\u001b[0m\u001b[0m\n\u001b[1;32m     17\u001b[0m         \u001b[0mloss\u001b[0m \u001b[0;34m=\u001b[0m \u001b[0mcriterion\u001b[0m\u001b[0;34m(\u001b[0m\u001b[0mout\u001b[0m\u001b[0;34m,\u001b[0m \u001b[0mtarget\u001b[0m\u001b[0;34m)\u001b[0m\u001b[0;34m\u001b[0m\u001b[0;34m\u001b[0m\u001b[0m\n\u001b[0;32m---> 18\u001b[0;31m         \u001b[0mloss\u001b[0m\u001b[0;34m.\u001b[0m\u001b[0mbackward\u001b[0m\u001b[0;34m(\u001b[0m\u001b[0;34m)\u001b[0m\u001b[0;34m\u001b[0m\u001b[0;34m\u001b[0m\u001b[0m\n\u001b[0m\u001b[1;32m     19\u001b[0m         \u001b[0mtorch\u001b[0m\u001b[0;34m.\u001b[0m\u001b[0mnn\u001b[0m\u001b[0;34m.\u001b[0m\u001b[0mutils\u001b[0m\u001b[0;34m.\u001b[0m\u001b[0mclip_grad_norm_\u001b[0m\u001b[0;34m(\u001b[0m\u001b[0mcls\u001b[0m\u001b[0;34m.\u001b[0m\u001b[0mparameters\u001b[0m\u001b[0;34m(\u001b[0m\u001b[0;34m)\u001b[0m\u001b[0;34m,\u001b[0m \u001b[0;36m0.5\u001b[0m\u001b[0;34m)\u001b[0m\u001b[0;34m\u001b[0m\u001b[0;34m\u001b[0m\u001b[0m\n\u001b[1;32m     20\u001b[0m         \u001b[0moptimizer\u001b[0m\u001b[0;34m.\u001b[0m\u001b[0mstep\u001b[0m\u001b[0;34m(\u001b[0m\u001b[0;34m)\u001b[0m\u001b[0;34m\u001b[0m\u001b[0;34m\u001b[0m\u001b[0m\n",
      "\u001b[0;32m~/anaconda3/lib/python3.7/site-packages/torch/tensor.py\u001b[0m in \u001b[0;36mbackward\u001b[0;34m(self, gradient, retain_graph, create_graph)\u001b[0m\n\u001b[1;32m    193\u001b[0m                 \u001b[0mproducts\u001b[0m\u001b[0;34m.\u001b[0m \u001b[0mDefaults\u001b[0m \u001b[0mto\u001b[0m\u001b[0;31m \u001b[0m\u001b[0;31m`\u001b[0m\u001b[0;31m`\u001b[0m\u001b[0;32mFalse\u001b[0m\u001b[0;31m`\u001b[0m\u001b[0;31m`\u001b[0m\u001b[0;34m.\u001b[0m\u001b[0;34m\u001b[0m\u001b[0;34m\u001b[0m\u001b[0m\n\u001b[1;32m    194\u001b[0m         \"\"\"\n\u001b[0;32m--> 195\u001b[0;31m         \u001b[0mtorch\u001b[0m\u001b[0;34m.\u001b[0m\u001b[0mautograd\u001b[0m\u001b[0;34m.\u001b[0m\u001b[0mbackward\u001b[0m\u001b[0;34m(\u001b[0m\u001b[0mself\u001b[0m\u001b[0;34m,\u001b[0m \u001b[0mgradient\u001b[0m\u001b[0;34m,\u001b[0m \u001b[0mretain_graph\u001b[0m\u001b[0;34m,\u001b[0m \u001b[0mcreate_graph\u001b[0m\u001b[0;34m)\u001b[0m\u001b[0;34m\u001b[0m\u001b[0;34m\u001b[0m\u001b[0m\n\u001b[0m\u001b[1;32m    196\u001b[0m \u001b[0;34m\u001b[0m\u001b[0m\n\u001b[1;32m    197\u001b[0m     \u001b[0;32mdef\u001b[0m \u001b[0mregister_hook\u001b[0m\u001b[0;34m(\u001b[0m\u001b[0mself\u001b[0m\u001b[0;34m,\u001b[0m \u001b[0mhook\u001b[0m\u001b[0;34m)\u001b[0m\u001b[0;34m:\u001b[0m\u001b[0;34m\u001b[0m\u001b[0;34m\u001b[0m\u001b[0m\n",
      "\u001b[0;32m~/anaconda3/lib/python3.7/site-packages/torch/autograd/__init__.py\u001b[0m in \u001b[0;36mbackward\u001b[0;34m(tensors, grad_tensors, retain_graph, create_graph, grad_variables)\u001b[0m\n\u001b[1;32m     97\u001b[0m     Variable._execution_engine.run_backward(\n\u001b[1;32m     98\u001b[0m         \u001b[0mtensors\u001b[0m\u001b[0;34m,\u001b[0m \u001b[0mgrad_tensors\u001b[0m\u001b[0;34m,\u001b[0m \u001b[0mretain_graph\u001b[0m\u001b[0;34m,\u001b[0m \u001b[0mcreate_graph\u001b[0m\u001b[0;34m,\u001b[0m\u001b[0;34m\u001b[0m\u001b[0;34m\u001b[0m\u001b[0m\n\u001b[0;32m---> 99\u001b[0;31m         allow_unreachable=True)  # allow_unreachable flag\n\u001b[0m\u001b[1;32m    100\u001b[0m \u001b[0;34m\u001b[0m\u001b[0m\n\u001b[1;32m    101\u001b[0m \u001b[0;34m\u001b[0m\u001b[0m\n",
      "\u001b[0;31mKeyboardInterrupt\u001b[0m: "
     ]
    }
   ],
   "source": [
    "batch_size = 64\n",
    "chunkloader_train = torch.utils.data.DataLoader(chunkset_train, batch_size=batch_size, shuffle=True, pin_memory = True, num_workers = 16)\n",
    "criterion = torch.nn.BCELoss()\n",
    "\n",
    "\n",
    "\n",
    "for epoch in range(64):\n",
    "    running_loss = 0.0\n",
    "    running_accuracy = 0.0\n",
    "    for batch_idx, (X1, X2, target) in enumerate(tqdm(chunkloader_train)):\n",
    "        optimizer.zero_grad()\n",
    "        X1, X2, target = X1.float().cuda(device), X2.float().cuda(device), target.float().cuda(device)\n",
    "\n",
    "        out1, out2 = cls(X1), cls(X2)\n",
    "        out = torch.stack([out1, out2], dim = 0)\n",
    "        out, _ = torch.max(out, dim = 0)\n",
    "        loss = criterion(out, target)\n",
    "        loss.backward()\n",
    "        torch.nn.utils.clip_grad_norm_(cls.parameters(), 0.5)\n",
    "        optimizer.step()\n",
    "\n",
    "        running_loss += loss.item()\n",
    "        running_accuracy += compute_corrects(out, target)/batch_size\n",
    "        if batch_idx % 200 == 199:    # print every 2000 mini-batches\n",
    "            print('[%d, %5d] loss: %.3f accuracy: %.3f' % \n",
    "                  (epoch + 1, batch_idx + 1, running_loss / 200, running_accuracy / 200))\n",
    "            running_loss = 0.0\n",
    "            running_accuracy = 0.0\n",
    "            torch.save({\n",
    "            'model_state_dict': cls.state_dict(),\n",
    "            'optimizer_state_dict': optimizer.state_dict(),\n",
    "            'loss': loss\n",
    "            }, 'models/sincnet.pth')\n"
   ]
  },
  {
   "cell_type": "code",
   "execution_count": null,
   "metadata": {},
   "outputs": [],
   "source": [
    "chunkloader_val = torch.utils.data.DataLoader(chunkset_train, batch_size=batch_size, shuffle=True, pin_memory = True, num_workers = 16)\n"
   ]
  },
  {
   "cell_type": "code",
   "execution_count": null,
   "metadata": {},
   "outputs": [],
   "source": []
  },
  {
   "cell_type": "code",
   "execution_count": 52,
   "metadata": {},
   "outputs": [],
   "source": [
    "def create_batches_rnd(batch_size,data_folder,wav_lst,N_snt,wlen,lab_dict,fact_amp):\n",
    "    \n",
    " # Initialization of the minibatch (batch_size,[0=>x_t,1=>x_t+N,1=>random_samp])\n",
    " sig_batch=np.zeros([batch_size,wlen])\n",
    " lab_batch=np.zeros(batch_size)\n",
    "  \n",
    " snt_id_arr=np.random.randint(N_snt, size=batch_size)\n",
    " \n",
    " rand_amp_arr = np.random.uniform(1.0-fact_amp,1+fact_amp,batch_size)\n",
    "\n",
    " for i in range(batch_size):\n",
    "     \n",
    "  # select a random sentence from the list  (joint distribution)\n",
    "  [fs,signal]=scipy.io.wavfile.read(data_folder+wav_lst[snt_id_arr[i]])\n",
    "  signal=signal.astype(float)/32768\n",
    "\n",
    "  # accesing to a random chunk\n",
    "  snt_len=signal.shape[0]\n",
    "  snt_beg=np.random.randint(snt_len-wlen-1) #randint(0, snt_len-2*wlen-1)\n",
    "  snt_end=snt_beg+wlen\n",
    "  \n",
    "  sig_batch[i,:]=signal[snt_beg:snt_end]*rand_amp_arr[i]\n",
    "  lab_batch[i]=lab_dict[wav_lst[snt_id_arr[i]]]\n",
    "  \n",
    " inp=torch.from_numpy(sig_batch).float().cuda().contiguous()  # Current Frame\n",
    " lab=torch.from_numpy(lab_batch).float().cuda().contiguous()\n",
    "  \n",
    " return inp,lab  "
   ]
  },
  {
   "cell_type": "code",
   "execution_count": null,
   "metadata": {},
   "outputs": [],
   "source": [
    "# Full Validation  new  \n",
    "  if epoch%N_eval_epoch==0:\n",
    "      \n",
    "   CNN_net.eval()\n",
    "   DNN1_net.eval()\n",
    "   DNN2_net.eval()\n",
    "   test_flag=1 \n",
    "   loss_sum=0\n",
    "   err_sum=0\n",
    "   err_sum_snt=0\n",
    "   \n",
    "   with torch.no_grad():  \n",
    "    for i in range(snt_te):\n",
    "       \n",
    "     #[fs,signal]=scipy.io.wavfile.read(data_folder+wav_lst_te[i])\n",
    "     #signal=signal.astype(float)/32768\n",
    "\n",
    "     [signal, fs] = sf.read(data_folder+wav_lst_te[i])\n",
    "\n",
    "     signal=torch.from_numpy(signal).float().cuda().contiguous()\n",
    "     lab_batch=lab_dict[wav_lst_te[i]]\n",
    "    \n",
    "     # split signals into chunks\n",
    "     beg_samp=0\n",
    "     end_samp=wlen\n",
    "     \n",
    "     N_fr=int((signal.shape[0]-wlen)/(wshift))\n",
    "     \n",
    "\n",
    "     sig_arr=torch.zeros([Batch_dev,wlen]).float().cuda().contiguous()\n",
    "     lab= Variable((torch.zeros(N_fr+1)+lab_batch).cuda().contiguous().long())\n",
    "     pout=Variable(torch.zeros(N_fr+1,class_lay[-1]).float().cuda().contiguous())\n",
    "     count_fr=0\n",
    "     count_fr_tot=0\n",
    "     while end_samp<signal.shape[0]:\n",
    "         sig_arr[count_fr,:]=signal[beg_samp:end_samp]\n",
    "         beg_samp=beg_samp+wshift\n",
    "         end_samp=beg_samp+wlen\n",
    "         count_fr=count_fr+1\n",
    "         count_fr_tot=count_fr_tot+1\n",
    "         if count_fr==Batch_dev:\n",
    "             inp=Variable(sig_arr)\n",
    "             pout[count_fr_tot-Batch_dev:count_fr_tot,:]=DNN2_net(DNN1_net(CNN_net(inp)))\n",
    "             count_fr=0\n",
    "             sig_arr=torch.zeros([Batch_dev,wlen]).float().cuda().contiguous()\n",
    "   \n",
    "     if count_fr>0:\n",
    "      inp=Variable(sig_arr[0:count_fr])\n",
    "      pout[count_fr_tot-count_fr:count_fr_tot,:]=DNN2_net(DNN1_net(CNN_net(inp)))\n",
    "\n",
    "    \n",
    "     pred=torch.max(pout,dim=1)[1]\n",
    "     loss = cost(pout, lab.long())\n",
    "     err = torch.mean((pred!=lab.long()).float())\n",
    "    \n",
    "     [val,best_class]=torch.max(torch.sum(pout,dim=0),0)\n",
    "     err_sum_snt=err_sum_snt+(best_class!=lab[0]).float()\n",
    "    \n",
    "    \n",
    "     loss_sum=loss_sum+loss.detach()\n",
    "     err_sum=err_sum+err.detach()\n",
    "    \n",
    "    err_tot_dev_snt=err_sum_snt/snt_te\n",
    "    loss_tot_dev=loss_sum/snt_te\n",
    "    err_tot_dev=err_sum/snt_te\n",
    "\n",
    "  \n",
    "   print(\"epoch %i, loss_tr=%f err_tr=%f loss_te=%f err_te=%f err_te_snt=%f\" % (epoch, loss_tot,err_tot,loss_tot_dev,err_tot_dev,err_tot_dev_snt))\n",
    "  \n",
    "   with open(output_folder+\"/res.res\", \"a\") as res_file:\n",
    "    res_file.write(\"epoch %i, loss_tr=%f err_tr=%f loss_te=%f err_te=%f err_te_snt=%f\\n\" % (epoch, loss_tot,err_tot,loss_tot_dev,err_tot_dev,err_tot_dev_snt))   \n",
    "\n",
    "   checkpoint={'CNN_model_par': CNN_net.state_dict(),\n",
    "               'DNN1_model_par': DNN1_net.state_dict(),\n",
    "               'DNN2_model_par': DNN2_net.state_dict(),\n",
    "               }\n",
    "   torch.save(checkpoint,output_folder+'/model_raw.pkl')\n",
    "  \n",
    "  else:\n",
    "   print(\"epoch %i, loss_tr=%f err_tr=%f\" % (epoch, loss_tot,err_tot))"
   ]
  }
 ],
 "metadata": {
  "kernelspec": {
   "display_name": "Python 3",
   "language": "python",
   "name": "python3"
  },
  "language_info": {
   "codemirror_mode": {
    "name": "ipython",
    "version": 3
   },
   "file_extension": ".py",
   "mimetype": "text/x-python",
   "name": "python",
   "nbconvert_exporter": "python",
   "pygments_lexer": "ipython3",
   "version": "3.7.6"
  }
 },
 "nbformat": 4,
 "nbformat_minor": 4
}
