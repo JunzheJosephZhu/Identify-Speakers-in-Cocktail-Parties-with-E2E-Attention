{
 "cells": [
  {
   "cell_type": "code",
   "execution_count": 5,
   "metadata": {},
   "outputs": [],
   "source": [
    "import sys\n",
    "from librosa.core import resample\n",
    "import pandas as pd\n",
    "import numpy as np\n",
    "from IPython.display import Audio\n",
    "import torch\n",
    "import pathlib\n",
    "def create_dir(filename):\n",
    "    pathlib.Path('/'.join(filename.split('/')[:-1])).mkdir(parents=True, exist_ok=True)\n",
    "from tqdm.notebook import tqdm\n",
    "sys.path.append('Conv-TasNet/src/')\n",
    "sys.path.append('SincNet/')\n",
    "from conv_tasnet import *\n",
    "from pit_criterion import cal_loss\n",
    "from dnn_models import *\n",
    "from data_io import ReadList,read_conf_inp,str_to_bool\n",
    "from collections import Counter\n",
    "device = 1\n",
    "root = '../'\n",
    "old_sr = 16000\n",
    "new_sr = 8000"
   ]
  },
  {
   "cell_type": "code",
   "execution_count": 7,
   "metadata": {},
   "outputs": [],
   "source": [
    "def load8hz(filename):\n",
    "    samples = np.load(filename)/(2**15)\n",
    "    samples = resample(samples, old_sr, new_sr)\n",
    "    # pad the samples\n",
    "    if len(samples)>16000:\n",
    "        samples = samples[:16000]\n",
    "    if len(samples)<16000:\n",
    "        padding = np.zeros(16000-len(samples))\n",
    "        samples = np.concatenate([samples, padding])\n",
    "    \n",
    "    return samples\n",
    "\n",
    "class SourceSet(torch.utils.data.Dataset):\n",
    "    def __init__(self, root, csv):\n",
    "        super().__init__()\n",
    "        self.root = root\n",
    "        self.csv = pd.read_csv(root+csv)\n",
    "    def __len__(self):\n",
    "        return len(self.csv)\n",
    "    def __getitem__(self, idx):\n",
    "        row = self.csv.iloc[idx]\n",
    "        sig1, sig2 = load8hz(root+row['first_file']), load8hz(root+row['second_file'])\n",
    "        return sig1, sig2\n",
    "sourceset_train = SourceSet(root, 'overlay-train.csv')\n"
   ]
  },
  {
   "cell_type": "code",
   "execution_count": 6,
   "metadata": {},
   "outputs": [
    {
     "data": {
      "text/plain": [
       "ConvTasNet(\n",
       "  (encoder): Encoder(\n",
       "    (conv1d_U): Conv1d(1, 256, kernel_size=(20,), stride=(10,), bias=False)\n",
       "  )\n",
       "  (separator): TemporalConvNet(\n",
       "    (network): Sequential(\n",
       "      (0): ChannelwiseLayerNorm()\n",
       "      (1): Conv1d(256, 256, kernel_size=(1,), stride=(1,), bias=False)\n",
       "      (2): Sequential(\n",
       "        (0): Sequential(\n",
       "          (0): TemporalBlock(\n",
       "            (net): Sequential(\n",
       "              (0): Conv1d(256, 512, kernel_size=(1,), stride=(1,), bias=False)\n",
       "              (1): PReLU(num_parameters=1)\n",
       "              (2): GlobalLayerNorm()\n",
       "              (3): DepthwiseSeparableConv(\n",
       "                (net): Sequential(\n",
       "                  (0): Conv1d(512, 512, kernel_size=(3,), stride=(1,), padding=(1,), groups=512, bias=False)\n",
       "                  (1): PReLU(num_parameters=1)\n",
       "                  (2): GlobalLayerNorm()\n",
       "                  (3): Conv1d(512, 256, kernel_size=(1,), stride=(1,), bias=False)\n",
       "                )\n",
       "              )\n",
       "            )\n",
       "          )\n",
       "          (1): TemporalBlock(\n",
       "            (net): Sequential(\n",
       "              (0): Conv1d(256, 512, kernel_size=(1,), stride=(1,), bias=False)\n",
       "              (1): PReLU(num_parameters=1)\n",
       "              (2): GlobalLayerNorm()\n",
       "              (3): DepthwiseSeparableConv(\n",
       "                (net): Sequential(\n",
       "                  (0): Conv1d(512, 512, kernel_size=(3,), stride=(1,), padding=(2,), dilation=(2,), groups=512, bias=False)\n",
       "                  (1): PReLU(num_parameters=1)\n",
       "                  (2): GlobalLayerNorm()\n",
       "                  (3): Conv1d(512, 256, kernel_size=(1,), stride=(1,), bias=False)\n",
       "                )\n",
       "              )\n",
       "            )\n",
       "          )\n",
       "          (2): TemporalBlock(\n",
       "            (net): Sequential(\n",
       "              (0): Conv1d(256, 512, kernel_size=(1,), stride=(1,), bias=False)\n",
       "              (1): PReLU(num_parameters=1)\n",
       "              (2): GlobalLayerNorm()\n",
       "              (3): DepthwiseSeparableConv(\n",
       "                (net): Sequential(\n",
       "                  (0): Conv1d(512, 512, kernel_size=(3,), stride=(1,), padding=(4,), dilation=(4,), groups=512, bias=False)\n",
       "                  (1): PReLU(num_parameters=1)\n",
       "                  (2): GlobalLayerNorm()\n",
       "                  (3): Conv1d(512, 256, kernel_size=(1,), stride=(1,), bias=False)\n",
       "                )\n",
       "              )\n",
       "            )\n",
       "          )\n",
       "          (3): TemporalBlock(\n",
       "            (net): Sequential(\n",
       "              (0): Conv1d(256, 512, kernel_size=(1,), stride=(1,), bias=False)\n",
       "              (1): PReLU(num_parameters=1)\n",
       "              (2): GlobalLayerNorm()\n",
       "              (3): DepthwiseSeparableConv(\n",
       "                (net): Sequential(\n",
       "                  (0): Conv1d(512, 512, kernel_size=(3,), stride=(1,), padding=(8,), dilation=(8,), groups=512, bias=False)\n",
       "                  (1): PReLU(num_parameters=1)\n",
       "                  (2): GlobalLayerNorm()\n",
       "                  (3): Conv1d(512, 256, kernel_size=(1,), stride=(1,), bias=False)\n",
       "                )\n",
       "              )\n",
       "            )\n",
       "          )\n",
       "          (4): TemporalBlock(\n",
       "            (net): Sequential(\n",
       "              (0): Conv1d(256, 512, kernel_size=(1,), stride=(1,), bias=False)\n",
       "              (1): PReLU(num_parameters=1)\n",
       "              (2): GlobalLayerNorm()\n",
       "              (3): DepthwiseSeparableConv(\n",
       "                (net): Sequential(\n",
       "                  (0): Conv1d(512, 512, kernel_size=(3,), stride=(1,), padding=(16,), dilation=(16,), groups=512, bias=False)\n",
       "                  (1): PReLU(num_parameters=1)\n",
       "                  (2): GlobalLayerNorm()\n",
       "                  (3): Conv1d(512, 256, kernel_size=(1,), stride=(1,), bias=False)\n",
       "                )\n",
       "              )\n",
       "            )\n",
       "          )\n",
       "          (5): TemporalBlock(\n",
       "            (net): Sequential(\n",
       "              (0): Conv1d(256, 512, kernel_size=(1,), stride=(1,), bias=False)\n",
       "              (1): PReLU(num_parameters=1)\n",
       "              (2): GlobalLayerNorm()\n",
       "              (3): DepthwiseSeparableConv(\n",
       "                (net): Sequential(\n",
       "                  (0): Conv1d(512, 512, kernel_size=(3,), stride=(1,), padding=(32,), dilation=(32,), groups=512, bias=False)\n",
       "                  (1): PReLU(num_parameters=1)\n",
       "                  (2): GlobalLayerNorm()\n",
       "                  (3): Conv1d(512, 256, kernel_size=(1,), stride=(1,), bias=False)\n",
       "                )\n",
       "              )\n",
       "            )\n",
       "          )\n",
       "          (6): TemporalBlock(\n",
       "            (net): Sequential(\n",
       "              (0): Conv1d(256, 512, kernel_size=(1,), stride=(1,), bias=False)\n",
       "              (1): PReLU(num_parameters=1)\n",
       "              (2): GlobalLayerNorm()\n",
       "              (3): DepthwiseSeparableConv(\n",
       "                (net): Sequential(\n",
       "                  (0): Conv1d(512, 512, kernel_size=(3,), stride=(1,), padding=(64,), dilation=(64,), groups=512, bias=False)\n",
       "                  (1): PReLU(num_parameters=1)\n",
       "                  (2): GlobalLayerNorm()\n",
       "                  (3): Conv1d(512, 256, kernel_size=(1,), stride=(1,), bias=False)\n",
       "                )\n",
       "              )\n",
       "            )\n",
       "          )\n",
       "          (7): TemporalBlock(\n",
       "            (net): Sequential(\n",
       "              (0): Conv1d(256, 512, kernel_size=(1,), stride=(1,), bias=False)\n",
       "              (1): PReLU(num_parameters=1)\n",
       "              (2): GlobalLayerNorm()\n",
       "              (3): DepthwiseSeparableConv(\n",
       "                (net): Sequential(\n",
       "                  (0): Conv1d(512, 512, kernel_size=(3,), stride=(1,), padding=(128,), dilation=(128,), groups=512, bias=False)\n",
       "                  (1): PReLU(num_parameters=1)\n",
       "                  (2): GlobalLayerNorm()\n",
       "                  (3): Conv1d(512, 256, kernel_size=(1,), stride=(1,), bias=False)\n",
       "                )\n",
       "              )\n",
       "            )\n",
       "          )\n",
       "        )\n",
       "        (1): Sequential(\n",
       "          (0): TemporalBlock(\n",
       "            (net): Sequential(\n",
       "              (0): Conv1d(256, 512, kernel_size=(1,), stride=(1,), bias=False)\n",
       "              (1): PReLU(num_parameters=1)\n",
       "              (2): GlobalLayerNorm()\n",
       "              (3): DepthwiseSeparableConv(\n",
       "                (net): Sequential(\n",
       "                  (0): Conv1d(512, 512, kernel_size=(3,), stride=(1,), padding=(1,), groups=512, bias=False)\n",
       "                  (1): PReLU(num_parameters=1)\n",
       "                  (2): GlobalLayerNorm()\n",
       "                  (3): Conv1d(512, 256, kernel_size=(1,), stride=(1,), bias=False)\n",
       "                )\n",
       "              )\n",
       "            )\n",
       "          )\n",
       "          (1): TemporalBlock(\n",
       "            (net): Sequential(\n",
       "              (0): Conv1d(256, 512, kernel_size=(1,), stride=(1,), bias=False)\n",
       "              (1): PReLU(num_parameters=1)\n",
       "              (2): GlobalLayerNorm()\n",
       "              (3): DepthwiseSeparableConv(\n",
       "                (net): Sequential(\n",
       "                  (0): Conv1d(512, 512, kernel_size=(3,), stride=(1,), padding=(2,), dilation=(2,), groups=512, bias=False)\n",
       "                  (1): PReLU(num_parameters=1)\n",
       "                  (2): GlobalLayerNorm()\n",
       "                  (3): Conv1d(512, 256, kernel_size=(1,), stride=(1,), bias=False)\n",
       "                )\n",
       "              )\n",
       "            )\n",
       "          )\n",
       "          (2): TemporalBlock(\n",
       "            (net): Sequential(\n",
       "              (0): Conv1d(256, 512, kernel_size=(1,), stride=(1,), bias=False)\n",
       "              (1): PReLU(num_parameters=1)\n",
       "              (2): GlobalLayerNorm()\n",
       "              (3): DepthwiseSeparableConv(\n",
       "                (net): Sequential(\n",
       "                  (0): Conv1d(512, 512, kernel_size=(3,), stride=(1,), padding=(4,), dilation=(4,), groups=512, bias=False)\n",
       "                  (1): PReLU(num_parameters=1)\n",
       "                  (2): GlobalLayerNorm()\n",
       "                  (3): Conv1d(512, 256, kernel_size=(1,), stride=(1,), bias=False)\n",
       "                )\n",
       "              )\n",
       "            )\n",
       "          )\n",
       "          (3): TemporalBlock(\n",
       "            (net): Sequential(\n",
       "              (0): Conv1d(256, 512, kernel_size=(1,), stride=(1,), bias=False)\n",
       "              (1): PReLU(num_parameters=1)\n",
       "              (2): GlobalLayerNorm()\n",
       "              (3): DepthwiseSeparableConv(\n",
       "                (net): Sequential(\n",
       "                  (0): Conv1d(512, 512, kernel_size=(3,), stride=(1,), padding=(8,), dilation=(8,), groups=512, bias=False)\n",
       "                  (1): PReLU(num_parameters=1)\n",
       "                  (2): GlobalLayerNorm()\n",
       "                  (3): Conv1d(512, 256, kernel_size=(1,), stride=(1,), bias=False)\n",
       "                )\n",
       "              )\n",
       "            )\n",
       "          )\n",
       "          (4): TemporalBlock(\n",
       "            (net): Sequential(\n",
       "              (0): Conv1d(256, 512, kernel_size=(1,), stride=(1,), bias=False)\n",
       "              (1): PReLU(num_parameters=1)\n",
       "              (2): GlobalLayerNorm()\n",
       "              (3): DepthwiseSeparableConv(\n",
       "                (net): Sequential(\n",
       "                  (0): Conv1d(512, 512, kernel_size=(3,), stride=(1,), padding=(16,), dilation=(16,), groups=512, bias=False)\n",
       "                  (1): PReLU(num_parameters=1)\n",
       "                  (2): GlobalLayerNorm()\n",
       "                  (3): Conv1d(512, 256, kernel_size=(1,), stride=(1,), bias=False)\n",
       "                )\n",
       "              )\n",
       "            )\n",
       "          )\n",
       "          (5): TemporalBlock(\n",
       "            (net): Sequential(\n",
       "              (0): Conv1d(256, 512, kernel_size=(1,), stride=(1,), bias=False)\n",
       "              (1): PReLU(num_parameters=1)\n",
       "              (2): GlobalLayerNorm()\n",
       "              (3): DepthwiseSeparableConv(\n",
       "                (net): Sequential(\n",
       "                  (0): Conv1d(512, 512, kernel_size=(3,), stride=(1,), padding=(32,), dilation=(32,), groups=512, bias=False)\n",
       "                  (1): PReLU(num_parameters=1)\n",
       "                  (2): GlobalLayerNorm()\n",
       "                  (3): Conv1d(512, 256, kernel_size=(1,), stride=(1,), bias=False)\n",
       "                )\n",
       "              )\n",
       "            )\n",
       "          )\n",
       "          (6): TemporalBlock(\n",
       "            (net): Sequential(\n",
       "              (0): Conv1d(256, 512, kernel_size=(1,), stride=(1,), bias=False)\n",
       "              (1): PReLU(num_parameters=1)\n",
       "              (2): GlobalLayerNorm()\n",
       "              (3): DepthwiseSeparableConv(\n",
       "                (net): Sequential(\n",
       "                  (0): Conv1d(512, 512, kernel_size=(3,), stride=(1,), padding=(64,), dilation=(64,), groups=512, bias=False)\n",
       "                  (1): PReLU(num_parameters=1)\n",
       "                  (2): GlobalLayerNorm()\n",
       "                  (3): Conv1d(512, 256, kernel_size=(1,), stride=(1,), bias=False)\n",
       "                )\n",
       "              )\n",
       "            )\n",
       "          )\n",
       "          (7): TemporalBlock(\n",
       "            (net): Sequential(\n",
       "              (0): Conv1d(256, 512, kernel_size=(1,), stride=(1,), bias=False)\n",
       "              (1): PReLU(num_parameters=1)\n",
       "              (2): GlobalLayerNorm()\n",
       "              (3): DepthwiseSeparableConv(\n",
       "                (net): Sequential(\n",
       "                  (0): Conv1d(512, 512, kernel_size=(3,), stride=(1,), padding=(128,), dilation=(128,), groups=512, bias=False)\n",
       "                  (1): PReLU(num_parameters=1)\n",
       "                  (2): GlobalLayerNorm()\n",
       "                  (3): Conv1d(512, 256, kernel_size=(1,), stride=(1,), bias=False)\n",
       "                )\n",
       "              )\n",
       "            )\n",
       "          )\n",
       "        )\n",
       "        (2): Sequential(\n",
       "          (0): TemporalBlock(\n",
       "            (net): Sequential(\n",
       "              (0): Conv1d(256, 512, kernel_size=(1,), stride=(1,), bias=False)\n",
       "              (1): PReLU(num_parameters=1)\n",
       "              (2): GlobalLayerNorm()\n",
       "              (3): DepthwiseSeparableConv(\n",
       "                (net): Sequential(\n",
       "                  (0): Conv1d(512, 512, kernel_size=(3,), stride=(1,), padding=(1,), groups=512, bias=False)\n",
       "                  (1): PReLU(num_parameters=1)\n",
       "                  (2): GlobalLayerNorm()\n",
       "                  (3): Conv1d(512, 256, kernel_size=(1,), stride=(1,), bias=False)\n",
       "                )\n",
       "              )\n",
       "            )\n",
       "          )\n",
       "          (1): TemporalBlock(\n",
       "            (net): Sequential(\n",
       "              (0): Conv1d(256, 512, kernel_size=(1,), stride=(1,), bias=False)\n",
       "              (1): PReLU(num_parameters=1)\n",
       "              (2): GlobalLayerNorm()\n",
       "              (3): DepthwiseSeparableConv(\n",
       "                (net): Sequential(\n",
       "                  (0): Conv1d(512, 512, kernel_size=(3,), stride=(1,), padding=(2,), dilation=(2,), groups=512, bias=False)\n",
       "                  (1): PReLU(num_parameters=1)\n",
       "                  (2): GlobalLayerNorm()\n",
       "                  (3): Conv1d(512, 256, kernel_size=(1,), stride=(1,), bias=False)\n",
       "                )\n",
       "              )\n",
       "            )\n",
       "          )\n",
       "          (2): TemporalBlock(\n",
       "            (net): Sequential(\n",
       "              (0): Conv1d(256, 512, kernel_size=(1,), stride=(1,), bias=False)\n",
       "              (1): PReLU(num_parameters=1)\n",
       "              (2): GlobalLayerNorm()\n",
       "              (3): DepthwiseSeparableConv(\n",
       "                (net): Sequential(\n",
       "                  (0): Conv1d(512, 512, kernel_size=(3,), stride=(1,), padding=(4,), dilation=(4,), groups=512, bias=False)\n",
       "                  (1): PReLU(num_parameters=1)\n",
       "                  (2): GlobalLayerNorm()\n",
       "                  (3): Conv1d(512, 256, kernel_size=(1,), stride=(1,), bias=False)\n",
       "                )\n",
       "              )\n",
       "            )\n",
       "          )\n",
       "          (3): TemporalBlock(\n",
       "            (net): Sequential(\n",
       "              (0): Conv1d(256, 512, kernel_size=(1,), stride=(1,), bias=False)\n",
       "              (1): PReLU(num_parameters=1)\n",
       "              (2): GlobalLayerNorm()\n",
       "              (3): DepthwiseSeparableConv(\n",
       "                (net): Sequential(\n",
       "                  (0): Conv1d(512, 512, kernel_size=(3,), stride=(1,), padding=(8,), dilation=(8,), groups=512, bias=False)\n",
       "                  (1): PReLU(num_parameters=1)\n",
       "                  (2): GlobalLayerNorm()\n",
       "                  (3): Conv1d(512, 256, kernel_size=(1,), stride=(1,), bias=False)\n",
       "                )\n",
       "              )\n",
       "            )\n",
       "          )\n",
       "          (4): TemporalBlock(\n",
       "            (net): Sequential(\n",
       "              (0): Conv1d(256, 512, kernel_size=(1,), stride=(1,), bias=False)\n",
       "              (1): PReLU(num_parameters=1)\n",
       "              (2): GlobalLayerNorm()\n",
       "              (3): DepthwiseSeparableConv(\n",
       "                (net): Sequential(\n",
       "                  (0): Conv1d(512, 512, kernel_size=(3,), stride=(1,), padding=(16,), dilation=(16,), groups=512, bias=False)\n",
       "                  (1): PReLU(num_parameters=1)\n",
       "                  (2): GlobalLayerNorm()\n",
       "                  (3): Conv1d(512, 256, kernel_size=(1,), stride=(1,), bias=False)\n",
       "                )\n",
       "              )\n",
       "            )\n",
       "          )\n",
       "          (5): TemporalBlock(\n",
       "            (net): Sequential(\n",
       "              (0): Conv1d(256, 512, kernel_size=(1,), stride=(1,), bias=False)\n",
       "              (1): PReLU(num_parameters=1)\n",
       "              (2): GlobalLayerNorm()\n",
       "              (3): DepthwiseSeparableConv(\n",
       "                (net): Sequential(\n",
       "                  (0): Conv1d(512, 512, kernel_size=(3,), stride=(1,), padding=(32,), dilation=(32,), groups=512, bias=False)\n",
       "                  (1): PReLU(num_parameters=1)\n",
       "                  (2): GlobalLayerNorm()\n",
       "                  (3): Conv1d(512, 256, kernel_size=(1,), stride=(1,), bias=False)\n",
       "                )\n",
       "              )\n",
       "            )\n",
       "          )\n",
       "          (6): TemporalBlock(\n",
       "            (net): Sequential(\n",
       "              (0): Conv1d(256, 512, kernel_size=(1,), stride=(1,), bias=False)\n",
       "              (1): PReLU(num_parameters=1)\n",
       "              (2): GlobalLayerNorm()\n",
       "              (3): DepthwiseSeparableConv(\n",
       "                (net): Sequential(\n",
       "                  (0): Conv1d(512, 512, kernel_size=(3,), stride=(1,), padding=(64,), dilation=(64,), groups=512, bias=False)\n",
       "                  (1): PReLU(num_parameters=1)\n",
       "                  (2): GlobalLayerNorm()\n",
       "                  (3): Conv1d(512, 256, kernel_size=(1,), stride=(1,), bias=False)\n",
       "                )\n",
       "              )\n",
       "            )\n",
       "          )\n",
       "          (7): TemporalBlock(\n",
       "            (net): Sequential(\n",
       "              (0): Conv1d(256, 512, kernel_size=(1,), stride=(1,), bias=False)\n",
       "              (1): PReLU(num_parameters=1)\n",
       "              (2): GlobalLayerNorm()\n",
       "              (3): DepthwiseSeparableConv(\n",
       "                (net): Sequential(\n",
       "                  (0): Conv1d(512, 512, kernel_size=(3,), stride=(1,), padding=(128,), dilation=(128,), groups=512, bias=False)\n",
       "                  (1): PReLU(num_parameters=1)\n",
       "                  (2): GlobalLayerNorm()\n",
       "                  (3): Conv1d(512, 256, kernel_size=(1,), stride=(1,), bias=False)\n",
       "                )\n",
       "              )\n",
       "            )\n",
       "          )\n",
       "        )\n",
       "        (3): Sequential(\n",
       "          (0): TemporalBlock(\n",
       "            (net): Sequential(\n",
       "              (0): Conv1d(256, 512, kernel_size=(1,), stride=(1,), bias=False)\n",
       "              (1): PReLU(num_parameters=1)\n",
       "              (2): GlobalLayerNorm()\n",
       "              (3): DepthwiseSeparableConv(\n",
       "                (net): Sequential(\n",
       "                  (0): Conv1d(512, 512, kernel_size=(3,), stride=(1,), padding=(1,), groups=512, bias=False)\n",
       "                  (1): PReLU(num_parameters=1)\n",
       "                  (2): GlobalLayerNorm()\n",
       "                  (3): Conv1d(512, 256, kernel_size=(1,), stride=(1,), bias=False)\n",
       "                )\n",
       "              )\n",
       "            )\n",
       "          )\n",
       "          (1): TemporalBlock(\n",
       "            (net): Sequential(\n",
       "              (0): Conv1d(256, 512, kernel_size=(1,), stride=(1,), bias=False)\n",
       "              (1): PReLU(num_parameters=1)\n",
       "              (2): GlobalLayerNorm()\n",
       "              (3): DepthwiseSeparableConv(\n",
       "                (net): Sequential(\n",
       "                  (0): Conv1d(512, 512, kernel_size=(3,), stride=(1,), padding=(2,), dilation=(2,), groups=512, bias=False)\n",
       "                  (1): PReLU(num_parameters=1)\n",
       "                  (2): GlobalLayerNorm()\n",
       "                  (3): Conv1d(512, 256, kernel_size=(1,), stride=(1,), bias=False)\n",
       "                )\n",
       "              )\n",
       "            )\n",
       "          )\n",
       "          (2): TemporalBlock(\n",
       "            (net): Sequential(\n",
       "              (0): Conv1d(256, 512, kernel_size=(1,), stride=(1,), bias=False)\n",
       "              (1): PReLU(num_parameters=1)\n",
       "              (2): GlobalLayerNorm()\n",
       "              (3): DepthwiseSeparableConv(\n",
       "                (net): Sequential(\n",
       "                  (0): Conv1d(512, 512, kernel_size=(3,), stride=(1,), padding=(4,), dilation=(4,), groups=512, bias=False)\n",
       "                  (1): PReLU(num_parameters=1)\n",
       "                  (2): GlobalLayerNorm()\n",
       "                  (3): Conv1d(512, 256, kernel_size=(1,), stride=(1,), bias=False)\n",
       "                )\n",
       "              )\n",
       "            )\n",
       "          )\n",
       "          (3): TemporalBlock(\n",
       "            (net): Sequential(\n",
       "              (0): Conv1d(256, 512, kernel_size=(1,), stride=(1,), bias=False)\n",
       "              (1): PReLU(num_parameters=1)\n",
       "              (2): GlobalLayerNorm()\n",
       "              (3): DepthwiseSeparableConv(\n",
       "                (net): Sequential(\n",
       "                  (0): Conv1d(512, 512, kernel_size=(3,), stride=(1,), padding=(8,), dilation=(8,), groups=512, bias=False)\n",
       "                  (1): PReLU(num_parameters=1)\n",
       "                  (2): GlobalLayerNorm()\n",
       "                  (3): Conv1d(512, 256, kernel_size=(1,), stride=(1,), bias=False)\n",
       "                )\n",
       "              )\n",
       "            )\n",
       "          )\n",
       "          (4): TemporalBlock(\n",
       "            (net): Sequential(\n",
       "              (0): Conv1d(256, 512, kernel_size=(1,), stride=(1,), bias=False)\n",
       "              (1): PReLU(num_parameters=1)\n",
       "              (2): GlobalLayerNorm()\n",
       "              (3): DepthwiseSeparableConv(\n",
       "                (net): Sequential(\n",
       "                  (0): Conv1d(512, 512, kernel_size=(3,), stride=(1,), padding=(16,), dilation=(16,), groups=512, bias=False)\n",
       "                  (1): PReLU(num_parameters=1)\n",
       "                  (2): GlobalLayerNorm()\n",
       "                  (3): Conv1d(512, 256, kernel_size=(1,), stride=(1,), bias=False)\n",
       "                )\n",
       "              )\n",
       "            )\n",
       "          )\n",
       "          (5): TemporalBlock(\n",
       "            (net): Sequential(\n",
       "              (0): Conv1d(256, 512, kernel_size=(1,), stride=(1,), bias=False)\n",
       "              (1): PReLU(num_parameters=1)\n",
       "              (2): GlobalLayerNorm()\n",
       "              (3): DepthwiseSeparableConv(\n",
       "                (net): Sequential(\n",
       "                  (0): Conv1d(512, 512, kernel_size=(3,), stride=(1,), padding=(32,), dilation=(32,), groups=512, bias=False)\n",
       "                  (1): PReLU(num_parameters=1)\n",
       "                  (2): GlobalLayerNorm()\n",
       "                  (3): Conv1d(512, 256, kernel_size=(1,), stride=(1,), bias=False)\n",
       "                )\n",
       "              )\n",
       "            )\n",
       "          )\n",
       "          (6): TemporalBlock(\n",
       "            (net): Sequential(\n",
       "              (0): Conv1d(256, 512, kernel_size=(1,), stride=(1,), bias=False)\n",
       "              (1): PReLU(num_parameters=1)\n",
       "              (2): GlobalLayerNorm()\n",
       "              (3): DepthwiseSeparableConv(\n",
       "                (net): Sequential(\n",
       "                  (0): Conv1d(512, 512, kernel_size=(3,), stride=(1,), padding=(64,), dilation=(64,), groups=512, bias=False)\n",
       "                  (1): PReLU(num_parameters=1)\n",
       "                  (2): GlobalLayerNorm()\n",
       "                  (3): Conv1d(512, 256, kernel_size=(1,), stride=(1,), bias=False)\n",
       "                )\n",
       "              )\n",
       "            )\n",
       "          )\n",
       "          (7): TemporalBlock(\n",
       "            (net): Sequential(\n",
       "              (0): Conv1d(256, 512, kernel_size=(1,), stride=(1,), bias=False)\n",
       "              (1): PReLU(num_parameters=1)\n",
       "              (2): GlobalLayerNorm()\n",
       "              (3): DepthwiseSeparableConv(\n",
       "                (net): Sequential(\n",
       "                  (0): Conv1d(512, 512, kernel_size=(3,), stride=(1,), padding=(128,), dilation=(128,), groups=512, bias=False)\n",
       "                  (1): PReLU(num_parameters=1)\n",
       "                  (2): GlobalLayerNorm()\n",
       "                  (3): Conv1d(512, 256, kernel_size=(1,), stride=(1,), bias=False)\n",
       "                )\n",
       "              )\n",
       "            )\n",
       "          )\n",
       "        )\n",
       "      )\n",
       "      (3): Conv1d(256, 512, kernel_size=(1,), stride=(1,), bias=False)\n",
       "    )\n",
       "  )\n",
       "  (decoder): Decoder(\n",
       "    (basis_signals): Linear(in_features=256, out_features=20, bias=False)\n",
       "  )\n",
       ")"
      ]
     },
     "execution_count": 6,
     "metadata": {},
     "output_type": "execute_result"
    }
   ],
   "source": [
    "tasnet = ConvTasNet.load_model('final.pth.tar').cuda(device)\n",
    "tasnet.train()\n",
    "optimizer = torch.optim.Adam(tasnet.parameters(), lr = 0.001)\n",
    "if os.path.exists('models/tasnet.pth'):\n",
    "    print('load model')\n",
    "    checkpoint = torch.load('models/tasnet.pth')\n",
    "    overnet.load_state_dict(checkpoint['model_state_dict'])\n",
    "    optimizer.load_state_dict(checkpoint['optimizer_state_dict'])\n",
    "    loss = checkpoint['loss']\n"
   ]
  },
  {
   "cell_type": "code",
   "execution_count": null,
   "metadata": {},
   "outputs": [
    {
     "data": {
      "application/vnd.jupyter.widget-view+json": {
       "model_id": "a1a51299e20f466fa5075df39bab5746",
       "version_major": 2,
       "version_minor": 0
      },
      "text/plain": [
       "HBox(children=(FloatProgress(value=0.0, max=11020.0), HTML(value='')))"
      ]
     },
     "metadata": {},
     "output_type": "display_data"
    },
    {
     "name": "stdout",
     "output_type": "stream",
     "text": [
      "[1,   200] loss: -5.306 \n",
      "[1,   400] loss: -7.088 \n",
      "[1,   600] loss: -7.693 \n",
      "[1,   800] loss: -8.213 \n",
      "[1,  1000] loss: -8.359 \n",
      "[1,  1200] loss: -9.046 \n",
      "[1,  1400] loss: -9.422 \n",
      "[1,  1600] loss: -9.418 \n",
      "[1,  1800] loss: -9.483 \n",
      "[1,  2000] loss: -9.617 \n",
      "[1,  2400] loss: -9.916 \n",
      "[1,  2600] loss: -10.315 \n",
      "[1,  2800] loss: -10.095 \n",
      "[1,  3000] loss: -10.409 \n",
      "[1,  3400] loss: -10.462 \n",
      "[1,  3600] loss: -10.715 \n",
      "[1,  3800] loss: -10.751 \n",
      "[1,  4000] loss: -10.686 \n"
     ]
    }
   ],
   "source": [
    "batch_size = 8\n",
    "sourceloader_train  = torch.utils.data.DataLoader(sourceset_train, batch_size=batch_size, shuffle=True, pin_memory = True, num_workers = 16)\n",
    "\n",
    "for epoch in range(64):\n",
    "    running_loss = 0.0\n",
    "    for batch_idx, (sig1, sig2) in enumerate(tqdm(sourceloader_train)):\n",
    "        optimizer.zero_grad()\n",
    "        sig1, sig2 = sig1.float().cuda(device), sig2.float().cuda(device)\n",
    "        out = tasnet(sig1+sig2)\n",
    "        source = torch.stack([sig1, sig2], dim = 1).detach()\n",
    "        loss, max_snr, estimate_source, reorder_estimate_source = \\\n",
    "            cal_loss(source, out, torch.ones(batch_size, dtype = torch.int32).cuda(device)*16000)\n",
    "        loss.backward()\n",
    "        torch.nn.utils.clip_grad_norm_(tasnet.parameters(), 0.5)\n",
    "        optimizer.step()\n",
    "\n",
    "        running_loss += loss.item()\n",
    "        if batch_idx % 200 == 199:    # print every 2000 mini-batches\n",
    "            print('[%d, %5d] loss: %.3f ' % \n",
    "                  (epoch + 1, batch_idx + 1, running_loss / 200))\n",
    "            running_loss = 0.0\n",
    "            torch.save({\n",
    "            'model_state_dict': tasnet.state_dict(),\n",
    "            'optimizer_state_dict': optimizer.state_dict(),\n",
    "            'loss': loss\n",
    "            }, 'models/tasnet.pth')"
   ]
  },
  {
   "cell_type": "code",
   "execution_count": 1,
   "metadata": {},
   "outputs": [],
   "source": [
    "\n",
    "\n",
    "\n",
    "def reformat(prefix, i, filename):\n",
    "    filename = filename.split('.')[-2]\n",
    "    return filename + '_' + prefix + '_' + str(i) + '.npy'"
   ]
  },
  {
   "cell_type": "code",
   "execution_count": 2,
   "metadata": {},
   "outputs": [
    {
     "ename": "NameError",
     "evalue": "name 'pd' is not defined",
     "output_type": "error",
     "traceback": [
      "\u001b[0;31m---------------------------------------------------------------------------\u001b[0m",
      "\u001b[0;31mNameError\u001b[0m                                 Traceback (most recent call last)",
      "\u001b[0;32m<ipython-input-2-6eaba3dc5d2c>\u001b[0m in \u001b[0;36m<module>\u001b[0;34m\u001b[0m\n\u001b[1;32m      1\u001b[0m \u001b[0;31m# create a new copy of training data in pwd, with same filename, but replace audio data with de-mixed audio data\u001b[0m\u001b[0;34m\u001b[0m\u001b[0;34m\u001b[0m\u001b[0;34m\u001b[0m\u001b[0m\n\u001b[0;32m----> 2\u001b[0;31m \u001b[0mcsv\u001b[0m \u001b[0;34m=\u001b[0m \u001b[0mpd\u001b[0m\u001b[0;34m.\u001b[0m\u001b[0mread_csv\u001b[0m\u001b[0;34m(\u001b[0m\u001b[0mroot\u001b[0m\u001b[0;34m+\u001b[0m\u001b[0mcsv_name\u001b[0m\u001b[0;34m)\u001b[0m\u001b[0;34m\u001b[0m\u001b[0;34m\u001b[0m\u001b[0m\n\u001b[0m\u001b[1;32m      3\u001b[0m \u001b[0;34m\u001b[0m\u001b[0m\n\u001b[1;32m      4\u001b[0m \u001b[0;32mwith\u001b[0m \u001b[0mtorch\u001b[0m\u001b[0;34m.\u001b[0m\u001b[0mno_grad\u001b[0m\u001b[0;34m(\u001b[0m\u001b[0;34m)\u001b[0m\u001b[0;34m:\u001b[0m\u001b[0;34m\u001b[0m\u001b[0;34m\u001b[0m\u001b[0m\n\u001b[1;32m      5\u001b[0m     \u001b[0;32mfor\u001b[0m \u001b[0mi\u001b[0m \u001b[0;32min\u001b[0m \u001b[0mtqdm\u001b[0m\u001b[0;34m(\u001b[0m\u001b[0mrange\u001b[0m\u001b[0;34m(\u001b[0m\u001b[0mlen\u001b[0m\u001b[0;34m(\u001b[0m\u001b[0mcsv\u001b[0m\u001b[0;34m)\u001b[0m\u001b[0;34m)\u001b[0m\u001b[0;34m)\u001b[0m\u001b[0;34m:\u001b[0m\u001b[0;34m\u001b[0m\u001b[0;34m\u001b[0m\u001b[0m\n",
      "\u001b[0;31mNameError\u001b[0m: name 'pd' is not defined"
     ]
    }
   ],
   "source": [
    "# create a new copy of training data in pwd, with same filename, but replace audio data with de-mixed audio data\n",
    "csv = pd.read_csv(root+csv_name)\n",
    "\n",
    "with torch.no_grad():\n",
    "    for i in tqdm(range(len(csv))): \n",
    "        row = csv.iloc[i]\n",
    "        seg1 = load8hz(root+row['first_file'])\n",
    "        seg2 = load8hz(root+row['second_file'])\n",
    "        create_dir(row['first_file'])\n",
    "        create_dir(row['second_file'])\n",
    "        shorter = min(len(seg1), len(seg2))\n",
    "        if len(seg1)>shorter:\n",
    "            seg1 = seg1[:shorter]\n",
    "        if len(seg2)>shorter:\n",
    "            seg2 = seg2[:shorter]\n",
    "        mixture = torch.Tensor(seg1+seg2).cuda(device)\n",
    "        mixture = mixture[None, ...]\n",
    "        out = model(mixture)\n",
    "        new_seg1, new_seg2 = out[0].cpu().detach().numpy()\n",
    "        newfile1, newfile2 = reformat(mode, i, row['first_file']), reformat(mode, i, row['second_file'])\n",
    "        csv.at[i, 'first_file'] = newfile1\n",
    "        csv.at[i, 'second_file'] = newfile2\n",
    "        np.save(newfile1, new_seg1)\n",
    "        np.save(newfile2, new_seg2)\n",
    "    csv.to_csv(csv_name, index = False)"
   ]
  },
  {
   "cell_type": "code",
   "execution_count": 3,
   "metadata": {},
   "outputs": [
    {
     "ename": "NameError",
     "evalue": "name 'torch' is not defined",
     "output_type": "error",
     "traceback": [
      "\u001b[0;31m---------------------------------------------------------------------------\u001b[0m",
      "\u001b[0;31mNameError\u001b[0m                                 Traceback (most recent call last)",
      "\u001b[0;32m<ipython-input-3-385075045c58>\u001b[0m in \u001b[0;36m<module>\u001b[0;34m\u001b[0m\n\u001b[1;32m     10\u001b[0m     \u001b[0;32mreturn\u001b[0m \u001b[0mchunks\u001b[0m\u001b[0;34m\u001b[0m\u001b[0;34m\u001b[0m\u001b[0m\n\u001b[1;32m     11\u001b[0m \u001b[0;34m\u001b[0m\u001b[0m\n\u001b[0;32m---> 12\u001b[0;31m \u001b[0;32mclass\u001b[0m \u001b[0mChunkSet\u001b[0m\u001b[0;34m(\u001b[0m\u001b[0mtorch\u001b[0m\u001b[0;34m.\u001b[0m\u001b[0mutils\u001b[0m\u001b[0;34m.\u001b[0m\u001b[0mdata\u001b[0m\u001b[0;34m.\u001b[0m\u001b[0mDataset\u001b[0m\u001b[0;34m)\u001b[0m\u001b[0;34m:\u001b[0m\u001b[0;34m\u001b[0m\u001b[0;34m\u001b[0m\u001b[0m\n\u001b[0m\u001b[1;32m     13\u001b[0m     \u001b[0;32mdef\u001b[0m \u001b[0m__init__\u001b[0m\u001b[0;34m(\u001b[0m\u001b[0mself\u001b[0m\u001b[0;34m,\u001b[0m \u001b[0mcsv\u001b[0m\u001b[0;34m,\u001b[0m \u001b[0mmode\u001b[0m\u001b[0;34m=\u001b[0m\u001b[0;34m'train'\u001b[0m\u001b[0;34m)\u001b[0m\u001b[0;34m:\u001b[0m\u001b[0;34m\u001b[0m\u001b[0;34m\u001b[0m\u001b[0m\n\u001b[1;32m     14\u001b[0m         \u001b[0msuper\u001b[0m\u001b[0;34m(\u001b[0m\u001b[0;34m)\u001b[0m\u001b[0;34m.\u001b[0m\u001b[0m__init__\u001b[0m\u001b[0;34m(\u001b[0m\u001b[0;34m)\u001b[0m\u001b[0;34m\u001b[0m\u001b[0;34m\u001b[0m\u001b[0m\n",
      "\u001b[0;31mNameError\u001b[0m: name 'torch' is not defined"
     ]
    }
   ],
   "source": [
    "def chop_chunk(signal):\n",
    "    signal_len = signal.shape[-1]\n",
    "    if signal_len < 16000:\n",
    "        padding = np.zeros(16000-len(signal))\n",
    "        signal = np.cat((signal, padding))\n",
    "    N_fr=signal_len//wlen\n",
    "    chunks = []\n",
    "    for i in range(N_fr):\n",
    "        chunks.append(signal[i*wlen:(i+1)*wlen])\n",
    "    return chunks\n",
    "\n",
    "class ChunkSet(torch.utils.data.Dataset):\n",
    "    def __init__(self, csv, mode='train'):\n",
    "        super().__init__()\n",
    "        self.csv = pd.read_csv(csv)\n",
    "        self.speakers = list(set(self.csv['first_speaker']))\n",
    "        self.speakers.sort()\n",
    "        self.spkr2idx = {spkr:i for i, spkr in enumerate(self.speakers)}\n",
    "        self.mode = mode\n",
    "    def __len__(self):\n",
    "        return len(self.csv)\n",
    "    def __getitem__(self, idx):\n",
    "        row = self.csv.iloc[idx]\n",
    "        spkr1, spkr2 = row['first_speaker'], row['second_speaker']\n",
    "        sig1, sig2 = np.load(row['first_file']), np.load(row['second_file'])\n",
    "        chunk1, chunk2 = chop_chunk(sig1), chop_chunk(sig2)\n",
    "        target_vec = np.zeros(len(self.speakers))\n",
    "        target_vec[self.spkr2idx[spkr1]] = 1\n",
    "        target_vec[self.spkr2idx[spkr2]] = 1\n",
    "        if self.mode == 'val':\n",
    "            return np.array(chunk1), np.array(chunk2), target_vec\n",
    "        if self.mode == 'train':\n",
    "            return chunk1[np.random.randint(len(chunk1))], chunk2[np.random.randint(len(chunk2))], target_vec\n",
    "\n",
    "chunkset_train = ChunkSet('overlay-train.csv', mode = 'train')\n",
    "chunkset_val = ChunkSet('overlay-val.csv', mode = 'val')"
   ]
  },
  {
   "cell_type": "code",
   "execution_count": 3,
   "metadata": {},
   "outputs": [],
   "source": [
    "def find_max2(tensor):\n",
    "    array = tensor.cpu().detach().numpy()\n",
    "    max2 = []\n",
    "    for row in array:\n",
    "        max2.append(np.argsort(row)[::-1][:2])\n",
    "    return np.array(max2)\n",
    "\n",
    "def compute_corrects(tensor1, tensor2):\n",
    "    max_1, max_2 = find_max2(tensor1), find_max2(tensor2)\n",
    "    batch_size = max_1.shape[0]\n",
    "    batch_corrects = 0\n",
    "    for i in range(batch_size):\n",
    "        if Counter(max_1[i])==Counter(max_2[i]):\n",
    "            batch_corrects+=1\n",
    "    return batch_corrects"
   ]
  },
  {
   "cell_type": "code",
   "execution_count": 13,
   "metadata": {},
   "outputs": [],
   "source": [
    "fs=new_sr\n",
    "cw_len=200\n",
    "cw_shift=10\n",
    "\n",
    "wlen=int(fs*cw_len/1000.00)\n",
    "#wshift=int(fs*cw_shift/1000.00)\n",
    "\n",
    "\n",
    "\n",
    "\n",
    "class MixedClassifier(nn.Module):\n",
    "    def __init__(self):\n",
    "        super().__init__()\n",
    "        cnn_arch = {\n",
    "                'input_dim':wlen,\n",
    "                'fs':fs,\n",
    "                'cnn_N_filt':[80,60,60],\n",
    "                'cnn_len_filt':[251,5,5],\n",
    "                'cnn_max_pool_len':[3,3,3],\n",
    "                'cnn_use_laynorm_inp':True,\n",
    "                'cnn_use_batchnorm_inp':False,\n",
    "                'cnn_use_laynorm':[True,True,True],\n",
    "                'cnn_use_batchnorm':[False,False,False],\n",
    "                'cnn_act':['leaky_relu','leaky_relu','leaky_relu'],\n",
    "                'cnn_drop':[0.0,0.0,0.0]\n",
    "                }\n",
    "        self.cnn_net = SincNet(cnn_arch)\n",
    "\n",
    "        dnn1_arch = {'input_dim': self.cnn_net.out_dim,\n",
    "                  'fc_lay': [2048,2048,2048],\n",
    "                  'fc_drop': [0.0,0.0,0.0], \n",
    "                  'fc_use_batchnorm': [True,True,True],\n",
    "                  'fc_use_laynorm': [False,False,False],\n",
    "                  'fc_use_laynorm_inp': False,\n",
    "                  'fc_use_batchnorm_inp': False,\n",
    "                  'fc_act': ['leaky_relu','leaky_relu','leaky_relu']\n",
    "                  }\n",
    "        self.dnn1 = MLP(dnn1_arch)\n",
    "\n",
    "\n",
    "        dnn2_arch = {'input_dim':2048 ,\n",
    "                  'fc_lay': [20],\n",
    "                  'fc_drop': [0.0], \n",
    "                  'fc_use_batchnorm': [False],\n",
    "                  'fc_use_laynorm': [False],\n",
    "                  'fc_use_laynorm_inp': False,\n",
    "                  'fc_use_batchnorm_inp': False,\n",
    "                  'fc_act': ['linear'] # leakyrelu(1) is just identity mapping\n",
    "                  }\n",
    "        self.dnn2 = MLP(dnn2_arch)\n",
    "        \n",
    "        self.softmax = nn.Softmax(dim = 1)\n",
    "    def forward(self, X1, X2):\n",
    "        out1, out2 = self.cnn_net(X1), self.cnn_net(X2)\n",
    "        out1, out2 = self.dnn1(out1), self.dnn1(out2)\n",
    "        out1, out2 = self.dnn2(out1), self.dnn2(out2)\n",
    "        out1, out2 = self.softmax(out1), self.softmax(out2)\n",
    "        out = torch.stack([out1, out2], dim = 0)\n",
    "        out,_ = torch.max(out, dim = 0)\n",
    "        return out\n",
    "\n",
    "cls = MixedClassifier().cuda(device)\n",
    "cls.train()\n",
    "optimizer = torch.optim.Adam(cls.parameters(), 0.001)"
   ]
  },
  {
   "cell_type": "code",
   "execution_count": 19,
   "metadata": {},
   "outputs": [
    {
     "data": {
      "application/vnd.jupyter.widget-view+json": {
       "model_id": "9b4b5c07e2ac44018b661803d007bab2",
       "version_major": 2,
       "version_minor": 0
      },
      "text/plain": [
       "HBox(children=(FloatProgress(value=0.0, max=2755.0), HTML(value='')))"
      ]
     },
     "metadata": {},
     "output_type": "display_data"
    },
    {
     "name": "stdout",
     "output_type": "stream",
     "text": [
      "[1,   200] loss: 0.189 accuracy: 0.300\n",
      "[1,   400] loss: 0.187 accuracy: 0.312\n",
      "[1,   600] loss: 0.190 accuracy: 0.303\n",
      "[1,   800] loss: 0.186 accuracy: 0.318\n",
      "[1,  1000] loss: 0.189 accuracy: 0.302\n",
      "[1,  1200] loss: 0.189 accuracy: 0.300\n",
      "[1,  1400] loss: 0.188 accuracy: 0.310\n",
      "[1,  1600] loss: 0.189 accuracy: 0.301\n",
      "[1,  1800] loss: 0.189 accuracy: 0.302\n",
      "[1,  2000] loss: 0.189 accuracy: 0.300\n",
      "[1,  2200] loss: 0.190 accuracy: 0.302\n",
      "[1,  2400] loss: 0.187 accuracy: 0.308\n",
      "[1,  2600] loss: 0.189 accuracy: 0.302\n",
      "\n"
     ]
    },
    {
     "data": {
      "application/vnd.jupyter.widget-view+json": {
       "model_id": "d97215eb47624668b9f48d9f06b7e338",
       "version_major": 2,
       "version_minor": 0
      },
      "text/plain": [
       "HBox(children=(FloatProgress(value=0.0, max=2755.0), HTML(value='')))"
      ]
     },
     "metadata": {},
     "output_type": "display_data"
    },
    {
     "name": "stdout",
     "output_type": "stream",
     "text": [
      "[2,   200] loss: 0.329 accuracy: 0.559\n",
      "[2,   400] loss: 0.186 accuracy: 0.312\n",
      "[2,   600] loss: 0.182 accuracy: 0.332\n",
      "[2,   800] loss: 0.185 accuracy: 0.313\n",
      "[2,  1000] loss: 0.184 accuracy: 0.322\n",
      "[2,  1200] loss: 0.184 accuracy: 0.320\n",
      "[2,  1400] loss: 0.185 accuracy: 0.307\n",
      "[2,  1600] loss: 0.187 accuracy: 0.305\n",
      "[2,  1800] loss: 0.185 accuracy: 0.318\n",
      "[2,  2000] loss: 0.187 accuracy: 0.302\n",
      "[2,  2200] loss: 0.185 accuracy: 0.312\n",
      "[2,  2400] loss: 0.186 accuracy: 0.308\n",
      "[2,  2600] loss: 0.185 accuracy: 0.318\n",
      "\n"
     ]
    },
    {
     "data": {
      "application/vnd.jupyter.widget-view+json": {
       "model_id": "b6eb2d2956604d348fce7d812b820ed1",
       "version_major": 2,
       "version_minor": 0
      },
      "text/plain": [
       "HBox(children=(FloatProgress(value=0.0, max=2755.0), HTML(value='')))"
      ]
     },
     "metadata": {},
     "output_type": "display_data"
    },
    {
     "name": "stdout",
     "output_type": "stream",
     "text": [
      "[3,   200] loss: 0.329 accuracy: 0.553\n",
      "[3,   400] loss: 0.182 accuracy: 0.328\n",
      "[3,   600] loss: 0.184 accuracy: 0.316\n",
      "[3,   800] loss: 0.184 accuracy: 0.322\n",
      "[3,  1000] loss: 0.180 accuracy: 0.325\n",
      "[3,  1200] loss: 0.184 accuracy: 0.312\n",
      "[3,  1400] loss: 0.181 accuracy: 0.331\n",
      "[3,  1600] loss: 0.183 accuracy: 0.327\n",
      "[3,  1800] loss: 0.185 accuracy: 0.320\n",
      "[3,  2000] loss: 0.183 accuracy: 0.323\n",
      "[3,  2200] loss: 0.182 accuracy: 0.327\n",
      "[3,  2400] loss: 0.185 accuracy: 0.317\n",
      "[3,  2600] loss: 0.180 accuracy: 0.329\n",
      "\n"
     ]
    },
    {
     "data": {
      "application/vnd.jupyter.widget-view+json": {
       "model_id": "4d57e5856d134e998e17b1a22ca3c0b6",
       "version_major": 2,
       "version_minor": 0
      },
      "text/plain": [
       "HBox(children=(FloatProgress(value=0.0, max=2755.0), HTML(value='')))"
      ]
     },
     "metadata": {},
     "output_type": "display_data"
    },
    {
     "name": "stdout",
     "output_type": "stream",
     "text": [
      "[4,   200] loss: 0.322 accuracy: 0.589\n",
      "[4,   400] loss: 0.183 accuracy: 0.321\n",
      "[4,   600] loss: 0.182 accuracy: 0.322\n",
      "[4,   800] loss: 0.182 accuracy: 0.324\n",
      "[4,  1000] loss: 0.179 accuracy: 0.333\n",
      "[4,  1200] loss: 0.181 accuracy: 0.329\n",
      "[4,  1400] loss: 0.184 accuracy: 0.322\n",
      "[4,  1600] loss: 0.180 accuracy: 0.335\n",
      "[4,  1800] loss: 0.180 accuracy: 0.332\n",
      "[4,  2000] loss: 0.179 accuracy: 0.338\n",
      "[4,  2200] loss: 0.180 accuracy: 0.336\n",
      "[4,  2400] loss: 0.183 accuracy: 0.319\n",
      "[4,  2600] loss: 0.180 accuracy: 0.338\n",
      "\n"
     ]
    },
    {
     "data": {
      "application/vnd.jupyter.widget-view+json": {
       "model_id": "81ec11f43383425ea85429f947f71cbe",
       "version_major": 2,
       "version_minor": 0
      },
      "text/plain": [
       "HBox(children=(FloatProgress(value=0.0, max=2755.0), HTML(value='')))"
      ]
     },
     "metadata": {},
     "output_type": "display_data"
    },
    {
     "name": "stdout",
     "output_type": "stream",
     "text": [
      "[5,   200] loss: 0.317 accuracy: 0.601\n",
      "[5,   400] loss: 0.178 accuracy: 0.339\n",
      "[5,   600] loss: 0.178 accuracy: 0.337\n",
      "[5,   800] loss: 0.180 accuracy: 0.333\n",
      "[5,  1000] loss: 0.178 accuracy: 0.345\n",
      "[5,  1200] loss: 0.180 accuracy: 0.333\n",
      "[5,  1400] loss: 0.178 accuracy: 0.330\n",
      "[5,  1600] loss: 0.177 accuracy: 0.343\n",
      "[5,  1800] loss: 0.181 accuracy: 0.332\n",
      "[5,  2000] loss: 0.180 accuracy: 0.333\n",
      "[5,  2200] loss: 0.178 accuracy: 0.340\n",
      "[5,  2400] loss: 0.181 accuracy: 0.330\n",
      "[5,  2600] loss: 0.179 accuracy: 0.330\n",
      "\n"
     ]
    },
    {
     "data": {
      "application/vnd.jupyter.widget-view+json": {
       "model_id": "e052f3773b8340e8b1f6e2fad827bc30",
       "version_major": 2,
       "version_minor": 0
      },
      "text/plain": [
       "HBox(children=(FloatProgress(value=0.0, max=2755.0), HTML(value='')))"
      ]
     },
     "metadata": {},
     "output_type": "display_data"
    },
    {
     "name": "stdout",
     "output_type": "stream",
     "text": [
      "[6,   200] loss: 0.316 accuracy: 0.596\n",
      "[6,   400] loss: 0.177 accuracy: 0.344\n",
      "[6,   600] loss: 0.177 accuracy: 0.344\n",
      "[6,   800] loss: 0.178 accuracy: 0.335\n",
      "[6,  1000] loss: 0.176 accuracy: 0.345\n",
      "[6,  1200] loss: 0.177 accuracy: 0.336\n",
      "[6,  1400] loss: 0.177 accuracy: 0.344\n",
      "[6,  1600] loss: 0.175 accuracy: 0.349\n",
      "[6,  1800] loss: 0.177 accuracy: 0.344\n",
      "[6,  2000] loss: 0.177 accuracy: 0.341\n",
      "[6,  2200] loss: 0.175 accuracy: 0.345\n",
      "[6,  2400] loss: 0.177 accuracy: 0.346\n",
      "[6,  2600] loss: 0.176 accuracy: 0.349\n",
      "\n"
     ]
    },
    {
     "data": {
      "application/vnd.jupyter.widget-view+json": {
       "model_id": "bff7947b8e664c45bd3a466fbcc2b35b",
       "version_major": 2,
       "version_minor": 0
      },
      "text/plain": [
       "HBox(children=(FloatProgress(value=0.0, max=2755.0), HTML(value='')))"
      ]
     },
     "metadata": {},
     "output_type": "display_data"
    },
    {
     "name": "stdout",
     "output_type": "stream",
     "text": [
      "[7,   200] loss: 0.311 accuracy: 0.618\n",
      "[7,   400] loss: 0.174 accuracy: 0.351\n",
      "[7,   600] loss: 0.174 accuracy: 0.348\n",
      "[7,   800] loss: 0.175 accuracy: 0.349\n",
      "[7,  1000] loss: 0.175 accuracy: 0.342\n",
      "[7,  1200] loss: 0.175 accuracy: 0.343\n",
      "[7,  1400] loss: 0.173 accuracy: 0.355\n",
      "[7,  1600] loss: 0.174 accuracy: 0.356\n",
      "[7,  1800] loss: 0.173 accuracy: 0.353\n",
      "[7,  2000] loss: 0.174 accuracy: 0.347\n",
      "[7,  2200] loss: 0.174 accuracy: 0.353\n",
      "[7,  2400] loss: 0.176 accuracy: 0.346\n",
      "[7,  2600] loss: 0.175 accuracy: 0.352\n",
      "\n"
     ]
    },
    {
     "data": {
      "application/vnd.jupyter.widget-view+json": {
       "model_id": "714a2ee0530c4e09b5abcd69cb282df6",
       "version_major": 2,
       "version_minor": 0
      },
      "text/plain": [
       "HBox(children=(FloatProgress(value=0.0, max=2755.0), HTML(value='')))"
      ]
     },
     "metadata": {},
     "output_type": "display_data"
    },
    {
     "name": "stdout",
     "output_type": "stream",
     "text": [
      "[8,   200] loss: 0.311 accuracy: 0.617\n",
      "[8,   400] loss: 0.172 accuracy: 0.361\n",
      "[8,   600] loss: 0.173 accuracy: 0.356\n",
      "[8,   800] loss: 0.174 accuracy: 0.352\n",
      "[8,  1000] loss: 0.173 accuracy: 0.359\n",
      "[8,  1200] loss: 0.172 accuracy: 0.356\n",
      "[8,  1400] loss: 0.173 accuracy: 0.354\n",
      "[8,  1600] loss: 0.171 accuracy: 0.369\n",
      "[8,  1800] loss: 0.173 accuracy: 0.349\n",
      "[8,  2000] loss: 0.170 accuracy: 0.369\n",
      "[8,  2200] loss: 0.173 accuracy: 0.354\n",
      "[8,  2400] loss: 0.173 accuracy: 0.361\n",
      "[8,  2600] loss: 0.171 accuracy: 0.358\n",
      "\n"
     ]
    },
    {
     "data": {
      "application/vnd.jupyter.widget-view+json": {
       "model_id": "75f189eae14446eba164e4580a16beb5",
       "version_major": 2,
       "version_minor": 0
      },
      "text/plain": [
       "HBox(children=(FloatProgress(value=0.0, max=2755.0), HTML(value='')))"
      ]
     },
     "metadata": {},
     "output_type": "display_data"
    },
    {
     "name": "stdout",
     "output_type": "stream",
     "text": [
      "[9,   200] loss: 0.305 accuracy: 0.648\n",
      "[9,   400] loss: 0.170 accuracy: 0.367\n",
      "[9,   600] loss: 0.172 accuracy: 0.364\n",
      "[9,   800] loss: 0.172 accuracy: 0.366\n",
      "[9,  1000] loss: 0.171 accuracy: 0.356\n",
      "[9,  1200] loss: 0.170 accuracy: 0.364\n",
      "[9,  1400] loss: 0.171 accuracy: 0.357\n",
      "[9,  1600] loss: 0.169 accuracy: 0.366\n",
      "[9,  1800] loss: 0.172 accuracy: 0.352\n",
      "[9,  2000] loss: 0.171 accuracy: 0.363\n",
      "[9,  2200] loss: 0.171 accuracy: 0.359\n",
      "[9,  2400] loss: 0.170 accuracy: 0.366\n",
      "[9,  2600] loss: 0.172 accuracy: 0.357\n",
      "\n"
     ]
    },
    {
     "data": {
      "application/vnd.jupyter.widget-view+json": {
       "model_id": "ac0132ad183f4847885c612fb49aba0b",
       "version_major": 2,
       "version_minor": 0
      },
      "text/plain": [
       "HBox(children=(FloatProgress(value=0.0, max=2755.0), HTML(value='')))"
      ]
     },
     "metadata": {},
     "output_type": "display_data"
    },
    {
     "name": "stdout",
     "output_type": "stream",
     "text": [
      "[10,   200] loss: 0.303 accuracy: 0.640\n",
      "[10,   400] loss: 0.168 accuracy: 0.369\n",
      "[10,   600] loss: 0.168 accuracy: 0.378\n",
      "[10,   800] loss: 0.171 accuracy: 0.365\n",
      "[10,  1000] loss: 0.168 accuracy: 0.369\n",
      "[10,  1200] loss: 0.167 accuracy: 0.375\n",
      "[10,  1400] loss: 0.169 accuracy: 0.361\n",
      "[10,  1600] loss: 0.171 accuracy: 0.360\n",
      "[10,  1800] loss: 0.170 accuracy: 0.366\n",
      "[10,  2000] loss: 0.169 accuracy: 0.368\n",
      "[10,  2200] loss: 0.169 accuracy: 0.378\n",
      "[10,  2400] loss: 0.169 accuracy: 0.373\n",
      "[10,  2600] loss: 0.168 accuracy: 0.384\n",
      "\n"
     ]
    },
    {
     "data": {
      "application/vnd.jupyter.widget-view+json": {
       "model_id": "78e5fb08821149dfb1eeac3ce5e1ae0f",
       "version_major": 2,
       "version_minor": 0
      },
      "text/plain": [
       "HBox(children=(FloatProgress(value=0.0, max=2755.0), HTML(value='')))"
      ]
     },
     "metadata": {},
     "output_type": "display_data"
    },
    {
     "name": "stdout",
     "output_type": "stream",
     "text": [
      "[11,   200] loss: 0.302 accuracy: 0.651\n",
      "[11,   400] loss: 0.167 accuracy: 0.376\n",
      "[11,   600] loss: 0.166 accuracy: 0.381\n",
      "[11,   800] loss: 0.171 accuracy: 0.361\n",
      "[11,  1000] loss: 0.167 accuracy: 0.375\n",
      "[11,  1200] loss: 0.167 accuracy: 0.387\n",
      "[11,  1400] loss: 0.171 accuracy: 0.364\n",
      "[11,  1600] loss: 0.166 accuracy: 0.385\n",
      "[11,  1800] loss: 0.168 accuracy: 0.371\n",
      "[11,  2000] loss: 0.169 accuracy: 0.363\n",
      "[11,  2200] loss: 0.166 accuracy: 0.382\n",
      "[11,  2400] loss: 0.168 accuracy: 0.372\n",
      "[11,  2600] loss: 0.167 accuracy: 0.372\n",
      "\n"
     ]
    },
    {
     "data": {
      "application/vnd.jupyter.widget-view+json": {
       "model_id": "50075c57f4f44809a81a2cbc117eba7f",
       "version_major": 2,
       "version_minor": 0
      },
      "text/plain": [
       "HBox(children=(FloatProgress(value=0.0, max=2755.0), HTML(value='')))"
      ]
     },
     "metadata": {},
     "output_type": "display_data"
    },
    {
     "name": "stdout",
     "output_type": "stream",
     "text": [
      "[12,   200] loss: 0.292 accuracy: 0.677\n",
      "[12,   400] loss: 0.165 accuracy: 0.384\n",
      "[12,   600] loss: 0.165 accuracy: 0.383\n",
      "[12,   800] loss: 0.168 accuracy: 0.375\n",
      "[12,  1000] loss: 0.168 accuracy: 0.379\n",
      "[12,  1200] loss: 0.167 accuracy: 0.375\n",
      "[12,  1400] loss: 0.163 accuracy: 0.392\n",
      "[12,  1600] loss: 0.166 accuracy: 0.387\n",
      "[12,  1800] loss: 0.166 accuracy: 0.382\n",
      "[12,  2000] loss: 0.167 accuracy: 0.369\n",
      "[12,  2200] loss: 0.166 accuracy: 0.379\n",
      "[12,  2400] loss: 0.164 accuracy: 0.388\n",
      "[12,  2600] loss: 0.165 accuracy: 0.385\n",
      "\n"
     ]
    },
    {
     "data": {
      "application/vnd.jupyter.widget-view+json": {
       "model_id": "ef3a78be678a4f558683385f453e73ca",
       "version_major": 2,
       "version_minor": 0
      },
      "text/plain": [
       "HBox(children=(FloatProgress(value=0.0, max=2755.0), HTML(value='')))"
      ]
     },
     "metadata": {},
     "output_type": "display_data"
    },
    {
     "name": "stdout",
     "output_type": "stream",
     "text": [
      "[13,   200] loss: 0.291 accuracy: 0.683\n",
      "[13,   400] loss: 0.163 accuracy: 0.389\n",
      "[13,   600] loss: 0.167 accuracy: 0.378\n",
      "[13,   800] loss: 0.166 accuracy: 0.381\n",
      "[13,  1000] loss: 0.166 accuracy: 0.383\n",
      "[13,  1200] loss: 0.165 accuracy: 0.383\n",
      "[13,  1400] loss: 0.164 accuracy: 0.387\n",
      "[13,  1600] loss: 0.163 accuracy: 0.387\n",
      "[14,   200] loss: 0.288 accuracy: 0.692\n",
      "[14,   400] loss: 0.160 accuracy: 0.403\n",
      "[14,   600] loss: 0.163 accuracy: 0.396\n",
      "[14,   800] loss: 0.161 accuracy: 0.401\n",
      "[14,  1000] loss: 0.165 accuracy: 0.385\n",
      "[14,  1200] loss: 0.165 accuracy: 0.388\n",
      "[14,  1400] loss: 0.162 accuracy: 0.396\n",
      "[14,  1600] loss: 0.161 accuracy: 0.399\n",
      "[14,  1800] loss: 0.164 accuracy: 0.389\n",
      "[14,  2000] loss: 0.163 accuracy: 0.391\n",
      "[14,  2200] loss: 0.165 accuracy: 0.387\n",
      "[14,  2400] loss: 0.162 accuracy: 0.389\n",
      "[14,  2600] loss: 0.162 accuracy: 0.394\n",
      "\n"
     ]
    },
    {
     "data": {
      "application/vnd.jupyter.widget-view+json": {
       "model_id": "233792be02a248348d44352338d50ef0",
       "version_major": 2,
       "version_minor": 0
      },
      "text/plain": [
       "HBox(children=(FloatProgress(value=0.0, max=2755.0), HTML(value='')))"
      ]
     },
     "metadata": {},
     "output_type": "display_data"
    },
    {
     "name": "stderr",
     "output_type": "stream",
     "text": [
      "IOPub message rate exceeded.\n",
      "The notebook server will temporarily stop sending output\n",
      "to the client in order to avoid crashing it.\n",
      "To change this limit, set the config variable\n",
      "`--NotebookApp.iopub_msg_rate_limit`.\n",
      "\n",
      "Current values:\n",
      "NotebookApp.iopub_msg_rate_limit=1000.0 (msgs/sec)\n",
      "NotebookApp.rate_limit_window=3.0 (secs)\n",
      "\n"
     ]
    },
    {
     "name": "stdout",
     "output_type": "stream",
     "text": [
      "[16,  1600] loss: 0.158 accuracy: 0.413\n",
      "[16,  1800] loss: 0.162 accuracy: 0.400\n",
      "[16,  2000] loss: 0.163 accuracy: 0.397\n",
      "[16,  2200] loss: 0.161 accuracy: 0.400\n",
      "[16,  2400] loss: 0.159 accuracy: 0.409\n",
      "[16,  2600] loss: 0.160 accuracy: 0.401\n",
      "\n"
     ]
    },
    {
     "data": {
      "application/vnd.jupyter.widget-view+json": {
       "model_id": "56d297ff5d734c758ff88b2908656550",
       "version_major": 2,
       "version_minor": 0
      },
      "text/plain": [
       "HBox(children=(FloatProgress(value=0.0, max=2755.0), HTML(value='')))"
      ]
     },
     "metadata": {},
     "output_type": "display_data"
    },
    {
     "name": "stdout",
     "output_type": "stream",
     "text": [
      "[17,   200] loss: 0.283 accuracy: 0.720\n",
      "[17,   400] loss: 0.157 accuracy: 0.410\n",
      "[17,   600] loss: 0.158 accuracy: 0.406\n"
     ]
    },
    {
     "name": "stderr",
     "output_type": "stream",
     "text": [
      "IOPub message rate exceeded.\n",
      "The notebook server will temporarily stop sending output\n",
      "to the client in order to avoid crashing it.\n",
      "To change this limit, set the config variable\n",
      "`--NotebookApp.iopub_msg_rate_limit`.\n",
      "\n",
      "Current values:\n",
      "NotebookApp.iopub_msg_rate_limit=1000.0 (msgs/sec)\n",
      "NotebookApp.rate_limit_window=3.0 (secs)\n",
      "\n"
     ]
    },
    {
     "name": "stdout",
     "output_type": "stream",
     "text": [
      "[19,  1400] loss: 0.153 accuracy: 0.430\n",
      "[19,  1600] loss: 0.155 accuracy: 0.415\n",
      "[19,  1800] loss: 0.157 accuracy: 0.422\n",
      "[19,  2000] loss: 0.157 accuracy: 0.406\n",
      "[19,  2200] loss: 0.156 accuracy: 0.410\n",
      "[19,  2400] loss: 0.156 accuracy: 0.416\n",
      "[19,  2600] loss: 0.155 accuracy: 0.423\n",
      "\n"
     ]
    },
    {
     "data": {
      "application/vnd.jupyter.widget-view+json": {
       "model_id": "d66bc9dc8ae343e8be1c52e950420c6b",
       "version_major": 2,
       "version_minor": 0
      },
      "text/plain": [
       "HBox(children=(FloatProgress(value=0.0, max=2755.0), HTML(value='')))"
      ]
     },
     "metadata": {},
     "output_type": "display_data"
    },
    {
     "name": "stdout",
     "output_type": "stream",
     "text": [
      "[20,   200] loss: 0.275 accuracy: 0.745\n",
      "[20,   400] loss: 0.155 accuracy: 0.418\n",
      "[20,   600] loss: 0.152 accuracy: 0.432\n",
      "[20,   800] loss: 0.151 accuracy: 0.432\n",
      "[20,  1000] loss: 0.156 accuracy: 0.415\n",
      "[20,  1200] loss: 0.155 accuracy: 0.426\n",
      "[20,  1400] loss: 0.153 accuracy: 0.426\n"
     ]
    },
    {
     "name": "stderr",
     "output_type": "stream",
     "text": [
      "IOPub message rate exceeded.\n",
      "The notebook server will temporarily stop sending output\n",
      "to the client in order to avoid crashing it.\n",
      "To change this limit, set the config variable\n",
      "`--NotebookApp.iopub_msg_rate_limit`.\n",
      "\n",
      "Current values:\n",
      "NotebookApp.iopub_msg_rate_limit=1000.0 (msgs/sec)\n",
      "NotebookApp.rate_limit_window=3.0 (secs)\n",
      "\n"
     ]
    },
    {
     "name": "stdout",
     "output_type": "stream",
     "text": [
      "[23,   400] loss: 0.151 accuracy: 0.429\n",
      "[23,   600] loss: 0.149 accuracy: 0.440\n",
      "[23,   800] loss: 0.149 accuracy: 0.441\n",
      "[23,  1000] loss: 0.150 accuracy: 0.432\n",
      "[23,  1200] loss: 0.150 accuracy: 0.438\n",
      "[23,  1400] loss: 0.149 accuracy: 0.452\n",
      "[23,  1600] loss: 0.150 accuracy: 0.434\n",
      "[23,  1800] loss: 0.152 accuracy: 0.438\n",
      "[23,  2000] loss: 0.150 accuracy: 0.442\n",
      "[23,  2200] loss: 0.151 accuracy: 0.438\n",
      "[23,  2400] loss: 0.151 accuracy: 0.434\n",
      "[23,  2600] loss: 0.148 accuracy: 0.454\n",
      "\n"
     ]
    },
    {
     "data": {
      "application/vnd.jupyter.widget-view+json": {
       "model_id": "263c41fbdf4745ccae16d57f51756090",
       "version_major": 2,
       "version_minor": 0
      },
      "text/plain": [
       "HBox(children=(FloatProgress(value=0.0, max=2755.0), HTML(value='')))"
      ]
     },
     "metadata": {},
     "output_type": "display_data"
    },
    {
     "name": "stdout",
     "output_type": "stream",
     "text": [
      "[24,   200] loss: 0.266 accuracy: 0.771\n",
      "[24,   400] loss: 0.149 accuracy: 0.440\n"
     ]
    },
    {
     "name": "stderr",
     "output_type": "stream",
     "text": [
      "IOPub message rate exceeded.\n",
      "The notebook server will temporarily stop sending output\n",
      "to the client in order to avoid crashing it.\n",
      "To change this limit, set the config variable\n",
      "`--NotebookApp.iopub_msg_rate_limit`.\n",
      "\n",
      "Current values:\n",
      "NotebookApp.iopub_msg_rate_limit=1000.0 (msgs/sec)\n",
      "NotebookApp.rate_limit_window=3.0 (secs)\n",
      "\n"
     ]
    },
    {
     "name": "stdout",
     "output_type": "stream",
     "text": [
      "[24,  1400] loss: 0.147 accuracy: 0.445\n",
      "[24,  1600] loss: 0.149 accuracy: 0.448\n",
      "[24,  1800] loss: 0.149 accuracy: 0.449\n",
      "[24,  2000] loss: 0.150 accuracy: 0.436\n",
      "[24,  2200] loss: 0.150 accuracy: 0.444\n",
      "[24,  2400] loss: 0.151 accuracy: 0.439\n",
      "[24,  2600] loss: 0.150 accuracy: 0.443\n",
      "\n"
     ]
    },
    {
     "data": {
      "application/vnd.jupyter.widget-view+json": {
       "model_id": "8be83cf0702b4e81836db3fe45caa735",
       "version_major": 2,
       "version_minor": 0
      },
      "text/plain": [
       "HBox(children=(FloatProgress(value=0.0, max=2755.0), HTML(value='')))"
      ]
     },
     "metadata": {},
     "output_type": "display_data"
    },
    {
     "name": "stdout",
     "output_type": "stream",
     "text": [
      "[25,   200] loss: 0.263 accuracy: 0.797\n",
      "[25,   400] loss: 0.146 accuracy: 0.454\n",
      "[25,   600] loss: 0.149 accuracy: 0.441\n",
      "[25,   800] loss: 0.149 accuracy: 0.444\n",
      "[25,  1000] loss: 0.149 accuracy: 0.440\n",
      "[25,  1200] loss: 0.153 accuracy: 0.427\n",
      "[25,  1400] loss: 0.148 accuracy: 0.449\n",
      "[25,  1600] loss: 0.146 accuracy: 0.466\n",
      "[25,  1800] loss: 0.150 accuracy: 0.436\n",
      "[25,  2000] loss: 0.150 accuracy: 0.442\n",
      "[25,  2200] loss: 0.147 accuracy: 0.450\n",
      "[25,  2400] loss: 0.148 accuracy: 0.441\n",
      "[25,  2600] loss: 0.147 accuracy: 0.454\n",
      "\n"
     ]
    },
    {
     "data": {
      "application/vnd.jupyter.widget-view+json": {
       "model_id": "a849939432e94e5190dd4edad49db91e",
       "version_major": 2,
       "version_minor": 0
      },
      "text/plain": [
       "HBox(children=(FloatProgress(value=0.0, max=2755.0), HTML(value='')))"
      ]
     },
     "metadata": {},
     "output_type": "display_data"
    },
    {
     "name": "stdout",
     "output_type": "stream",
     "text": [
      "[26,   200] loss: 0.262 accuracy: 0.801\n",
      "[26,   400] loss: 0.149 accuracy: 0.450\n",
      "[26,   600] loss: 0.149 accuracy: 0.448\n",
      "[26,   800] loss: 0.149 accuracy: 0.444\n",
      "[26,  1000] loss: 0.146 accuracy: 0.455\n",
      "[26,  1200] loss: 0.149 accuracy: 0.440\n",
      "[26,  1400] loss: 0.146 accuracy: 0.453\n",
      "[26,  1600] loss: 0.148 accuracy: 0.449\n",
      "[26,  1800] loss: 0.147 accuracy: 0.457\n",
      "[26,  2000] loss: 0.147 accuracy: 0.455\n",
      "[26,  2200] loss: 0.146 accuracy: 0.456\n",
      "[26,  2400] loss: 0.150 accuracy: 0.440\n",
      "[26,  2600] loss: 0.146 accuracy: 0.458\n",
      "\n"
     ]
    },
    {
     "data": {
      "application/vnd.jupyter.widget-view+json": {
       "model_id": "8e35d3c5a0104f119461c61503591a73",
       "version_major": 2,
       "version_minor": 0
      },
      "text/plain": [
       "HBox(children=(FloatProgress(value=0.0, max=2755.0), HTML(value='')))"
      ]
     },
     "metadata": {},
     "output_type": "display_data"
    },
    {
     "name": "stdout",
     "output_type": "stream",
     "text": [
      "[27,   200] loss: 0.259 accuracy: 0.803\n",
      "[27,   400] loss: 0.145 accuracy: 0.463\n",
      "[27,   600] loss: 0.146 accuracy: 0.460\n",
      "[27,   800] loss: 0.146 accuracy: 0.454\n",
      "[27,  1000] loss: 0.148 accuracy: 0.442\n",
      "[27,  1200] loss: 0.146 accuracy: 0.456\n",
      "[27,  1400] loss: 0.145 accuracy: 0.458\n",
      "[27,  1600] loss: 0.149 accuracy: 0.444\n",
      "[27,  1800] loss: 0.146 accuracy: 0.463\n",
      "[27,  2000] loss: 0.148 accuracy: 0.447\n",
      "[27,  2200] loss: 0.146 accuracy: 0.458\n",
      "[27,  2400] loss: 0.147 accuracy: 0.454\n",
      "[27,  2600] loss: 0.146 accuracy: 0.461\n",
      "\n"
     ]
    },
    {
     "data": {
      "application/vnd.jupyter.widget-view+json": {
       "model_id": "16a21b546fd24d60841b73a3ebd96484",
       "version_major": 2,
       "version_minor": 0
      },
      "text/plain": [
       "HBox(children=(FloatProgress(value=0.0, max=2755.0), HTML(value='')))"
      ]
     },
     "metadata": {},
     "output_type": "display_data"
    },
    {
     "name": "stdout",
     "output_type": "stream",
     "text": [
      "[28,   200] loss: 0.256 accuracy: 0.824\n",
      "[28,   400] loss: 0.145 accuracy: 0.457\n",
      "[28,   600] loss: 0.144 accuracy: 0.463\n",
      "[28,   800] loss: 0.144 accuracy: 0.461\n",
      "[28,  1000] loss: 0.142 accuracy: 0.472\n",
      "[28,  1200] loss: 0.147 accuracy: 0.450\n",
      "[28,  1400] loss: 0.145 accuracy: 0.464\n",
      "[28,  1600] loss: 0.148 accuracy: 0.449\n",
      "[28,  1800] loss: 0.146 accuracy: 0.464\n",
      "[28,  2000] loss: 0.144 accuracy: 0.466\n",
      "[28,  2200] loss: 0.145 accuracy: 0.465\n",
      "[28,  2400] loss: 0.146 accuracy: 0.452\n",
      "[28,  2600] loss: 0.146 accuracy: 0.460\n",
      "\n"
     ]
    },
    {
     "data": {
      "application/vnd.jupyter.widget-view+json": {
       "model_id": "8c3dcd27a3414bbfb9bcf2543df38cf4",
       "version_major": 2,
       "version_minor": 0
      },
      "text/plain": [
       "HBox(children=(FloatProgress(value=0.0, max=2755.0), HTML(value='')))"
      ]
     },
     "metadata": {},
     "output_type": "display_data"
    },
    {
     "name": "stdout",
     "output_type": "stream",
     "text": [
      "[29,   200] loss: 0.255 accuracy: 0.836\n",
      "[29,   400] loss: 0.142 accuracy: 0.475\n",
      "[29,   600] loss: 0.144 accuracy: 0.458\n",
      "[29,   800] loss: 0.142 accuracy: 0.473\n",
      "[29,  1000] loss: 0.143 accuracy: 0.472\n",
      "[29,  1200] loss: 0.144 accuracy: 0.467\n",
      "[29,  1400] loss: 0.145 accuracy: 0.464\n",
      "[29,  1600] loss: 0.147 accuracy: 0.451\n",
      "[29,  1800] loss: 0.143 accuracy: 0.467\n",
      "[29,  2000] loss: 0.145 accuracy: 0.461\n",
      "[29,  2200] loss: 0.146 accuracy: 0.449\n",
      "[29,  2400] loss: 0.146 accuracy: 0.449\n",
      "[29,  2600] loss: 0.145 accuracy: 0.465\n",
      "\n"
     ]
    },
    {
     "data": {
      "application/vnd.jupyter.widget-view+json": {
       "model_id": "8332daaceaf04952966d49b39b247a70",
       "version_major": 2,
       "version_minor": 0
      },
      "text/plain": [
       "HBox(children=(FloatProgress(value=0.0, max=2755.0), HTML(value='')))"
      ]
     },
     "metadata": {},
     "output_type": "display_data"
    },
    {
     "name": "stdout",
     "output_type": "stream",
     "text": [
      "[30,   200] loss: 0.252 accuracy: 0.840\n",
      "[30,   400] loss: 0.143 accuracy: 0.476\n",
      "[30,   600] loss: 0.144 accuracy: 0.463\n",
      "[30,   800] loss: 0.143 accuracy: 0.463\n",
      "[30,  1000] loss: 0.141 accuracy: 0.477\n",
      "[30,  1200] loss: 0.142 accuracy: 0.474\n",
      "[30,  1400] loss: 0.144 accuracy: 0.459\n",
      "[30,  1600] loss: 0.143 accuracy: 0.469\n",
      "[30,  1800] loss: 0.145 accuracy: 0.460\n",
      "[30,  2000] loss: 0.142 accuracy: 0.471\n",
      "[30,  2200] loss: 0.142 accuracy: 0.472\n",
      "[30,  2400] loss: 0.146 accuracy: 0.456\n",
      "[30,  2600] loss: 0.141 accuracy: 0.471\n",
      "\n"
     ]
    },
    {
     "data": {
      "application/vnd.jupyter.widget-view+json": {
       "model_id": "d88d39b936b6471fad428fa200471384",
       "version_major": 2,
       "version_minor": 0
      },
      "text/plain": [
       "HBox(children=(FloatProgress(value=0.0, max=2755.0), HTML(value='')))"
      ]
     },
     "metadata": {},
     "output_type": "display_data"
    },
    {
     "name": "stdout",
     "output_type": "stream",
     "text": [
      "[31,   200] loss: 0.252 accuracy: 0.840\n",
      "[31,   400] loss: 0.142 accuracy: 0.469\n",
      "[31,   600] loss: 0.141 accuracy: 0.473\n",
      "[31,   800] loss: 0.144 accuracy: 0.468\n",
      "[31,  1000] loss: 0.141 accuracy: 0.473\n",
      "[31,  1200] loss: 0.144 accuracy: 0.469\n",
      "[31,  1400] loss: 0.140 accuracy: 0.477\n",
      "[31,  1600] loss: 0.141 accuracy: 0.472\n",
      "[31,  1800] loss: 0.144 accuracy: 0.464\n",
      "[31,  2000] loss: 0.140 accuracy: 0.482\n",
      "[31,  2200] loss: 0.143 accuracy: 0.472\n",
      "[31,  2400] loss: 0.145 accuracy: 0.470\n",
      "[31,  2600] loss: 0.143 accuracy: 0.467\n",
      "\n"
     ]
    },
    {
     "data": {
      "application/vnd.jupyter.widget-view+json": {
       "model_id": "a690668ab7d64025b97f3938e8302337",
       "version_major": 2,
       "version_minor": 0
      },
      "text/plain": [
       "HBox(children=(FloatProgress(value=0.0, max=2755.0), HTML(value='')))"
      ]
     },
     "metadata": {},
     "output_type": "display_data"
    },
    {
     "name": "stdout",
     "output_type": "stream",
     "text": [
      "[32,   200] loss: 0.251 accuracy: 0.843\n",
      "[32,   400] loss: 0.139 accuracy: 0.479\n",
      "[32,   600] loss: 0.141 accuracy: 0.477\n",
      "[32,   800] loss: 0.143 accuracy: 0.468\n",
      "[32,  1000] loss: 0.141 accuracy: 0.477\n",
      "[32,  1200] loss: 0.142 accuracy: 0.470\n",
      "[32,  1400] loss: 0.144 accuracy: 0.463\n",
      "[32,  1600] loss: 0.142 accuracy: 0.475\n",
      "[32,  1800] loss: 0.141 accuracy: 0.478\n",
      "[32,  2000] loss: 0.141 accuracy: 0.472\n",
      "[32,  2200] loss: 0.141 accuracy: 0.470\n",
      "[32,  2400] loss: 0.141 accuracy: 0.478\n",
      "[32,  2600] loss: 0.139 accuracy: 0.479\n",
      "\n"
     ]
    },
    {
     "data": {
      "application/vnd.jupyter.widget-view+json": {
       "model_id": "98b87e24a7274130904ee13b58dfc58f",
       "version_major": 2,
       "version_minor": 0
      },
      "text/plain": [
       "HBox(children=(FloatProgress(value=0.0, max=2755.0), HTML(value='')))"
      ]
     },
     "metadata": {},
     "output_type": "display_data"
    },
    {
     "name": "stdout",
     "output_type": "stream",
     "text": [
      "[33,   200] loss: 0.251 accuracy: 0.841\n",
      "[33,   400] loss: 0.138 accuracy: 0.486\n",
      "[33,   600] loss: 0.139 accuracy: 0.485\n",
      "[33,   800] loss: 0.141 accuracy: 0.482\n",
      "[33,  1000] loss: 0.139 accuracy: 0.481\n",
      "[33,  1200] loss: 0.139 accuracy: 0.491\n",
      "[33,  1400] loss: 0.139 accuracy: 0.478\n",
      "[33,  1600] loss: 0.140 accuracy: 0.469\n",
      "[33,  1800] loss: 0.140 accuracy: 0.482\n",
      "[33,  2000] loss: 0.140 accuracy: 0.485\n",
      "[33,  2200] loss: 0.140 accuracy: 0.480\n",
      "[33,  2400] loss: 0.143 accuracy: 0.462\n",
      "[33,  2600] loss: 0.140 accuracy: 0.475\n",
      "\n"
     ]
    },
    {
     "data": {
      "application/vnd.jupyter.widget-view+json": {
       "model_id": "79547e6389e0474794c7c3b18da16c42",
       "version_major": 2,
       "version_minor": 0
      },
      "text/plain": [
       "HBox(children=(FloatProgress(value=0.0, max=2755.0), HTML(value='')))"
      ]
     },
     "metadata": {},
     "output_type": "display_data"
    },
    {
     "name": "stdout",
     "output_type": "stream",
     "text": [
      "[34,   200] loss: 0.246 accuracy: 0.856\n",
      "[34,   400] loss: 0.141 accuracy: 0.476\n",
      "[34,   600] loss: 0.141 accuracy: 0.476\n",
      "[34,   800] loss: 0.140 accuracy: 0.474\n",
      "[34,  1000] loss: 0.139 accuracy: 0.492\n",
      "[34,  1200] loss: 0.137 accuracy: 0.492\n",
      "[34,  1400] loss: 0.139 accuracy: 0.486\n",
      "[34,  1600] loss: 0.137 accuracy: 0.484\n",
      "[34,  1800] loss: 0.141 accuracy: 0.482\n",
      "[34,  2000] loss: 0.139 accuracy: 0.482\n",
      "[34,  2200] loss: 0.139 accuracy: 0.487\n",
      "[34,  2400] loss: 0.140 accuracy: 0.480\n",
      "[34,  2600] loss: 0.139 accuracy: 0.485\n",
      "\n"
     ]
    },
    {
     "data": {
      "application/vnd.jupyter.widget-view+json": {
       "model_id": "b0d17a76f55b4f479ff508e3bb246313",
       "version_major": 2,
       "version_minor": 0
      },
      "text/plain": [
       "HBox(children=(FloatProgress(value=0.0, max=2755.0), HTML(value='')))"
      ]
     },
     "metadata": {},
     "output_type": "display_data"
    },
    {
     "name": "stdout",
     "output_type": "stream",
     "text": [
      "[35,   200] loss: 0.247 accuracy: 0.856\n",
      "[35,   400] loss: 0.137 accuracy: 0.490\n",
      "[35,   600] loss: 0.137 accuracy: 0.488\n",
      "[35,   800] loss: 0.138 accuracy: 0.478\n",
      "[35,  1000] loss: 0.137 accuracy: 0.495\n",
      "[35,  1200] loss: 0.140 accuracy: 0.477\n",
      "[35,  1400] loss: 0.138 accuracy: 0.489\n",
      "[35,  1600] loss: 0.138 accuracy: 0.488\n",
      "[35,  1800] loss: 0.139 accuracy: 0.488\n",
      "[35,  2000] loss: 0.139 accuracy: 0.483\n",
      "[35,  2200] loss: 0.137 accuracy: 0.492\n",
      "[35,  2400] loss: 0.140 accuracy: 0.477\n",
      "[35,  2600] loss: 0.137 accuracy: 0.484\n",
      "\n"
     ]
    },
    {
     "data": {
      "application/vnd.jupyter.widget-view+json": {
       "model_id": "bf5ad3df52c54692a8b8720a1dede98e",
       "version_major": 2,
       "version_minor": 0
      },
      "text/plain": [
       "HBox(children=(FloatProgress(value=0.0, max=2755.0), HTML(value='')))"
      ]
     },
     "metadata": {},
     "output_type": "display_data"
    },
    {
     "name": "stdout",
     "output_type": "stream",
     "text": [
      "[36,   200] loss: 0.246 accuracy: 0.873\n",
      "[36,   400] loss: 0.138 accuracy: 0.490\n",
      "[36,   600] loss: 0.137 accuracy: 0.497\n",
      "[36,   800] loss: 0.139 accuracy: 0.491\n",
      "[36,  1000] loss: 0.137 accuracy: 0.489\n",
      "[36,  1200] loss: 0.136 accuracy: 0.496\n",
      "[36,  1400] loss: 0.137 accuracy: 0.496\n",
      "[36,  1600] loss: 0.137 accuracy: 0.490\n",
      "[36,  1800] loss: 0.140 accuracy: 0.481\n",
      "[36,  2000] loss: 0.136 accuracy: 0.496\n",
      "[36,  2200] loss: 0.136 accuracy: 0.502\n",
      "[36,  2400] loss: 0.137 accuracy: 0.492\n",
      "[36,  2600] loss: 0.137 accuracy: 0.491\n",
      "\n"
     ]
    },
    {
     "data": {
      "application/vnd.jupyter.widget-view+json": {
       "model_id": "b9e307cf13c04c9898c7f8c1199677cb",
       "version_major": 2,
       "version_minor": 0
      },
      "text/plain": [
       "HBox(children=(FloatProgress(value=0.0, max=2755.0), HTML(value='')))"
      ]
     },
     "metadata": {},
     "output_type": "display_data"
    },
    {
     "name": "stdout",
     "output_type": "stream",
     "text": [
      "[37,   200] loss: 0.241 accuracy: 0.871\n",
      "[37,   400] loss: 0.135 accuracy: 0.497\n",
      "[37,   600] loss: 0.134 accuracy: 0.500\n",
      "[37,   800] loss: 0.137 accuracy: 0.494\n",
      "[37,  1000] loss: 0.138 accuracy: 0.487\n",
      "[37,  1200] loss: 0.138 accuracy: 0.480\n",
      "[37,  1400] loss: 0.135 accuracy: 0.503\n",
      "[37,  1600] loss: 0.136 accuracy: 0.495\n",
      "[37,  1800] loss: 0.136 accuracy: 0.494\n",
      "[37,  2000] loss: 0.136 accuracy: 0.494\n",
      "[37,  2200] loss: 0.135 accuracy: 0.499\n",
      "[37,  2400] loss: 0.137 accuracy: 0.493\n",
      "[37,  2600] loss: 0.136 accuracy: 0.490\n",
      "\n"
     ]
    },
    {
     "data": {
      "application/vnd.jupyter.widget-view+json": {
       "model_id": "8ceb86b24b444e5fb50c420bd03b5439",
       "version_major": 2,
       "version_minor": 0
      },
      "text/plain": [
       "HBox(children=(FloatProgress(value=0.0, max=2755.0), HTML(value='')))"
      ]
     },
     "metadata": {},
     "output_type": "display_data"
    },
    {
     "name": "stdout",
     "output_type": "stream",
     "text": [
      "[38,   200] loss: 0.240 accuracy: 0.883\n",
      "[38,   400] loss: 0.137 accuracy: 0.494\n",
      "[38,   600] loss: 0.137 accuracy: 0.493\n",
      "[38,   800] loss: 0.137 accuracy: 0.489\n",
      "[38,  1000] loss: 0.137 accuracy: 0.496\n",
      "[38,  1200] loss: 0.135 accuracy: 0.499\n",
      "[38,  1400] loss: 0.135 accuracy: 0.505\n",
      "[38,  1600] loss: 0.134 accuracy: 0.507\n",
      "[38,  1800] loss: 0.138 accuracy: 0.493\n",
      "[38,  2000] loss: 0.136 accuracy: 0.495\n",
      "[38,  2200] loss: 0.137 accuracy: 0.496\n",
      "[38,  2400] loss: 0.135 accuracy: 0.494\n",
      "[38,  2600] loss: 0.137 accuracy: 0.497\n",
      "\n"
     ]
    },
    {
     "data": {
      "application/vnd.jupyter.widget-view+json": {
       "model_id": "1e2d66a8da774baf9d370b331fd73e4c",
       "version_major": 2,
       "version_minor": 0
      },
      "text/plain": [
       "HBox(children=(FloatProgress(value=0.0, max=2755.0), HTML(value='')))"
      ]
     },
     "metadata": {},
     "output_type": "display_data"
    },
    {
     "name": "stdout",
     "output_type": "stream",
     "text": [
      "[39,   200] loss: 0.242 accuracy: 0.891\n",
      "[39,   400] loss: 0.133 accuracy: 0.507\n",
      "[39,   600] loss: 0.134 accuracy: 0.498\n",
      "[39,   800] loss: 0.137 accuracy: 0.492\n",
      "[39,  1000] loss: 0.135 accuracy: 0.503\n",
      "[39,  1200] loss: 0.137 accuracy: 0.486\n",
      "[39,  1400] loss: 0.133 accuracy: 0.504\n",
      "[39,  1600] loss: 0.135 accuracy: 0.499\n",
      "[39,  1800] loss: 0.136 accuracy: 0.498\n",
      "[39,  2000] loss: 0.134 accuracy: 0.506\n",
      "[39,  2200] loss: 0.135 accuracy: 0.495\n",
      "[39,  2400] loss: 0.132 accuracy: 0.504\n",
      "[39,  2600] loss: 0.134 accuracy: 0.502\n",
      "\n"
     ]
    },
    {
     "data": {
      "application/vnd.jupyter.widget-view+json": {
       "model_id": "7db24e90f5424694a1c66af3e561470d",
       "version_major": 2,
       "version_minor": 0
      },
      "text/plain": [
       "HBox(children=(FloatProgress(value=0.0, max=2755.0), HTML(value='')))"
      ]
     },
     "metadata": {},
     "output_type": "display_data"
    },
    {
     "name": "stdout",
     "output_type": "stream",
     "text": [
      "[40,   200] loss: 0.242 accuracy: 0.882\n",
      "[40,   400] loss: 0.134 accuracy: 0.508\n",
      "[40,   600] loss: 0.133 accuracy: 0.508\n",
      "[40,   800] loss: 0.135 accuracy: 0.506\n",
      "[40,  1000] loss: 0.133 accuracy: 0.506\n",
      "[40,  1200] loss: 0.136 accuracy: 0.495\n",
      "[40,  1400] loss: 0.134 accuracy: 0.501\n",
      "[40,  1600] loss: 0.132 accuracy: 0.511\n",
      "[40,  1800] loss: 0.131 accuracy: 0.517\n",
      "[40,  2000] loss: 0.134 accuracy: 0.499\n",
      "[40,  2200] loss: 0.133 accuracy: 0.508\n",
      "[40,  2400] loss: 0.135 accuracy: 0.505\n",
      "[40,  2600] loss: 0.134 accuracy: 0.500\n",
      "\n"
     ]
    },
    {
     "data": {
      "application/vnd.jupyter.widget-view+json": {
       "model_id": "d45b2de9ca444c46bc1efd0150b44622",
       "version_major": 2,
       "version_minor": 0
      },
      "text/plain": [
       "HBox(children=(FloatProgress(value=0.0, max=2755.0), HTML(value='')))"
      ]
     },
     "metadata": {},
     "output_type": "display_data"
    },
    {
     "name": "stdout",
     "output_type": "stream",
     "text": [
      "[41,   200] loss: 0.235 accuracy: 0.905\n",
      "[41,   400] loss: 0.134 accuracy: 0.512\n",
      "[41,   600] loss: 0.131 accuracy: 0.516\n",
      "[41,   800] loss: 0.135 accuracy: 0.502\n",
      "[41,  1000] loss: 0.134 accuracy: 0.507\n",
      "[41,  1200] loss: 0.130 accuracy: 0.522\n",
      "[41,  1400] loss: 0.135 accuracy: 0.502\n",
      "[41,  1600] loss: 0.135 accuracy: 0.495\n",
      "[41,  1800] loss: 0.131 accuracy: 0.519\n",
      "[41,  2000] loss: 0.134 accuracy: 0.499\n",
      "[41,  2200] loss: 0.135 accuracy: 0.507\n",
      "[41,  2400] loss: 0.133 accuracy: 0.512\n",
      "[41,  2600] loss: 0.133 accuracy: 0.510\n",
      "\n"
     ]
    },
    {
     "data": {
      "application/vnd.jupyter.widget-view+json": {
       "model_id": "cf5161134c4449d48e5e01412d981ba1",
       "version_major": 2,
       "version_minor": 0
      },
      "text/plain": [
       "HBox(children=(FloatProgress(value=0.0, max=2755.0), HTML(value='')))"
      ]
     },
     "metadata": {},
     "output_type": "display_data"
    },
    {
     "name": "stdout",
     "output_type": "stream",
     "text": [
      "[42,   200] loss: 0.234 accuracy: 0.917\n",
      "[42,   400] loss: 0.132 accuracy: 0.522\n",
      "[42,   600] loss: 0.132 accuracy: 0.511\n",
      "[42,   800] loss: 0.130 accuracy: 0.516\n",
      "[42,  1000] loss: 0.132 accuracy: 0.509\n",
      "[42,  1200] loss: 0.135 accuracy: 0.508\n",
      "[42,  1400] loss: 0.133 accuracy: 0.508\n",
      "[42,  1600] loss: 0.135 accuracy: 0.501\n",
      "[42,  1800] loss: 0.133 accuracy: 0.507\n",
      "[42,  2000] loss: 0.133 accuracy: 0.512\n",
      "[42,  2200] loss: 0.133 accuracy: 0.502\n",
      "[42,  2400] loss: 0.131 accuracy: 0.514\n",
      "[42,  2600] loss: 0.132 accuracy: 0.511\n",
      "\n"
     ]
    },
    {
     "data": {
      "application/vnd.jupyter.widget-view+json": {
       "model_id": "c3f70694038b449792efd089088244d0",
       "version_major": 2,
       "version_minor": 0
      },
      "text/plain": [
       "HBox(children=(FloatProgress(value=0.0, max=2755.0), HTML(value='')))"
      ]
     },
     "metadata": {},
     "output_type": "display_data"
    },
    {
     "name": "stdout",
     "output_type": "stream",
     "text": [
      "[43,   200] loss: 0.232 accuracy: 0.919\n",
      "[43,   400] loss: 0.131 accuracy: 0.512\n",
      "[43,   600] loss: 0.132 accuracy: 0.508\n",
      "[43,   800] loss: 0.131 accuracy: 0.511\n",
      "[43,  1000] loss: 0.131 accuracy: 0.510\n",
      "[43,  1200] loss: 0.133 accuracy: 0.504\n",
      "[43,  1400] loss: 0.132 accuracy: 0.514\n",
      "[43,  1600] loss: 0.133 accuracy: 0.510\n",
      "[43,  1800] loss: 0.133 accuracy: 0.502\n",
      "[43,  2000] loss: 0.132 accuracy: 0.513\n",
      "[43,  2200] loss: 0.132 accuracy: 0.518\n",
      "[43,  2400] loss: 0.132 accuracy: 0.512\n",
      "[43,  2600] loss: 0.131 accuracy: 0.516\n",
      "\n"
     ]
    },
    {
     "data": {
      "application/vnd.jupyter.widget-view+json": {
       "model_id": "779a3e1fabd44a7fb6ae7f931703142a",
       "version_major": 2,
       "version_minor": 0
      },
      "text/plain": [
       "HBox(children=(FloatProgress(value=0.0, max=2755.0), HTML(value='')))"
      ]
     },
     "metadata": {},
     "output_type": "display_data"
    },
    {
     "name": "stdout",
     "output_type": "stream",
     "text": [
      "[44,   200] loss: 0.233 accuracy: 0.928\n",
      "[44,   400] loss: 0.130 accuracy: 0.515\n",
      "[44,   600] loss: 0.131 accuracy: 0.510\n",
      "[44,   800] loss: 0.130 accuracy: 0.524\n",
      "[44,  1000] loss: 0.131 accuracy: 0.520\n",
      "[44,  1200] loss: 0.129 accuracy: 0.526\n",
      "[44,  1400] loss: 0.131 accuracy: 0.521\n",
      "[44,  1600] loss: 0.134 accuracy: 0.508\n",
      "[44,  1800] loss: 0.132 accuracy: 0.513\n",
      "[44,  2000] loss: 0.133 accuracy: 0.513\n",
      "[44,  2200] loss: 0.131 accuracy: 0.513\n",
      "[44,  2400] loss: 0.132 accuracy: 0.510\n",
      "[44,  2600] loss: 0.129 accuracy: 0.523\n",
      "\n"
     ]
    },
    {
     "data": {
      "application/vnd.jupyter.widget-view+json": {
       "model_id": "d08e893d47a44720ac27deed90d2d021",
       "version_major": 2,
       "version_minor": 0
      },
      "text/plain": [
       "HBox(children=(FloatProgress(value=0.0, max=2755.0), HTML(value='')))"
      ]
     },
     "metadata": {},
     "output_type": "display_data"
    },
    {
     "name": "stdout",
     "output_type": "stream",
     "text": [
      "[45,   200] loss: 0.228 accuracy: 0.937\n",
      "[45,   400] loss: 0.131 accuracy: 0.521\n",
      "[45,   600] loss: 0.131 accuracy: 0.518\n",
      "[45,   800] loss: 0.132 accuracy: 0.512\n",
      "[45,  1000] loss: 0.130 accuracy: 0.521\n",
      "[45,  1200] loss: 0.131 accuracy: 0.515\n",
      "[45,  1400] loss: 0.129 accuracy: 0.523\n",
      "[45,  1600] loss: 0.131 accuracy: 0.516\n",
      "[45,  1800] loss: 0.129 accuracy: 0.526\n",
      "[45,  2000] loss: 0.129 accuracy: 0.524\n",
      "[45,  2200] loss: 0.129 accuracy: 0.518\n",
      "[45,  2400] loss: 0.132 accuracy: 0.516\n",
      "[45,  2600] loss: 0.130 accuracy: 0.515\n",
      "\n"
     ]
    },
    {
     "data": {
      "application/vnd.jupyter.widget-view+json": {
       "model_id": "913b096468e0447fa339dd224b12a687",
       "version_major": 2,
       "version_minor": 0
      },
      "text/plain": [
       "HBox(children=(FloatProgress(value=0.0, max=2755.0), HTML(value='')))"
      ]
     },
     "metadata": {},
     "output_type": "display_data"
    },
    {
     "name": "stdout",
     "output_type": "stream",
     "text": [
      "[46,   200] loss: 0.230 accuracy: 0.929\n",
      "[46,   400] loss: 0.126 accuracy: 0.532\n",
      "[46,   600] loss: 0.130 accuracy: 0.521\n",
      "[46,   800] loss: 0.132 accuracy: 0.512\n",
      "[46,  1000] loss: 0.129 accuracy: 0.525\n",
      "[46,  1200] loss: 0.129 accuracy: 0.524\n",
      "[46,  1400] loss: 0.127 accuracy: 0.537\n",
      "[46,  1600] loss: 0.132 accuracy: 0.516\n",
      "[46,  1800] loss: 0.130 accuracy: 0.523\n",
      "[46,  2000] loss: 0.130 accuracy: 0.525\n",
      "[46,  2200] loss: 0.129 accuracy: 0.534\n",
      "[46,  2400] loss: 0.130 accuracy: 0.514\n",
      "[46,  2600] loss: 0.129 accuracy: 0.522\n",
      "\n"
     ]
    },
    {
     "data": {
      "application/vnd.jupyter.widget-view+json": {
       "model_id": "b83b5d092c28416d9742603c6a8164ee",
       "version_major": 2,
       "version_minor": 0
      },
      "text/plain": [
       "HBox(children=(FloatProgress(value=0.0, max=2755.0), HTML(value='')))"
      ]
     },
     "metadata": {},
     "output_type": "display_data"
    },
    {
     "name": "stdout",
     "output_type": "stream",
     "text": [
      "[47,   200] loss: 0.230 accuracy: 0.929\n",
      "[47,   400] loss: 0.127 accuracy: 0.535\n",
      "[47,   600] loss: 0.129 accuracy: 0.535\n",
      "[47,   800] loss: 0.129 accuracy: 0.519\n",
      "[47,  1000] loss: 0.127 accuracy: 0.532\n",
      "[47,  1200] loss: 0.131 accuracy: 0.521\n",
      "[47,  1400] loss: 0.128 accuracy: 0.527\n",
      "[47,  1600] loss: 0.130 accuracy: 0.516\n",
      "[47,  1800] loss: 0.129 accuracy: 0.523\n",
      "[47,  2000] loss: 0.127 accuracy: 0.535\n",
      "[47,  2200] loss: 0.130 accuracy: 0.526\n",
      "[47,  2400] loss: 0.129 accuracy: 0.527\n",
      "[47,  2600] loss: 0.127 accuracy: 0.530\n",
      "\n"
     ]
    },
    {
     "data": {
      "application/vnd.jupyter.widget-view+json": {
       "model_id": "c174d494a671481b82f6a35117cb3b9f",
       "version_major": 2,
       "version_minor": 0
      },
      "text/plain": [
       "HBox(children=(FloatProgress(value=0.0, max=2755.0), HTML(value='')))"
      ]
     },
     "metadata": {},
     "output_type": "display_data"
    },
    {
     "name": "stdout",
     "output_type": "stream",
     "text": [
      "[48,   200] loss: 0.224 accuracy: 0.948\n",
      "[48,   400] loss: 0.126 accuracy: 0.541\n",
      "[48,   600] loss: 0.128 accuracy: 0.527\n",
      "[48,   800] loss: 0.127 accuracy: 0.539\n",
      "[48,  1000] loss: 0.127 accuracy: 0.537\n",
      "[48,  1200] loss: 0.130 accuracy: 0.528\n",
      "[48,  1400] loss: 0.128 accuracy: 0.524\n",
      "[48,  1600] loss: 0.129 accuracy: 0.533\n",
      "[48,  1800] loss: 0.130 accuracy: 0.519\n",
      "[48,  2000] loss: 0.128 accuracy: 0.533\n",
      "[48,  2200] loss: 0.129 accuracy: 0.518\n",
      "[48,  2400] loss: 0.131 accuracy: 0.515\n",
      "[48,  2600] loss: 0.129 accuracy: 0.525\n",
      "\n"
     ]
    },
    {
     "data": {
      "application/vnd.jupyter.widget-view+json": {
       "model_id": "ad747492ae8e4ddc92ef80bd4ddd9870",
       "version_major": 2,
       "version_minor": 0
      },
      "text/plain": [
       "HBox(children=(FloatProgress(value=0.0, max=2755.0), HTML(value='')))"
      ]
     },
     "metadata": {},
     "output_type": "display_data"
    },
    {
     "name": "stdout",
     "output_type": "stream",
     "text": [
      "[49,   200] loss: 0.226 accuracy: 0.948\n",
      "[49,   400] loss: 0.127 accuracy: 0.534\n",
      "[49,   600] loss: 0.125 accuracy: 0.539\n",
      "[49,   800] loss: 0.128 accuracy: 0.534\n",
      "[49,  1000] loss: 0.129 accuracy: 0.525\n",
      "[49,  1200] loss: 0.127 accuracy: 0.534\n",
      "[49,  1400] loss: 0.128 accuracy: 0.527\n",
      "[49,  1600] loss: 0.128 accuracy: 0.527\n",
      "[49,  1800] loss: 0.128 accuracy: 0.534\n",
      "[49,  2000] loss: 0.126 accuracy: 0.540\n",
      "[49,  2200] loss: 0.130 accuracy: 0.523\n",
      "[49,  2400] loss: 0.130 accuracy: 0.517\n",
      "[49,  2600] loss: 0.127 accuracy: 0.529\n",
      "\n"
     ]
    },
    {
     "data": {
      "application/vnd.jupyter.widget-view+json": {
       "model_id": "7af2ea7eb8f9434795d558d06d60f1f4",
       "version_major": 2,
       "version_minor": 0
      },
      "text/plain": [
       "HBox(children=(FloatProgress(value=0.0, max=2755.0), HTML(value='')))"
      ]
     },
     "metadata": {},
     "output_type": "display_data"
    },
    {
     "name": "stdout",
     "output_type": "stream",
     "text": [
      "[50,   200] loss: 0.228 accuracy: 0.926\n",
      "[50,   400] loss: 0.127 accuracy: 0.535\n",
      "[50,   600] loss: 0.125 accuracy: 0.537\n",
      "[50,   800] loss: 0.127 accuracy: 0.528\n",
      "[50,  1000] loss: 0.126 accuracy: 0.539\n",
      "[50,  1200] loss: 0.126 accuracy: 0.537\n",
      "[50,  1400] loss: 0.126 accuracy: 0.535\n",
      "[50,  1600] loss: 0.127 accuracy: 0.531\n",
      "[50,  1800] loss: 0.126 accuracy: 0.540\n",
      "[50,  2000] loss: 0.127 accuracy: 0.526\n",
      "[50,  2200] loss: 0.127 accuracy: 0.531\n",
      "[50,  2400] loss: 0.130 accuracy: 0.527\n",
      "[50,  2600] loss: 0.127 accuracy: 0.540\n",
      "\n"
     ]
    },
    {
     "data": {
      "application/vnd.jupyter.widget-view+json": {
       "model_id": "ed13edd246bd4cb888b7fe1603b4b4ab",
       "version_major": 2,
       "version_minor": 0
      },
      "text/plain": [
       "HBox(children=(FloatProgress(value=0.0, max=2755.0), HTML(value='')))"
      ]
     },
     "metadata": {},
     "output_type": "display_data"
    },
    {
     "name": "stdout",
     "output_type": "stream",
     "text": [
      "[51,   200] loss: 0.223 accuracy: 0.950\n",
      "[51,   400] loss: 0.125 accuracy: 0.545\n",
      "[51,   600] loss: 0.128 accuracy: 0.528\n",
      "[51,   800] loss: 0.127 accuracy: 0.528\n",
      "[51,  1000] loss: 0.124 accuracy: 0.549\n",
      "[51,  1200] loss: 0.127 accuracy: 0.531\n",
      "[51,  1400] loss: 0.125 accuracy: 0.543\n",
      "[51,  1600] loss: 0.127 accuracy: 0.531\n",
      "[51,  1800] loss: 0.125 accuracy: 0.543\n",
      "[51,  2000] loss: 0.125 accuracy: 0.539\n",
      "[51,  2200] loss: 0.126 accuracy: 0.540\n",
      "[51,  2400] loss: 0.128 accuracy: 0.536\n",
      "[51,  2600] loss: 0.128 accuracy: 0.527\n",
      "\n"
     ]
    },
    {
     "data": {
      "application/vnd.jupyter.widget-view+json": {
       "model_id": "b08120409301417488e551237f4d40b5",
       "version_major": 2,
       "version_minor": 0
      },
      "text/plain": [
       "HBox(children=(FloatProgress(value=0.0, max=2755.0), HTML(value='')))"
      ]
     },
     "metadata": {},
     "output_type": "display_data"
    },
    {
     "name": "stdout",
     "output_type": "stream",
     "text": [
      "[52,   200] loss: 0.223 accuracy: 0.958\n",
      "[52,   400] loss: 0.124 accuracy: 0.546\n",
      "[52,   600] loss: 0.121 accuracy: 0.560\n",
      "[52,   800] loss: 0.127 accuracy: 0.549\n",
      "[52,  1000] loss: 0.124 accuracy: 0.547\n",
      "[52,  1200] loss: 0.126 accuracy: 0.537\n",
      "[52,  1400] loss: 0.126 accuracy: 0.538\n",
      "[52,  1600] loss: 0.126 accuracy: 0.540\n",
      "[52,  1800] loss: 0.126 accuracy: 0.535\n",
      "[52,  2000] loss: 0.124 accuracy: 0.543\n",
      "[52,  2200] loss: 0.126 accuracy: 0.540\n",
      "[52,  2400] loss: 0.125 accuracy: 0.552\n",
      "[52,  2600] loss: 0.125 accuracy: 0.544\n",
      "\n"
     ]
    },
    {
     "data": {
      "application/vnd.jupyter.widget-view+json": {
       "model_id": "f0a192a310ca4e7a833f69b2ad958881",
       "version_major": 2,
       "version_minor": 0
      },
      "text/plain": [
       "HBox(children=(FloatProgress(value=0.0, max=2755.0), HTML(value='')))"
      ]
     },
     "metadata": {},
     "output_type": "display_data"
    },
    {
     "name": "stdout",
     "output_type": "stream",
     "text": [
      "[53,   200] loss: 0.222 accuracy: 0.957\n",
      "[53,   400] loss: 0.123 accuracy: 0.547\n",
      "[53,   600] loss: 0.125 accuracy: 0.540\n",
      "[53,   800] loss: 0.125 accuracy: 0.543\n",
      "[53,  1000] loss: 0.124 accuracy: 0.543\n",
      "[53,  1200] loss: 0.125 accuracy: 0.536\n",
      "[53,  1400] loss: 0.123 accuracy: 0.549\n",
      "[53,  1600] loss: 0.124 accuracy: 0.540\n",
      "[53,  1800] loss: 0.125 accuracy: 0.545\n",
      "[53,  2000] loss: 0.124 accuracy: 0.555\n",
      "[53,  2200] loss: 0.126 accuracy: 0.537\n",
      "[53,  2400] loss: 0.125 accuracy: 0.537\n",
      "[53,  2600] loss: 0.125 accuracy: 0.539\n",
      "\n"
     ]
    },
    {
     "data": {
      "application/vnd.jupyter.widget-view+json": {
       "model_id": "7465627a412f458cb4aafb5c2951d77e",
       "version_major": 2,
       "version_minor": 0
      },
      "text/plain": [
       "HBox(children=(FloatProgress(value=0.0, max=2755.0), HTML(value='')))"
      ]
     },
     "metadata": {},
     "output_type": "display_data"
    },
    {
     "name": "stdout",
     "output_type": "stream",
     "text": [
      "[54,   200] loss: 0.220 accuracy: 0.975\n",
      "[54,   400] loss: 0.124 accuracy: 0.538\n",
      "[54,   600] loss: 0.122 accuracy: 0.553\n",
      "[54,   800] loss: 0.125 accuracy: 0.544\n",
      "[54,  1000] loss: 0.126 accuracy: 0.540\n",
      "[54,  1200] loss: 0.125 accuracy: 0.545\n",
      "[54,  1400] loss: 0.123 accuracy: 0.550\n",
      "[54,  1600] loss: 0.125 accuracy: 0.538\n",
      "[54,  1800] loss: 0.126 accuracy: 0.536\n",
      "[54,  2000] loss: 0.125 accuracy: 0.541\n",
      "[54,  2200] loss: 0.122 accuracy: 0.558\n",
      "[54,  2400] loss: 0.123 accuracy: 0.546\n",
      "[54,  2600] loss: 0.122 accuracy: 0.553\n",
      "\n"
     ]
    },
    {
     "data": {
      "application/vnd.jupyter.widget-view+json": {
       "model_id": "763dc231dadc44919ac8e2914488e0fa",
       "version_major": 2,
       "version_minor": 0
      },
      "text/plain": [
       "HBox(children=(FloatProgress(value=0.0, max=2755.0), HTML(value='')))"
      ]
     },
     "metadata": {},
     "output_type": "display_data"
    },
    {
     "name": "stdout",
     "output_type": "stream",
     "text": [
      "[55,   200] loss: 0.220 accuracy: 0.970\n",
      "[55,   400] loss: 0.123 accuracy: 0.548\n",
      "[55,   600] loss: 0.122 accuracy: 0.551\n",
      "[55,   800] loss: 0.124 accuracy: 0.551\n",
      "[55,  1000] loss: 0.120 accuracy: 0.560\n",
      "[55,  1200] loss: 0.123 accuracy: 0.547\n",
      "[55,  1400] loss: 0.122 accuracy: 0.546\n",
      "[55,  1600] loss: 0.126 accuracy: 0.534\n",
      "[55,  1800] loss: 0.123 accuracy: 0.544\n",
      "[55,  2000] loss: 0.125 accuracy: 0.539\n",
      "[55,  2200] loss: 0.123 accuracy: 0.552\n",
      "[55,  2400] loss: 0.124 accuracy: 0.546\n",
      "[55,  2600] loss: 0.123 accuracy: 0.547\n",
      "\n"
     ]
    },
    {
     "data": {
      "application/vnd.jupyter.widget-view+json": {
       "model_id": "f402a0175c9b4633ad5a5c1cec29c09a",
       "version_major": 2,
       "version_minor": 0
      },
      "text/plain": [
       "HBox(children=(FloatProgress(value=0.0, max=2755.0), HTML(value='')))"
      ]
     },
     "metadata": {},
     "output_type": "display_data"
    },
    {
     "name": "stdout",
     "output_type": "stream",
     "text": [
      "[56,   200] loss: 0.215 accuracy: 0.989\n",
      "[56,   400] loss: 0.121 accuracy: 0.558\n",
      "[56,   600] loss: 0.122 accuracy: 0.552\n",
      "[56,   800] loss: 0.121 accuracy: 0.563\n",
      "[56,  1000] loss: 0.124 accuracy: 0.546\n",
      "[56,  1200] loss: 0.124 accuracy: 0.542\n",
      "[56,  1400] loss: 0.122 accuracy: 0.555\n",
      "[56,  1600] loss: 0.125 accuracy: 0.540\n",
      "[56,  1800] loss: 0.124 accuracy: 0.541\n",
      "[56,  2000] loss: 0.123 accuracy: 0.545\n",
      "[56,  2200] loss: 0.122 accuracy: 0.553\n",
      "[56,  2400] loss: 0.123 accuracy: 0.547\n",
      "[56,  2600] loss: 0.122 accuracy: 0.553\n",
      "\n"
     ]
    },
    {
     "data": {
      "application/vnd.jupyter.widget-view+json": {
       "model_id": "a4d7b7fd25084916916b4ee497b95cc8",
       "version_major": 2,
       "version_minor": 0
      },
      "text/plain": [
       "HBox(children=(FloatProgress(value=0.0, max=2755.0), HTML(value='')))"
      ]
     },
     "metadata": {},
     "output_type": "display_data"
    },
    {
     "name": "stdout",
     "output_type": "stream",
     "text": [
      "[57,   200] loss: 0.215 accuracy: 0.979\n",
      "[57,   400] loss: 0.121 accuracy: 0.561\n",
      "[57,   600] loss: 0.121 accuracy: 0.555\n",
      "[57,   800] loss: 0.121 accuracy: 0.561\n",
      "[57,  1000] loss: 0.121 accuracy: 0.556\n",
      "[57,  1200] loss: 0.123 accuracy: 0.551\n",
      "[57,  1400] loss: 0.121 accuracy: 0.553\n",
      "[57,  1600] loss: 0.122 accuracy: 0.555\n",
      "[57,  1800] loss: 0.123 accuracy: 0.554\n",
      "[57,  2000] loss: 0.120 accuracy: 0.568\n",
      "[57,  2200] loss: 0.121 accuracy: 0.558\n",
      "[57,  2400] loss: 0.121 accuracy: 0.562\n",
      "[57,  2600] loss: 0.119 accuracy: 0.566\n",
      "\n"
     ]
    },
    {
     "data": {
      "application/vnd.jupyter.widget-view+json": {
       "model_id": "6a82600d104c424b80e0f3b5d46f2bc1",
       "version_major": 2,
       "version_minor": 0
      },
      "text/plain": [
       "HBox(children=(FloatProgress(value=0.0, max=2755.0), HTML(value='')))"
      ]
     },
     "metadata": {},
     "output_type": "display_data"
    },
    {
     "name": "stdout",
     "output_type": "stream",
     "text": [
      "[58,   200] loss: 0.216 accuracy: 0.988\n",
      "[58,   400] loss: 0.121 accuracy: 0.559\n",
      "[58,   600] loss: 0.121 accuracy: 0.563\n",
      "[58,   800] loss: 0.123 accuracy: 0.553\n",
      "[58,  1000] loss: 0.120 accuracy: 0.555\n",
      "[58,  1200] loss: 0.123 accuracy: 0.551\n",
      "[58,  1400] loss: 0.121 accuracy: 0.559\n",
      "[58,  1600] loss: 0.120 accuracy: 0.553\n",
      "[58,  1800] loss: 0.121 accuracy: 0.558\n",
      "[58,  2000] loss: 0.123 accuracy: 0.547\n",
      "[58,  2200] loss: 0.120 accuracy: 0.564\n",
      "[58,  2400] loss: 0.120 accuracy: 0.559\n",
      "[58,  2600] loss: 0.121 accuracy: 0.560\n",
      "\n"
     ]
    },
    {
     "data": {
      "application/vnd.jupyter.widget-view+json": {
       "model_id": "c89a2a0f809846f6948d5a6eeec017e2",
       "version_major": 2,
       "version_minor": 0
      },
      "text/plain": [
       "HBox(children=(FloatProgress(value=0.0, max=2755.0), HTML(value='')))"
      ]
     },
     "metadata": {},
     "output_type": "display_data"
    },
    {
     "name": "stdout",
     "output_type": "stream",
     "text": [
      "[59,   200] loss: 0.213 accuracy: 1.000\n",
      "[59,   400] loss: 0.121 accuracy: 0.562\n",
      "[59,   600] loss: 0.118 accuracy: 0.569\n",
      "[59,   800] loss: 0.123 accuracy: 0.554\n",
      "[59,  1000] loss: 0.121 accuracy: 0.553\n",
      "[59,  1200] loss: 0.122 accuracy: 0.554\n",
      "[59,  1400] loss: 0.119 accuracy: 0.566\n",
      "[59,  1600] loss: 0.121 accuracy: 0.561\n",
      "[59,  1800] loss: 0.121 accuracy: 0.557\n",
      "[59,  2000] loss: 0.120 accuracy: 0.555\n",
      "[59,  2200] loss: 0.120 accuracy: 0.559\n",
      "[59,  2400] loss: 0.121 accuracy: 0.551\n",
      "[59,  2600] loss: 0.121 accuracy: 0.560\n",
      "\n"
     ]
    },
    {
     "data": {
      "application/vnd.jupyter.widget-view+json": {
       "model_id": "4189c1f67a1d4021b0d291c69e43545c",
       "version_major": 2,
       "version_minor": 0
      },
      "text/plain": [
       "HBox(children=(FloatProgress(value=0.0, max=2755.0), HTML(value='')))"
      ]
     },
     "metadata": {},
     "output_type": "display_data"
    },
    {
     "name": "stdout",
     "output_type": "stream",
     "text": [
      "[60,   200] loss: 0.212 accuracy: 0.999\n",
      "[60,   400] loss: 0.120 accuracy: 0.562\n",
      "[60,   600] loss: 0.120 accuracy: 0.562\n",
      "[60,   800] loss: 0.123 accuracy: 0.545\n",
      "[60,  1000] loss: 0.121 accuracy: 0.562\n",
      "[60,  1200] loss: 0.121 accuracy: 0.552\n",
      "[60,  1400] loss: 0.121 accuracy: 0.560\n",
      "[60,  1600] loss: 0.123 accuracy: 0.557\n",
      "[60,  1800] loss: 0.123 accuracy: 0.551\n",
      "[60,  2000] loss: 0.118 accuracy: 0.575\n",
      "[60,  2200] loss: 0.121 accuracy: 0.559\n",
      "[60,  2400] loss: 0.120 accuracy: 0.557\n",
      "[60,  2600] loss: 0.120 accuracy: 0.561\n",
      "\n"
     ]
    },
    {
     "data": {
      "application/vnd.jupyter.widget-view+json": {
       "model_id": "57bcd9a8a6814eb9a09028791009a122",
       "version_major": 2,
       "version_minor": 0
      },
      "text/plain": [
       "HBox(children=(FloatProgress(value=0.0, max=2755.0), HTML(value='')))"
      ]
     },
     "metadata": {},
     "output_type": "display_data"
    },
    {
     "name": "stdout",
     "output_type": "stream",
     "text": [
      "[61,   200] loss: 0.214 accuracy: 1.001\n",
      "[61,   400] loss: 0.122 accuracy: 0.552\n",
      "[61,   600] loss: 0.120 accuracy: 0.561\n",
      "[61,   800] loss: 0.122 accuracy: 0.556\n",
      "[61,  1000] loss: 0.118 accuracy: 0.568\n",
      "[61,  1200] loss: 0.121 accuracy: 0.559\n",
      "[61,  1400] loss: 0.119 accuracy: 0.563\n",
      "[61,  1600] loss: 0.117 accuracy: 0.573\n",
      "[61,  1800] loss: 0.118 accuracy: 0.570\n",
      "[61,  2000] loss: 0.120 accuracy: 0.559\n",
      "[61,  2200] loss: 0.119 accuracy: 0.573\n",
      "[61,  2400] loss: 0.119 accuracy: 0.565\n",
      "[61,  2600] loss: 0.120 accuracy: 0.558\n",
      "\n"
     ]
    },
    {
     "data": {
      "application/vnd.jupyter.widget-view+json": {
       "model_id": "73615f7e8cb74ab089f6db64e0b05939",
       "version_major": 2,
       "version_minor": 0
      },
      "text/plain": [
       "HBox(children=(FloatProgress(value=0.0, max=2755.0), HTML(value='')))"
      ]
     },
     "metadata": {},
     "output_type": "display_data"
    },
    {
     "name": "stdout",
     "output_type": "stream",
     "text": [
      "[62,   200] loss: 0.216 accuracy: 0.996\n",
      "[62,   400] loss: 0.117 accuracy: 0.575\n",
      "[62,   600] loss: 0.122 accuracy: 0.563\n",
      "[62,   800] loss: 0.121 accuracy: 0.564\n",
      "[62,  1000] loss: 0.117 accuracy: 0.577\n",
      "[62,  1200] loss: 0.119 accuracy: 0.564\n",
      "[62,  1400] loss: 0.117 accuracy: 0.572\n",
      "[62,  1600] loss: 0.120 accuracy: 0.560\n",
      "[62,  1800] loss: 0.117 accuracy: 0.571\n",
      "[62,  2000] loss: 0.120 accuracy: 0.559\n",
      "[62,  2200] loss: 0.121 accuracy: 0.553\n",
      "[62,  2400] loss: 0.119 accuracy: 0.571\n",
      "[62,  2600] loss: 0.121 accuracy: 0.553\n",
      "\n"
     ]
    },
    {
     "data": {
      "application/vnd.jupyter.widget-view+json": {
       "model_id": "375f8035e71c42cd84a70607cfbdfad5",
       "version_major": 2,
       "version_minor": 0
      },
      "text/plain": [
       "HBox(children=(FloatProgress(value=0.0, max=2755.0), HTML(value='')))"
      ]
     },
     "metadata": {},
     "output_type": "display_data"
    },
    {
     "name": "stdout",
     "output_type": "stream",
     "text": [
      "[63,   200] loss: 0.211 accuracy: 1.012\n",
      "[63,   400] loss: 0.117 accuracy: 0.567\n",
      "[63,   600] loss: 0.119 accuracy: 0.555\n",
      "[63,   800] loss: 0.117 accuracy: 0.576\n",
      "[63,  1000] loss: 0.119 accuracy: 0.568\n",
      "[63,  1200] loss: 0.118 accuracy: 0.575\n",
      "[63,  1400] loss: 0.118 accuracy: 0.566\n",
      "[63,  1600] loss: 0.117 accuracy: 0.574\n",
      "[63,  1800] loss: 0.119 accuracy: 0.571\n",
      "[63,  2000] loss: 0.118 accuracy: 0.570\n",
      "[63,  2200] loss: 0.120 accuracy: 0.563\n",
      "[63,  2400] loss: 0.117 accuracy: 0.573\n",
      "[63,  2600] loss: 0.119 accuracy: 0.569\n",
      "\n"
     ]
    },
    {
     "data": {
      "application/vnd.jupyter.widget-view+json": {
       "model_id": "fe20a18a0076455fadd58aeb69b5208c",
       "version_major": 2,
       "version_minor": 0
      },
      "text/plain": [
       "HBox(children=(FloatProgress(value=0.0, max=2755.0), HTML(value='')))"
      ]
     },
     "metadata": {},
     "output_type": "display_data"
    },
    {
     "name": "stdout",
     "output_type": "stream",
     "text": [
      "[64,   200] loss: 0.211 accuracy: 0.998\n",
      "[64,   400] loss: 0.118 accuracy: 0.575\n",
      "[64,   600] loss: 0.117 accuracy: 0.568\n",
      "[64,   800] loss: 0.119 accuracy: 0.563\n",
      "[64,  1000] loss: 0.119 accuracy: 0.567\n",
      "[64,  1200] loss: 0.118 accuracy: 0.570\n",
      "[64,  1400] loss: 0.118 accuracy: 0.572\n",
      "[64,  1600] loss: 0.119 accuracy: 0.568\n",
      "[64,  1800] loss: 0.118 accuracy: 0.569\n",
      "[64,  2000] loss: 0.117 accuracy: 0.573\n",
      "[64,  2200] loss: 0.117 accuracy: 0.573\n",
      "[64,  2400] loss: 0.119 accuracy: 0.566\n",
      "[64,  2600] loss: 0.117 accuracy: 0.577\n",
      "\n"
     ]
    }
   ],
   "source": [
    "batch_size = 32\n",
    "chunkloader_train = torch.utils.data.DataLoader(chunkset_train, batch_size=batch_size, shuffle=True, pin_memory = True, num_workers = 16)\n",
    "criterion = torch.nn.BCELoss()\n",
    "\n",
    "\n",
    "\n",
    "for epoch in range(64):\n",
    "    running_loss = 0.0\n",
    "    running_accuracy = 0.0\n",
    "    for batch_idx, (X1, X2, target) in enumerate(tqdm(chunkloader_train)):\n",
    "        optimizer.zero_grad()\n",
    "        X1, X2, target = X1.float().cuda(device), X2.float().cuda(device), target.float().cuda(device)\n",
    "\n",
    "        out = cls(X1, X2)\n",
    "        loss = criterion(out, target)\n",
    "        loss.backward()\n",
    "        torch.nn.utils.clip_grad_norm_(cls.parameters(), 0.5)\n",
    "        optimizer.step()\n",
    "\n",
    "        running_loss += loss.item()\n",
    "        running_accuracy += compute_corrects(out, target)/batch_size\n",
    "        if batch_idx % 200 == 199:    # print every 2000 mini-batches\n",
    "            print('[%d, %5d] loss: %.3f accuracy: %.3f' % \n",
    "                  (epoch + 1, batch_idx + 1, running_loss / 200, running_accuracy / 200))\n",
    "            running_loss = 0.0\n",
    "            running_accuracy = 0.0\n",
    "            torch.save({\n",
    "            'model_state_dict': cls.state_dict(),\n",
    "            'optimizer_state_dict': optimizer.state_dict(),\n",
    "            'loss': loss\n",
    "            }, 'models/sincnet.pth')\n"
   ]
  },
  {
   "cell_type": "code",
   "execution_count": null,
   "metadata": {},
   "outputs": [],
   "source": [
    "chunkloader_val = torch.utils.data.DataLoader(chunkset_train, batch_size=batch_size, shuffle=True, pin_memory = True, num_workers = 16)\n"
   ]
  },
  {
   "cell_type": "code",
   "execution_count": null,
   "metadata": {},
   "outputs": [],
   "source": []
  },
  {
   "cell_type": "code",
   "execution_count": 52,
   "metadata": {},
   "outputs": [],
   "source": [
    "def create_batches_rnd(batch_size,data_folder,wav_lst,N_snt,wlen,lab_dict,fact_amp):\n",
    "    \n",
    " # Initialization of the minibatch (batch_size,[0=>x_t,1=>x_t+N,1=>random_samp])\n",
    " sig_batch=np.zeros([batch_size,wlen])\n",
    " lab_batch=np.zeros(batch_size)\n",
    "  \n",
    " snt_id_arr=np.random.randint(N_snt, size=batch_size)\n",
    " \n",
    " rand_amp_arr = np.random.uniform(1.0-fact_amp,1+fact_amp,batch_size)\n",
    "\n",
    " for i in range(batch_size):\n",
    "     \n",
    "  # select a random sentence from the list  (joint distribution)\n",
    "  [fs,signal]=scipy.io.wavfile.read(data_folder+wav_lst[snt_id_arr[i]])\n",
    "  signal=signal.astype(float)/32768\n",
    "\n",
    "  # accesing to a random chunk\n",
    "  snt_len=signal.shape[0]\n",
    "  snt_beg=np.random.randint(snt_len-wlen-1) #randint(0, snt_len-2*wlen-1)\n",
    "  snt_end=snt_beg+wlen\n",
    "  \n",
    "  sig_batch[i,:]=signal[snt_beg:snt_end]*rand_amp_arr[i]\n",
    "  lab_batch[i]=lab_dict[wav_lst[snt_id_arr[i]]]\n",
    "  \n",
    " inp=torch.from_numpy(sig_batch).float().cuda().contiguous()  # Current Frame\n",
    " lab=torch.from_numpy(lab_batch).float().cuda().contiguous()\n",
    "  \n",
    " return inp,lab  "
   ]
  },
  {
   "cell_type": "code",
   "execution_count": null,
   "metadata": {},
   "outputs": [],
   "source": [
    "# Full Validation  new  \n",
    "  if epoch%N_eval_epoch==0:\n",
    "      \n",
    "   CNN_net.eval()\n",
    "   DNN1_net.eval()\n",
    "   DNN2_net.eval()\n",
    "   test_flag=1 \n",
    "   loss_sum=0\n",
    "   err_sum=0\n",
    "   err_sum_snt=0\n",
    "   \n",
    "   with torch.no_grad():  \n",
    "    for i in range(snt_te):\n",
    "       \n",
    "     #[fs,signal]=scipy.io.wavfile.read(data_folder+wav_lst_te[i])\n",
    "     #signal=signal.astype(float)/32768\n",
    "\n",
    "     [signal, fs] = sf.read(data_folder+wav_lst_te[i])\n",
    "\n",
    "     signal=torch.from_numpy(signal).float().cuda().contiguous()\n",
    "     lab_batch=lab_dict[wav_lst_te[i]]\n",
    "    \n",
    "     # split signals into chunks\n",
    "     beg_samp=0\n",
    "     end_samp=wlen\n",
    "     \n",
    "     N_fr=int((signal.shape[0]-wlen)/(wshift))\n",
    "     \n",
    "\n",
    "     sig_arr=torch.zeros([Batch_dev,wlen]).float().cuda().contiguous()\n",
    "     lab= Variable((torch.zeros(N_fr+1)+lab_batch).cuda().contiguous().long())\n",
    "     pout=Variable(torch.zeros(N_fr+1,class_lay[-1]).float().cuda().contiguous())\n",
    "     count_fr=0\n",
    "     count_fr_tot=0\n",
    "     while end_samp<signal.shape[0]:\n",
    "         sig_arr[count_fr,:]=signal[beg_samp:end_samp]\n",
    "         beg_samp=beg_samp+wshift\n",
    "         end_samp=beg_samp+wlen\n",
    "         count_fr=count_fr+1\n",
    "         count_fr_tot=count_fr_tot+1\n",
    "         if count_fr==Batch_dev:\n",
    "             inp=Variable(sig_arr)\n",
    "             pout[count_fr_tot-Batch_dev:count_fr_tot,:]=DNN2_net(DNN1_net(CNN_net(inp)))\n",
    "             count_fr=0\n",
    "             sig_arr=torch.zeros([Batch_dev,wlen]).float().cuda().contiguous()\n",
    "   \n",
    "     if count_fr>0:\n",
    "      inp=Variable(sig_arr[0:count_fr])\n",
    "      pout[count_fr_tot-count_fr:count_fr_tot,:]=DNN2_net(DNN1_net(CNN_net(inp)))\n",
    "\n",
    "    \n",
    "     pred=torch.max(pout,dim=1)[1]\n",
    "     loss = cost(pout, lab.long())\n",
    "     err = torch.mean((pred!=lab.long()).float())\n",
    "    \n",
    "     [val,best_class]=torch.max(torch.sum(pout,dim=0),0)\n",
    "     err_sum_snt=err_sum_snt+(best_class!=lab[0]).float()\n",
    "    \n",
    "    \n",
    "     loss_sum=loss_sum+loss.detach()\n",
    "     err_sum=err_sum+err.detach()\n",
    "    \n",
    "    err_tot_dev_snt=err_sum_snt/snt_te\n",
    "    loss_tot_dev=loss_sum/snt_te\n",
    "    err_tot_dev=err_sum/snt_te\n",
    "\n",
    "  \n",
    "   print(\"epoch %i, loss_tr=%f err_tr=%f loss_te=%f err_te=%f err_te_snt=%f\" % (epoch, loss_tot,err_tot,loss_tot_dev,err_tot_dev,err_tot_dev_snt))\n",
    "  \n",
    "   with open(output_folder+\"/res.res\", \"a\") as res_file:\n",
    "    res_file.write(\"epoch %i, loss_tr=%f err_tr=%f loss_te=%f err_te=%f err_te_snt=%f\\n\" % (epoch, loss_tot,err_tot,loss_tot_dev,err_tot_dev,err_tot_dev_snt))   \n",
    "\n",
    "   checkpoint={'CNN_model_par': CNN_net.state_dict(),\n",
    "               'DNN1_model_par': DNN1_net.state_dict(),\n",
    "               'DNN2_model_par': DNN2_net.state_dict(),\n",
    "               }\n",
    "   torch.save(checkpoint,output_folder+'/model_raw.pkl')\n",
    "  \n",
    "  else:\n",
    "   print(\"epoch %i, loss_tr=%f err_tr=%f\" % (epoch, loss_tot,err_tot))"
   ]
  }
 ],
 "metadata": {
  "kernelspec": {
   "display_name": "Python 3",
   "language": "python",
   "name": "python3"
  },
  "language_info": {
   "codemirror_mode": {
    "name": "ipython",
    "version": 3
   },
   "file_extension": ".py",
   "mimetype": "text/x-python",
   "name": "python",
   "nbconvert_exporter": "python",
   "pygments_lexer": "ipython3",
   "version": "3.7.6"
  }
 },
 "nbformat": 4,
 "nbformat_minor": 4
}
