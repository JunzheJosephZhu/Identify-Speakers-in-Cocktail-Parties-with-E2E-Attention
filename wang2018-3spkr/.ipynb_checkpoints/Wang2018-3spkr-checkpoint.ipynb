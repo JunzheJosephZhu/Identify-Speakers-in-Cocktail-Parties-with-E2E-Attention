{
 "cells": [
  {
   "cell_type": "code",
   "execution_count": 1,
   "metadata": {},
   "outputs": [],
   "source": [
    "import librosa\n",
    "import IPython.display as ipd\n",
    "import matplotlib.pyplot as plt\n",
    "import numpy as np\n",
    "import torch\n",
    "import torch.nn as nn\n",
    "import torch.nn.functional as F\n",
    "import time\n",
    "import pandas as pd\n",
    "from collections import Counter\n",
    "import sys\n",
    "import os\n",
    "from tqdm.notebook import tqdm\n",
    "from librosa.core import resample\n",
    "EPS = 1e-8\n",
    "\n",
    "class Lambda(nn.Module):\n",
    "    def __init__(self, func):\n",
    "        super().__init__()\n",
    "        self.func = func\n",
    "\n",
    "    def forward(self, x):\n",
    "        return self.func(x)\n",
    "old_sr = 8000\n",
    "new_sr = 8000\n",
    "half = False\n",
    "root = '../'\n",
    "load = True\n",
    "\n",
    "device = 1\n",
    "device_ids = [0, 1, 2, 3]\n",
    "torch.cuda.set_device(device)"
   ]
  },
  {
   "cell_type": "code",
   "execution_count": 2,
   "metadata": {},
   "outputs": [
    {
     "data": {
      "text/plain": [
       "<matplotlib.image.AxesImage at 0x7fec64107a90>"
      ]
     },
     "execution_count": 2,
     "metadata": {},
     "output_type": "execute_result"
    },
    {
     "data": {
      "image/png": "[encoded data removed]",
      "text/plain": [
       "<Figure size 432x288 with 1 Axes>"
      ]
     },
     "metadata": {
      "needs_background": "light"
     },
     "output_type": "display_data"
    }
   ],
   "source": [
    "def make_features(segment):\n",
    "    S = librosa.feature.melspectrogram(y=segment, n_fft=512, hop_length=256, n_mels = 40)\n",
    "    #S = librosa.power_to_db(S)\n",
    "    S -= S.mean(axis = 1, keepdims = True)\n",
    "    return S\n",
    "\n",
    "def compute_energy(segment):\n",
    "    E = librosa.feature.rms(segment, frame_length=512, hop_length=256)\n",
    "    return E[0]\n",
    "\n",
    "class OverlayDataSet(torch.utils.data.Dataset):\n",
    "    def __init__(self, csv):\n",
    "        super().__init__()\n",
    "        self.segments = pd.read_csv(root+csv)\n",
    "        self.speakers = list(set(self.segments['speaker']))\n",
    "        self.speakers.sort()\n",
    "        self.spkr2idx = {spkr:i for i, spkr in enumerate(self.speakers)}\n",
    "\n",
    "    def __len__(self):\n",
    "        return len(self.segments)\n",
    "    def __getitem__(self, idx):\n",
    "        seg1 = self.segments.iloc[idx]\n",
    "        seg2 = self.segments.iloc[torch.randint(len(self.segments), [1])[0].item()]\n",
    "        while(seg1['speaker']==seg2['speaker']):\n",
    "            seg2 = self.segments.iloc[torch.randint(len(self.segments), [1])[0].item()]\n",
    "        seg3 = self.segments.iloc[torch.randint(len(self.segments), [1])[0].item()]\n",
    "        while(seg3['speaker']==seg2['speaker'] or seg3['speaker']==seg1['speaker']):\n",
    "            seg3 = self.segments.iloc[torch.randint(len(self.segments), [1])[0].item()]\n",
    "            \n",
    "        sig1 = np.load(root+seg1['segfile'])\n",
    "        sig2 = np.load(root+seg2['segfile'])\n",
    "        sig3 = np.load(root+seg3['segfile'])\n",
    "\n",
    "        E1 = compute_energy(sig1) # [n_frames]\n",
    "        E2 = compute_energy(sig2)\n",
    "        E3 = compute_energy(sig3)\n",
    "\n",
    "        out_vec = np.zeros((len(self.speakers), len(E1))) # [#spkrs, n_frames]\n",
    "        out_vec[self.spkr2idx[seg1['speaker']]] = E1/(E1+E2+E3)\n",
    "        out_vec[self.spkr2idx[seg2['speaker']]] = E2/(E1+E2+E3)\n",
    "        out_vec[self.spkr2idx[seg3['speaker']]] = E2/(E1+E2+E3)\n",
    "\n",
    "        S = make_features(sig1+sig2+sig3)\n",
    "\n",
    "        return S, out_vec\n",
    "\n",
    "\n",
    "#mean, std = compute_mean_std('overlay-train.csv')\n",
    "\n",
    "\n",
    "trainset = OverlayDataSet('train-segments.csv')\n",
    "valset = OverlayDataSet('val-segments.csv')\n",
    "testset = OverlayDataSet('test-segments.csv')\n",
    "features, vec = trainset[5]\n",
    "\n",
    "plt.imshow(features)"
   ]
  },
  {
   "cell_type": "code",
   "execution_count": 3,
   "metadata": {},
   "outputs": [
    {
     "name": "stdout",
     "output_type": "stream",
     "text": [
      "load\n"
     ]
    }
   ],
   "source": [
    "class Wang2018(nn.Module):\n",
    "    def __init__(self):\n",
    "        super().__init__()\n",
    "        self.conv1 = nn.Conv2d(in_channels = 1, out_channels = 2, kernel_size = 5, padding=2, dilation=1)\n",
    "        self.bn1 = nn.BatchNorm2d(2)\n",
    "        self.conv2 = nn.Conv2d(in_channels = 2, out_channels = 4, kernel_size = 3, padding=1, dilation=1)\n",
    "        self.bn2 = nn.BatchNorm2d(4)\n",
    "        self.conv3 = nn.Conv2d(in_channels = 4, out_channels = 6, kernel_size = 3, padding=2, dilation=2)\n",
    "        self.bn3 = nn.BatchNorm2d(6)\n",
    "        # [batch_size, 6, 40, 128]\n",
    "        # reshape to : [batch_size, 6*40, 128]\n",
    "        self.relu = nn.ReLU()\n",
    "        self.fc = nn.Conv1d(6*40, 512, 11, padding = 5)\n",
    "        self.out = nn.Conv1d(512, 20, 1)\n",
    "        self.softmax = nn.Softmax(dim = 1)\n",
    "        #self.softmax = nn.Sigmoid()\n",
    "    def forward(self, X):\n",
    "        X = X.unsqueeze(dim = 1)\n",
    "        X = self.relu(self.bn1(self.conv1(X)))\n",
    "        X = self.relu(self.bn2(self.conv2(X)))\n",
    "        X = self.relu(self.bn3(self.conv3(X))) # [B, 6, H, W]\n",
    "        X = X.view(X.shape[0], -1, X.shape[-1]) # [B, 6*H, W]\n",
    "        X = self.fc(X) # [B, 512, W]\n",
    "        X = self.relu(X)\n",
    "        X = self.out(X)\n",
    "        X = self.softmax(X)\n",
    "        X = X.clamp(min = 1e-8)\n",
    "        return X\n",
    "    \n",
    "model = Wang2018().cuda(device)\n",
    "optimizer = torch.optim.Adam(model.parameters(), lr = 0.0001)\n",
    "\n",
    "if load:\n",
    "    checkpoint = torch.load('models/Wang2018.pth')\n",
    "    model.load_state_dict(checkpoint['model_state_dict'])\n",
    "    print('load')"
   ]
  },
  {
   "cell_type": "code",
   "execution_count": 4,
   "metadata": {},
   "outputs": [],
   "source": [
    "def find_max3(tensor):\n",
    "    array = tensor.cpu().detach().numpy()\n",
    "    max3 = []\n",
    "    for row in array:\n",
    "        max3.append(np.argsort(row)[::-1][:3])\n",
    "    return np.array(max3)\n",
    "\n",
    "def post_filter(pred):\n",
    "    # pred: [batch_size, 20, n_frames]\n",
    "    maxprob, _ = torch.max(pred, dim = 1, keepdim = True) # [batch_size, 1, n_frames]\n",
    "    beta = 2\n",
    "    frameweight = maxprob**beta # [batch_size, 1, n_frames]\n",
    "    pred *= frameweight # [batch_size, 20, n_frames]\n",
    "    pred = pred.mean(dim = 2) # [batch_size, 20]\n",
    "    return pred\n",
    "    \n",
    "def compute_corrects(tensor1, tensor2): # tensor 1 is pred[B, 20], tensor 2 is truth[B, 20, n_frmaes]\n",
    "    tensor2 = tensor2.mean(dim=2)\n",
    "    preds, truth = find_max3(tensor1), (tensor2>0).float().cpu().detach().numpy()\n",
    "    batch_size = preds.shape[0]\n",
    "    half_corrects = 0\n",
    "    corrects = 0\n",
    "    for i in range(batch_size):\n",
    "        if sum(truth[i][preds[i]]) >= 1:\n",
    "            half_corrects+=1\n",
    "        if sum(truth[i][preds[i]]) == 3:\n",
    "            corrects+=1\n",
    "    return half_corrects, corrects\n",
    "\n",
    "\n",
    "\n",
    "bce = torch.nn.BCELoss()\n",
    "def focalKLD(pred, target, size_average=True): # hasn't been debugged\n",
    "    # input : [batch_size, 20, n_frames]\n",
    "    # target: [batch_size, 20, n_frames]\n",
    "    alpha = 0.5\n",
    "    lamb = 2\n",
    "    CE = -target * torch.log(pred)# - (1-target) * torch.log(1-pred) # [batch_size, 20, n_frames]\n",
    "    decay = torch.sum(input = ((target>0).float()*pred)**lamb, dim = 1, keepdim = True) # [batch_size, 1, n_frames]\n",
    "    w = 1 + alpha - decay # [batch_size, 1, n_frames]\n",
    "    KLD = torch.mean(CE*w)\n",
    "    return KLD\n",
    "\n"
   ]
  },
  {
   "cell_type": "code",
   "execution_count": 5,
   "metadata": {
    "scrolled": true
   },
   "outputs": [
    {
     "data": {
      "application/vnd.jupyter.widget-view+json": {
       "model_id": "6402e6d6c3ab4effa0587bd1f4fc79d8",
       "version_major": 2,
       "version_minor": 0
      },
      "text/plain": [
       "HBox(children=(FloatProgress(value=0.0, max=1201.0), HTML(value='')))"
      ]
     },
     "metadata": {},
     "output_type": "display_data"
    },
    {
     "name": "stdout",
     "output_type": "stream",
     "text": [
      "[1,   200]  loss: 0.130 half accuracy: 0.980313 accuracy: 0.120\n",
      "[1,   400]  loss: 0.129 half accuracy: 0.983594 accuracy: 0.110\n",
      "[1,   600]  loss: 0.131 half accuracy: 0.982031 accuracy: 0.118\n",
      "[1,   800]  loss: 0.131 half accuracy: 0.979219 accuracy: 0.118\n",
      "[1,  1000]  loss: 0.131 half accuracy: 0.984062 accuracy: 0.115\n",
      "[1,  1200]  loss: 0.131 half accuracy: 0.982656 accuracy: 0.112\n",
      "\n"
     ]
    },
    {
     "data": {
      "application/vnd.jupyter.widget-view+json": {
       "model_id": "49375e0241664e318079e2f2e184de40",
       "version_major": 2,
       "version_minor": 0
      },
      "text/plain": [
       "HBox(children=(FloatProgress(value=0.0, max=151.0), HTML(value='')))"
      ]
     },
     "metadata": {},
     "output_type": "display_data"
    },
    {
     "name": "stdout",
     "output_type": "stream",
     "text": [
      "\n",
      "val 1/2: 0.981261711430356 val 2/2: 0.10847387049760567\n"
     ]
    },
    {
     "data": {
      "application/vnd.jupyter.widget-view+json": {
       "model_id": "48eb5969e9ec4b928afef0ed1d91bdf5",
       "version_major": 2,
       "version_minor": 0
      },
      "text/plain": [
       "HBox(children=(FloatProgress(value=0.0, max=1201.0), HTML(value='')))"
      ]
     },
     "metadata": {},
     "output_type": "display_data"
    },
    {
     "name": "stdout",
     "output_type": "stream",
     "text": [
      "[2,   200]  loss: 0.130 half accuracy: 0.981094 accuracy: 0.114\n",
      "[2,   400]  loss: 0.130 half accuracy: 0.978125 accuracy: 0.116\n",
      "[2,   600]  loss: 0.129 half accuracy: 0.983750 accuracy: 0.113\n",
      "[2,   800]  loss: 0.129 half accuracy: 0.983281 accuracy: 0.117\n",
      "[2,  1000]  loss: 0.129 half accuracy: 0.980156 accuracy: 0.120\n",
      "[2,  1200]  loss: 0.129 half accuracy: 0.980469 accuracy: 0.115\n",
      "\n"
     ]
    },
    {
     "data": {
      "application/vnd.jupyter.widget-view+json": {
       "model_id": "ffbd5b8eb7464337a4353b3b07f6a2cc",
       "version_major": 2,
       "version_minor": 0
      },
      "text/plain": [
       "HBox(children=(FloatProgress(value=0.0, max=151.0), HTML(value='')))"
      ]
     },
     "metadata": {},
     "output_type": "display_data"
    },
    {
     "name": "stdout",
     "output_type": "stream",
     "text": [
      "\n",
      "val 1/2: 0.9789714761607329 val 2/2: 0.11867582760774516\n"
     ]
    },
    {
     "data": {
      "application/vnd.jupyter.widget-view+json": {
       "model_id": "a0ef2eefdd8844939ee1156909c8e2bf",
       "version_major": 2,
       "version_minor": 0
      },
      "text/plain": [
       "HBox(children=(FloatProgress(value=0.0, max=1201.0), HTML(value='')))"
      ]
     },
     "metadata": {},
     "output_type": "display_data"
    },
    {
     "name": "stdout",
     "output_type": "stream",
     "text": [
      "[3,   200]  loss: 0.130 half accuracy: 0.982187 accuracy: 0.119\n",
      "[3,   400]  loss: 0.132 half accuracy: 0.978750 accuracy: 0.120\n",
      "[3,   600]  loss: 0.131 half accuracy: 0.981406 accuracy: 0.116\n",
      "[3,   800]  loss: 0.129 half accuracy: 0.980781 accuracy: 0.118\n",
      "[3,  1000]  loss: 0.130 half accuracy: 0.977969 accuracy: 0.114\n",
      "[3,  1200]  loss: 0.129 half accuracy: 0.983125 accuracy: 0.118\n",
      "\n"
     ]
    },
    {
     "data": {
      "application/vnd.jupyter.widget-view+json": {
       "model_id": "06ee6a1be30646eea5a03dee960db0f0",
       "version_major": 2,
       "version_minor": 0
      },
      "text/plain": [
       "HBox(children=(FloatProgress(value=0.0, max=151.0), HTML(value='')))"
      ]
     },
     "metadata": {},
     "output_type": "display_data"
    },
    {
     "name": "stdout",
     "output_type": "stream",
     "text": [
      "\n",
      "val 1/2: 0.9804288986050386 val 2/2: 0.11888403081407453\n"
     ]
    },
    {
     "data": {
      "application/vnd.jupyter.widget-view+json": {
       "model_id": "939d3ccfa17a4e38a28907ef2d8291ed",
       "version_major": 2,
       "version_minor": 0
      },
      "text/plain": [
       "HBox(children=(FloatProgress(value=0.0, max=1201.0), HTML(value='')))"
      ]
     },
     "metadata": {},
     "output_type": "display_data"
    },
    {
     "name": "stdout",
     "output_type": "stream",
     "text": [
      "[4,   200]  loss: 0.130 half accuracy: 0.984062 accuracy: 0.125\n",
      "[4,   400]  loss: 0.130 half accuracy: 0.980156 accuracy: 0.114\n",
      "[4,   600]  loss: 0.131 half accuracy: 0.980938 accuracy: 0.119\n",
      "[4,   800]  loss: 0.130 half accuracy: 0.980000 accuracy: 0.117\n",
      "[4,  1000]  loss: 0.129 half accuracy: 0.983281 accuracy: 0.117\n",
      "[4,  1200]  loss: 0.130 half accuracy: 0.984688 accuracy: 0.113\n",
      "\n"
     ]
    },
    {
     "data": {
      "application/vnd.jupyter.widget-view+json": {
       "model_id": "76e9913130a54cf984a8d83ed53135a1",
       "version_major": 2,
       "version_minor": 0
      },
      "text/plain": [
       "HBox(children=(FloatProgress(value=0.0, max=151.0), HTML(value='')))"
      ]
     },
     "metadata": {},
     "output_type": "display_data"
    },
    {
     "name": "stdout",
     "output_type": "stream",
     "text": [
      "\n",
      "val 1/2: 0.9823027274620029 val 2/2: 0.12075785967103893\n"
     ]
    },
    {
     "data": {
      "application/vnd.jupyter.widget-view+json": {
       "model_id": "a1357ffc30a24ae19ba68afd42c34a96",
       "version_major": 2,
       "version_minor": 0
      },
      "text/plain": [
       "HBox(children=(FloatProgress(value=0.0, max=1201.0), HTML(value='')))"
      ]
     },
     "metadata": {},
     "output_type": "display_data"
    },
    {
     "name": "stdout",
     "output_type": "stream",
     "text": [
      "[5,   200]  loss: 0.130 half accuracy: 0.979531 accuracy: 0.119\n",
      "[5,   400]  loss: 0.130 half accuracy: 0.981719 accuracy: 0.120\n",
      "[5,   600]  loss: 0.129 half accuracy: 0.980313 accuracy: 0.120\n",
      "[5,   800]  loss: 0.129 half accuracy: 0.982031 accuracy: 0.115\n",
      "[5,  1000]  loss: 0.128 half accuracy: 0.984062 accuracy: 0.118\n",
      "[5,  1200]  loss: 0.130 half accuracy: 0.980469 accuracy: 0.115\n",
      "\n"
     ]
    },
    {
     "data": {
      "application/vnd.jupyter.widget-view+json": {
       "model_id": "0f443113f8204a81a83c1e12a9c28421",
       "version_major": 2,
       "version_minor": 0
      },
      "text/plain": [
       "HBox(children=(FloatProgress(value=0.0, max=151.0), HTML(value='')))"
      ]
     },
     "metadata": {},
     "output_type": "display_data"
    },
    {
     "name": "stdout",
     "output_type": "stream",
     "text": [
      "\n",
      "val 1/2: 0.9758484280657922 val 2/2: 0.12325629814699146\n"
     ]
    },
    {
     "data": {
      "application/vnd.jupyter.widget-view+json": {
       "model_id": "e1d0d37ee4c04007a3126b2da58a5568",
       "version_major": 2,
       "version_minor": 0
      },
      "text/plain": [
       "HBox(children=(FloatProgress(value=0.0, max=1201.0), HTML(value='')))"
      ]
     },
     "metadata": {},
     "output_type": "display_data"
    },
    {
     "name": "stdout",
     "output_type": "stream",
     "text": [
      "[6,   200]  loss: 0.130 half accuracy: 0.980313 accuracy: 0.124\n",
      "[6,   400]  loss: 0.129 half accuracy: 0.980938 accuracy: 0.120\n",
      "[6,   600]  loss: 0.129 half accuracy: 0.983281 accuracy: 0.114\n",
      "[6,   800]  loss: 0.128 half accuracy: 0.981563 accuracy: 0.126\n",
      "[6,  1000]  loss: 0.131 half accuracy: 0.982500 accuracy: 0.117\n",
      "[6,  1200]  loss: 0.129 half accuracy: 0.983437 accuracy: 0.122\n",
      "\n"
     ]
    },
    {
     "data": {
      "application/vnd.jupyter.widget-view+json": {
       "model_id": "717ccc2a9a3946c1885b91f9d63476e2",
       "version_major": 2,
       "version_minor": 0
      },
      "text/plain": [
       "HBox(children=(FloatProgress(value=0.0, max=151.0), HTML(value='')))"
      ]
     },
     "metadata": {},
     "output_type": "display_data"
    },
    {
     "name": "stdout",
     "output_type": "stream",
     "text": [
      "\n",
      "val 1/2: 0.9814699146366854 val 2/2: 0.11805121798875702\n"
     ]
    },
    {
     "data": {
      "application/vnd.jupyter.widget-view+json": {
       "model_id": "65d32d0aec7d4a54b90a3f91a34f1912",
       "version_major": 2,
       "version_minor": 0
      },
      "text/plain": [
       "HBox(children=(FloatProgress(value=0.0, max=1201.0), HTML(value='')))"
      ]
     },
     "metadata": {},
     "output_type": "display_data"
    },
    {
     "name": "stdout",
     "output_type": "stream",
     "text": [
      "[7,   200]  loss: 0.129 half accuracy: 0.978281 accuracy: 0.123\n",
      "[7,   400]  loss: 0.129 half accuracy: 0.982344 accuracy: 0.120\n",
      "[7,   600]  loss: 0.130 half accuracy: 0.981094 accuracy: 0.115\n",
      "[7,   800]  loss: 0.128 half accuracy: 0.984531 accuracy: 0.121\n",
      "[7,  1000]  loss: 0.129 half accuracy: 0.982031 accuracy: 0.126\n",
      "[7,  1200]  loss: 0.128 half accuracy: 0.982656 accuracy: 0.128\n",
      "\n"
     ]
    },
    {
     "data": {
      "application/vnd.jupyter.widget-view+json": {
       "model_id": "5986b23575a5404f80272c8099a69b88",
       "version_major": 2,
       "version_minor": 0
      },
      "text/plain": [
       "HBox(children=(FloatProgress(value=0.0, max=151.0), HTML(value='')))"
      ]
     },
     "metadata": {},
     "output_type": "display_data"
    },
    {
     "name": "stdout",
     "output_type": "stream",
     "text": [
      "\n",
      "val 1/2: 0.9804288986050386 val 2/2: 0.12304809494066209\n"
     ]
    },
    {
     "data": {
      "application/vnd.jupyter.widget-view+json": {
       "model_id": "ce8f32439c0949a79532333509af04fa",
       "version_major": 2,
       "version_minor": 0
      },
      "text/plain": [
       "HBox(children=(FloatProgress(value=0.0, max=1201.0), HTML(value='')))"
      ]
     },
     "metadata": {},
     "output_type": "display_data"
    },
    {
     "name": "stdout",
     "output_type": "stream",
     "text": [
      "[8,   200]  loss: 0.128 half accuracy: 0.983594 accuracy: 0.123\n",
      "[8,   400]  loss: 0.130 half accuracy: 0.981250 accuracy: 0.116\n",
      "[8,   600]  loss: 0.129 half accuracy: 0.981250 accuracy: 0.127\n",
      "[8,   800]  loss: 0.128 half accuracy: 0.983125 accuracy: 0.127\n",
      "[8,  1000]  loss: 0.128 half accuracy: 0.982031 accuracy: 0.119\n",
      "[8,  1200]  loss: 0.128 half accuracy: 0.979688 accuracy: 0.126\n",
      "\n"
     ]
    },
    {
     "data": {
      "application/vnd.jupyter.widget-view+json": {
       "model_id": "76a95afdecbc4f5cbb01bff33930ef78",
       "version_major": 2,
       "version_minor": 0
      },
      "text/plain": [
       "HBox(children=(FloatProgress(value=0.0, max=151.0), HTML(value='')))"
      ]
     },
     "metadata": {},
     "output_type": "display_data"
    },
    {
     "name": "stdout",
     "output_type": "stream",
     "text": [
      "\n",
      "val 1/2: 0.9798042889860504 val 2/2: 0.12283989173433271\n"
     ]
    },
    {
     "data": {
      "application/vnd.jupyter.widget-view+json": {
       "model_id": "198059a93473434d9da57512905c4b3d",
       "version_major": 2,
       "version_minor": 0
      },
      "text/plain": [
       "HBox(children=(FloatProgress(value=0.0, max=1201.0), HTML(value='')))"
      ]
     },
     "metadata": {},
     "output_type": "display_data"
    },
    {
     "name": "stdout",
     "output_type": "stream",
     "text": [
      "[9,   200]  loss: 0.128 half accuracy: 0.983906 accuracy: 0.120\n",
      "[9,   400]  loss: 0.129 half accuracy: 0.985313 accuracy: 0.120\n",
      "[9,   600]  loss: 0.129 half accuracy: 0.981719 accuracy: 0.123\n",
      "[9,   800]  loss: 0.128 half accuracy: 0.981094 accuracy: 0.126\n",
      "[9,  1000]  loss: 0.128 half accuracy: 0.984531 accuracy: 0.121\n",
      "[9,  1200]  loss: 0.129 half accuracy: 0.983594 accuracy: 0.123\n",
      "\n"
     ]
    },
    {
     "data": {
      "application/vnd.jupyter.widget-view+json": {
       "model_id": "e31e907c4a7740dbb14f577f6541a6d9",
       "version_major": 2,
       "version_minor": 0
      },
      "text/plain": [
       "HBox(children=(FloatProgress(value=0.0, max=151.0), HTML(value='')))"
      ]
     },
     "metadata": {},
     "output_type": "display_data"
    },
    {
     "name": "stdout",
     "output_type": "stream",
     "text": [
      "\n",
      "val 1/2: 0.9791796793670623 val 2/2: 0.10889027691026441\n"
     ]
    },
    {
     "data": {
      "application/vnd.jupyter.widget-view+json": {
       "model_id": "a10642fd474d458bb29dca8af9c5b8c5",
       "version_major": 2,
       "version_minor": 0
      },
      "text/plain": [
       "HBox(children=(FloatProgress(value=0.0, max=1201.0), HTML(value='')))"
      ]
     },
     "metadata": {},
     "output_type": "display_data"
    },
    {
     "name": "stdout",
     "output_type": "stream",
     "text": [
      "[10,   200]  loss: 0.131 half accuracy: 0.981875 accuracy: 0.120\n",
      "[10,   400]  loss: 0.128 half accuracy: 0.980625 accuracy: 0.122\n",
      "[10,   600]  loss: 0.129 half accuracy: 0.981250 accuracy: 0.120\n",
      "[10,   800]  loss: 0.129 half accuracy: 0.982969 accuracy: 0.119\n",
      "[10,  1000]  loss: 0.129 half accuracy: 0.982187 accuracy: 0.127\n",
      "[10,  1200]  loss: 0.129 half accuracy: 0.984062 accuracy: 0.126\n",
      "\n"
     ]
    },
    {
     "data": {
      "application/vnd.jupyter.widget-view+json": {
       "model_id": "e4b6b0a51b8749b5bb0b0073aab5cd49",
       "version_major": 2,
       "version_minor": 0
      },
      "text/plain": [
       "HBox(children=(FloatProgress(value=0.0, max=151.0), HTML(value='')))"
      ]
     },
     "metadata": {},
     "output_type": "display_data"
    },
    {
     "name": "stdout",
     "output_type": "stream",
     "text": [
      "\n",
      "val 1/2: 0.9783468665417447 val 2/2: 0.12596293982927337\n"
     ]
    },
    {
     "data": {
      "application/vnd.jupyter.widget-view+json": {
       "model_id": "c60fe76bcb614c08b12b7d537d6087af",
       "version_major": 2,
       "version_minor": 0
      },
      "text/plain": [
       "HBox(children=(FloatProgress(value=0.0, max=1201.0), HTML(value='')))"
      ]
     },
     "metadata": {},
     "output_type": "display_data"
    },
    {
     "name": "stdout",
     "output_type": "stream",
     "text": [
      "[11,   200]  loss: 0.128 half accuracy: 0.982187 accuracy: 0.128\n",
      "[11,   400]  loss: 0.128 half accuracy: 0.983750 accuracy: 0.121\n",
      "[11,   600]  loss: 0.128 half accuracy: 0.985156 accuracy: 0.124\n",
      "[11,   800]  loss: 0.130 half accuracy: 0.980000 accuracy: 0.122\n",
      "[11,  1000]  loss: 0.128 half accuracy: 0.983281 accuracy: 0.122\n",
      "[11,  1200]  loss: 0.128 half accuracy: 0.983437 accuracy: 0.121\n",
      "\n"
     ]
    },
    {
     "data": {
      "application/vnd.jupyter.widget-view+json": {
       "model_id": "11629f8ab37f4c178ee240219037c399",
       "version_major": 2,
       "version_minor": 0
      },
      "text/plain": [
       "HBox(children=(FloatProgress(value=0.0, max=151.0), HTML(value='')))"
      ]
     },
     "metadata": {},
     "output_type": "display_data"
    },
    {
     "name": "stdout",
     "output_type": "stream",
     "text": [
      "\n",
      "val 1/2: 0.9810535082240267 val 2/2: 0.12721215906724964\n"
     ]
    },
    {
     "data": {
      "application/vnd.jupyter.widget-view+json": {
       "model_id": "6071c5c39ed24588a2d5d0b503d43931",
       "version_major": 2,
       "version_minor": 0
      },
      "text/plain": [
       "HBox(children=(FloatProgress(value=0.0, max=1201.0), HTML(value='')))"
      ]
     },
     "metadata": {},
     "output_type": "display_data"
    },
    {
     "name": "stdout",
     "output_type": "stream",
     "text": [
      "[12,   200]  loss: 0.128 half accuracy: 0.983281 accuracy: 0.119\n",
      "[12,   400]  loss: 0.128 half accuracy: 0.981719 accuracy: 0.125\n",
      "[12,   600]  loss: 0.128 half accuracy: 0.982500 accuracy: 0.123\n",
      "[12,   800]  loss: 0.129 half accuracy: 0.982031 accuracy: 0.125\n",
      "[12,  1000]  loss: 0.127 half accuracy: 0.980000 accuracy: 0.121\n",
      "[12,  1200]  loss: 0.128 half accuracy: 0.985625 accuracy: 0.126\n",
      "\n"
     ]
    },
    {
     "data": {
      "application/vnd.jupyter.widget-view+json": {
       "model_id": "9a051768c9ab48f981bbbe5acf7de104",
       "version_major": 2,
       "version_minor": 0
      },
      "text/plain": [
       "HBox(children=(FloatProgress(value=0.0, max=151.0), HTML(value='')))"
      ]
     },
     "metadata": {},
     "output_type": "display_data"
    },
    {
     "name": "stdout",
     "output_type": "stream",
     "text": [
      "\n",
      "val 1/2: 0.9820945242556736 val 2/2: 0.11867582760774516\n"
     ]
    },
    {
     "data": {
      "application/vnd.jupyter.widget-view+json": {
       "model_id": "2ccd505056e64141939067f11d37986c",
       "version_major": 2,
       "version_minor": 0
      },
      "text/plain": [
       "HBox(children=(FloatProgress(value=0.0, max=1201.0), HTML(value='')))"
      ]
     },
     "metadata": {},
     "output_type": "display_data"
    },
    {
     "name": "stdout",
     "output_type": "stream",
     "text": [
      "[13,   200]  loss: 0.128 half accuracy: 0.983906 accuracy: 0.119\n",
      "[13,   400]  loss: 0.128 half accuracy: 0.982344 accuracy: 0.122\n",
      "[13,   600]  loss: 0.128 half accuracy: 0.982500 accuracy: 0.131\n",
      "[13,   800]  loss: 0.127 half accuracy: 0.985469 accuracy: 0.121\n",
      "[13,  1000]  loss: 0.128 half accuracy: 0.981250 accuracy: 0.130\n",
      "[13,  1200]  loss: 0.128 half accuracy: 0.984688 accuracy: 0.126\n",
      "\n"
     ]
    },
    {
     "data": {
      "application/vnd.jupyter.widget-view+json": {
       "model_id": "64754c99c64549679527eb3a56c277a3",
       "version_major": 2,
       "version_minor": 0
      },
      "text/plain": [
       "HBox(children=(FloatProgress(value=0.0, max=151.0), HTML(value='')))"
      ]
     },
     "metadata": {},
     "output_type": "display_data"
    },
    {
     "name": "stdout",
     "output_type": "stream",
     "text": [
      "\n",
      "val 1/2: 0.9808453050176973 val 2/2: 0.12429731417863835\n"
     ]
    },
    {
     "data": {
      "application/vnd.jupyter.widget-view+json": {
       "model_id": "4f555c96775645959c68136e1ff477b3",
       "version_major": 2,
       "version_minor": 0
      },
      "text/plain": [
       "HBox(children=(FloatProgress(value=0.0, max=1201.0), HTML(value='')))"
      ]
     },
     "metadata": {},
     "output_type": "display_data"
    },
    {
     "name": "stdout",
     "output_type": "stream",
     "text": [
      "[14,   200]  loss: 0.128 half accuracy: 0.986563 accuracy: 0.132\n",
      "[14,   400]  loss: 0.128 half accuracy: 0.983125 accuracy: 0.125\n",
      "[14,   600]  loss: 0.127 half accuracy: 0.982187 accuracy: 0.120\n",
      "[14,   800]  loss: 0.129 half accuracy: 0.981406 accuracy: 0.135\n",
      "[14,  1000]  loss: 0.129 half accuracy: 0.983750 accuracy: 0.127\n",
      "[14,  1200]  loss: 0.128 half accuracy: 0.981563 accuracy: 0.120\n",
      "\n"
     ]
    },
    {
     "data": {
      "application/vnd.jupyter.widget-view+json": {
       "model_id": "85b27231624040dfb267ca4da5c4fdb3",
       "version_major": 2,
       "version_minor": 0
      },
      "text/plain": [
       "HBox(children=(FloatProgress(value=0.0, max=151.0), HTML(value='')))"
      ]
     },
     "metadata": {},
     "output_type": "display_data"
    },
    {
     "name": "stdout",
     "output_type": "stream",
     "text": [
      "\n",
      "val 1/2: 0.9789714761607329 val 2/2: 0.11805121798875702\n"
     ]
    },
    {
     "data": {
      "application/vnd.jupyter.widget-view+json": {
       "model_id": "66246871bdd64eaa9d3cbc6790290bd5",
       "version_major": 2,
       "version_minor": 0
      },
      "text/plain": [
       "HBox(children=(FloatProgress(value=0.0, max=1201.0), HTML(value='')))"
      ]
     },
     "metadata": {},
     "output_type": "display_data"
    },
    {
     "name": "stdout",
     "output_type": "stream",
     "text": [
      "[15,   200]  loss: 0.127 half accuracy: 0.980313 accuracy: 0.130\n",
      "[15,   400]  loss: 0.128 half accuracy: 0.982656 accuracy: 0.128\n",
      "[15,   600]  loss: 0.127 half accuracy: 0.983437 accuracy: 0.129\n",
      "[15,   800]  loss: 0.128 half accuracy: 0.984219 accuracy: 0.123\n",
      "[15,  1000]  loss: 0.128 half accuracy: 0.981875 accuracy: 0.126\n",
      "[15,  1200]  loss: 0.128 half accuracy: 0.982656 accuracy: 0.116\n",
      "\n"
     ]
    },
    {
     "data": {
      "application/vnd.jupyter.widget-view+json": {
       "model_id": "838c92a5f3b84c43b4f203c6882472e5",
       "version_major": 2,
       "version_minor": 0
      },
      "text/plain": [
       "HBox(children=(FloatProgress(value=0.0, max=151.0), HTML(value='')))"
      ]
     },
     "metadata": {},
     "output_type": "display_data"
    },
    {
     "name": "stdout",
     "output_type": "stream",
     "text": [
      "\n",
      "val 1/2: 0.9777222569227566 val 2/2: 0.11825942119508641\n"
     ]
    },
    {
     "data": {
      "application/vnd.jupyter.widget-view+json": {
       "model_id": "e1f8a339644944f5b110256d983c1ce1",
       "version_major": 2,
       "version_minor": 0
      },
      "text/plain": [
       "HBox(children=(FloatProgress(value=0.0, max=1201.0), HTML(value='')))"
      ]
     },
     "metadata": {},
     "output_type": "display_data"
    },
    {
     "name": "stdout",
     "output_type": "stream",
     "text": [
      "[16,   200]  loss: 0.127 half accuracy: 0.981406 accuracy: 0.119\n",
      "[16,   400]  loss: 0.127 half accuracy: 0.984062 accuracy: 0.117\n",
      "[16,   600]  loss: 0.127 half accuracy: 0.983750 accuracy: 0.122\n",
      "[16,   800]  loss: 0.128 half accuracy: 0.983594 accuracy: 0.122\n",
      "[16,  1000]  loss: 0.129 half accuracy: 0.980156 accuracy: 0.129\n",
      "[16,  1200]  loss: 0.128 half accuracy: 0.983281 accuracy: 0.129\n",
      "\n"
     ]
    },
    {
     "data": {
      "application/vnd.jupyter.widget-view+json": {
       "model_id": "d4c38d7123c549228866732765bb873e",
       "version_major": 2,
       "version_minor": 0
      },
      "text/plain": [
       "HBox(children=(FloatProgress(value=0.0, max=151.0), HTML(value='')))"
      ]
     },
     "metadata": {},
     "output_type": "display_data"
    },
    {
     "name": "stdout",
     "output_type": "stream",
     "text": [
      "\n",
      "val 1/2: 0.9777222569227566 val 2/2: 0.12263168852800334\n"
     ]
    },
    {
     "data": {
      "application/vnd.jupyter.widget-view+json": {
       "model_id": "2e43ac7a2d054c0ea1b9aa9c6abf9330",
       "version_major": 2,
       "version_minor": 0
      },
      "text/plain": [
       "HBox(children=(FloatProgress(value=0.0, max=1201.0), HTML(value='')))"
      ]
     },
     "metadata": {},
     "output_type": "display_data"
    },
    {
     "name": "stdout",
     "output_type": "stream",
     "text": [
      "[17,   200]  loss: 0.129 half accuracy: 0.982969 accuracy: 0.122\n",
      "[17,   400]  loss: 0.128 half accuracy: 0.983906 accuracy: 0.132\n",
      "[17,   600]  loss: 0.128 half accuracy: 0.985938 accuracy: 0.129\n",
      "[17,   800]  loss: 0.127 half accuracy: 0.982656 accuracy: 0.127\n",
      "[17,  1000]  loss: 0.127 half accuracy: 0.986094 accuracy: 0.125\n",
      "[17,  1200]  loss: 0.127 half accuracy: 0.986094 accuracy: 0.127\n",
      "\n"
     ]
    },
    {
     "data": {
      "application/vnd.jupyter.widget-view+json": {
       "model_id": "7cf4b08e069d48198a5c8473700f1222",
       "version_major": 2,
       "version_minor": 0
      },
      "text/plain": [
       "HBox(children=(FloatProgress(value=0.0, max=151.0), HTML(value='')))"
      ]
     },
     "metadata": {},
     "output_type": "display_data"
    },
    {
     "name": "stdout",
     "output_type": "stream",
     "text": [
      "\n",
      "val 1/2: 0.9781386633354153 val 2/2: 0.11680199875078076\n"
     ]
    },
    {
     "data": {
      "application/vnd.jupyter.widget-view+json": {
       "model_id": "f8d74680e069443fbfc990735f299b73",
       "version_major": 2,
       "version_minor": 0
      },
      "text/plain": [
       "HBox(children=(FloatProgress(value=0.0, max=1201.0), HTML(value='')))"
      ]
     },
     "metadata": {},
     "output_type": "display_data"
    },
    {
     "name": "stdout",
     "output_type": "stream",
     "text": [
      "[18,   200]  loss: 0.127 half accuracy: 0.984219 accuracy: 0.132\n",
      "[18,   400]  loss: 0.127 half accuracy: 0.982969 accuracy: 0.128\n",
      "[18,   600]  loss: 0.128 half accuracy: 0.983906 accuracy: 0.127\n",
      "[18,   800]  loss: 0.128 half accuracy: 0.981250 accuracy: 0.120\n",
      "[18,  1000]  loss: 0.128 half accuracy: 0.984375 accuracy: 0.119\n",
      "[18,  1200]  loss: 0.127 half accuracy: 0.986875 accuracy: 0.125\n",
      "\n"
     ]
    },
    {
     "data": {
      "application/vnd.jupyter.widget-view+json": {
       "model_id": "a88e568a207e4648a309fef36300fcb6",
       "version_major": 2,
       "version_minor": 0
      },
      "text/plain": [
       "HBox(children=(FloatProgress(value=0.0, max=151.0), HTML(value='')))"
      ]
     },
     "metadata": {},
     "output_type": "display_data"
    },
    {
     "name": "stdout",
     "output_type": "stream",
     "text": [
      "\n",
      "val 1/2: 0.9825109306683323 val 2/2: 0.12887778471788466\n"
     ]
    },
    {
     "data": {
      "application/vnd.jupyter.widget-view+json": {
       "model_id": "7d03bf770772478c870b8c1691722ed1",
       "version_major": 2,
       "version_minor": 0
      },
      "text/plain": [
       "HBox(children=(FloatProgress(value=0.0, max=1201.0), HTML(value='')))"
      ]
     },
     "metadata": {},
     "output_type": "display_data"
    },
    {
     "name": "stdout",
     "output_type": "stream",
     "text": [
      "[19,   200]  loss: 0.129 half accuracy: 0.984531 accuracy: 0.127\n",
      "[19,   400]  loss: 0.127 half accuracy: 0.983281 accuracy: 0.122\n",
      "[19,   600]  loss: 0.128 half accuracy: 0.982031 accuracy: 0.123\n",
      "[19,   800]  loss: 0.127 half accuracy: 0.983906 accuracy: 0.122\n",
      "[19,  1000]  loss: 0.128 half accuracy: 0.984375 accuracy: 0.123\n",
      "[19,  1200]  loss: 0.127 half accuracy: 0.985625 accuracy: 0.125\n",
      "\n"
     ]
    },
    {
     "data": {
      "application/vnd.jupyter.widget-view+json": {
       "model_id": "da75bdd914e8449589a9031ec9f461fa",
       "version_major": 2,
       "version_minor": 0
      },
      "text/plain": [
       "HBox(children=(FloatProgress(value=0.0, max=151.0), HTML(value='')))"
      ]
     },
     "metadata": {},
     "output_type": "display_data"
    },
    {
     "name": "stdout",
     "output_type": "stream",
     "text": [
      "\n",
      "val 1/2: 0.9798042889860504 val 2/2: 0.127420362273579\n"
     ]
    },
    {
     "data": {
      "application/vnd.jupyter.widget-view+json": {
       "model_id": "adcda9b3ba6c4a3bb57f49d8c2bb9050",
       "version_major": 2,
       "version_minor": 0
      },
      "text/plain": [
       "HBox(children=(FloatProgress(value=0.0, max=1201.0), HTML(value='')))"
      ]
     },
     "metadata": {},
     "output_type": "display_data"
    },
    {
     "name": "stdout",
     "output_type": "stream",
     "text": [
      "[20,   200]  loss: 0.127 half accuracy: 0.984062 accuracy: 0.121\n",
      "[20,   400]  loss: 0.126 half accuracy: 0.985000 accuracy: 0.121\n",
      "[20,   600]  loss: 0.128 half accuracy: 0.984531 accuracy: 0.132\n",
      "[20,   800]  loss: 0.126 half accuracy: 0.984844 accuracy: 0.123\n",
      "[20,  1000]  loss: 0.128 half accuracy: 0.984531 accuracy: 0.124\n",
      "[20,  1200]  loss: 0.128 half accuracy: 0.984688 accuracy: 0.124\n",
      "\n"
     ]
    },
    {
     "data": {
      "application/vnd.jupyter.widget-view+json": {
       "model_id": "101e0e2ff92049b2ac8cec7a75e96550",
       "version_major": 2,
       "version_minor": 0
      },
      "text/plain": [
       "HBox(children=(FloatProgress(value=0.0, max=151.0), HTML(value='')))"
      ]
     },
     "metadata": {},
     "output_type": "display_data"
    },
    {
     "name": "stdout",
     "output_type": "stream",
     "text": [
      "\n",
      "val 1/2: 0.9810535082240267 val 2/2: 0.13200083281282532\n"
     ]
    },
    {
     "data": {
      "application/vnd.jupyter.widget-view+json": {
       "model_id": "bad6317a57d74ec6b5d87bbc96df7e41",
       "version_major": 2,
       "version_minor": 0
      },
      "text/plain": [
       "HBox(children=(FloatProgress(value=0.0, max=1201.0), HTML(value='')))"
      ]
     },
     "metadata": {},
     "output_type": "display_data"
    },
    {
     "name": "stdout",
     "output_type": "stream",
     "text": [
      "[21,   200]  loss: 0.128 half accuracy: 0.980938 accuracy: 0.132\n",
      "[21,   400]  loss: 0.127 half accuracy: 0.983750 accuracy: 0.129\n",
      "[21,   600]  loss: 0.127 half accuracy: 0.986563 accuracy: 0.131\n",
      "[21,   800]  loss: 0.126 half accuracy: 0.982500 accuracy: 0.128\n",
      "[21,  1000]  loss: 0.128 half accuracy: 0.984844 accuracy: 0.118\n",
      "[21,  1200]  loss: 0.127 half accuracy: 0.983594 accuracy: 0.128\n",
      "\n"
     ]
    },
    {
     "data": {
      "application/vnd.jupyter.widget-view+json": {
       "model_id": "836f047bfa3140d6ac8601c522969811",
       "version_major": 2,
       "version_minor": 0
      },
      "text/plain": [
       "HBox(children=(FloatProgress(value=0.0, max=151.0), HTML(value='')))"
      ]
     },
     "metadata": {},
     "output_type": "display_data"
    },
    {
     "name": "stdout",
     "output_type": "stream",
     "text": [
      "\n",
      "val 1/2: 0.9814699146366854 val 2/2: 0.12179887570268583\n"
     ]
    },
    {
     "data": {
      "application/vnd.jupyter.widget-view+json": {
       "model_id": "21b38838ebe54a90b9d4f883b2dd76b6",
       "version_major": 2,
       "version_minor": 0
      },
      "text/plain": [
       "HBox(children=(FloatProgress(value=0.0, max=1201.0), HTML(value='')))"
      ]
     },
     "metadata": {},
     "output_type": "display_data"
    },
    {
     "name": "stdout",
     "output_type": "stream",
     "text": [
      "[22,   200]  loss: 0.128 half accuracy: 0.986094 accuracy: 0.122\n",
      "[22,   400]  loss: 0.128 half accuracy: 0.983594 accuracy: 0.129\n",
      "[22,   600]  loss: 0.127 half accuracy: 0.984688 accuracy: 0.130\n",
      "[22,   800]  loss: 0.127 half accuracy: 0.984062 accuracy: 0.122\n",
      "[22,  1000]  loss: 0.128 half accuracy: 0.982344 accuracy: 0.125\n",
      "[22,  1200]  loss: 0.128 half accuracy: 0.982812 accuracy: 0.128\n",
      "\n"
     ]
    },
    {
     "data": {
      "application/vnd.jupyter.widget-view+json": {
       "model_id": "d5ad5d6781fa4772bc9f07dc4106aba7",
       "version_major": 2,
       "version_minor": 0
      },
      "text/plain": [
       "HBox(children=(FloatProgress(value=0.0, max=151.0), HTML(value='')))"
      ]
     },
     "metadata": {},
     "output_type": "display_data"
    },
    {
     "name": "stdout",
     "output_type": "stream",
     "text": [
      "\n",
      "val 1/2: 0.976889444097439 val 2/2: 0.12283989173433271\n"
     ]
    },
    {
     "data": {
      "application/vnd.jupyter.widget-view+json": {
       "model_id": "2cf3a23660104669b72f4f8d14267037",
       "version_major": 2,
       "version_minor": 0
      },
      "text/plain": [
       "HBox(children=(FloatProgress(value=0.0, max=1201.0), HTML(value='')))"
      ]
     },
     "metadata": {},
     "output_type": "display_data"
    },
    {
     "name": "stdout",
     "output_type": "stream",
     "text": [
      "[23,   200]  loss: 0.128 half accuracy: 0.982187 accuracy: 0.124\n",
      "[23,   400]  loss: 0.127 half accuracy: 0.983437 accuracy: 0.129\n",
      "[23,   600]  loss: 0.127 half accuracy: 0.985938 accuracy: 0.133\n",
      "[23,   800]  loss: 0.127 half accuracy: 0.980938 accuracy: 0.132\n",
      "[23,  1000]  loss: 0.128 half accuracy: 0.984062 accuracy: 0.132\n",
      "[23,  1200]  loss: 0.127 half accuracy: 0.982969 accuracy: 0.128\n",
      "\n"
     ]
    },
    {
     "data": {
      "application/vnd.jupyter.widget-view+json": {
       "model_id": "24aadd17b7894ba981adbd6ba3ad2bcc",
       "version_major": 2,
       "version_minor": 0
      },
      "text/plain": [
       "HBox(children=(FloatProgress(value=0.0, max=151.0), HTML(value='')))"
      ]
     },
     "metadata": {},
     "output_type": "display_data"
    },
    {
     "name": "stdout",
     "output_type": "stream",
     "text": [
      "\n",
      "val 1/2: 0.9816781178430147 val 2/2: 0.11721840516343952\n"
     ]
    },
    {
     "data": {
      "application/vnd.jupyter.widget-view+json": {
       "model_id": "569cddcb3112482690377e96d0326ede",
       "version_major": 2,
       "version_minor": 0
      },
      "text/plain": [
       "HBox(children=(FloatProgress(value=0.0, max=1201.0), HTML(value='')))"
      ]
     },
     "metadata": {},
     "output_type": "display_data"
    },
    {
     "name": "stdout",
     "output_type": "stream",
     "text": [
      "[24,   200]  loss: 0.127 half accuracy: 0.985781 accuracy: 0.127\n",
      "[24,   400]  loss: 0.127 half accuracy: 0.984531 accuracy: 0.126\n",
      "[24,   600]  loss: 0.127 half accuracy: 0.982812 accuracy: 0.120\n",
      "[24,   800]  loss: 0.127 half accuracy: 0.983594 accuracy: 0.123\n",
      "[24,  1000]  loss: 0.127 half accuracy: 0.985469 accuracy: 0.128\n",
      "[24,  1200]  loss: 0.127 half accuracy: 0.983437 accuracy: 0.132\n",
      "\n"
     ]
    },
    {
     "data": {
      "application/vnd.jupyter.widget-view+json": {
       "model_id": "cf518726009d4cb7a5e2cd1824354a32",
       "version_major": 2,
       "version_minor": 0
      },
      "text/plain": [
       "HBox(children=(FloatProgress(value=0.0, max=151.0), HTML(value='')))"
      ]
     },
     "metadata": {},
     "output_type": "display_data"
    },
    {
     "name": "stdout",
     "output_type": "stream",
     "text": [
      "\n",
      "val 1/2: 0.9845929627316261 val 2/2: 0.1292941911305434\n"
     ]
    },
    {
     "data": {
      "application/vnd.jupyter.widget-view+json": {
       "model_id": "6fa9baee8d9546a399665dd0fe780149",
       "version_major": 2,
       "version_minor": 0
      },
      "text/plain": [
       "HBox(children=(FloatProgress(value=0.0, max=1201.0), HTML(value='')))"
      ]
     },
     "metadata": {},
     "output_type": "display_data"
    },
    {
     "ename": "KeyboardInterrupt",
     "evalue": "",
     "output_type": "error",
     "traceback": [
      "\u001b[0;31m---------------------------------------------------------------------------\u001b[0m",
      "\u001b[0;31mKeyboardInterrupt\u001b[0m                         Traceback (most recent call last)",
      "\u001b[0;32m<ipython-input-5-78be1fc3de84>\u001b[0m in \u001b[0;36m<module>\u001b[0;34m\u001b[0m\n\u001b[1;32m     10\u001b[0m     \u001b[0mhalf_accuracy\u001b[0m \u001b[0;34m=\u001b[0m \u001b[0;36m0.0\u001b[0m\u001b[0;34m\u001b[0m\u001b[0;34m\u001b[0m\u001b[0m\n\u001b[1;32m     11\u001b[0m     \u001b[0mrunning_accuracy\u001b[0m \u001b[0;34m=\u001b[0m \u001b[0;36m0.0\u001b[0m\u001b[0;34m\u001b[0m\u001b[0;34m\u001b[0m\u001b[0m\n\u001b[0;32m---> 12\u001b[0;31m     \u001b[0;32mfor\u001b[0m \u001b[0mbatch_idx\u001b[0m\u001b[0;34m,\u001b[0m \u001b[0;34m(\u001b[0m\u001b[0mfeatures\u001b[0m\u001b[0;34m,\u001b[0m \u001b[0mtarget\u001b[0m\u001b[0;34m)\u001b[0m \u001b[0;32min\u001b[0m \u001b[0menumerate\u001b[0m\u001b[0;34m(\u001b[0m\u001b[0mtqdm\u001b[0m\u001b[0;34m(\u001b[0m\u001b[0mtrainloader\u001b[0m\u001b[0;34m)\u001b[0m\u001b[0;34m)\u001b[0m\u001b[0;34m:\u001b[0m\u001b[0;34m\u001b[0m\u001b[0;34m\u001b[0m\u001b[0m\n\u001b[0m\u001b[1;32m     13\u001b[0m         \u001b[0moptimizer\u001b[0m\u001b[0;34m.\u001b[0m\u001b[0mzero_grad\u001b[0m\u001b[0;34m(\u001b[0m\u001b[0;34m)\u001b[0m\u001b[0;34m\u001b[0m\u001b[0;34m\u001b[0m\u001b[0m\n\u001b[1;32m     14\u001b[0m         \u001b[0mfeatures\u001b[0m\u001b[0;34m,\u001b[0m \u001b[0mtarget\u001b[0m \u001b[0;34m=\u001b[0m \u001b[0mfeatures\u001b[0m\u001b[0;34m.\u001b[0m\u001b[0mfloat\u001b[0m\u001b[0;34m(\u001b[0m\u001b[0;34m)\u001b[0m\u001b[0;34m.\u001b[0m\u001b[0mcuda\u001b[0m\u001b[0;34m(\u001b[0m\u001b[0mdevice\u001b[0m\u001b[0;34m)\u001b[0m\u001b[0;34m,\u001b[0m \u001b[0mtarget\u001b[0m\u001b[0;34m.\u001b[0m\u001b[0mfloat\u001b[0m\u001b[0;34m(\u001b[0m\u001b[0;34m)\u001b[0m\u001b[0;34m.\u001b[0m\u001b[0mcuda\u001b[0m\u001b[0;34m(\u001b[0m\u001b[0mdevice\u001b[0m\u001b[0;34m)\u001b[0m\u001b[0;34m\u001b[0m\u001b[0;34m\u001b[0m\u001b[0m\n",
      "\u001b[0;32m/ws/ifp-10_3/hasegawa/junzhez2/anaconda3/lib/python3.7/site-packages/tqdm/notebook.py\u001b[0m in \u001b[0;36m__iter__\u001b[0;34m(self, *args, **kwargs)\u001b[0m\n\u001b[1;32m    215\u001b[0m     \u001b[0;32mdef\u001b[0m \u001b[0m__iter__\u001b[0m\u001b[0;34m(\u001b[0m\u001b[0mself\u001b[0m\u001b[0;34m,\u001b[0m \u001b[0;34m*\u001b[0m\u001b[0margs\u001b[0m\u001b[0;34m,\u001b[0m \u001b[0;34m**\u001b[0m\u001b[0mkwargs\u001b[0m\u001b[0;34m)\u001b[0m\u001b[0;34m:\u001b[0m\u001b[0;34m\u001b[0m\u001b[0;34m\u001b[0m\u001b[0m\n\u001b[1;32m    216\u001b[0m         \u001b[0;32mtry\u001b[0m\u001b[0;34m:\u001b[0m\u001b[0;34m\u001b[0m\u001b[0;34m\u001b[0m\u001b[0m\n\u001b[0;32m--> 217\u001b[0;31m             \u001b[0;32mfor\u001b[0m \u001b[0mobj\u001b[0m \u001b[0;32min\u001b[0m \u001b[0msuper\u001b[0m\u001b[0;34m(\u001b[0m\u001b[0mtqdm_notebook\u001b[0m\u001b[0;34m,\u001b[0m \u001b[0mself\u001b[0m\u001b[0;34m)\u001b[0m\u001b[0;34m.\u001b[0m\u001b[0m__iter__\u001b[0m\u001b[0;34m(\u001b[0m\u001b[0;34m*\u001b[0m\u001b[0margs\u001b[0m\u001b[0;34m,\u001b[0m \u001b[0;34m**\u001b[0m\u001b[0mkwargs\u001b[0m\u001b[0;34m)\u001b[0m\u001b[0;34m:\u001b[0m\u001b[0;34m\u001b[0m\u001b[0;34m\u001b[0m\u001b[0m\n\u001b[0m\u001b[1;32m    218\u001b[0m                 \u001b[0;31m# return super(tqdm...) will not catch exception\u001b[0m\u001b[0;34m\u001b[0m\u001b[0;34m\u001b[0m\u001b[0;34m\u001b[0m\u001b[0m\n\u001b[1;32m    219\u001b[0m                 \u001b[0;32myield\u001b[0m \u001b[0mobj\u001b[0m\u001b[0;34m\u001b[0m\u001b[0;34m\u001b[0m\u001b[0m\n",
      "\u001b[0;32m/ws/ifp-10_3/hasegawa/junzhez2/anaconda3/lib/python3.7/site-packages/tqdm/std.py\u001b[0m in \u001b[0;36m__iter__\u001b[0;34m(self)\u001b[0m\n\u001b[1;32m   1105\u001b[0m                 fp_write=getattr(self.fp, 'write', sys.stderr.write))\n\u001b[1;32m   1106\u001b[0m \u001b[0;34m\u001b[0m\u001b[0m\n\u001b[0;32m-> 1107\u001b[0;31m         \u001b[0;32mfor\u001b[0m \u001b[0mobj\u001b[0m \u001b[0;32min\u001b[0m \u001b[0miterable\u001b[0m\u001b[0;34m:\u001b[0m\u001b[0;34m\u001b[0m\u001b[0;34m\u001b[0m\u001b[0m\n\u001b[0m\u001b[1;32m   1108\u001b[0m             \u001b[0;32myield\u001b[0m \u001b[0mobj\u001b[0m\u001b[0;34m\u001b[0m\u001b[0;34m\u001b[0m\u001b[0m\n\u001b[1;32m   1109\u001b[0m             \u001b[0;31m# Update and possibly print the progressbar.\u001b[0m\u001b[0;34m\u001b[0m\u001b[0;34m\u001b[0m\u001b[0;34m\u001b[0m\u001b[0m\n",
      "\u001b[0;32m/ws/ifp-10_3/hasegawa/junzhez2/anaconda3/lib/python3.7/site-packages/torch/utils/data/dataloader.py\u001b[0m in \u001b[0;36m__iter__\u001b[0;34m(self)\u001b[0m\n\u001b[1;32m    276\u001b[0m             \u001b[0;32mreturn\u001b[0m \u001b[0m_SingleProcessDataLoaderIter\u001b[0m\u001b[0;34m(\u001b[0m\u001b[0mself\u001b[0m\u001b[0;34m)\u001b[0m\u001b[0;34m\u001b[0m\u001b[0;34m\u001b[0m\u001b[0m\n\u001b[1;32m    277\u001b[0m         \u001b[0;32melse\u001b[0m\u001b[0;34m:\u001b[0m\u001b[0;34m\u001b[0m\u001b[0;34m\u001b[0m\u001b[0m\n\u001b[0;32m--> 278\u001b[0;31m             \u001b[0;32mreturn\u001b[0m \u001b[0m_MultiProcessingDataLoaderIter\u001b[0m\u001b[0;34m(\u001b[0m\u001b[0mself\u001b[0m\u001b[0;34m)\u001b[0m\u001b[0;34m\u001b[0m\u001b[0;34m\u001b[0m\u001b[0m\n\u001b[0m\u001b[1;32m    279\u001b[0m \u001b[0;34m\u001b[0m\u001b[0m\n\u001b[1;32m    280\u001b[0m     \u001b[0;34m@\u001b[0m\u001b[0mproperty\u001b[0m\u001b[0;34m\u001b[0m\u001b[0;34m\u001b[0m\u001b[0m\n",
      "\u001b[0;32m/ws/ifp-10_3/hasegawa/junzhez2/anaconda3/lib/python3.7/site-packages/torch/utils/data/dataloader.py\u001b[0m in \u001b[0;36m__init__\u001b[0;34m(self, loader)\u001b[0m\n\u001b[1;32m    665\u001b[0m         \u001b[0mself\u001b[0m\u001b[0;34m.\u001b[0m\u001b[0m_workers_status\u001b[0m \u001b[0;34m=\u001b[0m \u001b[0;34m[\u001b[0m\u001b[0;34m]\u001b[0m\u001b[0;34m\u001b[0m\u001b[0;34m\u001b[0m\u001b[0m\n\u001b[1;32m    666\u001b[0m         \u001b[0;32mfor\u001b[0m \u001b[0mi\u001b[0m \u001b[0;32min\u001b[0m \u001b[0mrange\u001b[0m\u001b[0;34m(\u001b[0m\u001b[0mself\u001b[0m\u001b[0;34m.\u001b[0m\u001b[0m_num_workers\u001b[0m\u001b[0;34m)\u001b[0m\u001b[0;34m:\u001b[0m\u001b[0;34m\u001b[0m\u001b[0;34m\u001b[0m\u001b[0m\n\u001b[0;32m--> 667\u001b[0;31m             \u001b[0mindex_queue\u001b[0m \u001b[0;34m=\u001b[0m \u001b[0mmultiprocessing_context\u001b[0m\u001b[0;34m.\u001b[0m\u001b[0mQueue\u001b[0m\u001b[0;34m(\u001b[0m\u001b[0;34m)\u001b[0m\u001b[0;34m\u001b[0m\u001b[0;34m\u001b[0m\u001b[0m\n\u001b[0m\u001b[1;32m    668\u001b[0m             \u001b[0;31m# index_queue.cancel_join_thread()\u001b[0m\u001b[0;34m\u001b[0m\u001b[0;34m\u001b[0m\u001b[0;34m\u001b[0m\u001b[0m\n\u001b[1;32m    669\u001b[0m             w = multiprocessing_context.Process(\n",
      "\u001b[0;32m/ws/ifp-10_3/hasegawa/junzhez2/anaconda3/lib/python3.7/multiprocessing/context.py\u001b[0m in \u001b[0;36mQueue\u001b[0;34m(self, maxsize)\u001b[0m\n\u001b[1;32m     99\u001b[0m     \u001b[0;32mdef\u001b[0m \u001b[0mQueue\u001b[0m\u001b[0;34m(\u001b[0m\u001b[0mself\u001b[0m\u001b[0;34m,\u001b[0m \u001b[0mmaxsize\u001b[0m\u001b[0;34m=\u001b[0m\u001b[0;36m0\u001b[0m\u001b[0;34m)\u001b[0m\u001b[0;34m:\u001b[0m\u001b[0;34m\u001b[0m\u001b[0;34m\u001b[0m\u001b[0m\n\u001b[1;32m    100\u001b[0m         \u001b[0;34m'''Returns a queue object'''\u001b[0m\u001b[0;34m\u001b[0m\u001b[0;34m\u001b[0m\u001b[0m\n\u001b[0;32m--> 101\u001b[0;31m         \u001b[0;32mfrom\u001b[0m \u001b[0;34m.\u001b[0m\u001b[0mqueues\u001b[0m \u001b[0;32mimport\u001b[0m \u001b[0mQueue\u001b[0m\u001b[0;34m\u001b[0m\u001b[0;34m\u001b[0m\u001b[0m\n\u001b[0m\u001b[1;32m    102\u001b[0m         \u001b[0;32mreturn\u001b[0m \u001b[0mQueue\u001b[0m\u001b[0;34m(\u001b[0m\u001b[0mmaxsize\u001b[0m\u001b[0;34m,\u001b[0m \u001b[0mctx\u001b[0m\u001b[0;34m=\u001b[0m\u001b[0mself\u001b[0m\u001b[0;34m.\u001b[0m\u001b[0mget_context\u001b[0m\u001b[0;34m(\u001b[0m\u001b[0;34m)\u001b[0m\u001b[0;34m)\u001b[0m\u001b[0;34m\u001b[0m\u001b[0;34m\u001b[0m\u001b[0m\n\u001b[1;32m    103\u001b[0m \u001b[0;34m\u001b[0m\u001b[0m\n",
      "\u001b[0;32m/ws/ifp-10_3/hasegawa/junzhez2/anaconda3/lib/python3.7/importlib/_bootstrap.py\u001b[0m in \u001b[0;36mparent\u001b[0;34m(self)\u001b[0m\n",
      "\u001b[0;31mKeyboardInterrupt\u001b[0m: "
     ]
    }
   ],
   "source": [
    "batch_size = 32\n",
    "trainloader = torch.utils.data.DataLoader(trainset, batch_size=batch_size, shuffle=True, pin_memory = True, num_workers = 16)\n",
    "valloader = torch.utils.data.DataLoader(valset, batch_size=batch_size, shuffle=True, pin_memory = True, num_workers = 16)\n",
    "\n",
    "criterion = focalKLD\n",
    "\n",
    "for epoch in range(64):\n",
    "    model.train()\n",
    "    running_loss = 0.0\n",
    "    half_accuracy = 0.0\n",
    "    running_accuracy = 0.0\n",
    "    for batch_idx, (features, target) in enumerate(tqdm(trainloader)):\n",
    "        optimizer.zero_grad()\n",
    "        features, target = features.float().cuda(device), target.float().cuda(device)\n",
    "        pred = model(features)\n",
    "        loss = criterion(pred, target)\n",
    "        loss.backward()\n",
    "        torch.nn.utils.clip_grad_norm_(model.parameters(), 0.5)\n",
    "        optimizer.step()\n",
    "        \n",
    "        pred = post_filter(pred)\n",
    "        running_loss += loss.item()\n",
    "        half_accuracy+= compute_corrects(pred, target)[0]/batch_size\n",
    "        running_accuracy += compute_corrects(pred, target)[1]/batch_size\n",
    "\n",
    "        \n",
    "        if batch_idx % 200 == 199:    # print every 2000 mini-batches\n",
    "            print('[%d, %5d]  loss: %.3f half accuracy: %3f accuracy: %.3f' % \n",
    "                  (epoch + 1, batch_idx + 1, running_loss / 200, half_accuracy/200, running_accuracy / 200))\n",
    "            torch.save({\n",
    "            'model_state_dict': model.state_dict(),\n",
    "            'optimizer_state_dict': optimizer.state_dict(),\n",
    "            'loss': running_loss,\n",
    "            }, 'models/Wang2018.pth')\n",
    "            running_loss = 0.0\n",
    "            half_accuracy = 0.0\n",
    "            running_accuracy = 0.0\n",
    "    \n",
    "    model.eval()\n",
    "    running_loss = 0.0\n",
    "    half_accuracy = 0.0\n",
    "    running_accuracy = 0.0\n",
    "    with torch.no_grad():\n",
    "        for batch_idx, (features, target) in enumerate(tqdm(valloader)):\n",
    "            features, target = features.float().cuda(device), target.float().cuda(device)\n",
    "            pred = model(features)\n",
    "            loss = criterion(pred, target)\n",
    "            \n",
    "            pred = post_filter(pred)\n",
    "            running_loss += loss.item()\n",
    "            half_accuracy+= compute_corrects(pred, target)[0]\n",
    "            running_accuracy += compute_corrects(pred, target)[1]\n",
    "\n",
    "        print('val 1/2:', half_accuracy/len(valset), 'val 2/2:', running_accuracy/len(valset))"
   ]
  },
  {
   "cell_type": "code",
   "execution_count": null,
   "metadata": {},
   "outputs": [
    {
     "data": {
      "application/vnd.jupyter.widget-view+json": {
       "model_id": "fe5c7d588e8a466fa2101da656c64411",
       "version_major": 2,
       "version_minor": 0
      },
      "text/plain": [
       "HBox(children=(FloatProgress(value=0.0, max=153.0), HTML(value='')))"
      ]
     },
     "metadata": {},
     "output_type": "display_data"
    }
   ],
   "source": [
    "testloader = torch.utils.data.DataLoader(testset, batch_size=batch_size, shuffle=True, pin_memory = True, num_workers = 16)\n",
    "acc = []\n",
    "torch.manual_seed(0)\n",
    "for i in range(5):\n",
    "    with torch.no_grad():\n",
    "        model.eval()\n",
    "        running_loss = 0.0\n",
    "        half_accuracy = 0.0\n",
    "        running_accuracy = 0.0\n",
    "        for batch_idx, (features, target) in enumerate(tqdm(testloader)):\n",
    "            features, target = features.float().cuda(device), target.float().cuda(device)\n",
    "            pred = model(features)\n",
    "            loss = criterion(pred, target)\n",
    "            \n",
    "            pred = post_filter(pred)\n",
    "            running_loss += loss.item()\n",
    "            half_accuracy+= compute_corrects(pred, target)[0]\n",
    "            running_accuracy += compute_corrects(pred, target)[1]\n",
    "\n",
    "        print('test 1/2:', half_accuracy/len(testset), 'val 2/2:', running_accuracy/len(testset))\n",
    "        acc.append(running_accuracy/len(testset))\n",
    "print(np.mean(acc))"
   ]
  },
  {
   "cell_type": "code",
   "execution_count": 12,
   "metadata": {},
   "outputs": [
    {
     "name": "stdout",
     "output_type": "stream",
     "text": [
      "[INFO] Register count_convNd() for <class 'torch.nn.modules.conv.Conv2d'>.\n",
      "[INFO] Register count_bn() for <class 'torch.nn.modules.batchnorm.BatchNorm2d'>.\n",
      "[INFO] Register zero_ops() for <class 'torch.nn.modules.activation.ReLU'>.\n",
      "[INFO] Register count_convNd() for <class 'torch.nn.modules.conv.Conv1d'>.\n",
      "\u001b[91m[WARN] Cannot find rule for <class 'torch.nn.modules.activation.Softmax'>. Treat it as zero Macs and zero Params.\u001b[00m\n",
      "\u001b[91m[WARN] Cannot find rule for <class '__main__.Wang2018'>. Treat it as zero Macs and zero Params.\u001b[00m\n",
      "0.146304872 1.362826\n"
     ]
    }
   ],
   "source": [
    "model.eval()\n",
    "from thop import profile\n",
    "model.cpu()\n",
    "feature, _ = trainset[0]\n",
    "feature = torch.Tensor(feature[None, ...])\n",
    "macs, params = profile(model, inputs=(feature, ))\n",
    "print(macs/10**9, params/10**6)"
   ]
  },
  {
   "cell_type": "code",
   "execution_count": null,
   "metadata": {},
   "outputs": [],
   "source": []
  }
 ],
 "metadata": {
  "kernelspec": {
   "display_name": "Python 3",
   "language": "python",
   "name": "python3"
  }
 },
 "nbformat": 4,
 "nbformat_minor": 4
}
