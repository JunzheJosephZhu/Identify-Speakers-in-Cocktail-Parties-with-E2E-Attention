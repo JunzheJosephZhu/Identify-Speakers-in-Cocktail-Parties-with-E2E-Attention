{
 "cells": [
  {
   "cell_type": "code",
   "execution_count": 3,
   "metadata": {},
   "outputs": [],
   "source": [
    "import librosa\n",
    "import IPython.display as ipd\n",
    "import matplotlib.pyplot as plt\n",
    "import numpy as np\n",
    "import torch\n",
    "import torch.nn as nn\n",
    "import torch.nn.functional as F\n",
    "import time\n",
    "import pandas as pd\n",
    "from collections import Counter\n",
    "import sys\n",
    "import os\n",
    "from tqdm.notebook import tqdm\n",
    "from librosa.core import resample\n",
    "EPS = 1e-8\n",
    "\n",
    "class Lambda(nn.Module):\n",
    "    def __init__(self, func):\n",
    "        super().__init__()\n",
    "        self.func = func\n",
    "\n",
    "    def forward(self, x):\n",
    "        return self.func(x)\n",
    "old_sr = 8000\n",
    "new_sr = 8000\n",
    "half = False\n",
    "root = '../'\n",
    "load = True\n",
    "\n",
    "device = 1\n",
    "device_ids = [0, 1, 2, 3]\n",
    "torch.cuda.set_device(device)"
   ]
  },
  {
   "cell_type": "code",
   "execution_count": 5,
   "metadata": {},
   "outputs": [
    {
     "data": {
      "text/plain": [
       "<matplotlib.image.AxesImage at 0x7f51a0463fd0>"
      ]
     },
     "execution_count": 5,
     "metadata": {},
     "output_type": "execute_result"
    },
    {
     "data": {
      "image/png": "[encoded data removed]",
      "text/plain": [
       "<Figure size 432x288 with 1 Axes>"
      ]
     },
     "metadata": {
      "needs_background": "light"
     },
     "output_type": "display_data"
    }
   ],
   "source": [
    "def make_features(segment):\n",
    "    S = librosa.feature.melspectrogram(y=segment, n_fft=512, hop_length=256, n_mels = 40)\n",
    "    #S = librosa.power_to_db(S)\n",
    "    S -= S.mean(axis = 1, keepdims = True)\n",
    "    return S\n",
    "\n",
    "def compute_energy(segment):\n",
    "    E = librosa.feature.rms(segment, frame_length=512, hop_length=256)\n",
    "    return E[0]\n",
    "\n",
    "class OverlayDataSet(torch.utils.data.Dataset):\n",
    "    def __init__(self, csv):\n",
    "        super().__init__()\n",
    "        self.segments = pd.read_csv(root+csv)\n",
    "        self.speakers = list(set(self.segments['speaker']))\n",
    "        self.speakers.sort()\n",
    "        self.spkr2idx = {spkr:i for i, spkr in enumerate(self.speakers)}\n",
    "\n",
    "    def __len__(self):\n",
    "        return len(self.segments)\n",
    "    def __getitem__(self, idx):\n",
    "        seg1 = self.segments.iloc[idx]\n",
    "        seg2 = self.segments.iloc[np.random.randint(len(self.segments))]\n",
    "        while(seg1['speaker']==seg2['speaker']):\n",
    "            seg2 = self.segments.iloc[np.random.randint(len(self.segments))]\n",
    "        seg3 = self.segments.iloc[np.random.randint(len(self.segments))]\n",
    "        while(seg3['speaker']==seg2['speaker'] or seg3['speaker']==seg1['speaker']):\n",
    "            seg3 = self.segments.iloc[np.random.randint(len(self.segments))]\n",
    "            \n",
    "        sig1 = np.load(root+seg1['segfile'])\n",
    "        sig2 = np.load(root+seg2['segfile'])\n",
    "        sig3 = np.load(root+seg3['segfile'])\n",
    "\n",
    "        E1 = compute_energy(sig1) # [n_frames]\n",
    "        E2 = compute_energy(sig2)\n",
    "        E3 = compute_energy(sig3)\n",
    "\n",
    "        out_vec = np.zeros((len(self.speakers), len(E1))) # [#spkrs, n_frames]\n",
    "        out_vec[self.spkr2idx[seg1['speaker']]] = E1/(E1+E2+E3)\n",
    "        out_vec[self.spkr2idx[seg2['speaker']]] = E2/(E1+E2+E3)\n",
    "        out_vec[self.spkr2idx[seg3['speaker']]] = E2/(E1+E2+E3)\n",
    "\n",
    "        S = make_features(sig1+sig2+sig3)\n",
    "\n",
    "        return S, out_vec\n",
    "\n",
    "\n",
    "#mean, std = compute_mean_std('overlay-train.csv')\n",
    "\n",
    "\n",
    "trainset = OverlayDataSet('train-segments.csv')\n",
    "valset = OverlayDataSet('val-segments.csv')\n",
    "testset = OverlayDataSet('test-segments.csv')\n",
    "features, vec = trainset[5]\n",
    "\n",
    "plt.imshow(features)"
   ]
  },
  {
   "cell_type": "code",
   "execution_count": 6,
   "metadata": {},
   "outputs": [],
   "source": [
    "class Wang2018(nn.Module):\n",
    "    def __init__(self):\n",
    "        super().__init__()\n",
    "        self.conv1 = nn.Conv2d(in_channels = 1, out_channels = 2, kernel_size = 5, padding=2, dilation=1)\n",
    "        self.bn1 = nn.BatchNorm2d(2)\n",
    "        self.conv2 = nn.Conv2d(in_channels = 2, out_channels = 4, kernel_size = 3, padding=1, dilation=1)\n",
    "        self.bn2 = nn.BatchNorm2d(4)\n",
    "        self.conv3 = nn.Conv2d(in_channels = 4, out_channels = 6, kernel_size = 3, padding=2, dilation=2)\n",
    "        self.bn3 = nn.BatchNorm2d(6)\n",
    "        # [batch_size, 6, 40, 128]\n",
    "        # reshape to : [batch_size, 6*40, 128]\n",
    "        self.relu = nn.ReLU()\n",
    "        self.fc = nn.Conv1d(6*40, 512, 11, padding = 5)\n",
    "        self.out = nn.Conv1d(512, 20, 1)\n",
    "        self.softmax = nn.Softmax(dim = 1)\n",
    "        #self.softmax = nn.Sigmoid()\n",
    "    def forward(self, X):\n",
    "        X = X.unsqueeze(dim = 1)\n",
    "        X = self.relu(self.bn1(self.conv1(X)))\n",
    "        X = self.relu(self.bn2(self.conv2(X)))\n",
    "        X = self.relu(self.bn3(self.conv3(X))) # [B, 6, H, W]\n",
    "        X = X.view(X.shape[0], -1, X.shape[-1]) # [B, 6*H, W]\n",
    "        X = self.fc(X) # [B, 512, W]\n",
    "        X = self.relu(X)\n",
    "        X = self.out(X)\n",
    "        X = self.softmax(X)\n",
    "        X = X.clamp(min = 1e-8)\n",
    "        return X\n",
    "    \n",
    "model = Wang2018().cuda(device)\n",
    "optimizer = torch.optim.Adam(model.parameters(), lr = 0.001)\n",
    "\n",
    "if load:\n",
    "    checkpoint = torch.load('models/Wang2018.pth')\n",
    "    model.load_state_dict(checkpoint['model_state_dict'])"
   ]
  },
  {
   "cell_type": "code",
   "execution_count": 9,
   "metadata": {},
   "outputs": [],
   "source": [
    "def find_max3(tensor):\n",
    "    array = tensor.cpu().detach().numpy()\n",
    "    max3 = []\n",
    "    for row in array:\n",
    "        max3.append(np.argsort(row)[::-1][:3])\n",
    "    return np.array(max3)\n",
    "\n",
    "def post_filter(pred):\n",
    "    # pred: [batch_size, 20, n_frames]\n",
    "    maxprob, _ = torch.max(pred, dim = 1, keepdim = True) # [batch_size, 1, n_frames]\n",
    "    beta = 2\n",
    "    frameweight = maxprob**beta # [batch_size, 1, n_frames]\n",
    "    pred *= frameweight # [batch_size, 20, n_frames]\n",
    "    pred = pred.mean(dim = 2) # [batch_size, 20]\n",
    "    return pred\n",
    "    \n",
    "def compute_corrects(tensor1, tensor2): # tensor 1 is pred[B, 20], tensor 2 is truth[B, 20, n_frmaes]\n",
    "    tensor2 = tensor2.mean(dim=2)\n",
    "    preds, truth = find_max3(tensor1), (tensor2>0).float().cpu().detach().numpy()\n",
    "    batch_size = preds.shape[0]\n",
    "    half_corrects = 0\n",
    "    corrects = 0\n",
    "    for i in range(batch_size):\n",
    "        if sum(truth[i][preds[i]]) >= 1:\n",
    "            half_corrects+=1\n",
    "        if sum(truth[i][preds[i]]) == 3:\n",
    "            corrects+=1\n",
    "    return half_corrects, corrects\n",
    "\n",
    "\n",
    "\n",
    "bce = torch.nn.BCELoss()\n",
    "def focalKLD(pred, target, size_average=True): # hasn't been debugged\n",
    "    # input : [batch_size, 20, n_frames]\n",
    "    # target: [batch_size, 20, n_frames]\n",
    "    alpha = 0.5\n",
    "    lamb = 2\n",
    "    CE = -target * torch.log(pred)# - (1-target) * torch.log(1-pred) # [batch_size, 20, n_frames]\n",
    "    decay = torch.sum(input = ((target>0).float()*pred)**lamb, dim = 1, keepdim = True) # [batch_size, 1, n_frames]\n",
    "    w = 1 + alpha - decay # [batch_size, 1, n_frames]\n",
    "    KLD = torch.mean(CE*w)\n",
    "    return KLD\n",
    "\n"
   ]
  },
  {
   "cell_type": "code",
   "execution_count": null,
   "metadata": {
    "scrolled": true
   },
   "outputs": [
    {
     "data": {
      "application/vnd.jupyter.widget-view+json": {
       "model_id": "16a8e88a2c5d42bebdacbf7e02eaa8a9",
       "version_major": 2,
       "version_minor": 0
      },
      "text/plain": [
       "HBox(children=(FloatProgress(value=0.0, max=1201.0), HTML(value='')))"
      ]
     },
     "metadata": {},
     "output_type": "display_data"
    },
    {
     "name": "stdout",
     "output_type": "stream",
     "text": [
      "[1,   200]  loss: 0.138 half accuracy: 0.975000 accuracy: 0.102\n",
      "[1,   400]  loss: 0.134 half accuracy: 0.978437 accuracy: 0.100\n",
      "[1,   600]  loss: 0.136 half accuracy: 0.976094 accuracy: 0.106\n"
     ]
    }
   ],
   "source": [
    "batch_size = 32\n",
    "trainloader = torch.utils.data.DataLoader(trainset, batch_size=batch_size, shuffle=True, pin_memory = True, num_workers = 16)\n",
    "valloader = torch.utils.data.DataLoader(valset, batch_size=batch_size, shuffle=True, pin_memory = True, num_workers = 16)\n",
    "\n",
    "criterion = focalKLD\n",
    "\n",
    "for epoch in range(64):\n",
    "    model.train()\n",
    "    running_loss = 0.0\n",
    "    half_accuracy = 0.0\n",
    "    running_accuracy = 0.0\n",
    "    for batch_idx, (features, target) in enumerate(tqdm(trainloader)):\n",
    "        optimizer.zero_grad()\n",
    "        features, target = features.float().cuda(device), target.float().cuda(device)\n",
    "        pred = model(features)\n",
    "        loss = criterion(pred, target)\n",
    "        loss.backward()\n",
    "        torch.nn.utils.clip_grad_norm_(model.parameters(), 0.5)\n",
    "        optimizer.step()\n",
    "        \n",
    "        pred = post_filter(pred)\n",
    "        running_loss += loss.item()\n",
    "        half_accuracy+= compute_corrects(pred, target)[0]/batch_size\n",
    "        running_accuracy += compute_corrects(pred, target)[1]/batch_size\n",
    "\n",
    "        \n",
    "        if batch_idx % 200 == 199:    # print every 2000 mini-batches\n",
    "            print('[%d, %5d]  loss: %.3f half accuracy: %3f accuracy: %.3f' % \n",
    "                  (epoch + 1, batch_idx + 1, running_loss / 200, half_accuracy/200, running_accuracy / 200))\n",
    "            torch.save({\n",
    "            'model_state_dict': model.state_dict(),\n",
    "            'optimizer_state_dict': optimizer.state_dict(),\n",
    "            'loss': running_loss,\n",
    "            }, 'models/Wang2018.pth')\n",
    "            running_loss = 0.0\n",
    "            half_accuracy = 0.0\n",
    "            running_accuracy = 0.0\n",
    "    \n",
    "    model.eval()\n",
    "    running_loss = 0.0\n",
    "    half_accuracy = 0.0\n",
    "    running_accuracy = 0.0\n",
    "    with torch.no_grad():\n",
    "        for batch_idx, (features, target) in enumerate(tqdm(valloader)):\n",
    "            features, target = features.float().cuda(device), target.float().cuda(device)\n",
    "            pred = model(features)\n",
    "            loss = criterion(pred, target)\n",
    "            \n",
    "            pred = post_filter(pred)\n",
    "            running_loss += loss.item()\n",
    "            half_accuracy+= compute_corrects(pred, target)[0]\n",
    "            running_accuracy += compute_corrects(pred, target)[1]\n",
    "\n",
    "        print('val 1/2:', half_accuracy/len(valset), 'val 2/2:', running_accuracy/len(valset))"
   ]
  },
  {
   "cell_type": "code",
   "execution_count": 9,
   "metadata": {},
   "outputs": [
    {
     "data": {
      "application/vnd.jupyter.widget-view+json": {
       "model_id": "43beeccac2f649928ff2d5d1d46c63f0",
       "version_major": 2,
       "version_minor": 0
      },
      "text/plain": [
       "HBox(children=(FloatProgress(value=0.0, max=153.0), HTML(value='')))"
      ]
     },
     "metadata": {},
     "output_type": "display_data"
    },
    {
     "name": "stdout",
     "output_type": "stream",
     "text": [
      "\n",
      "test 1/2: 0.9267294310274253 val 2/2: 0.32255423659435123\n"
     ]
    },
    {
     "data": {
      "application/vnd.jupyter.widget-view+json": {
       "model_id": "74266b91dd4e432a82359aee1d71521f",
       "version_major": 2,
       "version_minor": 0
      },
      "text/plain": [
       "HBox(children=(FloatProgress(value=0.0, max=153.0), HTML(value='')))"
      ]
     },
     "metadata": {},
     "output_type": "display_data"
    },
    {
     "name": "stdout",
     "output_type": "stream",
     "text": [
      "\n",
      "test 1/2: 0.9318460908718789 val 2/2: 0.3151862464183381\n"
     ]
    },
    {
     "data": {
      "application/vnd.jupyter.widget-view+json": {
       "model_id": "2c149b91df4743d6be06c011028eb237",
       "version_major": 2,
       "version_minor": 0
      },
      "text/plain": [
       "HBox(children=(FloatProgress(value=0.0, max=153.0), HTML(value='')))"
      ]
     },
     "metadata": {},
     "output_type": "display_data"
    },
    {
     "name": "stdout",
     "output_type": "stream",
     "text": [
      "\n",
      "test 1/2: 0.9314367580843226 val 2/2: 0.32214490380679495\n"
     ]
    },
    {
     "data": {
      "application/vnd.jupyter.widget-view+json": {
       "model_id": "9e397f19643a4b4b9227b8b58ca2c436",
       "version_major": 2,
       "version_minor": 0
      },
      "text/plain": [
       "HBox(children=(FloatProgress(value=0.0, max=153.0), HTML(value='')))"
      ]
     },
     "metadata": {},
     "output_type": "display_data"
    },
    {
     "name": "stdout",
     "output_type": "stream",
     "text": [
      "\n",
      "test 1/2: 0.9322554236594351 val 2/2: 0.32275890298812937\n"
     ]
    },
    {
     "data": {
      "application/vnd.jupyter.widget-view+json": {
       "model_id": "bde25a0beb384f2c807bb36c0e4b94b3",
       "version_major": 2,
       "version_minor": 0
      },
      "text/plain": [
       "HBox(children=(FloatProgress(value=0.0, max=153.0), HTML(value='')))"
      ]
     },
     "metadata": {},
     "output_type": "display_data"
    },
    {
     "name": "stdout",
     "output_type": "stream",
     "text": [
      "\n",
      "test 1/2: 0.9287760949652067 val 2/2: 0.3288988948014736\n"
     ]
    }
   ],
   "source": [
    "testloader = torch.utils.data.DataLoader(testset, batch_size=batch_size, shuffle=True, pin_memory = True, num_workers = 16)\n",
    "for i in range(5):\n",
    "    with torch.no_grad():\n",
    "        model.eval()\n",
    "        running_loss = 0.0\n",
    "        half_accuracy = 0.0\n",
    "        running_accuracy = 0.0\n",
    "        for batch_idx, (features, target) in enumerate(tqdm(testloader)):\n",
    "            features, target = features.float().cuda(device), target.float().cuda(device)\n",
    "            pred = model(features)\n",
    "            loss = criterion(pred, target)\n",
    "            \n",
    "            pred = post_filter(pred)\n",
    "            running_loss += loss.item()\n",
    "            half_accuracy+= compute_corrects(pred, target)[0]\n",
    "            running_accuracy += compute_corrects(pred, target)[1]\n",
    "\n",
    "        print('test 1/2:', half_accuracy/len(testset), 'val 2/2:', running_accuracy/len(testset))"
   ]
  },
  {
   "cell_type": "code",
   "execution_count": 12,
   "metadata": {},
   "outputs": [
    {
     "name": "stdout",
     "output_type": "stream",
     "text": [
      "[INFO] Register count_convNd() for <class 'torch.nn.modules.conv.Conv2d'>.\n",
      "[INFO] Register count_bn() for <class 'torch.nn.modules.batchnorm.BatchNorm2d'>.\n",
      "[INFO] Register zero_ops() for <class 'torch.nn.modules.activation.ReLU'>.\n",
      "[INFO] Register count_convNd() for <class 'torch.nn.modules.conv.Conv1d'>.\n",
      "\u001b[91m[WARN] Cannot find rule for <class 'torch.nn.modules.activation.Softmax'>. Treat it as zero Macs and zero Params.\u001b[00m\n",
      "\u001b[91m[WARN] Cannot find rule for <class '__main__.Wang2018'>. Treat it as zero Macs and zero Params.\u001b[00m\n",
      "0.146304872 1.362826\n"
     ]
    }
   ],
   "source": [
    "model.eval()\n",
    "from thop import profile\n",
    "model.cpu()\n",
    "feature, _ = trainset[0]\n",
    "feature = torch.Tensor(feature[None, ...])\n",
    "macs, params = profile(model, inputs=(feature, ))\n",
    "print(macs/10**9, params/10**6)"
   ]
  },
  {
   "cell_type": "code",
   "execution_count": null,
   "metadata": {},
   "outputs": [],
   "source": []
  }
 ],
 "metadata": {
  "kernelspec": {
   "display_name": "Python 3",
   "language": "python",
   "name": "python3"
  },
  "language_info": {
   "codemirror_mode": {
    "name": "ipython",
    "version": 3
   },
   "file_extension": ".py",
   "mimetype": "text/x-python",
   "name": "python",
   "nbconvert_exporter": "python",
   "pygments_lexer": "ipython3",
   "version": "3.7.6"
  }
 },
 "nbformat": 4,
 "nbformat_minor": 4
}
